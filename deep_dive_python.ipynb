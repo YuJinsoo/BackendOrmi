{
  "nbformat": 4,
  "nbformat_minor": 0,
  "metadata": {
    "colab": {
      "provenance": [],
      "toc_visible": true,
      "authorship_tag": "ABX9TyOTnr+nXisbji/84eskuGoq",
      "include_colab_link": true
    },
    "kernelspec": {
      "name": "python3",
      "display_name": "Python 3"
    },
    "language_info": {
      "name": "python"
    }
  },
  "cells": [
    {
      "cell_type": "markdown",
      "metadata": {
        "id": "view-in-github",
        "colab_type": "text"
      },
      "source": [
        "<a href=\"https://colab.research.google.com/github/YuJinsoo/BackendOrmi/blob/main/deep_dive_python.ipynb\" target=\"_parent\"><img src=\"https://colab.research.google.com/assets/colab-badge.svg\" alt=\"Open In Colab\"/></a>"
      ]
    },
    {
      "cell_type": "markdown",
      "source": [
        "# colab 사용법\n"
      ],
      "metadata": {
        "id": "ZVG7ABTausfj"
      }
    },
    {
      "cell_type": "markdown",
      "source": [
        "* MAC을 사용하는 경우 Ctrl 대신 Command입니다. Alt 대신 Option입니다.\n",
        "\n",
        "1. **실행 단축키**\n",
        "    1. (필수) `Ctrl(Command)` + `Enter` : 해당 셀 실행\n",
        "    2. `Shift` + `Enter` : 해당 셀 실행 + 커서를 다음 셀로 이동\n",
        "    3. (필수) `Alt(Option)` + `Enter` : 해당 셀 실행 + 코드 불록 하단 추가\n",
        "2. **셀 삽입/삭제 관련 단축키**\n",
        "    1. `Ctrl(Command)` + M A : 코드 셀 위에 삽입\n",
        "    2. `Ctrl(Command)` + M B : 코드 셀 아래 삽입\n",
        "    3. `Ctrl(Command)` + M D : 셀 지우기\n",
        "    4. `Ctrl(Command)` + M Y : 코드 셀로 변경\n",
        "    5. `Ctrl(Command)` + M M : 마크다운 셀로 변경\n",
        "    6. `Ctrl(Command)` + M Z : 실행 취소\n",
        "3. 수정 관련된 단축키\n",
        "    1. `Ctrl(Command)` + `Alt(Option)` + 화살표위아래 : 동시 수정\n",
        "    2. (자주) `Ctrl(Command)` + D : 같은 단어 찾아 동시 수정\n",
        "    3. `Ctrl(Command)` + `Shift` + L : 동일 단어를 전체로 찾아 동시 수정\n",
        "    4. `Alt(Option)` + `Shift` + 화살표위아래 : 해당내용을 위나 아래 복사해서 붙여넣기\n",
        "    5. `Alt(Option)` + 화살표위아래 : 해당 내용을 위나 아래로 보내기\n",
        "    6. (자주) `Ctrl(Command)` + `Alt(Option)` + 화살표위아래 : 위아래 동시 수정\n",
        "    7. (자주) Home, End : 문장의 양 끝\n",
        "    8. (필수) `Ctrl` + `/` : 주석\n",
        "    9. (필수) `Shift` + `Del` : 한 줄 지우기\n",
        "    10. (필수) `Tab`, `Ctrl` + `]` : 들여쓰기\n",
        "    11. (필수) `Shift` + `Tab`, `Ctrl` + `[` : 내어쓰기\n",
        "4. 단축키 보기 및 설정\n",
        "    1. `Ctrl(Command)` + M H : 단축키 모음"
      ],
      "metadata": {
        "id": "BpxVRpE5vhIE"
      }
    },
    {
      "cell_type": "markdown",
      "source": [
        "# 마크다운"
      ],
      "metadata": {
        "id": "Xl3s-oDox5Zs"
      }
    },
    {
      "cell_type": "markdown",
      "source": [
        "* 필수 마크다운\n",
        "\n",
        "    ```\n",
        "    # hello\n",
        "    ## hello\n",
        "    ### hello\n",
        "\n",
        "    1. hello\n",
        "    2. hello\n",
        "    3. hello\n",
        "\n",
        "    * hello\n",
        "    * hello\n",
        "    * hello\n",
        "    ```\n",
        "\n",
        "\n",
        "* 선택 마크다운(필수가 아니니 부담가지지마세요)\n",
        "\n",
        "    ```\n",
        "    # h1\n",
        "    ## h2\n",
        "    ### h3\n",
        "    #### h4\n",
        "    ##### h5\n",
        "    ###### h6\n",
        "\n",
        "    1. hello\n",
        "    2. hello\n",
        "    3. hello\n",
        "\n",
        "    * hello\n",
        "    * hello\n",
        "    * hello\n",
        "\n",
        "    - hello\n",
        "    - hello\n",
        "    - hello\n",
        "\n",
        "    __굵게__\n",
        "    **굵게**\n",
        "    _기울여 쓰기_\n",
        "    *기울여 쓰기*\n",
        "    ~취소선~\n",
        "    ~~취소선~~\n",
        "\n",
        "    > 인용문\n",
        "    [인라인 링크](https://velog.io)\n",
        "\n",
        "    ![이미지설명](이미지링크)\n",
        "\n",
        "    table은 markdown table generator사용해서 말들어주기\n",
        "    https://www.tablesgenerator.com/markdown_tables\n",
        "\n",
        "    체크박스 만드는 법\n",
        "    * [ ] hello\n",
        "    * [X] hello\n",
        "    ```"
      ],
      "metadata": {
        "id": "PwABpQsEyGe_"
      }
    },
    {
      "cell_type": "markdown",
      "source": [
        "# Python"
      ],
      "metadata": {
        "id": "C6iGFElu4DAm"
      }
    },
    {
      "cell_type": "code",
      "source": [
        "#행 단위 주석입니다.\n",
        "\n",
        "\"\"\"\n",
        "큰 따옴표로 세번 묶거나\n",
        "작은따옴표로 세번 묶으면\n",
        "열단위 주석이 됩니다.\n",
        "\"\"\"\n",
        "\n",
        "'''\n",
        "큰 따옴표로 세번 묶거나\n",
        "작은따옴표로 세번 묶으면\n",
        "열단위 주석이 됩니다.\n",
        "'''"
      ],
      "metadata": {
        "colab": {
          "base_uri": "https://localhost:8080/",
          "height": 35
        },
        "id": "hgiYEXmgyF6K",
        "outputId": "4abe9af4-6745-4b78-9133-f81981a9e0c3"
      },
      "execution_count": 4,
      "outputs": [
        {
          "output_type": "execute_result",
          "data": {
            "text/plain": [
              "'\\n큰 따옴표로 세번 묶거나\\n작은따옴표로 세번 묶으면\\n열단위 주석이 됩니다.\\n'"
            ],
            "application/vnd.google.colaboratory.intrinsic+json": {
              "type": "string"
            }
          },
          "metadata": {},
          "execution_count": 4
        }
      ]
    },
    {
      "cell_type": "code",
      "source": [
        "# 아래와 같이 열단위 주석으로 text 데이터를 넣을 수 도 있습니다.\n",
        "data='''\n",
        "큰 따옴표로 세번 묶거나\n",
        "작은따옴표로 세번 묶으면\n",
        "열단위 주석이 됩니다.\n",
        "'''\n",
        "data"
      ],
      "metadata": {
        "colab": {
          "base_uri": "https://localhost:8080/",
          "height": 35
        },
        "id": "w061JNS44qDN",
        "outputId": "778e5772-ce76-4fb6-c257-1eeae2481eb3"
      },
      "execution_count": 6,
      "outputs": [
        {
          "output_type": "execute_result",
          "data": {
            "text/plain": [
              "'\\n큰 따옴표로 세번 묶거나\\n작은따옴표로 세번 묶으면\\n열단위 주석이 됩니다.\\n'"
            ],
            "application/vnd.google.colaboratory.intrinsic+json": {
              "type": "string"
            }
          },
          "metadata": {},
          "execution_count": 6
        }
      ]
    },
    {
      "cell_type": "markdown",
      "source": [
        "* Code convention python\n",
        "* https://google.github.io/styleguide/\n",
        "* https://google.github.io/styleguide/pyguide.html"
      ],
      "metadata": {
        "id": "TpKlH7PC4798"
      }
    },
    {
      "cell_type": "code",
      "source": [
        "def connect_to_next_port(self, minimum: int) -> int:\n",
        "    \"\"\"Connects to the next available port.\n",
        "\n",
        "    Args:\n",
        "      minimum: A port value greater or equal to 1024.\n",
        "\n",
        "    Returns:\n",
        "      The new minimum port.\n",
        "\n",
        "    Raises:\n",
        "      ConnectionError: If no available port is found.\n",
        "    \"\"\"\n",
        "    if minimum < 1024:\n",
        "        # Note that this raising of ValueError is not mentioned in the doc\n",
        "        # string's \"Raises:\" section because it is not appropriate to\n",
        "        # guarantee this specific behavioral reaction to API misuse.\n",
        "        raise ValueError(f'Min. port must be at least 1024, not {minimum}.')\n",
        "    port = self._find_next_open_port(minimum)\n",
        "    if port is None:\n",
        "        raise ConnectionError(\n",
        "            f'Could not connect to service on port {minimum} or higher.')\n",
        "    assert port >= minimum, (\n",
        "        f'Unexpected port {port} when minimum was {minimum}.')\n",
        "    return port"
      ],
      "metadata": {
        "id": "hQ0v9cf55x54"
      },
      "execution_count": null,
      "outputs": []
    },
    {
      "cell_type": "code",
      "source": [
        "connect_to_next_port"
      ],
      "metadata": {
        "id": "tHR_YYjt6Fdw"
      },
      "execution_count": null,
      "outputs": []
    },
    {
      "cell_type": "code",
      "source": [
        "# 띄어쓰기 4칸 (tab(실제로는 스페이스 4칸과 다릅니다), 6칸, 7칸 등 다 작동함.)\n",
        "#"
      ],
      "metadata": {
        "id": "QeafQS4P6XaD"
      },
      "execution_count": 7,
      "outputs": []
    },
    {
      "cell_type": "code",
      "source": [
        "# 아래와 같이 탭과 띄어쓰기 4번을 혼용하시면 error가 납니다.\n",
        "for i in range(10):\n",
        "    print(i)\n",
        "    print('큰 따옴표로 세번 묶거나')"
      ],
      "metadata": {
        "id": "ecTMd_cg7Ip9"
      },
      "execution_count": null,
      "outputs": []
    },
    {
      "cell_type": "code",
      "source": [
        "a = 10     #int, 정수형\n",
        "b = 10.1   #float, 실수\n",
        "c = -1\n",
        "d = True   #bool, 논리형(부울형, 참거짓형)\n",
        "e = 'good'\n",
        "f = '10'   #str, 문자열\n",
        "g = 'kim'\n",
        "h = 'honggildong'\n",
        "i = 'example'\n",
        "j = 10 + 2j #complex, 복소수\n",
        "k = 0b110   #int, 2진법 \n",
        "l = 0o56    #int, 8진법\n",
        "m = 0xAC    #int, 16진법\n",
        "\n",
        "##########\n",
        "def hello():\n",
        "    return\n",
        "\n",
        "class A:\n",
        "    pass\n",
        "\n",
        "n = hello # function\n",
        "o = print # bulit-in function (https://docs.python.org/3/library/functions.html)\n",
        "p = lambda x:x**2 # function\n",
        "q = int # type\n",
        "r = A # class\n",
        "s = A() # instance\n",
        "##########\n",
        "\n",
        "print(f'type(10) : {type(a)}')\n",
        "print(f'type(10.1) : {type(b)}')\n",
        "print(f'type(-1) : {type(c)}')\n",
        "print(f'type(True) : {type(d)}')\n",
        "print(f'type(\\'good\\') : {type(e)}')\n",
        "print(f'type(\\'good\\'.upper) : {type(e.upper)}')\n",
        "print(f'\\'10\\' + \\'10\\' : {f + f}')\n",
        "print(f'\\'10\\' * 3 : {f * 3}')\n",
        "print(f'\\'hong\\' + \\'gildong\\' : {g + h}')\n",
        "print(f'type(\\'gildong\\') : {type(h)}')\n",
        "print(f'type(\\'gildong100!!\\') : {type(i)}')\n",
        "print(f'type(10 + 2j) : {type(j)}')\n",
        "print(f'type(0b110) : {type(k)}')\n",
        "print(k)\n",
        "print(f'type(0o56) : {type(i)}')\n",
        "print(i)\n",
        "print(f'type(0xAC) : {type(m)}')\n",
        "print(m)\n",
        "print(f'type(def func():...생략...) : {type(n)}')\n",
        "print(f'type(print) : {type(o)}')\n",
        "print(f'type(lambda x:x**2) : {type(p)}')\n",
        "print(f'type(int) : {type(int)}')"
      ],
      "metadata": {
        "colab": {
          "base_uri": "https://localhost:8080/"
        },
        "id": "EcUcF1Yx75kU",
        "outputId": "e504b272-f3c7-4822-ae57-14a2c6751c26"
      },
      "execution_count": 14,
      "outputs": [
        {
          "output_type": "stream",
          "name": "stdout",
          "text": [
            "type(10) : <class 'int'>\n",
            "type(10.1) : <class 'float'>\n",
            "type(-1) : <class 'int'>\n",
            "type(True) : <class 'bool'>\n",
            "type('good') : <class 'str'>\n",
            "type('good'.upper) : <class 'builtin_function_or_method'>\n",
            "'10' + '10' : 1010\n",
            "'10' * 3 : 101010\n",
            "'hong' + 'gildong' : kimhonggildong\n",
            "type('gildong') : <class 'str'>\n",
            "type('gildong100!!') : <class 'str'>\n",
            "type(10 + 2j) : <class 'complex'>\n",
            "type(0b110) : <class 'int'>\n",
            "6\n",
            "type(0o56) : <class 'str'>\n",
            "example\n",
            "type(0xAC) : <class 'int'>\n",
            "172\n",
            "type(def func():...생략...) : <class 'function'>\n",
            "type(print) : <class 'builtin_function_or_method'>\n",
            "type(lambda x:x**2) : <class 'function'>\n",
            "type(int) : <class 'type'>\n"
          ]
        }
      ]
    },
    {
      "cell_type": "code",
      "source": [
        "# escape 문자 (대부분의 언어에서 공통으로 처리함)\n",
        "# https://ko.wikipedia.org/wiki/%EC%9D%B4%EC%8A%A4%EC%BC%80%EC%9D%B4%ED%94%84_%EB%AC%B8%EC%9E%90\n",
        "print('hello \\n world')\n",
        "print('hello \\t world')\n",
        "print('hello \\' world')\n",
        "print('hello \\\" world')\n",
        "print('hello \\\\ world')"
      ],
      "metadata": {
        "colab": {
          "base_uri": "https://localhost:8080/"
        },
        "id": "t1_vdtYc-Rk4",
        "outputId": "2ed15212-b76a-4085-efe7-7df49bb953aa"
      },
      "execution_count": 20,
      "outputs": [
        {
          "output_type": "stream",
          "name": "stdout",
          "text": [
            "hello \n",
            " world\n",
            "hello \t world\n",
            "hello ' world\n",
            "hello \" world\n",
            "hello \\ world\n"
          ]
        }
      ]
    },
    {
      "cell_type": "code",
      "source": [
        "# type -> string\n",
        "hello = 10\n",
        "print(r'hello \\n world') # str -> raw 값으로 보줌. (Django 2.x까지 url parsing을 이렇게 사용함)\n",
        "print(f'hello \\n world {hello}') # f-string. python 3.6에서 등장. f-string을 사용하는 것을 추천함\n",
        "print('hello world {}'.format(hello)) # formating"
      ],
      "metadata": {
        "colab": {
          "base_uri": "https://localhost:8080/"
        },
        "id": "v_3Y_zXZ_uSI",
        "outputId": "8d51ba3f-0e0b-4826-d032-e82e94063c36"
      },
      "execution_count": 26,
      "outputs": [
        {
          "output_type": "stream",
          "name": "stdout",
          "text": [
            "hello \\n world\n",
            "hello \n",
            " world 10\n",
            "hello world 10\n"
          ]
        }
      ]
    },
    {
      "cell_type": "code",
      "source": [
        "# type -> float\n",
        "# 오일러의 수를 모른다 해서, 수학 연산이 약하다 해서 수업에 문제가 되지 않습니다.\n",
        "print(2.3e3) # 무리수, 오일러 수(2.718에 수렴, 파이가 3.14인 것처럼)\n",
        "print(2.3E3)\n",
        "\n",
        "2.3 * (10 ** 3)"
      ],
      "metadata": {
        "colab": {
          "base_uri": "https://localhost:8080/"
        },
        "id": "1pllQ5e3EZ6X",
        "outputId": "b3515007-9bf8-48d2-9173-898dfdf6d906"
      },
      "execution_count": 28,
      "outputs": [
        {
          "output_type": "stream",
          "name": "stdout",
          "text": [
            "2300.0\n",
            "2300.0\n"
          ]
        },
        {
          "output_type": "execute_result",
          "data": {
            "text/plain": [
              "2300.0"
            ]
          },
          "metadata": {},
          "execution_count": 28
        }
      ]
    },
    {
      "cell_type": "code",
      "source": [
        "print(2.3e-3) # 무리수, 오일러 수(2.718에 수렴, 파이가 3.14인 것처럼)\n",
        "print(2.3E-3)\n",
        "\n",
        "2.3 * (10 ** -3)"
      ],
      "metadata": {
        "colab": {
          "base_uri": "https://localhost:8080/"
        },
        "id": "Ru7GX5R4E3Kz",
        "outputId": "799b9753-d404-46bb-e0e5-8ca065b624f0"
      },
      "execution_count": 30,
      "outputs": [
        {
          "output_type": "stream",
          "name": "stdout",
          "text": [
            "0.0023\n",
            "0.0023\n"
          ]
        },
        {
          "output_type": "execute_result",
          "data": {
            "text/plain": [
              "0.0023"
            ]
          },
          "metadata": {},
          "execution_count": 30
        }
      ]
    },
    {
      "cell_type": "code",
      "source": [
        "type(2.3e-3)"
      ],
      "metadata": {
        "colab": {
          "base_uri": "https://localhost:8080/"
        },
        "id": "BXS1eS8HFQek",
        "outputId": "6b1faba4-001f-42bb-e385-e4b5aae7fcc4"
      },
      "execution_count": 31,
      "outputs": [
        {
          "output_type": "execute_result",
          "data": {
            "text/plain": [
              "float"
            ]
          },
          "metadata": {},
          "execution_count": 31
        }
      ]
    },
    {
      "cell_type": "code",
      "source": [
        "class A: # 자동차 공장\n",
        "    pass\n",
        "\n",
        "a = A #class\n",
        "b = A() #instance #자동차\n",
        "\n",
        "print(type(a))\n",
        "print(type(b))"
      ],
      "metadata": {
        "colab": {
          "base_uri": "https://localhost:8080/"
        },
        "id": "eBsMQCs0-2Tg",
        "outputId": "99045bc1-f393-4e2d-ce2c-52db040b5ced"
      },
      "execution_count": 21,
      "outputs": [
        {
          "output_type": "stream",
          "name": "stdout",
          "text": [
            "<class 'type'>\n",
            "<class '__main__.A'>\n"
          ]
        }
      ]
    },
    {
      "cell_type": "code",
      "source": [
        "# 변수를 처음 만나시면 type, dir을 해봅니다.\n",
        "# type를 찍으면 검색 키워드를 알 수 있습니다.\n",
        "# dir을 찍으면 속성을 알 수 있습니다.\n",
        "type(a)"
      ],
      "metadata": {
        "colab": {
          "base_uri": "https://localhost:8080/"
        },
        "id": "V9TA-6p38pdE",
        "outputId": "ebbce35b-ae52-4d3f-f049-f6239494254a"
      },
      "execution_count": 15,
      "outputs": [
        {
          "output_type": "execute_result",
          "data": {
            "text/plain": [
              "int"
            ]
          },
          "metadata": {},
          "execution_count": 15
        }
      ]
    },
    {
      "cell_type": "code",
      "source": [
        "print(type(a))"
      ],
      "metadata": {
        "colab": {
          "base_uri": "https://localhost:8080/"
        },
        "id": "8BNmlVb38s1E",
        "outputId": "cc712828-4ebe-4661-b009-359c05f575da"
      },
      "execution_count": 17,
      "outputs": [
        {
          "output_type": "stream",
          "name": "stdout",
          "text": [
            "<class 'int'>\n"
          ]
        }
      ]
    },
    {
      "cell_type": "code",
      "source": [
        "dir(a)"
      ],
      "metadata": {
        "colab": {
          "base_uri": "https://localhost:8080/"
        },
        "id": "hFfOYh1B8ny1",
        "outputId": "40e539f5-6c65-4752-b2ad-864d4726f0b2"
      },
      "execution_count": 22,
      "outputs": [
        {
          "output_type": "execute_result",
          "data": {
            "text/plain": [
              "['__class__',\n",
              " '__delattr__',\n",
              " '__dict__',\n",
              " '__dir__',\n",
              " '__doc__',\n",
              " '__eq__',\n",
              " '__format__',\n",
              " '__ge__',\n",
              " '__getattribute__',\n",
              " '__gt__',\n",
              " '__hash__',\n",
              " '__init__',\n",
              " '__init_subclass__',\n",
              " '__le__',\n",
              " '__lt__',\n",
              " '__module__',\n",
              " '__ne__',\n",
              " '__new__',\n",
              " '__reduce__',\n",
              " '__reduce_ex__',\n",
              " '__repr__',\n",
              " '__setattr__',\n",
              " '__sizeof__',\n",
              " '__str__',\n",
              " '__subclasshook__',\n",
              " '__weakref__']"
            ]
          },
          "metadata": {},
          "execution_count": 22
        }
      ]
    },
    {
      "cell_type": "code",
      "source": [
        "# 실무에서 자주 사용하는 구문\n",
        "type(10)\n",
        "type(10) == int\n",
        "type(10.1) == float"
      ],
      "metadata": {
        "colab": {
          "base_uri": "https://localhost:8080/"
        },
        "id": "0BfEgIPbFWuo",
        "outputId": "6d437ee4-df18-45f7-b093-5c249d974608"
      },
      "execution_count": 34,
      "outputs": [
        {
          "output_type": "execute_result",
          "data": {
            "text/plain": [
              "True"
            ]
          },
          "metadata": {},
          "execution_count": 34
        }
      ]
    },
    {
      "cell_type": "code",
      "source": [
        "# 위만큼 자주 사용하지는 않지만 자주 사용하는 타입 확인 코드\n",
        "a =10\n",
        "isinstance(a, int)\n",
        "isinstance(a, float)"
      ],
      "metadata": {
        "colab": {
          "base_uri": "https://localhost:8080/"
        },
        "id": "JsNSgy61FlLj",
        "outputId": "333c542a-3731-426d-83e0-d902b088e5aa"
      },
      "execution_count": 36,
      "outputs": [
        {
          "output_type": "execute_result",
          "data": {
            "text/plain": [
              "True"
            ]
          },
          "metadata": {},
          "execution_count": 36
        }
      ]
    },
    {
      "cell_type": "markdown",
      "source": [
        "## 변수"
      ],
      "metadata": {
        "id": "L1uQwMerF3TF"
      }
    },
    {
      "cell_type": "code",
      "source": [
        "# CS 변수는 포스트잇\n",
        "# 메모리 공간을 가리킵니다.\n",
        "\n",
        "# x라는 포스트잇도 붙였지만\n",
        "# y라는 포스트잇도 붙여져 있는 것입니다.\n",
        "x = 10\n",
        "y = 10\n",
        "\n",
        "id(x), id(y) # id는 누구를 가리키고 있는지 그 주소값을 반환합니다."
      ],
      "metadata": {
        "colab": {
          "base_uri": "https://localhost:8080/"
        },
        "id": "CPbfRW7IF9Zf",
        "outputId": "0857aa60-5fd0-4c40-944c-afedb3a190e9"
      },
      "execution_count": 38,
      "outputs": [
        {
          "output_type": "execute_result",
          "data": {
            "text/plain": [
              "(140570220790288, 140570220790288)"
            ]
          },
          "metadata": {},
          "execution_count": 38
        }
      ]
    },
    {
      "cell_type": "code",
      "source": [
        "x is y"
      ],
      "metadata": {
        "colab": {
          "base_uri": "https://localhost:8080/"
        },
        "id": "y-RSxuL6HNGM",
        "outputId": "21c34b76-25f9-4df5-8403-f4a112799edb"
      },
      "execution_count": 40,
      "outputs": [
        {
          "output_type": "execute_result",
          "data": {
            "text/plain": [
              "True"
            ]
          },
          "metadata": {},
          "execution_count": 40
        }
      ]
    },
    {
      "cell_type": "code",
      "source": [
        "# -5 ~ 256 까지 메모리에 미리 할당해두고 사용함!\n",
        "x = 257\n",
        "y = 257\n",
        "\n",
        "id(x), id(y), x is y # id는 누구를 가리키고 있는지 그 주소값을 반환합니다."
      ],
      "metadata": {
        "colab": {
          "base_uri": "https://localhost:8080/"
        },
        "id": "OjqHdnOtHT2E",
        "outputId": "c7fdc52e-43ac-41f0-c93f-584f274b54b4"
      },
      "execution_count": 43,
      "outputs": [
        {
          "output_type": "execute_result",
          "data": {
            "text/plain": [
              "(140568974617712, 140568974619248, False)"
            ]
          },
          "metadata": {},
          "execution_count": 43
        }
      ]
    },
    {
      "cell_type": "code",
      "source": [
        "# Python은 자체적으로 속도를 높이기 위한 \n",
        "# 여러가지 노력들을 해왔습니다.\n",
        "# (아래 언급한 것 말고도 각각의 자료형에서 메모리를 효율적으로 관리하기 위한 노력들을 말씀드리겠습니다.)\n",
        "# 구버전도 말씀을 드릴 것인데 이유는 여러분이 실무에가서 접할 환경이 최신 버전이 아니기 때문입니다.\n",
        "# 야xx의 경우에는 Django 1.x, python 2.x를 사용하고 있어요. \n",
        "# 대부분의 기업들이 한 번 구축해놓은 시스템은 바꾸기가 쉽지 않습니다.\n",
        "\n",
        "\n",
        "# 그래서 -5 ~ 256은 먼저 메모리에 적재를 합니다."
      ],
      "metadata": {
        "id": "1mwVF1U0H5bD"
      },
      "execution_count": 46,
      "outputs": []
    },
    {
      "cell_type": "code",
      "source": [
        "x = -5\n",
        "y = -5\n",
        "\n",
        "id(x), id(y), x is y # id는 누구를 가리키고 있는지 그 주소값을 반환합니다."
      ],
      "metadata": {
        "colab": {
          "base_uri": "https://localhost:8080/"
        },
        "id": "WUsAZaDbIRA0",
        "outputId": "cce89dc4-d350-4e76-b14f-43415bf5b91b"
      },
      "execution_count": 48,
      "outputs": [
        {
          "output_type": "execute_result",
          "data": {
            "text/plain": [
              "(140570220789808, 140570220789808, True)"
            ]
          },
          "metadata": {},
          "execution_count": 48
        }
      ]
    },
    {
      "cell_type": "markdown",
      "source": [
        "* 변수의 타입이란 무엇인가?\n",
        "* 변수의 타입은 왜 있는 것일까?\n",
        "* 어떤 고민을 통해 변수의 속성을 정했을까?"
      ],
      "metadata": {
        "id": "kB-cHMiQIt24"
      }
    },
    {
      "cell_type": "code",
      "source": [
        "'a' + 'a'"
      ],
      "metadata": {
        "colab": {
          "base_uri": "https://localhost:8080/",
          "height": 35
        },
        "id": "bGK8HXssI9ne",
        "outputId": "f70e70a3-4d21-471a-c26c-835be33a0c9e"
      },
      "execution_count": 49,
      "outputs": [
        {
          "output_type": "execute_result",
          "data": {
            "text/plain": [
              "'aa'"
            ],
            "application/vnd.google.colaboratory.intrinsic+json": {
              "type": "string"
            }
          },
          "metadata": {},
          "execution_count": 49
        }
      ]
    },
    {
      "cell_type": "code",
      "source": [
        "# 왜 이어 붙였지?\n",
        "# 컴퓨터 입장에서 a 는 97(인간이 보는 숫자) -> 0ㅌ61 결국 숫자!\n"
      ],
      "metadata": {
        "id": "hG6qZS9wJA1j"
      },
      "execution_count": 50,
      "outputs": []
    },
    {
      "cell_type": "code",
      "source": [
        "# cpython -> 이어 붙이라고 정의가 되어있어서!\n",
        "# 사회 통념적인 약속 -> 코드로 구현\n",
        "# type, dir\n",
        "# 이러한 약속들은 매직메서드(__init__ ...)를 통해 구현하게 됩니다."
      ],
      "metadata": {
        "id": "zllGX-JjJjS_"
      },
      "execution_count": null,
      "outputs": []
    },
    {
      "cell_type": "markdown",
      "source": [
        "## 변수의 속성 변경"
      ],
      "metadata": {
        "id": "Vg4hc3UwJ74P"
      }
    },
    {
      "cell_type": "code",
      "source": [
        "'10' + '10'"
      ],
      "metadata": {
        "colab": {
          "base_uri": "https://localhost:8080/",
          "height": 35
        },
        "id": "1ZMDwUQQKHLC",
        "outputId": "d0bd291e-233e-48f1-aefb-a741ca79cb96"
      },
      "execution_count": 51,
      "outputs": [
        {
          "output_type": "execute_result",
          "data": {
            "text/plain": [
              "'1010'"
            ],
            "application/vnd.google.colaboratory.intrinsic+json": {
              "type": "string"
            }
          },
          "metadata": {},
          "execution_count": 51
        }
      ]
    },
    {
      "cell_type": "code",
      "source": [
        " # str 변수를 int로 형변환해서 더함\n",
        "int('10') + int('10')"
      ],
      "metadata": {
        "colab": {
          "base_uri": "https://localhost:8080/"
        },
        "id": "EYusL_YEKCse",
        "outputId": "8c0251ba-9fc7-44db-9617-1c5571e2814a"
      },
      "execution_count": 54,
      "outputs": [
        {
          "output_type": "execute_result",
          "data": {
            "text/plain": [
              "20"
            ]
          },
          "metadata": {},
          "execution_count": 54
        }
      ]
    },
    {
      "cell_type": "code",
      "source": [
        "# point!!\n",
        "# class가 중요한 게 아니라 이러한 '약속'을 우리가 변경할 수 있다!! 는 것이 중요함\n",
        "class int(int):\n",
        "    def __add__(self, a):\n",
        "        return 'leehojun'\n",
        "\n",
        "int('10') + int('10')"
      ],
      "metadata": {
        "colab": {
          "base_uri": "https://localhost:8080/",
          "height": 35
        },
        "id": "7Ssk7mzpKRiU",
        "outputId": "4e101be7-c33e-4f1d-98ff-0b91ed00d10b"
      },
      "execution_count": 55,
      "outputs": [
        {
          "output_type": "execute_result",
          "data": {
            "text/plain": [
              "'leehojun'"
            ],
            "application/vnd.google.colaboratory.intrinsic+json": {
              "type": "string"
            }
          },
          "metadata": {},
          "execution_count": 55
        }
      ]
    },
    {
      "cell_type": "code",
      "source": [
        "class int(int):\n",
        "    def __add__(self, a):\n",
        "        return self * a\n",
        "        \n",
        "int('10') + int('10')"
      ],
      "metadata": {
        "colab": {
          "base_uri": "https://localhost:8080/"
        },
        "id": "UGY7ioORKsW_",
        "outputId": "f71ade41-0b89-4e19-d226-fdcda0f96f43"
      },
      "execution_count": 58,
      "outputs": [
        {
          "output_type": "execute_result",
          "data": {
            "text/plain": [
              "100"
            ]
          },
          "metadata": {},
          "execution_count": 58
        }
      ]
    },
    {
      "cell_type": "code",
      "source": [
        "dir(10)\n",
        "# __ 없는 함수는 편의기능? 이라고 생각하면 됨. 추가할수있음"
      ],
      "metadata": {
        "colab": {
          "base_uri": "https://localhost:8080/"
        },
        "id": "DuX1uev9K5BT",
        "outputId": "6a348ca5-bad4-4790-bd18-14e38ad866f2"
      },
      "execution_count": 57,
      "outputs": [
        {
          "output_type": "execute_result",
          "data": {
            "text/plain": [
              "['__abs__',\n",
              " '__add__',\n",
              " '__and__',\n",
              " '__bool__',\n",
              " '__ceil__',\n",
              " '__class__',\n",
              " '__delattr__',\n",
              " '__dir__',\n",
              " '__divmod__',\n",
              " '__doc__',\n",
              " '__eq__',\n",
              " '__float__',\n",
              " '__floor__',\n",
              " '__floordiv__',\n",
              " '__format__',\n",
              " '__ge__',\n",
              " '__getattribute__',\n",
              " '__getnewargs__',\n",
              " '__gt__',\n",
              " '__hash__',\n",
              " '__index__',\n",
              " '__init__',\n",
              " '__init_subclass__',\n",
              " '__int__',\n",
              " '__invert__',\n",
              " '__le__',\n",
              " '__lshift__',\n",
              " '__lt__',\n",
              " '__mod__',\n",
              " '__mul__',\n",
              " '__ne__',\n",
              " '__neg__',\n",
              " '__new__',\n",
              " '__or__',\n",
              " '__pos__',\n",
              " '__pow__',\n",
              " '__radd__',\n",
              " '__rand__',\n",
              " '__rdivmod__',\n",
              " '__reduce__',\n",
              " '__reduce_ex__',\n",
              " '__repr__',\n",
              " '__rfloordiv__',\n",
              " '__rlshift__',\n",
              " '__rmod__',\n",
              " '__rmul__',\n",
              " '__ror__',\n",
              " '__round__',\n",
              " '__rpow__',\n",
              " '__rrshift__',\n",
              " '__rshift__',\n",
              " '__rsub__',\n",
              " '__rtruediv__',\n",
              " '__rxor__',\n",
              " '__setattr__',\n",
              " '__sizeof__',\n",
              " '__str__',\n",
              " '__sub__',\n",
              " '__subclasshook__',\n",
              " '__truediv__',\n",
              " '__trunc__',\n",
              " '__xor__',\n",
              " 'as_integer_ratio',\n",
              " 'bit_count',\n",
              " 'bit_length',\n",
              " 'conjugate',\n",
              " 'denominator',\n",
              " 'from_bytes',\n",
              " 'imag',\n",
              " 'numerator',\n",
              " 'real',\n",
              " 'to_bytes']"
            ]
          },
          "metadata": {},
          "execution_count": 57
        }
      ]
    },
    {
      "cell_type": "code",
      "source": [
        "class int(int):\n",
        "    def 제곱(self, 승수):\n",
        "        return self ** 승수\n",
        "        \n",
        "value = int('10')\n",
        "print(dir(value))"
      ],
      "metadata": {
        "colab": {
          "base_uri": "https://localhost:8080/"
        },
        "id": "dxEJRuHaLdDc",
        "outputId": "e2e93f04-ef06-4c3e-b3a5-56a4b71e2afc"
      },
      "execution_count": 61,
      "outputs": [
        {
          "output_type": "stream",
          "name": "stdout",
          "text": [
            "['__abs__', '__add__', '__and__', '__bool__', '__ceil__', '__class__', '__delattr__', '__dict__', '__dir__', '__divmod__', '__doc__', '__eq__', '__float__', '__floor__', '__floordiv__', '__format__', '__ge__', '__getattribute__', '__getnewargs__', '__gt__', '__hash__', '__index__', '__init__', '__init_subclass__', '__int__', '__invert__', '__le__', '__lshift__', '__lt__', '__mod__', '__module__', '__mul__', '__ne__', '__neg__', '__new__', '__or__', '__pos__', '__pow__', '__radd__', '__rand__', '__rdivmod__', '__reduce__', '__reduce_ex__', '__repr__', '__rfloordiv__', '__rlshift__', '__rmod__', '__rmul__', '__ror__', '__round__', '__rpow__', '__rrshift__', '__rshift__', '__rsub__', '__rtruediv__', '__rxor__', '__setattr__', '__sizeof__', '__str__', '__sub__', '__subclasshook__', '__truediv__', '__trunc__', '__xor__', 'as_integer_ratio', 'bit_count', 'bit_length', 'conjugate', 'denominator', 'from_bytes', 'imag', 'numerator', 'real', 'to_bytes', '제곱']\n"
          ]
        }
      ]
    },
    {
      "cell_type": "code",
      "source": [
        "value.제곱(3)"
      ],
      "metadata": {
        "colab": {
          "base_uri": "https://localhost:8080/"
        },
        "id": "dcWb-6epLxnT",
        "outputId": "89dc737e-9e0f-4598-9755-a04c7c1b022b"
      },
      "execution_count": 63,
      "outputs": [
        {
          "output_type": "execute_result",
          "data": {
            "text/plain": [
              "1000"
            ]
          },
          "metadata": {},
          "execution_count": 63
        }
      ]
    },
    {
      "cell_type": "code",
      "source": [
        "# x -> 10 ,y -> 10, z ->10\n",
        "x = 10\n",
        "y = x\n",
        "z = y\n",
        "print(id(x), id(y), id(z))"
      ],
      "metadata": {
        "colab": {
          "base_uri": "https://localhost:8080/"
        },
        "id": "F2Y9qjyHMElz",
        "outputId": "da51b10a-b17f-48b6-c436-dbf7d8ef6ca8"
      },
      "execution_count": 66,
      "outputs": [
        {
          "output_type": "stream",
          "name": "stdout",
          "text": [
            "140570220790288 140570220790288 140570220790288\n"
          ]
        }
      ]
    },
    {
      "cell_type": "code",
      "source": [
        "x = 10\n",
        "y = x\n",
        "# x-> 10, y ->10\n",
        "x =100\n",
        "# x -> 100, y -> 10\n",
        "print(x, y)\n",
        "print(id(x), id(y))"
      ],
      "metadata": {
        "colab": {
          "base_uri": "https://localhost:8080/"
        },
        "id": "BDSP7-0aMo3w",
        "outputId": "51784cba-b138-407e-c2cd-16b5d62c7b5c"
      },
      "execution_count": 68,
      "outputs": [
        {
          "output_type": "stream",
          "name": "stdout",
          "text": [
            "100 10\n",
            "140570220793168 140570220790288\n"
          ]
        }
      ]
    },
    {
      "cell_type": "markdown",
      "source": [
        "## 변수의 속성"
      ],
      "metadata": {
        "id": "BVVU46jPNaQU"
      }
    },
    {
      "cell_type": "markdown",
      "source": [
        "* 변수는 주로 스네이크 표기법을 많이 사용합니다. (물론 회사 컨벤션을 따르셔야 합니다.)\n",
        "* 영문과 숫자를 사용할 수 있지만, 숫자로  시작하지는 못합니다.\n",
        "* 특수문자는 사용하지 않아요.(언더바(_)는  사용합니다. 스네이크 표기법, 특수문자나  이미중 사용 가능한 것들이 있기는 합니다.  권하지 않습니다.)\n",
        "* 예약어는 사용하지 않습니다.(if, elif, while, * for, etc)\n",
        "* 대소문자는 구분합니다.\n",
        "* 언더바로만 사용하거나 언더바로 시작할 수 있습니다.\n",
        "* 대문자로 시작하는 변수를 사용할 수 있지만, 관습적으로 대문자로 시작하는 변수는 Class로 만들기 때문에 소문자로 시작하는 변수를 만들기를 권합니다. Class는 보통 파스칼 표기법을 따릅니다. 다만 회사 컨벤션마다 다릅니다."
      ],
      "metadata": {
        "id": "Nkv2MliMNbzc"
      }
    },
    {
      "cell_type": "code",
      "source": [
        "# 스네이크 표기법(python에서 주로)\n",
        "hello_world = 10\n",
        "# 카멜 표기법(JavaScript에서 주로)\n",
        "helloWorld = 10\n",
        "# 파스칼 표기법(Class 같은 곳에서 많이 사용합니다.)\n",
        "Hello=10"
      ],
      "metadata": {
        "id": "I_WFD52mgt3R"
      },
      "execution_count": 70,
      "outputs": []
    },
    {
      "cell_type": "code",
      "source": [
        "# 10hello = 100\n",
        "hello10 = 100\n",
        "\n",
        "# 특수문자도 변수명에 넣어서 사용할 수 있음\n",
        "# 하지만 권장하지 않음\n",
        "π = 3.14 \n",
        "print(π)\n",
        "\n",
        "# _ 만은 자주 사용되는데 이렇게 사용되지 않음\n",
        "_ = 100\n",
        "print(_)"
      ],
      "metadata": {
        "colab": {
          "base_uri": "https://localhost:8080/"
        },
        "id": "bd20J-gnhQvl",
        "outputId": "9be1acb2-267e-4963-b499-508763fb0809"
      },
      "execution_count": 74,
      "outputs": [
        {
          "output_type": "stream",
          "name": "stdout",
          "text": [
            "3.14\n",
            "100\n"
          ]
        }
      ]
    },
    {
      "cell_type": "code",
      "source": [
        "for _ in range(10): # 언더바를 순회 안에서 변수로 사용하지 않을 때\n",
        "    print('hello')"
      ],
      "metadata": {
        "colab": {
          "base_uri": "https://localhost:8080/"
        },
        "id": "ova8_8jMiUSW",
        "outputId": "86ef8913-87f8-4422-9a10-9f9565791107"
      },
      "execution_count": 77,
      "outputs": [
        {
          "output_type": "stream",
          "name": "stdout",
          "text": [
            "hello\n",
            "hello\n",
            "hello\n",
            "hello\n",
            "hello\n",
            "hello\n",
            "hello\n",
            "hello\n",
            "hello\n",
            "hello\n"
          ]
        }
      ]
    },
    {
      "cell_type": "code",
      "source": [
        "# if = 100\n",
        "# print = 100\n",
        "# print(100)"
      ],
      "metadata": {
        "id": "joyKIB5Nio6m"
      },
      "execution_count": null,
      "outputs": []
    },
    {
      "cell_type": "markdown",
      "source": [
        "## 입력과 출력"
      ],
      "metadata": {
        "id": "UmQpCh5fjiYM"
      }
    },
    {
      "cell_type": "code",
      "source": [
        "x = input()\n",
        "x"
      ],
      "metadata": {
        "colab": {
          "base_uri": "https://localhost:8080/",
          "height": 54
        },
        "id": "_1VhPSivjoRb",
        "outputId": "78e39955-b112-419d-f177-c86ba414a2ea"
      },
      "execution_count": 1,
      "outputs": [
        {
          "name": "stdout",
          "output_type": "stream",
          "text": [
            "10\n"
          ]
        },
        {
          "output_type": "execute_result",
          "data": {
            "text/plain": [
              "'10'"
            ],
            "application/vnd.google.colaboratory.intrinsic+json": {
              "type": "string"
            }
          },
          "metadata": {},
          "execution_count": 1
        }
      ]
    },
    {
      "cell_type": "code",
      "source": [
        "x + x #사용자에게 받은 입력은 str"
      ],
      "metadata": {
        "colab": {
          "base_uri": "https://localhost:8080/",
          "height": 35
        },
        "id": "TQ72xhl1jq6G",
        "outputId": "6702ea2d-4c06-48ce-cf09-83949cfc3a33"
      },
      "execution_count": 2,
      "outputs": [
        {
          "output_type": "execute_result",
          "data": {
            "text/plain": [
              "'1010'"
            ],
            "application/vnd.google.colaboratory.intrinsic+json": {
              "type": "string"
            }
          },
          "metadata": {},
          "execution_count": 2
        }
      ]
    },
    {
      "cell_type": "code",
      "source": [
        "print(10, 10, 10)"
      ],
      "metadata": {
        "colab": {
          "base_uri": "https://localhost:8080/"
        },
        "id": "fStXDaIrj2hF",
        "outputId": "687ae585-3b1d-4f94-879d-23c80bbf9270"
      },
      "execution_count": 3,
      "outputs": [
        {
          "output_type": "stream",
          "name": "stdout",
          "text": [
            "10 10 10\n"
          ]
        }
      ]
    },
    {
      "cell_type": "code",
      "source": [
        "print('hello', 'world', 'hello')"
      ],
      "metadata": {
        "colab": {
          "base_uri": "https://localhost:8080/"
        },
        "id": "EGE9S_lzkAuV",
        "outputId": "bc19b085-26b1-485e-d4f3-a5727fbec50a"
      },
      "execution_count": 4,
      "outputs": [
        {
          "output_type": "stream",
          "name": "stdout",
          "text": [
            "hello world hello\n"
          ]
        }
      ]
    },
    {
      "cell_type": "code",
      "source": [
        "print(x, x)"
      ],
      "metadata": {
        "colab": {
          "base_uri": "https://localhost:8080/"
        },
        "id": "qs-3xHRQkEtF",
        "outputId": "2386b03b-cef1-4bef-b371-3e9b6528d95d"
      },
      "execution_count": 9,
      "outputs": [
        {
          "output_type": "stream",
          "name": "stdout",
          "text": [
            "10 10\n"
          ]
        }
      ]
    },
    {
      "cell_type": "code",
      "source": [
        "print('hello world', end='!')\n",
        "print('hello world', end='!')\n",
        "print('hello world', end='!')"
      ],
      "metadata": {
        "colab": {
          "base_uri": "https://localhost:8080/"
        },
        "id": "o1QOLq7KkroG",
        "outputId": "98634df5-119f-4fc9-e00b-f1a208709121"
      },
      "execution_count": 10,
      "outputs": [
        {
          "output_type": "stream",
          "name": "stdout",
          "text": [
            "hello world!hello world!hello world!"
          ]
        }
      ]
    },
    {
      "cell_type": "code",
      "source": [
        "print('hello', 'world', sep='!')\n",
        "print('010', '5044', '2903', sep='-') # 호준대표님 번호"
      ],
      "metadata": {
        "colab": {
          "base_uri": "https://localhost:8080/"
        },
        "id": "tVAzp9BIk9WT",
        "outputId": "9a577ae3-eafa-4f70-df90-0003ae81fc1e"
      },
      "execution_count": 12,
      "outputs": [
        {
          "output_type": "stream",
          "name": "stdout",
          "text": [
            "hello!world\n",
            "010-5044-2903\n"
          ]
        }
      ]
    },
    {
      "cell_type": "code",
      "source": [
        "이름 = '이호준'\n",
        "나이 = 10\n",
        "print('1. 제 이름은 이호준입니다. 제 나이는 10입니다.')\n",
        "print('2. 제 이름은 ', 이름, '입니다. 제 나이는 ', 나이,'입니다.', sep='')\n",
        "print('3. 제 이름은 %s입니다. 제 나이는 %d입니다.'%(이름, 나이)) # formatting 기법은 오래되기도하고... f-string으로 대체됨\n",
        "print('4. 제 이름은 {}입니다. 제 나이는 {}입니다.'.format(이름, 나이)) # format 용법\n",
        "print(f'5. 제 이름은 {이름}입니다. 제 나이는 {나이}입니다.') # f-string 기법"
      ],
      "metadata": {
        "colab": {
          "base_uri": "https://localhost:8080/"
        },
        "id": "tv4lfkAIlaxE",
        "outputId": "c52c54d5-c09e-4e20-da38-67633efbdb28"
      },
      "execution_count": 18,
      "outputs": [
        {
          "output_type": "stream",
          "name": "stdout",
          "text": [
            "1. 제 이름은 이호준입니다. 제 나이는 10입니다.\n",
            "2. 제 이름은 이호준입니다. 제 나이는 10입니다.\n",
            "3. 제 이름은 이호준입니다. 제 나이는 10입니다.\n",
            "4. 제 이름은 이호준입니다. 제 나이는 10입니다.\n",
            "5. 제 이름은 이호준입니다. 제 나이는 10입니다.\n"
          ]
        }
      ]
    },
    {
      "cell_type": "markdown",
      "source": [
        "[포맷코드종류](https://www.notion.so/9fd33417740f4eba8715f5c4a1ed7c7b?v=e01ecdfe2f9448dcaad68b03a38057a5)"
      ],
      "metadata": {
        "id": "mBelYy4WmUsq"
      }
    },
    {
      "cell_type": "markdown",
      "source": [
        "## formatting"
      ],
      "metadata": {
        "id": "8JlFgX6km5ih"
      }
    },
    {
      "cell_type": "code",
      "source": [
        "print(f'{100*10}')"
      ],
      "metadata": {
        "colab": {
          "base_uri": "https://localhost:8080/"
        },
        "id": "tjES7mg5nDno",
        "outputId": "08c9b913-442c-43d6-841f-3a74353a6440"
      },
      "execution_count": 20,
      "outputs": [
        {
          "output_type": "stream",
          "name": "stdout",
          "text": [
            "1000\n"
          ]
        }
      ]
    },
    {
      "cell_type": "code",
      "source": [
        "# 중괄호 안에서 복잡한 연산을 하는 것을 권하지 않습니다.\n",
        "result = 10\n",
        "print(f'{result}')"
      ],
      "metadata": {
        "colab": {
          "base_uri": "https://localhost:8080/"
        },
        "id": "5Lt34Qb5nKGy",
        "outputId": "91f68fc9-7c16-47e9-ee31-5866361b50b0"
      },
      "execution_count": 22,
      "outputs": [
        {
          "output_type": "stream",
          "name": "stdout",
          "text": [
            "10\n"
          ]
        }
      ]
    },
    {
      "cell_type": "code",
      "source": [
        "# 이런 문법은 필요에 의해 검색해서 사용하다 보면 익숙해집니다.\n",
        "# 10자리로 출력하는데\n",
        "print(f'{\"hello\":<10}') #왼쪽 정렬\n",
        "print(f'{\"hello\":>10}') #오른쪽 정렬\n",
        "print(f'{\"hello\":^10}') #중앙 정렬"
      ],
      "metadata": {
        "colab": {
          "base_uri": "https://localhost:8080/"
        },
        "id": "e06XiDoYnaUw",
        "outputId": "42ae6ade-c2f0-4287-e2a1-d11ffb4a9143"
      },
      "execution_count": 24,
      "outputs": [
        {
          "output_type": "stream",
          "name": "stdout",
          "text": [
            "hello     \n",
            "     hello\n",
            "  hello   \n"
          ]
        }
      ]
    },
    {
      "cell_type": "code",
      "source": [
        "txt='hello'\n",
        "i = 10\n",
        "print(f'{txt:>10}')\n",
        "print(f'{txt:>{i}}') # formatting 인자를 변수로 주는 법!!!!!!!!!!!!!!!!!!!!!!!!!!!!"
      ],
      "metadata": {
        "colab": {
          "base_uri": "https://localhost:8080/"
        },
        "id": "DhiCHxpnn1uO",
        "outputId": "370e152f-8646-4425-9272-ceec49dbd1f8"
      },
      "execution_count": 29,
      "outputs": [
        {
          "output_type": "stream",
          "name": "stdout",
          "text": [
            "     hello\n",
            "     hello\n"
          ]
        }
      ]
    },
    {
      "cell_type": "code",
      "source": [
        "# 이런 문법은 필요에 의해 검색해서 사용하다 보면 익숙해집니다.\n",
        "# 10자리로 출력하는데\n",
        "print(f'{\"hello\":!<10}') #왼쪽 정렬\n",
        "print(f'{\"hello\":!>10}') #오른쪽 정렬\n",
        "print(f'{\"hello\":!^10}') #중앙 정렬"
      ],
      "metadata": {
        "colab": {
          "base_uri": "https://localhost:8080/"
        },
        "id": "_31FelGzoUwn",
        "outputId": "18a7bbed-e25b-4a2b-e383-b3ca7b03b122"
      },
      "execution_count": 30,
      "outputs": [
        {
          "output_type": "stream",
          "name": "stdout",
          "text": [
            "hello!!!!!\n",
            "!!!!!hello\n",
            "!!hello!!!\n"
          ]
        }
      ]
    },
    {
      "cell_type": "code",
      "source": [
        "# 이런 문법은 필요에 의해 검색해서 사용하다 보면 익숙해집니다.\n",
        "# 10자리로 출력하는데\n",
        "print(f'{\"hello\":=<10}') #왼쪽 정렬\n",
        "print(f'{\"hello\":=>10}') #오른쪽 정렬\n",
        "print(f'{\"hello\":=^10}') #중앙 정렬"
      ],
      "metadata": {
        "colab": {
          "base_uri": "https://localhost:8080/"
        },
        "id": "eRSFs4tHoZpG",
        "outputId": "632fb739-d39e-4277-9e3b-1963843d6db1"
      },
      "execution_count": 31,
      "outputs": [
        {
          "output_type": "stream",
          "name": "stdout",
          "text": [
            "hello=====\n",
            "=====hello\n",
            "==hello===\n"
          ]
        }
      ]
    },
    {
      "cell_type": "code",
      "source": [
        "# https://tech.kakao.com/2017/09/27/kakao-blind-recruitment-round-1/\n",
        "print(f'{bin(9)[2:]:0>5}')\n",
        "print(type(bin(9)))"
      ],
      "metadata": {
        "colab": {
          "base_uri": "https://localhost:8080/"
        },
        "id": "Trz5GCaJuWFK",
        "outputId": "e009be9a-86a0-46c4-a607-cf86615c6135"
      },
      "execution_count": 39,
      "outputs": [
        {
          "output_type": "stream",
          "name": "stdout",
          "text": [
            "01001\n",
            "<class 'str'>\n"
          ]
        }
      ]
    },
    {
      "cell_type": "code",
      "source": [
        "bin(9|30)[2:].replace('1','#').replace('0',' ')"
      ],
      "metadata": {
        "colab": {
          "base_uri": "https://localhost:8080/",
          "height": 35
        },
        "id": "CpfDgyQ6uxG1",
        "outputId": "cf0897a7-ad07-40ac-b764-a2e5ceac34b9"
      },
      "execution_count": 37,
      "outputs": [
        {
          "output_type": "execute_result",
          "data": {
            "text/plain": [
              "'#####'"
            ],
            "application/vnd.google.colaboratory.intrinsic+json": {
              "type": "string"
            }
          },
          "metadata": {},
          "execution_count": 37
        }
      ]
    },
    {
      "cell_type": "code",
      "source": [
        "# 실무에서 이정도로 활용을 합니다.\n",
        "print(f'{\"start\":-^20}')"
      ],
      "metadata": {
        "colab": {
          "base_uri": "https://localhost:8080/"
        },
        "id": "N_6xo588vNGF",
        "outputId": "7f31f306-99d6-485a-a7d3-6803849ec0e3"
      },
      "execution_count": 41,
      "outputs": [
        {
          "output_type": "stream",
          "name": "stdout",
          "text": [
            "-------start--------\n"
          ]
        }
      ]
    },
    {
      "cell_type": "code",
      "source": [
        "print(f'{0.12345:0.2f}') # 소수점 자리수 표현"
      ],
      "metadata": {
        "colab": {
          "base_uri": "https://localhost:8080/"
        },
        "id": "xyi8JeCEvgJN",
        "outputId": "9f2260e0-ae72-4f7e-b433-4d4e9bdf6d62"
      },
      "execution_count": 42,
      "outputs": [
        {
          "output_type": "stream",
          "name": "stdout",
          "text": [
            "0.12\n"
          ]
        }
      ]
    },
    {
      "cell_type": "markdown",
      "source": [
        "* 이 아래 코드는 필수는 아닙니다.\n",
        "학습시 참고만 부탁드립니다."
      ],
      "metadata": {
        "id": "-NFInD_xv2Qt"
      }
    },
    {
      "cell_type": "code",
      "source": [
        "# 이전 방식\n",
        "print('나의 이름은 %s입니다'%('한사람'))\n",
        "print('나의 이름은 \"%s\"입니다. 나이는 %d세이고 성별은 %s입니다.'%('한사람',33,'남성'))\n",
        "print('나이는 %d세이고 성별은 %s입니다. 나의 이름은 %s입니다. '%(33,'남성','한사람'))\n",
        "print('나이는 %03d세이고 신장은 %6.2f입니다. 나의 이름은 %s입니다. '%(33,56.789,'한사람'))\n",
        "print('-' * 40)\n",
        "\n",
        "# 파이썬(Python) 3 포맷팅 방식\n",
        "print('나의 이름은 {}입니다'.format('한사람'))\n",
        "print('나의 이름은 {0}입니다. 나이는 {1}세이고 성별은 {2}입니다.'.format('한사람',33,'남성'))\n",
        "print('나이는 {1}세이고 성별은 {2}입니다. 나의 이름은 {0}입니다. '.format('한사람',33,'남성'))\n",
        "print('나이는 {age}세이고 성별은 {gender}입니다. 나의 이름은 {name}입니다. '\n",
        "         .format(name='한사람',age=33,gender='남성'))\n",
        "print('만세삼창 :  {0}!!! {0}!!! {0}!!! '.format('만세'))\n",
        "print('삼삼칠 박수 :  {0}!!! {0}!!! {1}!!! '.format('짝'*3,'짝'*7))\n",
        "print('-' * 40)\n",
        "\n",
        "# 파이썬(Python) 3.6 f-string 방식\n",
        "something = '볼펜'\n",
        "EA = 2\n",
        "one_length = 5.343\n",
        "scale = 'cm'\n",
        "\n",
        "print(f'{something} {EA}개의 길이는 {one_length*EA}{scale} 입니다.')\n",
        "print(f'{something} {EA}개의 길이는 {one_length*EA:.1f}{scale} 입니다.')"
      ],
      "metadata": {
        "colab": {
          "base_uri": "https://localhost:8080/"
        },
        "id": "C5r0_UKrvrsW",
        "outputId": "3566bd65-ba60-4d3e-d843-ff76b9e66464"
      },
      "execution_count": 43,
      "outputs": [
        {
          "output_type": "stream",
          "name": "stdout",
          "text": [
            "나의 이름은 한사람입니다\n",
            "나의 이름은 \"한사람\"입니다. 나이는 33세이고 성별은 남성입니다.\n",
            "나이는 33세이고 성별은 남성입니다. 나의 이름은 한사람입니다. \n",
            "나이는 033세이고 신장은  56.79입니다. 나의 이름은 한사람입니다. \n",
            "----------------------------------------\n",
            "나의 이름은 한사람입니다\n",
            "나의 이름은 한사람입니다. 나이는 33세이고 성별은 남성입니다.\n",
            "나이는 33세이고 성별은 남성입니다. 나의 이름은 한사람입니다. \n",
            "나이는 33세이고 성별은 남성입니다. 나의 이름은 한사람입니다. \n",
            "만세삼창 :  만세!!! 만세!!! 만세!!! \n",
            "삼삼칠 박수 :  짝짝짝!!! 짝짝짝!!! 짝짝짝짝짝짝짝!!! \n",
            "----------------------------------------\n",
            "볼펜 2개의 길이는 10.686cm 입니다.\n",
            "볼펜 2개의 길이는 10.7cm 입니다.\n"
          ]
        }
      ]
    },
    {
      "cell_type": "code",
      "source": [
        "print('Python is [{:15}]'.format('good'))\n",
        "print('Python is [{:<15}]'.format('good'))\n",
        "print('Python is [{:>15}]'.format('good'))\n",
        "print('Python is [{:^15}]'.format('good'))\n",
        "print('당신의 나이는 [{:15}]세'.format(22))\n",
        "print('당신의 나이는 [{:<15}]세'.format(22))\n",
        "print('당신의 나이는 [{:>15}]세'.format(22))\n",
        "print('당신의 나이는 [{:<15}]세'.format(22))\n",
        "print('-' * 40)"
      ],
      "metadata": {
        "colab": {
          "base_uri": "https://localhost:8080/"
        },
        "id": "q43_0udmwWgV",
        "outputId": "6fdd94b4-6758-459c-ca83-6b08418a64bc"
      },
      "execution_count": 44,
      "outputs": [
        {
          "output_type": "stream",
          "name": "stdout",
          "text": [
            "Python is [good           ]\n",
            "Python is [good           ]\n",
            "Python is [           good]\n",
            "Python is [     good      ]\n",
            "당신의 나이는 [             22]세\n",
            "당신의 나이는 [22             ]세\n",
            "당신의 나이는 [             22]세\n",
            "당신의 나이는 [22             ]세\n",
            "----------------------------------------\n"
          ]
        }
      ]
    },
    {
      "cell_type": "code",
      "source": [
        "char_a = '5'\n",
        "int_a = 5\n",
        "\n",
        "'''기본적으로 {} 포맷팅의 특성을 그대로 가짐'''\n",
        "print(1234567890)\n",
        "print(f'{char_a:>5}') # >는 오른쪽정렬\n",
        "print(f'{char_a:<5}') # <는 왼쪽정렬\n",
        "print(f'{char_a:^5}') # ^는 가운데정렬\n",
        "print(f'{int_a:0<5}')# <는 왼쪽정렬, 빈자리를 0으로 채울수도 있음\n",
        "print(f'{int_a:^10.2f}') # ^ 가운데 정렬하면서 float 타입지정"
      ],
      "metadata": {
        "colab": {
          "base_uri": "https://localhost:8080/"
        },
        "id": "6F6TedZKwX1D",
        "outputId": "5a34836a-f1ea-498c-e87f-903c96567b77"
      },
      "execution_count": 45,
      "outputs": [
        {
          "output_type": "stream",
          "name": "stdout",
          "text": [
            "1234567890\n",
            "    5\n",
            "5    \n",
            "  5  \n",
            "50000\n",
            "   5.00   \n"
          ]
        }
      ]
    },
    {
      "cell_type": "code",
      "source": [
        "# f-string 에 \\(backslash) 는 포함될 수 없다. \n",
        "# \\ 표현 가능안 r구문과 함께 쓸 수 없음...\n",
        "print(f'{\"hello\":@^20}')\n",
        "# print(f'{\"hel\\lo\":@^20}') # SyntaxError: f-string expression part cannot include a backslash\n",
        "print(fr'{\"hello\":@^20}')\n",
        "# print(fr'{\"hel\\lo\":@^20}') # SyntaxError: f-string expression part cannot include a backslash\n",
        "print(r'123456\\abcde\\t\\n\\t\\t\\n') #backslash 표현이 됨!"
      ],
      "metadata": {
        "colab": {
          "base_uri": "https://localhost:8080/"
        },
        "id": "Jtcv6bqHUFr-",
        "outputId": "35c84b11-e6b1-499f-95b6-25613be79378"
      },
      "execution_count": 137,
      "outputs": [
        {
          "output_type": "stream",
          "name": "stdout",
          "text": [
            "@@@@@@@hello@@@@@@@@\n",
            "@@@@@@@hello@@@@@@@@\n",
            "123456\\abcde\\t\\n\\t\\t\\n\n"
          ]
        }
      ]
    },
    {
      "cell_type": "markdown",
      "source": [
        "## int"
      ],
      "metadata": {
        "id": "PyTq9dLqwnyM"
      }
    },
    {
      "cell_type": "markdown",
      "source": [
        "* python 에서는 숫자를 정수, 실수, 복소수로 나눠 표현합니다.\n",
        "* 2진수, 8진수, 10진수, 16진수는 정수로 표현됩니다.\n",
        "* overflow가 없습니다!"
      ],
      "metadata": {
        "id": "cIRcb6wnwptW"
      }
    },
    {
      "cell_type": "code",
      "source": [
        "a = 123165465499999999999999999999999999999999999999\n",
        "print(type(a))\n",
        "# python 2.x에서는 int 와 long 이있어서 구분해야 했지만 3.d에는 int만 있어서 아무리 큰수가 담겨도 int!\n"
      ],
      "metadata": {
        "colab": {
          "base_uri": "https://localhost:8080/"
        },
        "id": "SLJZOHdsh26f",
        "outputId": "8fd36fe3-b332-4dca-9493-1dd5503ce758"
      },
      "execution_count": 90,
      "outputs": [
        {
          "output_type": "stream",
          "name": "stdout",
          "text": [
            "<class 'int'>\n"
          ]
        }
      ]
    },
    {
      "cell_type": "code",
      "source": [
        "a = 10**100 # 구골(googol)\n",
        "print(type(a))\n",
        "print(a)"
      ],
      "metadata": {
        "colab": {
          "base_uri": "https://localhost:8080/"
        },
        "id": "hOBiqIROiAjE",
        "outputId": "60639cbe-8b80-460f-e66a-1b26f20e85f7"
      },
      "execution_count": 91,
      "outputs": [
        {
          "output_type": "stream",
          "name": "stdout",
          "text": [
            "<class 'int'>\n",
            "10000000000000000000000000000000000000000000000000000000000000000000000000000000000000000000000000000\n"
          ]
        }
      ]
    },
    {
      "cell_type": "code",
      "source": [
        "10 # 정수\n",
        "-10 # 정수\n",
        "10.1 # 실수\n",
        "\n",
        "a=10\n",
        "type(a)\n",
        "dir(a)"
      ],
      "metadata": {
        "colab": {
          "base_uri": "https://localhost:8080/"
        },
        "id": "STrp-8cbwzjE",
        "outputId": "54f89892-bd7d-4c35-b0e9-7387e2a46349"
      },
      "execution_count": 46,
      "outputs": [
        {
          "output_type": "execute_result",
          "data": {
            "text/plain": [
              "['__abs__',\n",
              " '__add__',\n",
              " '__and__',\n",
              " '__bool__',\n",
              " '__ceil__',\n",
              " '__class__',\n",
              " '__delattr__',\n",
              " '__dir__',\n",
              " '__divmod__',\n",
              " '__doc__',\n",
              " '__eq__',\n",
              " '__float__',\n",
              " '__floor__',\n",
              " '__floordiv__',\n",
              " '__format__',\n",
              " '__ge__',\n",
              " '__getattribute__',\n",
              " '__getnewargs__',\n",
              " '__gt__',\n",
              " '__hash__',\n",
              " '__index__',\n",
              " '__init__',\n",
              " '__init_subclass__',\n",
              " '__int__',\n",
              " '__invert__',\n",
              " '__le__',\n",
              " '__lshift__',\n",
              " '__lt__',\n",
              " '__mod__',\n",
              " '__mul__',\n",
              " '__ne__',\n",
              " '__neg__',\n",
              " '__new__',\n",
              " '__or__',\n",
              " '__pos__',\n",
              " '__pow__',\n",
              " '__radd__',\n",
              " '__rand__',\n",
              " '__rdivmod__',\n",
              " '__reduce__',\n",
              " '__reduce_ex__',\n",
              " '__repr__',\n",
              " '__rfloordiv__',\n",
              " '__rlshift__',\n",
              " '__rmod__',\n",
              " '__rmul__',\n",
              " '__ror__',\n",
              " '__round__',\n",
              " '__rpow__',\n",
              " '__rrshift__',\n",
              " '__rshift__',\n",
              " '__rsub__',\n",
              " '__rtruediv__',\n",
              " '__rxor__',\n",
              " '__setattr__',\n",
              " '__sizeof__',\n",
              " '__str__',\n",
              " '__sub__',\n",
              " '__subclasshook__',\n",
              " '__truediv__',\n",
              " '__trunc__',\n",
              " '__xor__',\n",
              " 'as_integer_ratio',\n",
              " 'bit_count',\n",
              " 'bit_length',\n",
              " 'conjugate',\n",
              " 'denominator',\n",
              " 'from_bytes',\n",
              " 'imag',\n",
              " 'numerator',\n",
              " 'real',\n",
              " 'to_bytes']"
            ]
          },
          "metadata": {},
          "execution_count": 46
        }
      ]
    },
    {
      "cell_type": "code",
      "source": [
        " 'bit_length' # bit로 바꾸었을 때 bit의 길이\n",
        " 'to_bytes' # pc에서 저장하는 바이트의 형태로 숫자를 표현"
      ],
      "metadata": {
        "id": "fb11C7s_xhiC"
      },
      "execution_count": null,
      "outputs": []
    },
    {
      "cell_type": "code",
      "source": [
        "# 1Bit, 0 ~ 1 # bit - 1자리\n",
        "# 1Bytes = 8bit, 00000000 ~ 11111111 # 1byte - 8bit\n",
        "# 1KB (키로바이트) = 1024Bytes\n",
        "# 1MB (메가바이트) = 1024KB \n",
        "# 1GB (기가바이트) = 1024MB\n",
        "# 1TB (테라바이트) = 1024GB\n",
        "# 1PB (페타바이트) = 1024TB"
      ],
      "metadata": {
        "id": "FzFHGlh_x3oE"
      },
      "execution_count": null,
      "outputs": []
    },
    {
      "cell_type": "code",
      "source": [
        "(9).bit_length() #1001"
      ],
      "metadata": {
        "colab": {
          "base_uri": "https://localhost:8080/"
        },
        "id": "52Uy0MsFzck_",
        "outputId": "474e58b8-a64d-40a1-9b97-eb23d5ae07e2"
      },
      "execution_count": 49,
      "outputs": [
        {
          "output_type": "execute_result",
          "data": {
            "text/plain": [
              "4"
            ]
          },
          "metadata": {},
          "execution_count": 49
        }
      ]
    },
    {
      "cell_type": "code",
      "source": [
        "# 컴퓨터가 숫자를 어떻게 저장하는가?\n",
        "# --> 컴퓨터는 음수를 자체적으로 표현할 수 없기에 2의 보수를 사용합니다. \n",
        "# 1의 보수를 사용하게 되면 +0과 -0이 존재하게 됨으로 비트 하나를 낭비하게 됩니다. \n",
        "# 따라서 2의 보수를 사용합니다.\n",
        "\n",
        "(2).to_bytes(1, byteorder='little', signed=True)\n",
        "(1).to_bytes(1, byteorder='little', signed=True)\n",
        "(0).to_bytes(1, byteorder='little', signed=True)\n",
        "(-1).to_bytes(1, byteorder='little', signed=True)\n",
        "(-2).to_bytes(1, byteorder='little', signed=True)\n",
        "\n"
      ],
      "metadata": {
        "colab": {
          "base_uri": "https://localhost:8080/"
        },
        "id": "0vKxvSeUzv5F",
        "outputId": "bd8198aa-12ac-4595-e762-eb3e4536368e"
      },
      "execution_count": 61,
      "outputs": [
        {
          "output_type": "execute_result",
          "data": {
            "text/plain": [
              "b'\\xfe'"
            ]
          },
          "metadata": {},
          "execution_count": 61
        }
      ]
    },
    {
      "cell_type": "code",
      "source": [
        "# 0000 0001 # 1\n",
        "# 1111 1110 # 1의 1의보수\n",
        "# 1111 1111 # 1의 2의보수 => 0xff"
      ],
      "metadata": {
        "id": "ByNI7hWV0MLm"
      },
      "execution_count": null,
      "outputs": []
    },
    {
      "cell_type": "code",
      "source": [
        "# 진법 변환 쉽게 하는 법 : 가장 가까운 승수를 찾아 더하거나 뺌\n",
        "# 10 진법\n",
        "# 0 1 2 3 4 5 6 7 8 9 -> 10 12 13\n",
        "# 1324 = 1*10^3 + 3*10^2 + 2*10^1 + 4*10^0\n",
        "\n",
        "# 2진법\n",
        "# 0 1 -> 10 11\n",
        "# 1001 = 1*2^3 + 0*2^2 + 0*2^1 + 1*2^0\n",
        "\n",
        "# 8진법\n",
        "# 0 1 2 3 4 5 6 7 -> 10\n",
        "\n",
        "# 16진법\n",
        "# 0 1 2 3 4 5 6 7 8 9 a b c e d f -> 10"
      ],
      "metadata": {
        "id": "-0Caysqy2vWt"
      },
      "execution_count": null,
      "outputs": []
    },
    {
      "cell_type": "code",
      "source": [
        "# color의 표현\n",
        "# 2596be\n",
        "# 000000 ~ ffff\n",
        "# ff는 10진수로 무슨 숫자를 의미?\n",
        "# 100 - 1 => ff-1이 됨"
      ],
      "metadata": {
        "id": "ZfMDBpr97-A9"
      },
      "execution_count": null,
      "outputs": []
    },
    {
      "cell_type": "code",
      "source": [
        "a = 10\n",
        "type(a)"
      ],
      "metadata": {
        "colab": {
          "base_uri": "https://localhost:8080/"
        },
        "id": "UmyEDQs08RiD",
        "outputId": "a8898a56-d30d-4c41-8e1d-6de0a922e378"
      },
      "execution_count": 62,
      "outputs": [
        {
          "output_type": "execute_result",
          "data": {
            "text/plain": [
              "int"
            ]
          },
          "metadata": {},
          "execution_count": 62
        }
      ]
    },
    {
      "cell_type": "code",
      "source": [
        "int('10') + int('10')"
      ],
      "metadata": {
        "colab": {
          "base_uri": "https://localhost:8080/"
        },
        "id": "7MMLlTop8UfD",
        "outputId": "e0f1da4d-817e-40d6-c2f8-b95b6e282e8b"
      },
      "execution_count": 63,
      "outputs": [
        {
          "output_type": "execute_result",
          "data": {
            "text/plain": [
              "20"
            ]
          },
          "metadata": {},
          "execution_count": 63
        }
      ]
    },
    {
      "cell_type": "code",
      "source": [
        "int('10', 2) # 2진법으로 10"
      ],
      "metadata": {
        "colab": {
          "base_uri": "https://localhost:8080/"
        },
        "id": "V_3-HXUA8W15",
        "outputId": "0c36b604-c4f1-44fe-bb6c-14f009d388c8"
      },
      "execution_count": 65,
      "outputs": [
        {
          "output_type": "execute_result",
          "data": {
            "text/plain": [
              "2"
            ]
          },
          "metadata": {},
          "execution_count": 65
        }
      ]
    },
    {
      "cell_type": "code",
      "source": [
        "int('10', 8) # 8진법으로 10"
      ],
      "metadata": {
        "colab": {
          "base_uri": "https://localhost:8080/"
        },
        "id": "odkOTguZ8eqU",
        "outputId": "a2e99a70-5c24-4985-f3d1-02fd93baf6ec"
      },
      "execution_count": 68,
      "outputs": [
        {
          "output_type": "execute_result",
          "data": {
            "text/plain": [
              "8"
            ]
          },
          "metadata": {},
          "execution_count": 68
        }
      ]
    },
    {
      "cell_type": "code",
      "source": [
        "int('10', 16) # 16지넙으로 10"
      ],
      "metadata": {
        "colab": {
          "base_uri": "https://localhost:8080/"
        },
        "id": "3yjNFj2Y8cxk",
        "outputId": "45123a10-e5d1-4b00-fe12-06f63eae9fa9"
      },
      "execution_count": 67,
      "outputs": [
        {
          "output_type": "execute_result",
          "data": {
            "text/plain": [
              "16"
            ]
          },
          "metadata": {},
          "execution_count": 67
        }
      ]
    },
    {
      "cell_type": "code",
      "source": [
        "print(0b110) # 바이너리\n",
        "print(0o110) # 옥타\n",
        "print(0x110) # 헥사"
      ],
      "metadata": {
        "colab": {
          "base_uri": "https://localhost:8080/"
        },
        "id": "fLaJeypx8ooD",
        "outputId": "38f8cc98-3388-46c0-d274-ea88d8e53f18"
      },
      "execution_count": 69,
      "outputs": [
        {
          "output_type": "stream",
          "name": "stdout",
          "text": [
            "6\n",
            "72\n",
            "272\n"
          ]
        }
      ]
    },
    {
      "cell_type": "code",
      "source": [
        "a = 10\n",
        "type(a) == int\n",
        "isinstance(a, int)"
      ],
      "metadata": {
        "colab": {
          "base_uri": "https://localhost:8080/"
        },
        "id": "zZZyX7gf893y",
        "outputId": "6022b142-8cd4-41f4-ef65-4b28cff462de"
      },
      "execution_count": 70,
      "outputs": [
        {
          "output_type": "execute_result",
          "data": {
            "text/plain": [
              "True"
            ]
          },
          "metadata": {},
          "execution_count": 70
        }
      ]
    },
    {
      "cell_type": "markdown",
      "source": [
        "## float(실수)"
      ],
      "metadata": {
        "id": "PTsC7EjU9D9_"
      }
    },
    {
      "cell_type": "code",
      "source": [
        "a = 10.1\n",
        "type(a)"
      ],
      "metadata": {
        "colab": {
          "base_uri": "https://localhost:8080/"
        },
        "id": "nPQ5A39K9N3D",
        "outputId": "6957e55b-aa1f-4166-9f16-112cf93f1a64"
      },
      "execution_count": 71,
      "outputs": [
        {
          "output_type": "execute_result",
          "data": {
            "text/plain": [
              "float"
            ]
          },
          "metadata": {},
          "execution_count": 71
        }
      ]
    },
    {
      "cell_type": "code",
      "source": [
        "dir(a)"
      ],
      "metadata": {
        "colab": {
          "base_uri": "https://localhost:8080/"
        },
        "id": "WFxXyWp39TPi",
        "outputId": "645a9f28-f4f3-4dc1-c8e9-dfc74c38da61"
      },
      "execution_count": 72,
      "outputs": [
        {
          "output_type": "execute_result",
          "data": {
            "text/plain": [
              "['__abs__',\n",
              " '__add__',\n",
              " '__bool__',\n",
              " '__ceil__',\n",
              " '__class__',\n",
              " '__delattr__',\n",
              " '__dir__',\n",
              " '__divmod__',\n",
              " '__doc__',\n",
              " '__eq__',\n",
              " '__float__',\n",
              " '__floor__',\n",
              " '__floordiv__',\n",
              " '__format__',\n",
              " '__ge__',\n",
              " '__getattribute__',\n",
              " '__getformat__',\n",
              " '__getnewargs__',\n",
              " '__gt__',\n",
              " '__hash__',\n",
              " '__init__',\n",
              " '__init_subclass__',\n",
              " '__int__',\n",
              " '__le__',\n",
              " '__lt__',\n",
              " '__mod__',\n",
              " '__mul__',\n",
              " '__ne__',\n",
              " '__neg__',\n",
              " '__new__',\n",
              " '__pos__',\n",
              " '__pow__',\n",
              " '__radd__',\n",
              " '__rdivmod__',\n",
              " '__reduce__',\n",
              " '__reduce_ex__',\n",
              " '__repr__',\n",
              " '__rfloordiv__',\n",
              " '__rmod__',\n",
              " '__rmul__',\n",
              " '__round__',\n",
              " '__rpow__',\n",
              " '__rsub__',\n",
              " '__rtruediv__',\n",
              " '__setattr__',\n",
              " '__setformat__',\n",
              " '__sizeof__',\n",
              " '__str__',\n",
              " '__sub__',\n",
              " '__subclasshook__',\n",
              " '__truediv__',\n",
              " '__trunc__',\n",
              " 'as_integer_ratio',\n",
              " 'conjugate',\n",
              " 'fromhex',\n",
              " 'hex',\n",
              " 'imag',\n",
              " 'is_integer',\n",
              " 'real']"
            ]
          },
          "metadata": {},
          "execution_count": 72
        }
      ]
    },
    {
      "cell_type": "code",
      "source": [
        "a = 10\n",
        "b = 10.1\n",
        "\n",
        "a+b # 다른 일부 언어에서는 허용되지 않습니다"
      ],
      "metadata": {
        "colab": {
          "base_uri": "https://localhost:8080/"
        },
        "id": "d3YDcvrZ9XkU",
        "outputId": "4b0ce2de-fe1a-41a3-a18d-791c3c28a030"
      },
      "execution_count": 73,
      "outputs": [
        {
          "output_type": "execute_result",
          "data": {
            "text/plain": [
              "20.1"
            ]
          },
          "metadata": {},
          "execution_count": 73
        }
      ]
    },
    {
      "cell_type": "code",
      "source": [
        "# 부동소수점 오차(2진법으로 0.1이 무한대수가 발생합니다.)\n",
        "0.1+0.2 # 대부분의 언어 공통입니다."
      ],
      "metadata": {
        "colab": {
          "base_uri": "https://localhost:8080/"
        },
        "id": "dKQPe4Y89kVn",
        "outputId": "16161121-1a5b-4835-a022-04598809f07f"
      },
      "execution_count": 74,
      "outputs": [
        {
          "output_type": "execute_result",
          "data": {
            "text/plain": [
              "0.30000000000000004"
            ]
          },
          "metadata": {},
          "execution_count": 74
        }
      ]
    },
    {
      "cell_type": "code",
      "source": [
        "a = 0.1"
      ],
      "metadata": {
        "id": "PjH1fFLL95Hr"
      },
      "execution_count": 75,
      "outputs": []
    },
    {
      "cell_type": "code",
      "source": [
        "# 20번 반복해보세요\n",
        "a = a + 0.1\n",
        "a"
      ],
      "metadata": {
        "colab": {
          "base_uri": "https://localhost:8080/"
        },
        "id": "REMbNqBp960j",
        "outputId": "3f226cdf-e0aa-41ce-c984-a6cc7732db86"
      },
      "execution_count": 85,
      "outputs": [
        {
          "output_type": "execute_result",
          "data": {
            "text/plain": [
              "1.0999999999999999"
            ]
          },
          "metadata": {},
          "execution_count": 85
        }
      ]
    },
    {
      "cell_type": "markdown",
      "source": [
        "* [python 부동소수점 처리](https://docs.python.org/ko/3/tutorial/floatingpoint.html)\n",
        "* https://0.30000000000000004.com/ 에서 언어별 해결책을 제시함\n",
        "* 컴퓨터에서 부동소수점 숫자는 2진 분수로 표현되기에 무한대수가 발생한다.(무한히 반복하는 소수처럼...)\n",
        "* 부동소수 표현은 **IEEE-754**로 표기되기로 약속되어있음\n",
        "* [무한대수가 발생되는 원리](https://www.notion.so/paullabworkspace/5f34f21bf9a34015b170e7afd7da9593)"
      ],
      "metadata": {
        "id": "BF26B4xG-l1v"
      }
    },
    {
      "cell_type": "code",
      "source": [
        "# 왜 빈문자 개수를 찾았는데 6이 나올까?\n",
        "'hello'.count('')"
      ],
      "metadata": {
        "colab": {
          "base_uri": "https://localhost:8080/"
        },
        "id": "lBH2iViDAcn_",
        "outputId": "2f4121af-7499-43b3-a087-90e2c9909ecd"
      },
      "execution_count": 86,
      "outputs": [
        {
          "output_type": "execute_result",
          "data": {
            "text/plain": [
              "6"
            ]
          },
          "metadata": {},
          "execution_count": 86
        }
      ]
    },
    {
      "cell_type": "markdown",
      "source": [
        "## 오늘 배운 것 정리 230501\n",
        "1. 단축키\n",
        "    * (필수) Ctrl(Command) + Enter : 해당 셀 실행\n",
        "    * (필수) Alt(Option) + Enter : 해당 셀 실행 + 코드 불록 하단 추가\n",
        "    * (필수) Ctrl + / : 주석\n",
        "    * (필수) Shift + Del : 한 줄 지우기\n",
        "    * (필수) Tab, Ctrl + ] : 들여쓰기\n",
        "    * (필수) Shift + Tab, Ctrl + [ : 내어쓰기\n",
        "\n",
        "2. 마크다운\n",
        "    ```\n",
        "    # hello\n",
        "    ## hello\n",
        "    ### hello\n",
        "\n",
        "    1. hello\n",
        "    2. hello\n",
        "    3. hello\n",
        "\n",
        "    * hello\n",
        "    * hello\n",
        "    * hello\n",
        "    ```\n",
        "\n",
        "3. 주석\n",
        "\n",
        "    ```python\n",
        "    #행 단위 주석입니다.\n",
        "\n",
        "    \"\"\"\n",
        "    큰 따옴표로 세번 묶거나\n",
        "    작은따옴표로 세번 묶으면\n",
        "    열단위 주석이 됩니다.\n",
        "    \"\"\"\n",
        "\n",
        "    '''\n",
        "    큰 따옴표로 세번 묶거나\n",
        "    작은따옴표로 세번 묶으면\n",
        "    열단위 주석이 됩니다.\n",
        "    '''\n",
        "    ```\n",
        "\n",
        "4. PEP8 권고사항\n",
        "    * 띄어쓰기는 4칸\n",
        "    * 한 줄에 79자 이상을 사용하지 않는다.\n",
        "\n",
        "5. 형의 종류(type, dir)\n",
        "    * 컨벤션 자료형(list, tuple, dict, set)은 나중에 진행합니다.\n",
        "    * int\n",
        "    * float\n",
        "    * bool\n",
        "    * str\n",
        "    * function\n",
        "    * bulit-in function\n",
        "\n",
        "6. 이스케이프 문자\n",
        "    * https://ko.wikipedia.org/wiki/%EC%9D%B4%EC%8A%A4%EC%BC%80%EC%9D%B4%ED%94%84_%EB%AC%B8%EC%9E%90\n",
        "    ```python\n",
        "    print('hello \\n world')\n",
        "    print('hello \\t world')\n",
        "    print('hello \\' world')\n",
        "    print('hello \\\" world')\n",
        "    print('hello \\\\ world')\n",
        "    ```\n",
        "\n",
        "7. 실무에서 자주 사용하는 타입확인 구문\n",
        "    ```python\n",
        "    type(10)\n",
        "    type(10) == int\n",
        "    type(10.1) == float\n",
        "\n",
        "    a = 10\n",
        "    isinstance(a, int)\n",
        "    isinstance(a, float)\n",
        "    ```\n",
        "\n",
        "8. 변수의 인사이트\n",
        "    ```\n",
        "    dir을 입력했을 때\n",
        "    1. __hello__와 같은 형태의 메직 메서드는 속성을 표현한다\n",
        "    2.  언더바가 없는 메서드는 해당 자료형의 편의 기능을 제공한다\n",
        "    ```\n",
        "\n",
        "9. 입력과 출력\n",
        "    ```python\n",
        "    x = input() #입력, 숫자를 입력해도 str\n",
        "    print(x) #출력\n",
        "\n",
        "    이름 = '이호준'\n",
        "    나이 = 10\n",
        "    print(f'제 이름은 {이름}입니다. 제 나이는 {나이}입니다.')\n",
        "    print(f'{100 * 10}')\n",
        "    ```\n",
        "\n",
        "\n",
        "10. int 형\n",
        "    * 2진수, 8진수, 16진수는 정수\n",
        "\n",
        "\n",
        "11. float 형\n",
        "    * 부동소수점 오차(2진법으로 변환했을 때 0.1이 무한대수가 발생합니다.)\n",
        "    0.1 + 0.2 # 대부분의 언어 공통입니다.\n",
        "    * https://docs.python.org/ko/3/tutorial/floatingpoint.html\n",
        "    * https://0.30000000000000004.com/ 에서 언어별 해결책을 제시한다."
      ],
      "metadata": {
        "id": "Z_mv8G79DPgy"
      }
    },
    {
      "cell_type": "markdown",
      "source": [
        "## str(문자열)"
      ],
      "metadata": {
        "id": "dbXyfWQqyPZ3"
      }
    },
    {
      "cell_type": "markdown",
      "source": [
        "- 순서가 있는 **시퀀스 자료형**입니다.\n",
        "- 작은 따옴표(' ')나 큰 따옴표(\" \"), 삼중따옴표('''str''', \"\"\"str\"\"\")로 감싸는 것도 가능합니다. (삼중따옴표를 사용할 경우에는 줄단위의 문자열을 나타낼 수 있습니다.)\n",
        "- 작은 따옴표 안에 큰 따옴표, 큰 따옴표 안에 작은 따옴표 사용이 가능합니다.\n",
        "- 이스케이프 문자도 사용이 가능합니다.\n",
        "- 리스트, 튜플도 시퀀스 자료형입니다."
      ],
      "metadata": {
        "id": "Bkuydw0fymH9"
      }
    },
    {
      "cell_type": "code",
      "source": [
        "s ='paullab CEO leehojun'\n",
        "s[0] # 0은 index입니다. 이렇게 호출하는 것을 indexing 이라고 합니다."
      ],
      "metadata": {
        "colab": {
          "base_uri": "https://localhost:8080/",
          "height": 35
        },
        "id": "BsQKgCz9yt2P",
        "outputId": "d3208486-faf9-46d8-9650-0f56540d6428"
      },
      "execution_count": 1,
      "outputs": [
        {
          "output_type": "execute_result",
          "data": {
            "text/plain": [
              "'p'"
            ],
            "application/vnd.google.colaboratory.intrinsic+json": {
              "type": "string"
            }
          },
          "metadata": {},
          "execution_count": 1
        }
      ]
    },
    {
      "cell_type": "code",
      "source": [
        "type(s)"
      ],
      "metadata": {
        "id": "weObQYJDz2ex",
        "colab": {
          "base_uri": "https://localhost:8080/"
        },
        "outputId": "eaa1e6d8-3c34-4423-93e1-d262fbe677ac"
      },
      "execution_count": 2,
      "outputs": [
        {
          "output_type": "execute_result",
          "data": {
            "text/plain": [
              "str"
            ]
          },
          "metadata": {},
          "execution_count": 2
        }
      ]
    },
    {
      "cell_type": "code",
      "source": [
        "dir(s)"
      ],
      "metadata": {
        "colab": {
          "base_uri": "https://localhost:8080/"
        },
        "id": "zsiGPh6Wz88W",
        "outputId": "385a0ab4-6008-4109-caf4-bf094b3344a7"
      },
      "execution_count": 3,
      "outputs": [
        {
          "output_type": "execute_result",
          "data": {
            "text/plain": [
              "['__add__',\n",
              " '__class__',\n",
              " '__contains__',\n",
              " '__delattr__',\n",
              " '__dir__',\n",
              " '__doc__',\n",
              " '__eq__',\n",
              " '__format__',\n",
              " '__ge__',\n",
              " '__getattribute__',\n",
              " '__getitem__',\n",
              " '__getnewargs__',\n",
              " '__gt__',\n",
              " '__hash__',\n",
              " '__init__',\n",
              " '__init_subclass__',\n",
              " '__iter__',\n",
              " '__le__',\n",
              " '__len__',\n",
              " '__lt__',\n",
              " '__mod__',\n",
              " '__mul__',\n",
              " '__ne__',\n",
              " '__new__',\n",
              " '__reduce__',\n",
              " '__reduce_ex__',\n",
              " '__repr__',\n",
              " '__rmod__',\n",
              " '__rmul__',\n",
              " '__setattr__',\n",
              " '__sizeof__',\n",
              " '__str__',\n",
              " '__subclasshook__',\n",
              " 'capitalize',\n",
              " 'casefold',\n",
              " 'center',\n",
              " 'count',\n",
              " 'encode',\n",
              " 'endswith',\n",
              " 'expandtabs',\n",
              " 'find',\n",
              " 'format',\n",
              " 'format_map',\n",
              " 'index',\n",
              " 'isalnum',\n",
              " 'isalpha',\n",
              " 'isascii',\n",
              " 'isdecimal',\n",
              " 'isdigit',\n",
              " 'isidentifier',\n",
              " 'islower',\n",
              " 'isnumeric',\n",
              " 'isprintable',\n",
              " 'isspace',\n",
              " 'istitle',\n",
              " 'isupper',\n",
              " 'join',\n",
              " 'ljust',\n",
              " 'lower',\n",
              " 'lstrip',\n",
              " 'maketrans',\n",
              " 'partition',\n",
              " 'removeprefix',\n",
              " 'removesuffix',\n",
              " 'replace',\n",
              " 'rfind',\n",
              " 'rindex',\n",
              " 'rjust',\n",
              " 'rpartition',\n",
              " 'rsplit',\n",
              " 'rstrip',\n",
              " 'split',\n",
              " 'splitlines',\n",
              " 'startswith',\n",
              " 'strip',\n",
              " 'swapcase',\n",
              " 'title',\n",
              " 'translate',\n",
              " 'upper',\n",
              " 'zfill']"
            ]
          },
          "metadata": {},
          "execution_count": 3
        }
      ]
    },
    {
      "cell_type": "code",
      "source": [
        "# 문자열의 메서드\n",
        "# 'capitalize','casefold','center','count','encode',\n",
        "# 'endswith','expandtabs','find','format','format_map',\n",
        "# 'index','isalnum','isalpha','isascii','isdecimal','isdigit',\n",
        "# 'isidentifier','islower','isnumeric','isprintable','isspace',\n",
        "# 'istitle','isupper','join','ljust','lower','lstrip',\n",
        "# 'maketrans','partition','removeprefix','removesuffix',\n",
        "# 'replace','rfind','rindex','rjust','rpartition','rsplit',\n",
        "# 'rstrip','split','splitlines','startswith','strip','swapcase',\n",
        "# 'title','translate','upper','zfill'"
      ],
      "metadata": {
        "id": "6rW1BrArz9tk"
      },
      "execution_count": null,
      "outputs": []
    },
    {
      "cell_type": "code",
      "source": [
        "s = 'paullab CEO leehojun'\n",
        "s.lower(), s.upper() \n",
        "# 특히 사용자에게 입력을 받는 경우 lower도 많이 사용합니다."
      ],
      "metadata": {
        "colab": {
          "base_uri": "https://localhost:8080/"
        },
        "id": "Gs6iUGwq0dLf",
        "outputId": "3e55f63f-bbd9-49f0-9e20-548ba35027c4"
      },
      "execution_count": 4,
      "outputs": [
        {
          "output_type": "execute_result",
          "data": {
            "text/plain": [
              "('paullab ceo leehojun', 'PAULLAB CEO LEEHOJUN')"
            ]
          },
          "metadata": {},
          "execution_count": 4
        }
      ]
    },
    {
      "cell_type": "code",
      "source": [
        "s = 'paullab CEO leehojun'\n",
        "s.find('C'), s.index('C') "
      ],
      "metadata": {
        "colab": {
          "base_uri": "https://localhost:8080/"
        },
        "id": "59KIgYmE1DJj",
        "outputId": "2f4c74c8-6ee6-4f37-85aa-b610a358ee8c"
      },
      "execution_count": 5,
      "outputs": [
        {
          "output_type": "execute_result",
          "data": {
            "text/plain": [
              "(8, 8)"
            ]
          },
          "metadata": {},
          "execution_count": 5
        }
      ]
    },
    {
      "cell_type": "code",
      "source": [
        "# 견고한 코드란?\n",
        "# 시간이 지나도 그대로 사용할 수 있고\n",
        "# error가 예측 가능하게 나는 코드.\n",
        "# 네이버에 이미지 슬라이딩 코드\n",
        "# s.find('Z') => -1은 True이기 때문에 주의가 필요함 \n",
        "s.find('Z')"
      ],
      "metadata": {
        "colab": {
          "base_uri": "https://localhost:8080/"
        },
        "id": "s3QUOaF71jxJ",
        "outputId": "c5f4f49a-6a49-4496-9a33-f9ddc0944b21"
      },
      "execution_count": 7,
      "outputs": [
        {
          "output_type": "execute_result",
          "data": {
            "text/plain": [
              "-1"
            ]
          },
          "metadata": {},
          "execution_count": 7
        }
      ]
    },
    {
      "cell_type": "code",
      "source": [
        "# Error가 나면 Error를 주는 것이 좋을 수 있습니다.\n",
        "# Error를 안주는 언어로 JavaScript.\n",
        "# 에러처리를 할 거면 에러 주는 것을 사용하면 됨\n",
        "s.index('Z')"
      ],
      "metadata": {
        "colab": {
          "base_uri": "https://localhost:8080/",
          "height": 174
        },
        "id": "2YlIgJZV1tpF",
        "outputId": "bcc78a0c-b501-43fa-dff0-ecc481160a0e"
      },
      "execution_count": 8,
      "outputs": [
        {
          "output_type": "error",
          "ename": "ValueError",
          "evalue": "ignored",
          "traceback": [
            "\u001b[0;31m---------------------------------------------------------------------------\u001b[0m",
            "\u001b[0;31mValueError\u001b[0m                                Traceback (most recent call last)",
            "\u001b[0;32m<ipython-input-8-b727d3398a36>\u001b[0m in \u001b[0;36m<cell line: 1>\u001b[0;34m()\u001b[0m\n\u001b[0;32m----> 1\u001b[0;31m \u001b[0ms\u001b[0m\u001b[0;34m.\u001b[0m\u001b[0mindex\u001b[0m\u001b[0;34m(\u001b[0m\u001b[0;34m'Z'\u001b[0m\u001b[0;34m)\u001b[0m\u001b[0;34m\u001b[0m\u001b[0;34m\u001b[0m\u001b[0m\n\u001b[0m",
            "\u001b[0;31mValueError\u001b[0m: substring not found"
          ]
        }
      ]
    },
    {
      "cell_type": "code",
      "source": [
        "s = 'paullab CEO leehojun'\n",
        "s.find('CEO') "
      ],
      "metadata": {
        "colab": {
          "base_uri": "https://localhost:8080/"
        },
        "id": "XIR5bdCP2gXN",
        "outputId": "905c2310-b891-4a09-ea76-0d4ddb5ebc15"
      },
      "execution_count": 9,
      "outputs": [
        {
          "output_type": "execute_result",
          "data": {
            "text/plain": [
              "8"
            ]
          },
          "metadata": {},
          "execution_count": 9
        }
      ]
    },
    {
      "cell_type": "code",
      "source": [
        "# .count() 함수 : 문자열이나 숫자를 셀 때 사용 (중요도 *****)\n",
        "s = 'paullab CEO leehojun'\n",
        "s.count('l') "
      ],
      "metadata": {
        "id": "9nrrueZq2yGf"
      },
      "execution_count": null,
      "outputs": []
    },
    {
      "cell_type": "code",
      "source": [
        "str([1, 2, 3, 4, 5])"
      ],
      "metadata": {
        "colab": {
          "base_uri": "https://localhost:8080/",
          "height": 35
        },
        "id": "P77gUHS73DRK",
        "outputId": "72c126d1-b73d-4ea4-c8c5-bb0c08988341"
      },
      "execution_count": 10,
      "outputs": [
        {
          "output_type": "execute_result",
          "data": {
            "text/plain": [
              "'[1, 2, 3, 4, 5]'"
            ],
            "application/vnd.google.colaboratory.intrinsic+json": {
              "type": "string"
            }
          },
          "metadata": {},
          "execution_count": 10
        }
      ]
    },
    {
      "cell_type": "code",
      "source": [
        "str([1, 2, 3, 4, 5]).count(' ')"
      ],
      "metadata": {
        "colab": {
          "base_uri": "https://localhost:8080/"
        },
        "id": "xGxDrNQH3HND",
        "outputId": "917093d5-0bcc-49fa-af84-0d6b197c3ff8"
      },
      "execution_count": 11,
      "outputs": [
        {
          "output_type": "execute_result",
          "data": {
            "text/plain": [
              "4"
            ]
          },
          "metadata": {},
          "execution_count": 11
        }
      ]
    },
    {
      "cell_type": "code",
      "source": [
        "str([1, 2, 3, 4, 5]).count(',')"
      ],
      "metadata": {
        "colab": {
          "base_uri": "https://localhost:8080/"
        },
        "id": "HKmvzQie3JAk",
        "outputId": "e2cf71dc-ed50-4e8c-e8a7-2121c6d06d2d"
      },
      "execution_count": 12,
      "outputs": [
        {
          "output_type": "execute_result",
          "data": {
            "text/plain": [
              "4"
            ]
          },
          "metadata": {},
          "execution_count": 12
        }
      ]
    },
    {
      "cell_type": "code",
      "source": [
        "# 이런 유형의 문제를 많이 풀 것임.\n",
        "str([1, 2, 11, 4, 111]).count('1')"
      ],
      "metadata": {
        "colab": {
          "base_uri": "https://localhost:8080/"
        },
        "id": "5ZeFegr83KAU",
        "outputId": "656ec01b-5b86-4838-ab34-c9bb35097848"
      },
      "execution_count": 14,
      "outputs": [
        {
          "output_type": "execute_result",
          "data": {
            "text/plain": [
              "6"
            ]
          },
          "metadata": {},
          "execution_count": 14
        }
      ]
    },
    {
      "cell_type": "code",
      "source": [
        "# 윗줄과 같은 원리\n",
        "str(list(range(0,10001))).count('8')"
      ],
      "metadata": {
        "id": "-dsxHXQV5hCf",
        "colab": {
          "base_uri": "https://localhost:8080/"
        },
        "outputId": "fee28251-c264-473a-a9d1-e9988a5bd91a"
      },
      "execution_count": 25,
      "outputs": [
        {
          "output_type": "execute_result",
          "data": {
            "text/plain": [
              "4000"
            ]
          },
          "metadata": {},
          "execution_count": 25
        }
      ]
    },
    {
      "cell_type": "markdown",
      "source": [
        "- https://codingdojang.com/scode/393?answer_mode=hide"
      ],
      "metadata": {
        "id": "MgU_VmhR3nUP"
      }
    },
    {
      "cell_type": "code",
      "source": [
        "str([1,\n",
        "     2,\n",
        "     3,\n",
        "     4,\n",
        "     5]).count(' ') \n",
        "#list는 콤마 다음에 공백이 없더라도 공백으로 인식, enter가 있어도 공백 1개로 인식 합니다.\n",
        "# 원소 사이에 enter 없어도 4가 나옴"
      ],
      "metadata": {
        "colab": {
          "base_uri": "https://localhost:8080/"
        },
        "id": "oy_uVwT63TRz",
        "outputId": "bce4557c-52ff-4738-814b-2abb86646a6a"
      },
      "execution_count": 24,
      "outputs": [
        {
          "output_type": "execute_result",
          "data": {
            "text/plain": [
              "4"
            ]
          },
          "metadata": {},
          "execution_count": 24
        }
      ]
    },
    {
      "cell_type": "code",
      "source": [
        "'hello'.count('')  # 문자 사이에 빈문자가 들어가있는 건가??"
      ],
      "metadata": {
        "colab": {
          "base_uri": "https://localhost:8080/"
        },
        "id": "Z4sauGIM4JZn",
        "outputId": "a79d9f80-7e9c-4215-ea90-43455ec5f199"
      },
      "execution_count": 19,
      "outputs": [
        {
          "output_type": "execute_result",
          "data": {
            "text/plain": [
              "6"
            ]
          },
          "metadata": {},
          "execution_count": 19
        }
      ]
    },
    {
      "cell_type": "code",
      "source": [
        "'a'.count('')"
      ],
      "metadata": {
        "colab": {
          "base_uri": "https://localhost:8080/"
        },
        "id": "aT9uJHIZ4aZG",
        "outputId": "b086a254-c723-4d97-f8a7-7bd30ad60c82"
      },
      "execution_count": 20,
      "outputs": [
        {
          "output_type": "execute_result",
          "data": {
            "text/plain": [
              "2"
            ]
          },
          "metadata": {},
          "execution_count": 20
        }
      ]
    },
    {
      "cell_type": "code",
      "source": [
        "''.count('')"
      ],
      "metadata": {
        "colab": {
          "base_uri": "https://localhost:8080/"
        },
        "id": "adIvy15s4fal",
        "outputId": "b1430359-b23a-481d-8adc-3188758ddd9c"
      },
      "execution_count": 21,
      "outputs": [
        {
          "output_type": "execute_result",
          "data": {
            "text/plain": [
              "1"
            ]
          },
          "metadata": {},
          "execution_count": 21
        }
      ]
    },
    {
      "cell_type": "code",
      "source": [
        "# 빈 문자열 + 빈문자열 = 빈문자열 이기 때문에 1개로 셈\n",
        "'' + ''"
      ],
      "metadata": {
        "colab": {
          "base_uri": "https://localhost:8080/",
          "height": 35
        },
        "id": "eVZSdCun4hw0",
        "outputId": "b5423e4d-cece-4f3d-f01f-ccab7e6a1742"
      },
      "execution_count": 22,
      "outputs": [
        {
          "output_type": "execute_result",
          "data": {
            "text/plain": [
              "''"
            ],
            "application/vnd.google.colaboratory.intrinsic+json": {
              "type": "string"
            }
          },
          "metadata": {},
          "execution_count": 22
        }
      ]
    },
    {
      "cell_type": "code",
      "source": [
        "# 공백 제거. strip, rstrip, lstrip, relpace\n",
        "'   hello   !  '.strip()"
      ],
      "metadata": {
        "colab": {
          "base_uri": "https://localhost:8080/",
          "height": 35
        },
        "id": "cH3hzHVt6Zn5",
        "outputId": "fc73e976-9f51-44cf-c7e2-76ff2e79d9cf"
      },
      "execution_count": 26,
      "outputs": [
        {
          "output_type": "execute_result",
          "data": {
            "text/plain": [
              "'hello   !'"
            ],
            "application/vnd.google.colaboratory.intrinsic+json": {
              "type": "string"
            }
          },
          "metadata": {},
          "execution_count": 26
        }
      ]
    },
    {
      "cell_type": "code",
      "source": [
        "'   hello   !  '.rstrip(), '   hello   !  '.lstrip()"
      ],
      "metadata": {
        "colab": {
          "base_uri": "https://localhost:8080/"
        },
        "id": "1xuK-m6D6m63",
        "outputId": "a85a76d4-0de9-4a2e-9388-7c3d8ba32b0f"
      },
      "execution_count": 29,
      "outputs": [
        {
          "output_type": "execute_result",
          "data": {
            "text/plain": [
              "('   hello   !', 'hello   !  ')"
            ]
          },
          "metadata": {},
          "execution_count": 29
        }
      ]
    },
    {
      "cell_type": "code",
      "source": [
        "# replace (중요도 *****)\n",
        "'hello world hi'.replace(' ', '!')\n",
        "'hello world hi'.replace('world', 'W@O@R@L@D').upper()"
      ],
      "metadata": {
        "colab": {
          "base_uri": "https://localhost:8080/",
          "height": 35
        },
        "id": "3om90TY_6r2r",
        "outputId": "ac75dc3c-5561-4f5f-8019-dc1711bdd6c9"
      },
      "execution_count": 33,
      "outputs": [
        {
          "output_type": "execute_result",
          "data": {
            "text/plain": [
              "'HELLO W@O@R@L@D HI'"
            ],
            "application/vnd.google.colaboratory.intrinsic+json": {
              "type": "string"
            }
          },
          "metadata": {},
          "execution_count": 33
        }
      ]
    },
    {
      "cell_type": "code",
      "source": [
        "# 메서드 채이닝 : 메서드를 연속으로 호출\n",
        "'hello world hi'.replace('world', 'W@O@R@L@D').upper().split('@')\n",
        "# split()의 반환값은 list() 이기 때문에 메서드 채이닝을 하려면\n",
        "# split 이후로는 list 메서드를 사용해야 함"
      ],
      "metadata": {
        "colab": {
          "base_uri": "https://localhost:8080/"
        },
        "id": "GY8mUSd-7VLd",
        "outputId": "59890a64-4f7b-43f7-b030-93e00326c21e"
      },
      "execution_count": 35,
      "outputs": [
        {
          "output_type": "execute_result",
          "data": {
            "text/plain": [
              "['HELLO W', 'O', 'R', 'L', 'D HI']"
            ]
          },
          "metadata": {},
          "execution_count": 35
        }
      ]
    },
    {
      "cell_type": "code",
      "source": [
        "'hello world hi'.replace(' ', '') # 공백 제거!"
      ],
      "metadata": {
        "colab": {
          "base_uri": "https://localhost:8080/",
          "height": 35
        },
        "id": "tIjUfbMg7src",
        "outputId": "8bc38000-838c-4d95-ded6-fad50e633338"
      },
      "execution_count": 36,
      "outputs": [
        {
          "output_type": "execute_result",
          "data": {
            "text/plain": [
              "'helloworldhi'"
            ],
            "application/vnd.google.colaboratory.intrinsic+json": {
              "type": "string"
            }
          },
          "metadata": {},
          "execution_count": 36
        }
      ]
    },
    {
      "cell_type": "code",
      "source": [
        "data = '''  \"+ +-+ -+-\"  \n",
        "  \"++ -- +-+\"  \n",
        "  \"++-+ -+ -\"  \n",
        "  \"+ ++-+ -+\"  '''\n",
        "data.split('\\n')[0].replace(' ','').replace('\"','')\n",
        "\n",
        "# Pythonic 하지 않다!\n",
        "data.split('\\n')[0].replace(' ',\n",
        "                '').replace('\"',\n",
        "                '')\n",
        "\n",
        "# Pythonic 하게! \\ 붙여주면 다음줄에 이어서 됨.\n",
        "data.split('\\n')[0]\\\n",
        "                .replace(' ','')\\\n",
        "                .replace('\"','')\\\n",
        "                .replace('\"','')\\\n",
        "                .replace('\"','')\\\n",
        "                .replace('\"','')\\\n",
        "\n",
        "# 강사님 기법\n",
        "processed_string = data.split('\\n')[0].replace(' ','').replace('\"','')\n",
        "processed_string.replace('\"','').replace('\"','')\n"
      ],
      "metadata": {
        "colab": {
          "base_uri": "https://localhost:8080/",
          "height": 35
        },
        "id": "EbRg9HkK7-wD",
        "outputId": "a8591a10-c8db-4e4b-fcff-3db45170ea31"
      },
      "execution_count": 40,
      "outputs": [
        {
          "output_type": "execute_result",
          "data": {
            "text/plain": [
              "'++-+-+-'"
            ],
            "application/vnd.google.colaboratory.intrinsic+json": {
              "type": "string"
            }
          },
          "metadata": {},
          "execution_count": 40
        }
      ]
    },
    {
      "cell_type": "code",
      "source": [
        "# 영어 79자\n",
        "# aaaaaaaaaaaaaaaaaaaaaaaaaaaaaaaaaaaaaaaaaaaaaaaaaaaaaaaaaaaaaaaaaaaaaaaaaaaaaaaa 79자\n",
        "# 한글 39자\n",
        "# 아아아아아아아아아아아아아아아아아아아아아아아아아아아아아아아아아아아아아아아아 39자"
      ],
      "metadata": {
        "id": "Rd6PDbC__r0d"
      },
      "execution_count": null,
      "outputs": []
    },
    {
      "cell_type": "code",
      "source": [
        "data = '''  \"+ +-+ -+-\"  \n",
        "  \"++ -- +-+\"  \n",
        "  \"++-+ -+ -\"  \n",
        "  \"+ ++-+ -+\"  '''\n",
        "data.split('\\n')[0].replace(' ','').replace('\"','').replace('+','1').replace('-','0')\n",
        "\n",
        "ord('A'), chr(65) # ord는 문자를 가지고 숫자로 변경. chr은 숫자를 문자로 변경합니다.\n",
        "\n",
        "# ASCII code\n",
        "# A : 65 a :97 \n",
        "# 대문자는 65~90 인데 소문자가 91부터 이어지지 않음! <<<< 유의해야 함!!!!!!!!!\n",
        "\n",
        "num1 = data.split('\\n')[0].replace(' ','').replace('\"','').replace('+','1').replace('-','0')\n",
        "num2 = data.split('\\n')[1].replace(' ','').replace('\"','').replace('+','1').replace('-','0')\n",
        "num3 = data.split('\\n')[2].replace(' ','').replace('\"','').replace('+','1').replace('-','0')\n",
        "num4 = data.split('\\n')[3].replace(' ','').replace('\"','').replace('+','1').replace('-','0')\n",
        "int (num1, 2)\n",
        "chr(int(num1, 2)), chr(int(num2, 2)), chr(int(num3, 2)),chr(int(num4, 2))"
      ],
      "metadata": {
        "colab": {
          "base_uri": "https://localhost:8080/"
        },
        "id": "Klgduh2IA-eM",
        "outputId": "1eb6a805-1e26-44b7-a57c-7250cb830bf5"
      },
      "execution_count": 43,
      "outputs": [
        {
          "output_type": "execute_result",
          "data": {
            "text/plain": [
              "('j', 'e', 'j', 'u')"
            ]
          },
          "metadata": {},
          "execution_count": 43
        }
      ]
    },
    {
      "cell_type": "code",
      "source": [
        "# split (중요도 **** .)\n",
        "'paullab CEO leehojun'.split(' ') #문자열을 쪼개어 줍니다.\n",
        "'paullab!CEO!leehojun'.split('!')\n",
        "'paullab,CEO,leehojun'.split(',')"
      ],
      "metadata": {
        "colab": {
          "base_uri": "https://localhost:8080/"
        },
        "id": "z_1SNx3pCDu-",
        "outputId": "6efd3acf-5388-498d-b763-a2f57b51c03e"
      },
      "execution_count": 44,
      "outputs": [
        {
          "output_type": "execute_result",
          "data": {
            "text/plain": [
              "['paullab', 'CEO', 'leehojun']"
            ]
          },
          "metadata": {},
          "execution_count": 44
        }
      ]
    },
    {
      "cell_type": "code",
      "source": [
        "# 퀴즈\n",
        "'010 5044 2903'.split(' ')\n",
        "'010-5044-2903'.split('-')\n",
        "'010 5044-2903'.replace(' ','-').split('-')\n",
        "\n",
        "# map\n",
        "list(map(int,'010 5044 2903'.split(' ')))\n",
        "list(map(int,'010-5044-2903'.split('-')))\n",
        "list(map(int,'010 5044-2903'.replace(' ','-').split('-')))\n",
        "\n",
        "# list comprehension ( list의 append 사용하는 것 보다 빠름 )\n",
        "ls= '010 5044 2903'.split(' ')\n",
        "[int(i) for i in ls]\n",
        "\n",
        "# map, list comprehension 둘 다 새로운 list를 생성함. 원본 변경은 없음"
      ],
      "metadata": {
        "colab": {
          "base_uri": "https://localhost:8080/"
        },
        "id": "BrkC_Uy8CL1I",
        "outputId": "815ed987-4093-42bf-9851-588b3ceb9b68"
      },
      "execution_count": 55,
      "outputs": [
        {
          "output_type": "execute_result",
          "data": {
            "text/plain": [
              "[10, 5044, 2903]"
            ]
          },
          "metadata": {},
          "execution_count": 55
        }
      ]
    },
    {
      "cell_type": "code",
      "source": [
        "# 원하는 결과값\n",
        "# ['010', '5044','2903']\n",
        "# [10,5044,2904]  # 010 은표현이 안되서 10 으로 해주세요"
      ],
      "metadata": {
        "id": "fK8sx6IiFtJs"
      },
      "execution_count": null,
      "outputs": []
    },
    {
      "cell_type": "code",
      "source": [
        "# 강사님풀이\n",
        "'010 5044 2903'.split() #공백단위가 들어가게 됩니다."
      ],
      "metadata": {
        "colab": {
          "base_uri": "https://localhost:8080/"
        },
        "id": "mKXj1DX2E6uQ",
        "outputId": "7ef96924-a25b-48f7-f0cf-99864ca4e437"
      },
      "execution_count": 57,
      "outputs": [
        {
          "output_type": "execute_result",
          "data": {
            "text/plain": [
              "['010', '5044', '2903']"
            ]
          },
          "metadata": {},
          "execution_count": 57
        }
      ]
    },
    {
      "cell_type": "code",
      "source": [
        "# 지금 진도에서 과한 풀이방법... 뒤에서 상세하게 다룸!\n",
        "def 제곱함수(x):\n",
        "    return x ** 2\n",
        "\n",
        "def 정수함수(x):\n",
        "    return int(x)\n",
        "\n",
        "list(map(제곱함수, [1, 2, 3]))\n",
        "list(map(정수함수, ['1', '2', '3']))\n",
        "list(map(int, ['1', '2', '3']))\n",
        "\n",
        "list(map(int, ['010', '5044', '2903']))\n",
        "list(map(int,'010 5044 2903'.split(' ')))"
      ],
      "metadata": {
        "id": "4HNDfjYTGrQP"
      },
      "execution_count": null,
      "outputs": []
    },
    {
      "cell_type": "code",
      "source": [
        "# join 별 4.5개\n",
        "'~'.join(['hello', 'world', 'hello'])\n",
        "'!'.join(['hello', 'world', 'hello'])\n",
        "''.join(['hello', 'world', 'hello']) # 자주 사용\n",
        "' '.join(['hello', 'world', 'hello']) # 자주 사용"
      ],
      "metadata": {
        "colab": {
          "base_uri": "https://localhost:8080/",
          "height": 35
        },
        "id": "hlrKg0SfHFnB",
        "outputId": "56097ead-1828-42d0-cc9f-e14705fc3637"
      },
      "execution_count": 62,
      "outputs": [
        {
          "output_type": "execute_result",
          "data": {
            "text/plain": [
              "'hello world hello'"
            ],
            "application/vnd.google.colaboratory.intrinsic+json": {
              "type": "string"
            }
          },
          "metadata": {},
          "execution_count": 62
        }
      ]
    },
    {
      "cell_type": "code",
      "source": [
        "#  isalnum( ) / isalpha( ) / isascii( )\n",
        "'hello'.isalpha() # 알파벳인지 확인함"
      ],
      "metadata": {
        "colab": {
          "base_uri": "https://localhost:8080/"
        },
        "id": "Lr6Dw4LdH53U",
        "outputId": "cb4e24a0-b42e-4eb1-c31f-2832fc324dfa"
      },
      "execution_count": 63,
      "outputs": [
        {
          "output_type": "execute_result",
          "data": {
            "text/plain": [
              "False"
            ]
          },
          "metadata": {},
          "execution_count": 63
        }
      ]
    },
    {
      "cell_type": "code",
      "source": [
        "'hel lo'.isalpha() # 띄어쓰기까지 알파벳인지 확인함 (띄어쓰기는 알파벳 아니라 false)"
      ],
      "metadata": {
        "id": "T4dTEGgTIKt5"
      },
      "execution_count": null,
      "outputs": []
    },
    {
      "cell_type": "code",
      "source": [
        "'123'.isdigit() # 숫자인 문자인지 확인"
      ],
      "metadata": {
        "colab": {
          "base_uri": "https://localhost:8080/"
        },
        "id": "9ROcKe5oIIVR",
        "outputId": "f0c18a7d-d8da-42f7-9da0-4982a9a792df"
      },
      "execution_count": 64,
      "outputs": [
        {
          "output_type": "execute_result",
          "data": {
            "text/plain": [
              "True"
            ]
          },
          "metadata": {},
          "execution_count": 64
        }
      ]
    },
    {
      "cell_type": "code",
      "source": [
        "'12a3'.isdigit(), '12 3'.isdigit()"
      ],
      "metadata": {
        "colab": {
          "base_uri": "https://localhost:8080/"
        },
        "id": "hfl1xsT5IRpp",
        "outputId": "ca87ecfb-5b6b-47e2-fcbd-33a644842fbf"
      },
      "execution_count": 65,
      "outputs": [
        {
          "output_type": "execute_result",
          "data": {
            "text/plain": [
              "(False, False)"
            ]
          },
          "metadata": {},
          "execution_count": 65
        }
      ]
    },
    {
      "cell_type": "code",
      "source": [
        "'12a3'.isalnum(), '12 3'.isalnum()"
      ],
      "metadata": {
        "colab": {
          "base_uri": "https://localhost:8080/"
        },
        "id": "rsbxrFG6IXYB",
        "outputId": "8e4ea12a-812c-4f75-c9f2-b5277eae07c3"
      },
      "execution_count": 66,
      "outputs": [
        {
          "output_type": "execute_result",
          "data": {
            "text/plain": [
              "(True, False)"
            ]
          },
          "metadata": {},
          "execution_count": 66
        }
      ]
    },
    {
      "cell_type": "code",
      "source": [
        "'안녕하세요!'.isalpha(), '안녕하세요!'.isalnum()"
      ],
      "metadata": {
        "colab": {
          "base_uri": "https://localhost:8080/"
        },
        "id": "NaILTmbgIfP7",
        "outputId": "48ed30a3-8aed-4d8a-82da-214429e24a36"
      },
      "execution_count": 67,
      "outputs": [
        {
          "output_type": "execute_result",
          "data": {
            "text/plain": [
              "(False, False)"
            ]
          },
          "metadata": {},
          "execution_count": 67
        }
      ]
    },
    {
      "cell_type": "code",
      "source": [
        "#아스키코드인지 아닌지 판단해줍니다.\n",
        "'paullab CEO leehojun'.isascii(), '123'.isascii()"
      ],
      "metadata": {
        "colab": {
          "base_uri": "https://localhost:8080/"
        },
        "id": "CaPooZriN2no",
        "outputId": "16464dd7-c9ba-4992-fc1e-63c7ed3db0bb"
      },
      "execution_count": 72,
      "outputs": [
        {
          "output_type": "execute_result",
          "data": {
            "text/plain": [
              "(True, True)"
            ]
          },
          "metadata": {},
          "execution_count": 72
        }
      ]
    },
    {
      "cell_type": "code",
      "source": [
        "# 퀴즈 \n",
        "# 문자열에 있는 모든 숫자를 더해주세요\n",
        "answer = 0\n",
        "for i in '123abc913sldlf':\n",
        "    if i.isdigit():\n",
        "        answer += int(i)\n",
        "answer"
      ],
      "metadata": {
        "id": "dmMFivwCInyu",
        "colab": {
          "base_uri": "https://localhost:8080/"
        },
        "outputId": "8a004cf6-94d1-4310-d513-829da1e6044c"
      },
      "execution_count": 70,
      "outputs": [
        {
          "output_type": "execute_result",
          "data": {
            "text/plain": [
              "19"
            ]
          },
          "metadata": {},
          "execution_count": 70
        }
      ]
    },
    {
      "cell_type": "code",
      "source": [
        "# rjust( ) / ljust( ) / center( ) format용법으로 거의 커버가 되긴 함...\n",
        "print('paullab CEO leehojun'.rjust(30)) #오른쪽 정렬\n",
        "print('paullab CEO leehojun'.ljust(30)) #왼쪽 정렬\n",
        "print('paullab CEO leehojun'.center(30))#가운데 정렬"
      ],
      "metadata": {
        "colab": {
          "base_uri": "https://localhost:8080/"
        },
        "id": "F6W9cXdJJk55",
        "outputId": "552128d9-71cd-4167-a6e7-8c12b6a37183"
      },
      "execution_count": 71,
      "outputs": [
        {
          "output_type": "stream",
          "name": "stdout",
          "text": [
            "          paullab CEO leehojun\n",
            "paullab CEO leehojun          \n",
            "     paullab CEO leehojun     \n"
          ]
        }
      ]
    },
    {
      "cell_type": "code",
      "source": [
        "# zfill()\n",
        "# 빈 공간을 문자 0으로 채워주는 함수\n",
        "'hello'.zfill(20)"
      ],
      "metadata": {
        "colab": {
          "base_uri": "https://localhost:8080/",
          "height": 35
        },
        "id": "wzD4Ly5ENi9U",
        "outputId": "416cbd7e-6c3a-4d9f-c0b6-2067d6f92c7b"
      },
      "execution_count": 74,
      "outputs": [
        {
          "output_type": "execute_result",
          "data": {
            "text/plain": [
              "'000000000000000hello'"
            ],
            "application/vnd.google.colaboratory.intrinsic+json": {
              "type": "string"
            }
          },
          "metadata": {},
          "execution_count": 74
        }
      ]
    },
    {
      "cell_type": "code",
      "source": [
        "# 2진수 표현에 자주 사용함\n",
        "'1001'.zfill(8)"
      ],
      "metadata": {
        "colab": {
          "base_uri": "https://localhost:8080/",
          "height": 35
        },
        "id": "dUPMs2B-OKyo",
        "outputId": "b7377cf5-32e6-49e3-886e-a67d732eff82"
      },
      "execution_count": 76,
      "outputs": [
        {
          "output_type": "execute_result",
          "data": {
            "text/plain": [
              "'00001001'"
            ],
            "application/vnd.google.colaboratory.intrinsic+json": {
              "type": "string"
            }
          },
          "metadata": {},
          "execution_count": 76
        }
      ]
    },
    {
      "cell_type": "code",
      "source": [
        "'hello'.zfill(10).replace('0', '-')"
      ],
      "metadata": {
        "colab": {
          "base_uri": "https://localhost:8080/",
          "height": 35
        },
        "id": "7P_rwDPcOXn5",
        "outputId": "c296ebf8-770a-462b-b250-f5e99a1aac4e"
      },
      "execution_count": 77,
      "outputs": [
        {
          "output_type": "execute_result",
          "data": {
            "text/plain": [
              "'-----hello'"
            ],
            "application/vnd.google.colaboratory.intrinsic+json": {
              "type": "string"
            }
          },
          "metadata": {},
          "execution_count": 77
        }
      ]
    },
    {
      "cell_type": "code",
      "source": [
        "# translate()\n",
        "# 규칙 테이블이며 규칙을 정해 데이터를 정렬해줌\n",
        "규칙테이블 = str.maketrans({'\\n':'', '\\t':''})  # replace랑 똑같은것...임\n",
        "'paullab \\n\\n\\n CEO \\t\\t\\t leehojun'.translate(규칙테이블)\n",
        "# 같은 결과 replace로...\n",
        "# 'paullab \\n\\n\\n CEO \\t\\t\\t leehojun'.replace('\\n', '').replace('\\t', '')"
      ],
      "metadata": {
        "colab": {
          "base_uri": "https://localhost:8080/",
          "height": 35
        },
        "id": "OW0fJOdIOeP7",
        "outputId": "d7b28485-9954-42b4-9c69-339d7897aaa7"
      },
      "execution_count": 79,
      "outputs": [
        {
          "output_type": "execute_result",
          "data": {
            "text/plain": [
              "'paullab  CEO  leehojun'"
            ],
            "application/vnd.google.colaboratory.intrinsic+json": {
              "type": "string"
            }
          },
          "metadata": {},
          "execution_count": 79
        }
      ]
    },
    {
      "cell_type": "code",
      "source": [
        "# str.maketrans에서 규칙을 정할 때 똑같은 길이를 가지고 있어야 함\n",
        "규칙테이블 = str.maketrans('\\n\\t', '  ')  # \\n -> ' ' , \\t -> ' '\n",
        "'paullab \\n\\n\\n CEO \\t\\t\\t leehojun'.translate(규칙테이블)"
      ],
      "metadata": {
        "colab": {
          "base_uri": "https://localhost:8080/",
          "height": 35
        },
        "id": "QNmRkDXqO8Gr",
        "outputId": "84c96279-3088-4b64-f77e-0e73e00b3ce0"
      },
      "execution_count": 80,
      "outputs": [
        {
          "output_type": "execute_result",
          "data": {
            "text/plain": [
              "'paullab     CEO     leehojun'"
            ],
            "application/vnd.google.colaboratory.intrinsic+json": {
              "type": "string"
            }
          },
          "metadata": {},
          "execution_count": 80
        }
      ]
    },
    {
      "cell_type": "code",
      "source": [
        "규칙테이블 = str.maketrans('le', '12')\n",
        "'lehojun leeesnaghuck hahah'.translate(규칙테이블)"
      ],
      "metadata": {
        "colab": {
          "base_uri": "https://localhost:8080/",
          "height": 35
        },
        "id": "aq4cA2PyPOD9",
        "outputId": "6f60fbab-c609-4df4-eebc-3fed707f08db"
      },
      "execution_count": 82,
      "outputs": [
        {
          "output_type": "execute_result",
          "data": {
            "text/plain": [
              "'12hojun 1222snaghuck hahah'"
            ],
            "application/vnd.google.colaboratory.intrinsic+json": {
              "type": "string"
            }
          },
          "metadata": {},
          "execution_count": 82
        }
      ]
    },
    {
      "cell_type": "markdown",
      "source": [
        "## pep"
      ],
      "metadata": {
        "id": "a-QPSqo0PceT"
      }
    },
    {
      "cell_type": "code",
      "source": [
        "# aaaaaaaaaaaaaaaaaaaaaaaaaaaaaaaaaaaaaaaaaaaaaaaaaaaaaaaaaaaaaaaaaaaaaaaaaaaaaaaa => 80자\n",
        "# 아아아아아아아아아아아아아아아아아아아아아아아아아아아아아아아아아아아아아아아아아아 => 42자면 한글 넘어갑니다.\n",
        "# line에 딱 맞춰 들어간 것을 볼 수 있습니다. \n",
        "# 강제사항은 아닙니다.\n",
        "# 띄어쓰기 4번도 강제사항은 아닙니다.\n",
        "# pep8, pep 20에 기술되어 있습니다. => pep(Python Enhancement Proposal)란 무엇인가요? 8이란 무엇인가요?\n",
        "# pep8 : Style Guide for Python Code (https://peps.python.org/pep-0008/) \n",
        "# pep20 : The Zen of Python (https://peps.python.org/pep-0020/) #이스터에그로 숨겨져 있습니다!\n",
        "# https://peps.python.org/\n",
        "import this"
      ],
      "metadata": {
        "colab": {
          "base_uri": "https://localhost:8080/"
        },
        "id": "iRpn5jIhPgcY",
        "outputId": "b6fdcbfb-5790-4f0a-c2f6-4705147a92e9"
      },
      "execution_count": 83,
      "outputs": [
        {
          "output_type": "stream",
          "name": "stdout",
          "text": [
            "The Zen of Python, by Tim Peters\n",
            "\n",
            "Beautiful is better than ugly.\n",
            "Explicit is better than implicit.\n",
            "Simple is better than complex.\n",
            "Complex is better than complicated.\n",
            "Flat is better than nested.\n",
            "Sparse is better than dense.\n",
            "Readability counts.\n",
            "Special cases aren't special enough to break the rules.\n",
            "Although practicality beats purity.\n",
            "Errors should never pass silently.\n",
            "Unless explicitly silenced.\n",
            "In the face of ambiguity, refuse the temptation to guess.\n",
            "There should be one-- and preferably only one --obvious way to do it.\n",
            "Although that way may not be obvious at first unless you're Dutch.\n",
            "Now is better than never.\n",
            "Although never is often better than *right* now.\n",
            "If the implementation is hard to explain, it's a bad idea.\n",
            "If the implementation is easy to explain, it may be a good idea.\n",
            "Namespaces are one honking great idea -- let's do more of those!\n"
          ]
        }
      ]
    },
    {
      "cell_type": "markdown",
      "source": [
        "## cpython\n",
        "\n",
        "* 공식 홈페이지에서 python 다운로드 받는 것이 cpython입니다.\n",
        "* https://github.com/python/cpython\n",
        "* list를 구현한 코드 : https://github.com/python/cpython/blob/main/Objects/listobject.c"
      ],
      "metadata": {
        "id": "beh2fXNAQnn7"
      }
    },
    {
      "cell_type": "markdown",
      "source": [
        "## 인덱싱과 슬라이싱"
      ],
      "metadata": {
        "id": "F751djVVSXHb"
      }
    },
    {
      "cell_type": "code",
      "source": [
        "name = 'Guido van Rossum'\n",
        "print(name[0])\n",
        "print(name[1])\n",
        "print(name[2])"
      ],
      "metadata": {
        "colab": {
          "base_uri": "https://localhost:8080/"
        },
        "id": "D-_BfW0YSbBQ",
        "outputId": "c823fc8b-5338-4a40-c109-bbb40a9e6d84"
      },
      "execution_count": 84,
      "outputs": [
        {
          "output_type": "stream",
          "name": "stdout",
          "text": [
            "G\n",
            "u\n",
            "i\n"
          ]
        }
      ]
    },
    {
      "cell_type": "code",
      "source": [
        "# s[start:stop:step]\n",
        "s = 'paullab CEO leehojun'\n",
        "s[5:]   # 5번째 부터 끝까지\n",
        "s[:5]   # 처음부터 5번째까지 (index 4 까지)\n",
        "s[3:10]\n",
        "s[:]    # 처음부터 끝까지\n",
        "s[0:20:2]"
      ],
      "metadata": {
        "colab": {
          "base_uri": "https://localhost:8080/",
          "height": 35
        },
        "id": "iibgoGy5SjkU",
        "outputId": "930bd105-5fe5-40b2-813b-d98ed90d2f92"
      },
      "execution_count": 89,
      "outputs": [
        {
          "output_type": "execute_result",
          "data": {
            "text/plain": [
              "'pulbCOleou'"
            ],
            "application/vnd.google.colaboratory.intrinsic+json": {
              "type": "string"
            }
          },
          "metadata": {},
          "execution_count": 89
        }
      ]
    },
    {
      "cell_type": "code",
      "source": [
        "# 자주 사용되는 인덱싱 슬라이싱 코드\n",
        "s = 'paullab CEO leehojun!'\n",
        "s[:]    # string에서는 많이 사용하지 않지만 list에서 많이 사용합니다. (복사때문에...?)\n",
        "s[:-1]  # 마지막 원소만 제외하고 다 슬라이싱 합니다."
      ],
      "metadata": {
        "colab": {
          "base_uri": "https://localhost:8080/",
          "height": 35
        },
        "id": "UtuPETKWTMlQ",
        "outputId": "da8d3e2d-efa2-4219-90e3-ebd68d18b343"
      },
      "execution_count": 93,
      "outputs": [
        {
          "output_type": "execute_result",
          "data": {
            "text/plain": [
              "'paullab CEO leehojun'"
            ],
            "application/vnd.google.colaboratory.intrinsic+json": {
              "type": "string"
            }
          },
          "metadata": {},
          "execution_count": 93
        }
      ]
    },
    {
      "cell_type": "code",
      "source": [
        "test = [1, 2, 3, 4]\n",
        "test2 = test # 복사가 일어남\n",
        "test2[0] = 1000\n",
        "test, test2 ## 값이 둘 다 바뀜."
      ],
      "metadata": {
        "id": "RItjE90wTiK7",
        "colab": {
          "base_uri": "https://localhost:8080/"
        },
        "outputId": "da18d437-d0b4-416b-a520-0039831d4d4b"
      },
      "execution_count": 90,
      "outputs": [
        {
          "output_type": "execute_result",
          "data": {
            "text/plain": [
              "([1000, 2, 3, 4], [1000, 2, 3, 4])"
            ]
          },
          "metadata": {},
          "execution_count": 90
        }
      ]
    },
    {
      "cell_type": "code",
      "source": [
        "test = [1, 2, 3, 4]\n",
        "test2 = test[:] # 새로운 리스트를 만들어서 test2에게 줌\n",
        "test2[0] = 1000\n",
        "test, test2 ## 값이서로 다름 test2만 바뀜"
      ],
      "metadata": {
        "colab": {
          "base_uri": "https://localhost:8080/"
        },
        "id": "OL3qbLQcTx1h",
        "outputId": "690d71a0-6d73-4079-f85b-074cb482e7b0"
      },
      "execution_count": 91,
      "outputs": [
        {
          "output_type": "execute_result",
          "data": {
            "text/plain": [
              "([1, 2, 3, 4], [1000, 2, 3, 4])"
            ]
          },
          "metadata": {},
          "execution_count": 91
        }
      ]
    },
    {
      "cell_type": "markdown",
      "source": [
        "## 문자열의 연산"
      ],
      "metadata": {
        "id": "2d9KpzQEUtRf"
      }
    },
    {
      "cell_type": "code",
      "source": [
        "s = 'hello world'\n",
        "dir(s)\n",
        "\n",
        "s + s\n",
        "s*3\n",
        "# s/s, s**s, s-s 는 ERROR"
      ],
      "metadata": {
        "colab": {
          "base_uri": "https://localhost:8080/",
          "height": 35
        },
        "id": "ObW676mcUZ_8",
        "outputId": "1e89caa4-8922-41dc-f1a9-6dc9e2c2c82a"
      },
      "execution_count": 96,
      "outputs": [
        {
          "output_type": "execute_result",
          "data": {
            "text/plain": [
              "'hello worldhello worldhello world'"
            ],
            "application/vnd.google.colaboratory.intrinsic+json": {
              "type": "string"
            }
          },
          "metadata": {},
          "execution_count": 96
        }
      ]
    },
    {
      "cell_type": "markdown",
      "source": [
        "## 형변환"
      ],
      "metadata": {
        "id": "P6wZ4pwwUu3X"
      }
    },
    {
      "cell_type": "markdown",
      "source": [
        "* 형변환 : type을 변경하는 것입니다."
      ],
      "metadata": {
        "id": "Alj37CVFWE_z"
      }
    },
    {
      "cell_type": "markdown",
      "source": [
        "### 형변환 int float"
      ],
      "metadata": {
        "id": "aJPVNYvUXCGC"
      }
    },
    {
      "cell_type": "code",
      "source": [
        "x = int(input())\n",
        "x + x # but 알파벳 입력하면 error!"
      ],
      "metadata": {
        "colab": {
          "base_uri": "https://localhost:8080/",
          "height": 248
        },
        "id": "taXKM5UnU4Hd",
        "outputId": "fb9a80c9-c192-471a-f886-b9422998fff1"
      },
      "execution_count": 100,
      "outputs": [
        {
          "name": "stdout",
          "output_type": "stream",
          "text": [
            "10\n"
          ]
        },
        {
          "output_type": "error",
          "ename": "AttributeError",
          "evalue": "ignored",
          "traceback": [
            "\u001b[0;31m---------------------------------------------------------------------------\u001b[0m",
            "\u001b[0;31mAttributeError\u001b[0m                            Traceback (most recent call last)",
            "\u001b[0;32m<ipython-input-100-449880225891>\u001b[0m in \u001b[0;36m<cell line: 2>\u001b[0;34m()\u001b[0m\n\u001b[1;32m      1\u001b[0m \u001b[0mx\u001b[0m \u001b[0;34m=\u001b[0m \u001b[0mint\u001b[0m\u001b[0;34m(\u001b[0m\u001b[0minput\u001b[0m\u001b[0;34m(\u001b[0m\u001b[0;34m)\u001b[0m\u001b[0;34m)\u001b[0m\u001b[0;34m\u001b[0m\u001b[0;34m\u001b[0m\u001b[0m\n\u001b[0;32m----> 2\u001b[0;31m \u001b[0;32mif\u001b[0m \u001b[0mx\u001b[0m\u001b[0;34m.\u001b[0m\u001b[0misdigit\u001b[0m\u001b[0;34m(\u001b[0m\u001b[0;34m)\u001b[0m\u001b[0;34m:\u001b[0m\u001b[0;34m\u001b[0m\u001b[0;34m\u001b[0m\u001b[0m\n\u001b[0m\u001b[1;32m      3\u001b[0m     \u001b[0mx\u001b[0m \u001b[0;34m=\u001b[0m \u001b[0mint\u001b[0m\u001b[0;34m(\u001b[0m\u001b[0mx\u001b[0m\u001b[0;34m)\u001b[0m\u001b[0;34m\u001b[0m\u001b[0;34m\u001b[0m\u001b[0m\n\u001b[1;32m      4\u001b[0m \u001b[0mx\u001b[0m \u001b[0;34m+\u001b[0m \u001b[0mx\u001b[0m \u001b[0;31m# but 알파벳 입력하면 error!\u001b[0m\u001b[0;34m\u001b[0m\u001b[0;34m\u001b[0m\u001b[0m\n",
            "\u001b[0;31mAttributeError\u001b[0m: 'int' object has no attribute 'isdigit'"
          ]
        }
      ]
    },
    {
      "cell_type": "code",
      "source": [
        "x = input()\n",
        "if x.isdigit():\n",
        "    x = int(x) # but 알파벳 입력하면 error!\n",
        "x + x"
      ],
      "metadata": {
        "colab": {
          "base_uri": "https://localhost:8080/"
        },
        "id": "CYo7Cwe5VVmW",
        "outputId": "1e183bed-7f77-4e07-dbb0-cb0446153c4d"
      },
      "execution_count": 101,
      "outputs": [
        {
          "name": "stdout",
          "output_type": "stream",
          "text": [
            "10\n"
          ]
        },
        {
          "output_type": "execute_result",
          "data": {
            "text/plain": [
              "20"
            ]
          },
          "metadata": {},
          "execution_count": 101
        }
      ]
    },
    {
      "cell_type": "code",
      "source": [
        "# int('abc') #error\n",
        "int(10.1) #버림\n",
        "int('10') #형변환 가능\n",
        "# int('10.1') #형변환 불가능"
      ],
      "metadata": {
        "colab": {
          "base_uri": "https://localhost:8080/"
        },
        "id": "lTh3lTsLVcWJ",
        "outputId": "7abc879e-e575-4bde-8c01-266227a9237d"
      },
      "execution_count": 104,
      "outputs": [
        {
          "output_type": "execute_result",
          "data": {
            "text/plain": [
              "10"
            ]
          },
          "metadata": {},
          "execution_count": 104
        }
      ]
    },
    {
      "cell_type": "code",
      "source": [
        "# float('abc') #error\n",
        "float(10.1) #버림\n",
        "float('10') #형변환 가능\n",
        "float('10.1') #형변환 가능"
      ],
      "metadata": {
        "colab": {
          "base_uri": "https://localhost:8080/"
        },
        "id": "MBqLgXtGVrV9",
        "outputId": "258a4b08-42de-4748-c80a-5aa2af9aafae"
      },
      "execution_count": 107,
      "outputs": [
        {
          "output_type": "execute_result",
          "data": {
            "text/plain": [
              "10.1"
            ]
          },
          "metadata": {},
          "execution_count": 107
        }
      ]
    },
    {
      "cell_type": "code",
      "source": [
        "int('10a')  # 되는 언어가 있어서 보여드림 ex) JavaScript\n",
        "# python 에서는 허용하지 않습니다."
      ],
      "metadata": {
        "colab": {
          "base_uri": "https://localhost:8080/",
          "height": 193
        },
        "id": "obsbFLtLV1EN",
        "outputId": "7817ba72-f006-474e-9966-396cee22a86f"
      },
      "execution_count": 108,
      "outputs": [
        {
          "output_type": "error",
          "ename": "ValueError",
          "evalue": "ignored",
          "traceback": [
            "\u001b[0;31m---------------------------------------------------------------------------\u001b[0m",
            "\u001b[0;31mValueError\u001b[0m                                Traceback (most recent call last)",
            "\u001b[0;32m<ipython-input-108-2b848668e0ee>\u001b[0m in \u001b[0;36m<cell line: 1>\u001b[0;34m()\u001b[0m\n\u001b[0;32m----> 1\u001b[0;31m \u001b[0mint\u001b[0m\u001b[0;34m(\u001b[0m\u001b[0;34m'10a'\u001b[0m\u001b[0;34m)\u001b[0m  \u001b[0;31m# 되는 언어가 있어서 보여드림\u001b[0m\u001b[0;34m\u001b[0m\u001b[0;34m\u001b[0m\u001b[0m\n\u001b[0m\u001b[1;32m      2\u001b[0m \u001b[0;31m# python 에서는 허용하지 않습니다.\u001b[0m\u001b[0;34m\u001b[0m\u001b[0;34m\u001b[0m\u001b[0m\n",
            "\u001b[0;31mValueError\u001b[0m: invalid literal for int() with base 10: '10a'"
          ]
        }
      ]
    },
    {
      "cell_type": "markdown",
      "source": [
        "### 형변환 string"
      ],
      "metadata": {
        "id": "SxXJ3S50WDQE"
      }
    },
    {
      "cell_type": "code",
      "source": [
        "def hello():\n",
        "    pass\n",
        "\n",
        "str(123)\n",
        "str(True)\n",
        "str(None)\n",
        "str(type)\n",
        "\n",
        "str(hello)  # <function hello at 0x~~~~>\n",
        "str([1,2,3])\n",
        "str((1,2,3))\n",
        "str({1,2,3})\n",
        "str({'one':1, 'two':2})"
      ],
      "metadata": {
        "colab": {
          "base_uri": "https://localhost:8080/",
          "height": 35
        },
        "id": "1LoXi7tzWPuj",
        "outputId": "2a129b96-8b04-411a-db8e-6c987c789461"
      },
      "execution_count": 122,
      "outputs": [
        {
          "output_type": "execute_result",
          "data": {
            "text/plain": [
              "\"{'one': 1, 'two': 2}\""
            ],
            "application/vnd.google.colaboratory.intrinsic+json": {
              "type": "string"
            }
          },
          "metadata": {},
          "execution_count": 122
        }
      ]
    },
    {
      "cell_type": "markdown",
      "source": [
        "### 형변환 bool"
      ],
      "metadata": {
        "id": "3yHh6k5LoLUl"
      }
    },
    {
      "cell_type": "code",
      "source": [
        "# ***** 별 다섯 개!\n",
        "if True:\n",
        "    print('hi')\n",
        "\n",
        "if 'hello': \n",
        "    print('hi')\n",
        "\n",
        "# 문자열이 빈문자열 아니면 모두 True\n",
        "print(bool(''))\n",
        "print(bool('a'))\n",
        "print(bool('False'))\n",
        "print(bool('True'))\n",
        "# 숫자는 0만 False, 나머지는 True\n",
        "print(bool(0))\n",
        "print(bool(-1))\n",
        "print(bool(124))\n",
        "print(bool(100.1))\n",
        "print(bool(None) ) # None은 비어있음을 명시해주는 키워드. False\n",
        "\n",
        "# 컨벤션 자료형은 비어있으면 False입니다.\n",
        "print(bool([]))\n",
        "print(bool({}))\n",
        "print(bool([1]))\n"
      ],
      "metadata": {
        "colab": {
          "base_uri": "https://localhost:8080/"
        },
        "id": "30lhX-oDW4ip",
        "outputId": "e824c53c-2a74-46c6-b7ae-dab3200f944d"
      },
      "execution_count": 143,
      "outputs": [
        {
          "output_type": "stream",
          "name": "stdout",
          "text": [
            "hi\n",
            "hi\n",
            "False\n",
            "True\n",
            "True\n",
            "True\n",
            "False\n",
            "True\n",
            "True\n",
            "True\n",
            "False\n",
            "False\n",
            "False\n",
            "True\n"
          ]
        }
      ]
    },
    {
      "cell_type": "code",
      "source": [
        "# python 에서는 컨벤션이 비어있으면 False이기 때문에 이용하는 방법!? \n",
        "# >> javascript는 안그럼..\n",
        "ls = [1,2,3]\n",
        "while ls:\n",
        "    print(ls.pop())"
      ],
      "metadata": {
        "colab": {
          "base_uri": "https://localhost:8080/"
        },
        "id": "FVRCB70GpEKE",
        "outputId": "ed70db43-a3aa-4c6f-ee22-3281207a4a3f"
      },
      "execution_count": 141,
      "outputs": [
        {
          "output_type": "stream",
          "name": "stdout",
          "text": [
            "3\n",
            "2\n",
            "1\n"
          ]
        }
      ]
    },
    {
      "cell_type": "code",
      "source": [
        "# list로 형변환\n",
        "s = '10'\n",
        "l = list(s)\n",
        "l"
      ],
      "metadata": {
        "colab": {
          "base_uri": "https://localhost:8080/"
        },
        "id": "KFzIt5ZHplkz",
        "outputId": "ff104642-51a2-4794-e872-7cd70e6c00ec"
      },
      "execution_count": 145,
      "outputs": [
        {
          "output_type": "execute_result",
          "data": {
            "text/plain": [
              "['1', '0']"
            ]
          },
          "metadata": {},
          "execution_count": 145
        }
      ]
    },
    {
      "cell_type": "code",
      "source": [
        "s = 'leehojun'\n",
        "l = list(s)\n",
        "l"
      ],
      "metadata": {
        "colab": {
          "base_uri": "https://localhost:8080/"
        },
        "id": "XGtgYcYtprVw",
        "outputId": "642b9217-6b9c-4111-e25a-cb3fe8d95197"
      },
      "execution_count": 146,
      "outputs": [
        {
          "output_type": "execute_result",
          "data": {
            "text/plain": [
              "['l', 'e', 'e', 'h', 'o', 'j', 'u', 'n']"
            ]
          },
          "metadata": {},
          "execution_count": 146
        }
      ]
    },
    {
      "cell_type": "code",
      "source": [
        "# tuple로 형변환\n",
        "s = '10'\n",
        "t = tuple(s)\n",
        "t"
      ],
      "metadata": {
        "colab": {
          "base_uri": "https://localhost:8080/"
        },
        "id": "T0EnpFZ9pxSR",
        "outputId": "8c1373fb-a5e7-4dd6-e1fb-7563a3ce9530"
      },
      "execution_count": 147,
      "outputs": [
        {
          "output_type": "execute_result",
          "data": {
            "text/plain": [
              "('1', '0')"
            ]
          },
          "metadata": {},
          "execution_count": 147
        }
      ]
    },
    {
      "cell_type": "code",
      "source": [
        "s = 'leehojun'\n",
        "t = tuple(s)\n",
        "t"
      ],
      "metadata": {
        "colab": {
          "base_uri": "https://localhost:8080/"
        },
        "id": "B30-8F2hp1vA",
        "outputId": "4e47d0e6-866f-4a05-9685-cc12d668a9a9"
      },
      "execution_count": 148,
      "outputs": [
        {
          "output_type": "execute_result",
          "data": {
            "text/plain": [
              "('l', 'e', 'e', 'h', 'o', 'j', 'u', 'n')"
            ]
          },
          "metadata": {},
          "execution_count": 148
        }
      ]
    },
    {
      "cell_type": "code",
      "source": [
        "# dictionary 로 형변환\n",
        "# name = 'leehoun'\n",
        "# dict(name) # 단순 문자만 넣으면 error\n",
        "\n",
        "s = [('name', 'leehojun'), ('age', 10)]\n",
        "d = dict(s)\n",
        "d"
      ],
      "metadata": {
        "colab": {
          "base_uri": "https://localhost:8080/"
        },
        "id": "S3Yo1fvHp4RQ",
        "outputId": "5c8c8009-7e7a-4d70-9acc-ad8ea2cf8f6a"
      },
      "execution_count": 150,
      "outputs": [
        {
          "output_type": "execute_result",
          "data": {
            "text/plain": [
              "{'name': 'leehojun', 'age': 10}"
            ]
          },
          "metadata": {},
          "execution_count": 150
        }
      ]
    },
    {
      "cell_type": "code",
      "source": [
        "# set 으로 형변환\n",
        "# set은 순서를 보장하지 않고, 중복된 원소를 제외함\n",
        "name = 'leehojun'\n",
        "set(name)"
      ],
      "metadata": {
        "colab": {
          "base_uri": "https://localhost:8080/"
        },
        "id": "hOI3Hx69qOtk",
        "outputId": "d7de0fef-3dd0-498f-8efa-24c6bd076fa0"
      },
      "execution_count": 152,
      "outputs": [
        {
          "output_type": "execute_result",
          "data": {
            "text/plain": [
              "{'e', 'h', 'j', 'l', 'n', 'o', 'u'}"
            ]
          },
          "metadata": {},
          "execution_count": 152
        }
      ]
    },
    {
      "cell_type": "code",
      "source": [
        "# len() 함수는 __len__ \n",
        "len('hello world')\n",
        "len([1,2,3,4])\n",
        "len({1,2,3})"
      ],
      "metadata": {
        "colab": {
          "base_uri": "https://localhost:8080/"
        },
        "id": "SWe_JQEyqeJN",
        "outputId": "809c0b8c-f712-4d78-a5cb-d85411dcd3bf"
      },
      "execution_count": 155,
      "outputs": [
        {
          "output_type": "execute_result",
          "data": {
            "text/plain": [
              "3"
            ]
          },
          "metadata": {},
          "execution_count": 155
        }
      ]
    },
    {
      "cell_type": "code",
      "source": [],
      "metadata": {
        "id": "zV_7GlI5qjqw"
      },
      "execution_count": null,
      "outputs": []
    },
    {
      "cell_type": "code",
      "source": [
        "#연습문제 2번\n",
        "def function(input):\n",
        "    return input*2\n",
        "\n",
        "user_input = input('문자를 입력해 주세요: ')\n",
        "function(user_input)\n",
        "\n",
        "# print(input('문자를입력해주세!: ')*2 # 이렇게도 똑같음"
      ],
      "metadata": {
        "colab": {
          "base_uri": "https://localhost:8080/",
          "height": 54
        },
        "id": "munbiDyBqsM3",
        "outputId": "e66fb224-4071-407c-c66c-b294077233a6"
      },
      "execution_count": 170,
      "outputs": [
        {
          "name": "stdout",
          "output_type": "stream",
          "text": [
            "문자를 입력해 주세요abc\n"
          ]
        },
        {
          "output_type": "execute_result",
          "data": {
            "text/plain": [
              "'abcabc'"
            ],
            "application/vnd.google.colaboratory.intrinsic+json": {
              "type": "string"
            }
          },
          "metadata": {},
          "execution_count": 170
        }
      ]
    },
    {
      "cell_type": "code",
      "source": [
        "#연습문제 3번\n",
        "num = 1234567890\n",
        "list(str(num))[3]\n"
      ],
      "metadata": {
        "colab": {
          "base_uri": "https://localhost:8080/",
          "height": 35
        },
        "id": "vPq_Wn2lsQSr",
        "outputId": "c0441b90-9224-4bc8-db55-a04155ace942"
      },
      "execution_count": 2,
      "outputs": [
        {
          "output_type": "execute_result",
          "data": {
            "text/plain": [
              "'4'"
            ],
            "application/vnd.google.colaboratory.intrinsic+json": {
              "type": "string"
            }
          },
          "metadata": {},
          "execution_count": 2
        }
      ]
    },
    {
      "cell_type": "markdown",
      "source": [
        "## 산술연산"
      ],
      "metadata": {
        "id": "vXA7Y33us_UM"
      }
    },
    {
      "cell_type": "code",
      "source": [
        "a =10\n",
        "b=3\n",
        "print(f'10 + 3 == {a + b}')\n",
        "print(f'10 - 3 == {a - b}')\n",
        "print(f'10 / 3 == {a / b}')\n",
        "print(f'10 // 3 == {a // b}')   # 몫만 나옵니다.(정수)\n",
        "print(f'10 * 3 == {a * b}')\n",
        "print(f'10 ** 3 == {a ** b}')\n",
        "print(f'10 % 3 == {a % b}')     # 나머지"
      ],
      "metadata": {
        "colab": {
          "base_uri": "https://localhost:8080/"
        },
        "id": "AOAEW7yTtCOZ",
        "outputId": "1edf4210-5374-40cd-e3ed-855d3922f396"
      },
      "execution_count": 3,
      "outputs": [
        {
          "output_type": "stream",
          "name": "stdout",
          "text": [
            "10 + 3 == 13\n",
            "10 - 3 == 7\n",
            "10 / 3 == 3.3333333333333335\n",
            "10 // 3 == 3\n",
            "10 * 3 == 30\n",
            "10 ** 3 == 1000\n",
            "10 % 3 == 1\n"
          ]
        }
      ]
    },
    {
      "cell_type": "code",
      "source": [
        "# 연산자 우선순위\n",
        "# and, or, 4칙연산, 제곱정도만 알면 코딩하는데 큰 무리가 없음.\n",
        "# 모르면 읽는데 어려움이 생기기도 함...\n",
        "# 헷갈릴 때에는 괄호 씌워서 하기!!\n",
        "# point\n",
        "# ** > *\n",
        "# and > or\n",
        "print(3 ** 2 * 3)\n",
        "print(3 * 3 ** 2)   # 연산자 우선순위 ** > * 이기 때문에 3 ** 2 를 먼저함\n",
        "print(3 + 3 * 2)\n",
        "\n",
        "#"
      ],
      "metadata": {
        "colab": {
          "base_uri": "https://localhost:8080/"
        },
        "id": "fB2OFuwtt3mU",
        "outputId": "0284dff6-fb8b-43c2-f057-90b716b0090d"
      },
      "execution_count": 5,
      "outputs": [
        {
          "output_type": "stream",
          "name": "stdout",
          "text": [
            "27\n",
            "27\n",
            "9\n"
          ]
        }
      ]
    },
    {
      "cell_type": "markdown",
      "source": [
        "## 비교연산"
      ],
      "metadata": {
        "id": "FIGoM5Odu65K"
      }
    },
    {
      "cell_type": "code",
      "source": [
        "# 비교연산자\n",
        "a =10\n",
        "b=3\n",
        "\n",
        "print(f'10 > 3 == {a > b}')\n",
        "print(f'10 >= 3 == {a >= b}')\n",
        "print(f'10 < 3 == {a < b}')\n",
        "print(f'10 <= 3 == {a <= b}')\n",
        "print(f'10 == 3 == {a == b}')\n",
        "print(f'10 != 3 == {a != b}')"
      ],
      "metadata": {
        "id": "whXNMIYBvAZO"
      },
      "execution_count": null,
      "outputs": []
    },
    {
      "cell_type": "markdown",
      "source": [
        "## 논리연산 "
      ],
      "metadata": {
        "id": "TyCht8zNvQOl"
      }
    },
    {
      "cell_type": "code",
      "source": [
        "# and 는 곱\n",
        "# or 는 합\n",
        "# not 은 반대\n",
        "# True 1\n",
        "# False 0\n",
        "# 중요한 포인트는 저렇게 쓸 때, 언제 True가 되는지 정리하는 것\n",
        "\n",
        "print(True and False)\n",
        "print(True or False)\n",
        "\n",
        "if True and False:\n",
        "    print('hello and')\n",
        "\n",
        "if 10>3 and 8%3==0:\n",
        "    print('world and')\n",
        "\n",
        "if True or False:\n",
        "    print('hello or')\n",
        "\n",
        "if 10>3 or 8%3==0:\n",
        "    print('world or')\n",
        "\n",
        "# and는 언제 True가 되나요?\n",
        "# --> 모두 True 일 때\n",
        "# or는 언제 True가 되나요?\n",
        "# --> 하나라도 True 일 때"
      ],
      "metadata": {
        "colab": {
          "base_uri": "https://localhost:8080/"
        },
        "id": "LyTHO-w5vTn8",
        "outputId": "c47187cd-bf0d-4898-ad70-fc35e2d45f3d"
      },
      "execution_count": 6,
      "outputs": [
        {
          "output_type": "stream",
          "name": "stdout",
          "text": [
            "False\n",
            "True\n",
            "hello or\n",
            "world or\n"
          ]
        }
      ]
    },
    {
      "cell_type": "code",
      "source": [
        "# 문제 링크 : https://codingdojang.com/scode/350?answer_mode=hide\n",
        "answer = 0\n",
        "for i in range(101):\n",
        "    if i % 3 == 0 or i % 5 == 0:  ## 3과 5의 공배수를 찾고싶으면 and!\n",
        "        answer += i\n",
        "\n",
        "answer # 2418"
      ],
      "metadata": {
        "colab": {
          "base_uri": "https://localhost:8080/"
        },
        "id": "_7FQg3_0wtPN",
        "outputId": "62b90115-48d2-48e8-88d2-8cb0e68d3fb0"
      },
      "execution_count": 10,
      "outputs": [
        {
          "output_type": "execute_result",
          "data": {
            "text/plain": [
              "2418"
            ]
          },
          "metadata": {},
          "execution_count": 10
        }
      ]
    },
    {
      "cell_type": "code",
      "source": [
        "# and or를 안 쓰면...\n",
        "result = 0\n",
        "for i in range(101):\n",
        "    if i % 3 == 0:\n",
        "        result += i\n",
        "        continue \n",
        "    if i % 5 == 0:\n",
        "        result += i\n",
        "\n",
        "result"
      ],
      "metadata": {
        "colab": {
          "base_uri": "https://localhost:8080/"
        },
        "id": "fu0PYo4Hxw3H",
        "outputId": "38013699-a1d1-49ab-8219-7d9e895897d1"
      },
      "execution_count": 11,
      "outputs": [
        {
          "output_type": "execute_result",
          "data": {
            "text/plain": [
              "2418"
            ]
          },
          "metadata": {},
          "execution_count": 11
        }
      ]
    },
    {
      "cell_type": "code",
      "source": [
        "not True"
      ],
      "metadata": {
        "colab": {
          "base_uri": "https://localhost:8080/"
        },
        "id": "WnS1Vs-gyrH1",
        "outputId": "8c568e35-0560-4b42-dd11-b417b0486416"
      },
      "execution_count": 12,
      "outputs": [
        {
          "output_type": "execute_result",
          "data": {
            "text/plain": [
              "False"
            ]
          },
          "metadata": {},
          "execution_count": 12
        }
      ]
    },
    {
      "cell_type": "code",
      "source": [
        "not False"
      ],
      "metadata": {
        "colab": {
          "base_uri": "https://localhost:8080/"
        },
        "id": "vGBInyDQy21_",
        "outputId": "ac562591-5384-4a01-fa9f-2be651815028"
      },
      "execution_count": 13,
      "outputs": [
        {
          "output_type": "execute_result",
          "data": {
            "text/plain": [
              "True"
            ]
          },
          "metadata": {},
          "execution_count": 13
        }
      ]
    },
    {
      "cell_type": "code",
      "source": [
        "# python 입장에서 보는 코드\n",
        "# False and ??? => 물음표에 무엇이 나오든 False\n",
        "# 그래서 Python도 저 풀음표를 해석하지 않습니다.\n",
        "\n",
        "def solution():\n",
        "    1/0 # ZeroDivisionError\n",
        "\n",
        "\n",
        "if False and solution():\n",
        "    print('solution must be error')\n",
        "# 무조건 결말이 결정되어 있는 코드는 뒤에있는 나머지 코드를 해석하지 않음!!"
      ],
      "metadata": {
        "id": "oT4Vhxnjy3uh"
      },
      "execution_count": 15,
      "outputs": []
    },
    {
      "cell_type": "code",
      "source": [
        "def solution():\n",
        "    1/0 # ZeroDivisionError\n",
        "\n",
        "\n",
        "if True or solution():\n",
        "    print('solution must be error')\n",
        "# 무조건 결말이 결정되어 있는 코드는 뒤에있는 나머지 코드를 해석하지 않음!!"
      ],
      "metadata": {
        "colab": {
          "base_uri": "https://localhost:8080/"
        },
        "id": "MyNRxCFg15qD",
        "outputId": "1513626b-d9f2-472b-e782-2ed38c99601f"
      },
      "execution_count": 16,
      "outputs": [
        {
          "output_type": "stream",
          "name": "stdout",
          "text": [
            "solution must be error\n"
          ]
        }
      ]
    },
    {
      "cell_type": "code",
      "source": [
        "# 단락 평가 (컴퓨터가 어디까지 보는지 판단해서 활용)\n",
        "username='' # 사용자가 아무것도 입력하지 않았을 경우\n",
        "username = username or 'licat'\n",
        "username"
      ],
      "metadata": {
        "colab": {
          "base_uri": "https://localhost:8080/",
          "height": 35
        },
        "id": "hkrc-YpM2Bmc",
        "outputId": "04af8fe1-bcf4-4899-f046-a88ade1bc31e"
      },
      "execution_count": 17,
      "outputs": [
        {
          "output_type": "execute_result",
          "data": {
            "text/plain": [
              "'licat'"
            ],
            "application/vnd.google.colaboratory.intrinsic+json": {
              "type": "string"
            }
          },
          "metadata": {},
          "execution_count": 17
        }
      ]
    },
    {
      "cell_type": "markdown",
      "source": [],
      "metadata": {
        "id": "aBs12DEu2dLH"
      }
    },
    {
      "cell_type": "code",
      "source": [
        "username='leehojun' # 사용자가 아무것도 입력하지 않았을 경우\n",
        "print(username or 'licat') ## < 이게 왜 username 혹은 'licat'이 출력되는거죠??\n",
        "username = username or 'licat'\n",
        "username"
      ],
      "metadata": {
        "colab": {
          "base_uri": "https://localhost:8080/",
          "height": 54
        },
        "id": "llIL_htb2dlW",
        "outputId": "ab589a61-8c2c-4714-84db-79e560d1ab0a"
      },
      "execution_count": 19,
      "outputs": [
        {
          "output_type": "stream",
          "name": "stdout",
          "text": [
            "leehojun\n"
          ]
        },
        {
          "output_type": "execute_result",
          "data": {
            "text/plain": [
              "'leehojun'"
            ],
            "application/vnd.google.colaboratory.intrinsic+json": {
              "type": "string"
            }
          },
          "metadata": {},
          "execution_count": 19
        }
      ]
    },
    {
      "cell_type": "code",
      "source": [
        "# and 와 ro의 우선순위 ( and > or)\n",
        "for i in range(21):\n",
        "    if i % 3 == 0 and i % 5 == 0 or i % 2 == 0:\n",
        "        print(i)\n",
        "\n",
        "for i in range(21):\n",
        "    if (i % 3 == 0 and i % 5 == 0) or i % 2 == 0:\n",
        "        print(i)"
      ],
      "metadata": {
        "colab": {
          "base_uri": "https://localhost:8080/"
        },
        "id": "9H9zJhis25oD",
        "outputId": "aa48a74d-6e57-4048-b754-c5dc5e8fec0a"
      },
      "execution_count": 25,
      "outputs": [
        {
          "output_type": "stream",
          "name": "stdout",
          "text": [
            "0\n",
            "2\n",
            "4\n",
            "6\n",
            "8\n",
            "10\n",
            "12\n",
            "14\n",
            "15\n",
            "16\n",
            "18\n",
            "20\n",
            "0\n",
            "2\n",
            "4\n",
            "6\n",
            "8\n",
            "10\n",
            "12\n",
            "14\n",
            "15\n",
            "16\n",
            "18\n",
            "20\n"
          ]
        }
      ]
    },
    {
      "cell_type": "code",
      "source": [
        "# 아래는 출력값이 다릅니다. 우선순위가 낮은 or가 먼저 나왔기 때문입니다.\n",
        "# 헷갈리시면 괄호를 사용해주세요!\n",
        "for i in range(21):\n",
        "    if (i % 3 == 0 or i % 5 == 0) and i % 2 == 0:\n",
        "        print(i)\n",
        "\n",
        "for i in range(21):\n",
        "    if i % 3 == 0 or i % 5 == 0 and i % 2 == 0:\n",
        "        print(i)"
      ],
      "metadata": {
        "colab": {
          "base_uri": "https://localhost:8080/"
        },
        "id": "TgRFyN4g3B9n",
        "outputId": "7a80c4b7-2fdb-4fb9-949b-60a17bfb438a"
      },
      "execution_count": 26,
      "outputs": [
        {
          "output_type": "stream",
          "name": "stdout",
          "text": [
            "0\n",
            "6\n",
            "10\n",
            "12\n",
            "18\n",
            "20\n",
            "0\n",
            "3\n",
            "6\n",
            "9\n",
            "10\n",
            "12\n",
            "15\n",
            "18\n",
            "20\n"
          ]
        }
      ]
    },
    {
      "cell_type": "markdown",
      "source": [
        "## 비트연산 (중요도 하)"
      ],
      "metadata": {
        "id": "G-do-ChE4Hsk"
      }
    },
    {
      "cell_type": "code",
      "source": [
        "# & (곱하기)\n",
        "# 1001 == 9\n",
        "# 0010 == 2\n",
        "# ----\n",
        "# 0000"
      ],
      "metadata": {
        "colab": {
          "base_uri": "https://localhost:8080/"
        },
        "id": "zuCdQDll4KRt",
        "outputId": "deb6e9b9-a72f-42b4-c070-11309045760d"
      },
      "execution_count": 27,
      "outputs": [
        {
          "output_type": "execute_result",
          "data": {
            "text/plain": [
              "False"
            ]
          },
          "metadata": {},
          "execution_count": 27
        }
      ]
    },
    {
      "cell_type": "code",
      "source": [
        "9&8"
      ],
      "metadata": {
        "colab": {
          "base_uri": "https://localhost:8080/"
        },
        "id": "WZhezS_z43H_",
        "outputId": "57f3891f-9536-4a58-de01-9300858b9e35"
      },
      "execution_count": 28,
      "outputs": [
        {
          "output_type": "execute_result",
          "data": {
            "text/plain": [
              "8"
            ]
          },
          "metadata": {},
          "execution_count": 28
        }
      ]
    },
    {
      "cell_type": "code",
      "source": [
        "# | (더하기, 대신 자리 올림이 되진 않습니다.)\n",
        "# 1001 == 9\n",
        "# 0011 == 3\n",
        "# ----\n",
        "# 1011\n",
        "\n",
        "9|3"
      ],
      "metadata": {
        "colab": {
          "base_uri": "https://localhost:8080/"
        },
        "id": "HBDy_0Og5iOv",
        "outputId": "f798291b-d3b5-46df-9cd4-eeaf258e5e71"
      },
      "execution_count": 33,
      "outputs": [
        {
          "output_type": "execute_result",
          "data": {
            "text/plain": [
              "11"
            ]
          },
          "metadata": {},
          "execution_count": 33
        }
      ]
    },
    {
      "cell_type": "code",
      "source": [
        "# ^ (XOR exclusive-or : 같으면 0 다르면 1)\n",
        "# 1001 == 9\n",
        "# 0011 == 3\n",
        "# ----\n",
        "# 1010\n",
        "\n",
        "9^3"
      ],
      "metadata": {
        "colab": {
          "base_uri": "https://localhost:8080/"
        },
        "id": "gXe769CA535k",
        "outputId": "56b71cc9-1bba-4725-8426-af1085f73c1d"
      },
      "execution_count": 34,
      "outputs": [
        {
          "output_type": "execute_result",
          "data": {
            "text/plain": [
              "10"
            ]
          },
          "metadata": {},
          "execution_count": 34
        }
      ]
    },
    {
      "cell_type": "code",
      "source": [
        "# ~ (not 연산자)\n",
        "print(~9) # 2의 보수를 취함(9에게 +1 한 다음에 -를 취하면 됨)\n",
        "print(~-7)\n",
        "print(~0)"
      ],
      "metadata": {
        "colab": {
          "base_uri": "https://localhost:8080/"
        },
        "id": "KXMF-AYr6OWv",
        "outputId": "e98cb667-9e54-4427-a560-88e664853922"
      },
      "execution_count": 38,
      "outputs": [
        {
          "output_type": "stream",
          "name": "stdout",
          "text": [
            "-10\n",
            "6\n",
            "-1\n"
          ]
        }
      ]
    },
    {
      "cell_type": "code",
      "source": [
        "# << >> (shift 비트 이동 연산자)\n",
        "3 << 2\n",
        "# 0011 == 3\n",
        "# 1100 == 3 << 2\n"
      ],
      "metadata": {
        "colab": {
          "base_uri": "https://localhost:8080/"
        },
        "id": "wgOMKMsq64P3",
        "outputId": "746aa594-de6e-4ab3-ff01-dbee573effea"
      },
      "execution_count": 40,
      "outputs": [
        {
          "output_type": "execute_result",
          "data": {
            "text/plain": [
              "0"
            ]
          },
          "metadata": {},
          "execution_count": 40
        }
      ]
    },
    {
      "cell_type": "code",
      "source": [
        "7 >> 2\n",
        "# 0111 == 7 >> 2"
      ],
      "metadata": {
        "colab": {
          "base_uri": "https://localhost:8080/"
        },
        "id": "Yr3RSfOk7pa4",
        "outputId": "291b4b0b-e7ac-4932-9b87-07e3c115f448"
      },
      "execution_count": 42,
      "outputs": [
        {
          "output_type": "execute_result",
          "data": {
            "text/plain": [
              "1"
            ]
          },
          "metadata": {},
          "execution_count": 42
        }
      ]
    },
    {
      "cell_type": "markdown",
      "source": [
        "## 디스코드 단축키\n",
        "* :ok"
      ],
      "metadata": {
        "id": "y70py4wG73IA"
      }
    },
    {
      "cell_type": "markdown",
      "source": [
        "## 할당연산"
      ],
      "metadata": {
        "id": "AUojUcNF766M"
      }
    },
    {
      "cell_type": "code",
      "source": [
        "# a = 10\n",
        "# a = a + 10\n",
        "a =  + 10 # 위 식에서 a를 지우면, 양수를 표현하는 10 만남아서, a 에 10 대입\n",
        "a"
      ],
      "metadata": {
        "colab": {
          "base_uri": "https://localhost:8080/"
        },
        "id": "GvS13fEn78sr",
        "outputId": "ddbc749c-efdc-4c47-ece5-ef81f1470041"
      },
      "execution_count": 44,
      "outputs": [
        {
          "output_type": "execute_result",
          "data": {
            "text/plain": [
              "10"
            ]
          },
          "metadata": {},
          "execution_count": 44
        }
      ]
    },
    {
      "cell_type": "code",
      "source": [
        "a = 10\n",
        "a += 10\n",
        "a"
      ],
      "metadata": {
        "colab": {
          "base_uri": "https://localhost:8080/"
        },
        "id": "XVtRef_h8Wy_",
        "outputId": "209ac6cf-3d5e-44a3-bce8-241b75d63d48"
      },
      "execution_count": 45,
      "outputs": [
        {
          "output_type": "execute_result",
          "data": {
            "text/plain": [
              "20"
            ]
          },
          "metadata": {},
          "execution_count": 45
        }
      ]
    },
    {
      "cell_type": "code",
      "source": [
        "a = 10\n",
        "a //= 10 # = 앞에 산술연산 모두 가능\n",
        "a"
      ],
      "metadata": {
        "colab": {
          "base_uri": "https://localhost:8080/"
        },
        "id": "YqzVAGmU9A9K",
        "outputId": "6952034a-19c6-4e69-ff2e-340d69ebf150"
      },
      "execution_count": 50,
      "outputs": [
        {
          "output_type": "execute_result",
          "data": {
            "text/plain": [
              "1"
            ]
          },
          "metadata": {},
          "execution_count": 50
        }
      ]
    },
    {
      "cell_type": "code",
      "source": [
        "# Python에서 특이하게 증감연산자 (++a, a++, --a, a--) 가 없습니다."
      ],
      "metadata": {
        "id": "L7uXkkfa9Z3D"
      },
      "execution_count": 51,
      "outputs": []
    },
    {
      "cell_type": "markdown",
      "source": [
        "## 식별연산자"
      ],
      "metadata": {
        "id": "636avxN29j2g"
      }
    },
    {
      "cell_type": "code",
      "source": [
        "# 앞으로 아래 2개 함수를 활용해서 Python에 컨벤션 자료형이 \n",
        "# 어떻게 구성되어있는지 확인해볼겁니다.\n",
        "# id()\n",
        "# is()"
      ],
      "metadata": {
        "id": "O6AI51ya9ila"
      },
      "execution_count": null,
      "outputs": []
    },
    {
      "cell_type": "code",
      "source": [
        "a = 250\n",
        "b = 250\n",
        "print(id(a), id(b))\n",
        "a is b # id가 같은지 확인하는?"
      ],
      "metadata": {
        "colab": {
          "base_uri": "https://localhost:8080/"
        },
        "id": "ohaYRAjs9yNM",
        "outputId": "07737ab6-91c3-461f-fea8-ffd626a248e0"
      },
      "execution_count": 58,
      "outputs": [
        {
          "output_type": "stream",
          "name": "stdout",
          "text": [
            "139979164213264 139979164213264\n"
          ]
        },
        {
          "output_type": "execute_result",
          "data": {
            "text/plain": [
              "True"
            ]
          },
          "metadata": {},
          "execution_count": 58
        }
      ]
    },
    {
      "cell_type": "code",
      "source": [
        "a = [1,2,3]\n",
        "b = [1,2,3]\n",
        "print(id(a), id(b))\n",
        "a is b"
      ],
      "metadata": {
        "colab": {
          "base_uri": "https://localhost:8080/"
        },
        "id": "YQ679xFQ-C9t",
        "outputId": "625fbcc7-4a2b-4bbe-c4c2-c358f40498bd"
      },
      "execution_count": 60,
      "outputs": [
        {
          "output_type": "stream",
          "name": "stdout",
          "text": [
            "139977916699776 139977914682624\n"
          ]
        },
        {
          "output_type": "execute_result",
          "data": {
            "text/plain": [
              "False"
            ]
          },
          "metadata": {},
          "execution_count": 60
        }
      ]
    },
    {
      "cell_type": "code",
      "source": [
        "a[0] = 100\n",
        "a, b"
      ],
      "metadata": {
        "id": "63S1TQY6-sc2",
        "colab": {
          "base_uri": "https://localhost:8080/"
        },
        "outputId": "f8345c19-c145-463e-8177-ca1041af76aa"
      },
      "execution_count": 61,
      "outputs": [
        {
          "output_type": "execute_result",
          "data": {
            "text/plain": [
              "([100, 2, 3], [1, 2, 3])"
            ]
          },
          "metadata": {},
          "execution_count": 61
        }
      ]
    },
    {
      "cell_type": "code",
      "source": [
        "a = [1,2,3]\n",
        "b = [1,2,3]\n",
        "a == b  # Python에서 등호(==)는 type과 value를 봅니다.\n",
        "# javascript에서 ==는 type과 id를 봐서 false가 나옴"
      ],
      "metadata": {
        "colab": {
          "base_uri": "https://localhost:8080/"
        },
        "id": "F20LTgxE-Is_",
        "outputId": "c109b25c-27a1-4783-abf9-38267cb87da9"
      },
      "execution_count": 124,
      "outputs": [
        {
          "output_type": "execute_result",
          "data": {
            "text/plain": [
              "True"
            ]
          },
          "metadata": {},
          "execution_count": 124
        }
      ]
    },
    {
      "cell_type": "code",
      "source": [
        "# is 연산자는 id를 비교합니다.\n",
        "id(a) == id(b) # 이게 False 면 is 도 False"
      ],
      "metadata": {
        "colab": {
          "base_uri": "https://localhost:8080/"
        },
        "id": "iaYmMOvW_XiU",
        "outputId": "bce30cb0-bd6c-4cab-b809-927a7bfe06d0"
      },
      "execution_count": 69,
      "outputs": [
        {
          "output_type": "execute_result",
          "data": {
            "text/plain": [
              "False"
            ]
          },
          "metadata": {},
          "execution_count": 69
        }
      ]
    },
    {
      "cell_type": "markdown",
      "source": [
        "## not의 위치\n"
      ],
      "metadata": {
        "id": "pbK0VWVJ-3zf"
      }
    },
    {
      "cell_type": "code",
      "source": [
        "a = 10\n",
        "b = 100\n",
        "a is not b\n",
        "# a not is b error"
      ],
      "metadata": {
        "colab": {
          "base_uri": "https://localhost:8080/"
        },
        "id": "mpT3J_Mk-5Hy",
        "outputId": "831c591f-1585-44d3-e0af-eaa9f0828f0e"
      },
      "execution_count": 65,
      "outputs": [
        {
          "output_type": "execute_result",
          "data": {
            "text/plain": [
              "True"
            ]
          },
          "metadata": {},
          "execution_count": 65
        }
      ]
    },
    {
      "cell_type": "code",
      "source": [
        "a = 10\n",
        "b = [10,20,30]\n",
        "a not in b"
      ],
      "metadata": {
        "colab": {
          "base_uri": "https://localhost:8080/"
        },
        "id": "E29Nx4Gm_ClA",
        "outputId": "54ad3744-2c0b-4ba9-dc42-bee941575b96"
      },
      "execution_count": 67,
      "outputs": [
        {
          "output_type": "execute_result",
          "data": {
            "text/plain": [
              "False"
            ]
          },
          "metadata": {},
          "execution_count": 67
        }
      ]
    },
    {
      "cell_type": "markdown",
      "source": [
        "## 멤버연산\n"
      ],
      "metadata": {
        "id": "XtqzqFog_lO1"
      }
    },
    {
      "cell_type": "code",
      "source": [
        "print('a' in 'helalo world')\n",
        "print('a' in 'hello world')\n",
        "print('a' in ['a', 'b'])\n",
        "print('a' in {'a': 10, 'b': 20}) # dictionary에서는 key값만 확인함. \n",
        "# 10 in {'a': 10, 'b': 20} # dictionary에서는 value값을 in으로 확인할 수 없음\n",
        "print(10 in {'a': 10, 'b': 20}.values()) # dict()의 value를 확인하고싶으면 .values() 사용! \n",
        "print(10 in {10, 20, 30})"
      ],
      "metadata": {
        "colab": {
          "base_uri": "https://localhost:8080/"
        },
        "id": "NjevGSmW_mHy",
        "outputId": "fb253ff1-5435-46bb-c0fb-89d04dca4346"
      },
      "execution_count": 79,
      "outputs": [
        {
          "output_type": "stream",
          "name": "stdout",
          "text": [
            "True\n",
            "False\n",
            "True\n",
            "True\n",
            "True\n",
            "True\n"
          ]
        }
      ]
    },
    {
      "cell_type": "code",
      "source": [
        "'a' not in ['aa', 'bb'] # list에 'a' 인 원소는 없어서 not in 의 결과가 True"
      ],
      "metadata": {
        "colab": {
          "base_uri": "https://localhost:8080/"
        },
        "id": "42TpgA3KAMV7",
        "outputId": "7403f81c-20c6-450d-b349-55fecf7c54ce"
      },
      "execution_count": 75,
      "outputs": [
        {
          "output_type": "execute_result",
          "data": {
            "text/plain": [
              "True"
            ]
          },
          "metadata": {},
          "execution_count": 75
        }
      ]
    },
    {
      "cell_type": "code",
      "source": [
        "10 in [10,20,30]\n",
        "[10] in [10,20,30]\n",
        "[10] in [[10],20,30]\n",
        "[10, 20] in [10,20,30]\n",
        "[10, 20] in [[10,20],30]\n",
        "# 요소끼리만 확인하고 싶으면 set으로 변환하여 .issubset 함수를 사용...\n",
        "set([10, 20]).issubset(set([10,20,30]))\n",
        "{10, 20}.issubset({10,20,30})"
      ],
      "metadata": {
        "colab": {
          "base_uri": "https://localhost:8080/"
        },
        "id": "Iv8xQ634DeHM",
        "outputId": "436569c0-05ab-4e1b-b5f3-c0f4e4a58b68"
      },
      "execution_count": 88,
      "outputs": [
        {
          "output_type": "execute_result",
          "data": {
            "text/plain": [
              "True"
            ]
          },
          "metadata": {},
          "execution_count": 88
        }
      ]
    },
    {
      "cell_type": "markdown",
      "source": [
        "## 연습문제\n"
      ],
      "metadata": {
        "id": "hH4lQdDUEIy3"
      }
    },
    {
      "cell_type": "code",
      "source": [
        "#1번\n",
        "a = 100\n",
        "print((a > 100) and (a < 200)  )   # False\n",
        "print((a > 100) or (a < 200)   )   # True\n",
        "print((a >= 100) and (a <= 200))   # True\n",
        "print((a >= 100) or (a <= 200) )   # True"
      ],
      "metadata": {
        "colab": {
          "base_uri": "https://localhost:8080/"
        },
        "id": "I8eE-v-QEK8R",
        "outputId": "d6844c12-b440-4749-bdf0-d01fd1306813"
      },
      "execution_count": 96,
      "outputs": [
        {
          "output_type": "stream",
          "name": "stdout",
          "text": [
            "False\n",
            "True\n",
            "True\n",
            "True\n"
          ]
        }
      ]
    },
    {
      "cell_type": "code",
      "source": [
        "#2번\n",
        "b = 25\n",
        "(b % 2 == 0) and (b % 5 == 0) # False"
      ],
      "metadata": {
        "colab": {
          "base_uri": "https://localhost:8080/"
        },
        "id": "vvtkaMh1EMbY",
        "outputId": "05902505-a22b-4619-b962-30900c810a4d"
      },
      "execution_count": 97,
      "outputs": [
        {
          "output_type": "execute_result",
          "data": {
            "text/plain": [
              "False"
            ]
          },
          "metadata": {},
          "execution_count": 97
        }
      ]
    },
    {
      "cell_type": "code",
      "source": [
        "#3번\n",
        "c = 1000\n",
        "# 결과값은 10입니다.\n",
        "answer = c // 100\n",
        "if c % 100 != 0:\n",
        "    answer += 1\n",
        "\n",
        "answer"
      ],
      "metadata": {
        "colab": {
          "base_uri": "https://localhost:8080/"
        },
        "id": "-B5naoRTENGg",
        "outputId": "11cf76b3-b801-4c8c-f7eb-b119fb6f3953"
      },
      "execution_count": 98,
      "outputs": [
        {
          "output_type": "execute_result",
          "data": {
            "text/plain": [
              "10"
            ]
          },
          "metadata": {},
          "execution_count": 98
        }
      ]
    },
    {
      "cell_type": "code",
      "source": [
        "#4번\n",
        "# 그리디 알고리즘\n",
        "\n",
        "user_input = int(input('금액을 입력해주세요! :'))\n",
        "money_unit = [100, 500, 1000, 5000]\n",
        "\n",
        "def solution(input):\n",
        "    result = []\n",
        "    while money_unit:\n",
        "        now = money_unit.pop()\n",
        "        result.append(input//now)\n",
        "        input -= (input//now) * now\n",
        "    #result.reverse()\n",
        "    return result\n",
        "\n",
        "print(solution(user_input))\n"
      ],
      "metadata": {
        "colab": {
          "base_uri": "https://localhost:8080/"
        },
        "id": "ftWnL41YENmz",
        "outputId": "4c9e2576-c173-4812-a532-53ebff6406a6"
      },
      "execution_count": 127,
      "outputs": [
        {
          "output_type": "stream",
          "name": "stdout",
          "text": [
            "금액을 입력해주세요! :8800\n",
            "[1, 3, 1, 3]\n"
          ]
        }
      ]
    },
    {
      "cell_type": "code",
      "source": [
        "#4번 강사님 풀이\n",
        "남은금액 = int(input())\n",
        "오천원 = 남은금액 // 5000\n",
        "남은금액 = 남은금액%5000\n",
        "\n",
        "천원 = 남은금액 // 1000\n",
        "남은금액 = 남은금액%1000\n",
        "\n",
        "오백원 = 남은금액 // 500\n",
        "남은금액 = 남은금액%500\n",
        "\n",
        "백원 = 남은금액 // 100\n",
        "남은금액 = 남은금액%100\n",
        "\n",
        "print(오천원, 천원, 오백원, 백원)"
      ],
      "metadata": {
        "colab": {
          "base_uri": "https://localhost:8080/"
        },
        "id": "TLFSv4X1NmVO",
        "outputId": "8eed8905-c484-4d8d-bdf6-da797e614070"
      },
      "execution_count": 126,
      "outputs": [
        {
          "output_type": "stream",
          "name": "stdout",
          "text": [
            "8800\n",
            "1 3 1 3\n"
          ]
        }
      ]
    },
    {
      "cell_type": "markdown",
      "source": [
        "## 오늘 배운 것 정리 230502\n",
        "\n",
        "1. str\n",
        "    - 순서가 있는 **시퀀스 자료형**입니다.\n",
        "    - 작은 따옴표(' ')나 큰 따옴표(\" \"), 삼중따옴표('''str''', \"\"\"str\"\"\")로 감싸는 것도 가능합니다. (삼중따옴표를 사용할 경우에는 줄단위의 문자열을 나타낼 수 있습니다.)\n",
        "    - 작은 따옴표 안에 큰 따옴표, 큰 따옴표 안에 작은 따옴표 사용이 가능합니다.\n",
        "    - 이스케이프 문자도 사용이 가능합니다.\n",
        "    - 리스트, 튜플도 시퀀스 자료형입니다.\n",
        "    - 메서드\n",
        "        - lower\n",
        "        - index, find\n",
        "        - count\n",
        "        - strip\n",
        "        - replace\n",
        "        - split, join\n",
        "        - isdigit\n",
        "2. 슬라이싱\n",
        "    - 시퀀스형 자료형을 자를 수 있습니다.\n",
        "    - 형태\n",
        "    ```\n",
        "    # s[start:stop:step]\n",
        "    s = 'paullab CEO leehojun'\n",
        "    s[5:]\n",
        "    s[:5]\n",
        "    s[3:10]\n",
        "    s[:]\n",
        "    s[0:20:2]\n",
        "    # 자주 사용되는 코드\n",
        "    s = 'paullab CEO leehojun!'\n",
        "    s[:] # string에서는 많이 사용하지 않지만 list에서 많이 사용합니다.\n",
        "    s[:-1] # 마지막 요소만 제외하고 다 슬라이싱 합니다.\n",
        "    ```\n",
        "\n",
        "3. 형변환\n",
        "    - 형변환 : type을 변경하는 것입니다.\n",
        "    - int, float, str 등 자료형에 이름으로 형태를 변경할 수 있습니다.\n",
        "    - 그 중에서도 bool이 매우 중요합니다.\n",
        "    ```\n",
        "    # 별 5개\n",
        "    # bool 형으로 형변환 하는 것\n",
        "    if True:\n",
        "        print('hi')\n",
        "\n",
        "    if 'hello':\n",
        "        print('hi')\n",
        "\n",
        "    # 정말 많이 사용하는 코드\n",
        "    l = [1, 2, 3]\n",
        "    while l:\n",
        "        print(l.pop())\n",
        "\n",
        "    bool('') # 빈 문자열을 제외하고 모두 True\n",
        "    bool('a')\n",
        "    bool('False') # 문자열 False이기 때문에 True\n",
        "    bool(0) # 0을 제외하고 모두 True\n",
        "    bool(-1)\n",
        "    bool(100)\n",
        "    bool(None) # None은 비어있음을 명시해주는 키워드, False\n",
        "    bool([]) # 컨벤션 자료형은 비어있으면 False입니다.\n",
        "    bool({})\n",
        "    ```\n",
        "\n",
        "4. 산술연산\n",
        "    ```\n",
        "    a = 10\n",
        "    b = 3\n",
        "\n",
        "    print(f'10 + 3 == {a + b}')\n",
        "    print(f'10 - 3 == {a - b}')\n",
        "    print(f'10 / 3 == {a / b}')\n",
        "    print(f'10 // 3 == {a // b}') # 몫만 나옵니다.(정수만요!)\n",
        "    print(f'10 * 3 == {a * b}')\n",
        "    print(f'10 ** 3 == {a ** b}')\n",
        "    print(f'10 % 3 == {a % b}') # 나머지\n",
        "    ```\n",
        "\n",
        "5. 논리연산\n",
        "    ```\n",
        "    # and 는 곱\n",
        "    # or 는 합\n",
        "    # not은 반대\n",
        "    # True 1\n",
        "    # False 0\n",
        "    # 중요한 포인트는 저렇게 했을 때 언제 True가 되는지 정리하는 것\n",
        "\n",
        "    print(True and False)\n",
        "    print(True or False)\n",
        "    print(True or True)\n",
        "\n",
        "    # https://codingdojang.com/scode/350?answer_mode=hide\n",
        "    for i in range(101):\n",
        "        if i % 3 == 0 and i % 5 == 0:\n",
        "            print(i)\n",
        "    ```\n",
        "\n",
        "6. 할당연산\n",
        "    ```\n",
        "    a = 10\n",
        "    a += 10 # a = a + 10\n",
        "    a //= 2\n",
        "... (22줄 남음)"
      ],
      "metadata": {
        "id": "eZjk3mjyVnl5"
      }
    },
    {
      "cell_type": "code",
      "source": [],
      "metadata": {
        "id": "QtrLDP00VpL5"
      },
      "execution_count": null,
      "outputs": []
    }
  ]
}