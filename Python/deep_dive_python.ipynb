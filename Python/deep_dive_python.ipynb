{
  "cells": [
    {
      "attachments": {},
      "cell_type": "markdown",
      "metadata": {
        "id": "ZVG7ABTausfj"
      },
      "source": [
        "# colab 사용법\n"
      ]
    },
    {
      "attachments": {},
      "cell_type": "markdown",
      "metadata": {
        "id": "BpxVRpE5vhIE"
      },
      "source": [
        "* MAC을 사용하는 경우 Ctrl 대신 Command입니다. Alt 대신 Option입니다.\n",
        "\n",
        "1. **실행 단축키**\n",
        "    1. (필수) `Ctrl(Command)` + `Enter` : 해당 셀 실행\n",
        "    2. `Shift` + `Enter` : 해당 셀 실행 + 커서를 다음 셀로 이동\n",
        "    3. (필수) `Alt(Option)` + `Enter` : 해당 셀 실행 + 코드 불록 하단 추가\n",
        "2. **셀 삽입/삭제 관련 단축키**\n",
        "    1. `Ctrl(Command)` + M A : 코드 셀 위에 삽입\n",
        "    2. `Ctrl(Command)` + M B : 코드 셀 아래 삽입\n",
        "    3. `Ctrl(Command)` + M D : 셀 지우기\n",
        "    4. `Ctrl(Command)` + M Y : 코드 셀로 변경\n",
        "    5. `Ctrl(Command)` + M M : 마크다운 셀로 변경\n",
        "    6. `Ctrl(Command)` + M Z : 실행 취소\n",
        "3. 수정 관련된 단축키\n",
        "    1. `Ctrl(Command)` + `Alt(Option)` + 화살표위아래 : 동시 수정\n",
        "    2. (자주) `Ctrl(Command)` + D : 같은 단어 찾아 동시 수정\n",
        "    3. `Ctrl(Command)` + `Shift` + L : 동일 단어를 전체로 찾아 동시 수정\n",
        "    4. `Alt(Option)` + `Shift` + 화살표위아래 : 해당내용을 위나 아래 복사해서 붙여넣기\n",
        "    5. `Alt(Option)` + 화살표위아래 : 해당 내용을 위나 아래로 보내기\n",
        "    6. (자주) `Ctrl(Command)` + `Alt(Option)` + 화살표위아래 : 위아래 동시 수정\n",
        "    7. (자주) Home, End : 문장의 양 끝\n",
        "    8. (필수) `Ctrl` + `/` : 주석\n",
        "    9. (필수) `Shift` + `Del` : 한 줄 지우기\n",
        "    10. (필수) `Tab`, `Ctrl` + `]` : 들여쓰기\n",
        "    11. (필수) `Shift` + `Tab`, `Ctrl` + `[` : 내어쓰기\n",
        "4. 단축키 보기 및 설정\n",
        "    1. `Ctrl(Command)` + M H : 단축키 모음"
      ]
    },
    {
      "attachments": {},
      "cell_type": "markdown",
      "metadata": {
        "id": "Xl3s-oDox5Zs"
      },
      "source": [
        "# 마크다운"
      ]
    },
    {
      "attachments": {},
      "cell_type": "markdown",
      "metadata": {
        "id": "PwABpQsEyGe_"
      },
      "source": [
        "* 필수 마크다운\n",
        "\n",
        "    ```\n",
        "    # hello\n",
        "    ## hello\n",
        "    ### hello\n",
        "\n",
        "    1. hello\n",
        "    2. hello\n",
        "    3. hello\n",
        "\n",
        "    * hello\n",
        "    * hello\n",
        "    * hello\n",
        "    ```\n",
        "\n",
        "\n",
        "* 선택 마크다운(필수가 아니니 부담가지지마세요)\n",
        "\n",
        "    ```\n",
        "    # h1\n",
        "    ## h2\n",
        "    ### h3\n",
        "    #### h4\n",
        "    ##### h5\n",
        "    ###### h6\n",
        "\n",
        "    1. hello\n",
        "    2. hello\n",
        "    3. hello\n",
        "\n",
        "    * hello\n",
        "    * hello\n",
        "    * hello\n",
        "\n",
        "    - hello\n",
        "    - hello\n",
        "    - hello\n",
        "\n",
        "    __굵게__\n",
        "    **굵게**\n",
        "    _기울여 쓰기_\n",
        "    *기울여 쓰기*\n",
        "    ~취소선~\n",
        "    ~~취소선~~\n",
        "\n",
        "    > 인용문\n",
        "    [인라인 링크](https://velog.io)\n",
        "\n",
        "    ![이미지설명](이미지링크)\n",
        "\n",
        "    table은 markdown table generator사용해서 말들어주기\n",
        "    https://www.tablesgenerator.com/markdown_tables\n",
        "\n",
        "    체크박스 만드는 법\n",
        "    * [ ] hello\n",
        "    * [X] hello\n",
        "    ```"
      ]
    },
    {
      "attachments": {},
      "cell_type": "markdown",
      "metadata": {
        "id": "C6iGFElu4DAm"
      },
      "source": [
        "# Python"
      ]
    },
    {
      "cell_type": "code",
      "execution_count": null,
      "metadata": {
        "colab": {
          "base_uri": "https://localhost:8080/",
          "height": 35
        },
        "id": "hgiYEXmgyF6K",
        "outputId": "4abe9af4-6745-4b78-9133-f81981a9e0c3"
      },
      "outputs": [
        {
          "data": {
            "application/vnd.google.colaboratory.intrinsic+json": {
              "type": "string"
            },
            "text/plain": [
              "'\\n큰 따옴표로 세번 묶거나\\n작은따옴표로 세번 묶으면\\n열단위 주석이 됩니다.\\n'"
            ]
          },
          "execution_count": 4,
          "metadata": {},
          "output_type": "execute_result"
        }
      ],
      "source": [
        "#행 단위 주석입니다.\n",
        "\n",
        "\"\"\"\n",
        "큰 따옴표로 세번 묶거나\n",
        "작은따옴표로 세번 묶으면\n",
        "열단위 주석이 됩니다.\n",
        "\"\"\"\n",
        "\n",
        "'''\n",
        "큰 따옴표로 세번 묶거나\n",
        "작은따옴표로 세번 묶으면\n",
        "열단위 주석이 됩니다.\n",
        "'''"
      ]
    },
    {
      "cell_type": "code",
      "execution_count": null,
      "metadata": {
        "colab": {
          "base_uri": "https://localhost:8080/",
          "height": 35
        },
        "id": "w061JNS44qDN",
        "outputId": "778e5772-ce76-4fb6-c257-1eeae2481eb3"
      },
      "outputs": [
        {
          "data": {
            "application/vnd.google.colaboratory.intrinsic+json": {
              "type": "string"
            },
            "text/plain": [
              "'\\n큰 따옴표로 세번 묶거나\\n작은따옴표로 세번 묶으면\\n열단위 주석이 됩니다.\\n'"
            ]
          },
          "execution_count": 6,
          "metadata": {},
          "output_type": "execute_result"
        }
      ],
      "source": [
        "# 아래와 같이 열단위 주석으로 text 데이터를 넣을 수 도 있습니다.\n",
        "data='''\n",
        "큰 따옴표로 세번 묶거나\n",
        "작은따옴표로 세번 묶으면\n",
        "열단위 주석이 됩니다.\n",
        "'''\n",
        "data"
      ]
    },
    {
      "attachments": {},
      "cell_type": "markdown",
      "metadata": {
        "id": "TpKlH7PC4798"
      },
      "source": [
        "* Code convention python\n",
        "* https://google.github.io/styleguide/\n",
        "* https://google.github.io/styleguide/pyguide.html"
      ]
    },
    {
      "cell_type": "code",
      "execution_count": null,
      "metadata": {
        "id": "hQ0v9cf55x54"
      },
      "outputs": [],
      "source": [
        "def connect_to_next_port(self, minimum: int) -> int:\n",
        "    \"\"\"Connects to the next available port.\n",
        "\n",
        "    Args:\n",
        "      minimum: A port value greater or equal to 1024.\n",
        "\n",
        "    Returns:\n",
        "      The new minimum port.\n",
        "\n",
        "    Raises:\n",
        "      ConnectionError: If no available port is found.\n",
        "    \"\"\"\n",
        "    if minimum < 1024:\n",
        "        # Note that this raising of ValueError is not mentioned in the doc\n",
        "        # string's \"Raises:\" section because it is not appropriate to\n",
        "        # guarantee this specific behavioral reaction to API misuse.\n",
        "        raise ValueError(f'Min. port must be at least 1024, not {minimum}.')\n",
        "    port = self._find_next_open_port(minimum)\n",
        "    if port is None:\n",
        "        raise ConnectionError(\n",
        "            f'Could not connect to service on port {minimum} or higher.')\n",
        "    assert port >= minimum, (\n",
        "        f'Unexpected port {port} when minimum was {minimum}.')\n",
        "    return port"
      ]
    },
    {
      "cell_type": "code",
      "execution_count": null,
      "metadata": {
        "id": "tHR_YYjt6Fdw"
      },
      "outputs": [],
      "source": [
        "connect_to_next_port"
      ]
    },
    {
      "cell_type": "code",
      "execution_count": null,
      "metadata": {
        "id": "QeafQS4P6XaD"
      },
      "outputs": [],
      "source": [
        "# 띄어쓰기 4칸 (tab(실제로는 스페이스 4칸과 다릅니다), 6칸, 7칸 등 다 작동함.)\n",
        "#"
      ]
    },
    {
      "cell_type": "code",
      "execution_count": null,
      "metadata": {
        "id": "ecTMd_cg7Ip9"
      },
      "outputs": [],
      "source": [
        "# 아래와 같이 탭과 띄어쓰기 4번을 혼용하시면 error가 납니다.\n",
        "for i in range(10):\n",
        "    print(i)\n",
        "    print('큰 따옴표로 세번 묶거나')"
      ]
    },
    {
      "cell_type": "code",
      "execution_count": null,
      "metadata": {
        "colab": {
          "base_uri": "https://localhost:8080/"
        },
        "id": "EcUcF1Yx75kU",
        "outputId": "e504b272-f3c7-4822-ae57-14a2c6751c26"
      },
      "outputs": [
        {
          "name": "stdout",
          "output_type": "stream",
          "text": [
            "type(10) : <class 'int'>\n",
            "type(10.1) : <class 'float'>\n",
            "type(-1) : <class 'int'>\n",
            "type(True) : <class 'bool'>\n",
            "type('good') : <class 'str'>\n",
            "type('good'.upper) : <class 'builtin_function_or_method'>\n",
            "'10' + '10' : 1010\n",
            "'10' * 3 : 101010\n",
            "'hong' + 'gildong' : kimhonggildong\n",
            "type('gildong') : <class 'str'>\n",
            "type('gildong100!!') : <class 'str'>\n",
            "type(10 + 2j) : <class 'complex'>\n",
            "type(0b110) : <class 'int'>\n",
            "6\n",
            "type(0o56) : <class 'str'>\n",
            "example\n",
            "type(0xAC) : <class 'int'>\n",
            "172\n",
            "type(def func():...생략...) : <class 'function'>\n",
            "type(print) : <class 'builtin_function_or_method'>\n",
            "type(lambda x:x**2) : <class 'function'>\n",
            "type(int) : <class 'type'>\n"
          ]
        }
      ],
      "source": [
        "a = 10     #int, 정수형\n",
        "b = 10.1   #float, 실수\n",
        "c = -1\n",
        "d = True   #bool, 논리형(부울형, 참거짓형)\n",
        "e = 'good'\n",
        "f = '10'   #str, 문자열\n",
        "g = 'kim'\n",
        "h = 'honggildong'\n",
        "i = 'example'\n",
        "j = 10 + 2j #complex, 복소수\n",
        "k = 0b110   #int, 2진법 \n",
        "l = 0o56    #int, 8진법\n",
        "m = 0xAC    #int, 16진법\n",
        "\n",
        "##########\n",
        "def hello():\n",
        "    return\n",
        "\n",
        "class A:\n",
        "    pass\n",
        "\n",
        "n = hello # function\n",
        "o = print # bulit-in function (https://docs.python.org/3/library/functions.html)\n",
        "p = lambda x:x**2 # function\n",
        "q = int # type\n",
        "r = A # class\n",
        "s = A() # instance\n",
        "##########\n",
        "\n",
        "print(f'type(10) : {type(a)}')\n",
        "print(f'type(10.1) : {type(b)}')\n",
        "print(f'type(-1) : {type(c)}')\n",
        "print(f'type(True) : {type(d)}')\n",
        "print(f'type(\\'good\\') : {type(e)}')\n",
        "print(f'type(\\'good\\'.upper) : {type(e.upper)}')\n",
        "print(f'\\'10\\' + \\'10\\' : {f + f}')\n",
        "print(f'\\'10\\' * 3 : {f * 3}')\n",
        "print(f'\\'hong\\' + \\'gildong\\' : {g + h}')\n",
        "print(f'type(\\'gildong\\') : {type(h)}')\n",
        "print(f'type(\\'gildong100!!\\') : {type(i)}')\n",
        "print(f'type(10 + 2j) : {type(j)}')\n",
        "print(f'type(0b110) : {type(k)}')\n",
        "print(k)\n",
        "print(f'type(0o56) : {type(i)}')\n",
        "print(i)\n",
        "print(f'type(0xAC) : {type(m)}')\n",
        "print(m)\n",
        "print(f'type(def func():...생략...) : {type(n)}')\n",
        "print(f'type(print) : {type(o)}')\n",
        "print(f'type(lambda x:x**2) : {type(p)}')\n",
        "print(f'type(int) : {type(int)}')"
      ]
    },
    {
      "cell_type": "code",
      "execution_count": null,
      "metadata": {
        "colab": {
          "base_uri": "https://localhost:8080/"
        },
        "id": "t1_vdtYc-Rk4",
        "outputId": "2ed15212-b76a-4085-efe7-7df49bb953aa"
      },
      "outputs": [
        {
          "name": "stdout",
          "output_type": "stream",
          "text": [
            "hello \n",
            " world\n",
            "hello \t world\n",
            "hello ' world\n",
            "hello \" world\n",
            "hello \\ world\n"
          ]
        }
      ],
      "source": [
        "# escape 문자 (대부분의 언어에서 공통으로 처리함)\n",
        "# https://ko.wikipedia.org/wiki/%EC%9D%B4%EC%8A%A4%EC%BC%80%EC%9D%B4%ED%94%84_%EB%AC%B8%EC%9E%90\n",
        "print('hello \\n world')\n",
        "print('hello \\t world')\n",
        "print('hello \\' world')\n",
        "print('hello \\\" world')\n",
        "print('hello \\\\ world')"
      ]
    },
    {
      "cell_type": "code",
      "execution_count": null,
      "metadata": {
        "colab": {
          "base_uri": "https://localhost:8080/"
        },
        "id": "v_3Y_zXZ_uSI",
        "outputId": "8d51ba3f-0e0b-4826-d032-e82e94063c36"
      },
      "outputs": [
        {
          "name": "stdout",
          "output_type": "stream",
          "text": [
            "hello \\n world\n",
            "hello \n",
            " world 10\n",
            "hello world 10\n"
          ]
        }
      ],
      "source": [
        "# type -> string\n",
        "hello = 10\n",
        "print(r'hello \\n world') # str -> raw 값으로 보줌. (Django 2.x까지 url parsing을 이렇게 사용함)\n",
        "print(f'hello \\n world {hello}') # f-string. python 3.6에서 등장. f-string을 사용하는 것을 추천함\n",
        "print('hello world {}'.format(hello)) # formating"
      ]
    },
    {
      "cell_type": "code",
      "execution_count": null,
      "metadata": {
        "colab": {
          "base_uri": "https://localhost:8080/"
        },
        "id": "1pllQ5e3EZ6X",
        "outputId": "b3515007-9bf8-48d2-9173-898dfdf6d906"
      },
      "outputs": [
        {
          "name": "stdout",
          "output_type": "stream",
          "text": [
            "2300.0\n",
            "2300.0\n"
          ]
        },
        {
          "data": {
            "text/plain": [
              "2300.0"
            ]
          },
          "execution_count": 28,
          "metadata": {},
          "output_type": "execute_result"
        }
      ],
      "source": [
        "# type -> float\n",
        "# 오일러의 수를 모른다 해서, 수학 연산이 약하다 해서 수업에 문제가 되지 않습니다.\n",
        "print(2.3e3) # 무리수, 오일러 수(2.718에 수렴, 파이가 3.14인 것처럼)\n",
        "print(2.3E3)\n",
        "\n",
        "2.3 * (10 ** 3)"
      ]
    },
    {
      "cell_type": "code",
      "execution_count": null,
      "metadata": {
        "colab": {
          "base_uri": "https://localhost:8080/"
        },
        "id": "Ru7GX5R4E3Kz",
        "outputId": "799b9753-d404-46bb-e0e5-8ca065b624f0"
      },
      "outputs": [
        {
          "name": "stdout",
          "output_type": "stream",
          "text": [
            "0.0023\n",
            "0.0023\n"
          ]
        },
        {
          "data": {
            "text/plain": [
              "0.0023"
            ]
          },
          "execution_count": 30,
          "metadata": {},
          "output_type": "execute_result"
        }
      ],
      "source": [
        "print(2.3e-3) # 무리수, 오일러 수(2.718에 수렴, 파이가 3.14인 것처럼)\n",
        "print(2.3E-3)\n",
        "\n",
        "2.3 * (10 ** -3)"
      ]
    },
    {
      "cell_type": "code",
      "execution_count": null,
      "metadata": {
        "colab": {
          "base_uri": "https://localhost:8080/"
        },
        "id": "BXS1eS8HFQek",
        "outputId": "6b1faba4-001f-42bb-e385-e4b5aae7fcc4"
      },
      "outputs": [
        {
          "data": {
            "text/plain": [
              "float"
            ]
          },
          "execution_count": 31,
          "metadata": {},
          "output_type": "execute_result"
        }
      ],
      "source": [
        "type(2.3e-3)"
      ]
    },
    {
      "cell_type": "code",
      "execution_count": null,
      "metadata": {
        "colab": {
          "base_uri": "https://localhost:8080/"
        },
        "id": "eBsMQCs0-2Tg",
        "outputId": "99045bc1-f393-4e2d-ce2c-52db040b5ced"
      },
      "outputs": [
        {
          "name": "stdout",
          "output_type": "stream",
          "text": [
            "<class 'type'>\n",
            "<class '__main__.A'>\n"
          ]
        }
      ],
      "source": [
        "class A: # 자동차 공장\n",
        "    pass\n",
        "\n",
        "a = A #class\n",
        "b = A() #instance #자동차\n",
        "\n",
        "print(type(a))\n",
        "print(type(b))"
      ]
    },
    {
      "cell_type": "code",
      "execution_count": null,
      "metadata": {
        "colab": {
          "base_uri": "https://localhost:8080/"
        },
        "id": "V9TA-6p38pdE",
        "outputId": "ebbce35b-ae52-4d3f-f049-f6239494254a"
      },
      "outputs": [
        {
          "data": {
            "text/plain": [
              "int"
            ]
          },
          "execution_count": 15,
          "metadata": {},
          "output_type": "execute_result"
        }
      ],
      "source": [
        "# 변수를 처음 만나시면 type, dir을 해봅니다.\n",
        "# type를 찍으면 검색 키워드를 알 수 있습니다.\n",
        "# dir을 찍으면 속성을 알 수 있습니다.\n",
        "type(a)"
      ]
    },
    {
      "cell_type": "code",
      "execution_count": null,
      "metadata": {
        "colab": {
          "base_uri": "https://localhost:8080/"
        },
        "id": "8BNmlVb38s1E",
        "outputId": "cc712828-4ebe-4661-b009-359c05f575da"
      },
      "outputs": [
        {
          "name": "stdout",
          "output_type": "stream",
          "text": [
            "<class 'int'>\n"
          ]
        }
      ],
      "source": [
        "print(type(a))"
      ]
    },
    {
      "cell_type": "code",
      "execution_count": null,
      "metadata": {
        "colab": {
          "base_uri": "https://localhost:8080/"
        },
        "id": "hFfOYh1B8ny1",
        "outputId": "40e539f5-6c65-4752-b2ad-864d4726f0b2"
      },
      "outputs": [
        {
          "data": {
            "text/plain": [
              "['__class__',\n",
              " '__delattr__',\n",
              " '__dict__',\n",
              " '__dir__',\n",
              " '__doc__',\n",
              " '__eq__',\n",
              " '__format__',\n",
              " '__ge__',\n",
              " '__getattribute__',\n",
              " '__gt__',\n",
              " '__hash__',\n",
              " '__init__',\n",
              " '__init_subclass__',\n",
              " '__le__',\n",
              " '__lt__',\n",
              " '__module__',\n",
              " '__ne__',\n",
              " '__new__',\n",
              " '__reduce__',\n",
              " '__reduce_ex__',\n",
              " '__repr__',\n",
              " '__setattr__',\n",
              " '__sizeof__',\n",
              " '__str__',\n",
              " '__subclasshook__',\n",
              " '__weakref__']"
            ]
          },
          "execution_count": 22,
          "metadata": {},
          "output_type": "execute_result"
        }
      ],
      "source": [
        "dir(a)"
      ]
    },
    {
      "cell_type": "code",
      "execution_count": null,
      "metadata": {
        "colab": {
          "base_uri": "https://localhost:8080/"
        },
        "id": "0BfEgIPbFWuo",
        "outputId": "6d437ee4-df18-45f7-b093-5c249d974608"
      },
      "outputs": [
        {
          "data": {
            "text/plain": [
              "True"
            ]
          },
          "execution_count": 34,
          "metadata": {},
          "output_type": "execute_result"
        }
      ],
      "source": [
        "# 실무에서 자주 사용하는 구문\n",
        "type(10)\n",
        "type(10) == int\n",
        "type(10.1) == float"
      ]
    },
    {
      "cell_type": "code",
      "execution_count": null,
      "metadata": {
        "colab": {
          "base_uri": "https://localhost:8080/"
        },
        "id": "JsNSgy61FlLj",
        "outputId": "333c542a-3731-426d-83e0-d902b088e5aa"
      },
      "outputs": [
        {
          "data": {
            "text/plain": [
              "True"
            ]
          },
          "execution_count": 36,
          "metadata": {},
          "output_type": "execute_result"
        }
      ],
      "source": [
        "# 위만큼 자주 사용하지는 않지만 자주 사용하는 타입 확인 코드\n",
        "a =10\n",
        "isinstance(a, int)\n",
        "isinstance(a, float)"
      ]
    },
    {
      "attachments": {},
      "cell_type": "markdown",
      "metadata": {
        "id": "L1uQwMerF3TF"
      },
      "source": [
        "## 변수"
      ]
    },
    {
      "cell_type": "code",
      "execution_count": null,
      "metadata": {
        "colab": {
          "base_uri": "https://localhost:8080/"
        },
        "id": "CPbfRW7IF9Zf",
        "outputId": "0857aa60-5fd0-4c40-944c-afedb3a190e9"
      },
      "outputs": [
        {
          "data": {
            "text/plain": [
              "(140570220790288, 140570220790288)"
            ]
          },
          "execution_count": 38,
          "metadata": {},
          "output_type": "execute_result"
        }
      ],
      "source": [
        "# CS 변수는 포스트잇\n",
        "# 메모리 공간을 가리킵니다.\n",
        "\n",
        "# x라는 포스트잇도 붙였지만\n",
        "# y라는 포스트잇도 붙여져 있는 것입니다.\n",
        "x = 10\n",
        "y = 10\n",
        "\n",
        "id(x), id(y) # id는 누구를 가리키고 있는지 그 주소값을 반환합니다."
      ]
    },
    {
      "cell_type": "code",
      "execution_count": null,
      "metadata": {
        "colab": {
          "base_uri": "https://localhost:8080/"
        },
        "id": "y-RSxuL6HNGM",
        "outputId": "21c34b76-25f9-4df5-8403-f4a112799edb"
      },
      "outputs": [
        {
          "data": {
            "text/plain": [
              "True"
            ]
          },
          "execution_count": 40,
          "metadata": {},
          "output_type": "execute_result"
        }
      ],
      "source": [
        "x is y"
      ]
    },
    {
      "cell_type": "code",
      "execution_count": null,
      "metadata": {
        "colab": {
          "base_uri": "https://localhost:8080/"
        },
        "id": "OjqHdnOtHT2E",
        "outputId": "c7fdc52e-43ac-41f0-c93f-584f274b54b4"
      },
      "outputs": [
        {
          "data": {
            "text/plain": [
              "(140568974617712, 140568974619248, False)"
            ]
          },
          "execution_count": 43,
          "metadata": {},
          "output_type": "execute_result"
        }
      ],
      "source": [
        "# -5 ~ 256 까지 메모리에 미리 할당해두고 사용함!\n",
        "x = 257\n",
        "y = 257\n",
        "\n",
        "id(x), id(y), x is y # id는 누구를 가리키고 있는지 그 주소값을 반환합니다."
      ]
    },
    {
      "cell_type": "code",
      "execution_count": null,
      "metadata": {
        "id": "1mwVF1U0H5bD"
      },
      "outputs": [],
      "source": [
        "# Python은 자체적으로 속도를 높이기 위한 \n",
        "# 여러가지 노력들을 해왔습니다.\n",
        "# (아래 언급한 것 말고도 각각의 자료형에서 메모리를 효율적으로 관리하기 위한 노력들을 말씀드리겠습니다.)\n",
        "# 구버전도 말씀을 드릴 것인데 이유는 여러분이 실무에가서 접할 환경이 최신 버전이 아니기 때문입니다.\n",
        "# 야xx의 경우에는 Django 1.x, python 2.x를 사용하고 있어요. \n",
        "# 대부분의 기업들이 한 번 구축해놓은 시스템은 바꾸기가 쉽지 않습니다.\n",
        "\n",
        "\n",
        "# 그래서 -5 ~ 256은 먼저 메모리에 적재를 합니다."
      ]
    },
    {
      "cell_type": "code",
      "execution_count": null,
      "metadata": {
        "colab": {
          "base_uri": "https://localhost:8080/"
        },
        "id": "WUsAZaDbIRA0",
        "outputId": "cce89dc4-d350-4e76-b14f-43415bf5b91b"
      },
      "outputs": [
        {
          "data": {
            "text/plain": [
              "(140570220789808, 140570220789808, True)"
            ]
          },
          "execution_count": 48,
          "metadata": {},
          "output_type": "execute_result"
        }
      ],
      "source": [
        "x = -5\n",
        "y = -5\n",
        "\n",
        "id(x), id(y), x is y # id는 누구를 가리키고 있는지 그 주소값을 반환합니다."
      ]
    },
    {
      "attachments": {},
      "cell_type": "markdown",
      "metadata": {
        "id": "kB-cHMiQIt24"
      },
      "source": [
        "* 변수의 타입이란 무엇인가?\n",
        "* 변수의 타입은 왜 있는 것일까?\n",
        "* 어떤 고민을 통해 변수의 속성을 정했을까?"
      ]
    },
    {
      "cell_type": "code",
      "execution_count": null,
      "metadata": {
        "colab": {
          "base_uri": "https://localhost:8080/",
          "height": 35
        },
        "id": "bGK8HXssI9ne",
        "outputId": "f70e70a3-4d21-471a-c26c-835be33a0c9e"
      },
      "outputs": [
        {
          "data": {
            "application/vnd.google.colaboratory.intrinsic+json": {
              "type": "string"
            },
            "text/plain": [
              "'aa'"
            ]
          },
          "execution_count": 49,
          "metadata": {},
          "output_type": "execute_result"
        }
      ],
      "source": [
        "'a' + 'a'"
      ]
    },
    {
      "cell_type": "code",
      "execution_count": null,
      "metadata": {
        "id": "hG6qZS9wJA1j"
      },
      "outputs": [],
      "source": [
        "# 왜 이어 붙였지?\n",
        "# 컴퓨터 입장에서 a 는 97(인간이 보는 숫자) -> 0ㅌ61 결국 숫자!\n"
      ]
    },
    {
      "cell_type": "code",
      "execution_count": null,
      "metadata": {
        "id": "zllGX-JjJjS_"
      },
      "outputs": [],
      "source": [
        "# cpython -> 이어 붙이라고 정의가 되어있어서!\n",
        "# 사회 통념적인 약속 -> 코드로 구현\n",
        "# type, dir\n",
        "# 이러한 약속들은 매직메서드(__init__ ...)를 통해 구현하게 됩니다."
      ]
    },
    {
      "attachments": {},
      "cell_type": "markdown",
      "metadata": {
        "id": "Vg4hc3UwJ74P"
      },
      "source": [
        "## 변수의 속성 변경"
      ]
    },
    {
      "cell_type": "code",
      "execution_count": null,
      "metadata": {
        "colab": {
          "base_uri": "https://localhost:8080/",
          "height": 35
        },
        "id": "1ZMDwUQQKHLC",
        "outputId": "d0bd291e-233e-48f1-aefb-a741ca79cb96"
      },
      "outputs": [
        {
          "data": {
            "application/vnd.google.colaboratory.intrinsic+json": {
              "type": "string"
            },
            "text/plain": [
              "'1010'"
            ]
          },
          "execution_count": 51,
          "metadata": {},
          "output_type": "execute_result"
        }
      ],
      "source": [
        "'10' + '10'"
      ]
    },
    {
      "cell_type": "code",
      "execution_count": null,
      "metadata": {
        "colab": {
          "base_uri": "https://localhost:8080/"
        },
        "id": "EYusL_YEKCse",
        "outputId": "8c0251ba-9fc7-44db-9617-1c5571e2814a"
      },
      "outputs": [
        {
          "data": {
            "text/plain": [
              "20"
            ]
          },
          "execution_count": 54,
          "metadata": {},
          "output_type": "execute_result"
        }
      ],
      "source": [
        " # str 변수를 int로 형변환해서 더함\n",
        "int('10') + int('10')"
      ]
    },
    {
      "cell_type": "code",
      "execution_count": null,
      "metadata": {
        "colab": {
          "base_uri": "https://localhost:8080/",
          "height": 35
        },
        "id": "7Ssk7mzpKRiU",
        "outputId": "4e101be7-c33e-4f1d-98ff-0b91ed00d10b"
      },
      "outputs": [
        {
          "data": {
            "application/vnd.google.colaboratory.intrinsic+json": {
              "type": "string"
            },
            "text/plain": [
              "'leehojun'"
            ]
          },
          "execution_count": 55,
          "metadata": {},
          "output_type": "execute_result"
        }
      ],
      "source": [
        "# point!!\n",
        "# class가 중요한 게 아니라 이러한 '약속'을 우리가 변경할 수 있다!! 는 것이 중요함\n",
        "class int(int):\n",
        "    def __add__(self, a):\n",
        "        return 'leehojun'\n",
        "\n",
        "int('10') + int('10')"
      ]
    },
    {
      "cell_type": "code",
      "execution_count": null,
      "metadata": {
        "colab": {
          "base_uri": "https://localhost:8080/"
        },
        "id": "UGY7ioORKsW_",
        "outputId": "f71ade41-0b89-4e19-d226-fdcda0f96f43"
      },
      "outputs": [
        {
          "data": {
            "text/plain": [
              "100"
            ]
          },
          "execution_count": 58,
          "metadata": {},
          "output_type": "execute_result"
        }
      ],
      "source": [
        "class int(int):\n",
        "    def __add__(self, a):\n",
        "        return self * a\n",
        "        \n",
        "int('10') + int('10')"
      ]
    },
    {
      "cell_type": "code",
      "execution_count": null,
      "metadata": {
        "colab": {
          "base_uri": "https://localhost:8080/"
        },
        "id": "DuX1uev9K5BT",
        "outputId": "6a348ca5-bad4-4790-bd18-14e38ad866f2"
      },
      "outputs": [
        {
          "data": {
            "text/plain": [
              "['__abs__',\n",
              " '__add__',\n",
              " '__and__',\n",
              " '__bool__',\n",
              " '__ceil__',\n",
              " '__class__',\n",
              " '__delattr__',\n",
              " '__dir__',\n",
              " '__divmod__',\n",
              " '__doc__',\n",
              " '__eq__',\n",
              " '__float__',\n",
              " '__floor__',\n",
              " '__floordiv__',\n",
              " '__format__',\n",
              " '__ge__',\n",
              " '__getattribute__',\n",
              " '__getnewargs__',\n",
              " '__gt__',\n",
              " '__hash__',\n",
              " '__index__',\n",
              " '__init__',\n",
              " '__init_subclass__',\n",
              " '__int__',\n",
              " '__invert__',\n",
              " '__le__',\n",
              " '__lshift__',\n",
              " '__lt__',\n",
              " '__mod__',\n",
              " '__mul__',\n",
              " '__ne__',\n",
              " '__neg__',\n",
              " '__new__',\n",
              " '__or__',\n",
              " '__pos__',\n",
              " '__pow__',\n",
              " '__radd__',\n",
              " '__rand__',\n",
              " '__rdivmod__',\n",
              " '__reduce__',\n",
              " '__reduce_ex__',\n",
              " '__repr__',\n",
              " '__rfloordiv__',\n",
              " '__rlshift__',\n",
              " '__rmod__',\n",
              " '__rmul__',\n",
              " '__ror__',\n",
              " '__round__',\n",
              " '__rpow__',\n",
              " '__rrshift__',\n",
              " '__rshift__',\n",
              " '__rsub__',\n",
              " '__rtruediv__',\n",
              " '__rxor__',\n",
              " '__setattr__',\n",
              " '__sizeof__',\n",
              " '__str__',\n",
              " '__sub__',\n",
              " '__subclasshook__',\n",
              " '__truediv__',\n",
              " '__trunc__',\n",
              " '__xor__',\n",
              " 'as_integer_ratio',\n",
              " 'bit_count',\n",
              " 'bit_length',\n",
              " 'conjugate',\n",
              " 'denominator',\n",
              " 'from_bytes',\n",
              " 'imag',\n",
              " 'numerator',\n",
              " 'real',\n",
              " 'to_bytes']"
            ]
          },
          "execution_count": 57,
          "metadata": {},
          "output_type": "execute_result"
        }
      ],
      "source": [
        "dir(10)\n",
        "# __ 없는 함수는 편의기능? 이라고 생각하면 됨. 추가할수있음"
      ]
    },
    {
      "cell_type": "code",
      "execution_count": null,
      "metadata": {
        "colab": {
          "base_uri": "https://localhost:8080/"
        },
        "id": "dxEJRuHaLdDc",
        "outputId": "e2e93f04-ef06-4c3e-b3a5-56a4b71e2afc"
      },
      "outputs": [
        {
          "name": "stdout",
          "output_type": "stream",
          "text": [
            "['__abs__', '__add__', '__and__', '__bool__', '__ceil__', '__class__', '__delattr__', '__dict__', '__dir__', '__divmod__', '__doc__', '__eq__', '__float__', '__floor__', '__floordiv__', '__format__', '__ge__', '__getattribute__', '__getnewargs__', '__gt__', '__hash__', '__index__', '__init__', '__init_subclass__', '__int__', '__invert__', '__le__', '__lshift__', '__lt__', '__mod__', '__module__', '__mul__', '__ne__', '__neg__', '__new__', '__or__', '__pos__', '__pow__', '__radd__', '__rand__', '__rdivmod__', '__reduce__', '__reduce_ex__', '__repr__', '__rfloordiv__', '__rlshift__', '__rmod__', '__rmul__', '__ror__', '__round__', '__rpow__', '__rrshift__', '__rshift__', '__rsub__', '__rtruediv__', '__rxor__', '__setattr__', '__sizeof__', '__str__', '__sub__', '__subclasshook__', '__truediv__', '__trunc__', '__xor__', 'as_integer_ratio', 'bit_count', 'bit_length', 'conjugate', 'denominator', 'from_bytes', 'imag', 'numerator', 'real', 'to_bytes', '제곱']\n"
          ]
        }
      ],
      "source": [
        "class int(int):\n",
        "    def 제곱(self, 승수):\n",
        "        return self ** 승수\n",
        "        \n",
        "value = int('10')\n",
        "print(dir(value))"
      ]
    },
    {
      "cell_type": "code",
      "execution_count": null,
      "metadata": {
        "colab": {
          "base_uri": "https://localhost:8080/"
        },
        "id": "dcWb-6epLxnT",
        "outputId": "89dc737e-9e0f-4598-9755-a04c7c1b022b"
      },
      "outputs": [
        {
          "data": {
            "text/plain": [
              "1000"
            ]
          },
          "execution_count": 63,
          "metadata": {},
          "output_type": "execute_result"
        }
      ],
      "source": [
        "value.제곱(3)"
      ]
    },
    {
      "cell_type": "code",
      "execution_count": null,
      "metadata": {
        "colab": {
          "base_uri": "https://localhost:8080/"
        },
        "id": "F2Y9qjyHMElz",
        "outputId": "da51b10a-b17f-48b6-c436-dbf7d8ef6ca8"
      },
      "outputs": [
        {
          "name": "stdout",
          "output_type": "stream",
          "text": [
            "140570220790288 140570220790288 140570220790288\n"
          ]
        }
      ],
      "source": [
        "# x -> 10 ,y -> 10, z ->10\n",
        "x = 10\n",
        "y = x\n",
        "z = y\n",
        "print(id(x), id(y), id(z))"
      ]
    },
    {
      "cell_type": "code",
      "execution_count": null,
      "metadata": {
        "colab": {
          "base_uri": "https://localhost:8080/"
        },
        "id": "BDSP7-0aMo3w",
        "outputId": "51784cba-b138-407e-c2cd-16b5d62c7b5c"
      },
      "outputs": [
        {
          "name": "stdout",
          "output_type": "stream",
          "text": [
            "100 10\n",
            "140570220793168 140570220790288\n"
          ]
        }
      ],
      "source": [
        "x = 10\n",
        "y = x\n",
        "# x-> 10, y ->10\n",
        "x =100\n",
        "# x -> 100, y -> 10\n",
        "print(x, y)\n",
        "print(id(x), id(y))"
      ]
    },
    {
      "attachments": {},
      "cell_type": "markdown",
      "metadata": {
        "id": "BVVU46jPNaQU"
      },
      "source": [
        "## 변수의 속성"
      ]
    },
    {
      "attachments": {},
      "cell_type": "markdown",
      "metadata": {
        "id": "Nkv2MliMNbzc"
      },
      "source": [
        "* 변수는 주로 스네이크 표기법을 많이 사용합니다. (물론 회사 컨벤션을 따르셔야 합니다.)\n",
        "* 영문과 숫자를 사용할 수 있지만, 숫자로  시작하지는 못합니다.\n",
        "* 특수문자는 사용하지 않아요.(언더바(_)는  사용합니다. 스네이크 표기법, 특수문자나  이미중 사용 가능한 것들이 있기는 합니다.  권하지 않습니다.)\n",
        "* 예약어는 사용하지 않습니다.(if, elif, while, * for, etc)\n",
        "* 대소문자는 구분합니다.\n",
        "* 언더바로만 사용하거나 언더바로 시작할 수 있습니다.\n",
        "* 대문자로 시작하는 변수를 사용할 수 있지만, 관습적으로 대문자로 시작하는 변수는 Class로 만들기 때문에 소문자로 시작하는 변수를 만들기를 권합니다. Class는 보통 파스칼 표기법을 따릅니다. 다만 회사 컨벤션마다 다릅니다."
      ]
    },
    {
      "cell_type": "code",
      "execution_count": null,
      "metadata": {
        "id": "I_WFD52mgt3R"
      },
      "outputs": [],
      "source": [
        "# 스네이크 표기법(python에서 주로)\n",
        "hello_world = 10\n",
        "# 카멜 표기법(JavaScript에서 주로)\n",
        "helloWorld = 10\n",
        "# 파스칼 표기법(Class 같은 곳에서 많이 사용합니다.)\n",
        "Hello=10"
      ]
    },
    {
      "cell_type": "code",
      "execution_count": null,
      "metadata": {
        "colab": {
          "base_uri": "https://localhost:8080/"
        },
        "id": "bd20J-gnhQvl",
        "outputId": "9be1acb2-267e-4963-b499-508763fb0809"
      },
      "outputs": [
        {
          "name": "stdout",
          "output_type": "stream",
          "text": [
            "3.14\n",
            "100\n"
          ]
        }
      ],
      "source": [
        "# 10hello = 100\n",
        "hello10 = 100\n",
        "\n",
        "# 특수문자도 변수명에 넣어서 사용할 수 있음\n",
        "# 하지만 권장하지 않음\n",
        "π = 3.14 \n",
        "print(π)\n",
        "\n",
        "# _ 만은 자주 사용되는데 이렇게 사용되지 않음\n",
        "_ = 100\n",
        "print(_)"
      ]
    },
    {
      "cell_type": "code",
      "execution_count": null,
      "metadata": {
        "colab": {
          "base_uri": "https://localhost:8080/"
        },
        "id": "ova8_8jMiUSW",
        "outputId": "86ef8913-87f8-4422-9a10-9f9565791107"
      },
      "outputs": [
        {
          "name": "stdout",
          "output_type": "stream",
          "text": [
            "hello\n",
            "hello\n",
            "hello\n",
            "hello\n",
            "hello\n",
            "hello\n",
            "hello\n",
            "hello\n",
            "hello\n",
            "hello\n"
          ]
        }
      ],
      "source": [
        "for _ in range(10): # 언더바를 순회 안에서 변수로 사용하지 않을 때\n",
        "    print('hello')"
      ]
    },
    {
      "cell_type": "code",
      "execution_count": null,
      "metadata": {
        "id": "joyKIB5Nio6m"
      },
      "outputs": [],
      "source": [
        "# if = 100\n",
        "# print = 100\n",
        "# print(100)"
      ]
    },
    {
      "attachments": {},
      "cell_type": "markdown",
      "metadata": {
        "id": "UmQpCh5fjiYM"
      },
      "source": [
        "## 입력과 출력"
      ]
    },
    {
      "cell_type": "code",
      "execution_count": null,
      "metadata": {
        "colab": {
          "base_uri": "https://localhost:8080/",
          "height": 54
        },
        "id": "_1VhPSivjoRb",
        "outputId": "78e39955-b112-419d-f177-c86ba414a2ea"
      },
      "outputs": [
        {
          "name": "stdout",
          "output_type": "stream",
          "text": [
            "10\n"
          ]
        },
        {
          "data": {
            "application/vnd.google.colaboratory.intrinsic+json": {
              "type": "string"
            },
            "text/plain": [
              "'10'"
            ]
          },
          "execution_count": 1,
          "metadata": {},
          "output_type": "execute_result"
        }
      ],
      "source": [
        "x = input()\n",
        "x"
      ]
    },
    {
      "cell_type": "code",
      "execution_count": null,
      "metadata": {
        "colab": {
          "base_uri": "https://localhost:8080/",
          "height": 35
        },
        "id": "TQ72xhl1jq6G",
        "outputId": "6702ea2d-4c06-48ce-cf09-83949cfc3a33"
      },
      "outputs": [
        {
          "data": {
            "application/vnd.google.colaboratory.intrinsic+json": {
              "type": "string"
            },
            "text/plain": [
              "'1010'"
            ]
          },
          "execution_count": 2,
          "metadata": {},
          "output_type": "execute_result"
        }
      ],
      "source": [
        "x + x #사용자에게 받은 입력은 str"
      ]
    },
    {
      "cell_type": "code",
      "execution_count": null,
      "metadata": {
        "colab": {
          "base_uri": "https://localhost:8080/"
        },
        "id": "fStXDaIrj2hF",
        "outputId": "687ae585-3b1d-4f94-879d-23c80bbf9270"
      },
      "outputs": [
        {
          "name": "stdout",
          "output_type": "stream",
          "text": [
            "10 10 10\n"
          ]
        }
      ],
      "source": [
        "print(10, 10, 10)"
      ]
    },
    {
      "cell_type": "code",
      "execution_count": null,
      "metadata": {
        "colab": {
          "base_uri": "https://localhost:8080/"
        },
        "id": "EGE9S_lzkAuV",
        "outputId": "bc19b085-26b1-485e-d4f3-a5727fbec50a"
      },
      "outputs": [
        {
          "name": "stdout",
          "output_type": "stream",
          "text": [
            "hello world hello\n"
          ]
        }
      ],
      "source": [
        "print('hello', 'world', 'hello')"
      ]
    },
    {
      "cell_type": "code",
      "execution_count": null,
      "metadata": {
        "colab": {
          "base_uri": "https://localhost:8080/"
        },
        "id": "qs-3xHRQkEtF",
        "outputId": "2386b03b-cef1-4bef-b371-3e9b6528d95d"
      },
      "outputs": [
        {
          "name": "stdout",
          "output_type": "stream",
          "text": [
            "10 10\n"
          ]
        }
      ],
      "source": [
        "print(x, x)"
      ]
    },
    {
      "cell_type": "code",
      "execution_count": null,
      "metadata": {
        "colab": {
          "base_uri": "https://localhost:8080/"
        },
        "id": "o1QOLq7KkroG",
        "outputId": "98634df5-119f-4fc9-e00b-f1a208709121"
      },
      "outputs": [
        {
          "name": "stdout",
          "output_type": "stream",
          "text": [
            "hello world!hello world!hello world!"
          ]
        }
      ],
      "source": [
        "print('hello world', end='!')\n",
        "print('hello world', end='!')\n",
        "print('hello world', end='!')"
      ]
    },
    {
      "cell_type": "code",
      "execution_count": null,
      "metadata": {
        "colab": {
          "base_uri": "https://localhost:8080/"
        },
        "id": "tVAzp9BIk9WT",
        "outputId": "9a577ae3-eafa-4f70-df90-0003ae81fc1e"
      },
      "outputs": [
        {
          "name": "stdout",
          "output_type": "stream",
          "text": [
            "hello!world\n",
            "010-5044-2903\n"
          ]
        }
      ],
      "source": [
        "print('hello', 'world', sep='!')\n",
        "print('010', '5044', '2903', sep='-') # 호준대표님 번호"
      ]
    },
    {
      "cell_type": "code",
      "execution_count": null,
      "metadata": {
        "colab": {
          "base_uri": "https://localhost:8080/"
        },
        "id": "tv4lfkAIlaxE",
        "outputId": "c52c54d5-c09e-4e20-da38-67633efbdb28"
      },
      "outputs": [
        {
          "name": "stdout",
          "output_type": "stream",
          "text": [
            "1. 제 이름은 이호준입니다. 제 나이는 10입니다.\n",
            "2. 제 이름은 이호준입니다. 제 나이는 10입니다.\n",
            "3. 제 이름은 이호준입니다. 제 나이는 10입니다.\n",
            "4. 제 이름은 이호준입니다. 제 나이는 10입니다.\n",
            "5. 제 이름은 이호준입니다. 제 나이는 10입니다.\n"
          ]
        }
      ],
      "source": [
        "이름 = '이호준'\n",
        "나이 = 10\n",
        "print('1. 제 이름은 이호준입니다. 제 나이는 10입니다.')\n",
        "print('2. 제 이름은 ', 이름, '입니다. 제 나이는 ', 나이,'입니다.', sep='')\n",
        "print('3. 제 이름은 %s입니다. 제 나이는 %d입니다.'%(이름, 나이)) # formatting 기법은 오래되기도하고... f-string으로 대체됨\n",
        "print('4. 제 이름은 {}입니다. 제 나이는 {}입니다.'.format(이름, 나이)) # format 용법\n",
        "print(f'5. 제 이름은 {이름}입니다. 제 나이는 {나이}입니다.') # f-string 기법"
      ]
    },
    {
      "attachments": {},
      "cell_type": "markdown",
      "metadata": {
        "id": "mBelYy4WmUsq"
      },
      "source": [
        "[포맷코드종류](https://www.notion.so/9fd33417740f4eba8715f5c4a1ed7c7b?v=e01ecdfe2f9448dcaad68b03a38057a5)"
      ]
    },
    {
      "attachments": {},
      "cell_type": "markdown",
      "metadata": {
        "id": "8JlFgX6km5ih"
      },
      "source": [
        "## formatting"
      ]
    },
    {
      "cell_type": "code",
      "execution_count": null,
      "metadata": {
        "colab": {
          "base_uri": "https://localhost:8080/"
        },
        "id": "tjES7mg5nDno",
        "outputId": "08c9b913-442c-43d6-841f-3a74353a6440"
      },
      "outputs": [
        {
          "name": "stdout",
          "output_type": "stream",
          "text": [
            "1000\n"
          ]
        }
      ],
      "source": [
        "print(f'{100*10}')"
      ]
    },
    {
      "cell_type": "code",
      "execution_count": null,
      "metadata": {
        "colab": {
          "base_uri": "https://localhost:8080/"
        },
        "id": "5Lt34Qb5nKGy",
        "outputId": "91f68fc9-7c16-47e9-ee31-5866361b50b0"
      },
      "outputs": [
        {
          "name": "stdout",
          "output_type": "stream",
          "text": [
            "10\n"
          ]
        }
      ],
      "source": [
        "# 중괄호 안에서 복잡한 연산을 하는 것을 권하지 않습니다.\n",
        "result = 10\n",
        "print(f'{result}')"
      ]
    },
    {
      "cell_type": "code",
      "execution_count": null,
      "metadata": {
        "colab": {
          "base_uri": "https://localhost:8080/"
        },
        "id": "e06XiDoYnaUw",
        "outputId": "42ae6ade-c2f0-4287-e2a1-d11ffb4a9143"
      },
      "outputs": [
        {
          "name": "stdout",
          "output_type": "stream",
          "text": [
            "hello     \n",
            "     hello\n",
            "  hello   \n"
          ]
        }
      ],
      "source": [
        "# 이런 문법은 필요에 의해 검색해서 사용하다 보면 익숙해집니다.\n",
        "# 10자리로 출력하는데\n",
        "print(f'{\"hello\":<10}') #왼쪽 정렬\n",
        "print(f'{\"hello\":>10}') #오른쪽 정렬\n",
        "print(f'{\"hello\":^10}') #중앙 정렬"
      ]
    },
    {
      "cell_type": "code",
      "execution_count": null,
      "metadata": {
        "colab": {
          "base_uri": "https://localhost:8080/"
        },
        "id": "DhiCHxpnn1uO",
        "outputId": "370e152f-8646-4425-9272-ceec49dbd1f8"
      },
      "outputs": [
        {
          "name": "stdout",
          "output_type": "stream",
          "text": [
            "     hello\n",
            "     hello\n"
          ]
        }
      ],
      "source": [
        "txt='hello'\n",
        "i = 10\n",
        "print(f'{txt:>10}')\n",
        "print(f'{txt:>{i}}') # formatting 인자를 변수로 주는 법!!!!!!!!!!!!!!!!!!!!!!!!!!!!"
      ]
    },
    {
      "cell_type": "code",
      "execution_count": null,
      "metadata": {
        "colab": {
          "base_uri": "https://localhost:8080/"
        },
        "id": "_31FelGzoUwn",
        "outputId": "18a7bbed-e25b-4a2b-e383-b3ca7b03b122"
      },
      "outputs": [
        {
          "name": "stdout",
          "output_type": "stream",
          "text": [
            "hello!!!!!\n",
            "!!!!!hello\n",
            "!!hello!!!\n"
          ]
        }
      ],
      "source": [
        "# 이런 문법은 필요에 의해 검색해서 사용하다 보면 익숙해집니다.\n",
        "# 10자리로 출력하는데\n",
        "print(f'{\"hello\":!<10}') #왼쪽 정렬\n",
        "print(f'{\"hello\":!>10}') #오른쪽 정렬\n",
        "print(f'{\"hello\":!^10}') #중앙 정렬"
      ]
    },
    {
      "cell_type": "code",
      "execution_count": null,
      "metadata": {
        "colab": {
          "base_uri": "https://localhost:8080/"
        },
        "id": "eRSFs4tHoZpG",
        "outputId": "632fb739-d39e-4277-9e3b-1963843d6db1"
      },
      "outputs": [
        {
          "name": "stdout",
          "output_type": "stream",
          "text": [
            "hello=====\n",
            "=====hello\n",
            "==hello===\n"
          ]
        }
      ],
      "source": [
        "# 이런 문법은 필요에 의해 검색해서 사용하다 보면 익숙해집니다.\n",
        "# 10자리로 출력하는데\n",
        "print(f'{\"hello\":=<10}') #왼쪽 정렬\n",
        "print(f'{\"hello\":=>10}') #오른쪽 정렬\n",
        "print(f'{\"hello\":=^10}') #중앙 정렬"
      ]
    },
    {
      "cell_type": "code",
      "execution_count": null,
      "metadata": {
        "colab": {
          "base_uri": "https://localhost:8080/"
        },
        "id": "Trz5GCaJuWFK",
        "outputId": "e009be9a-86a0-46c4-a607-cf86615c6135"
      },
      "outputs": [
        {
          "name": "stdout",
          "output_type": "stream",
          "text": [
            "01001\n",
            "<class 'str'>\n"
          ]
        }
      ],
      "source": [
        "# https://tech.kakao.com/2017/09/27/kakao-blind-recruitment-round-1/\n",
        "print(f'{bin(9)[2:]:0>5}')\n",
        "print(type(bin(9)))"
      ]
    },
    {
      "cell_type": "code",
      "execution_count": null,
      "metadata": {
        "colab": {
          "base_uri": "https://localhost:8080/",
          "height": 35
        },
        "id": "CpfDgyQ6uxG1",
        "outputId": "cf0897a7-ad07-40ac-b764-a2e5ceac34b9"
      },
      "outputs": [
        {
          "data": {
            "application/vnd.google.colaboratory.intrinsic+json": {
              "type": "string"
            },
            "text/plain": [
              "'#####'"
            ]
          },
          "execution_count": 37,
          "metadata": {},
          "output_type": "execute_result"
        }
      ],
      "source": [
        "bin(9|30)[2:].replace('1','#').replace('0',' ')"
      ]
    },
    {
      "cell_type": "code",
      "execution_count": null,
      "metadata": {
        "colab": {
          "base_uri": "https://localhost:8080/"
        },
        "id": "N_6xo588vNGF",
        "outputId": "7f31f306-99d6-485a-a7d3-6803849ec0e3"
      },
      "outputs": [
        {
          "name": "stdout",
          "output_type": "stream",
          "text": [
            "-------start--------\n"
          ]
        }
      ],
      "source": [
        "# 실무에서 이정도로 활용을 합니다.\n",
        "print(f'{\"start\":-^20}')"
      ]
    },
    {
      "cell_type": "code",
      "execution_count": null,
      "metadata": {
        "colab": {
          "base_uri": "https://localhost:8080/"
        },
        "id": "xyi8JeCEvgJN",
        "outputId": "9f2260e0-ae72-4f7e-b433-4d4e9bdf6d62"
      },
      "outputs": [
        {
          "name": "stdout",
          "output_type": "stream",
          "text": [
            "0.12\n"
          ]
        }
      ],
      "source": [
        "print(f'{0.12345:0.2f}') # 소수점 자리수 표현"
      ]
    },
    {
      "attachments": {},
      "cell_type": "markdown",
      "metadata": {
        "id": "-NFInD_xv2Qt"
      },
      "source": [
        "* 이 아래 코드는 필수는 아닙니다.\n",
        "학습시 참고만 부탁드립니다."
      ]
    },
    {
      "cell_type": "code",
      "execution_count": null,
      "metadata": {
        "colab": {
          "base_uri": "https://localhost:8080/"
        },
        "id": "C5r0_UKrvrsW",
        "outputId": "3566bd65-ba60-4d3e-d843-ff76b9e66464"
      },
      "outputs": [
        {
          "name": "stdout",
          "output_type": "stream",
          "text": [
            "나의 이름은 한사람입니다\n",
            "나의 이름은 \"한사람\"입니다. 나이는 33세이고 성별은 남성입니다.\n",
            "나이는 33세이고 성별은 남성입니다. 나의 이름은 한사람입니다. \n",
            "나이는 033세이고 신장은  56.79입니다. 나의 이름은 한사람입니다. \n",
            "----------------------------------------\n",
            "나의 이름은 한사람입니다\n",
            "나의 이름은 한사람입니다. 나이는 33세이고 성별은 남성입니다.\n",
            "나이는 33세이고 성별은 남성입니다. 나의 이름은 한사람입니다. \n",
            "나이는 33세이고 성별은 남성입니다. 나의 이름은 한사람입니다. \n",
            "만세삼창 :  만세!!! 만세!!! 만세!!! \n",
            "삼삼칠 박수 :  짝짝짝!!! 짝짝짝!!! 짝짝짝짝짝짝짝!!! \n",
            "----------------------------------------\n",
            "볼펜 2개의 길이는 10.686cm 입니다.\n",
            "볼펜 2개의 길이는 10.7cm 입니다.\n"
          ]
        }
      ],
      "source": [
        "# 이전 방식\n",
        "print('나의 이름은 %s입니다'%('한사람'))\n",
        "print('나의 이름은 \"%s\"입니다. 나이는 %d세이고 성별은 %s입니다.'%('한사람',33,'남성'))\n",
        "print('나이는 %d세이고 성별은 %s입니다. 나의 이름은 %s입니다. '%(33,'남성','한사람'))\n",
        "print('나이는 %03d세이고 신장은 %6.2f입니다. 나의 이름은 %s입니다. '%(33,56.789,'한사람'))\n",
        "print('-' * 40)\n",
        "\n",
        "# 파이썬(Python) 3 포맷팅 방식\n",
        "print('나의 이름은 {}입니다'.format('한사람'))\n",
        "print('나의 이름은 {0}입니다. 나이는 {1}세이고 성별은 {2}입니다.'.format('한사람',33,'남성'))\n",
        "print('나이는 {1}세이고 성별은 {2}입니다. 나의 이름은 {0}입니다. '.format('한사람',33,'남성'))\n",
        "print('나이는 {age}세이고 성별은 {gender}입니다. 나의 이름은 {name}입니다. '\n",
        "         .format(name='한사람',age=33,gender='남성'))\n",
        "print('만세삼창 :  {0}!!! {0}!!! {0}!!! '.format('만세'))\n",
        "print('삼삼칠 박수 :  {0}!!! {0}!!! {1}!!! '.format('짝'*3,'짝'*7))\n",
        "print('-' * 40)\n",
        "\n",
        "# 파이썬(Python) 3.6 f-string 방식\n",
        "something = '볼펜'\n",
        "EA = 2\n",
        "one_length = 5.343\n",
        "scale = 'cm'\n",
        "\n",
        "print(f'{something} {EA}개의 길이는 {one_length*EA}{scale} 입니다.')\n",
        "print(f'{something} {EA}개의 길이는 {one_length*EA:.1f}{scale} 입니다.')"
      ]
    },
    {
      "cell_type": "code",
      "execution_count": null,
      "metadata": {
        "colab": {
          "base_uri": "https://localhost:8080/"
        },
        "id": "q43_0udmwWgV",
        "outputId": "6fdd94b4-6758-459c-ca83-6b08418a64bc"
      },
      "outputs": [
        {
          "name": "stdout",
          "output_type": "stream",
          "text": [
            "Python is [good           ]\n",
            "Python is [good           ]\n",
            "Python is [           good]\n",
            "Python is [     good      ]\n",
            "당신의 나이는 [             22]세\n",
            "당신의 나이는 [22             ]세\n",
            "당신의 나이는 [             22]세\n",
            "당신의 나이는 [22             ]세\n",
            "----------------------------------------\n"
          ]
        }
      ],
      "source": [
        "print('Python is [{:15}]'.format('good'))\n",
        "print('Python is [{:<15}]'.format('good'))\n",
        "print('Python is [{:>15}]'.format('good'))\n",
        "print('Python is [{:^15}]'.format('good'))\n",
        "print('당신의 나이는 [{:15}]세'.format(22))\n",
        "print('당신의 나이는 [{:<15}]세'.format(22))\n",
        "print('당신의 나이는 [{:>15}]세'.format(22))\n",
        "print('당신의 나이는 [{:<15}]세'.format(22))\n",
        "print('-' * 40)"
      ]
    },
    {
      "cell_type": "code",
      "execution_count": null,
      "metadata": {
        "colab": {
          "base_uri": "https://localhost:8080/"
        },
        "id": "6F6TedZKwX1D",
        "outputId": "5a34836a-f1ea-498c-e87f-903c96567b77"
      },
      "outputs": [
        {
          "name": "stdout",
          "output_type": "stream",
          "text": [
            "1234567890\n",
            "    5\n",
            "5    \n",
            "  5  \n",
            "50000\n",
            "   5.00   \n"
          ]
        }
      ],
      "source": [
        "char_a = '5'\n",
        "int_a = 5\n",
        "\n",
        "'''기본적으로 {} 포맷팅의 특성을 그대로 가짐'''\n",
        "print(1234567890)\n",
        "print(f'{char_a:>5}') # >는 오른쪽정렬\n",
        "print(f'{char_a:<5}') # <는 왼쪽정렬\n",
        "print(f'{char_a:^5}') # ^는 가운데정렬\n",
        "print(f'{int_a:0<5}')# <는 왼쪽정렬, 빈자리를 0으로 채울수도 있음\n",
        "print(f'{int_a:^10.2f}') # ^ 가운데 정렬하면서 float 타입지정"
      ]
    },
    {
      "cell_type": "code",
      "execution_count": null,
      "metadata": {
        "colab": {
          "base_uri": "https://localhost:8080/"
        },
        "id": "Jtcv6bqHUFr-",
        "outputId": "35c84b11-e6b1-499f-95b6-25613be79378"
      },
      "outputs": [
        {
          "name": "stdout",
          "output_type": "stream",
          "text": [
            "@@@@@@@hello@@@@@@@@\n",
            "@@@@@@@hello@@@@@@@@\n",
            "123456\\abcde\\t\\n\\t\\t\\n\n"
          ]
        }
      ],
      "source": [
        "# f-string 에 \\(backslash) 는 포함될 수 없다. \n",
        "# \\ 표현 가능안 r구문과 함께 쓸 수 없음...\n",
        "print(f'{\"hello\":@^20}')\n",
        "# print(f'{\"hel\\lo\":@^20}') # SyntaxError: f-string expression part cannot include a backslash\n",
        "print(fr'{\"hello\":@^20}')\n",
        "# print(fr'{\"hel\\lo\":@^20}') # SyntaxError: f-string expression part cannot include a backslash\n",
        "print(r'123456\\abcde\\t\\n\\t\\t\\n') #backslash 표현이 됨!"
      ]
    },
    {
      "attachments": {},
      "cell_type": "markdown",
      "metadata": {
        "id": "PyTq9dLqwnyM"
      },
      "source": [
        "## int"
      ]
    },
    {
      "attachments": {},
      "cell_type": "markdown",
      "metadata": {
        "id": "cIRcb6wnwptW"
      },
      "source": [
        "* python 에서는 숫자를 정수, 실수, 복소수로 나눠 표현합니다.\n",
        "* 2진수, 8진수, 10진수, 16진수는 정수로 표현됩니다.\n",
        "* overflow가 없습니다!"
      ]
    },
    {
      "cell_type": "code",
      "execution_count": null,
      "metadata": {
        "colab": {
          "base_uri": "https://localhost:8080/"
        },
        "id": "SLJZOHdsh26f",
        "outputId": "8fd36fe3-b332-4dca-9493-1dd5503ce758"
      },
      "outputs": [
        {
          "name": "stdout",
          "output_type": "stream",
          "text": [
            "<class 'int'>\n"
          ]
        }
      ],
      "source": [
        "a = 123165465499999999999999999999999999999999999999\n",
        "print(type(a))\n",
        "# python 2.x에서는 int 와 long 이있어서 구분해야 했지만 3.d에는 int만 있어서 아무리 큰수가 담겨도 int!\n"
      ]
    },
    {
      "cell_type": "code",
      "execution_count": null,
      "metadata": {
        "colab": {
          "base_uri": "https://localhost:8080/"
        },
        "id": "hOBiqIROiAjE",
        "outputId": "60639cbe-8b80-460f-e66a-1b26f20e85f7"
      },
      "outputs": [
        {
          "name": "stdout",
          "output_type": "stream",
          "text": [
            "<class 'int'>\n",
            "10000000000000000000000000000000000000000000000000000000000000000000000000000000000000000000000000000\n"
          ]
        }
      ],
      "source": [
        "a = 10**100 # 구골(googol)\n",
        "print(type(a))\n",
        "print(a)"
      ]
    },
    {
      "cell_type": "code",
      "execution_count": null,
      "metadata": {
        "colab": {
          "base_uri": "https://localhost:8080/"
        },
        "id": "STrp-8cbwzjE",
        "outputId": "54f89892-bd7d-4c35-b0e9-7387e2a46349"
      },
      "outputs": [
        {
          "data": {
            "text/plain": [
              "['__abs__',\n",
              " '__add__',\n",
              " '__and__',\n",
              " '__bool__',\n",
              " '__ceil__',\n",
              " '__class__',\n",
              " '__delattr__',\n",
              " '__dir__',\n",
              " '__divmod__',\n",
              " '__doc__',\n",
              " '__eq__',\n",
              " '__float__',\n",
              " '__floor__',\n",
              " '__floordiv__',\n",
              " '__format__',\n",
              " '__ge__',\n",
              " '__getattribute__',\n",
              " '__getnewargs__',\n",
              " '__gt__',\n",
              " '__hash__',\n",
              " '__index__',\n",
              " '__init__',\n",
              " '__init_subclass__',\n",
              " '__int__',\n",
              " '__invert__',\n",
              " '__le__',\n",
              " '__lshift__',\n",
              " '__lt__',\n",
              " '__mod__',\n",
              " '__mul__',\n",
              " '__ne__',\n",
              " '__neg__',\n",
              " '__new__',\n",
              " '__or__',\n",
              " '__pos__',\n",
              " '__pow__',\n",
              " '__radd__',\n",
              " '__rand__',\n",
              " '__rdivmod__',\n",
              " '__reduce__',\n",
              " '__reduce_ex__',\n",
              " '__repr__',\n",
              " '__rfloordiv__',\n",
              " '__rlshift__',\n",
              " '__rmod__',\n",
              " '__rmul__',\n",
              " '__ror__',\n",
              " '__round__',\n",
              " '__rpow__',\n",
              " '__rrshift__',\n",
              " '__rshift__',\n",
              " '__rsub__',\n",
              " '__rtruediv__',\n",
              " '__rxor__',\n",
              " '__setattr__',\n",
              " '__sizeof__',\n",
              " '__str__',\n",
              " '__sub__',\n",
              " '__subclasshook__',\n",
              " '__truediv__',\n",
              " '__trunc__',\n",
              " '__xor__',\n",
              " 'as_integer_ratio',\n",
              " 'bit_count',\n",
              " 'bit_length',\n",
              " 'conjugate',\n",
              " 'denominator',\n",
              " 'from_bytes',\n",
              " 'imag',\n",
              " 'numerator',\n",
              " 'real',\n",
              " 'to_bytes']"
            ]
          },
          "execution_count": 46,
          "metadata": {},
          "output_type": "execute_result"
        }
      ],
      "source": [
        "10 # 정수\n",
        "-10 # 정수\n",
        "10.1 # 실수\n",
        "\n",
        "a=10\n",
        "type(a)\n",
        "dir(a)"
      ]
    },
    {
      "cell_type": "code",
      "execution_count": null,
      "metadata": {
        "id": "fb11C7s_xhiC"
      },
      "outputs": [],
      "source": [
        " 'bit_length' # bit로 바꾸었을 때 bit의 길이\n",
        " 'to_bytes' # pc에서 저장하는 바이트의 형태로 숫자를 표현"
      ]
    },
    {
      "cell_type": "code",
      "execution_count": null,
      "metadata": {
        "id": "FzFHGlh_x3oE"
      },
      "outputs": [],
      "source": [
        "# 1Bit, 0 ~ 1 # bit - 1자리\n",
        "# 1Bytes = 8bit, 00000000 ~ 11111111 # 1byte - 8bit\n",
        "# 1KB (키로바이트) = 1024Bytes\n",
        "# 1MB (메가바이트) = 1024KB \n",
        "# 1GB (기가바이트) = 1024MB\n",
        "# 1TB (테라바이트) = 1024GB\n",
        "# 1PB (페타바이트) = 1024TB"
      ]
    },
    {
      "cell_type": "code",
      "execution_count": null,
      "metadata": {
        "colab": {
          "base_uri": "https://localhost:8080/"
        },
        "id": "52Uy0MsFzck_",
        "outputId": "474e58b8-a64d-40a1-9b97-eb23d5ae07e2"
      },
      "outputs": [
        {
          "data": {
            "text/plain": [
              "4"
            ]
          },
          "execution_count": 49,
          "metadata": {},
          "output_type": "execute_result"
        }
      ],
      "source": [
        "(9).bit_length() #1001"
      ]
    },
    {
      "cell_type": "code",
      "execution_count": null,
      "metadata": {
        "colab": {
          "base_uri": "https://localhost:8080/"
        },
        "id": "0vKxvSeUzv5F",
        "outputId": "bd8198aa-12ac-4595-e762-eb3e4536368e"
      },
      "outputs": [
        {
          "data": {
            "text/plain": [
              "b'\\xfe'"
            ]
          },
          "execution_count": 61,
          "metadata": {},
          "output_type": "execute_result"
        }
      ],
      "source": [
        "# 컴퓨터가 숫자를 어떻게 저장하는가?\n",
        "# --> 컴퓨터는 음수를 자체적으로 표현할 수 없기에 2의 보수를 사용합니다. \n",
        "# 1의 보수를 사용하게 되면 +0과 -0이 존재하게 됨으로 비트 하나를 낭비하게 됩니다. \n",
        "# 따라서 2의 보수를 사용합니다.\n",
        "\n",
        "(2).to_bytes(1, byteorder='little', signed=True)\n",
        "(1).to_bytes(1, byteorder='little', signed=True)\n",
        "(0).to_bytes(1, byteorder='little', signed=True)\n",
        "(-1).to_bytes(1, byteorder='little', signed=True)\n",
        "(-2).to_bytes(1, byteorder='little', signed=True)\n",
        "\n"
      ]
    },
    {
      "cell_type": "code",
      "execution_count": null,
      "metadata": {
        "id": "ByNI7hWV0MLm"
      },
      "outputs": [],
      "source": [
        "# 0000 0001 # 1\n",
        "# 1111 1110 # 1의 1의보수\n",
        "# 1111 1111 # 1의 2의보수 => 0xff"
      ]
    },
    {
      "cell_type": "code",
      "execution_count": null,
      "metadata": {
        "id": "-0Caysqy2vWt"
      },
      "outputs": [],
      "source": [
        "# 진법 변환 쉽게 하는 법 : 가장 가까운 승수를 찾아 더하거나 뺌\n",
        "# 10 진법\n",
        "# 0 1 2 3 4 5 6 7 8 9 -> 10 12 13\n",
        "# 1324 = 1*10^3 + 3*10^2 + 2*10^1 + 4*10^0\n",
        "\n",
        "# 2진법\n",
        "# 0 1 -> 10 11\n",
        "# 1001 = 1*2^3 + 0*2^2 + 0*2^1 + 1*2^0\n",
        "\n",
        "# 8진법\n",
        "# 0 1 2 3 4 5 6 7 -> 10\n",
        "\n",
        "# 16진법\n",
        "# 0 1 2 3 4 5 6 7 8 9 a b c e d f -> 10"
      ]
    },
    {
      "cell_type": "code",
      "execution_count": null,
      "metadata": {
        "id": "ZfMDBpr97-A9"
      },
      "outputs": [],
      "source": [
        "# color의 표현\n",
        "# 2596be\n",
        "# 000000 ~ ffff\n",
        "# ff는 10진수로 무슨 숫자를 의미?\n",
        "# 100 - 1 => ff-1이 됨"
      ]
    },
    {
      "cell_type": "code",
      "execution_count": null,
      "metadata": {
        "colab": {
          "base_uri": "https://localhost:8080/"
        },
        "id": "UmyEDQs08RiD",
        "outputId": "a8898a56-d30d-4c41-8e1d-6de0a922e378"
      },
      "outputs": [
        {
          "data": {
            "text/plain": [
              "int"
            ]
          },
          "execution_count": 62,
          "metadata": {},
          "output_type": "execute_result"
        }
      ],
      "source": [
        "a = 10\n",
        "type(a)"
      ]
    },
    {
      "cell_type": "code",
      "execution_count": null,
      "metadata": {
        "colab": {
          "base_uri": "https://localhost:8080/"
        },
        "id": "7MMLlTop8UfD",
        "outputId": "e0f1da4d-817e-40d6-c2f8-b95b6e282e8b"
      },
      "outputs": [
        {
          "data": {
            "text/plain": [
              "20"
            ]
          },
          "execution_count": 63,
          "metadata": {},
          "output_type": "execute_result"
        }
      ],
      "source": [
        "int('10') + int('10')"
      ]
    },
    {
      "cell_type": "code",
      "execution_count": null,
      "metadata": {
        "colab": {
          "base_uri": "https://localhost:8080/"
        },
        "id": "V_3-HXUA8W15",
        "outputId": "0c36b604-c4f1-44fe-bb6c-14f009d388c8"
      },
      "outputs": [
        {
          "data": {
            "text/plain": [
              "2"
            ]
          },
          "execution_count": 65,
          "metadata": {},
          "output_type": "execute_result"
        }
      ],
      "source": [
        "int('10', 2) # 2진법으로 10"
      ]
    },
    {
      "cell_type": "code",
      "execution_count": null,
      "metadata": {
        "colab": {
          "base_uri": "https://localhost:8080/"
        },
        "id": "odkOTguZ8eqU",
        "outputId": "a2e99a70-5c24-4985-f3d1-02fd93baf6ec"
      },
      "outputs": [
        {
          "data": {
            "text/plain": [
              "8"
            ]
          },
          "execution_count": 68,
          "metadata": {},
          "output_type": "execute_result"
        }
      ],
      "source": [
        "int('10', 8) # 8진법으로 10"
      ]
    },
    {
      "cell_type": "code",
      "execution_count": null,
      "metadata": {
        "colab": {
          "base_uri": "https://localhost:8080/"
        },
        "id": "3yjNFj2Y8cxk",
        "outputId": "45123a10-e5d1-4b00-fe12-06f63eae9fa9"
      },
      "outputs": [
        {
          "data": {
            "text/plain": [
              "16"
            ]
          },
          "execution_count": 67,
          "metadata": {},
          "output_type": "execute_result"
        }
      ],
      "source": [
        "int('10', 16) # 16지넙으로 10"
      ]
    },
    {
      "cell_type": "code",
      "execution_count": null,
      "metadata": {
        "colab": {
          "base_uri": "https://localhost:8080/"
        },
        "id": "fLaJeypx8ooD",
        "outputId": "38f8cc98-3388-46c0-d274-ea88d8e53f18"
      },
      "outputs": [
        {
          "name": "stdout",
          "output_type": "stream",
          "text": [
            "6\n",
            "72\n",
            "272\n"
          ]
        }
      ],
      "source": [
        "print(0b110) # 바이너리\n",
        "print(0o110) # 옥타\n",
        "print(0x110) # 헥사"
      ]
    },
    {
      "cell_type": "code",
      "execution_count": null,
      "metadata": {
        "colab": {
          "base_uri": "https://localhost:8080/"
        },
        "id": "zZZyX7gf893y",
        "outputId": "6022b142-8cd4-41f4-ef65-4b28cff462de"
      },
      "outputs": [
        {
          "data": {
            "text/plain": [
              "True"
            ]
          },
          "execution_count": 70,
          "metadata": {},
          "output_type": "execute_result"
        }
      ],
      "source": [
        "a = 10\n",
        "type(a) == int\n",
        "isinstance(a, int)"
      ]
    },
    {
      "attachments": {},
      "cell_type": "markdown",
      "metadata": {
        "id": "PTsC7EjU9D9_"
      },
      "source": [
        "## float(실수)"
      ]
    },
    {
      "cell_type": "code",
      "execution_count": null,
      "metadata": {
        "colab": {
          "base_uri": "https://localhost:8080/"
        },
        "id": "nPQ5A39K9N3D",
        "outputId": "6957e55b-aa1f-4166-9f16-112cf93f1a64"
      },
      "outputs": [
        {
          "data": {
            "text/plain": [
              "float"
            ]
          },
          "execution_count": 71,
          "metadata": {},
          "output_type": "execute_result"
        }
      ],
      "source": [
        "a = 10.1\n",
        "type(a)"
      ]
    },
    {
      "cell_type": "code",
      "execution_count": null,
      "metadata": {
        "colab": {
          "base_uri": "https://localhost:8080/"
        },
        "id": "WFxXyWp39TPi",
        "outputId": "645a9f28-f4f3-4dc1-c8e9-dfc74c38da61"
      },
      "outputs": [
        {
          "data": {
            "text/plain": [
              "['__abs__',\n",
              " '__add__',\n",
              " '__bool__',\n",
              " '__ceil__',\n",
              " '__class__',\n",
              " '__delattr__',\n",
              " '__dir__',\n",
              " '__divmod__',\n",
              " '__doc__',\n",
              " '__eq__',\n",
              " '__float__',\n",
              " '__floor__',\n",
              " '__floordiv__',\n",
              " '__format__',\n",
              " '__ge__',\n",
              " '__getattribute__',\n",
              " '__getformat__',\n",
              " '__getnewargs__',\n",
              " '__gt__',\n",
              " '__hash__',\n",
              " '__init__',\n",
              " '__init_subclass__',\n",
              " '__int__',\n",
              " '__le__',\n",
              " '__lt__',\n",
              " '__mod__',\n",
              " '__mul__',\n",
              " '__ne__',\n",
              " '__neg__',\n",
              " '__new__',\n",
              " '__pos__',\n",
              " '__pow__',\n",
              " '__radd__',\n",
              " '__rdivmod__',\n",
              " '__reduce__',\n",
              " '__reduce_ex__',\n",
              " '__repr__',\n",
              " '__rfloordiv__',\n",
              " '__rmod__',\n",
              " '__rmul__',\n",
              " '__round__',\n",
              " '__rpow__',\n",
              " '__rsub__',\n",
              " '__rtruediv__',\n",
              " '__setattr__',\n",
              " '__setformat__',\n",
              " '__sizeof__',\n",
              " '__str__',\n",
              " '__sub__',\n",
              " '__subclasshook__',\n",
              " '__truediv__',\n",
              " '__trunc__',\n",
              " 'as_integer_ratio',\n",
              " 'conjugate',\n",
              " 'fromhex',\n",
              " 'hex',\n",
              " 'imag',\n",
              " 'is_integer',\n",
              " 'real']"
            ]
          },
          "execution_count": 72,
          "metadata": {},
          "output_type": "execute_result"
        }
      ],
      "source": [
        "dir(a)"
      ]
    },
    {
      "cell_type": "code",
      "execution_count": null,
      "metadata": {
        "colab": {
          "base_uri": "https://localhost:8080/"
        },
        "id": "d3YDcvrZ9XkU",
        "outputId": "4b0ce2de-fe1a-41a3-a18d-791c3c28a030"
      },
      "outputs": [
        {
          "data": {
            "text/plain": [
              "20.1"
            ]
          },
          "execution_count": 73,
          "metadata": {},
          "output_type": "execute_result"
        }
      ],
      "source": [
        "a = 10\n",
        "b = 10.1\n",
        "\n",
        "a+b # 다른 일부 언어에서는 허용되지 않습니다"
      ]
    },
    {
      "cell_type": "code",
      "execution_count": null,
      "metadata": {
        "colab": {
          "base_uri": "https://localhost:8080/"
        },
        "id": "dKQPe4Y89kVn",
        "outputId": "16161121-1a5b-4835-a022-04598809f07f"
      },
      "outputs": [
        {
          "data": {
            "text/plain": [
              "0.30000000000000004"
            ]
          },
          "execution_count": 74,
          "metadata": {},
          "output_type": "execute_result"
        }
      ],
      "source": [
        "# 부동소수점 오차(2진법으로 0.1이 무한대수가 발생합니다.)\n",
        "0.1+0.2 # 대부분의 언어 공통입니다."
      ]
    },
    {
      "cell_type": "code",
      "execution_count": null,
      "metadata": {
        "id": "PjH1fFLL95Hr"
      },
      "outputs": [],
      "source": [
        "a = 0.1"
      ]
    },
    {
      "cell_type": "code",
      "execution_count": null,
      "metadata": {
        "colab": {
          "base_uri": "https://localhost:8080/"
        },
        "id": "REMbNqBp960j",
        "outputId": "3f226cdf-e0aa-41ce-c984-a6cc7732db86"
      },
      "outputs": [
        {
          "data": {
            "text/plain": [
              "1.0999999999999999"
            ]
          },
          "execution_count": 85,
          "metadata": {},
          "output_type": "execute_result"
        }
      ],
      "source": [
        "# 20번 반복해보세요\n",
        "a = a + 0.1\n",
        "a"
      ]
    },
    {
      "attachments": {},
      "cell_type": "markdown",
      "metadata": {
        "id": "BF26B4xG-l1v"
      },
      "source": [
        "* [python 부동소수점 처리](https://docs.python.org/ko/3/tutorial/floatingpoint.html)\n",
        "* https://0.30000000000000004.com/ 에서 언어별 해결책을 제시함\n",
        "* 컴퓨터에서 부동소수점 숫자는 2진 분수로 표현되기에 무한대수가 발생한다.(무한히 반복하는 소수처럼...)\n",
        "* 부동소수 표현은 **IEEE-754**로 표기되기로 약속되어있음\n",
        "* [무한대수가 발생되는 원리](https://www.notion.so/paullabworkspace/5f34f21bf9a34015b170e7afd7da9593)"
      ]
    },
    {
      "cell_type": "code",
      "execution_count": null,
      "metadata": {
        "colab": {
          "base_uri": "https://localhost:8080/"
        },
        "id": "lBH2iViDAcn_",
        "outputId": "2f4121af-7499-43b3-a087-90e2c9909ecd"
      },
      "outputs": [
        {
          "data": {
            "text/plain": [
              "6"
            ]
          },
          "execution_count": 86,
          "metadata": {},
          "output_type": "execute_result"
        }
      ],
      "source": [
        "# 왜 빈문자 개수를 찾았는데 6이 나올까?\n",
        "'hello'.count('')"
      ]
    },
    {
      "attachments": {},
      "cell_type": "markdown",
      "metadata": {
        "id": "Z_mv8G79DPgy"
      },
      "source": [
        "## !! 오늘 배운 것 정리 230501\n",
        "1. 단축키\n",
        "    * (필수) Ctrl(Command) + Enter : 해당 셀 실행\n",
        "    * (필수) Alt(Option) + Enter : 해당 셀 실행 + 코드 불록 하단 추가\n",
        "    * (필수) Ctrl + / : 주석\n",
        "    * (필수) Shift + Del : 한 줄 지우기\n",
        "    * (필수) Tab, Ctrl + ] : 들여쓰기\n",
        "    * (필수) Shift + Tab, Ctrl + [ : 내어쓰기\n",
        "\n",
        "2. 마크다운\n",
        "    ```\n",
        "    # hello\n",
        "    ## hello\n",
        "    ### hello\n",
        "\n",
        "    1. hello\n",
        "    2. hello\n",
        "    3. hello\n",
        "\n",
        "    * hello\n",
        "    * hello\n",
        "    * hello\n",
        "    ```\n",
        "\n",
        "3. 주석\n",
        "\n",
        "    ```python\n",
        "    #행 단위 주석입니다.\n",
        "\n",
        "    \"\"\"\n",
        "    큰 따옴표로 세번 묶거나\n",
        "    작은따옴표로 세번 묶으면\n",
        "    열단위 주석이 됩니다.\n",
        "    \"\"\"\n",
        "\n",
        "    '''\n",
        "    큰 따옴표로 세번 묶거나\n",
        "    작은따옴표로 세번 묶으면\n",
        "    열단위 주석이 됩니다.\n",
        "    '''\n",
        "    ```\n",
        "\n",
        "4. PEP8 권고사항\n",
        "    * 띄어쓰기는 4칸\n",
        "    * 한 줄에 79자 이상을 사용하지 않는다.\n",
        "\n",
        "5. 형의 종류(type, dir)\n",
        "    * 컨벤션 자료형(list, tuple, dict, set)은 나중에 진행합니다.\n",
        "    * int\n",
        "    * float\n",
        "    * bool\n",
        "    * str\n",
        "    * function\n",
        "    * bulit-in function\n",
        "\n",
        "6. 이스케이프 문자\n",
        "    * https://ko.wikipedia.org/wiki/%EC%9D%B4%EC%8A%A4%EC%BC%80%EC%9D%B4%ED%94%84_%EB%AC%B8%EC%9E%90\n",
        "    ```python\n",
        "    print('hello \\n world')\n",
        "    print('hello \\t world')\n",
        "    print('hello \\' world')\n",
        "    print('hello \\\" world')\n",
        "    print('hello \\\\ world')\n",
        "    ```\n",
        "\n",
        "7. 실무에서 자주 사용하는 타입확인 구문\n",
        "    ```python\n",
        "    type(10)\n",
        "    type(10) == int\n",
        "    type(10.1) == float\n",
        "\n",
        "    a = 10\n",
        "    isinstance(a, int)\n",
        "    isinstance(a, float)\n",
        "    ```\n",
        "\n",
        "8. 변수의 인사이트\n",
        "    ```\n",
        "    dir을 입력했을 때\n",
        "    1. __hello__와 같은 형태의 메직 메서드는 속성을 표현한다\n",
        "    2.  언더바가 없는 메서드는 해당 자료형의 편의 기능을 제공한다\n",
        "    ```\n",
        "\n",
        "9. 입력과 출력\n",
        "    ```python\n",
        "    x = input() #입력, 숫자를 입력해도 str\n",
        "    print(x) #출력\n",
        "\n",
        "    이름 = '이호준'\n",
        "    나이 = 10\n",
        "    print(f'제 이름은 {이름}입니다. 제 나이는 {나이}입니다.')\n",
        "    print(f'{100 * 10}')\n",
        "    ```\n",
        "\n",
        "\n",
        "10. int 형\n",
        "    * 2진수, 8진수, 16진수는 정수\n",
        "\n",
        "\n",
        "11. float 형\n",
        "    * 부동소수점 오차(2진법으로 변환했을 때 0.1이 무한대수가 발생합니다.)\n",
        "    0.1 + 0.2 # 대부분의 언어 공통입니다.\n",
        "    * https://docs.python.org/ko/3/tutorial/floatingpoint.html\n",
        "    * https://0.30000000000000004.com/ 에서 언어별 해결책을 제시한다."
      ]
    },
    {
      "attachments": {},
      "cell_type": "markdown",
      "metadata": {
        "id": "dbXyfWQqyPZ3"
      },
      "source": [
        "## str(문자열)"
      ]
    },
    {
      "attachments": {},
      "cell_type": "markdown",
      "metadata": {
        "id": "Bkuydw0fymH9"
      },
      "source": [
        "- 순서가 있는 **시퀀스 자료형**입니다.\n",
        "- 작은 따옴표(' ')나 큰 따옴표(\" \"), 삼중따옴표('''str''', \"\"\"str\"\"\")로 감싸는 것도 가능합니다. (삼중따옴표를 사용할 경우에는 줄단위의 문자열을 나타낼 수 있습니다.)\n",
        "- 작은 따옴표 안에 큰 따옴표, 큰 따옴표 안에 작은 따옴표 사용이 가능합니다.\n",
        "- 이스케이프 문자도 사용이 가능합니다.\n",
        "- 리스트, 튜플도 시퀀스 자료형입니다."
      ]
    },
    {
      "cell_type": "code",
      "execution_count": null,
      "metadata": {
        "colab": {
          "base_uri": "https://localhost:8080/",
          "height": 35
        },
        "id": "BsQKgCz9yt2P",
        "outputId": "d3208486-faf9-46d8-9650-0f56540d6428"
      },
      "outputs": [
        {
          "data": {
            "application/vnd.google.colaboratory.intrinsic+json": {
              "type": "string"
            },
            "text/plain": [
              "'p'"
            ]
          },
          "execution_count": 1,
          "metadata": {},
          "output_type": "execute_result"
        }
      ],
      "source": [
        "s ='paullab CEO leehojun'\n",
        "s[0] # 0은 index입니다. 이렇게 호출하는 것을 indexing 이라고 합니다."
      ]
    },
    {
      "cell_type": "code",
      "execution_count": null,
      "metadata": {
        "colab": {
          "base_uri": "https://localhost:8080/"
        },
        "id": "weObQYJDz2ex",
        "outputId": "eaa1e6d8-3c34-4423-93e1-d262fbe677ac"
      },
      "outputs": [
        {
          "data": {
            "text/plain": [
              "str"
            ]
          },
          "execution_count": 2,
          "metadata": {},
          "output_type": "execute_result"
        }
      ],
      "source": [
        "type(s)"
      ]
    },
    {
      "cell_type": "code",
      "execution_count": null,
      "metadata": {
        "colab": {
          "base_uri": "https://localhost:8080/"
        },
        "id": "zsiGPh6Wz88W",
        "outputId": "385a0ab4-6008-4109-caf4-bf094b3344a7"
      },
      "outputs": [
        {
          "data": {
            "text/plain": [
              "['__add__',\n",
              " '__class__',\n",
              " '__contains__',\n",
              " '__delattr__',\n",
              " '__dir__',\n",
              " '__doc__',\n",
              " '__eq__',\n",
              " '__format__',\n",
              " '__ge__',\n",
              " '__getattribute__',\n",
              " '__getitem__',\n",
              " '__getnewargs__',\n",
              " '__gt__',\n",
              " '__hash__',\n",
              " '__init__',\n",
              " '__init_subclass__',\n",
              " '__iter__',\n",
              " '__le__',\n",
              " '__len__',\n",
              " '__lt__',\n",
              " '__mod__',\n",
              " '__mul__',\n",
              " '__ne__',\n",
              " '__new__',\n",
              " '__reduce__',\n",
              " '__reduce_ex__',\n",
              " '__repr__',\n",
              " '__rmod__',\n",
              " '__rmul__',\n",
              " '__setattr__',\n",
              " '__sizeof__',\n",
              " '__str__',\n",
              " '__subclasshook__',\n",
              " 'capitalize',\n",
              " 'casefold',\n",
              " 'center',\n",
              " 'count',\n",
              " 'encode',\n",
              " 'endswith',\n",
              " 'expandtabs',\n",
              " 'find',\n",
              " 'format',\n",
              " 'format_map',\n",
              " 'index',\n",
              " 'isalnum',\n",
              " 'isalpha',\n",
              " 'isascii',\n",
              " 'isdecimal',\n",
              " 'isdigit',\n",
              " 'isidentifier',\n",
              " 'islower',\n",
              " 'isnumeric',\n",
              " 'isprintable',\n",
              " 'isspace',\n",
              " 'istitle',\n",
              " 'isupper',\n",
              " 'join',\n",
              " 'ljust',\n",
              " 'lower',\n",
              " 'lstrip',\n",
              " 'maketrans',\n",
              " 'partition',\n",
              " 'removeprefix',\n",
              " 'removesuffix',\n",
              " 'replace',\n",
              " 'rfind',\n",
              " 'rindex',\n",
              " 'rjust',\n",
              " 'rpartition',\n",
              " 'rsplit',\n",
              " 'rstrip',\n",
              " 'split',\n",
              " 'splitlines',\n",
              " 'startswith',\n",
              " 'strip',\n",
              " 'swapcase',\n",
              " 'title',\n",
              " 'translate',\n",
              " 'upper',\n",
              " 'zfill']"
            ]
          },
          "execution_count": 3,
          "metadata": {},
          "output_type": "execute_result"
        }
      ],
      "source": [
        "dir(s)"
      ]
    },
    {
      "cell_type": "code",
      "execution_count": null,
      "metadata": {
        "id": "6rW1BrArz9tk"
      },
      "outputs": [],
      "source": [
        "# 문자열의 메서드\n",
        "# 'capitalize','casefold','center','count','encode',\n",
        "# 'endswith','expandtabs','find','format','format_map',\n",
        "# 'index','isalnum','isalpha','isascii','isdecimal','isdigit',\n",
        "# 'isidentifier','islower','isnumeric','isprintable','isspace',\n",
        "# 'istitle','isupper','join','ljust','lower','lstrip',\n",
        "# 'maketrans','partition','removeprefix','removesuffix',\n",
        "# 'replace','rfind','rindex','rjust','rpartition','rsplit',\n",
        "# 'rstrip','split','splitlines','startswith','strip','swapcase',\n",
        "# 'title','translate','upper','zfill'"
      ]
    },
    {
      "cell_type": "code",
      "execution_count": null,
      "metadata": {
        "colab": {
          "base_uri": "https://localhost:8080/"
        },
        "id": "Gs6iUGwq0dLf",
        "outputId": "3e55f63f-bbd9-49f0-9e20-548ba35027c4"
      },
      "outputs": [
        {
          "data": {
            "text/plain": [
              "('paullab ceo leehojun', 'PAULLAB CEO LEEHOJUN')"
            ]
          },
          "execution_count": 4,
          "metadata": {},
          "output_type": "execute_result"
        }
      ],
      "source": [
        "s = 'paullab CEO leehojun'\n",
        "s.lower(), s.upper() \n",
        "# 특히 사용자에게 입력을 받는 경우 lower도 많이 사용합니다."
      ]
    },
    {
      "cell_type": "code",
      "execution_count": null,
      "metadata": {
        "colab": {
          "base_uri": "https://localhost:8080/"
        },
        "id": "59KIgYmE1DJj",
        "outputId": "2f4c74c8-6ee6-4f37-85aa-b610a358ee8c"
      },
      "outputs": [
        {
          "data": {
            "text/plain": [
              "(8, 8)"
            ]
          },
          "execution_count": 5,
          "metadata": {},
          "output_type": "execute_result"
        }
      ],
      "source": [
        "s = 'paullab CEO leehojun'\n",
        "s.find('C'), s.index('C') "
      ]
    },
    {
      "cell_type": "code",
      "execution_count": null,
      "metadata": {
        "colab": {
          "base_uri": "https://localhost:8080/"
        },
        "id": "s3QUOaF71jxJ",
        "outputId": "c5f4f49a-6a49-4496-9a33-f9ddc0944b21"
      },
      "outputs": [
        {
          "data": {
            "text/plain": [
              "-1"
            ]
          },
          "execution_count": 7,
          "metadata": {},
          "output_type": "execute_result"
        }
      ],
      "source": [
        "# 견고한 코드란?\n",
        "# 시간이 지나도 그대로 사용할 수 있고\n",
        "# error가 예측 가능하게 나는 코드.\n",
        "# 네이버에 이미지 슬라이딩 코드\n",
        "# s.find('Z') => -1은 True이기 때문에 주의가 필요함 \n",
        "s.find('Z')"
      ]
    },
    {
      "cell_type": "code",
      "execution_count": null,
      "metadata": {
        "colab": {
          "base_uri": "https://localhost:8080/",
          "height": 174
        },
        "id": "2YlIgJZV1tpF",
        "outputId": "bcc78a0c-b501-43fa-dff0-ecc481160a0e"
      },
      "outputs": [
        {
          "ename": "ValueError",
          "evalue": "ignored",
          "output_type": "error",
          "traceback": [
            "\u001b[0;31m---------------------------------------------------------------------------\u001b[0m",
            "\u001b[0;31mValueError\u001b[0m                                Traceback (most recent call last)",
            "\u001b[0;32m<ipython-input-8-b727d3398a36>\u001b[0m in \u001b[0;36m<cell line: 1>\u001b[0;34m()\u001b[0m\n\u001b[0;32m----> 1\u001b[0;31m \u001b[0ms\u001b[0m\u001b[0;34m.\u001b[0m\u001b[0mindex\u001b[0m\u001b[0;34m(\u001b[0m\u001b[0;34m'Z'\u001b[0m\u001b[0;34m)\u001b[0m\u001b[0;34m\u001b[0m\u001b[0;34m\u001b[0m\u001b[0m\n\u001b[0m",
            "\u001b[0;31mValueError\u001b[0m: substring not found"
          ]
        }
      ],
      "source": [
        "# Error가 나면 Error를 주는 것이 좋을 수 있습니다.\n",
        "# Error를 안주는 언어로 JavaScript.\n",
        "# 에러처리를 할 거면 에러 주는 것을 사용하면 됨\n",
        "s.index('Z')"
      ]
    },
    {
      "cell_type": "code",
      "execution_count": null,
      "metadata": {
        "colab": {
          "base_uri": "https://localhost:8080/"
        },
        "id": "XIR5bdCP2gXN",
        "outputId": "905c2310-b891-4a09-ea76-0d4ddb5ebc15"
      },
      "outputs": [
        {
          "data": {
            "text/plain": [
              "8"
            ]
          },
          "execution_count": 9,
          "metadata": {},
          "output_type": "execute_result"
        }
      ],
      "source": [
        "s = 'paullab CEO leehojun'\n",
        "s.find('CEO') "
      ]
    },
    {
      "cell_type": "code",
      "execution_count": null,
      "metadata": {
        "id": "9nrrueZq2yGf"
      },
      "outputs": [],
      "source": [
        "# .count() 함수 : 문자열이나 숫자를 셀 때 사용 (중요도 *****)\n",
        "s = 'paullab CEO leehojun'\n",
        "s.count('l') "
      ]
    },
    {
      "cell_type": "code",
      "execution_count": null,
      "metadata": {
        "colab": {
          "base_uri": "https://localhost:8080/",
          "height": 35
        },
        "id": "P77gUHS73DRK",
        "outputId": "72c126d1-b73d-4ea4-c8c5-bb0c08988341"
      },
      "outputs": [
        {
          "data": {
            "application/vnd.google.colaboratory.intrinsic+json": {
              "type": "string"
            },
            "text/plain": [
              "'[1, 2, 3, 4, 5]'"
            ]
          },
          "execution_count": 10,
          "metadata": {},
          "output_type": "execute_result"
        }
      ],
      "source": [
        "str([1, 2, 3, 4, 5])"
      ]
    },
    {
      "cell_type": "code",
      "execution_count": null,
      "metadata": {
        "colab": {
          "base_uri": "https://localhost:8080/"
        },
        "id": "xGxDrNQH3HND",
        "outputId": "917093d5-0bcc-49fa-af84-0d6b197c3ff8"
      },
      "outputs": [
        {
          "data": {
            "text/plain": [
              "4"
            ]
          },
          "execution_count": 11,
          "metadata": {},
          "output_type": "execute_result"
        }
      ],
      "source": [
        "str([1, 2, 3, 4, 5]).count(' ')"
      ]
    },
    {
      "cell_type": "code",
      "execution_count": null,
      "metadata": {
        "colab": {
          "base_uri": "https://localhost:8080/"
        },
        "id": "HKmvzQie3JAk",
        "outputId": "e2cf71dc-ed50-4e8c-e8a7-2121c6d06d2d"
      },
      "outputs": [
        {
          "data": {
            "text/plain": [
              "4"
            ]
          },
          "execution_count": 12,
          "metadata": {},
          "output_type": "execute_result"
        }
      ],
      "source": [
        "str([1, 2, 3, 4, 5]).count(',')"
      ]
    },
    {
      "cell_type": "code",
      "execution_count": null,
      "metadata": {
        "colab": {
          "base_uri": "https://localhost:8080/"
        },
        "id": "5ZeFegr83KAU",
        "outputId": "656ec01b-5b86-4838-ab34-c9bb35097848"
      },
      "outputs": [
        {
          "data": {
            "text/plain": [
              "6"
            ]
          },
          "execution_count": 14,
          "metadata": {},
          "output_type": "execute_result"
        }
      ],
      "source": [
        "# 이런 유형의 문제를 많이 풀 것임.\n",
        "str([1, 2, 11, 4, 111]).count('1')"
      ]
    },
    {
      "cell_type": "code",
      "execution_count": null,
      "metadata": {
        "colab": {
          "base_uri": "https://localhost:8080/"
        },
        "id": "-dsxHXQV5hCf",
        "outputId": "fee28251-c264-473a-a9d1-e9988a5bd91a"
      },
      "outputs": [
        {
          "data": {
            "text/plain": [
              "4000"
            ]
          },
          "execution_count": 25,
          "metadata": {},
          "output_type": "execute_result"
        }
      ],
      "source": [
        "# 윗줄과 같은 원리\n",
        "str(list(range(0,10001))).count('8')"
      ]
    },
    {
      "attachments": {},
      "cell_type": "markdown",
      "metadata": {
        "id": "MgU_VmhR3nUP"
      },
      "source": [
        "- https://codingdojang.com/scode/393?answer_mode=hide"
      ]
    },
    {
      "cell_type": "code",
      "execution_count": null,
      "metadata": {
        "colab": {
          "base_uri": "https://localhost:8080/"
        },
        "id": "oy_uVwT63TRz",
        "outputId": "bce4557c-52ff-4738-814b-2abb86646a6a"
      },
      "outputs": [
        {
          "data": {
            "text/plain": [
              "4"
            ]
          },
          "execution_count": 24,
          "metadata": {},
          "output_type": "execute_result"
        }
      ],
      "source": [
        "str([1,\n",
        "     2,\n",
        "     3,\n",
        "     4,\n",
        "     5]).count(' ') \n",
        "#list는 콤마 다음에 공백이 없더라도 공백으로 인식, enter가 있어도 공백 1개로 인식 합니다.\n",
        "# 원소 사이에 enter 없어도 4가 나옴"
      ]
    },
    {
      "cell_type": "code",
      "execution_count": null,
      "metadata": {
        "colab": {
          "base_uri": "https://localhost:8080/"
        },
        "id": "Z4sauGIM4JZn",
        "outputId": "a79d9f80-7e9c-4215-ea90-43455ec5f199"
      },
      "outputs": [
        {
          "data": {
            "text/plain": [
              "6"
            ]
          },
          "execution_count": 19,
          "metadata": {},
          "output_type": "execute_result"
        }
      ],
      "source": [
        "'hello'.count('')  # 문자 사이에 빈문자가 들어가있는 건가??"
      ]
    },
    {
      "cell_type": "code",
      "execution_count": null,
      "metadata": {
        "colab": {
          "base_uri": "https://localhost:8080/"
        },
        "id": "aT9uJHIZ4aZG",
        "outputId": "b086a254-c723-4d97-f8a7-7bd30ad60c82"
      },
      "outputs": [
        {
          "data": {
            "text/plain": [
              "2"
            ]
          },
          "execution_count": 20,
          "metadata": {},
          "output_type": "execute_result"
        }
      ],
      "source": [
        "'a'.count('')"
      ]
    },
    {
      "cell_type": "code",
      "execution_count": null,
      "metadata": {
        "colab": {
          "base_uri": "https://localhost:8080/"
        },
        "id": "adIvy15s4fal",
        "outputId": "b1430359-b23a-481d-8adc-3188758ddd9c"
      },
      "outputs": [
        {
          "data": {
            "text/plain": [
              "1"
            ]
          },
          "execution_count": 21,
          "metadata": {},
          "output_type": "execute_result"
        }
      ],
      "source": [
        "''.count('')"
      ]
    },
    {
      "cell_type": "code",
      "execution_count": null,
      "metadata": {
        "colab": {
          "base_uri": "https://localhost:8080/",
          "height": 35
        },
        "id": "eVZSdCun4hw0",
        "outputId": "b5423e4d-cece-4f3d-f01f-ccab7e6a1742"
      },
      "outputs": [
        {
          "data": {
            "application/vnd.google.colaboratory.intrinsic+json": {
              "type": "string"
            },
            "text/plain": [
              "''"
            ]
          },
          "execution_count": 22,
          "metadata": {},
          "output_type": "execute_result"
        }
      ],
      "source": [
        "# 빈 문자열 + 빈문자열 = 빈문자열 이기 때문에 1개로 셈\n",
        "'' + ''"
      ]
    },
    {
      "cell_type": "code",
      "execution_count": null,
      "metadata": {
        "colab": {
          "base_uri": "https://localhost:8080/",
          "height": 35
        },
        "id": "cH3hzHVt6Zn5",
        "outputId": "fc73e976-9f51-44cf-c7e2-76ff2e79d9cf"
      },
      "outputs": [
        {
          "data": {
            "application/vnd.google.colaboratory.intrinsic+json": {
              "type": "string"
            },
            "text/plain": [
              "'hello   !'"
            ]
          },
          "execution_count": 26,
          "metadata": {},
          "output_type": "execute_result"
        }
      ],
      "source": [
        "# 공백 제거. strip, rstrip, lstrip, relpace\n",
        "'   hello   !  '.strip()"
      ]
    },
    {
      "cell_type": "code",
      "execution_count": null,
      "metadata": {
        "colab": {
          "base_uri": "https://localhost:8080/"
        },
        "id": "1xuK-m6D6m63",
        "outputId": "a85a76d4-0de9-4a2e-9388-7c3d8ba32b0f"
      },
      "outputs": [
        {
          "data": {
            "text/plain": [
              "('   hello   !', 'hello   !  ')"
            ]
          },
          "execution_count": 29,
          "metadata": {},
          "output_type": "execute_result"
        }
      ],
      "source": [
        "'   hello   !  '.rstrip(), '   hello   !  '.lstrip()"
      ]
    },
    {
      "cell_type": "code",
      "execution_count": null,
      "metadata": {
        "colab": {
          "base_uri": "https://localhost:8080/",
          "height": 35
        },
        "id": "3om90TY_6r2r",
        "outputId": "ac75dc3c-5561-4f5f-8019-dc1711bdd6c9"
      },
      "outputs": [
        {
          "data": {
            "application/vnd.google.colaboratory.intrinsic+json": {
              "type": "string"
            },
            "text/plain": [
              "'HELLO W@O@R@L@D HI'"
            ]
          },
          "execution_count": 33,
          "metadata": {},
          "output_type": "execute_result"
        }
      ],
      "source": [
        "# replace (중요도 *****)\n",
        "'hello world hi'.replace(' ', '!')\n",
        "'hello world hi'.replace('world', 'W@O@R@L@D').upper()"
      ]
    },
    {
      "cell_type": "code",
      "execution_count": null,
      "metadata": {
        "colab": {
          "base_uri": "https://localhost:8080/"
        },
        "id": "GY8mUSd-7VLd",
        "outputId": "59890a64-4f7b-43f7-b030-93e00326c21e"
      },
      "outputs": [
        {
          "data": {
            "text/plain": [
              "['HELLO W', 'O', 'R', 'L', 'D HI']"
            ]
          },
          "execution_count": 35,
          "metadata": {},
          "output_type": "execute_result"
        }
      ],
      "source": [
        "# 메서드 채이닝 : 메서드를 연속으로 호출\n",
        "'hello world hi'.replace('world', 'W@O@R@L@D').upper().split('@')\n",
        "# split()의 반환값은 list() 이기 때문에 메서드 채이닝을 하려면\n",
        "# split 이후로는 list 메서드를 사용해야 함"
      ]
    },
    {
      "cell_type": "code",
      "execution_count": null,
      "metadata": {
        "colab": {
          "base_uri": "https://localhost:8080/",
          "height": 35
        },
        "id": "tIjUfbMg7src",
        "outputId": "8bc38000-838c-4d95-ded6-fad50e633338"
      },
      "outputs": [
        {
          "data": {
            "application/vnd.google.colaboratory.intrinsic+json": {
              "type": "string"
            },
            "text/plain": [
              "'helloworldhi'"
            ]
          },
          "execution_count": 36,
          "metadata": {},
          "output_type": "execute_result"
        }
      ],
      "source": [
        "'hello world hi'.replace(' ', '') # 공백 제거!"
      ]
    },
    {
      "cell_type": "code",
      "execution_count": null,
      "metadata": {
        "colab": {
          "base_uri": "https://localhost:8080/",
          "height": 35
        },
        "id": "EbRg9HkK7-wD",
        "outputId": "a8591a10-c8db-4e4b-fcff-3db45170ea31"
      },
      "outputs": [
        {
          "data": {
            "application/vnd.google.colaboratory.intrinsic+json": {
              "type": "string"
            },
            "text/plain": [
              "'++-+-+-'"
            ]
          },
          "execution_count": 40,
          "metadata": {},
          "output_type": "execute_result"
        }
      ],
      "source": [
        "data = '''  \"+ +-+ -+-\"  \n",
        "  \"++ -- +-+\"  \n",
        "  \"++-+ -+ -\"  \n",
        "  \"+ ++-+ -+\"  '''\n",
        "data.split('\\n')[0].replace(' ','').replace('\"','')\n",
        "\n",
        "# Pythonic 하지 않다!\n",
        "data.split('\\n')[0].replace(' ',\n",
        "                '').replace('\"',\n",
        "                '')\n",
        "\n",
        "# Pythonic 하게! \\ 붙여주면 다음줄에 이어서 됨.\n",
        "data.split('\\n')[0]\\\n",
        "                .replace(' ','')\\\n",
        "                .replace('\"','')\\\n",
        "                .replace('\"','')\\\n",
        "                .replace('\"','')\\\n",
        "                .replace('\"','')\\\n",
        "\n",
        "# 강사님 기법\n",
        "processed_string = data.split('\\n')[0].replace(' ','').replace('\"','')\n",
        "processed_string.replace('\"','').replace('\"','')\n"
      ]
    },
    {
      "cell_type": "code",
      "execution_count": null,
      "metadata": {
        "id": "Rd6PDbC__r0d"
      },
      "outputs": [],
      "source": [
        "# 영어 79자\n",
        "# aaaaaaaaaaaaaaaaaaaaaaaaaaaaaaaaaaaaaaaaaaaaaaaaaaaaaaaaaaaaaaaaaaaaaaaaaaaaaaaa 79자\n",
        "# 한글 39자\n",
        "# 아아아아아아아아아아아아아아아아아아아아아아아아아아아아아아아아아아아아아아아아 39자"
      ]
    },
    {
      "cell_type": "code",
      "execution_count": null,
      "metadata": {
        "colab": {
          "base_uri": "https://localhost:8080/"
        },
        "id": "Klgduh2IA-eM",
        "outputId": "1eb6a805-1e26-44b7-a57c-7250cb830bf5"
      },
      "outputs": [
        {
          "data": {
            "text/plain": [
              "('j', 'e', 'j', 'u')"
            ]
          },
          "execution_count": 43,
          "metadata": {},
          "output_type": "execute_result"
        }
      ],
      "source": [
        "data = '''  \"+ +-+ -+-\"  \n",
        "  \"++ -- +-+\"  \n",
        "  \"++-+ -+ -\"  \n",
        "  \"+ ++-+ -+\"  '''\n",
        "data.split('\\n')[0].replace(' ','').replace('\"','').replace('+','1').replace('-','0')\n",
        "\n",
        "ord('A'), chr(65) # ord는 문자를 가지고 숫자로 변경. chr은 숫자를 문자로 변경합니다.\n",
        "\n",
        "# ASCII code\n",
        "# A : 65 a :97 \n",
        "# 대문자는 65~90 인데 소문자가 91부터 이어지지 않음! <<<< 유의해야 함!!!!!!!!!\n",
        "\n",
        "num1 = data.split('\\n')[0].replace(' ','').replace('\"','').replace('+','1').replace('-','0')\n",
        "num2 = data.split('\\n')[1].replace(' ','').replace('\"','').replace('+','1').replace('-','0')\n",
        "num3 = data.split('\\n')[2].replace(' ','').replace('\"','').replace('+','1').replace('-','0')\n",
        "num4 = data.split('\\n')[3].replace(' ','').replace('\"','').replace('+','1').replace('-','0')\n",
        "int (num1, 2)\n",
        "chr(int(num1, 2)), chr(int(num2, 2)), chr(int(num3, 2)),chr(int(num4, 2))"
      ]
    },
    {
      "cell_type": "code",
      "execution_count": null,
      "metadata": {
        "colab": {
          "base_uri": "https://localhost:8080/"
        },
        "id": "z_1SNx3pCDu-",
        "outputId": "6efd3acf-5388-498d-b763-a2f57b51c03e"
      },
      "outputs": [
        {
          "data": {
            "text/plain": [
              "['paullab', 'CEO', 'leehojun']"
            ]
          },
          "execution_count": 44,
          "metadata": {},
          "output_type": "execute_result"
        }
      ],
      "source": [
        "# split (중요도 **** .)\n",
        "'paullab CEO leehojun'.split(' ') #문자열을 쪼개어 줍니다.\n",
        "'paullab!CEO!leehojun'.split('!')\n",
        "'paullab,CEO,leehojun'.split(',')"
      ]
    },
    {
      "cell_type": "code",
      "execution_count": null,
      "metadata": {
        "colab": {
          "base_uri": "https://localhost:8080/"
        },
        "id": "BrkC_Uy8CL1I",
        "outputId": "815ed987-4093-42bf-9851-588b3ceb9b68"
      },
      "outputs": [
        {
          "data": {
            "text/plain": [
              "[10, 5044, 2903]"
            ]
          },
          "execution_count": 55,
          "metadata": {},
          "output_type": "execute_result"
        }
      ],
      "source": [
        "# 퀴즈\n",
        "'010 5044 2903'.split(' ')\n",
        "'010-5044-2903'.split('-')\n",
        "'010 5044-2903'.replace(' ','-').split('-')\n",
        "\n",
        "# map\n",
        "list(map(int,'010 5044 2903'.split(' ')))\n",
        "list(map(int,'010-5044-2903'.split('-')))\n",
        "list(map(int,'010 5044-2903'.replace(' ','-').split('-')))\n",
        "\n",
        "# list comprehension ( list의 append 사용하는 것 보다 빠름 )\n",
        "ls= '010 5044 2903'.split(' ')\n",
        "[int(i) for i in ls]\n",
        "\n",
        "# map, list comprehension 둘 다 새로운 list를 생성함. 원본 변경은 없음"
      ]
    },
    {
      "cell_type": "code",
      "execution_count": null,
      "metadata": {
        "id": "fK8sx6IiFtJs"
      },
      "outputs": [],
      "source": [
        "# 원하는 결과값\n",
        "# ['010', '5044','2903']\n",
        "# [10,5044,2904]  # 010 은표현이 안되서 10 으로 해주세요"
      ]
    },
    {
      "cell_type": "code",
      "execution_count": null,
      "metadata": {
        "colab": {
          "base_uri": "https://localhost:8080/"
        },
        "id": "mKXj1DX2E6uQ",
        "outputId": "7ef96924-a25b-48f7-f0cf-99864ca4e437"
      },
      "outputs": [
        {
          "data": {
            "text/plain": [
              "['010', '5044', '2903']"
            ]
          },
          "execution_count": 57,
          "metadata": {},
          "output_type": "execute_result"
        }
      ],
      "source": [
        "# 강사님풀이\n",
        "'010 5044 2903'.split() #공백단위가 들어가게 됩니다."
      ]
    },
    {
      "cell_type": "code",
      "execution_count": null,
      "metadata": {
        "id": "4HNDfjYTGrQP"
      },
      "outputs": [],
      "source": [
        "# 지금 진도에서 과한 풀이방법... 뒤에서 상세하게 다룸!\n",
        "def 제곱함수(x):\n",
        "    return x ** 2\n",
        "\n",
        "def 정수함수(x):\n",
        "    return int(x)\n",
        "\n",
        "list(map(제곱함수, [1, 2, 3]))\n",
        "list(map(정수함수, ['1', '2', '3']))\n",
        "list(map(int, ['1', '2', '3']))\n",
        "\n",
        "list(map(int, ['010', '5044', '2903']))\n",
        "list(map(int,'010 5044 2903'.split(' ')))"
      ]
    },
    {
      "cell_type": "code",
      "execution_count": null,
      "metadata": {
        "colab": {
          "base_uri": "https://localhost:8080/",
          "height": 35
        },
        "id": "hlrKg0SfHFnB",
        "outputId": "56097ead-1828-42d0-cc9f-e14705fc3637"
      },
      "outputs": [
        {
          "data": {
            "application/vnd.google.colaboratory.intrinsic+json": {
              "type": "string"
            },
            "text/plain": [
              "'hello world hello'"
            ]
          },
          "execution_count": 62,
          "metadata": {},
          "output_type": "execute_result"
        }
      ],
      "source": [
        "# join 별 4.5개\n",
        "'~'.join(['hello', 'world', 'hello'])\n",
        "'!'.join(['hello', 'world', 'hello'])\n",
        "''.join(['hello', 'world', 'hello']) # 자주 사용\n",
        "' '.join(['hello', 'world', 'hello']) # 자주 사용"
      ]
    },
    {
      "cell_type": "code",
      "execution_count": null,
      "metadata": {
        "colab": {
          "base_uri": "https://localhost:8080/"
        },
        "id": "Lr6Dw4LdH53U",
        "outputId": "cb4e24a0-b42e-4eb1-c31f-2832fc324dfa"
      },
      "outputs": [
        {
          "data": {
            "text/plain": [
              "False"
            ]
          },
          "execution_count": 63,
          "metadata": {},
          "output_type": "execute_result"
        }
      ],
      "source": [
        "#  isalnum( ) / isalpha( ) / isascii( )\n",
        "'hello'.isalpha() # 알파벳인지 확인함"
      ]
    },
    {
      "cell_type": "code",
      "execution_count": null,
      "metadata": {
        "id": "T4dTEGgTIKt5"
      },
      "outputs": [],
      "source": [
        "'hel lo'.isalpha() # 띄어쓰기까지 알파벳인지 확인함 (띄어쓰기는 알파벳 아니라 false)"
      ]
    },
    {
      "cell_type": "code",
      "execution_count": null,
      "metadata": {
        "colab": {
          "base_uri": "https://localhost:8080/"
        },
        "id": "9ROcKe5oIIVR",
        "outputId": "f0c18a7d-d8da-42f7-9da0-4982a9a792df"
      },
      "outputs": [
        {
          "data": {
            "text/plain": [
              "True"
            ]
          },
          "execution_count": 64,
          "metadata": {},
          "output_type": "execute_result"
        }
      ],
      "source": [
        "'123'.isdigit() # 숫자인 문자인지 확인"
      ]
    },
    {
      "cell_type": "code",
      "execution_count": null,
      "metadata": {
        "colab": {
          "base_uri": "https://localhost:8080/"
        },
        "id": "hfl1xsT5IRpp",
        "outputId": "ca87ecfb-5b6b-47e2-fcbd-33a644842fbf"
      },
      "outputs": [
        {
          "data": {
            "text/plain": [
              "(False, False)"
            ]
          },
          "execution_count": 65,
          "metadata": {},
          "output_type": "execute_result"
        }
      ],
      "source": [
        "'12a3'.isdigit(), '12 3'.isdigit()"
      ]
    },
    {
      "cell_type": "code",
      "execution_count": null,
      "metadata": {
        "colab": {
          "base_uri": "https://localhost:8080/"
        },
        "id": "rsbxrFG6IXYB",
        "outputId": "8e4ea12a-812c-4f75-c9f2-b5277eae07c3"
      },
      "outputs": [
        {
          "data": {
            "text/plain": [
              "(True, False)"
            ]
          },
          "execution_count": 66,
          "metadata": {},
          "output_type": "execute_result"
        }
      ],
      "source": [
        "'12a3'.isalnum(), '12 3'.isalnum()"
      ]
    },
    {
      "cell_type": "code",
      "execution_count": null,
      "metadata": {
        "colab": {
          "base_uri": "https://localhost:8080/"
        },
        "id": "NaILTmbgIfP7",
        "outputId": "48ed30a3-8aed-4d8a-82da-214429e24a36"
      },
      "outputs": [
        {
          "data": {
            "text/plain": [
              "(False, False)"
            ]
          },
          "execution_count": 67,
          "metadata": {},
          "output_type": "execute_result"
        }
      ],
      "source": [
        "'안녕하세요!'.isalpha(), '안녕하세요!'.isalnum()"
      ]
    },
    {
      "cell_type": "code",
      "execution_count": null,
      "metadata": {
        "colab": {
          "base_uri": "https://localhost:8080/"
        },
        "id": "CaPooZriN2no",
        "outputId": "16464dd7-c9ba-4992-fc1e-63c7ed3db0bb"
      },
      "outputs": [
        {
          "data": {
            "text/plain": [
              "(True, True)"
            ]
          },
          "execution_count": 72,
          "metadata": {},
          "output_type": "execute_result"
        }
      ],
      "source": [
        "#아스키코드인지 아닌지 판단해줍니다.\n",
        "'paullab CEO leehojun'.isascii(), '123'.isascii()"
      ]
    },
    {
      "cell_type": "code",
      "execution_count": null,
      "metadata": {
        "colab": {
          "base_uri": "https://localhost:8080/"
        },
        "id": "dmMFivwCInyu",
        "outputId": "8a004cf6-94d1-4310-d513-829da1e6044c"
      },
      "outputs": [
        {
          "data": {
            "text/plain": [
              "19"
            ]
          },
          "execution_count": 70,
          "metadata": {},
          "output_type": "execute_result"
        }
      ],
      "source": [
        "# 퀴즈 \n",
        "# 문자열에 있는 모든 숫자를 더해주세요\n",
        "answer = 0\n",
        "for i in '123abc913sldlf':\n",
        "    if i.isdigit():\n",
        "        answer += int(i)\n",
        "answer"
      ]
    },
    {
      "cell_type": "code",
      "execution_count": null,
      "metadata": {
        "colab": {
          "base_uri": "https://localhost:8080/"
        },
        "id": "F6W9cXdJJk55",
        "outputId": "552128d9-71cd-4167-a6e7-8c12b6a37183"
      },
      "outputs": [
        {
          "name": "stdout",
          "output_type": "stream",
          "text": [
            "          paullab CEO leehojun\n",
            "paullab CEO leehojun          \n",
            "     paullab CEO leehojun     \n"
          ]
        }
      ],
      "source": [
        "# rjust( ) / ljust( ) / center( ) format용법으로 거의 커버가 되긴 함...\n",
        "print('paullab CEO leehojun'.rjust(30)) #오른쪽 정렬\n",
        "print('paullab CEO leehojun'.ljust(30)) #왼쪽 정렬\n",
        "print('paullab CEO leehojun'.center(30))#가운데 정렬"
      ]
    },
    {
      "cell_type": "code",
      "execution_count": null,
      "metadata": {
        "colab": {
          "base_uri": "https://localhost:8080/",
          "height": 35
        },
        "id": "wzD4Ly5ENi9U",
        "outputId": "416cbd7e-6c3a-4d9f-c0b6-2067d6f92c7b"
      },
      "outputs": [
        {
          "data": {
            "application/vnd.google.colaboratory.intrinsic+json": {
              "type": "string"
            },
            "text/plain": [
              "'000000000000000hello'"
            ]
          },
          "execution_count": 74,
          "metadata": {},
          "output_type": "execute_result"
        }
      ],
      "source": [
        "# zfill()\n",
        "# 빈 공간을 문자 0으로 채워주는 함수\n",
        "'hello'.zfill(20)"
      ]
    },
    {
      "cell_type": "code",
      "execution_count": null,
      "metadata": {
        "colab": {
          "base_uri": "https://localhost:8080/",
          "height": 35
        },
        "id": "dUPMs2B-OKyo",
        "outputId": "b7377cf5-32e6-49e3-886e-a67d732eff82"
      },
      "outputs": [
        {
          "data": {
            "application/vnd.google.colaboratory.intrinsic+json": {
              "type": "string"
            },
            "text/plain": [
              "'00001001'"
            ]
          },
          "execution_count": 76,
          "metadata": {},
          "output_type": "execute_result"
        }
      ],
      "source": [
        "# 2진수 표현에 자주 사용함\n",
        "'1001'.zfill(8)"
      ]
    },
    {
      "cell_type": "code",
      "execution_count": null,
      "metadata": {
        "colab": {
          "base_uri": "https://localhost:8080/",
          "height": 35
        },
        "id": "7P_rwDPcOXn5",
        "outputId": "c296ebf8-770a-462b-b250-f5e99a1aac4e"
      },
      "outputs": [
        {
          "data": {
            "application/vnd.google.colaboratory.intrinsic+json": {
              "type": "string"
            },
            "text/plain": [
              "'-----hello'"
            ]
          },
          "execution_count": 77,
          "metadata": {},
          "output_type": "execute_result"
        }
      ],
      "source": [
        "'hello'.zfill(10).replace('0', '-')"
      ]
    },
    {
      "cell_type": "code",
      "execution_count": null,
      "metadata": {
        "colab": {
          "base_uri": "https://localhost:8080/",
          "height": 35
        },
        "id": "OW0fJOdIOeP7",
        "outputId": "d7b28485-9954-42b4-9c69-339d7897aaa7"
      },
      "outputs": [
        {
          "data": {
            "application/vnd.google.colaboratory.intrinsic+json": {
              "type": "string"
            },
            "text/plain": [
              "'paullab  CEO  leehojun'"
            ]
          },
          "execution_count": 79,
          "metadata": {},
          "output_type": "execute_result"
        }
      ],
      "source": [
        "# translate()\n",
        "# 규칙 테이블이며 규칙을 정해 데이터를 정렬해줌\n",
        "규칙테이블 = str.maketrans({'\\n':'', '\\t':''})  # replace랑 똑같은것...임\n",
        "'paullab \\n\\n\\n CEO \\t\\t\\t leehojun'.translate(규칙테이블)\n",
        "# 같은 결과 replace로...\n",
        "# 'paullab \\n\\n\\n CEO \\t\\t\\t leehojun'.replace('\\n', '').replace('\\t', '')"
      ]
    },
    {
      "cell_type": "code",
      "execution_count": null,
      "metadata": {
        "colab": {
          "base_uri": "https://localhost:8080/",
          "height": 35
        },
        "id": "QNmRkDXqO8Gr",
        "outputId": "84c96279-3088-4b64-f77e-0e73e00b3ce0"
      },
      "outputs": [
        {
          "data": {
            "application/vnd.google.colaboratory.intrinsic+json": {
              "type": "string"
            },
            "text/plain": [
              "'paullab     CEO     leehojun'"
            ]
          },
          "execution_count": 80,
          "metadata": {},
          "output_type": "execute_result"
        }
      ],
      "source": [
        "# str.maketrans에서 규칙을 정할 때 똑같은 길이를 가지고 있어야 함\n",
        "규칙테이블 = str.maketrans('\\n\\t', '  ')  # \\n -> ' ' , \\t -> ' '\n",
        "'paullab \\n\\n\\n CEO \\t\\t\\t leehojun'.translate(규칙테이블)"
      ]
    },
    {
      "cell_type": "code",
      "execution_count": null,
      "metadata": {
        "colab": {
          "base_uri": "https://localhost:8080/",
          "height": 35
        },
        "id": "aq4cA2PyPOD9",
        "outputId": "6f60fbab-c609-4df4-eebc-3fed707f08db"
      },
      "outputs": [
        {
          "data": {
            "application/vnd.google.colaboratory.intrinsic+json": {
              "type": "string"
            },
            "text/plain": [
              "'12hojun 1222snaghuck hahah'"
            ]
          },
          "execution_count": 82,
          "metadata": {},
          "output_type": "execute_result"
        }
      ],
      "source": [
        "규칙테이블 = str.maketrans('le', '12')\n",
        "'lehojun leeesnaghuck hahah'.translate(규칙테이블)"
      ]
    },
    {
      "attachments": {},
      "cell_type": "markdown",
      "metadata": {
        "id": "a-QPSqo0PceT"
      },
      "source": [
        "## pep"
      ]
    },
    {
      "cell_type": "code",
      "execution_count": null,
      "metadata": {
        "colab": {
          "base_uri": "https://localhost:8080/"
        },
        "id": "iRpn5jIhPgcY",
        "outputId": "b6fdcbfb-5790-4f0a-c2f6-4705147a92e9"
      },
      "outputs": [
        {
          "name": "stdout",
          "output_type": "stream",
          "text": [
            "The Zen of Python, by Tim Peters\n",
            "\n",
            "Beautiful is better than ugly.\n",
            "Explicit is better than implicit.\n",
            "Simple is better than complex.\n",
            "Complex is better than complicated.\n",
            "Flat is better than nested.\n",
            "Sparse is better than dense.\n",
            "Readability counts.\n",
            "Special cases aren't special enough to break the rules.\n",
            "Although practicality beats purity.\n",
            "Errors should never pass silently.\n",
            "Unless explicitly silenced.\n",
            "In the face of ambiguity, refuse the temptation to guess.\n",
            "There should be one-- and preferably only one --obvious way to do it.\n",
            "Although that way may not be obvious at first unless you're Dutch.\n",
            "Now is better than never.\n",
            "Although never is often better than *right* now.\n",
            "If the implementation is hard to explain, it's a bad idea.\n",
            "If the implementation is easy to explain, it may be a good idea.\n",
            "Namespaces are one honking great idea -- let's do more of those!\n"
          ]
        }
      ],
      "source": [
        "# aaaaaaaaaaaaaaaaaaaaaaaaaaaaaaaaaaaaaaaaaaaaaaaaaaaaaaaaaaaaaaaaaaaaaaaaaaaaaaaa => 80자\n",
        "# 아아아아아아아아아아아아아아아아아아아아아아아아아아아아아아아아아아아아아아아아아아 => 42자면 한글 넘어갑니다.\n",
        "# line에 딱 맞춰 들어간 것을 볼 수 있습니다. \n",
        "# 강제사항은 아닙니다.\n",
        "# 띄어쓰기 4번도 강제사항은 아닙니다.\n",
        "# pep8, pep 20에 기술되어 있습니다. => pep(Python Enhancement Proposal)란 무엇인가요? 8이란 무엇인가요?\n",
        "# pep8 : Style Guide for Python Code (https://peps.python.org/pep-0008/) \n",
        "# pep20 : The Zen of Python (https://peps.python.org/pep-0020/) #이스터에그로 숨겨져 있습니다!\n",
        "# https://peps.python.org/\n",
        "import this"
      ]
    },
    {
      "attachments": {},
      "cell_type": "markdown",
      "metadata": {
        "id": "beh2fXNAQnn7"
      },
      "source": [
        "## cpython\n",
        "\n",
        "* 공식 홈페이지에서 python 다운로드 받는 것이 cpython입니다.\n",
        "* https://github.com/python/cpython\n",
        "* list를 구현한 코드 : https://github.com/python/cpython/blob/main/Objects/listobject.c"
      ]
    },
    {
      "attachments": {},
      "cell_type": "markdown",
      "metadata": {
        "id": "F751djVVSXHb"
      },
      "source": [
        "## 인덱싱과 슬라이싱"
      ]
    },
    {
      "cell_type": "code",
      "execution_count": null,
      "metadata": {
        "colab": {
          "base_uri": "https://localhost:8080/"
        },
        "id": "D-_BfW0YSbBQ",
        "outputId": "c823fc8b-5338-4a40-c109-bbb40a9e6d84"
      },
      "outputs": [
        {
          "name": "stdout",
          "output_type": "stream",
          "text": [
            "G\n",
            "u\n",
            "i\n"
          ]
        }
      ],
      "source": [
        "name = 'Guido van Rossum'\n",
        "print(name[0])\n",
        "print(name[1])\n",
        "print(name[2])"
      ]
    },
    {
      "cell_type": "code",
      "execution_count": null,
      "metadata": {
        "colab": {
          "base_uri": "https://localhost:8080/",
          "height": 35
        },
        "id": "iibgoGy5SjkU",
        "outputId": "930bd105-5fe5-40b2-813b-d98ed90d2f92"
      },
      "outputs": [
        {
          "data": {
            "application/vnd.google.colaboratory.intrinsic+json": {
              "type": "string"
            },
            "text/plain": [
              "'pulbCOleou'"
            ]
          },
          "execution_count": 89,
          "metadata": {},
          "output_type": "execute_result"
        }
      ],
      "source": [
        "# s[start:stop:step]\n",
        "s = 'paullab CEO leehojun'\n",
        "s[5:]   # 5번째 부터 끝까지\n",
        "s[:5]   # 처음부터 5번째까지 (index 4 까지)\n",
        "s[3:10]\n",
        "s[:]    # 처음부터 끝까지\n",
        "s[0:20:2]"
      ]
    },
    {
      "cell_type": "code",
      "execution_count": null,
      "metadata": {
        "colab": {
          "base_uri": "https://localhost:8080/",
          "height": 35
        },
        "id": "UtuPETKWTMlQ",
        "outputId": "da8d3e2d-efa2-4219-90e3-ebd68d18b343"
      },
      "outputs": [
        {
          "data": {
            "application/vnd.google.colaboratory.intrinsic+json": {
              "type": "string"
            },
            "text/plain": [
              "'paullab CEO leehojun'"
            ]
          },
          "execution_count": 93,
          "metadata": {},
          "output_type": "execute_result"
        }
      ],
      "source": [
        "# 자주 사용되는 인덱싱 슬라이싱 코드\n",
        "s = 'paullab CEO leehojun!'\n",
        "s[:]    # string에서는 많이 사용하지 않지만 list에서 많이 사용합니다. (복사때문에...?)\n",
        "s[:-1]  # 마지막 원소만 제외하고 다 슬라이싱 합니다."
      ]
    },
    {
      "cell_type": "code",
      "execution_count": null,
      "metadata": {
        "colab": {
          "base_uri": "https://localhost:8080/"
        },
        "id": "RItjE90wTiK7",
        "outputId": "da18d437-d0b4-416b-a520-0039831d4d4b"
      },
      "outputs": [
        {
          "data": {
            "text/plain": [
              "([1000, 2, 3, 4], [1000, 2, 3, 4])"
            ]
          },
          "execution_count": 90,
          "metadata": {},
          "output_type": "execute_result"
        }
      ],
      "source": [
        "test = [1, 2, 3, 4]\n",
        "test2 = test # 복사가 일어남\n",
        "test2[0] = 1000\n",
        "test, test2 ## 값이 둘 다 바뀜."
      ]
    },
    {
      "cell_type": "code",
      "execution_count": null,
      "metadata": {
        "colab": {
          "base_uri": "https://localhost:8080/"
        },
        "id": "OL3qbLQcTx1h",
        "outputId": "690d71a0-6d73-4079-f85b-074cb482e7b0"
      },
      "outputs": [
        {
          "data": {
            "text/plain": [
              "([1, 2, 3, 4], [1000, 2, 3, 4])"
            ]
          },
          "execution_count": 91,
          "metadata": {},
          "output_type": "execute_result"
        }
      ],
      "source": [
        "test = [1, 2, 3, 4]\n",
        "test2 = test[:] # 새로운 리스트를 만들어서 test2에게 줌\n",
        "test2[0] = 1000\n",
        "test, test2 ## 값이서로 다름 test2만 바뀜"
      ]
    },
    {
      "attachments": {},
      "cell_type": "markdown",
      "metadata": {
        "id": "2d9KpzQEUtRf"
      },
      "source": [
        "## 문자열의 연산"
      ]
    },
    {
      "cell_type": "code",
      "execution_count": null,
      "metadata": {
        "colab": {
          "base_uri": "https://localhost:8080/",
          "height": 35
        },
        "id": "ObW676mcUZ_8",
        "outputId": "1e89caa4-8922-41dc-f1a9-6dc9e2c2c82a"
      },
      "outputs": [
        {
          "data": {
            "application/vnd.google.colaboratory.intrinsic+json": {
              "type": "string"
            },
            "text/plain": [
              "'hello worldhello worldhello world'"
            ]
          },
          "execution_count": 96,
          "metadata": {},
          "output_type": "execute_result"
        }
      ],
      "source": [
        "s = 'hello world'\n",
        "dir(s)\n",
        "\n",
        "s + s\n",
        "s*3\n",
        "# s/s, s**s, s-s 는 ERROR"
      ]
    },
    {
      "attachments": {},
      "cell_type": "markdown",
      "metadata": {
        "id": "P6wZ4pwwUu3X"
      },
      "source": [
        "## 형변환"
      ]
    },
    {
      "attachments": {},
      "cell_type": "markdown",
      "metadata": {
        "id": "Alj37CVFWE_z"
      },
      "source": [
        "* 형변환 : type을 변경하는 것입니다."
      ]
    },
    {
      "attachments": {},
      "cell_type": "markdown",
      "metadata": {
        "id": "aJPVNYvUXCGC"
      },
      "source": [
        "### 형변환 int float"
      ]
    },
    {
      "cell_type": "code",
      "execution_count": null,
      "metadata": {
        "colab": {
          "base_uri": "https://localhost:8080/",
          "height": 248
        },
        "id": "taXKM5UnU4Hd",
        "outputId": "fb9a80c9-c192-471a-f886-b9422998fff1"
      },
      "outputs": [
        {
          "name": "stdout",
          "output_type": "stream",
          "text": [
            "10\n"
          ]
        },
        {
          "ename": "AttributeError",
          "evalue": "ignored",
          "output_type": "error",
          "traceback": [
            "\u001b[0;31m---------------------------------------------------------------------------\u001b[0m",
            "\u001b[0;31mAttributeError\u001b[0m                            Traceback (most recent call last)",
            "\u001b[0;32m<ipython-input-100-449880225891>\u001b[0m in \u001b[0;36m<cell line: 2>\u001b[0;34m()\u001b[0m\n\u001b[1;32m      1\u001b[0m \u001b[0mx\u001b[0m \u001b[0;34m=\u001b[0m \u001b[0mint\u001b[0m\u001b[0;34m(\u001b[0m\u001b[0minput\u001b[0m\u001b[0;34m(\u001b[0m\u001b[0;34m)\u001b[0m\u001b[0;34m)\u001b[0m\u001b[0;34m\u001b[0m\u001b[0;34m\u001b[0m\u001b[0m\n\u001b[0;32m----> 2\u001b[0;31m \u001b[0;32mif\u001b[0m \u001b[0mx\u001b[0m\u001b[0;34m.\u001b[0m\u001b[0misdigit\u001b[0m\u001b[0;34m(\u001b[0m\u001b[0;34m)\u001b[0m\u001b[0;34m:\u001b[0m\u001b[0;34m\u001b[0m\u001b[0;34m\u001b[0m\u001b[0m\n\u001b[0m\u001b[1;32m      3\u001b[0m     \u001b[0mx\u001b[0m \u001b[0;34m=\u001b[0m \u001b[0mint\u001b[0m\u001b[0;34m(\u001b[0m\u001b[0mx\u001b[0m\u001b[0;34m)\u001b[0m\u001b[0;34m\u001b[0m\u001b[0;34m\u001b[0m\u001b[0m\n\u001b[1;32m      4\u001b[0m \u001b[0mx\u001b[0m \u001b[0;34m+\u001b[0m \u001b[0mx\u001b[0m \u001b[0;31m# but 알파벳 입력하면 error!\u001b[0m\u001b[0;34m\u001b[0m\u001b[0;34m\u001b[0m\u001b[0m\n",
            "\u001b[0;31mAttributeError\u001b[0m: 'int' object has no attribute 'isdigit'"
          ]
        }
      ],
      "source": [
        "x = int(input())\n",
        "x + x # but 알파벳 입력하면 error!"
      ]
    },
    {
      "cell_type": "code",
      "execution_count": null,
      "metadata": {
        "colab": {
          "base_uri": "https://localhost:8080/"
        },
        "id": "CYo7Cwe5VVmW",
        "outputId": "1e183bed-7f77-4e07-dbb0-cb0446153c4d"
      },
      "outputs": [
        {
          "name": "stdout",
          "output_type": "stream",
          "text": [
            "10\n"
          ]
        },
        {
          "data": {
            "text/plain": [
              "20"
            ]
          },
          "execution_count": 101,
          "metadata": {},
          "output_type": "execute_result"
        }
      ],
      "source": [
        "x = input()\n",
        "if x.isdigit():\n",
        "    x = int(x) # but 알파벳 입력하면 error!\n",
        "x + x"
      ]
    },
    {
      "cell_type": "code",
      "execution_count": null,
      "metadata": {
        "colab": {
          "base_uri": "https://localhost:8080/"
        },
        "id": "lTh3lTsLVcWJ",
        "outputId": "7abc879e-e575-4bde-8c01-266227a9237d"
      },
      "outputs": [
        {
          "data": {
            "text/plain": [
              "10"
            ]
          },
          "execution_count": 104,
          "metadata": {},
          "output_type": "execute_result"
        }
      ],
      "source": [
        "# int('abc') #error\n",
        "int(10.1) #버림\n",
        "int('10') #형변환 가능\n",
        "# int('10.1') #형변환 불가능"
      ]
    },
    {
      "cell_type": "code",
      "execution_count": null,
      "metadata": {
        "colab": {
          "base_uri": "https://localhost:8080/"
        },
        "id": "MBqLgXtGVrV9",
        "outputId": "258a4b08-42de-4748-c80a-5aa2af9aafae"
      },
      "outputs": [
        {
          "data": {
            "text/plain": [
              "10.1"
            ]
          },
          "execution_count": 107,
          "metadata": {},
          "output_type": "execute_result"
        }
      ],
      "source": [
        "# float('abc') #error\n",
        "float(10.1) #버림\n",
        "float('10') #형변환 가능\n",
        "float('10.1') #형변환 가능"
      ]
    },
    {
      "cell_type": "code",
      "execution_count": null,
      "metadata": {
        "colab": {
          "base_uri": "https://localhost:8080/",
          "height": 193
        },
        "id": "obsbFLtLV1EN",
        "outputId": "7817ba72-f006-474e-9966-396cee22a86f"
      },
      "outputs": [
        {
          "ename": "ValueError",
          "evalue": "ignored",
          "output_type": "error",
          "traceback": [
            "\u001b[0;31m---------------------------------------------------------------------------\u001b[0m",
            "\u001b[0;31mValueError\u001b[0m                                Traceback (most recent call last)",
            "\u001b[0;32m<ipython-input-108-2b848668e0ee>\u001b[0m in \u001b[0;36m<cell line: 1>\u001b[0;34m()\u001b[0m\n\u001b[0;32m----> 1\u001b[0;31m \u001b[0mint\u001b[0m\u001b[0;34m(\u001b[0m\u001b[0;34m'10a'\u001b[0m\u001b[0;34m)\u001b[0m  \u001b[0;31m# 되는 언어가 있어서 보여드림\u001b[0m\u001b[0;34m\u001b[0m\u001b[0;34m\u001b[0m\u001b[0m\n\u001b[0m\u001b[1;32m      2\u001b[0m \u001b[0;31m# python 에서는 허용하지 않습니다.\u001b[0m\u001b[0;34m\u001b[0m\u001b[0;34m\u001b[0m\u001b[0m\n",
            "\u001b[0;31mValueError\u001b[0m: invalid literal for int() with base 10: '10a'"
          ]
        }
      ],
      "source": [
        "int('10a')  # 되는 언어가 있어서 보여드림 ex) JavaScript\n",
        "# python 에서는 허용하지 않습니다."
      ]
    },
    {
      "attachments": {},
      "cell_type": "markdown",
      "metadata": {
        "id": "SxXJ3S50WDQE"
      },
      "source": [
        "### 형변환 string"
      ]
    },
    {
      "cell_type": "code",
      "execution_count": null,
      "metadata": {
        "colab": {
          "base_uri": "https://localhost:8080/",
          "height": 35
        },
        "id": "1LoXi7tzWPuj",
        "outputId": "2a129b96-8b04-411a-db8e-6c987c789461"
      },
      "outputs": [
        {
          "data": {
            "application/vnd.google.colaboratory.intrinsic+json": {
              "type": "string"
            },
            "text/plain": [
              "\"{'one': 1, 'two': 2}\""
            ]
          },
          "execution_count": 122,
          "metadata": {},
          "output_type": "execute_result"
        }
      ],
      "source": [
        "def hello():\n",
        "    pass\n",
        "\n",
        "str(123)\n",
        "str(True)\n",
        "str(None)\n",
        "str(type)\n",
        "\n",
        "str(hello)  # <function hello at 0x~~~~>\n",
        "str([1,2,3])\n",
        "str((1,2,3))\n",
        "str({1,2,3})\n",
        "str({'one':1, 'two':2})"
      ]
    },
    {
      "attachments": {},
      "cell_type": "markdown",
      "metadata": {
        "id": "3yHh6k5LoLUl"
      },
      "source": [
        "### 형변환 bool"
      ]
    },
    {
      "cell_type": "code",
      "execution_count": null,
      "metadata": {
        "colab": {
          "base_uri": "https://localhost:8080/"
        },
        "id": "30lhX-oDW4ip",
        "outputId": "e824c53c-2a74-46c6-b7ae-dab3200f944d"
      },
      "outputs": [
        {
          "name": "stdout",
          "output_type": "stream",
          "text": [
            "hi\n",
            "hi\n",
            "False\n",
            "True\n",
            "True\n",
            "True\n",
            "False\n",
            "True\n",
            "True\n",
            "True\n",
            "False\n",
            "False\n",
            "False\n",
            "True\n"
          ]
        }
      ],
      "source": [
        "# ***** 별 다섯 개!\n",
        "if True:\n",
        "    print('hi')\n",
        "\n",
        "if 'hello': \n",
        "    print('hi')\n",
        "\n",
        "# 문자열이 빈문자열 아니면 모두 True\n",
        "print(bool(''))\n",
        "print(bool('a'))\n",
        "print(bool('False'))\n",
        "print(bool('True'))\n",
        "# 숫자는 0만 False, 나머지는 True\n",
        "print(bool(0))\n",
        "print(bool(-1))\n",
        "print(bool(124))\n",
        "print(bool(100.1))\n",
        "print(bool(None) ) # None은 비어있음을 명시해주는 키워드. False\n",
        "\n",
        "# 컨벤션 자료형은 비어있으면 False입니다.\n",
        "print(bool([]))\n",
        "print(bool({}))\n",
        "print(bool([1]))\n"
      ]
    },
    {
      "cell_type": "code",
      "execution_count": null,
      "metadata": {
        "colab": {
          "base_uri": "https://localhost:8080/"
        },
        "id": "FVRCB70GpEKE",
        "outputId": "ed70db43-a3aa-4c6f-ee22-3281207a4a3f"
      },
      "outputs": [
        {
          "name": "stdout",
          "output_type": "stream",
          "text": [
            "3\n",
            "2\n",
            "1\n"
          ]
        }
      ],
      "source": [
        "# python 에서는 컨벤션이 비어있으면 False이기 때문에 이용하는 방법!? \n",
        "# >> javascript는 안그럼..\n",
        "ls = [1,2,3]\n",
        "while ls:\n",
        "    print(ls.pop())"
      ]
    },
    {
      "cell_type": "code",
      "execution_count": null,
      "metadata": {
        "colab": {
          "base_uri": "https://localhost:8080/"
        },
        "id": "KFzIt5ZHplkz",
        "outputId": "ff104642-51a2-4794-e872-7cd70e6c00ec"
      },
      "outputs": [
        {
          "data": {
            "text/plain": [
              "['1', '0']"
            ]
          },
          "execution_count": 145,
          "metadata": {},
          "output_type": "execute_result"
        }
      ],
      "source": [
        "# list로 형변환\n",
        "s = '10'\n",
        "l = list(s)\n",
        "l"
      ]
    },
    {
      "cell_type": "code",
      "execution_count": null,
      "metadata": {
        "colab": {
          "base_uri": "https://localhost:8080/"
        },
        "id": "XGtgYcYtprVw",
        "outputId": "642b9217-6b9c-4111-e25a-cb3fe8d95197"
      },
      "outputs": [
        {
          "data": {
            "text/plain": [
              "['l', 'e', 'e', 'h', 'o', 'j', 'u', 'n']"
            ]
          },
          "execution_count": 146,
          "metadata": {},
          "output_type": "execute_result"
        }
      ],
      "source": [
        "s = 'leehojun'\n",
        "l = list(s)\n",
        "l"
      ]
    },
    {
      "cell_type": "code",
      "execution_count": null,
      "metadata": {
        "colab": {
          "base_uri": "https://localhost:8080/"
        },
        "id": "T0EnpFZ9pxSR",
        "outputId": "8c1373fb-a5e7-4dd6-e1fb-7563a3ce9530"
      },
      "outputs": [
        {
          "data": {
            "text/plain": [
              "('1', '0')"
            ]
          },
          "execution_count": 147,
          "metadata": {},
          "output_type": "execute_result"
        }
      ],
      "source": [
        "# tuple로 형변환\n",
        "s = '10'\n",
        "t = tuple(s)\n",
        "t"
      ]
    },
    {
      "cell_type": "code",
      "execution_count": null,
      "metadata": {
        "colab": {
          "base_uri": "https://localhost:8080/"
        },
        "id": "B30-8F2hp1vA",
        "outputId": "4e47d0e6-866f-4a05-9685-cc12d668a9a9"
      },
      "outputs": [
        {
          "data": {
            "text/plain": [
              "('l', 'e', 'e', 'h', 'o', 'j', 'u', 'n')"
            ]
          },
          "execution_count": 148,
          "metadata": {},
          "output_type": "execute_result"
        }
      ],
      "source": [
        "s = 'leehojun'\n",
        "t = tuple(s)\n",
        "t"
      ]
    },
    {
      "cell_type": "code",
      "execution_count": null,
      "metadata": {
        "colab": {
          "base_uri": "https://localhost:8080/"
        },
        "id": "S3Yo1fvHp4RQ",
        "outputId": "5c8c8009-7e7a-4d70-9acc-ad8ea2cf8f6a"
      },
      "outputs": [
        {
          "data": {
            "text/plain": [
              "{'name': 'leehojun', 'age': 10}"
            ]
          },
          "execution_count": 150,
          "metadata": {},
          "output_type": "execute_result"
        }
      ],
      "source": [
        "# dictionary 로 형변환\n",
        "# name = 'leehoun'\n",
        "# dict(name) # 단순 문자만 넣으면 error\n",
        "\n",
        "s = [('name', 'leehojun'), ('age', 10)]\n",
        "d = dict(s)\n",
        "d"
      ]
    },
    {
      "cell_type": "code",
      "execution_count": null,
      "metadata": {
        "colab": {
          "base_uri": "https://localhost:8080/"
        },
        "id": "hOI3Hx69qOtk",
        "outputId": "d7de0fef-3dd0-498f-8efa-24c6bd076fa0"
      },
      "outputs": [
        {
          "data": {
            "text/plain": [
              "{'e', 'h', 'j', 'l', 'n', 'o', 'u'}"
            ]
          },
          "execution_count": 152,
          "metadata": {},
          "output_type": "execute_result"
        }
      ],
      "source": [
        "# set 으로 형변환\n",
        "# set은 순서를 보장하지 않고, 중복된 원소를 제외함\n",
        "name = 'leehojun'\n",
        "set(name)"
      ]
    },
    {
      "cell_type": "code",
      "execution_count": null,
      "metadata": {
        "colab": {
          "base_uri": "https://localhost:8080/"
        },
        "id": "SWe_JQEyqeJN",
        "outputId": "809c0b8c-f712-4d78-a5cb-d85411dcd3bf"
      },
      "outputs": [
        {
          "data": {
            "text/plain": [
              "3"
            ]
          },
          "execution_count": 155,
          "metadata": {},
          "output_type": "execute_result"
        }
      ],
      "source": [
        "# len() 함수는 __len__ \n",
        "len('hello world')\n",
        "len([1,2,3,4])\n",
        "len({1,2,3})"
      ]
    },
    {
      "cell_type": "code",
      "execution_count": null,
      "metadata": {
        "id": "zV_7GlI5qjqw"
      },
      "outputs": [],
      "source": []
    },
    {
      "cell_type": "code",
      "execution_count": null,
      "metadata": {
        "colab": {
          "base_uri": "https://localhost:8080/",
          "height": 54
        },
        "id": "munbiDyBqsM3",
        "outputId": "e66fb224-4071-407c-c66c-b294077233a6"
      },
      "outputs": [
        {
          "name": "stdout",
          "output_type": "stream",
          "text": [
            "문자를 입력해 주세요abc\n"
          ]
        },
        {
          "data": {
            "application/vnd.google.colaboratory.intrinsic+json": {
              "type": "string"
            },
            "text/plain": [
              "'abcabc'"
            ]
          },
          "execution_count": 170,
          "metadata": {},
          "output_type": "execute_result"
        }
      ],
      "source": [
        "#연습문제 2번\n",
        "def function(input):\n",
        "    return input*2\n",
        "\n",
        "user_input = input('문자를 입력해 주세요: ')\n",
        "function(user_input)\n",
        "\n",
        "# print(input('문자를입력해주세!: ')*2 # 이렇게도 똑같음"
      ]
    },
    {
      "cell_type": "code",
      "execution_count": null,
      "metadata": {
        "colab": {
          "base_uri": "https://localhost:8080/",
          "height": 35
        },
        "id": "vPq_Wn2lsQSr",
        "outputId": "c0441b90-9224-4bc8-db55-a04155ace942"
      },
      "outputs": [
        {
          "data": {
            "application/vnd.google.colaboratory.intrinsic+json": {
              "type": "string"
            },
            "text/plain": [
              "'4'"
            ]
          },
          "execution_count": 2,
          "metadata": {},
          "output_type": "execute_result"
        }
      ],
      "source": [
        "#연습문제 3번\n",
        "num = 1234567890\n",
        "list(str(num))[3]\n"
      ]
    },
    {
      "attachments": {},
      "cell_type": "markdown",
      "metadata": {
        "id": "vXA7Y33us_UM"
      },
      "source": [
        "## 산술연산"
      ]
    },
    {
      "cell_type": "code",
      "execution_count": null,
      "metadata": {
        "colab": {
          "base_uri": "https://localhost:8080/"
        },
        "id": "AOAEW7yTtCOZ",
        "outputId": "1edf4210-5374-40cd-e3ed-855d3922f396"
      },
      "outputs": [
        {
          "name": "stdout",
          "output_type": "stream",
          "text": [
            "10 + 3 == 13\n",
            "10 - 3 == 7\n",
            "10 / 3 == 3.3333333333333335\n",
            "10 // 3 == 3\n",
            "10 * 3 == 30\n",
            "10 ** 3 == 1000\n",
            "10 % 3 == 1\n"
          ]
        }
      ],
      "source": [
        "a =10\n",
        "b=3\n",
        "print(f'10 + 3 == {a + b}')\n",
        "print(f'10 - 3 == {a - b}')\n",
        "print(f'10 / 3 == {a / b}')\n",
        "print(f'10 // 3 == {a // b}')   # 몫만 나옵니다.(정수)\n",
        "print(f'10 * 3 == {a * b}')\n",
        "print(f'10 ** 3 == {a ** b}')\n",
        "print(f'10 % 3 == {a % b}')     # 나머지"
      ]
    },
    {
      "cell_type": "code",
      "execution_count": null,
      "metadata": {
        "colab": {
          "base_uri": "https://localhost:8080/"
        },
        "id": "fB2OFuwtt3mU",
        "outputId": "0284dff6-fb8b-43c2-f057-90b716b0090d"
      },
      "outputs": [
        {
          "name": "stdout",
          "output_type": "stream",
          "text": [
            "27\n",
            "27\n",
            "9\n"
          ]
        }
      ],
      "source": [
        "# 연산자 우선순위\n",
        "# and, or, 4칙연산, 제곱정도만 알면 코딩하는데 큰 무리가 없음.\n",
        "# 모르면 읽는데 어려움이 생기기도 함...\n",
        "# 헷갈릴 때에는 괄호 씌워서 하기!!\n",
        "# point\n",
        "# ** > *\n",
        "# and > or\n",
        "print(3 ** 2 * 3)\n",
        "print(3 * 3 ** 2)   # 연산자 우선순위 ** > * 이기 때문에 3 ** 2 를 먼저함\n",
        "print(3 + 3 * 2)\n",
        "\n",
        "#"
      ]
    },
    {
      "attachments": {},
      "cell_type": "markdown",
      "metadata": {
        "id": "FIGoM5Odu65K"
      },
      "source": [
        "## 비교연산"
      ]
    },
    {
      "cell_type": "code",
      "execution_count": null,
      "metadata": {
        "id": "whXNMIYBvAZO"
      },
      "outputs": [],
      "source": [
        "# 비교연산자\n",
        "a =10\n",
        "b=3\n",
        "\n",
        "print(f'10 > 3 == {a > b}')\n",
        "print(f'10 >= 3 == {a >= b}')\n",
        "print(f'10 < 3 == {a < b}')\n",
        "print(f'10 <= 3 == {a <= b}')\n",
        "print(f'10 == 3 == {a == b}')\n",
        "print(f'10 != 3 == {a != b}')"
      ]
    },
    {
      "attachments": {},
      "cell_type": "markdown",
      "metadata": {
        "id": "TyCht8zNvQOl"
      },
      "source": [
        "## 논리연산 "
      ]
    },
    {
      "attachments": {},
      "cell_type": "markdown",
      "metadata": {
        "id": "I_EwGc2gfUfz"
      },
      "source": [
        "* or 과 and 연산의 경우 마지막 단락평가한 값을 return 한다. <br/>(return 이 True, False로 고정된 것이 아님)\n",
        "    * x or y 일 때, x == True 이면 return x 아니면 return y\n",
        "    * x and y 일 때, x == True 이면 return y 아니면 return x"
      ]
    },
    {
      "cell_type": "code",
      "execution_count": null,
      "metadata": {
        "id": "Qc7eW_GpsuVw"
      },
      "outputs": [],
      "source": [
        "from google.colab import drive\n",
        "drive.mount('/content/drive')"
      ]
    },
    {
      "cell_type": "code",
      "execution_count": null,
      "metadata": {
        "colab": {
          "base_uri": "https://localhost:8080/"
        },
        "id": "LyTHO-w5vTn8",
        "outputId": "9e70b2d7-17cb-433f-f83b-c422ab48f149"
      },
      "outputs": [
        {
          "name": "stdout",
          "output_type": "stream",
          "text": [
            "False\n",
            "True\n",
            "hello or\n",
            "world or\n"
          ]
        }
      ],
      "source": [
        "# and 는 곱\n",
        "# or 는 합\n",
        "# not 은 반대\n",
        "# True 1\n",
        "# False 0\n",
        "# 중요한 포인트는 저렇게 쓸 때, 언제 True가 되는지 정리하는 것\n",
        "\n",
        "print(True and False)\n",
        "print(True or False)\n",
        "\n",
        "if True and False:\n",
        "    print('hello and')\n",
        "\n",
        "if 10>3 and 8%3==0:\n",
        "    print('world and')\n",
        "\n",
        "if True or False:\n",
        "    print('hello or')\n",
        "\n",
        "if 10>3 or 8%3==0:\n",
        "    print('world or')\n",
        "\n",
        "# and는 언제 True가 되나요?\n",
        "# --> 모두 True 일 때\n",
        "# or는 언제 True가 되나요?\n",
        "# --> 하나라도 True 일 때"
      ]
    },
    {
      "cell_type": "code",
      "execution_count": null,
      "metadata": {
        "colab": {
          "base_uri": "https://localhost:8080/"
        },
        "id": "_7FQg3_0wtPN",
        "outputId": "62b90115-48d2-48e8-88d2-8cb0e68d3fb0"
      },
      "outputs": [
        {
          "data": {
            "text/plain": [
              "2418"
            ]
          },
          "execution_count": 10,
          "metadata": {},
          "output_type": "execute_result"
        }
      ],
      "source": [
        "# 문제 링크 : https://codingdojang.com/scode/350?answer_mode=hide\n",
        "answer = 0\n",
        "for i in range(101):\n",
        "    if i % 3 == 0 or i % 5 == 0:  ## 3과 5의 공배수를 찾고싶으면 and!\n",
        "        answer += i\n",
        "\n",
        "answer # 2418"
      ]
    },
    {
      "cell_type": "code",
      "execution_count": null,
      "metadata": {
        "colab": {
          "base_uri": "https://localhost:8080/"
        },
        "id": "fu0PYo4Hxw3H",
        "outputId": "38013699-a1d1-49ab-8219-7d9e895897d1"
      },
      "outputs": [
        {
          "data": {
            "text/plain": [
              "2418"
            ]
          },
          "execution_count": 11,
          "metadata": {},
          "output_type": "execute_result"
        }
      ],
      "source": [
        "# and or를 안 쓰면...\n",
        "result = 0\n",
        "for i in range(101):\n",
        "    if i % 3 == 0:\n",
        "        result += i\n",
        "        continue \n",
        "    if i % 5 == 0:\n",
        "        result += i\n",
        "\n",
        "result"
      ]
    },
    {
      "cell_type": "code",
      "execution_count": null,
      "metadata": {
        "colab": {
          "base_uri": "https://localhost:8080/"
        },
        "id": "WnS1Vs-gyrH1",
        "outputId": "8c568e35-0560-4b42-dd11-b417b0486416"
      },
      "outputs": [
        {
          "data": {
            "text/plain": [
              "False"
            ]
          },
          "execution_count": 12,
          "metadata": {},
          "output_type": "execute_result"
        }
      ],
      "source": [
        "not True"
      ]
    },
    {
      "cell_type": "code",
      "execution_count": null,
      "metadata": {
        "colab": {
          "base_uri": "https://localhost:8080/"
        },
        "id": "vGBInyDQy21_",
        "outputId": "ac562591-5384-4a01-fa9f-2be651815028"
      },
      "outputs": [
        {
          "data": {
            "text/plain": [
              "True"
            ]
          },
          "execution_count": 13,
          "metadata": {},
          "output_type": "execute_result"
        }
      ],
      "source": [
        "not False"
      ]
    },
    {
      "cell_type": "code",
      "execution_count": null,
      "metadata": {
        "id": "oT4Vhxnjy3uh"
      },
      "outputs": [],
      "source": [
        "# python 입장에서 보는 코드\n",
        "# False and ??? => 물음표에 무엇이 나오든 False\n",
        "# 그래서 Python도 저 풀음표를 해석하지 않습니다.\n",
        "\n",
        "def solution():\n",
        "    1/0 # ZeroDivisionError\n",
        "\n",
        "\n",
        "if False and solution():\n",
        "    print('solution must be error')\n",
        "# 무조건 결말이 결정되어 있는 코드는 뒤에있는 나머지 코드를 해석하지 않음!!"
      ]
    },
    {
      "cell_type": "code",
      "execution_count": null,
      "metadata": {
        "colab": {
          "base_uri": "https://localhost:8080/"
        },
        "id": "MyNRxCFg15qD",
        "outputId": "1513626b-d9f2-472b-e782-2ed38c99601f"
      },
      "outputs": [
        {
          "name": "stdout",
          "output_type": "stream",
          "text": [
            "solution must be error\n"
          ]
        }
      ],
      "source": [
        "def solution():\n",
        "    1/0 # ZeroDivisionError\n",
        "\n",
        "\n",
        "if True or solution():\n",
        "    print('solution must be error')\n",
        "# 무조건 결말이 결정되어 있는 코드는 뒤에있는 나머지 코드를 해석하지 않음!!"
      ]
    },
    {
      "cell_type": "code",
      "execution_count": null,
      "metadata": {
        "colab": {
          "base_uri": "https://localhost:8080/",
          "height": 35
        },
        "id": "hkrc-YpM2Bmc",
        "outputId": "04af8fe1-bcf4-4899-f046-a88ade1bc31e"
      },
      "outputs": [
        {
          "data": {
            "application/vnd.google.colaboratory.intrinsic+json": {
              "type": "string"
            },
            "text/plain": [
              "'licat'"
            ]
          },
          "execution_count": 17,
          "metadata": {},
          "output_type": "execute_result"
        }
      ],
      "source": [
        "# 단락 평가 (컴퓨터가 어디까지 보는지 판단해서 활용)\n",
        "username='' # 사용자가 아무것도 입력하지 않았을 경우\n",
        "username = username or 'licat'\n",
        "username"
      ]
    },
    {
      "attachments": {},
      "cell_type": "markdown",
      "metadata": {
        "id": "aBs12DEu2dLH"
      },
      "source": []
    },
    {
      "cell_type": "code",
      "execution_count": null,
      "metadata": {
        "colab": {
          "base_uri": "https://localhost:8080/",
          "height": 54
        },
        "id": "llIL_htb2dlW",
        "outputId": "ab589a61-8c2c-4714-84db-79e560d1ab0a"
      },
      "outputs": [
        {
          "name": "stdout",
          "output_type": "stream",
          "text": [
            "leehojun\n"
          ]
        },
        {
          "data": {
            "application/vnd.google.colaboratory.intrinsic+json": {
              "type": "string"
            },
            "text/plain": [
              "'leehojun'"
            ]
          },
          "execution_count": 19,
          "metadata": {},
          "output_type": "execute_result"
        }
      ],
      "source": [
        "username='leehojun' # 사용자가 아무것도 입력하지 않았을 경우\n",
        "print(username or 'licat') ## < 이게 왜 username 혹은 'licat'이 출력되는거죠??\n",
        "username = username or 'licat'\n",
        "username"
      ]
    },
    {
      "cell_type": "code",
      "execution_count": null,
      "metadata": {
        "colab": {
          "base_uri": "https://localhost:8080/"
        },
        "id": "9H9zJhis25oD",
        "outputId": "aa48a74d-6e57-4048-b754-c5dc5e8fec0a"
      },
      "outputs": [
        {
          "name": "stdout",
          "output_type": "stream",
          "text": [
            "0\n",
            "2\n",
            "4\n",
            "6\n",
            "8\n",
            "10\n",
            "12\n",
            "14\n",
            "15\n",
            "16\n",
            "18\n",
            "20\n",
            "0\n",
            "2\n",
            "4\n",
            "6\n",
            "8\n",
            "10\n",
            "12\n",
            "14\n",
            "15\n",
            "16\n",
            "18\n",
            "20\n"
          ]
        }
      ],
      "source": [
        "# and 와 ro의 우선순위 ( and > or)\n",
        "for i in range(21):\n",
        "    if i % 3 == 0 and i % 5 == 0 or i % 2 == 0:\n",
        "        print(i)\n",
        "\n",
        "for i in range(21):\n",
        "    if (i % 3 == 0 and i % 5 == 0) or i % 2 == 0:\n",
        "        print(i)"
      ]
    },
    {
      "cell_type": "code",
      "execution_count": null,
      "metadata": {
        "colab": {
          "base_uri": "https://localhost:8080/"
        },
        "id": "TgRFyN4g3B9n",
        "outputId": "7a80c4b7-2fdb-4fb9-949b-60a17bfb438a"
      },
      "outputs": [
        {
          "name": "stdout",
          "output_type": "stream",
          "text": [
            "0\n",
            "6\n",
            "10\n",
            "12\n",
            "18\n",
            "20\n",
            "0\n",
            "3\n",
            "6\n",
            "9\n",
            "10\n",
            "12\n",
            "15\n",
            "18\n",
            "20\n"
          ]
        }
      ],
      "source": [
        "# 아래는 출력값이 다릅니다. 우선순위가 낮은 or가 먼저 나왔기 때문입니다.\n",
        "# 헷갈리시면 괄호를 사용해주세요!\n",
        "for i in range(21):\n",
        "    if (i % 3 == 0 or i % 5 == 0) and i % 2 == 0:\n",
        "        print(i)\n",
        "\n",
        "for i in range(21):\n",
        "    if i % 3 == 0 or i % 5 == 0 and i % 2 == 0:\n",
        "        print(i)"
      ]
    },
    {
      "attachments": {},
      "cell_type": "markdown",
      "metadata": {
        "id": "G-do-ChE4Hsk"
      },
      "source": [
        "## 비트연산 (중요도 하)"
      ]
    },
    {
      "cell_type": "code",
      "execution_count": null,
      "metadata": {
        "colab": {
          "base_uri": "https://localhost:8080/"
        },
        "id": "zuCdQDll4KRt",
        "outputId": "deb6e9b9-a72f-42b4-c070-11309045760d"
      },
      "outputs": [
        {
          "data": {
            "text/plain": [
              "False"
            ]
          },
          "execution_count": 27,
          "metadata": {},
          "output_type": "execute_result"
        }
      ],
      "source": [
        "# & (곱하기)\n",
        "# 1001 == 9\n",
        "# 0010 == 2\n",
        "# ----\n",
        "# 0000"
      ]
    },
    {
      "cell_type": "code",
      "execution_count": null,
      "metadata": {
        "colab": {
          "base_uri": "https://localhost:8080/"
        },
        "id": "WZhezS_z43H_",
        "outputId": "57f3891f-9536-4a58-de01-9300858b9e35"
      },
      "outputs": [
        {
          "data": {
            "text/plain": [
              "8"
            ]
          },
          "execution_count": 28,
          "metadata": {},
          "output_type": "execute_result"
        }
      ],
      "source": [
        "9&8"
      ]
    },
    {
      "cell_type": "code",
      "execution_count": null,
      "metadata": {
        "colab": {
          "base_uri": "https://localhost:8080/"
        },
        "id": "HBDy_0Og5iOv",
        "outputId": "f798291b-d3b5-46df-9cd4-eeaf258e5e71"
      },
      "outputs": [
        {
          "data": {
            "text/plain": [
              "11"
            ]
          },
          "execution_count": 33,
          "metadata": {},
          "output_type": "execute_result"
        }
      ],
      "source": [
        "# | (더하기, 대신 자리 올림이 되진 않습니다.)\n",
        "# 1001 == 9\n",
        "# 0011 == 3\n",
        "# ----\n",
        "# 1011\n",
        "\n",
        "9|3"
      ]
    },
    {
      "cell_type": "code",
      "execution_count": null,
      "metadata": {
        "colab": {
          "base_uri": "https://localhost:8080/"
        },
        "id": "gXe769CA535k",
        "outputId": "56b71cc9-1bba-4725-8426-af1085f73c1d"
      },
      "outputs": [
        {
          "data": {
            "text/plain": [
              "10"
            ]
          },
          "execution_count": 34,
          "metadata": {},
          "output_type": "execute_result"
        }
      ],
      "source": [
        "# ^ (XOR exclusive-or : 같으면 0 다르면 1)\n",
        "# 1001 == 9\n",
        "# 0011 == 3\n",
        "# ----\n",
        "# 1010\n",
        "\n",
        "9^3"
      ]
    },
    {
      "cell_type": "code",
      "execution_count": null,
      "metadata": {
        "colab": {
          "base_uri": "https://localhost:8080/"
        },
        "id": "KXMF-AYr6OWv",
        "outputId": "e98cb667-9e54-4427-a560-88e664853922"
      },
      "outputs": [
        {
          "name": "stdout",
          "output_type": "stream",
          "text": [
            "-10\n",
            "6\n",
            "-1\n"
          ]
        }
      ],
      "source": [
        "# ~ (not 연산자)\n",
        "print(~9) # 2의 보수를 취함(9에게 +1 한 다음에 -를 취하면 됨)\n",
        "print(~-7)\n",
        "print(~0)"
      ]
    },
    {
      "cell_type": "code",
      "execution_count": null,
      "metadata": {
        "colab": {
          "base_uri": "https://localhost:8080/"
        },
        "id": "wgOMKMsq64P3",
        "outputId": "746aa594-de6e-4ab3-ff01-dbee573effea"
      },
      "outputs": [
        {
          "data": {
            "text/plain": [
              "0"
            ]
          },
          "execution_count": 40,
          "metadata": {},
          "output_type": "execute_result"
        }
      ],
      "source": [
        "# << >> (shift 비트 이동 연산자)\n",
        "3 << 2\n",
        "# 0011 == 3\n",
        "# 1100 == 3 << 2\n"
      ]
    },
    {
      "cell_type": "code",
      "execution_count": null,
      "metadata": {
        "colab": {
          "base_uri": "https://localhost:8080/"
        },
        "id": "Yr3RSfOk7pa4",
        "outputId": "291b4b0b-e7ac-4932-9b87-07e3c115f448"
      },
      "outputs": [
        {
          "data": {
            "text/plain": [
              "1"
            ]
          },
          "execution_count": 42,
          "metadata": {},
          "output_type": "execute_result"
        }
      ],
      "source": [
        "7 >> 2\n",
        "# 0111 == 7 >> 2"
      ]
    },
    {
      "attachments": {},
      "cell_type": "markdown",
      "metadata": {
        "id": "y70py4wG73IA"
      },
      "source": [
        "## 디스코드 단축키\n",
        "* :ok"
      ]
    },
    {
      "attachments": {},
      "cell_type": "markdown",
      "metadata": {
        "id": "AUojUcNF766M"
      },
      "source": [
        "## 할당연산"
      ]
    },
    {
      "cell_type": "code",
      "execution_count": null,
      "metadata": {
        "colab": {
          "base_uri": "https://localhost:8080/"
        },
        "id": "GvS13fEn78sr",
        "outputId": "ddbc749c-efdc-4c47-ece5-ef81f1470041"
      },
      "outputs": [
        {
          "data": {
            "text/plain": [
              "10"
            ]
          },
          "execution_count": 44,
          "metadata": {},
          "output_type": "execute_result"
        }
      ],
      "source": [
        "# a = 10\n",
        "# a = a + 10\n",
        "a =  + 10 # 위 식에서 a를 지우면, 양수를 표현하는 10 만남아서, a 에 10 대입\n",
        "a"
      ]
    },
    {
      "cell_type": "code",
      "execution_count": null,
      "metadata": {
        "colab": {
          "base_uri": "https://localhost:8080/"
        },
        "id": "XVtRef_h8Wy_",
        "outputId": "209ac6cf-3d5e-44a3-bce8-241b75d63d48"
      },
      "outputs": [
        {
          "data": {
            "text/plain": [
              "20"
            ]
          },
          "execution_count": 45,
          "metadata": {},
          "output_type": "execute_result"
        }
      ],
      "source": [
        "a = 10\n",
        "a += 10\n",
        "a"
      ]
    },
    {
      "cell_type": "code",
      "execution_count": null,
      "metadata": {
        "colab": {
          "base_uri": "https://localhost:8080/"
        },
        "id": "YqzVAGmU9A9K",
        "outputId": "6952034a-19c6-4e69-ff2e-340d69ebf150"
      },
      "outputs": [
        {
          "data": {
            "text/plain": [
              "1"
            ]
          },
          "execution_count": 50,
          "metadata": {},
          "output_type": "execute_result"
        }
      ],
      "source": [
        "a = 10\n",
        "a //= 10 # = 앞에 산술연산 모두 가능\n",
        "a"
      ]
    },
    {
      "cell_type": "code",
      "execution_count": null,
      "metadata": {
        "id": "L7uXkkfa9Z3D"
      },
      "outputs": [],
      "source": [
        "# Python에서 특이하게 증감연산자 (++a, a++, --a, a--) 가 없습니다."
      ]
    },
    {
      "attachments": {},
      "cell_type": "markdown",
      "metadata": {
        "id": "636avxN29j2g"
      },
      "source": [
        "## 식별연산자"
      ]
    },
    {
      "cell_type": "code",
      "execution_count": null,
      "metadata": {
        "id": "O6AI51ya9ila"
      },
      "outputs": [],
      "source": [
        "# 앞으로 아래 2개 함수를 활용해서 Python에 컨벤션 자료형이 \n",
        "# 어떻게 구성되어있는지 확인해볼겁니다.\n",
        "# id()\n",
        "# is()"
      ]
    },
    {
      "cell_type": "code",
      "execution_count": null,
      "metadata": {
        "colab": {
          "base_uri": "https://localhost:8080/"
        },
        "id": "ohaYRAjs9yNM",
        "outputId": "07737ab6-91c3-461f-fea8-ffd626a248e0"
      },
      "outputs": [
        {
          "name": "stdout",
          "output_type": "stream",
          "text": [
            "139979164213264 139979164213264\n"
          ]
        },
        {
          "data": {
            "text/plain": [
              "True"
            ]
          },
          "execution_count": 58,
          "metadata": {},
          "output_type": "execute_result"
        }
      ],
      "source": [
        "a = 250\n",
        "b = 250\n",
        "print(id(a), id(b))\n",
        "a is b # id가 같은지 확인하는?"
      ]
    },
    {
      "cell_type": "code",
      "execution_count": null,
      "metadata": {
        "colab": {
          "base_uri": "https://localhost:8080/"
        },
        "id": "YQ679xFQ-C9t",
        "outputId": "625fbcc7-4a2b-4bbe-c4c2-c358f40498bd"
      },
      "outputs": [
        {
          "name": "stdout",
          "output_type": "stream",
          "text": [
            "139977916699776 139977914682624\n"
          ]
        },
        {
          "data": {
            "text/plain": [
              "False"
            ]
          },
          "execution_count": 60,
          "metadata": {},
          "output_type": "execute_result"
        }
      ],
      "source": [
        "a = [1,2,3]\n",
        "b = [1,2,3]\n",
        "print(id(a), id(b))\n",
        "a is b"
      ]
    },
    {
      "cell_type": "code",
      "execution_count": null,
      "metadata": {
        "colab": {
          "base_uri": "https://localhost:8080/"
        },
        "id": "63S1TQY6-sc2",
        "outputId": "f8345c19-c145-463e-8177-ca1041af76aa"
      },
      "outputs": [
        {
          "data": {
            "text/plain": [
              "([100, 2, 3], [1, 2, 3])"
            ]
          },
          "execution_count": 61,
          "metadata": {},
          "output_type": "execute_result"
        }
      ],
      "source": [
        "a[0] = 100\n",
        "a, b"
      ]
    },
    {
      "cell_type": "code",
      "execution_count": null,
      "metadata": {
        "colab": {
          "base_uri": "https://localhost:8080/"
        },
        "id": "F20LTgxE-Is_",
        "outputId": "c109b25c-27a1-4783-abf9-38267cb87da9"
      },
      "outputs": [
        {
          "data": {
            "text/plain": [
              "True"
            ]
          },
          "execution_count": 124,
          "metadata": {},
          "output_type": "execute_result"
        }
      ],
      "source": [
        "a = [1,2,3]\n",
        "b = [1,2,3]\n",
        "a == b  # Python에서 등호(==)는 type과 value를 봅니다.\n",
        "# javascript에서 ==는 type과 id를 봐서 false가 나옴"
      ]
    },
    {
      "cell_type": "code",
      "execution_count": null,
      "metadata": {
        "colab": {
          "base_uri": "https://localhost:8080/"
        },
        "id": "iaYmMOvW_XiU",
        "outputId": "bce30cb0-bd6c-4cab-b809-927a7bfe06d0"
      },
      "outputs": [
        {
          "data": {
            "text/plain": [
              "False"
            ]
          },
          "execution_count": 69,
          "metadata": {},
          "output_type": "execute_result"
        }
      ],
      "source": [
        "# is 연산자는 id를 비교합니다.\n",
        "id(a) == id(b) # 이게 False 면 is 도 False"
      ]
    },
    {
      "attachments": {},
      "cell_type": "markdown",
      "metadata": {
        "id": "pbK0VWVJ-3zf"
      },
      "source": [
        "## not의 위치\n"
      ]
    },
    {
      "cell_type": "code",
      "execution_count": null,
      "metadata": {
        "colab": {
          "base_uri": "https://localhost:8080/"
        },
        "id": "mpT3J_Mk-5Hy",
        "outputId": "831c591f-1585-44d3-e0af-eaa9f0828f0e"
      },
      "outputs": [
        {
          "data": {
            "text/plain": [
              "True"
            ]
          },
          "execution_count": 65,
          "metadata": {},
          "output_type": "execute_result"
        }
      ],
      "source": [
        "a = 10\n",
        "b = 100\n",
        "a is not b\n",
        "# a not is b error"
      ]
    },
    {
      "cell_type": "code",
      "execution_count": null,
      "metadata": {
        "colab": {
          "base_uri": "https://localhost:8080/"
        },
        "id": "E29Nx4Gm_ClA",
        "outputId": "54ad3744-2c0b-4ba9-dc42-bee941575b96"
      },
      "outputs": [
        {
          "data": {
            "text/plain": [
              "False"
            ]
          },
          "execution_count": 67,
          "metadata": {},
          "output_type": "execute_result"
        }
      ],
      "source": [
        "a = 10\n",
        "b = [10,20,30]\n",
        "a not in b"
      ]
    },
    {
      "attachments": {},
      "cell_type": "markdown",
      "metadata": {
        "id": "XtqzqFog_lO1"
      },
      "source": [
        "## 멤버연산\n"
      ]
    },
    {
      "cell_type": "code",
      "execution_count": null,
      "metadata": {
        "colab": {
          "base_uri": "https://localhost:8080/"
        },
        "id": "NjevGSmW_mHy",
        "outputId": "fb253ff1-5435-46bb-c0fb-89d04dca4346"
      },
      "outputs": [
        {
          "name": "stdout",
          "output_type": "stream",
          "text": [
            "True\n",
            "False\n",
            "True\n",
            "True\n",
            "True\n",
            "True\n"
          ]
        }
      ],
      "source": [
        "print('a' in 'helalo world')\n",
        "print('a' in 'hello world')\n",
        "print('a' in ['a', 'b'])\n",
        "print('a' in {'a': 10, 'b': 20}) # dictionary에서는 key값만 확인함. \n",
        "# 10 in {'a': 10, 'b': 20} # dictionary에서는 value값을 in으로 확인할 수 없음\n",
        "print(10 in {'a': 10, 'b': 20}.values()) # dict()의 value를 확인하고싶으면 .values() 사용! \n",
        "print(10 in {10, 20, 30})"
      ]
    },
    {
      "cell_type": "code",
      "execution_count": null,
      "metadata": {
        "colab": {
          "base_uri": "https://localhost:8080/"
        },
        "id": "42TpgA3KAMV7",
        "outputId": "7403f81c-20c6-450d-b349-55fecf7c54ce"
      },
      "outputs": [
        {
          "data": {
            "text/plain": [
              "True"
            ]
          },
          "execution_count": 75,
          "metadata": {},
          "output_type": "execute_result"
        }
      ],
      "source": [
        "'a' not in ['aa', 'bb'] # list에 'a' 인 원소는 없어서 not in 의 결과가 True"
      ]
    },
    {
      "cell_type": "code",
      "execution_count": null,
      "metadata": {
        "colab": {
          "base_uri": "https://localhost:8080/"
        },
        "id": "Iv8xQ634DeHM",
        "outputId": "436569c0-05ab-4e1b-b5f3-c0f4e4a58b68"
      },
      "outputs": [
        {
          "data": {
            "text/plain": [
              "True"
            ]
          },
          "execution_count": 88,
          "metadata": {},
          "output_type": "execute_result"
        }
      ],
      "source": [
        "10 in [10,20,30]\n",
        "[10] in [10,20,30]\n",
        "[10] in [[10],20,30]\n",
        "[10, 20] in [10,20,30]\n",
        "[10, 20] in [[10,20],30]\n",
        "# 요소끼리만 확인하고 싶으면 set으로 변환하여 .issubset 함수를 사용...\n",
        "set([10, 20]).issubset(set([10,20,30]))\n",
        "{10, 20}.issubset({10,20,30})"
      ]
    },
    {
      "attachments": {},
      "cell_type": "markdown",
      "metadata": {
        "id": "hH4lQdDUEIy3"
      },
      "source": [
        "## !!연습문제\n"
      ]
    },
    {
      "cell_type": "code",
      "execution_count": null,
      "metadata": {
        "colab": {
          "base_uri": "https://localhost:8080/"
        },
        "id": "I8eE-v-QEK8R",
        "outputId": "d6844c12-b440-4749-bdf0-d01fd1306813"
      },
      "outputs": [
        {
          "name": "stdout",
          "output_type": "stream",
          "text": [
            "False\n",
            "True\n",
            "True\n",
            "True\n"
          ]
        }
      ],
      "source": [
        "#1번\n",
        "a = 100\n",
        "print((a > 100) and (a < 200)  )   # False\n",
        "print((a > 100) or (a < 200)   )   # True\n",
        "print((a >= 100) and (a <= 200))   # True\n",
        "print((a >= 100) or (a <= 200) )   # True"
      ]
    },
    {
      "cell_type": "code",
      "execution_count": null,
      "metadata": {
        "colab": {
          "base_uri": "https://localhost:8080/"
        },
        "id": "vvtkaMh1EMbY",
        "outputId": "05902505-a22b-4619-b962-30900c810a4d"
      },
      "outputs": [
        {
          "data": {
            "text/plain": [
              "False"
            ]
          },
          "execution_count": 97,
          "metadata": {},
          "output_type": "execute_result"
        }
      ],
      "source": [
        "#2번\n",
        "b = 25\n",
        "(b % 2 == 0) and (b % 5 == 0) # False"
      ]
    },
    {
      "cell_type": "code",
      "execution_count": null,
      "metadata": {
        "colab": {
          "base_uri": "https://localhost:8080/"
        },
        "id": "-B5naoRTENGg",
        "outputId": "11cf76b3-b801-4c8c-f7eb-b119fb6f3953"
      },
      "outputs": [
        {
          "data": {
            "text/plain": [
              "10"
            ]
          },
          "execution_count": 98,
          "metadata": {},
          "output_type": "execute_result"
        }
      ],
      "source": [
        "#3번\n",
        "c = 1000\n",
        "# 결과값은 10입니다.\n",
        "answer = c // 100\n",
        "if c % 100 != 0:\n",
        "    answer += 1\n",
        "\n",
        "answer"
      ]
    },
    {
      "cell_type": "code",
      "execution_count": null,
      "metadata": {
        "colab": {
          "base_uri": "https://localhost:8080/"
        },
        "id": "ftWnL41YENmz",
        "outputId": "e51315b7-d3be-4eba-f80d-a01179125cee"
      },
      "outputs": [
        {
          "name": "stdout",
          "output_type": "stream",
          "text": [
            "금액을 입력해주세요! :8800\n",
            "[3, 1, 3, 1]\n"
          ]
        }
      ],
      "source": [
        "#4번\n",
        "# 그리디 알고리즘\n",
        "\n",
        "user_input = int(input('금액을 입력해주세요! :'))\n",
        "money_unit = [100, 500, 1000, 5000]\n",
        "\n",
        "def solution(input):\n",
        "    result = []\n",
        "    while money_unit:\n",
        "        now = money_unit.pop()\n",
        "        result.append(input//now)\n",
        "        input -= (input//now) * now\n",
        "    \n",
        "    result.reverse()\n",
        "    return result\n",
        "\n",
        "print(solution(user_input))\n"
      ]
    },
    {
      "cell_type": "code",
      "execution_count": null,
      "metadata": {
        "colab": {
          "base_uri": "https://localhost:8080/"
        },
        "id": "TLFSv4X1NmVO",
        "outputId": "8eed8905-c484-4d8d-bdf6-da797e614070"
      },
      "outputs": [
        {
          "name": "stdout",
          "output_type": "stream",
          "text": [
            "8800\n",
            "1 3 1 3\n"
          ]
        }
      ],
      "source": [
        "#4번 강사님 풀이\n",
        "남은금액 = int(input())\n",
        "오천원 = 남은금액 // 5000\n",
        "남은금액 = 남은금액%5000\n",
        "\n",
        "천원 = 남은금액 // 1000\n",
        "남은금액 = 남은금액%1000\n",
        "\n",
        "오백원 = 남은금액 // 500\n",
        "남은금액 = 남은금액%500\n",
        "\n",
        "백원 = 남은금액 // 100\n",
        "남은금액 = 남은금액%100\n",
        "\n",
        "print(오천원, 천원, 오백원, 백원)"
      ]
    },
    {
      "attachments": {},
      "cell_type": "markdown",
      "metadata": {
        "id": "eZjk3mjyVnl5"
      },
      "source": [
        "## !! 오늘 배운 것 정리 230502\n",
        "\n",
        "1. str\n",
        "    - 순서가 있는 **시퀀스 자료형**입니다.\n",
        "    - 작은 따옴표(' ')나 큰 따옴표(\" \"), 삼중따옴표('''str''', \"\"\"str\"\"\")로 감싸는 것도 가능합니다. <br/>(삼중따옴표를 사용할 경우에는 줄단위의 문자열을 나타낼 수 있습니다.)\n",
        "    - 작은 따옴표 안에 큰 따옴표, 큰 따옴표 안에 작은 따옴표 사용이 가능합니다.\n",
        "    - 이스케이프 문자도 사용이 가능합니다.\n",
        "    - 리스트, 튜플도 시퀀스 자료형입니다.\n",
        "    - 메서드\n",
        "        - lower\n",
        "        - index, find\n",
        "        - count\n",
        "        - strip\n",
        "        - replace\n",
        "        - split, join\n",
        "        - isdigit\n",
        "2. 슬라이싱\n",
        "    - 시퀀스형 자료형을 자를 수 있습니다.\n",
        "    - 형태\n",
        "    ```\n",
        "    # s[start:stop:step]\n",
        "    s = 'paullab CEO leehojun'\n",
        "    s[5:]\n",
        "    s[:5]\n",
        "    s[3:10]\n",
        "    s[:]\n",
        "    s[0:20:2]\n",
        "    # 자주 사용되는 코드\n",
        "    s = 'paullab CEO leehojun!'\n",
        "    s[:] # string에서는 많이 사용하지 않지만 list에서 많이 사용합니다.\n",
        "    s[:-1] # 마지막 요소만 제외하고 다 슬라이싱 합니다.\n",
        "    ```\n",
        "\n",
        "3. 형변환\n",
        "    - 형변환 : type을 변경하는 것입니다.\n",
        "    - int, float, str 등 자료형에 이름으로 형태를 변경할 수 있습니다.\n",
        "    - 그 중에서도 bool이 매우 중요합니다.\n",
        "    ```\n",
        "    # 별 5개\n",
        "    # bool 형으로 형변환 하는 것\n",
        "    if True:\n",
        "        print('hi')\n",
        "\n",
        "    if 'hello':\n",
        "        print('hi')\n",
        "\n",
        "    # 정말 많이 사용하는 코드\n",
        "    l = [1, 2, 3]\n",
        "    while l:\n",
        "        print(l.pop())\n",
        "\n",
        "    bool('') # 빈 문자열을 제외하고 모두 True\n",
        "    bool('a')\n",
        "    bool('False') # 문자열 False이기 때문에 True\n",
        "    bool(0) # 0을 제외하고 모두 True\n",
        "    bool(-1)\n",
        "    bool(100)\n",
        "    bool(None) # None은 비어있음을 명시해주는 키워드, False\n",
        "    bool([]) # 컨벤션 자료형은 비어있으면 False입니다.\n",
        "    bool({})\n",
        "    ```\n",
        "\n",
        "4. 산술연산\n",
        "    ```\n",
        "    a = 10\n",
        "    b = 3\n",
        "\n",
        "    print(f'10 + 3 == {a + b}')\n",
        "    print(f'10 - 3 == {a - b}')\n",
        "    print(f'10 / 3 == {a / b}')\n",
        "    print(f'10 // 3 == {a // b}') # 몫만 나옵니다.(정수만요!)\n",
        "    print(f'10 * 3 == {a * b}')\n",
        "    print(f'10 ** 3 == {a ** b}')\n",
        "    print(f'10 % 3 == {a % b}') # 나머지\n",
        "    ```\n",
        "\n",
        "5. 논리연산\n",
        "    ```\n",
        "    # and 는 곱\n",
        "    # or 는 합\n",
        "    # not은 반대\n",
        "    # True 1\n",
        "    # False 0\n",
        "    # 중요한 포인트는 저렇게 했을 때 언제 True가 되는지 정리하는 것\n",
        "\n",
        "    print(True and False)\n",
        "    print(True or False)\n",
        "    print(True or True)\n",
        "\n",
        "    # https://codingdojang.com/scode/350?answer_mode=hide\n",
        "    for i in range(101):\n",
        "        if i % 3 == 0 and i % 5 == 0:\n",
        "            print(i)\n",
        "    ```\n",
        "\n",
        "6. 할당연산\n",
        "    ```\n",
        "    a = 10\n",
        "    a += 10 # a = a + 10\n",
        "    a //= 2\n",
        "...\n",
        "\n",
        "7. is, in\n",
        "    1. is\n",
        "        ```\n",
        "        a = [1, 2, 3]\n",
        "        b = [1, 2, 3]\n",
        "\n",
        "        id(a), id(b)\n",
        "        a == b # 값이 같은 것과 메모리에 같은 공간에 저장되어 있다는 얘기는 다른 얘기입니다!\n",
        "        ```\n",
        "    2. in\n",
        "        ```\n",
        "        'a' in 'helalo world'\n",
        "        'a' in 'hello world'\n",
        "        'a' in ['a', 'b']\n",
        "        'a' in {'a':10, 'b':20}\n",
        "        # 10 in {'a':10, 'b':20} # dict안에있는 value값이 있는지 확인하고 싶으면\n",
        "        10 in {'a':10, 'b':20}.values()\n",
        "        10 in {10, 20, 30}\n",
        "        ```"
      ]
    },
    {
      "attachments": {},
      "cell_type": "markdown",
      "metadata": {
        "id": "vAi8hqCdzho4"
      },
      "source": [
        "## ipynb를 md 파일로 다운로드 하는 명령어\n",
        "* `!`로 시작하는 것은 쉘 명령어입니다 \n",
        "* !jupyter nbconvert --to markdown a.ipynb"
      ]
    },
    {
      "attachments": {},
      "cell_type": "markdown",
      "metadata": {
        "id": "x81_fYwZ6cmI"
      },
      "source": [
        "## 함수"
      ]
    },
    {
      "attachments": {},
      "cell_type": "markdown",
      "metadata": {
        "id": "yQuH6D__8Rm4"
      },
      "source": [
        "1. 코드를 재사용 할 수 있으며, 실수를 줄일 수 있습니다.\n",
        "2. 코드의 구조를 한 눈에 파악할 수 있습니다."
      ]
    },
    {
      "cell_type": "code",
      "execution_count": null,
      "metadata": {
        "id": "28PWfNTr8U2D"
      },
      "outputs": [],
      "source": [
        "def 부지매입():\n",
        "    pass\n",
        "\n",
        "def 설계도면작성():\n",
        "    pass\n",
        "\n",
        "def 인력모집():\n",
        "    pass\n",
        "\n",
        "def 벽돌쌓기():\n",
        "    pass\n",
        "\n",
        "def 지붕올리기():\n",
        "    pass\n",
        "\n",
        "# 함수 이름만 봐도... --> 건축 또는 집짓기?\n",
        "# 새로운 사람이 코드을 읽을 때(ex 신입사원이 왔을 때)\n",
        "# 3년에 한 번 이직\n",
        "# 7년에 한 번 이직\n",
        "# 오래 있으신 분들\n",
        "부지매입()\n",
        "설계도면작성()\n",
        "인력모집()\n",
        "벽돌쌓기()\n",
        "지붕올리기()"
      ]
    },
    {
      "cell_type": "code",
      "execution_count": null,
      "metadata": {
        "colab": {
          "base_uri": "https://localhost:8080/"
        },
        "id": "kPQggz44-mzB",
        "outputId": "f7dcdbb7-09fe-4e1a-8805-1baf04a49b4a"
      },
      "outputs": [
        {
          "name": "stdout",
          "output_type": "stream",
          "text": [
            "function(5, 7) = 12\n"
          ]
        }
      ],
      "source": [
        "# 파선아실 : 파라미터는 선언할 때, 아규먼트는 실제\n",
        "# x, y 는 파라미터, 5, 7 은 아규먼트\n",
        "def function(x, y):\n",
        "    z = x + y\n",
        "    return z\n",
        "print(f'function(5, 7) = {function(5, 7)}')"
      ]
    },
    {
      "cell_type": "code",
      "execution_count": null,
      "metadata": {
        "colab": {
          "base_uri": "https://localhost:8080/"
        },
        "id": "zRfutzTP_kVW",
        "outputId": "34d742a3-12be-4df1-965e-c54bd86bf7e0"
      },
      "outputs": [
        {
          "name": "stdout",
          "output_type": "stream",
          "text": [
            "function(5, 7) = None\n"
          ]
        }
      ],
      "source": [
        "# 같은 코드 1\n",
        "def function(x, y):\n",
        "    z = x + y\n",
        "print(f'function(5, 7) = {function(5, 7)}')"
      ]
    },
    {
      "cell_type": "code",
      "execution_count": null,
      "metadata": {
        "colab": {
          "base_uri": "https://localhost:8080/"
        },
        "id": "vTvi1KkB_ntQ",
        "outputId": "cab71052-baf9-4d0a-d67e-b8dd69531ed2"
      },
      "outputs": [
        {
          "name": "stdout",
          "output_type": "stream",
          "text": [
            "function(5, 7) = None\n"
          ]
        }
      ],
      "source": [
        "# 같은 코드 2\n",
        "def function(x, y):\n",
        "    z = x + y\n",
        "    return None\n",
        "print(f'function(5, 7) = {function(5, 7)}')"
      ]
    },
    {
      "cell_type": "code",
      "execution_count": null,
      "metadata": {
        "colab": {
          "base_uri": "https://localhost:8080/"
        },
        "id": "TsEGwQOw_w0B",
        "outputId": "80d684bc-7be3-4c99-8ace-84545c2702fa"
      },
      "outputs": [
        {
          "name": "stdout",
          "output_type": "stream",
          "text": [
            "function(5, 7) = None\n"
          ]
        }
      ],
      "source": [
        "# 같은 코드 3\n",
        "def function(x, y):\n",
        "    z = x + y\n",
        "    return\n",
        "print(f'function(5, 7) = {function(5, 7)}')"
      ]
    },
    {
      "cell_type": "code",
      "execution_count": null,
      "metadata": {
        "colab": {
          "base_uri": "https://localhost:8080/"
        },
        "id": "aDDNWZIw-OZO",
        "outputId": "f2542295-d5b4-4840-9a2d-687d57b02322"
      },
      "outputs": [
        {
          "name": "stdout",
          "output_type": "stream",
          "text": [
            "1\n",
            "2\n",
            "3\n",
            "None\n"
          ]
        }
      ],
      "source": [
        "def hello():\n",
        "    print('1')\n",
        "    print('2')\n",
        "    print('3')\n",
        "\n",
        "print(hello())"
      ]
    },
    {
      "cell_type": "code",
      "execution_count": null,
      "metadata": {
        "colab": {
          "base_uri": "https://localhost:8080/"
        },
        "id": "KLT-xUnIAho9",
        "outputId": "92e04748-9c60-4064-d4f0-d6ec5edb4cf2"
      },
      "outputs": [
        {
          "name": "stdout",
          "output_type": "stream",
          "text": [
            "two1\n",
            "two2\n",
            "one1\n",
            "one2\n",
            "one3\n",
            "None\n"
          ]
        }
      ],
      "source": [
        "# 함수 연습문제 1\n",
        "def one():\n",
        "    print('one1')\n",
        "    print('one2')\n",
        "    print('one3')\n",
        "    return 100\n",
        "\n",
        "def two():\n",
        "    print('two1')\n",
        "    print('two2')\n",
        "    one()\n",
        "    return\n",
        "\n",
        "print(two())"
      ]
    },
    {
      "cell_type": "code",
      "execution_count": null,
      "metadata": {
        "id": "XQFnRPk1Bb8m"
      },
      "outputs": [],
      "source": [
        "# 함수 연습문제 2\n",
        "def one():\n",
        "    print('one1')\n",
        "    print('one2')\n",
        "    print('one3')\n",
        "    return 100\n",
        "\n",
        "def two():\n",
        "    print('two1')\n",
        "    print('two2')\n",
        "    x = one()\n",
        "    return x + x\n",
        "\n",
        "print(two())"
      ]
    },
    {
      "cell_type": "code",
      "execution_count": null,
      "metadata": {
        "colab": {
          "base_uri": "https://localhost:8080/"
        },
        "id": "4ED8H3w6CTfR",
        "outputId": "a20b8aa6-f35c-4d9f-94ce-755292cf35c6"
      },
      "outputs": [
        {
          "name": "stdout",
          "output_type": "stream",
          "text": [
            "two1\n",
            "two2\n",
            "one1\n",
            "one2\n",
            "one3\n",
            "220\n"
          ]
        }
      ],
      "source": [
        "# 함수 연습문제 3\n",
        "def one(a, b):\n",
        "    print('one1')\n",
        "    print('one2')\n",
        "    print('one3')\n",
        "    return a+b\n",
        "\n",
        "def two(x):\n",
        "    y = 100\n",
        "    print('two1')\n",
        "    print('two2')\n",
        "    x = one(x, y)\n",
        "    return x + x\n",
        "\n",
        "print(two(10))"
      ]
    },
    {
      "cell_type": "code",
      "execution_count": null,
      "metadata": {
        "colab": {
          "base_uri": "https://localhost:8080/"
        },
        "id": "fq0TsvT_EDgk",
        "outputId": "202b1217-0716-43d4-e103-13257d9ff89c"
      },
      "outputs": [
        {
          "name": "stdout",
          "output_type": "stream",
          "text": [
            "one\n",
            "two\n",
            "three\n",
            "20\n",
            "30\n",
            "\n",
            " 좋지 않은 예\n",
            "one\n",
            "two\n",
            "20\n",
            "one\n",
            "two\n",
            "three\n",
            "30\n"
          ]
        }
      ],
      "source": [
        "# 함수 연습문제 4\n",
        "def one():\n",
        "    print('one')\n",
        "    return 10\n",
        "\n",
        "def two():\n",
        "    print('two')\n",
        "    return 10\n",
        "\n",
        "def three():\n",
        "    print('three')\n",
        "    return 10\n",
        "\n",
        "a = one()\n",
        "b = two()\n",
        "c = three()\n",
        "print(a+b)\n",
        "print(a+b+c)\n",
        "print('\\n 좋지 않은 예')\n",
        "# 좋지 않은 예\n",
        "print(one() + two())\n",
        "print(one() + two() + three())\n",
        "#결과는 변수에 저장해서 사용하라!"
      ]
    },
    {
      "cell_type": "code",
      "execution_count": null,
      "metadata": {
        "colab": {
          "base_uri": "https://localhost:8080/"
        },
        "id": "AqNTr-86IzYI",
        "outputId": "142f71f5-cefe-448a-da85-01aa776e861d"
      },
      "outputs": [
        {
          "name": "stdout",
          "output_type": "stream",
          "text": [
            "hello world\n"
          ]
        }
      ],
      "source": [
        "# 함수란 무엇일까요?\n",
        "# 함수의 이름은 메모리 상의 코드 블럭을 가리키는 변수입니다.\n",
        "leehojun = print\n",
        "leehojun('hello world') # 소괄호는 가리키는 함수 블록을 실행시키는 명령어가 됩니다."
      ]
    },
    {
      "cell_type": "code",
      "execution_count": null,
      "metadata": {
        "colab": {
          "base_uri": "https://localhost:8080/"
        },
        "id": "EUZQ8S4eJamY",
        "outputId": "7635da7c-f4ca-497c-a863-510541b40170"
      },
      "outputs": [
        {
          "data": {
            "text/plain": [
              "(140487111775536, 140487111775536)"
            ]
          },
          "execution_count": 15,
          "metadata": {},
          "output_type": "execute_result"
        }
      ],
      "source": [
        "id(leehojun), id(print)"
      ]
    },
    {
      "cell_type": "code",
      "execution_count": null,
      "metadata": {
        "colab": {
          "base_uri": "https://localhost:8080/"
        },
        "id": "qS0x3gOTJgUT",
        "outputId": "eae9a8c4-922c-44d2-833f-223d53870432"
      },
      "outputs": [
        {
          "name": "stdout",
          "output_type": "stream",
          "text": [
            "hello\n",
            "hi\n"
          ]
        }
      ],
      "source": [
        "# 함수는 단순 변수처럼 활용할 수 있다!\n",
        "l = [leehojun, print, leehojun ,print]\n",
        "leehojun('hello')\n",
        "l[0]('hi')"
      ]
    },
    {
      "cell_type": "code",
      "execution_count": null,
      "metadata": {
        "colab": {
          "base_uri": "https://localhost:8080/"
        },
        "id": "--xJyOsjJ46I",
        "outputId": "87e0209f-d908-4a6b-ecdf-3902da4e3a3e"
      },
      "outputs": [
        {
          "name": "stdout",
          "output_type": "stream",
          "text": [
            "hello\n",
            "hello\n",
            "hello\n",
            "None\n"
          ]
        }
      ],
      "source": [
        "# 함수에 아규먼트로 함수를 넘겨줄 수 있다! 왜냐하면 변수처럼 다루니깐\n",
        "def hello(a):\n",
        "    a('hello')\n",
        "    a('hello')\n",
        "    a('hello')\n",
        "\n",
        "print(hello(print))"
      ]
    },
    {
      "cell_type": "code",
      "execution_count": null,
      "metadata": {
        "colab": {
          "base_uri": "https://localhost:8080/"
        },
        "id": "R7Adv0loKZcn",
        "outputId": "b6dfc9a7-829c-47a2-ddd1-ee926e687396"
      },
      "outputs": [
        {
          "data": {
            "text/plain": [
              "110"
            ]
          },
          "execution_count": 20,
          "metadata": {},
          "output_type": "execute_result"
        }
      ],
      "source": [
        "def hello():\n",
        "    def custom_sum(a,b): # 중첩함수. Nested Function\n",
        "        return a+b\n",
        "    return custom_sum\n",
        "\n",
        "c = hello() # hello의 return 인 custom_sum\n",
        "c(10,100)"
      ]
    },
    {
      "attachments": {},
      "cell_type": "markdown",
      "metadata": {
        "id": "PJoKifg9Md9p"
      },
      "source": [
        "## 함수의 기본 기능"
      ]
    },
    {
      "cell_type": "code",
      "execution_count": null,
      "metadata": {
        "id": "LYjmwcVWMhGb"
      },
      "outputs": [],
      "source": [
        "# 파선아실 : 파라미터는 선언할 때, 아규먼트는 실제\n",
        "# x, y 는 파라미터, 5, 7 은 아규먼트\n",
        "def function(x, y):\n",
        "    z = x + y\n",
        "    return z\n",
        "print(f'function(5, 7) = {function(5, 7)}')"
      ]
    },
    {
      "cell_type": "code",
      "execution_count": null,
      "metadata": {
        "colab": {
          "base_uri": "https://localhost:8080/"
        },
        "id": "Ng3p6go5Msgh",
        "outputId": "58604cd5-39ff-4b73-a0ba-b11dffeb1b17"
      },
      "outputs": [
        {
          "name": "stdout",
          "output_type": "stream",
          "text": [
            "12\n"
          ]
        }
      ],
      "source": [
        "# return을 만나게 되면 함수는 종료가 됩니다.\n",
        "def function(x, y):\n",
        "    z = x + y\n",
        "    return z\n",
        "    print('hello') # return 이후 코드라서 실행되지 않음\n",
        "print(function(5, 7))"
      ]
    },
    {
      "cell_type": "code",
      "execution_count": null,
      "metadata": {
        "colab": {
          "base_uri": "https://localhost:8080/"
        },
        "id": "2Wb22q-3NCGv",
        "outputId": "6a64f00f-dcdc-422d-ca76-ad0ddca4cf7d"
      },
      "outputs": [
        {
          "name": "stdout",
          "output_type": "stream",
          "text": [
            "연산할 수 없습니다.\n"
          ]
        }
      ],
      "source": [
        "# return을 빨리 만나게 해주세요 ==> early return 기법!!\n",
        "# 조건이 부합하지 않으면 바로 return을 하도록 하는 코딩 패턴\n",
        "# 이렇게 작성함으로써, 가독성이 좋은 코드\n",
        "def custom_sum(x, y):\n",
        "    ## 숫자가 아닐 때\n",
        "    if (type(x) != int and type(x)!= float) or ( type(y) != int and type(y) != float):\n",
        "        return '연산할 수 없습니다.'                        ## 함수 종료하면서 문자열 출력\n",
        "    z = x + y       # 여기가 100 줄이라고 가정하면... 조건을 미리 판별하는게 성능면에서 좋음\n",
        "    return z\n",
        "\n",
        "print(custom_sum(5, 'abc'))"
      ]
    },
    {
      "cell_type": "code",
      "execution_count": null,
      "metadata": {
        "id": "7pozc27tOAwt"
      },
      "outputs": [],
      "source": [
        "# 한글코딩의 장점\n",
        "# 1. 고유명사(한라산, 새싹멤버) -> 기획자와 소통하기도 좋습니다.\n",
        "# 2. 알고리즘 가독성은 괜찮습니다.\n",
        "\n",
        "# 한글코딩의 단점\n",
        "# 싫어하시는 분도 많습니다.\n",
        "# 한영키 바꾸는 것\n",
        "# 프로젝터는 조금 힘들 수 있어요. 일부 모듈에서만 사용할 수 있습니다."
      ]
    },
    {
      "cell_type": "code",
      "execution_count": null,
      "metadata": {
        "colab": {
          "base_uri": "https://localhost:8080/"
        },
        "id": "EkYD3y46QVC1",
        "outputId": "301daaec-752b-43f4-9527-567d03537b99"
      },
      "outputs": [
        {
          "name": "stdout",
          "output_type": "stream",
          "text": [
            "100\n"
          ]
        }
      ],
      "source": [
        "# 함수 안에 함수를 만들 수 있다. 중첩함수(Nested Function)\n",
        "\n",
        "def one():\n",
        "    def two():\n",
        "        print('hello1')\n",
        "    def three():\n",
        "        print('hello2')\n",
        "    return 100\n",
        "print(one())"
      ]
    },
    {
      "cell_type": "code",
      "execution_count": null,
      "metadata": {
        "colab": {
          "base_uri": "https://localhost:8080/",
          "height": 248
        },
        "id": "GgwumNLeQudX",
        "outputId": "36436035-c0a3-4f9f-9df9-ec0daa09aa7c"
      },
      "outputs": [
        {
          "name": "stdout",
          "output_type": "stream",
          "text": [
            "hello1\n",
            "hello2\n"
          ]
        },
        {
          "ename": "NameError",
          "evalue": "ignored",
          "output_type": "error",
          "traceback": [
            "\u001b[0;31m---------------------------------------------------------------------------\u001b[0m",
            "\u001b[0;31mNameError\u001b[0m                                 Traceback (most recent call last)",
            "\u001b[0;32m<ipython-input-1-7552550a2195>\u001b[0m in \u001b[0;36m<cell line: 14>\u001b[0;34m()\u001b[0m\n\u001b[1;32m     12\u001b[0m \u001b[0mone\u001b[0m\u001b[0;34m(\u001b[0m\u001b[0;34m)\u001b[0m\u001b[0;34m\u001b[0m\u001b[0;34m\u001b[0m\u001b[0m\n\u001b[1;32m     13\u001b[0m \u001b[0;31m# print(x) # NameError : name 'x' is not defined\u001b[0m\u001b[0;34m\u001b[0m\u001b[0;34m\u001b[0m\u001b[0m\n\u001b[0;32m---> 14\u001b[0;31m \u001b[0mtwo\u001b[0m\u001b[0;34m(\u001b[0m\u001b[0;34m)\u001b[0m\u001b[0;34m\u001b[0m\u001b[0;34m\u001b[0m\u001b[0m\n\u001b[0m",
            "\u001b[0;31mNameError\u001b[0m: name 'two' is not defined"
          ]
        }
      ],
      "source": [
        "# 함수 안의 함수와 변수는 밖에서 호출할 수 없습니다.\n",
        "# 함수가 끝나면 함수 내부에 있던 것들은 초기화 된다고 생각하면 됨 --> scope 공부 필요\n",
        "# 만약 print(x), two()실행됬다면 two()와 x가 정의되어있을 것임... jupyter notebook의 런타임 문제!\n",
        "def one():\n",
        "    def two():\n",
        "        print('hello1')\n",
        "    def three():\n",
        "        print('hello2')\n",
        "    two()\n",
        "    three()\n",
        "    x= 1000\n",
        "    return 100\n",
        "one()\n",
        "# print(x)  # NameError : name 'x' is not defined\n",
        "# two()     # NameError : name 'two' is not defined"
      ]
    },
    {
      "cell_type": "code",
      "execution_count": null,
      "metadata": {
        "colab": {
          "base_uri": "https://localhost:8080/"
        },
        "id": "69-ln-egRjKz",
        "outputId": "a3ede22c-1aa3-4981-c38b-f7cd6b31ab21"
      },
      "outputs": [
        {
          "name": "stdout",
          "output_type": "stream",
          "text": [
            "test\n",
            "test\n",
            "test\n"
          ]
        }
      ],
      "source": [
        "# 함수 안의 함수와 변수를 해보았으니\n",
        "# 이번에는 함수 밖에 함수와 변수를 해보도록 하겠습니다.\n",
        "\n",
        "def test():\n",
        "    print('test')\n",
        "\n",
        "def one():\n",
        "    test()  # 함수 scope 기준에서 밖에 있는 함수를 호출한 상황. 가능하다!!!!\n",
        "\n",
        "def two():\n",
        "    test()\n",
        "\n",
        "one()\n",
        "two()\n",
        "test()"
      ]
    },
    {
      "cell_type": "code",
      "execution_count": null,
      "metadata": {
        "colab": {
          "base_uri": "https://localhost:8080/"
        },
        "id": "mO-zJD1USgLX",
        "outputId": "c586cd72-dad3-4471-ea7d-1a930d4976c3"
      },
      "outputs": [
        {
          "name": "stdout",
          "output_type": "stream",
          "text": [
            "10\n",
            "10\n"
          ]
        }
      ],
      "source": [
        "# 위 원리와 마찬가지로 밖에 있는 변수를 '가져오는 것' 만 가능합니다.\n",
        "# 수정은 안됩니다.\n",
        "test = 10\n",
        "\n",
        "def one():\n",
        "    print(test)\n",
        "\n",
        "def two():\n",
        "    print(test)\n",
        "\n",
        "one()\n",
        "two()"
      ]
    },
    {
      "cell_type": "code",
      "execution_count": null,
      "metadata": {
        "id": "0dj78B7lS29L"
      },
      "outputs": [],
      "source": [
        "# 위 원리와 마찬가지로 밖에 있는 변수를 '가져오는 것' 만 가능합니다.\n",
        "# 밖에 있는 변수의 수정이 안됨!\n",
        "test = 10\n",
        "\n",
        "def one():\n",
        "    test += 10 # UnboundLocalError: local variable 'test' referenced before assignment\n",
        "\n",
        "one()"
      ]
    },
    {
      "attachments": {},
      "cell_type": "markdown",
      "metadata": {
        "id": "V1vZXV9WTDK3"
      },
      "source": [
        "## 지역 변수와 전역 변수"
      ]
    },
    {
      "cell_type": "code",
      "execution_count": null,
      "metadata": {
        "id": "2z--xqQYTFXz"
      },
      "outputs": [],
      "source": [
        "# 전역변수에 접근은 가증하지만 수정이 되진 않습니다.\n",
        "a = 100\n",
        "def f():\n",
        "    a = a+10 # error\n",
        "f()"
      ]
    },
    {
      "attachments": {},
      "cell_type": "markdown",
      "metadata": {
        "id": "CpEnwS-wbE4g"
      },
      "source": [
        "### global\n",
        "* 전역변수임을 알려주는 예약어 **`global`**"
      ]
    },
    {
      "cell_type": "code",
      "execution_count": null,
      "metadata": {
        "colab": {
          "base_uri": "https://localhost:8080/"
        },
        "id": "cpNG9PFgXSR3",
        "outputId": "2592c417-92cf-4492-d283-2813076e4b37"
      },
      "outputs": [
        {
          "name": "stdout",
          "output_type": "stream",
          "text": [
            "101\n"
          ]
        }
      ],
      "source": [
        "# 전역변수를 함수 내부에서 수정이 되게 하는 코드입니다.\n",
        "# 권하지 않습니다.\n",
        "a = 100\n",
        "def f():\n",
        "    global a    # 실무에서 사용 안합니다.\n",
        "    a = a+1     # 전역변수는 함수 스코프에서 수정이 가능합니다\n",
        "f()\n",
        "print(a)"
      ]
    },
    {
      "cell_type": "code",
      "execution_count": null,
      "metadata": {
        "colab": {
          "base_uri": "https://localhost:8080/"
        },
        "id": "q-P5JBScXrMQ",
        "outputId": "16eddd82-1ffe-40db-91b6-cadd01f53b4e"
      },
      "outputs": [
        {
          "name": "stdout",
          "output_type": "stream",
          "text": [
            "101\n"
          ]
        }
      ],
      "source": [
        "# 정해진 루트 외에 다른 루트로 값을 수정하려고 하지 마세요...\n",
        "# 밖의 값을 수정하고 싶을 때에는 이런 방식으로 해야 합니다.\n",
        "a = 100\n",
        "def f(a):\n",
        "    return a+1\n",
        "a = f(a)\n",
        "print(a)"
      ]
    },
    {
      "cell_type": "code",
      "execution_count": null,
      "metadata": {
        "colab": {
          "base_uri": "https://localhost:8080/"
        },
        "id": "_Mk7_LhbX5Wz",
        "outputId": "e90ff891-cbcc-49d9-cbe7-064b1998edde"
      },
      "outputs": [
        {
          "data": {
            "text/plain": [
              "140"
            ]
          },
          "execution_count": 13,
          "metadata": {},
          "output_type": "execute_result"
        }
      ],
      "source": [
        "# 순수함수 : 밖의 변수를 사용하지 않아 예측이 가능한 함수\n",
        "def f(x):\n",
        "    return x + x + 100\n",
        "\n",
        "f(10)\n",
        "f(20) \n",
        "# 아규먼트 값에 따라 다르지만 아규먼트의 2배 + 100 이라는 사실은 변하지 않음."
      ]
    },
    {
      "cell_type": "code",
      "execution_count": null,
      "metadata": {
        "id": "8TgF6-q6YTs4"
      },
      "outputs": [],
      "source": [
        "# 순수함수가 아닌것\n",
        "test = 100\n",
        "def f(x):\n",
        "    return x + x + 100 + test\n",
        "\n",
        "f(10)\n",
        "# 아규먼트 값에 따라 다르지만\n",
        "# 아규먼트의 2배 + 200 이라는 사실은 변하지 않는가?? --> no\n",
        "# test 값이 다른 곳에서 조작되어 값이 변경되면  +200 이 안될 수 있음\n",
        "# 예측이 불가능하게 되는 문제가 발생함!!!!!"
      ]
    },
    {
      "cell_type": "code",
      "execution_count": null,
      "metadata": {
        "id": "vmzyLIoIYyyF"
      },
      "outputs": [],
      "source": [
        "# 지역변수와 전역변수 이어서\n",
        "# 전역변수 : 전역에서 접근할 수 있는 변수\n",
        "# 지역변수 : 함수 내에서만 접근 할 수 있는 변수"
      ]
    },
    {
      "cell_type": "code",
      "execution_count": null,
      "metadata": {
        "colab": {
          "base_uri": "https://localhost:8080/"
        },
        "id": "3TU2TqzIZK5Y",
        "outputId": "ffd32803-7789-498d-814e-5014ee921e59"
      },
      "outputs": [
        {
          "name": "stdout",
          "output_type": "stream",
          "text": [
            "10\n",
            "100\n"
          ]
        }
      ],
      "source": [
        "a = 100\n",
        "def one():\n",
        "    a = 10\n",
        "    print(a)\n",
        "\n",
        "one()\n",
        "print(a)"
      ]
    },
    {
      "cell_type": "code",
      "execution_count": null,
      "metadata": {
        "colab": {
          "base_uri": "https://localhost:8080/"
        },
        "id": "MXVmu_XBZ3I4",
        "outputId": "591504e8-0bb7-4126-e590-c310395d2b15"
      },
      "outputs": [
        {
          "name": "stdout",
          "output_type": "stream",
          "text": [
            "1000\n",
            "10\n",
            "10\n",
            "100\n"
          ]
        }
      ],
      "source": [
        "# 자신의 공간에 변수가 선언되어 있지 않다면 바깥쪽으로 전역까지 1 scope씩 찾아 올라갑니다.\n",
        "# 안쪽으로는 찾지 않습니다\n",
        "# 전역에도 없으면 error를 발생시킵니다.\n",
        "\n",
        "a = 100\n",
        "def one():\n",
        "    a = 10\n",
        "    def two():\n",
        "        def three():\n",
        "            a = 1000\n",
        "            print(a)\n",
        "        three()\n",
        "        print(a)\n",
        "\n",
        "    two()\n",
        "    print(a)\n",
        "\n",
        "one()\n",
        "print(a)"
      ]
    },
    {
      "cell_type": "code",
      "execution_count": null,
      "metadata": {
        "id": "aN78WkZb0zW5"
      },
      "outputs": [],
      "source": [
        "# 변수를 탐색할 때 함수 함수 스코프 전체를 읽기 때문에\n",
        "# two() 함수에서 print(a) 아래에 a를 선언하면\n",
        "# two() 함수 스코프에 a 가 있는데 정의되기 전으로 인식하여\n",
        "# 에러가 발생함!\n",
        "a = 100\n",
        "def one():\n",
        "    a = 10\n",
        "    def two():\n",
        "        def three():\n",
        "            a = 1000\n",
        "            print(a)\n",
        "        three()\n",
        "        print(a)\n",
        "        # a = 10 # UnboundLocalError: local variable 'a' referenced before assignment\n",
        "\n",
        "    two()\n",
        "    print(a)\n",
        "\n",
        "one()\n",
        "print(a)"
      ]
    },
    {
      "attachments": {},
      "cell_type": "markdown",
      "metadata": {
        "id": "ASHz-ws3bObL"
      },
      "source": [
        "### nonlocal\n",
        "* 함수 내에서 중첩된 함수를 사용할 경우 문제가 발생할 수 있습니다. \n",
        "* 중첩된 함수에서 변수를 사용할 때, 사용한 변수가 지역변수가 아닌 전역변수로 인식되어 예상치 못한 결과가 발생할 수 있습니다. \n",
        "* 이때, **`nonlocal`**키워드를 사용하여 변수가 전역변수가 아닌, 해당 중첩된 함수 내에서 사용되는 변수임을 명시해줄 수 있습니다."
      ]
    },
    {
      "cell_type": "code",
      "execution_count": null,
      "metadata": {
        "colab": {
          "base_uri": "https://localhost:8080/"
        },
        "id": "QiLcW44zbQzk",
        "outputId": "2610c704-2e41-4347-e8da-e8e41ec406c1"
      },
      "outputs": [
        {
          "name": "stdout",
          "output_type": "stream",
          "text": [
            "2\n",
            "2\n",
            "100\n"
          ]
        }
      ],
      "source": [
        "# inner가 outer의 변수를 건드리고 싶은데\n",
        "# inner 안에서는 outer의 변수 x에 대한 수정권한이 없습니다.\n",
        "x = 100\n",
        "def outer():\n",
        "    x = 1\n",
        "    def inner():\n",
        "        nonlocal x # 1단계 위 scope의 x 임을 명시\n",
        "        x += 1\n",
        "        print(x)\n",
        "    inner()\n",
        "    print(x)\n",
        "\n",
        "outer()\n",
        "print(x)"
      ]
    },
    {
      "cell_type": "code",
      "execution_count": null,
      "metadata": {
        "colab": {
          "base_uri": "https://localhost:8080/"
        },
        "id": "iu1NqtrhbvqI",
        "outputId": "ef5e85c0-3072-4009-d0eb-25e899506b39"
      },
      "outputs": [
        {
          "name": "stdout",
          "output_type": "stream",
          "text": [
            "101\n",
            "1\n",
            "101\n"
          ]
        }
      ],
      "source": [
        "# 위의 문제에 global을 사용한다면?\n",
        "x = 100\n",
        "def outer():\n",
        "    x = 1\n",
        "    def inner():\n",
        "        global x # 1단계 위의 scope의 x 임을 명시\n",
        "        x += 1\n",
        "        print(x)\n",
        "    inner()\n",
        "    print(x)\n",
        "\n",
        "outer()\n",
        "print(x)"
      ]
    },
    {
      "attachments": {},
      "cell_type": "markdown",
      "metadata": {
        "id": "lw449S79cbXu"
      },
      "source": [
        "## 재귀함수(recursion)"
      ]
    },
    {
      "attachments": {},
      "cell_type": "markdown",
      "metadata": {
        "id": "-9WLiTpfcnf0"
      },
      "source": [
        "* 내가 나를 호출하는 것입니다.\n",
        "* 재귀 <--> for문은 대부분 호환 가능합니다.\n",
        "* 반복문 사용하시기를 권합니다.\n",
        "* 어렵고 효율도 안좋아요!\n",
        "* 필수적으로 사용하는 곳이 있습니다. (어디일까?? 다이나믹 프로그래밍, 분할, 정복, 다익스트라 등)"
      ]
    },
    {
      "cell_type": "code",
      "execution_count": null,
      "metadata": {
        "id": "VwMVOu83dlFw"
      },
      "outputs": [],
      "source": [
        "# sys.setrecursionlimit -> 제한을 늘릴 수 있음\n",
        "# 실행시키지 마세요... 뻗을 수 있습니다.\n",
        "# def 숫자출력():\n",
        "#     print(1)\n",
        "#     return 숫자출력()\n",
        "# 숫자출력()"
      ]
    },
    {
      "attachments": {},
      "cell_type": "markdown",
      "metadata": {
        "id": "nI-7v0kqd2yT"
      },
      "source": [
        "* for 과 recursion 비교"
      ]
    },
    {
      "cell_type": "code",
      "execution_count": null,
      "metadata": {
        "colab": {
          "base_uri": "https://localhost:8080/"
        },
        "id": "fsnKvHCFd5Hv",
        "outputId": "f79c3fa7-6229-4ee4-86ed-53835640edbd"
      },
      "outputs": [
        {
          "data": {
            "text/plain": [
              "120"
            ]
          },
          "execution_count": 19,
          "metadata": {},
          "output_type": "execute_result"
        }
      ],
      "source": [
        "# for 로 팩토리얼\n",
        "# 5! = 5*4*3*2*1\n",
        "result = 1\n",
        "\n",
        "# 1 * 2 * 3 * 4 * 5\n",
        "for i in range(1,6):\n",
        "    result *=i\n",
        "\n",
        "\n",
        "result"
      ]
    },
    {
      "cell_type": "code",
      "execution_count": null,
      "metadata": {
        "colab": {
          "base_uri": "https://localhost:8080/"
        },
        "id": "qEjKpdFeeT3Y",
        "outputId": "30691b89-df46-470f-d96c-bdd87d51d0e9"
      },
      "outputs": [
        {
          "data": {
            "text/plain": [
              "120"
            ]
          },
          "execution_count": 23,
          "metadata": {},
          "output_type": "execute_result"
        }
      ],
      "source": [
        "# 재귀로 팩토리얼\n",
        "\n",
        "def f(n):\n",
        "    if n <= 1:\n",
        "        return 1\n",
        "    else:\n",
        "        return n * f(n-1)\n",
        "\n",
        "f(5)\n"
      ]
    },
    {
      "cell_type": "code",
      "execution_count": null,
      "metadata": {
        "colab": {
          "base_uri": "https://localhost:8080/",
          "height": 35
        },
        "id": "TVrCvtu8fhNg",
        "outputId": "2439e52e-4ccd-496f-cc17-9c54389d0946"
      },
      "outputs": [
        {
          "data": {
            "application/vnd.google.colaboratory.intrinsic+json": {
              "type": "string"
            },
            "text/plain": [
              "'olleh'"
            ]
          },
          "execution_count": 27,
          "metadata": {},
          "output_type": "execute_result"
        }
      ],
      "source": [
        "# for로 문자열 거꾸로 출력하기\n",
        "s = 'hello'\n",
        "result = ''\n",
        "for i in s:\n",
        "    result = i + result\n",
        "\n",
        "result\n",
        "# 실무에서는 이런식으로 거꾸로 만들지 않습니다. 이건 예제를 위해...\n",
        "# 슬라이싱이 일반 for문보다 8배 빠릅니다.\n",
        "# s[::-1]"
      ]
    },
    {
      "cell_type": "code",
      "execution_count": null,
      "metadata": {
        "colab": {
          "base_uri": "https://localhost:8080/",
          "height": 72
        },
        "id": "1IYhoTgRgYei",
        "outputId": "89aadcc7-2c2b-4ca0-9c2a-983da893927c"
      },
      "outputs": [
        {
          "data": {
            "application/vnd.google.colaboratory.intrinsic+json": {
              "type": "string"
            },
            "text/plain": [
              "\"\\nreverse('hello')    reverse('ello') + 'h'\\nreverse('ello')     reverse('llo') + 'e'\\nreverse('llo')      reverse('lo') + 'l'\\nreverse('lo')       reverse('o') + 'l'\\nreverse('o')        'o'\\n\""
            ]
          },
          "execution_count": 30,
          "metadata": {},
          "output_type": "execute_result"
        }
      ],
      "source": [
        "def reverse(s):\n",
        "    if len(s) == 1:\n",
        "        return s\n",
        "    else:\n",
        "        return reverse(s[1:])+ s[0]\n",
        "    \n",
        "reverse('hello')\n",
        "\n",
        "'''\n",
        "호출함수            리턴값\n",
        "reverse('hello')    reverse('ello') + 'h'\n",
        "reverse('ello')     reverse('llo') + 'e'\n",
        "reverse('llo')      reverse('lo') + 'l'\n",
        "reverse('lo')       reverse('o') + 'l'\n",
        "reverse('o')        'o'\n",
        "'''"
      ]
    },
    {
      "cell_type": "code",
      "execution_count": null,
      "metadata": {
        "colab": {
          "base_uri": "https://localhost:8080/"
        },
        "id": "e-S3PsgWz7J_",
        "outputId": "031932b4-0693-4d7a-afaf-4e31b79f0169"
      },
      "outputs": [
        {
          "name": "stdout",
          "output_type": "stream",
          "text": [
            "[1, 2, 3, 4]\n"
          ]
        }
      ],
      "source": [
        "# 피보나치 수열\n",
        "# 재귀가 얼마나 비효율적인지 보여드리기 위해서 진행\n",
        "# 1 1 2 3 5 8 13 21\n",
        "\n",
        "# 이해안됨...왜??\n",
        "\n",
        "curr = 1\n",
        "next = 1\n",
        "for i in range(1, 5):\n",
        "    curr, next= next, curr + next\n",
        "\n",
        "next\n",
        "print(list(range(1,5)))"
      ]
    },
    {
      "cell_type": "code",
      "execution_count": null,
      "metadata": {
        "colab": {
          "base_uri": "https://localhost:8080/"
        },
        "id": "aQaxzhCb1keW",
        "outputId": "19828296-0f76-4470-b516-eee9bd5563d9"
      },
      "outputs": [
        {
          "data": {
            "text/plain": [
              "(1, 1, 2, 3, 5, 8)"
            ]
          },
          "execution_count": 43,
          "metadata": {},
          "output_type": "execute_result"
        }
      ],
      "source": [
        "# 피보나치 재귀\n",
        "\n",
        "def f(n):\n",
        "    if n == 1 or n == 2:\n",
        "        return 1\n",
        "    return f(n-1) + f(n-2)\n",
        "\n",
        "f(1), f(2), f(3), f(4), f(5), f(6)"
      ]
    },
    {
      "cell_type": "code",
      "execution_count": null,
      "metadata": {
        "colab": {
          "base_uri": "https://localhost:8080/"
        },
        "id": "xqscv6sP2IPe",
        "outputId": "5935aadc-810f-4aca-e609-c82847a6fe47"
      },
      "outputs": [
        {
          "data": {
            "text/plain": [
              "9227465"
            ]
          },
          "execution_count": 46,
          "metadata": {},
          "output_type": "execute_result"
        }
      ],
      "source": [
        "f(35)"
      ]
    },
    {
      "cell_type": "code",
      "execution_count": null,
      "metadata": {
        "colab": {
          "base_uri": "https://localhost:8080/"
        },
        "id": "G41vnarO3JUe",
        "outputId": "baec581e-26c4-4b06-fdbd-1263f42bf9cb"
      },
      "outputs": [
        {
          "data": {
            "text/plain": [
              "102334155"
            ]
          },
          "execution_count": 47,
          "metadata": {},
          "output_type": "execute_result"
        }
      ],
      "source": [
        "# 재귀함수의 비효율을 이렇게 해결할 수 있다\n",
        "# 그러나 가능하면 for문을 이용해주세요!\n",
        "\n",
        "from functools import lru_cache\n",
        "\n",
        "# 재귀함수 호출시 이미 계산된 fib(n)값을 저장해뒀다가 호출될때 값을 가져다가 쓰는 방법.\n",
        "# 어떻게 저장하고 사용하는거지??\n",
        "@lru_cache(maxsize=None)\n",
        "def fib(num):\n",
        "    if num == 0:\n",
        "        return 0\n",
        "    if num == 1 or num == 2:\n",
        "        return 1\n",
        "    else:\n",
        "        return fib(num-1) + fib(num-2)\n",
        "\n",
        "fib(40)"
      ]
    },
    {
      "attachments": {},
      "cell_type": "markdown",
      "metadata": {
        "id": "Hz3R6b1g8dcY"
      },
      "source": [
        "## !!함수 연습문제\n"
      ]
    },
    {
      "cell_type": "code",
      "execution_count": null,
      "metadata": {
        "colab": {
          "base_uri": "https://localhost:8080/"
        },
        "id": "vGTCnPsn4HQO",
        "outputId": "b598043c-9050-4c63-f3cc-6baaa7264459"
      },
      "outputs": [
        {
          "name": "stdout",
          "output_type": "stream",
          "text": [
            "I\n",
            "love\n",
            "python\n"
          ]
        }
      ],
      "source": [
        "# 연습문제 1\n",
        "a = 'pithon'\n",
        "\n",
        "def 함수1():\n",
        "    def 함수2():\n",
        "        print('love')\n",
        "        \n",
        "    print('I')\n",
        "    함수2()\n",
        "    return \"python\"\n",
        "\t\n",
        "\n",
        "a = 함수1()\n",
        "print(a)\n",
        "\n",
        "# I\n",
        "# love\n",
        "# python\n"
      ]
    },
    {
      "cell_type": "code",
      "execution_count": null,
      "metadata": {
        "colab": {
          "base_uri": "https://localhost:8080/"
        },
        "id": "zzn6-GCA4KTD",
        "outputId": "a5d93c9c-6540-41f4-9edb-2db193d74ef9"
      },
      "outputs": [
        {
          "name": "stdout",
          "output_type": "stream",
          "text": [
            "plus : 15\n",
            "minus : 5\n",
            "multiply : 50\n",
            "divide : 2.0\n"
          ]
        }
      ],
      "source": [
        "# 연습문제 2\n",
        "# 실력이 있으신 분들은 견고한 코드가 될 수 있도록 해야 합니다\n",
        "def plus(num1, num2):\n",
        "    if (type(num1) != float and type(num1) !=int) and(type(num2) != float and type(num2) !=int):\n",
        "        return '숫자가 아니기에 연산할 수 없습니다.'\n",
        "    \n",
        "    return num1 + num2\n",
        "\n",
        "def minus(num1, num2):\n",
        "\treturn num1 - num2\n",
        "\n",
        "def multiply(num1, num2):\n",
        "\treturn num1 * num2\n",
        "\n",
        "def divide(num1, num2):\n",
        "\treturn num1 / num2\n",
        "\n",
        "# 람다식 풀이\n",
        "# plus = lambda num1, num2 : num1 + num2\n",
        "# minus = lambda num1, num2 : num1 - num2\n",
        "# multiply = lambda num1, num2 : num1 * num2\n",
        "# divide = lambda num1, num2 : num1 / num2\n",
        "\n",
        "print(f'plus : {plus(10, 5)}')\n",
        "print(f'minus : {minus(10, 5)}')\n",
        "print(f'multiply : {multiply(10, 5)}')\n",
        "print(f'divide : {divide(10, 5)}')\n"
      ]
    },
    {
      "cell_type": "code",
      "execution_count": null,
      "metadata": {
        "colab": {
          "base_uri": "https://localhost:8080/"
        },
        "id": "Y7T6-jVTAd6s",
        "outputId": "4a3dd18d-2a05-4d6b-a086-a50e174618c4"
      },
      "outputs": [
        {
          "name": "stdout",
          "output_type": "stream",
          "text": [
            "True\n",
            "plus : 15\n",
            "plus : inf\n",
            "plus : inf\n",
            "plus : 105\n",
            "plus : inf\n",
            "plus : 11\n",
            "plus : 5\n",
            "plus : 20.1\n"
          ]
        }
      ],
      "source": [
        "# 실력이 있으신 분은 견고한 코드가 될 수 있도록 해주셔야 합니다.\n",
        "def plus(num1, num2):\n",
        "    if type(num1) == int and type(num2) == int:\n",
        "        return num1 + num2\n",
        "    return float('inf') # 어떤 수보다도 크게 판정됩니당\n",
        "\n",
        "# 혹은 아래처럼 예외 처리하는 문구 추가\n",
        "def plus(num1, num2):\n",
        "    try:\n",
        "        return num1 + num2\n",
        "    except:\n",
        "        return float('inf')\n",
        "\n",
        "print(float('inf') > 1000000000000000000000000)\n",
        "\n",
        "# 테스트 주도 개발 <<<<<<<<<<<<\n",
        "# 실무에서 이런 식으로 테스트하기 때문에 예외가 발생할 수 있는 상황에 대해 처리해줘야 견고한 코드가 될 수 있음\n",
        "print(f\"plus : {plus(10, 5)}\")\n",
        "print(f\"plus : {plus(10, '5')}\")\n",
        "print(f\"plus : {plus('10', 5)}\")\n",
        "print(f\"plus : {plus('10', '5')}\")\n",
        "print(f\"plus : {plus(10, 'a')}\")\n",
        "print(f\"plus : {plus(10, True)}\")\n",
        "print(f\"plus : {plus(False, 5)}\")\n",
        "print(f\"plus : {plus(10, 10.1)}\")"
      ]
    },
    {
      "cell_type": "code",
      "execution_count": null,
      "metadata": {
        "colab": {
          "base_uri": "https://localhost:8080/"
        },
        "id": "a5AISLkO4NKm",
        "outputId": "04926112-d654-474b-8932-4c1d25db177d"
      },
      "outputs": [
        {
          "data": {
            "text/plain": [
              "81"
            ]
          },
          "execution_count": 8,
          "metadata": {},
          "output_type": "execute_result"
        }
      ],
      "source": [
        "# 연습문제 3\n",
        "# x의 n제곱을 구하는 함수를 만들어주세요.\n",
        "# 재귀함수를 이용하여 만들어야하며, x은 0이 아닙니다. (x, n > 1)\n",
        "\n",
        "def power(x, n):\n",
        "    if n == 1:\n",
        "        return x\n",
        "    else:\n",
        "        return x * power (x, n-1)\n",
        "\n",
        "power(3,2)\n",
        "\n",
        "## lambda 식 풀이\n",
        "def lampower(x,n):\n",
        "    if n==1:\n",
        "        return x\n",
        "    else:\n",
        "        return x * (lambda x : lampower(x,n-1))(x) \n",
        "\n",
        "lampower(3,3)\n",
        "\n",
        "## 클로저 풀이??\n",
        "# 팩토리 함수라고도 하고, 클로져 라고도 합니다.\n",
        "def clo_power(x):\n",
        "    def power_num(y):\n",
        "        return x ** y\n",
        "    return power_num\n",
        "\n",
        "# 여기서 설정된 clo_power(x) 의 x 값이 휘발되지 않고 가지고 있음!!!\n",
        "# 한번 객체로 구현된 x 값은 접근할 수 없게 되는데, 변하면 안되는 수를 이런식으로 변하지 않도록 감춰줄 수도 있음!\n",
        "clo_power_base3 = clo_power(3)  \n",
        "clo_power_base3(4)"
      ]
    },
    {
      "cell_type": "code",
      "execution_count": null,
      "metadata": {
        "id": "4w1Mc1EqAr84"
      },
      "outputs": [],
      "source": [
        "# 재귀로 위 코드보다 속를 빠르게 한 코드\n",
        "def power(x, n):\n",
        "    if n == 0:\n",
        "        return 1\n",
        "    elif n % 2 == 0:\n",
        "        recur = power(x, n/2)       # 절반씩 나누어 곱해줌\n",
        "        return y * y\n",
        "    else:\n",
        "        recur = power(x, (n-1)/2)   # 홀수일 경우 한번 곱해주고 절반 절반 곱해줌\n",
        "        return x * recur * recur"
      ]
    },
    {
      "cell_type": "code",
      "execution_count": null,
      "metadata": {
        "colab": {
          "base_uri": "https://localhost:8080/"
        },
        "id": "8rbvDtbqBwG0",
        "outputId": "98669d47-71b1-496f-be8d-701fb8b90c01"
      },
      "outputs": [
        {
          "data": {
            "text/plain": [
              "8"
            ]
          },
          "execution_count": 2,
          "metadata": {},
          "output_type": "execute_result"
        }
      ],
      "source": [
        "## 최승현님 코드 :  놀라워라~~ 분할 정복 알고리즘??? 확인!!\n",
        "# 재귀를 Log(n,2) 만 호출하게 된다고 합니다..\n",
        "def my_pow(num1, num2):\n",
        "    if num2 == 0:\n",
        "        return 1\n",
        "    if num2 == 1:\n",
        "        return num1\n",
        "    if num2 % 2 == 0:\n",
        "        half = my_pow(num1, num2 // 2)\n",
        "        return half * half\n",
        "    else:\n",
        "        half = my_pow(num1, num2 // 2)\n",
        "        return half * half * num1\n",
        "\n",
        "my_pow(2,3)"
      ]
    },
    {
      "attachments": {},
      "cell_type": "markdown",
      "metadata": {
        "id": "NfPux9j5E3qk"
      },
      "source": [
        "## list(리스트)"
      ]
    },
    {
      "attachments": {},
      "cell_type": "markdown",
      "metadata": {
        "id": "b1CWHMrDFTzQ"
      },
      "source": [
        "* 순서를 가진 데이터들의 집합(Sequence)\n",
        "* 값의 변경이 가능\n",
        "* 리스트 안에 리스트로 다차원의 리스트를 만드는 것도 가능\n",
        "* 리스트 안에 다른 오브젝트(dictionary, set, tuple 등)를 넣는 것이 가능"
      ]
    },
    {
      "cell_type": "code",
      "execution_count": null,
      "metadata": {
        "colab": {
          "base_uri": "https://localhost:8080/"
        },
        "id": "zKQL6uHnFmvn",
        "outputId": "29cc87cd-9f5a-4c51-953f-0ba29300cc11"
      },
      "outputs": [
        {
          "name": "stdout",
          "output_type": "stream",
          "text": [
            "[1000, 2000, 3000, 4000, 2000, 3000]\n"
          ]
        },
        {
          "data": {
            "text/plain": [
              "(139899103062352, 139899103060016)"
            ]
          },
          "execution_count": 11,
          "metadata": {},
          "output_type": "execute_result"
        }
      ],
      "source": [
        "l = [1000, 2000, 3000, 1000, 2000, 3000]\n",
        "id(l[0]), id(l[3]) # 두 id 가 같다!\n",
        "# l[3] = 4000       #이렇게 값을 바꾸면 달라진다.\n",
        "# print(l)\n",
        "# id(l[0]), id(l[3])"
      ]
    },
    {
      "cell_type": "code",
      "execution_count": null,
      "metadata": {
        "id": "j7hOU_G8F7aN"
      },
      "outputs": [],
      "source": [
        "# 컨벤션 자료형 (dictionary, tuple, set, list)은\n",
        "# 메모리 효율을 위해서\n",
        "# 같은 값이 있을 경우 같은 id를 가리키게 설계되어 있습니다."
      ]
    },
    {
      "cell_type": "code",
      "execution_count": null,
      "metadata": {
        "colab": {
          "base_uri": "https://localhost:8080/"
        },
        "id": "akUp7RAjGRPY",
        "outputId": "a5ba1d7d-e2d7-4502-84e6-af5f3b307b05"
      },
      "outputs": [
        {
          "data": {
            "text/plain": [
              "[1000, 20, 30, 40]"
            ]
          },
          "execution_count": 13,
          "metadata": {},
          "output_type": "execute_result"
        }
      ],
      "source": [
        "l = [10 ,20 ,30, 40]\n",
        "l[0] = 1000\n",
        "l"
      ]
    },
    {
      "cell_type": "code",
      "execution_count": null,
      "metadata": {
        "colab": {
          "base_uri": "https://localhost:8080/",
          "height": 211
        },
        "id": "PSRCVEubGWPk",
        "outputId": "dc07d096-0fb7-4e92-8534-cd7c1a9e9231"
      },
      "outputs": [
        {
          "ename": "TypeError",
          "evalue": "ignored",
          "output_type": "error",
          "traceback": [
            "\u001b[0;31m---------------------------------------------------------------------------\u001b[0m",
            "\u001b[0;31mTypeError\u001b[0m                                 Traceback (most recent call last)",
            "\u001b[0;32m<ipython-input-14-2b1c16f71298>\u001b[0m in \u001b[0;36m<cell line: 2>\u001b[0;34m()\u001b[0m\n\u001b[1;32m      1\u001b[0m \u001b[0ms\u001b[0m \u001b[0;34m=\u001b[0m \u001b[0;34m'hello world'\u001b[0m\u001b[0;34m\u001b[0m\u001b[0;34m\u001b[0m\u001b[0m\n\u001b[0;32m----> 2\u001b[0;31m \u001b[0ms\u001b[0m\u001b[0;34m[\u001b[0m\u001b[0;36m0\u001b[0m\u001b[0;34m]\u001b[0m \u001b[0;34m=\u001b[0m \u001b[0;34m'k'\u001b[0m\u001b[0;34m\u001b[0m\u001b[0;34m\u001b[0m\u001b[0m\n\u001b[0m\u001b[1;32m      3\u001b[0m \u001b[0ms\u001b[0m\u001b[0;34m\u001b[0m\u001b[0;34m\u001b[0m\u001b[0m\n",
            "\u001b[0;31mTypeError\u001b[0m: 'str' object does not support item assignment"
          ]
        }
      ],
      "source": [
        "# string은... index로 접근해서 값을 수정할 수 없음\n",
        "s = 'hello world'\n",
        "s[0] = 'k' # error 발생.\n",
        "s"
      ]
    },
    {
      "cell_type": "code",
      "execution_count": null,
      "metadata": {
        "colab": {
          "base_uri": "https://localhost:8080/"
        },
        "id": "87QSN8-qGjwL",
        "outputId": "ad531e9d-dabb-45a9-d5c3-ff1869db2442"
      },
      "outputs": [
        {
          "data": {
            "text/plain": [
              "[[1, 2, 3], [4, 5, 6], [7, 8, 9]]"
            ]
          },
          "execution_count": 15,
          "metadata": {},
          "output_type": "execute_result"
        }
      ],
      "source": [
        "# 다차원 리스트\n",
        "data = [[1,2,3],\n",
        "        [4,5,6],\n",
        "        [7,8,9]]\n",
        "\n",
        "data"
      ]
    },
    {
      "cell_type": "code",
      "execution_count": null,
      "metadata": {
        "colab": {
          "base_uri": "https://localhost:8080/"
        },
        "id": "b_jkVN27Gv9Q",
        "outputId": "eef6eae2-db3c-4ee5-9f3d-87a9629b08db"
      },
      "outputs": [
        {
          "data": {
            "text/plain": [
              "[1, 2, 3]"
            ]
          },
          "execution_count": 17,
          "metadata": {},
          "output_type": "execute_result"
        }
      ],
      "source": [
        "data[0]"
      ]
    },
    {
      "cell_type": "code",
      "execution_count": null,
      "metadata": {
        "colab": {
          "base_uri": "https://localhost:8080/"
        },
        "id": "SFWKv-OWG3c0",
        "outputId": "24251230-5852-4b18-8537-cdb2f88d8623"
      },
      "outputs": [
        {
          "data": {
            "text/plain": [
              "1"
            ]
          },
          "execution_count": 18,
          "metadata": {},
          "output_type": "execute_result"
        }
      ],
      "source": [
        "data[0][0]"
      ]
    },
    {
      "cell_type": "code",
      "execution_count": null,
      "metadata": {
        "colab": {
          "base_uri": "https://localhost:8080/"
        },
        "id": "LjbC7SB_G71b",
        "outputId": "96cad898-8fbf-4418-e954-e282515cdf96"
      },
      "outputs": [
        {
          "data": {
            "text/plain": [
              "[[2, 4, 6], [8, 10, 12], [14, 16, 18]]"
            ]
          },
          "execution_count": 22,
          "metadata": {},
          "output_type": "execute_result"
        }
      ],
      "source": [
        "data = [[1,2,3],\n",
        "        [4,5,6],\n",
        "        [7,8,9]]\n",
        "\n",
        "data[0][0] *= 2\n",
        "data[0][1] *= 2\n",
        "data[0][2] *= 2\n",
        "data[1][0] *= 2\n",
        "data[1][1] *= 2\n",
        "data[1][2] *= 2\n",
        "data[2][0] *= 2\n",
        "data[2][1] *= 2\n",
        "data[2][2] *= 2\n",
        "data"
      ]
    },
    {
      "cell_type": "code",
      "execution_count": null,
      "metadata": {
        "colab": {
          "base_uri": "https://localhost:8080/"
        },
        "id": "pNu8JRimHaQl",
        "outputId": "d246782a-254c-4275-c695-307acfdd8913"
      },
      "outputs": [
        {
          "data": {
            "text/plain": [
              "[[2, 4, 6], [8, 10, 12], [14, 16, 18]]"
            ]
          },
          "execution_count": 23,
          "metadata": {},
          "output_type": "execute_result"
        }
      ],
      "source": [
        "data = [[1,2,3],\n",
        "        [4,5,6],\n",
        "        [7,8,9]]\n",
        "\n",
        "for i in range(3):\n",
        "    data[i][0] *=2\n",
        "    data[i][1] *=2\n",
        "    data[i][2] *=2\n",
        "\n",
        "data"
      ]
    },
    {
      "cell_type": "code",
      "execution_count": null,
      "metadata": {
        "colab": {
          "base_uri": "https://localhost:8080/"
        },
        "id": "1ovw0307Hnrk",
        "outputId": "cd9eb7dd-bf8b-48f1-e9b6-833fd17c7a39"
      },
      "outputs": [
        {
          "data": {
            "text/plain": [
              "[[2, 4, 6], [8, 10, 12], [14, 16, 18]]"
            ]
          },
          "execution_count": 24,
          "metadata": {},
          "output_type": "execute_result"
        }
      ],
      "source": [
        "data = [[1,2,3],\n",
        "        [4,5,6],\n",
        "        [7,8,9]]\n",
        "\n",
        "for i in range(3):\n",
        "    for j in range(3):\n",
        "        data[i][j] *=2\n",
        "\n",
        "data"
      ]
    },
    {
      "cell_type": "code",
      "execution_count": null,
      "metadata": {
        "id": "GjHc10l6H7Si"
      },
      "outputs": [],
      "source": [
        "# 데이터 사이언스.. 수학용어\n",
        "'''\n",
        "3               == 스칼라\n",
        "[3,4]           == 벡터\n",
        "[[1,2,3],\n",
        "[4,5,6],\n",
        "[7,8,9]]        == 매트릭스\n",
        "[[[1],[2],[3]],\n",
        "[[4],[5],[6]],\n",
        "[[7],[8],[9]]]  == 텐서(다차원, 3차원 이상)\n",
        "\n",
        "텐서플로우 : 인공지능 라이브러리 중 유명한 라이브러리\n",
        "'''"
      ]
    },
    {
      "cell_type": "code",
      "execution_count": null,
      "metadata": {
        "colab": {
          "base_uri": "https://localhost:8080/"
        },
        "id": "--pS0Sv8IrnT",
        "outputId": "f1eae259-5e84-4fcb-a6b5-45cd17dc6352"
      },
      "outputs": [
        {
          "data": {
            "text/plain": [
              "[10, 10, 10]"
            ]
          },
          "execution_count": 26,
          "metadata": {},
          "output_type": "execute_result"
        }
      ],
      "source": [
        "# 리스트에서 주의해야 하는 연산!\n",
        "x = [10] * 3\n",
        "x"
      ]
    },
    {
      "cell_type": "code",
      "execution_count": null,
      "metadata": {
        "colab": {
          "base_uri": "https://localhost:8080/"
        },
        "id": "aAu-4w-1I11F",
        "outputId": "71e1f7e5-4a1e-42ac-ce4f-103786978554"
      },
      "outputs": [
        {
          "data": {
            "text/plain": [
              "[100, 10, 10]"
            ]
          },
          "execution_count": 28,
          "metadata": {},
          "output_type": "execute_result"
        }
      ],
      "source": [
        "x[0] = 100\n",
        "x"
      ]
    },
    {
      "cell_type": "code",
      "execution_count": null,
      "metadata": {
        "colab": {
          "base_uri": "https://localhost:8080/"
        },
        "id": "W6MCMGk_JEE2",
        "outputId": "d89dfe51-cf14-43ab-b522-0cf3af30cb76"
      },
      "outputs": [
        {
          "name": "stdout",
          "output_type": "stream",
          "text": [
            "[[10, 10], [10, 10], [10, 10]]\n"
          ]
        },
        {
          "data": {
            "text/plain": [
              "[[100, 10], [100, 10], [100, 10]]"
            ]
          },
          "execution_count": 32,
          "metadata": {},
          "output_type": "execute_result"
        }
      ],
      "source": [
        "x = [[10]*2] * 3\n",
        "print(x)\n",
        "x[0][0] = 100\n",
        "x"
      ]
    },
    {
      "cell_type": "code",
      "execution_count": null,
      "metadata": {
        "colab": {
          "base_uri": "https://localhost:8080/"
        },
        "id": "8EBWLTE3JXId",
        "outputId": "3657f7de-f631-4692-a66a-bf5b6c5d6059"
      },
      "outputs": [
        {
          "name": "stdout",
          "output_type": "stream",
          "text": [
            "[[[1000, 10, 10], [1000, 10, 10], [1000, 10, 10]], [[1000, 10, 10], [1000, 10, 10], [1000, 10, 10]], [[1000, 10, 10], [1000, 10, 10], [1000, 10, 10]], [[1000, 10, 10], [1000, 10, 10], [1000, 10, 10]]]\n"
          ]
        },
        {
          "data": {
            "text/plain": [
              "(139899100548032, 139899100548032)"
            ]
          },
          "execution_count": 34,
          "metadata": {},
          "output_type": "execute_result"
        }
      ],
      "source": [
        "## 곱하기 연산시 1차원은 괜찮지만 차수가 깊어지면, 안에 있는 list들은 주소를 복사하게 되서\n",
        "## 원소 하나만 바꿨을 때 모든 값이 다 바뀌어 버리게 됨\n",
        "\n",
        "x = [[[10] * 3] * 3] * 4\n",
        "x[0][0][0] = 1000\n",
        "print(x)\n",
        "\n",
        "id(x[0][0]), id(x[0][1]) ## 아이디가 같음... 그래서 원소x[0][0][0] 에 값 넣으면 모든 3차 첫원소 값이 바뀜"
      ]
    },
    {
      "cell_type": "code",
      "execution_count": null,
      "metadata": {
        "colab": {
          "base_uri": "https://localhost:8080/"
        },
        "id": "OJLq4TqdM9XT",
        "outputId": "8e44210a-9ecc-422d-c5c8-6eeff5912f31"
      },
      "outputs": [
        {
          "data": {
            "text/plain": [
              "[1, 2, 3, 1, 2, 3]"
            ]
          },
          "execution_count": 37,
          "metadata": {},
          "output_type": "execute_result"
        }
      ],
      "source": [
        "# list의 더하기\n",
        "[1,2,3] + [1,2,3] #많이 사용합니다!"
      ]
    },
    {
      "cell_type": "code",
      "execution_count": null,
      "metadata": {
        "colab": {
          "base_uri": "https://localhost:8080/"
        },
        "id": "wmovyRF8KCEx",
        "outputId": "0a24ba07-5430-48a8-df6e-97fc16011acc"
      },
      "outputs": [
        {
          "name": "stdout",
          "output_type": "stream",
          "text": [
            "Help on list object:\n",
            "\n",
            "class list(object)\n",
            " |  list(iterable=(), /)\n",
            " |  \n",
            " |  Built-in mutable sequence.\n",
            " |  \n",
            " |  If no argument is given, the constructor creates a new empty list.\n",
            " |  The argument must be an iterable if specified.\n",
            " |  \n",
            " |  Methods defined here:\n",
            " |  \n",
            " |  __add__(self, value, /)\n",
            " |      Return self+value.\n",
            " |  \n",
            " |  __contains__(self, key, /)\n",
            " |      Return key in self.\n",
            " |  \n",
            " |  __delitem__(self, key, /)\n",
            " |      Delete self[key].\n",
            " |  \n",
            " |  __eq__(self, value, /)\n",
            " |      Return self==value.\n",
            " |  \n",
            " |  __ge__(self, value, /)\n",
            " |      Return self>=value.\n",
            " |  \n",
            " |  __getattribute__(self, name, /)\n",
            " |      Return getattr(self, name).\n",
            " |  \n",
            " |  __getitem__(...)\n",
            " |      x.__getitem__(y) <==> x[y]\n",
            " |  \n",
            " |  __gt__(self, value, /)\n",
            " |      Return self>value.\n",
            " |  \n",
            " |  __iadd__(self, value, /)\n",
            " |      Implement self+=value.\n",
            " |  \n",
            " |  __imul__(self, value, /)\n",
            " |      Implement self*=value.\n",
            " |  \n",
            " |  __init__(self, /, *args, **kwargs)\n",
            " |      Initialize self.  See help(type(self)) for accurate signature.\n",
            " |  \n",
            " |  __iter__(self, /)\n",
            " |      Implement iter(self).\n",
            " |  \n",
            " |  __le__(self, value, /)\n",
            " |      Return self<=value.\n",
            " |  \n",
            " |  __len__(self, /)\n",
            " |      Return len(self).\n",
            " |  \n",
            " |  __lt__(self, value, /)\n",
            " |      Return self<value.\n",
            " |  \n",
            " |  __mul__(self, value, /)\n",
            " |      Return self*value.\n",
            " |  \n",
            " |  __ne__(self, value, /)\n",
            " |      Return self!=value.\n",
            " |  \n",
            " |  __repr__(self, /)\n",
            " |      Return repr(self).\n",
            " |  \n",
            " |  __reversed__(self, /)\n",
            " |      Return a reverse iterator over the list.\n",
            " |  \n",
            " |  __rmul__(self, value, /)\n",
            " |      Return value*self.\n",
            " |  \n",
            " |  __setitem__(self, key, value, /)\n",
            " |      Set self[key] to value.\n",
            " |  \n",
            " |  __sizeof__(self, /)\n",
            " |      Return the size of the list in memory, in bytes.\n",
            " |  \n",
            " |  append(self, object, /)\n",
            " |      Append object to the end of the list.\n",
            " |  \n",
            " |  clear(self, /)\n",
            " |      Remove all items from list.\n",
            " |  \n",
            " |  copy(self, /)\n",
            " |      Return a shallow copy of the list.\n",
            " |  \n",
            " |  count(self, value, /)\n",
            " |      Return number of occurrences of value.\n",
            " |  \n",
            " |  extend(self, iterable, /)\n",
            " |      Extend list by appending elements from the iterable.\n",
            " |  \n",
            " |  index(self, value, start=0, stop=9223372036854775807, /)\n",
            " |      Return first index of value.\n",
            " |      \n",
            " |      Raises ValueError if the value is not present.\n",
            " |  \n",
            " |  insert(self, index, object, /)\n",
            " |      Insert object before index.\n",
            " |  \n",
            " |  pop(self, index=-1, /)\n",
            " |      Remove and return item at index (default last).\n",
            " |      \n",
            " |      Raises IndexError if list is empty or index is out of range.\n",
            " |  \n",
            " |  remove(self, value, /)\n",
            " |      Remove first occurrence of value.\n",
            " |      \n",
            " |      Raises ValueError if the value is not present.\n",
            " |  \n",
            " |  reverse(self, /)\n",
            " |      Reverse *IN PLACE*.\n",
            " |  \n",
            " |  sort(self, /, *, key=None, reverse=False)\n",
            " |      Sort the list in ascending order and return None.\n",
            " |      \n",
            " |      The sort is in-place (i.e. the list itself is modified) and stable (i.e. the\n",
            " |      order of two equal elements is maintained).\n",
            " |      \n",
            " |      If a key function is given, apply it once to each list item and sort them,\n",
            " |      ascending or descending, according to their function values.\n",
            " |      \n",
            " |      The reverse flag can be set to sort in descending order.\n",
            " |  \n",
            " |  ----------------------------------------------------------------------\n",
            " |  Class methods defined here:\n",
            " |  \n",
            " |  __class_getitem__(...) from builtins.type\n",
            " |      See PEP 585\n",
            " |  \n",
            " |  ----------------------------------------------------------------------\n",
            " |  Static methods defined here:\n",
            " |  \n",
            " |  __new__(*args, **kwargs) from builtins.type\n",
            " |      Create and return a new object.  See help(type) for accurate signature.\n",
            " |  \n",
            " |  ----------------------------------------------------------------------\n",
            " |  Data and other attributes defined here:\n",
            " |  \n",
            " |  __hash__ = None\n",
            "\n"
          ]
        },
        {
          "data": {
            "text/plain": [
              "(list,\n",
              " ['__add__',\n",
              "  '__class__',\n",
              "  '__class_getitem__',\n",
              "  '__contains__',\n",
              "  '__delattr__',\n",
              "  '__delitem__',\n",
              "  '__dir__',\n",
              "  '__doc__',\n",
              "  '__eq__',\n",
              "  '__format__',\n",
              "  '__ge__',\n",
              "  '__getattribute__',\n",
              "  '__getitem__',\n",
              "  '__gt__',\n",
              "  '__hash__',\n",
              "  '__iadd__',\n",
              "  '__imul__',\n",
              "  '__init__',\n",
              "  '__init_subclass__',\n",
              "  '__iter__',\n",
              "  '__le__',\n",
              "  '__len__',\n",
              "  '__lt__',\n",
              "  '__mul__',\n",
              "  '__ne__',\n",
              "  '__new__',\n",
              "  '__reduce__',\n",
              "  '__reduce_ex__',\n",
              "  '__repr__',\n",
              "  '__reversed__',\n",
              "  '__rmul__',\n",
              "  '__setattr__',\n",
              "  '__setitem__',\n",
              "  '__sizeof__',\n",
              "  '__str__',\n",
              "  '__subclasshook__',\n",
              "  'append',\n",
              "  'clear',\n",
              "  'copy',\n",
              "  'count',\n",
              "  'extend',\n",
              "  'index',\n",
              "  'insert',\n",
              "  'pop',\n",
              "  'remove',\n",
              "  'reverse',\n",
              "  'sort'],\n",
              " None)"
            ]
          },
          "execution_count": 36,
          "metadata": {},
          "output_type": "execute_result"
        }
      ],
      "source": [
        "l = [10,20,30]\n",
        "type(l), dir(l), help(l)"
      ]
    },
    {
      "attachments": {},
      "cell_type": "markdown",
      "metadata": {
        "id": "hG8a4QcpNQxl"
      },
      "source": [
        "## 리스트의 메서드"
      ]
    },
    {
      "cell_type": "code",
      "execution_count": null,
      "metadata": {
        "id": "bJGsJHeKNOop"
      },
      "outputs": [],
      "source": [
        "# 'append',  'clear',  'copy',  'count',  'extend',\n",
        "# 'index',  'insert',  'pop',  'remove',  'reverse',  'sort'\n",
        "# 모르는 것이 있는지 확인해보기"
      ]
    },
    {
      "attachments": {},
      "cell_type": "markdown",
      "metadata": {
        "id": "OTxygFLWIKXP"
      },
      "source": [
        "* append"
      ]
    },
    {
      "cell_type": "code",
      "execution_count": null,
      "metadata": {
        "colab": {
          "base_uri": "https://localhost:8080/"
        },
        "id": "ZjHsWY4jKLeg",
        "outputId": "9412d8f9-1691-4706-af3c-c5a1befecbbf"
      },
      "outputs": [
        {
          "data": {
            "text/plain": [
              "[1, 2, 3, 4]"
            ]
          },
          "execution_count": 38,
          "metadata": {},
          "output_type": "execute_result"
        }
      ],
      "source": [
        "## append\n",
        "l = [1,2,3]\n",
        "l.append(4)\n",
        "l"
      ]
    },
    {
      "cell_type": "code",
      "execution_count": null,
      "metadata": {
        "colab": {
          "base_uri": "https://localhost:8080/"
        },
        "id": "cHcXFXR9Nsbn",
        "outputId": "5d0aee8b-c8c5-4d8e-a821-959921cfe328"
      },
      "outputs": [
        {
          "data": {
            "text/plain": [
              "[1, 2, 3, [1, 2, 3]]"
            ]
          },
          "execution_count": 39,
          "metadata": {},
          "output_type": "execute_result"
        }
      ],
      "source": [
        "l = [1,2,3]\n",
        "l.append([1,2,3])\n",
        "l"
      ]
    },
    {
      "attachments": {},
      "cell_type": "markdown",
      "metadata": {
        "id": "mKgGsiVkIJN_"
      },
      "source": [
        "* extend"
      ]
    },
    {
      "cell_type": "code",
      "execution_count": null,
      "metadata": {
        "colab": {
          "base_uri": "https://localhost:8080/",
          "height": 211
        },
        "id": "4qMZI7vnNv6Y",
        "outputId": "ffe44a43-37a1-45ab-d121-077ae62724f5"
      },
      "outputs": [
        {
          "ename": "TypeError",
          "evalue": "ignored",
          "output_type": "error",
          "traceback": [
            "\u001b[0;31m---------------------------------------------------------------------------\u001b[0m",
            "\u001b[0;31mTypeError\u001b[0m                                 Traceback (most recent call last)",
            "\u001b[0;32m<ipython-input-40-3472de3ce524>\u001b[0m in \u001b[0;36m<cell line: 3>\u001b[0;34m()\u001b[0m\n\u001b[1;32m      1\u001b[0m \u001b[0;31m## extend\u001b[0m\u001b[0;34m\u001b[0m\u001b[0;34m\u001b[0m\u001b[0m\n\u001b[1;32m      2\u001b[0m \u001b[0ml\u001b[0m \u001b[0;34m=\u001b[0m \u001b[0;34m[\u001b[0m\u001b[0;36m1\u001b[0m\u001b[0;34m,\u001b[0m\u001b[0;36m2\u001b[0m\u001b[0;34m,\u001b[0m\u001b[0;36m3\u001b[0m\u001b[0;34m]\u001b[0m\u001b[0;34m\u001b[0m\u001b[0;34m\u001b[0m\u001b[0m\n\u001b[0;32m----> 3\u001b[0;31m \u001b[0ml\u001b[0m\u001b[0;34m.\u001b[0m\u001b[0mextend\u001b[0m\u001b[0;34m(\u001b[0m\u001b[0;36m4\u001b[0m\u001b[0;34m)\u001b[0m \u001b[0;31m# error\u001b[0m\u001b[0;34m\u001b[0m\u001b[0;34m\u001b[0m\u001b[0m\n\u001b[0m",
            "\u001b[0;31mTypeError\u001b[0m: 'int' object is not iterable"
          ]
        }
      ],
      "source": [
        "## extend\n",
        "l = [1,2,3]\n",
        "l.extend(4) # error : TypeError: 'int' object is not iterable\n",
        "# iterable(__next__가 있는 것)한 객체만 넣을 수 있다."
      ]
    },
    {
      "cell_type": "code",
      "execution_count": null,
      "metadata": {
        "colab": {
          "base_uri": "https://localhost:8080/"
        },
        "id": "Imvrw-OEOHiB",
        "outputId": "ee93b77a-72a0-4373-a55f-d389287035f2"
      },
      "outputs": [
        {
          "data": {
            "text/plain": [
              "[1, 2, 3, 'h', 'e', 'l', 'l', 'o']"
            ]
          },
          "execution_count": 42,
          "metadata": {},
          "output_type": "execute_result"
        }
      ],
      "source": [
        "l = [1,2,3]\n",
        "l.extend('hello')\n",
        "l"
      ]
    },
    {
      "cell_type": "code",
      "execution_count": null,
      "metadata": {
        "colab": {
          "base_uri": "https://localhost:8080/"
        },
        "id": "eccfimT-OUGn",
        "outputId": "dcd44f98-4c30-4d05-ee2e-af34a1c09d85"
      },
      "outputs": [
        {
          "data": {
            "text/plain": [
              "[1, 2, 3, 'one', 'two']"
            ]
          },
          "execution_count": 44,
          "metadata": {},
          "output_type": "execute_result"
        }
      ],
      "source": [
        "l = [1,2,3]\n",
        "l.extend({'one': 10, 'two' : 20})\n",
        "l"
      ]
    },
    {
      "cell_type": "code",
      "execution_count": null,
      "metadata": {
        "colab": {
          "base_uri": "https://localhost:8080/"
        },
        "id": "kODBDBadOa6l",
        "outputId": "2eb5dd95-1738-4439-9b29-835389e87443"
      },
      "outputs": [
        {
          "data": {
            "text/plain": [
              "[1, 2, 3, 10, 20, 30]"
            ]
          },
          "execution_count": 45,
          "metadata": {},
          "output_type": "execute_result"
        }
      ],
      "source": [
        "l = [1,2,3]\n",
        "l.extend({10,20,30})\n",
        "l"
      ]
    },
    {
      "cell_type": "code",
      "execution_count": null,
      "metadata": {
        "colab": {
          "base_uri": "https://localhost:8080/"
        },
        "id": "tS3GVSK6N3vL",
        "outputId": "fd973a6c-7ee1-453b-be61-312c038a4c2b"
      },
      "outputs": [
        {
          "data": {
            "text/plain": [
              "[1, 2, 3, 1, 2, 3]"
            ]
          },
          "execution_count": 41,
          "metadata": {},
          "output_type": "execute_result"
        }
      ],
      "source": [
        "## extend - 요소 여러 개를 추가할 때\n",
        "# 인자로는 iterable 요소만 가능하다\n",
        "l = [1,2,3]\n",
        "l.extend([1,2,3])\n",
        "l"
      ]
    },
    {
      "attachments": {},
      "cell_type": "markdown",
      "metadata": {
        "id": "qio8FnPoIB82"
      },
      "source": [
        "* clear"
      ]
    },
    {
      "cell_type": "code",
      "execution_count": null,
      "metadata": {
        "colab": {
          "base_uri": "https://localhost:8080/"
        },
        "id": "jpWj1BkrOw8k",
        "outputId": "4a26c31c-2ab1-47d8-b6f6-96ce289d8919"
      },
      "outputs": [
        {
          "data": {
            "text/plain": [
              "[]"
            ]
          },
          "execution_count": 46,
          "metadata": {},
          "output_type": "execute_result"
        }
      ],
      "source": [
        "## clear\n",
        "l = [1,2,3]\n",
        "l.clear()\n",
        "l\n",
        "# l = [] 이렇게 씀.."
      ]
    },
    {
      "attachments": {},
      "cell_type": "markdown",
      "metadata": {
        "id": "Wi_eU_arIF8l"
      },
      "source": [
        "* copy"
      ]
    },
    {
      "cell_type": "code",
      "execution_count": null,
      "metadata": {
        "colab": {
          "base_uri": "https://localhost:8080/"
        },
        "id": "CrIjV7i-PAmf",
        "outputId": "261a8766-6958-430e-cfc3-48afe6121d1f"
      },
      "outputs": [
        {
          "data": {
            "text/plain": [
              "([['바나나', 2000], ['수박', 2000], ['딸기', 3000]],\n",
              " [['바나나', 2000], ['수박', 2000], ['딸기', 3000]])"
            ]
          },
          "execution_count": 47,
          "metadata": {},
          "output_type": "execute_result"
        }
      ],
      "source": [
        "## copy\n",
        "# list를 할당하게 되면 하나의 list를 공유하게 됨\n",
        "제주과일가게 = [['바나나', 1000], ['수박', 2000], ['딸기', 3000]]\n",
        "서울과일가게 = 제주과일가게\n",
        "서울과일가게[0] = ['바나나', 2000]\n",
        "서울과일가게, 제주과일가게"
      ]
    },
    {
      "cell_type": "code",
      "execution_count": null,
      "metadata": {
        "colab": {
          "base_uri": "https://localhost:8080/"
        },
        "id": "giqtWnVuPr8Q",
        "outputId": "7b16eb23-33fa-464b-fdbf-70d97dd80842"
      },
      "outputs": [
        {
          "data": {
            "text/plain": [
              "([['바나나', 2000], ['수박', 2000], ['딸기', 3000]],\n",
              " [['바나나', 1000], ['수박', 2000], ['딸기', 3000]])"
            ]
          },
          "execution_count": 48,
          "metadata": {},
          "output_type": "execute_result"
        }
      ],
      "source": [
        "제주과일가게 = [['바나나', 1000], ['수박', 2000], ['딸기', 3000]]\n",
        "서울과일가게 = 제주과일가게.copy() # 얕은 복사\n",
        "서울과일가게[0] = ['바나나', 2000]\n",
        "서울과일가게, 제주과일가게"
      ]
    },
    {
      "cell_type": "code",
      "execution_count": null,
      "metadata": {
        "id": "RRmAqbznQKib"
      },
      "outputs": [],
      "source": [
        "제주과일가게 = [['바나나', 1000], ['수박', 2000], ['딸기', 3000]]\n",
        "서울과일가게 = 제주과일가게[:] # 얕은 복사\n",
        "서울과일가게[0] = ['바나나', 2000]\n",
        "서울과일가게, 제주과일가게"
      ]
    },
    {
      "cell_type": "code",
      "execution_count": null,
      "metadata": {
        "colab": {
          "base_uri": "https://localhost:8080/",
          "height": 35
        },
        "id": "RBkXzoqIQf_f",
        "outputId": "bbe875cc-5424-45cf-c1e0-d6e416ff07ac"
      },
      "outputs": [
        {
          "data": {
            "application/vnd.google.colaboratory.intrinsic+json": {
              "type": "string"
            },
            "text/plain": [
              "'hell'"
            ]
          },
          "execution_count": 50,
          "metadata": {},
          "output_type": "execute_result"
        }
      ],
      "source": [
        "s = 'hello world'\n",
        "s[:4]"
      ]
    },
    {
      "cell_type": "code",
      "execution_count": null,
      "metadata": {
        "colab": {
          "base_uri": "https://localhost:8080/"
        },
        "id": "t7pVoJv5QkVd",
        "outputId": "8d579c32-5289-4b40-c2d2-ea75bcbc6e3a"
      },
      "outputs": [
        {
          "data": {
            "text/plain": [
              "(139899102159488, 139899102153280)"
            ]
          },
          "execution_count": 51,
          "metadata": {},
          "output_type": "execute_result"
        }
      ],
      "source": [
        "l = [10,20,30,40,50]\n",
        "l[:3]\n",
        "ll = l[:]\n",
        "id(l), id(ll)  ## 주소가 다름. 값은 같지만"
      ]
    },
    {
      "cell_type": "code",
      "execution_count": null,
      "metadata": {
        "colab": {
          "base_uri": "https://localhost:8080/"
        },
        "id": "-gkfqcfoRAeA",
        "outputId": "9ea0b503-4cde-44cc-b21f-0330e6506c47"
      },
      "outputs": [
        {
          "name": "stdout",
          "output_type": "stream",
          "text": [
            "139899102081152 139899102081152\n",
            "139899100884272 139899100884272\n"
          ]
        },
        {
          "data": {
            "text/plain": [
              "([['바나나', 3000], ['수박', 2000], ['딸기', 3000]],\n",
              " [['바나나', 3000], ['수박', 2000], ['딸기', 3000]])"
            ]
          },
          "execution_count": 54,
          "metadata": {},
          "output_type": "execute_result"
        }
      ],
      "source": [
        "# 이 이상의 강의는 얕은복사, 깊은복사에서 해결이 됩니다\n",
        "제주과일가게 = [['바나나', 1000], ['수박', 2000], ['딸기', 3000]]\n",
        "서울과일가게 = 제주과일가게[:] # 얕은 복사\n",
        "print(id(서울과일가게[0]), id(제주과일가게[0]))\n",
        "print(id(서울과일가게[0][0]), id(제주과일가게[0][0]))\n",
        "서울과일가게[0][1] = 3000 \n",
        "서울과일가게, 제주과일가게 ## 얕은복사로 했는데도 값이 똑같아지네..?\n"
      ]
    },
    {
      "cell_type": "code",
      "execution_count": null,
      "metadata": {
        "colab": {
          "base_uri": "https://localhost:8080/"
        },
        "id": "HLLERljHRa0A",
        "outputId": "2589f44c-91d7-4400-f7f2-d8bec4a7512a"
      },
      "outputs": [
        {
          "data": {
            "text/plain": [
              "([1000, 2, 3], [1, 2, 3])"
            ]
          },
          "execution_count": 55,
          "metadata": {},
          "output_type": "execute_result"
        }
      ],
      "source": [
        "l = [1,2,3]\n",
        "ll = l[:]\n",
        "l[0] = 1000\n",
        "l, ll"
      ]
    },
    {
      "cell_type": "code",
      "execution_count": null,
      "metadata": {
        "colab": {
          "base_uri": "https://localhost:8080/"
        },
        "id": "pXe-OWhuRhO0",
        "outputId": "3f829820-b21d-4db7-de7f-ca794307cf59"
      },
      "outputs": [
        {
          "data": {
            "text/plain": [
              "([1000, 2, 3], [1, 2, 3])"
            ]
          },
          "execution_count": 56,
          "metadata": {},
          "output_type": "execute_result"
        }
      ],
      "source": [
        "l = [1,2,3]\n",
        "ll = l.copy()\n",
        "l[0] = 1000\n",
        "l, ll"
      ]
    },
    {
      "attachments": {},
      "cell_type": "markdown",
      "metadata": {
        "id": "GQxl61IZH_fP"
      },
      "source": [
        "* count"
      ]
    },
    {
      "cell_type": "code",
      "execution_count": null,
      "metadata": {
        "colab": {
          "base_uri": "https://localhost:8080/"
        },
        "id": "IHXeS-zbR4Cm",
        "outputId": "50b05d2f-6d0b-430a-8c22-d2426c80e3c7"
      },
      "outputs": [
        {
          "data": {
            "text/plain": [
              "6"
            ]
          },
          "execution_count": 59,
          "metadata": {},
          "output_type": "execute_result"
        }
      ],
      "source": [
        "## count\n",
        "l = [1,2,3,1,1,1,2,3,2,3,1,1]\n",
        "l.count(1)\n",
        "\n",
        "# 연산 때문에 list에 비슷한 자료형만 넣는 걸 추구하기도 한다"
      ]
    },
    {
      "attachments": {},
      "cell_type": "markdown",
      "metadata": {
        "id": "Q0RiNJyyINWk"
      },
      "source": [
        "* index"
      ]
    },
    {
      "cell_type": "code",
      "execution_count": null,
      "metadata": {
        "colab": {
          "base_uri": "https://localhost:8080/"
        },
        "id": "SVAv8ZDRSOYr",
        "outputId": "395e2f54-86aa-483a-889e-d2e4ef3b08ca"
      },
      "outputs": [
        {
          "data": {
            "text/plain": [
              "3"
            ]
          },
          "execution_count": 62,
          "metadata": {},
          "output_type": "execute_result"
        }
      ],
      "source": [
        "## index\n",
        "# 슬라이싱에 활용하기도함\n",
        "a = [10,1,1,11,2,23,12, 11]\n",
        "a.index(11) # 같은 수가 있어도 맨 앞에 나오는 index를 리턴함"
      ]
    },
    {
      "cell_type": "code",
      "execution_count": null,
      "metadata": {
        "colab": {
          "base_uri": "https://localhost:8080/"
        },
        "id": "ItgmND7UTOX2",
        "outputId": "9f4419ff-59ef-4fba-bdcf-41f7a71d5879"
      },
      "outputs": [
        {
          "data": {
            "text/plain": [
              "[10, 1, 1]"
            ]
          },
          "execution_count": 63,
          "metadata": {},
          "output_type": "execute_result"
        }
      ],
      "source": [
        "a = [10,1,1,11,2,23,12, 11]\n",
        "a.index(11) \n",
        "a[:a.index(11)]"
      ]
    },
    {
      "cell_type": "code",
      "execution_count": null,
      "metadata": {
        "colab": {
          "base_uri": "https://localhost:8080/"
        },
        "id": "1BLcJijTTY_8",
        "outputId": "f984e087-ea40-4f48-852b-87c1895e3f9d"
      },
      "outputs": [
        {
          "data": {
            "text/plain": [
              "[10, 20, 1000, 30]"
            ]
          },
          "execution_count": 64,
          "metadata": {},
          "output_type": "execute_result"
        }
      ],
      "source": [
        "a = [10,20,30]\n",
        "a.insert(2, 1000) #해당 인덱스에 값을 넣고 뒤에 값을 뒤로 미룸\n",
        "a"
      ]
    },
    {
      "attachments": {},
      "cell_type": "markdown",
      "metadata": {
        "id": "HeOD1nc8IPFm"
      },
      "source": [
        "* pop"
      ]
    },
    {
      "cell_type": "code",
      "execution_count": null,
      "metadata": {
        "colab": {
          "base_uri": "https://localhost:8080/"
        },
        "id": "ZNcZkHl3dM0V",
        "outputId": "2d5214c9-bfa7-4a96-8e5d-90e8f74e63d4"
      },
      "outputs": [
        {
          "data": {
            "text/plain": [
              "[2, 4, 6, 8, 10, 12, 14, 16, 18]"
            ]
          },
          "execution_count": 12,
          "metadata": {},
          "output_type": "execute_result"
        }
      ],
      "source": [
        "[i for i in range(1,20) if i%2 == 0]"
      ]
    },
    {
      "cell_type": "code",
      "execution_count": null,
      "metadata": {
        "colab": {
          "base_uri": "https://localhost:8080/"
        },
        "id": "AaDKinKaTpdH",
        "outputId": "09822ff7-1672-4259-f759-51c1ae173693"
      },
      "outputs": [
        {
          "name": "stdout",
          "output_type": "stream",
          "text": [
            "50\n",
            "[10, 20, 30, 40]\n",
            "10\n",
            "[20, 30, 40]\n"
          ]
        }
      ],
      "source": [
        "## pop ***** (별 5)\n",
        "l = [10,20,30,40,50]\n",
        "print(l.pop())\n",
        "print(l)\n",
        "print(l.pop(0)) # 0번째 index를 뽑음\n",
        "print(l)"
      ]
    },
    {
      "cell_type": "code",
      "execution_count": null,
      "metadata": {
        "id": "cZ55GXdzT8Rh"
      },
      "outputs": [],
      "source": [
        "## 중간 정리\n",
        "# append : 맨 뒤에 추가\n",
        "# pop : 맨 뒤에서 값을 뽑아내고, index가 들어갈 경우 index에서 뽑습니다.\n",
        "# insert : index에 값을 삽입하고 원래 있던 값을 뒤로 밀어버립니다."
      ]
    },
    {
      "attachments": {},
      "cell_type": "markdown",
      "metadata": {
        "id": "Mh1n1NttIQln"
      },
      "source": [
        "* remove"
      ]
    },
    {
      "cell_type": "code",
      "execution_count": null,
      "metadata": {
        "colab": {
          "base_uri": "https://localhost:8080/"
        },
        "id": "stdL7cY3UV0_",
        "outputId": "95809368-4c6f-421a-a111-749dfa6d45b1"
      },
      "outputs": [
        {
          "data": {
            "text/plain": [
              "[10, 30, 40, 50]"
            ]
          },
          "execution_count": 68,
          "metadata": {},
          "output_type": "execute_result"
        }
      ],
      "source": [
        "## remove\n",
        "l = [10,20,30,40,50]\n",
        "l.remove(20) # 예를 들어 for를 돌면서 remove를 하지 않길 바랍니다.\n",
        "l"
      ]
    },
    {
      "cell_type": "code",
      "execution_count": null,
      "metadata": {
        "colab": {
          "base_uri": "https://localhost:8080/"
        },
        "id": "w4kzmMO8U8Jg",
        "outputId": "7bf50bde-63ed-4782-a2aa-660d8fb555bc"
      },
      "outputs": [
        {
          "name": "stdout",
          "output_type": "stream",
          "text": [
            "4\n",
            "3\n",
            "2\n",
            "1\n"
          ]
        }
      ],
      "source": [
        "l = [20,20,20,20]\n",
        "for i in range(len(l)):\n",
        "    print(len(l)) # length가 계속 변하기 때문에 의도치 않은 에러가 날 수 있습니다\n",
        "    l.remove(20)"
      ]
    },
    {
      "cell_type": "code",
      "execution_count": null,
      "metadata": {
        "id": "ESg3xXU0Vdx7"
      },
      "outputs": [],
      "source": [
        "# 무한 반복입니다.\n",
        "# l = [20,20,20,20]\n",
        "# for i in range(len(l)):\n",
        "#     print(len(l))\n",
        "#     l.append(20)"
      ]
    },
    {
      "cell_type": "code",
      "execution_count": null,
      "metadata": {
        "colab": {
          "base_uri": "https://localhost:8080/"
        },
        "id": "m6QaWxdpF-rx",
        "outputId": "3d407b7a-b5f0-40b3-8d40-0d7f0b53d509"
      },
      "outputs": [
        {
          "name": "stdout",
          "output_type": "stream",
          "text": [
            "[10, 30, 40, 50]\n"
          ]
        }
      ],
      "source": [
        "# 예..\n",
        "l = [10,20,30,40,50,20,20,20]\n",
        "for i in range(l.count(20)):\n",
        "    l.remove(20)\n",
        "print(l)"
      ]
    },
    {
      "cell_type": "code",
      "execution_count": null,
      "metadata": {
        "colab": {
          "base_uri": "https://localhost:8080/"
        },
        "id": "nY8FbqCsGGnl",
        "outputId": "1727d7c5-38c2-44ac-af8d-d186a66b679a"
      },
      "outputs": [
        {
          "data": {
            "text/plain": [
              "[10, 30, 40, 50]"
            ]
          },
          "execution_count": 3,
          "metadata": {},
          "output_type": "execute_result"
        }
      ],
      "source": [
        "# 실무에서\n",
        "# 어떤 값을 전부 없애거나 전부 찾는 것\n",
        "# 즉, 조건에 부합하는 것\n",
        "def f(x):\n",
        "    return x !=20\n",
        "\n",
        "# True인 것만 반환해줍니다.\n",
        "list(filter(f, [10,20,30,40,50,20,20,20]))"
      ]
    },
    {
      "cell_type": "code",
      "execution_count": null,
      "metadata": {
        "colab": {
          "base_uri": "https://localhost:8080/"
        },
        "id": "e6Im0Jy3GvmG",
        "outputId": "70015792-1921-4995-d096-1470d8e7fbec"
      },
      "outputs": [
        {
          "data": {
            "text/plain": [
              "<filter at 0x7ff4b131c6d0>"
            ]
          },
          "execution_count": 4,
          "metadata": {},
          "output_type": "execute_result"
        }
      ],
      "source": [
        "filter(f, [10,20,30,40,50,20,20,20])"
      ]
    },
    {
      "cell_type": "code",
      "execution_count": null,
      "metadata": {
        "colab": {
          "base_uri": "https://localhost:8080/"
        },
        "id": "PdI-WiXZGx4Y",
        "outputId": "c259198d-d7b1-4833-9518-f01905c7f4a5"
      },
      "outputs": [
        {
          "data": {
            "text/plain": [
              "range(0, 100)"
            ]
          },
          "execution_count": 5,
          "metadata": {},
          "output_type": "execute_result"
        }
      ],
      "source": [
        "range(100) # 메모리를 0~ 99 한 번에 할당하지 않음. (python 3.x 부터)\n",
        "# 시작과 끝 값만 가지고 다음값으로 이동 후 끝값에 도달했는지 확인만 함."
      ]
    },
    {
      "cell_type": "code",
      "execution_count": null,
      "metadata": {
        "colab": {
          "base_uri": "https://localhost:8080/"
        },
        "id": "8JtC2tBwHIqx",
        "outputId": "f7b64ecf-8ac9-4d7e-c24c-02706c8c163d"
      },
      "outputs": [
        {
          "name": "stdout",
          "output_type": "stream",
          "text": [
            "10\n",
            "30\n",
            "40\n",
            "50\n"
          ]
        }
      ],
      "source": [
        "for i in filter(f, [10,20,30,40,50,20,20,20]):\n",
        "    print(i)"
      ]
    },
    {
      "cell_type": "code",
      "execution_count": null,
      "metadata": {
        "colab": {
          "base_uri": "https://localhost:8080/"
        },
        "id": "xDiCzAgMHbWJ",
        "outputId": "d8f9ecfc-1c32-418c-ee5a-2691e4cea3b5"
      },
      "outputs": [
        {
          "data": {
            "text/plain": [
              "[10, 30, 40, 50]"
            ]
          },
          "execution_count": 7,
          "metadata": {},
          "output_type": "execute_result"
        }
      ],
      "source": [
        "list(filter(lambda x: x!=20, [10,20,30,40,50,20,20,20]))"
      ]
    },
    {
      "attachments": {},
      "cell_type": "markdown",
      "metadata": {
        "id": "dUISEvBcH74c"
      },
      "source": [
        "* reverse"
      ]
    },
    {
      "cell_type": "code",
      "execution_count": null,
      "metadata": {
        "colab": {
          "base_uri": "https://localhost:8080/"
        },
        "id": "UukNEJKnVyDR",
        "outputId": "038140ea-6a00-4d0c-ba29-ee0749417890"
      },
      "outputs": [
        {
          "data": {
            "text/plain": [
              "[1, 9, 8, 3, 4, 6, 5]"
            ]
          },
          "execution_count": 70,
          "metadata": {},
          "output_type": "execute_result"
        }
      ],
      "source": [
        "## reverse\n",
        "l = [ 5,6,4,3,8,9,1]\n",
        "l.reverse() # 역 정렬이 아니고 원본을 변경합니다\n",
        "l"
      ]
    },
    {
      "cell_type": "code",
      "execution_count": null,
      "metadata": {
        "colab": {
          "base_uri": "https://localhost:8080/"
        },
        "id": "CCGIaNciWFQt",
        "outputId": "1013c1b1-6e2f-47c1-c970-606fa0c9666d"
      },
      "outputs": [
        {
          "name": "stdout",
          "output_type": "stream",
          "text": [
            "<list_reverseiterator object at 0x7f3ccc453df0>\n",
            "[1, 9, 8, 3, 4, 6, 5]\n",
            "[5, 6, 4, 3, 8, 9, 1]\n"
          ]
        }
      ],
      "source": [
        "l = [ 5,6,4,3,8,9,1]\n",
        "reversed(l) # 역 정렬이 아니고 원본을 변경하지 않습니다.\n",
        "print(reversed(l))\n",
        "print(list(reversed(l)))\n",
        "print(l) #l은 그대로"
      ]
    },
    {
      "cell_type": "code",
      "execution_count": null,
      "metadata": {
        "id": "42YAOt4CWaGF"
      },
      "outputs": [],
      "source": [
        "# l.reverse() : 리스트에 메서드 이며, return None입니다! 원본이 역순, 원본을 만집니다.\n",
        "# reversed() : 빌트인펑션이며, return 역순 입니다! 원본을 만지지 않습니다."
      ]
    },
    {
      "cell_type": "code",
      "execution_count": null,
      "metadata": {
        "colab": {
          "base_uri": "https://localhost:8080/"
        },
        "id": "llmDjwyCWuuj",
        "outputId": "54fe3a93-f361-4254-f525-310a7b4d795e"
      },
      "outputs": [
        {
          "name": "stdout",
          "output_type": "stream",
          "text": [
            "None\n",
            "[1, 9, 8, 3, 4, 6, 5]\n"
          ]
        }
      ],
      "source": [
        "l = [ 5,6,4,3,8,9,1]\n",
        "print(l.reverse())\n",
        "print(l)"
      ]
    },
    {
      "cell_type": "code",
      "execution_count": null,
      "metadata": {
        "colab": {
          "base_uri": "https://localhost:8080/"
        },
        "id": "WHZA2uM_W4Vj",
        "outputId": "445ab7f6-5f1e-445a-f147-abf9d994f31c"
      },
      "outputs": [
        {
          "name": "stdout",
          "output_type": "stream",
          "text": [
            "<list_reverseiterator object at 0x7f3ccc2feb00>\n",
            "[5, 6, 4, 3, 8, 9, 1]\n",
            "[1, 9, 8, 3, 4, 6, 5]\n"
          ]
        }
      ],
      "source": [
        "print(reversed(l))\n",
        "print(list(reversed(l)))\n",
        "print(l)"
      ]
    },
    {
      "cell_type": "code",
      "execution_count": null,
      "metadata": {
        "colab": {
          "base_uri": "https://localhost:8080/"
        },
        "id": "J00nn-ySXX33",
        "outputId": "2f2a4616-e421-4069-f07a-4a7b2e94f50d"
      },
      "outputs": [
        {
          "name": "stdout",
          "output_type": "stream",
          "text": [
            "<class 'range'>\n"
          ]
        }
      ],
      "source": [
        "print(type(range(10)))"
      ]
    },
    {
      "cell_type": "code",
      "execution_count": null,
      "metadata": {
        "colab": {
          "base_uri": "https://localhost:8080/"
        },
        "id": "BsftNWrxbWVX",
        "outputId": "8ee2147d-c97c-4355-b613-3971b5a20625"
      },
      "outputs": [
        {
          "name": "stdout",
          "output_type": "stream",
          "text": [
            "[0, 1, 2]\n",
            "[[0, 0, 0], [0, 0, 0], [0, 0, 0]]\n"
          ]
        }
      ],
      "source": [
        "array = [n for n in range(3)]\n",
        "print(array)\n",
        "array2 = [[0 for n in range(3)] for k in range(3)]\n",
        "print(array2) #[[0, 0, 0], [0, 0, 0], [0, 0, 0]]\n"
      ]
    },
    {
      "cell_type": "code",
      "execution_count": null,
      "metadata": {
        "colab": {
          "base_uri": "https://localhost:8080/"
        },
        "id": "g4B2qDshdAP8",
        "outputId": "7f8af91e-f3c5-4925-8fdc-ac78a11c35a2"
      },
      "outputs": [
        {
          "data": {
            "text/plain": [
              "(1, 2, 3)"
            ]
          },
          "execution_count": 85,
          "metadata": {},
          "output_type": "execute_result"
        }
      ],
      "source": [
        "a, b, c = 1,2,3\n",
        "a,b,c\n"
      ]
    },
    {
      "attachments": {},
      "cell_type": "markdown",
      "metadata": {
        "id": "P8lwCyMRH3L6"
      },
      "source": [
        "* sort"
      ]
    },
    {
      "cell_type": "code",
      "execution_count": null,
      "metadata": {
        "colab": {
          "base_uri": "https://localhost:8080/"
        },
        "id": "LxXsVJkgH2zP",
        "outputId": "a87db422-7e20-4aa7-d68a-c461e5435f4f"
      },
      "outputs": [
        {
          "data": {
            "text/plain": [
              "[1, 2, 2, 3, 4, 5, 5, 8, 9, 10]"
            ]
          },
          "execution_count": 8,
          "metadata": {},
          "output_type": "execute_result"
        }
      ],
      "source": [
        "l = [1,5,4,2,8,5,10,9,2,3]\n",
        "l.sort() # 원본을 만지고, 반환값은 None\n",
        "l"
      ]
    },
    {
      "cell_type": "code",
      "execution_count": null,
      "metadata": {
        "colab": {
          "base_uri": "https://localhost:8080/"
        },
        "id": "uxUQznobIcXA",
        "outputId": "37dc1bdd-e242-4018-8084-f1ff73a0d422"
      },
      "outputs": [
        {
          "name": "stdout",
          "output_type": "stream",
          "text": [
            "[1, 2, 2, 3, 4, 5, 5, 8, 9, 10]\n",
            "[1, 5, 4, 2, 8, 5, 10, 9, 2, 3]\n"
          ]
        }
      ],
      "source": [
        "l = [1,5,4,2,8,5,10,9,2,3]\n",
        "print(sorted([1,5,4,2,8,5,10,9,2,3])) # 원본을 수정하지 않고, 반환값은 정렬된 새 리스트\n",
        "print(l)"
      ]
    },
    {
      "cell_type": "code",
      "execution_count": null,
      "metadata": {
        "colab": {
          "base_uri": "https://localhost:8080/"
        },
        "id": "dWfZK9__Iwf1",
        "outputId": "39c92461-166b-4df0-f617-e666ea08a587"
      },
      "outputs": [
        {
          "data": {
            "text/plain": [
              "[10, 9, 8, 5, 5, 4, 3, 2, 2, 1]"
            ]
          },
          "execution_count": 11,
          "metadata": {},
          "output_type": "execute_result"
        }
      ],
      "source": [
        "# 실무에서 역정렬 이렇게 하진 않음..\n",
        "l = [1,5,4,2,8,5,10,9,2,3]\n",
        "l.sort()\n",
        "l.reverse()\n",
        "l"
      ]
    },
    {
      "cell_type": "code",
      "execution_count": null,
      "metadata": {
        "colab": {
          "base_uri": "https://localhost:8080/"
        },
        "id": "cHlFfwD5I8q5",
        "outputId": "fd846ad2-2abe-4ad0-f69e-6d21ab35b2de"
      },
      "outputs": [
        {
          "data": {
            "text/plain": [
              "[10, 9, 8, 5, 5, 4, 3, 2, 2, 1]"
            ]
          },
          "execution_count": 12,
          "metadata": {},
          "output_type": "execute_result"
        }
      ],
      "source": [
        "l = [1,5,4,2,8,5,10,9,2,3]\n",
        "l.sort(reverse=True) # 내림차순 정렬 시 reverse 인자에 True\n",
        "l"
      ]
    },
    {
      "cell_type": "code",
      "execution_count": null,
      "metadata": {
        "colab": {
          "base_uri": "https://localhost:8080/"
        },
        "id": "WPcULghOJIXa",
        "outputId": "9f35a7aa-65e3-41c3-abec-381588430e27"
      },
      "outputs": [
        {
          "name": "stdout",
          "output_type": "stream",
          "text": [
            "[10, 9, 8, 5, 5, 4, 3, 2, 2, 1]\n",
            "[1, 5, 4, 2, 8, 5, 10, 9, 2, 3]\n"
          ]
        }
      ],
      "source": [
        "l = [1,5,4,2,8,5,10,9,2,3]\n",
        "print(sorted(l, reverse=True)) # 내림차순 정렬 시 reverse 인자에 True\n",
        "print(l)"
      ]
    },
    {
      "cell_type": "code",
      "execution_count": null,
      "metadata": {
        "colab": {
          "base_uri": "https://localhost:8080/"
        },
        "id": "mU2lHB0wJcBi",
        "outputId": "b6e8c2a1-7dc1-4047-cc5f-07f36019bebc"
      },
      "outputs": [
        {
          "name": "stdout",
          "output_type": "stream",
          "text": [
            "[[55, 11, 'sun'], [20, 30, 'hojun'], [10, 20, 'weniv!'], [1, 10, 'leehojun'], [1, 2, 'hello world']]\n",
            "[[55, 11, 'sun'], [20, 30, 'hojun'], [10, 20, 'weniv!'], [1, 10, 'leehojun'], [1, 2, 'hello world']]\n",
            "[[1, 2, 'hello world'], [1, 10, 'leehojun'], [10, 20, 'weniv!'], [20, 30, 'hojun'], [55, 11, 'sun']]\n",
            "[[1, 10, 'leehojun'], [1, 2, 'hello world'], [10, 20, 'weniv!'], [20, 30, 'hojun'], [55, 11, 'sun']]\n",
            "[[1, 10, 'leehojun'], [1, 2, 'hello world'], [10, 20, 'weniv!'], [20, 30, 'hojun'], [55, 11, 'sun']]\n",
            "[[1, 2, 'hello world'], [1, 10, 'leehojun'], [55, 11, 'sun'], [10, 20, 'weniv!'], [20, 30, 'hojun']]\n",
            "[[1, 2, 'hello world'], [1, 10, 'leehojun'], [55, 11, 'sun'], [10, 20, 'weniv!'], [20, 30, 'hojun']]\n",
            "[[1, 2, 13], [1, 10, 32], [10, 20, 22], [20, 30, 11], [55, 11, 44]]\n",
            "[[1, 2, 13], [1, 10, 32], [10, 20, 22], [20, 30, 11], [55, 11, 44]]\n",
            "[[1, 2, 13], [1, 10, 32], [10, 20, 22], [20, 30, 11], [55, 11, 44]]\n",
            "[[1, 2, 13], [1, 10, 32], [10, 20, 22], [20, 30, 11], [55, 11, 44]]\n"
          ]
        }
      ],
      "source": [
        "# 많이 사용하는 문법!!!!!!!!!!!!!!!!!!!!!!!!!!!!!!!!!!!!!!!!\n",
        "\n",
        "l = [[1, 10, 'leehojun'], \n",
        "     [20, 30, 'hojun'], \n",
        "     [10, 20, 'weniv!'], \n",
        "     [1, 2, 'hello world'], \n",
        "     [55, 11, 'sun']]\n",
        "\n",
        "# 1. 글자 수 대로 정렬해주세요.\n",
        "def f(x):\n",
        "    return len(x[2]) # len(x[-1])\n",
        "\n",
        "print(sorted(l, key=f, reverse=False))\n",
        "print(sorted(l, key=lambda x : len(x[-1]), reverse=False))\n",
        "\n",
        "# 2. 맨 앞에 위치한 숫자대로 정렬해주세요.\n",
        "def f2(x):\n",
        "    return x[0]\n",
        "\n",
        "print(sorted(l))   # 아무것도 지정하지 않으면 요소의 첫 번째 요소를 기준으로 정렬\n",
        "print(sorted(l, key=f2))\n",
        "print(sorted(l, key=lambda x: x[0]))\n",
        "\n",
        "# 3. 중앙에 위치한 값대로 정렬해주세요.\n",
        "def f3(x):\n",
        "    return x[1]\n",
        "\n",
        "print(sorted(l, key=f3))\n",
        "print(sorted(l, key=lambda x: x[1]))\n",
        "\n",
        "\n",
        "l = [[1, 10, 32], \n",
        "     [20, 30, 11], \n",
        "     [10, 20, 22], \n",
        "     [1, 2, 13], \n",
        "     [55, 11, 44]]\n",
        "\n",
        "\n",
        "# 4. 3개의 전체 합이 작은 순서대로 출력해주세요.\n",
        "\n",
        "def f4(x):\n",
        "    return x[0]+ x[1] +x[2]\n",
        "\n",
        "def f5(x):\n",
        "    return sum(x)\n",
        "\n",
        "print(sorted(l,key=f4))\n",
        "print(sorted(l,key=f5))\n",
        "print(sorted(l,key=lambda x : sum(x)))\n",
        "print(sorted(l,key=sum))"
      ]
    },
    {
      "cell_type": "code",
      "execution_count": null,
      "metadata": {
        "colab": {
          "base_uri": "https://localhost:8080/"
        },
        "id": "7Fjbu7yTNy89",
        "outputId": "b9f45bdc-a3d6-4fdc-912b-9016f14a5c9e"
      },
      "outputs": [
        {
          "name": "stdout",
          "output_type": "stream",
          "text": [
            "[(1, 3), (3, 4), (4, 8), (8, 13), (13, 17), (17, 20)]\n",
            "[(3, 4), (1, 3), (17, 20), (4, 8), (13, 17), (8, 13)]\n"
          ]
        },
        {
          "data": {
            "text/plain": [
              "(3, 4)"
            ]
          },
          "execution_count": 39,
          "metadata": {},
          "output_type": "execute_result"
        }
      ],
      "source": [
        "# https://codingdojang.com/scode/408?answer_mode=hide\n",
        "# 좌표평면 문제가 나오면 차원 축소나 차원 확대가 가능한 문제인지 확인\n",
        "\n",
        "point = [1,3,4,8,13,17,20]\n",
        "\n",
        "# slicing 이용해서 짝지어줌\n",
        "print(list(zip(point, point[1:]))) ## 원하는대로 묶어줬는지 확인\n",
        "#하지만 실무에서 이렇게 형변환 하는건 메모리 낭비가 심해서 이렇게 하면 안됨\n",
        "\n",
        "print(sorted(zip(point, point[1:]), key=lambda x:x[1]-x[0]))\n",
        "sorted(zip(point, point[1:]), key=lambda x:x[1]-x[0])[0]"
      ]
    },
    {
      "cell_type": "code",
      "execution_count": null,
      "metadata": {
        "colab": {
          "base_uri": "https://localhost:8080/"
        },
        "id": "VAG_UKsHOdQu",
        "outputId": "aa542b0c-67e3-41bc-8355-d4dab81861c4"
      },
      "outputs": [
        {
          "data": {
            "text/plain": [
              "[('h', 'w'), ('e', 'o'), ('l', 'r'), ('l', 'l'), ('o', 'd')]"
            ]
          },
          "execution_count": 34,
          "metadata": {},
          "output_type": "execute_result"
        }
      ],
      "source": [
        "# built in function zip()\n",
        "list(zip('hello!', 'world')) # 짧은 길이 기준으로 같은 인덱스끼리 tuple로 묶어줌"
      ]
    },
    {
      "cell_type": "code",
      "execution_count": null,
      "metadata": {
        "colab": {
          "base_uri": "https://localhost:8080/"
        },
        "id": "FKiOSglRUKb8",
        "outputId": "808665c6-16ba-4efb-8854-fdc0431c8ff1"
      },
      "outputs": [
        {
          "data": {
            "text/plain": [
              "[3, 1, 2]"
            ]
          },
          "execution_count": 45,
          "metadata": {},
          "output_type": "execute_result"
        }
      ],
      "source": [
        "# https://school.programmers.co.kr/learn/courses/30/lessons/120835?language=python3\n",
        "# 응급도\n",
        "# [3, 76, 24]\n",
        "# 우선순위\n",
        "# [3, 1, 2]\n",
        "l = [3, 76, 24]\n",
        "정렬된값 = sorted(l,reverse=True)\n",
        "#정렬된값    # [76, 24, 3]\n",
        "#원하는값    # [3, 1, 2]\n",
        "\n",
        "# l을 정렬해서 우선순위 순서대로 정렬을 해야\n",
        "# 원래 l 순서에서의 우선순위 값을 만들어 줄 수 있습니다\n",
        "# 즉 정렬된 값의 원소가 l에서 몇 번째 있는지 넣어주면 됨\n",
        "결과값 = [정렬된값.index(l[0]) + 1 ,정렬된값.index(l[1]) + 1,정렬된값.index(l[2]) +1 ]\n",
        "결과값\n",
        "\n",
        "## 내가 따로 푼 것\n",
        "def solution(emergency): # 3 76 24\n",
        "    descend = sorted(emergency, reverse=True) # 76 24 3\n",
        "    #answer = [descend.index(emergency[i]) + 1 for i in range(len(emergency)) ]\n",
        "    answer = [descend.index(i) +1 for i in emergency]\n",
        "    return answer\n",
        "\n",
        "## 자료\n",
        "def solution(emergency):\n",
        "    order = sorted(emergency, reverse=True)\n",
        "    answer = list(map(lambda x : order.index(x)+1 , emergency))"
      ]
    },
    {
      "cell_type": "code",
      "execution_count": null,
      "metadata": {
        "colab": {
          "base_uri": "https://localhost:8080/"
        },
        "id": "BBNYl7FEK4TZ",
        "outputId": "e4449e24-e5f5-472d-a974-4638c39c587d"
      },
      "outputs": [
        {
          "name": "stdout",
          "output_type": "stream",
          "text": [
            "['a', 'b', 'c', 'd', 'e', 'y']\n",
            "['a', 'aa', 'aaa', 'aaaa', 'ab', 'ac', 'aii', 'ak']\n"
          ]
        }
      ],
      "source": [
        "# 문자는 알파벳 순으로...\n",
        "l = ['c','d', 'a','b', 'e', 'y']\n",
        "l.sort()\n",
        "print(l)\n",
        "\n",
        "# 문자열은 길이순보다 같은 문자 반복이 더 순위가 높음\n",
        "k = [ 'ab','aaa', 'aa', 'ak', 'aii', 'aaaa', 'ac', 'a']\n",
        "k.sort()\n",
        "print(k)"
      ]
    },
    {
      "attachments": {},
      "cell_type": "markdown",
      "metadata": {
        "id": "4zNSwzoxjlkr"
      },
      "source": [
        "## !! 오늘 배운 것 정리 230503\n",
        "\n",
        "1. 함수\n",
        "\n",
        "   1. 코드 덩어리(정말 쉽게 설명하면)\n",
        "   2. 코드를 재사용 할 수 있으며, 실수를 줄일 수 있습니다.\n",
        "   3. 코드의 구조를 한 눈에 파악할 수 있습니다.\n",
        "   4. 형태\n",
        "      ```python\n",
        "      # 파선아실(파라미터는 선언할 때, 아규먼트는 실제)\n",
        "      def function(x, y):\n",
        "          z = x + y\n",
        "          return z\n",
        "      print(f'function(5, 7) = {function(5, 7)}')\n",
        "      ```\n",
        "   5. 함수 안에 함수와 함수 안에 변수는 밖에서 접근이 불가합니다.\n",
        "   6. 지역 변수와 전역 변수\n",
        "      - 전역변수 : 전역에서 접근할 수 있는 변수\n",
        "      - 지역변수 : 함수 내에서만 접근할 수 있는 변수\n",
        "      ```python\n",
        "      # 전역변수는 각 함수에서 접근은 가능하지만 수정이 되진 않습니다.\n",
        "      # only read\n",
        "      # global이라는 키워드로 밖에 있는 변수를 수정할 수도 있지만 권하지 않습니다.\n",
        "      # 권하지 않기에 요약자료에도 없습니다.\n",
        "      a = 100\n",
        "      def f():\n",
        "          a = a + 1\n",
        "      f()\n",
        "      ```\n",
        "   7. 재귀함수\n",
        "\n",
        "      - 내가 나를 호출하는 것입니다.\n",
        "      - 재귀 <-> for문은 대부분 호환이 가능합니다.\n",
        "      - 반복문 사용하시기를 권합니다!\n",
        "      - 어렵고 효율도 안좋아요! (얼마나 효율이 안좋은지도 확인해보겠습니다.)\n",
        "      - 필수적으로 사용하는 곳이 있습니다.\n",
        "\n",
        "      ```python\n",
        "      def f(n):\n",
        "          if n <= 1:\n",
        "              return 1\n",
        "          else:\n",
        "              return n * f(n-1)\n",
        "\n",
        "      f(5)\n",
        "      ```\n",
        "\n",
        "2. list (리스트)\n",
        "\n",
        "   - 순서를 가진 데이터들의 집합(Sequence)\n",
        "   - 리스트는 값의 변경\n",
        "   - 리스트 안에 리스트로 다차원의 리스트를 만드는 것도 가능\n",
        "   - 리스트 안에 다른 딕셔너리, 셋, 튜플 등을 넣는 것도 가능합니다\n",
        "\n",
        "   ```python\n",
        "   l = [10, 20, 30, 40]\n",
        "   print(l[0]) # 순서로 값 호출\n",
        "   l[0] = 1000 # 값의 변경 가능\n",
        "   print(l)\n",
        "\n",
        "   data = [[1, 2, 3], # 다차원 배열\n",
        "       [4, 5, 6],\n",
        "       [7, 8, 9]]\n",
        "\n",
        "   print(data)\n",
        "   ```\n",
        "\n",
        "   - 리스트 메서드\n",
        "     - append : 맨 뒤에 값 추가\n",
        "     - clear : 모든 값 지우기\n",
        "     - copy : 얕은 복사\n",
        "     - count : 갯수 세기\n",
        "     - extend : 확장하기(뒤에 순회 가능한 객체가 들어오면 순차적으로 추가)\n",
        "     - index : 위치 찾기\n",
        "     - insert : 삽입하기\n",
        "     - pop: 맨 뒤에서 값 꺼내기(index가 들어오면 index에서 값 꺼냄)\n",
        "     - remove : 값 지우기\n",
        "     - reverse : 역순\n",
        "     - sort : 정렬\n"
      ]
    },
    {
      "attachments": {},
      "cell_type": "markdown",
      "metadata": {
        "id": "NPdNgGwaWTu0"
      },
      "source": [
        "## 깊은 복사와 얕은 복사"
      ]
    },
    {
      "attachments": {},
      "cell_type": "markdown",
      "metadata": {
        "id": "6uh0HjqQYB2t"
      },
      "source": [
        "* python 에서는 하나의 컨벤션 안에 같은 값이 있으면 같은 곳을 가리키게 해서 저장하고있다. (메모리 효율을 증가시키기 위해서)"
      ]
    },
    {
      "cell_type": "code",
      "execution_count": null,
      "metadata": {
        "colab": {
          "base_uri": "https://localhost:8080/"
        },
        "id": "KVaUS7GhWWPg",
        "outputId": "d42d6fd0-ed03-4928-ed68-ea05ec302386"
      },
      "outputs": [
        {
          "name": "stdout",
          "output_type": "stream",
          "text": [
            "[[10, 2, 3], [4, 5, 6]] [[10, 2, 3], [4, 5, 6]]\n",
            "True\n"
          ]
        }
      ],
      "source": [
        "# 아무런 복사도 이뤄지지 않은 상태\n",
        "# 같은 공간을 l, ll이 가리키고 있음\n",
        "l = [[1,2,3],[4,5,6]]\n",
        "ll = l\n",
        "ll[0][0] = 10\n",
        "print(l, ll)\n",
        "print(id(l) == id(ll)) ## list 객체가 가리키는 주소가 같다"
      ]
    },
    {
      "cell_type": "code",
      "execution_count": null,
      "metadata": {
        "colab": {
          "base_uri": "https://localhost:8080/"
        },
        "id": "4AKoyXcGYPoP",
        "outputId": "f5b1470e-6d45-4fbb-fc29-f1e09a7b2d1c"
      },
      "outputs": [
        {
          "data": {
            "text/plain": [
              "(140688095079824, 140688095079824, 140688095079824, 140688095079824)"
            ]
          },
          "execution_count": 57,
          "metadata": {},
          "output_type": "execute_result"
        }
      ],
      "source": [
        "# python 에서는 하나의 컨벤션 안에 같은 값이 있으면 같은 곳을 가리키게 해서 저장하고있다. \n",
        "# (메모리 효율을 증가시키기 위해서)\n",
        "l = [1000,2000,3000,1000,1000,1000]\n",
        "id(l[0]),id(l[3]),id(l[4]),id(l[5])  ## 모두 같은 값을 가지고 있음"
      ]
    },
    {
      "cell_type": "code",
      "execution_count": null,
      "metadata": {
        "colab": {
          "base_uri": "https://localhost:8080/"
        },
        "id": "zclLYvIAW1jy",
        "outputId": "e7ec8361-b321-47bd-b1a7-1d1248bb7d48"
      },
      "outputs": [
        {
          "name": "stdout",
          "output_type": "stream",
          "text": [
            "[1000, 2000, 3000, 4000, 5000, 6000] [10, 2000, 3000, 4000, 5000, 6000]\n",
            "False\n",
            "False\n"
          ]
        }
      ],
      "source": [
        "# 얕은 복사\n",
        "l = [1000, 2000, 3000, 4000, 5000, 6000]\n",
        "ll = l.copy()\n",
        "# ll[0] = 10  ## ll[0]만 변경됨\n",
        "print(l, ll)\n",
        "print(id(l[0]) == id(ll[0]))      # 얕은 복사를 해도 리스트 안에 들어간 값은 같은 주소를 가리키고 있음. -5~256 아니어도\n",
        "print(id(l) == id(ll))            # 각 리스트는 다른 공간에 선언되어 있다."
      ]
    },
    {
      "cell_type": "code",
      "execution_count": null,
      "metadata": {
        "colab": {
          "base_uri": "https://localhost:8080/"
        },
        "id": "QiTuuTrtXSv9",
        "outputId": "8bd292df-7cec-431e-b073-22b356a55b81"
      },
      "outputs": [
        {
          "name": "stdout",
          "output_type": "stream",
          "text": [
            "True\n"
          ]
        }
      ],
      "source": [
        "# 얕은 복사\n",
        "l = [1,2,3,4,5,6]\n",
        "ll = l.copy()   # list의 메서드 copy는 얕은 복사\n",
        "print(id(l) != id(ll)) "
      ]
    },
    {
      "cell_type": "code",
      "execution_count": null,
      "metadata": {
        "colab": {
          "base_uri": "https://localhost:8080/"
        },
        "id": "7KibXVDTWm46",
        "outputId": "87f3bfd3-7d7d-43c9-fa80-6f062214d8af"
      },
      "outputs": [
        {
          "data": {
            "text/plain": [
              "([[1, 2, 3], [4, 5, 6]], [100, [4, 5, 6]])"
            ]
          },
          "execution_count": 60,
          "metadata": {},
          "output_type": "execute_result"
        }
      ],
      "source": [
        "# 얕은 복사\n",
        "l = [[1,2,3],[4,5,6]]\n",
        "ll = l.copy()\n",
        "# ll[0][0] = 10     # l[0][0]과 같이 수정됨 >> 얕은복사는 1 depth만 복사\n",
        "ll[0] = 100         # ll만 수정됨. >> 1depth라서 l과 ll은 다르다\n",
        "l, ll"
      ]
    },
    {
      "cell_type": "code",
      "execution_count": null,
      "metadata": {
        "colab": {
          "base_uri": "https://localhost:8080/"
        },
        "id": "vbD4llZPYiIt",
        "outputId": "0c934f7c-8a0b-4cac-e3b0-463a9b99e70b"
      },
      "outputs": [
        {
          "data": {
            "text/plain": [
              "(140688095079824, 140688095080208)"
            ]
          },
          "execution_count": 58,
          "metadata": {},
          "output_type": "execute_result"
        }
      ],
      "source": [
        "id(l[0]),id(ll[0])"
      ]
    },
    {
      "attachments": {},
      "cell_type": "markdown",
      "metadata": {
        "id": "X2vEYSOtZVBN"
      },
      "source": [
        "* 깊은복사"
      ]
    },
    {
      "cell_type": "code",
      "execution_count": null,
      "metadata": {
        "colab": {
          "base_uri": "https://localhost:8080/"
        },
        "id": "lZUf290iZUyt",
        "outputId": "00f3fb10-d79b-48f5-b36a-3baf9f958283"
      },
      "outputs": [
        {
          "name": "stdout",
          "output_type": "stream",
          "text": [
            "140688091500032 140688091499968\n",
            "140688092484544 140688092637632\n",
            "140689408082160 140689408082448\n"
          ]
        }
      ],
      "source": [
        "# 깊은 복사\n",
        "import copy\n",
        "l = [[1, 2, 3], [4, 5, 6]]\n",
        "ll = copy.deepcopy(l)\n",
        "ll[0][0] = 10\n",
        "\n",
        "# 모든 차원에 있는 원소의 주소가 다 다름\n",
        "print(id(l), id(ll))\n",
        "print(id(l[0]), id(ll[0]))\n",
        "print(id(l[0][0]), id(ll[0][0]))"
      ]
    },
    {
      "cell_type": "code",
      "execution_count": null,
      "metadata": {
        "colab": {
          "base_uri": "https://localhost:8080/"
        },
        "id": "CCBfltONZqCa",
        "outputId": "156fd954-4361-40c1-8065-aaad9dc601ad"
      },
      "outputs": [
        {
          "name": "stdout",
          "output_type": "stream",
          "text": [
            "[[1, 2, [1, [999, 998]]], [4, 5, [2, [333, 332]]]]\n",
            "[[1, 2, [1, [10, 998]]], [4, 5, [2, [333, 332]]]]\n",
            "140688637413824 140688093000960\n",
            "140688092756800 140688093976128\n",
            "140689408082160 140689408082160\n"
          ]
        }
      ],
      "source": [
        "# 깊은 복사\n",
        "import copy\n",
        "\n",
        "l = [[1,2,[1,[999,998]]], [4,5,[2,[333,332]]]]\n",
        "ll = copy.deepcopy(l)\n",
        "ll[0][2][1][0] = 10     # ll만 수정됨\n",
        "print(l)\n",
        "print(ll)\n",
        "print(id(l), id(ll))\n",
        "print(id(l[0]), id(ll[0]))\n",
        "print(id(l[0][0]), id(ll[0][0]))"
      ]
    },
    {
      "attachments": {},
      "cell_type": "markdown",
      "metadata": {
        "id": "3wpV1fy_aPe-"
      },
      "source": [
        "* 얕은 복사는 1 계층만 복사합니다.\n",
        "    > .copy(), slicing( [ ] ), sorted() ...\n",
        "* 깊은 복사는 n 계층까지 모두 복사합니다."
      ]
    },
    {
      "attachments": {},
      "cell_type": "markdown",
      "metadata": {
        "id": "T7IBsKjnaiIL"
      },
      "source": [
        "* 나를 이해시키는 단 하나의 코드는 반드시 존재합니다."
      ]
    },
    {
      "attachments": {},
      "cell_type": "markdown",
      "metadata": {
        "id": "0kDz-KeygJlB"
      },
      "source": [
        "* 얕은복사 기타등등"
      ]
    },
    {
      "cell_type": "code",
      "execution_count": null,
      "metadata": {
        "colab": {
          "base_uri": "https://localhost:8080/"
        },
        "id": "hlIkfIurfqNF",
        "outputId": "9af827bf-fef5-4ec1-e6c3-6ab21b546a66"
      },
      "outputs": [
        {
          "name": "stdout",
          "output_type": "stream",
          "text": [
            "[[10, 2], [3, 4], [5, 6]] [[10, 2], [3, 4], [5, 6]]\n",
            "False\n"
          ]
        }
      ],
      "source": [
        "# sorted도 얕은 복사!\n",
        "l = [[1,2],[3,4],[5,6]]\n",
        "ll = sorted(l)\n",
        "ll[0][0] = 10           # 얕은 복사라 2차원 원소는 같이 바뀜\n",
        "print(l, ll)\n",
        "print(id(l) == id(ll))  # 얕은 복사라 리스트 id는 다름"
      ]
    },
    {
      "cell_type": "code",
      "execution_count": null,
      "metadata": {
        "colab": {
          "base_uri": "https://localhost:8080/"
        },
        "id": "IBq51qhJawg3",
        "outputId": "6b88e07f-e09e-424e-9043-fcb4e04c3718"
      },
      "outputs": [
        {
          "data": {
            "text/plain": [
              "([100, [4, 5, 6]], [[1, 2, 3], [4, 5, 6]])"
            ]
          },
          "execution_count": 72,
          "metadata": {},
          "output_type": "execute_result"
        }
      ],
      "source": [
        "# 얕은 복사\n",
        "# copy를 써도 마찬가지. slicing으로 복사하는것은 얕은복사\n",
        "l = [[1, 2, 3], [4, 5, 6]]\n",
        "ll = l[:]\n",
        "l[0] = 100      # 한쪽만 바뀜\n",
        "l, ll"
      ]
    },
    {
      "cell_type": "code",
      "execution_count": null,
      "metadata": {
        "colab": {
          "base_uri": "https://localhost:8080/"
        },
        "id": "QGG6SgaIbV6a",
        "outputId": "2a7c8896-3e16-4a3c-c486-b15064fbb800"
      },
      "outputs": [
        {
          "data": {
            "text/plain": [
              "([[100, 2, 3], [4, 5, 6]], [[100, 2, 3], [4, 5, 6]])"
            ]
          },
          "execution_count": 73,
          "metadata": {},
          "output_type": "execute_result"
        }
      ],
      "source": [
        "# 얕은 복사\n",
        "# copy를 써도 마찬가지. slicing으로 복사하는것은 얕은복사\n",
        "l = [[1, 2, 3], [4, 5, 6]]\n",
        "ll = l[:]\n",
        "l[0][0] = 100       # 한쪽만 바뀜\n",
        "l, ll"
      ]
    },
    {
      "cell_type": "code",
      "execution_count": null,
      "metadata": {
        "colab": {
          "base_uri": "https://localhost:8080/"
        },
        "id": "JYlAobyRbg1i",
        "outputId": "ad42446e-c5b1-4d68-cabe-5744237c423b"
      },
      "outputs": [
        {
          "data": {
            "text/plain": [
              "([[100, 2, 3], [4, 5, 6]], [[100, 2, 3], [4, 5, 6]])"
            ]
          },
          "execution_count": 74,
          "metadata": {},
          "output_type": "execute_result"
        }
      ],
      "source": [
        "# 얕은 복사\n",
        "# 리스트 컴프리헨션은 안배운 내용이니 keep\n",
        "# for 배운다음 다시 와서 복습하기!\n",
        "l = [[1, 2, 3], [4, 5, 6]]\n",
        "ll = [i for i in l]\n",
        "l[0][0] = 100\n",
        "l, ll"
      ]
    },
    {
      "cell_type": "code",
      "execution_count": null,
      "metadata": {
        "colab": {
          "base_uri": "https://localhost:8080/"
        },
        "id": "uodinJyqb4zC",
        "outputId": "84894f6c-1f9a-4c9f-e5d5-accf165ae550"
      },
      "outputs": [
        {
          "data": {
            "text/plain": [
              "([[100, 2, 3], [4, 5, 6]], [[1, 2, 3], [4, 5, 6]])"
            ]
          },
          "execution_count": 75,
          "metadata": {},
          "output_type": "execute_result"
        }
      ],
      "source": [
        "# 1단계 깊은 복사\n",
        "# 리스트 컴프리헨션은 안배운 내용이니 keep해두시고\n",
        "# for문 배운다음 다시 오셔서 복습하시기를 권해드립니다.\n",
        "l = [[1, 2, 3], [4, 5, 6]]\n",
        "ll = [i[:] for i in l]\n",
        "l[0][0] = 100\n",
        "l, ll"
      ]
    },
    {
      "attachments": {},
      "cell_type": "markdown",
      "metadata": {
        "id": "XisrarEDceEi"
      },
      "source": [
        "## 다차원 리스트"
      ]
    },
    {
      "cell_type": "code",
      "execution_count": null,
      "metadata": {
        "colab": {
          "base_uri": "https://localhost:8080/"
        },
        "id": "iDGMkFUPciD-",
        "outputId": "cf442ea4-318d-4766-e8e1-e5152dafcc4c"
      },
      "outputs": [
        {
          "name": "stdout",
          "output_type": "stream",
          "text": [
            "jun\n",
            "jun\n"
          ]
        }
      ],
      "source": [
        "a = [[1, 2, 3],\n",
        "     [11, 22, 33],\n",
        "     ['leehojun', 20, 30]]\n",
        "\n",
        "# jun 만 뽑아주세요\n",
        "\n",
        "print(a[2][0][-3:])\n",
        "print(a[2][0][5:])"
      ]
    },
    {
      "attachments": {},
      "cell_type": "markdown",
      "metadata": {
        "id": "ijIPZac4gPZx"
      },
      "source": [
        "## 리스트에서 built-in function 이용"
      ]
    },
    {
      "cell_type": "code",
      "execution_count": null,
      "metadata": {
        "colab": {
          "base_uri": "https://localhost:8080/"
        },
        "id": "cbExYXp1gTHt",
        "outputId": "4f8ac5bc-e6be-4e9b-de2d-f618b8937104"
      },
      "outputs": [
        {
          "name": "stdout",
          "output_type": "stream",
          "text": [
            "8\n",
            "1\n",
            "36\n"
          ]
        }
      ],
      "source": [
        "#1차원\n",
        "a = [1, 2, 3, 4, 5, 6, 7, 8]\n",
        "print(max(a)) #최댓값\n",
        "print(min(a)) #최솟값\n",
        "print(sum(a)) #전체값의 합"
      ]
    },
    {
      "cell_type": "code",
      "execution_count": null,
      "metadata": {
        "colab": {
          "base_uri": "https://localhost:8080/"
        },
        "id": "cMWfU8OMh6sx",
        "outputId": "dc581760-a1df-4101-e4ac-0b93a9f83b47"
      },
      "outputs": [
        {
          "name": "stdout",
          "output_type": "stream",
          "text": [
            "[11, 22, 33]\n",
            "[1, 2, 3]\n"
          ]
        },
        {
          "data": {
            "text/plain": [
              "[1, 2, 3, 11, 22, 33, 10, 2000, 30]"
            ]
          },
          "execution_count": 90,
          "metadata": {},
          "output_type": "execute_result"
        }
      ],
      "source": [
        "#2차원\n",
        "a = [[1, 2, 3],\n",
        "     [11, 22, 33],\n",
        "     [10, 2000, 30]]\n",
        "print(max(a))   # 리스트 비교시 첫번째 요소로 비교함\n",
        "print(min(a))\n",
        "# sum(a) # error    # 요소가 리스트인 리스트는 sum을 못함\n",
        "max(a, key=lambda x:x[1])   # min과 max도 key를 주어서 기준값을 설정해줄 수 있음\n",
        "min(a, key=lambda x:x[1])\n",
        "# sum(a) error\n",
        "sum(a, [])"
      ]
    },
    {
      "cell_type": "code",
      "execution_count": null,
      "metadata": {
        "colab": {
          "base_uri": "https://localhost:8080/"
        },
        "id": "vcQxL35ViBgu",
        "outputId": "8ae4809c-f4ca-44dd-bb8d-9d7747d1c1c0"
      },
      "outputs": [
        {
          "name": "stdout",
          "output_type": "stream",
          "text": [
            "[10, 2000, 30, 'aa']\n"
          ]
        },
        {
          "data": {
            "text/plain": [
              "[11, 22, 33, 'aaa']"
            ]
          },
          "execution_count": 88,
          "metadata": {},
          "output_type": "execute_result"
        }
      ],
      "source": [
        "#2차원\n",
        "a = [[1, 2, 3, 'a'],\n",
        "     [11, 22, 33, 'aaa'],\n",
        "     [10, 2000, 30, 'aa']]\n",
        "\n",
        "print(max(a, key=lambda x:x[1]))\n",
        "max(a, key=lambda x:len(x[3])) # 같은문자 반복일경우 더긴거~"
      ]
    },
    {
      "cell_type": "code",
      "execution_count": null,
      "metadata": {
        "id": "blmo8eh-iV6C"
      },
      "outputs": [],
      "source": [
        "# 이름, 별점, 객실 수, 가격\n",
        "호텔 = [\n",
        "    ['이스트소프트 호텔', 5, 100, 155000],\n",
        "    ['삼스트소프트 호텔', 4, 80, 145000],\n",
        "    ['사스트소프트 호텔', 2, 70, 135000], \n",
        "      # 마지막에 콤마를 허락하는 언어는 제한적(특히 JSON에서는 엄격해서 허락하지 않습니다.)\n",
        "      ]\n",
        "\n",
        "max(a, key=lambda x:x[3])   # 가장 가격이 높은 것을 뽑아낼 수 있음\n",
        "min(a, key=lambda x:x[3])   # 가장 가격이 저렴한 것을 뽑아낼 수 있음\n"
      ]
    },
    {
      "attachments": {},
      "cell_type": "markdown",
      "metadata": {
        "id": "xYPHcfINkNTi"
      },
      "source": [
        "* 제이슨 제너레이터\n",
        "* https://json-generator.com/\n",
        "* 자주 사용하면서 익숙해지길?"
      ]
    },
    {
      "attachments": {},
      "cell_type": "markdown",
      "metadata": {
        "id": "qbeg4B6Nkgje"
      },
      "source": [
        "## 리스트의 순회"
      ]
    },
    {
      "cell_type": "code",
      "execution_count": null,
      "metadata": {
        "colab": {
          "base_uri": "https://localhost:8080/"
        },
        "id": "QzAEtq2DkiAK",
        "outputId": "97c0f762-aa3c-4c2b-bcc0-3d27f4cc78b4"
      },
      "outputs": [
        {
          "name": "stdout",
          "output_type": "stream",
          "text": [
            "1\n",
            "2\n",
            "3\n",
            "4\n",
            "5\n",
            "6\n",
            "7\n",
            "8\n"
          ]
        }
      ],
      "source": [
        "#1차원\n",
        "a = [1, 2, 3, 4, 5, 6, 7, 8]\n",
        "\n",
        "for i in a:     # for 변수 in 순회가능한객체:\n",
        "     print(i)"
      ]
    },
    {
      "cell_type": "code",
      "execution_count": null,
      "metadata": {
        "colab": {
          "base_uri": "https://localhost:8080/"
        },
        "id": "Ap8__JN0k29q",
        "outputId": "ebd8eecb-16d0-4f31-e786-2c06b7d925d6"
      },
      "outputs": [
        {
          "name": "stdout",
          "output_type": "stream",
          "text": [
            "[1, 2, 3]\n",
            "---\n",
            "[11, 22, 33]\n",
            "---\n",
            "[13, 20000, 300000]\n",
            "---\n",
            "end\n"
          ]
        }
      ],
      "source": [
        "#2차원\n",
        "a = [[1, 2, 3],\n",
        "     [11, 22, 33],\n",
        "     [13, 20000, 300000]]\n",
        "\n",
        "for i in a:\n",
        "    print(i)\n",
        "    print('---')\n",
        "print('end')"
      ]
    },
    {
      "cell_type": "code",
      "execution_count": null,
      "metadata": {
        "colab": {
          "base_uri": "https://localhost:8080/"
        },
        "id": "IfpGdq4hlWF0",
        "outputId": "ae5bf443-487f-4f47-df7a-76011fa18eab"
      },
      "outputs": [
        {
          "name": "stdout",
          "output_type": "stream",
          "text": [
            "1 2 3 \n",
            "---\n",
            "11 22 33 \n",
            "---\n",
            "13 20000 300000 \n",
            "---\n",
            "end\n"
          ]
        }
      ],
      "source": [
        "#2차원\n",
        "a = [[1, 2, 3],\n",
        "     [11, 22, 33],\n",
        "     [13, 20000, 300000]]\n",
        "\n",
        "for i in a:\n",
        "    for j in i:\n",
        "        print(j, end=' ')\n",
        "    print('\\n---')\n",
        "print('end')"
      ]
    },
    {
      "attachments": {},
      "cell_type": "markdown",
      "metadata": {
        "id": "F1fE_PKbmvi_"
      },
      "source": [
        "## range"
      ]
    },
    {
      "cell_type": "code",
      "execution_count": null,
      "metadata": {
        "colab": {
          "base_uri": "https://localhost:8080/"
        },
        "id": "eQoydwpRnC_D",
        "outputId": "0f5c860e-688a-4cae-cc85-78a0a6e2839b"
      },
      "outputs": [
        {
          "name": "stdout",
          "output_type": "stream",
          "text": [
            "[0, 1, 2, 3, 4, 5, 6, 7, 8, 9, 10, 11, 12, 13, 14, 15, 16, 17, 18, 19, 20, 21, 22, 23, 24, 25, 26, 27, 28, 29, 30, 31, 32, 33, 34, 35, 36, 37, 38, 39, 40, 41, 42, 43, 44, 45, 46, 47, 48, 49, 50, 51, 52, 53, 54, 55, 56, 57, 58, 59, 60, 61, 62, 63, 64, 65, 66, 67, 68, 69, 70, 71, 72, 73, 74, 75, 76, 77, 78, 79, 80, 81, 82, 83, 84, 85, 86, 87, 88, 89, 90, 91, 92, 93, 94, 95, 96, 97, 98, 99]\n",
            "[5, 6, 7, 8, 9]\n",
            "[0, 2, 4, 6, 8, 10, 12, 14, 16, 18, 20, 22, 24, 26, 28, 30, 32, 34, 36, 38, 40, 42, 44, 46, 48, 50, 52, 54, 56, 58, 60, 62, 64, 66, 68, 70, 72, 74, 76, 78, 80, 82, 84, 86, 88, 90, 92, 94, 96, 98, 100]\n",
            "[1, 3, 5, 7, 9, 11, 13, 15, 17, 19, 21, 23, 25, 27, 29, 31, 33, 35, 37, 39, 41, 43, 45, 47, 49, 51, 53, 55, 57, 59, 61, 63, 65, 67, 69, 71, 73, 75, 77, 79, 81, 83, 85, 87, 89, 91, 93, 95, 97, 99]\n",
            "[100, 98, 96, 94, 92, 90, 88, 86, 84, 82, 80, 78, 76, 74, 72, 70, 68, 66, 64, 62, 60, 58, 56, 54, 52, 50, 48, 46, 44, 42, 40, 38, 36, 34, 32, 30, 28, 26, 24, 22, 20, 18, 16, 14, 12, 10, 8, 6, 4, 2]\n",
            "5050\n"
          ]
        }
      ],
      "source": [
        "# range(start, stop, step)\n",
        "# 슬라이싱 같은 규칙\n",
        "# 슬라이싱은 ':' 콜론으로 연결\n",
        "# range 는 ',' 컴마로 연결\n",
        "\n",
        "print(list(range(100))) \n",
        "# 2.x 에는 list였지만, 3.x에서는 range 클래스로 바뀌어 형변환 해줘야함\n",
        "\n",
        "print(list(range(5, 10)))\n",
        "\n",
        "print(list(range(0, 101, 2))) #짝수\n",
        "print(list(range(1, 101, 2))) #홀수\n",
        "print(list(range(100, 1, -2)))\n",
        "\n",
        "print(sum(range(0,101))) # sum은 iterable이면 합할 수 있기 때문에 list로 형변환 하는건 리소스 낭비\n"
      ]
    },
    {
      "attachments": {},
      "cell_type": "markdown",
      "metadata": {
        "id": "zUpphtHPpTUb"
      },
      "source": [
        "## list comprehension"
      ]
    },
    {
      "cell_type": "code",
      "execution_count": null,
      "metadata": {
        "id": "dfNJkB4KpWlN"
      },
      "outputs": [],
      "source": [
        "# l = [1,2,3,4, ...] # 너무 힘들다\n",
        "# list(range(1,101)) # 리소스 낭비\n",
        "\n",
        "# for 문으로 넣기\n",
        "l = []\n",
        "for i in range(1, 101):\n",
        "    l.append(i)\n"
      ]
    },
    {
      "cell_type": "code",
      "execution_count": null,
      "metadata": {
        "colab": {
          "base_uri": "https://localhost:8080/"
        },
        "id": "LYUCjGUzp8Kj",
        "outputId": "a7bbb351-139e-4fc9-b13e-c58cd59b5bb4"
      },
      "outputs": [
        {
          "data": {
            "text/plain": [
              "[1, 2, 3, 4, 5, 6, 7, 8, 9, 10]"
            ]
          },
          "execution_count": 110,
          "metadata": {},
          "output_type": "execute_result"
        }
      ],
      "source": [
        "# for 문으로 넣기. 원소 연산해서 넣을 수있음\n",
        "l = []\n",
        "for i in range(1, 11):\n",
        "    l.append(i**i)\n",
        "\n",
        "l\n",
        "\n",
        "l = [i**i for i in range(1,11)]\n",
        "l\n",
        "\n",
        "l = [i for i in range(1,11)]\n",
        "l\n"
      ]
    },
    {
      "cell_type": "code",
      "execution_count": null,
      "metadata": {
        "id": "t8ruLcLpqm_o"
      },
      "outputs": [],
      "source": [
        "l = []\n",
        "for i in range(1, 100):\n",
        "    if i %3 == 0 or i %5 == 0:\n",
        "        l.append(i)\n",
        "\n",
        "a = [i for i in range(1, 100) if i %3 == 0 or i %5 == 0]\n",
        "a"
      ]
    },
    {
      "attachments": {},
      "cell_type": "markdown",
      "metadata": {
        "id": "iiItodnu9sfK"
      },
      "source": [
        "## tuple(튜플)"
      ]
    },
    {
      "attachments": {},
      "cell_type": "markdown",
      "metadata": {
        "id": "LuYUfKxy97-l"
      },
      "source": [
        "- 튜플은 순서가 있는 시퀀스형 자료형입니다.\n",
        "- 참조값은 변경이 불가능(immutable) 합니다.\n",
        "- 다른 자료형을 입력할 수 있으며, 튜플 안에 튜플로 다차원의 튜플을 만드는 것도 가능합니다.\n",
        "- 값의 중복을 허락합니다."
      ]
    },
    {
      "cell_type": "code",
      "execution_count": null,
      "metadata": {
        "colab": {
          "base_uri": "https://localhost:8080/",
          "height": 193
        },
        "id": "4V9i0RHR9xTC",
        "outputId": "f3abd236-1f10-4a93-a3c3-821d3ea28a08"
      },
      "outputs": [
        {
          "ename": "TypeError",
          "evalue": "ignored",
          "output_type": "error",
          "traceback": [
            "\u001b[0;31m---------------------------------------------------------------------------\u001b[0m",
            "\u001b[0;31mTypeError\u001b[0m                                 Traceback (most recent call last)",
            "\u001b[0;32m<ipython-input-112-bf7b4a9b8e82>\u001b[0m in \u001b[0;36m<cell line: 2>\u001b[0;34m()\u001b[0m\n\u001b[1;32m      1\u001b[0m \u001b[0mt\u001b[0m \u001b[0;34m=\u001b[0m \u001b[0;34m(\u001b[0m\u001b[0;36m10\u001b[0m\u001b[0;34m,\u001b[0m\u001b[0;36m20\u001b[0m\u001b[0;34m,\u001b[0m\u001b[0;36m30\u001b[0m\u001b[0;34m)\u001b[0m\u001b[0;34m\u001b[0m\u001b[0;34m\u001b[0m\u001b[0m\n\u001b[0;32m----> 2\u001b[0;31m \u001b[0mt\u001b[0m\u001b[0;34m[\u001b[0m\u001b[0;36m1\u001b[0m\u001b[0;34m]\u001b[0m \u001b[0;34m=\u001b[0m \u001b[0;36m1000\u001b[0m \u001b[0;31m# error\u001b[0m\u001b[0;34m\u001b[0m\u001b[0;34m\u001b[0m\u001b[0m\n\u001b[0m",
            "\u001b[0;31mTypeError\u001b[0m: 'tuple' object does not support item assignment"
          ]
        }
      ],
      "source": [
        "t = (10,20,30)\n",
        "# t[1] = 1000 # error"
      ]
    },
    {
      "cell_type": "code",
      "execution_count": null,
      "metadata": {
        "colab": {
          "base_uri": "https://localhost:8080/"
        },
        "id": "BpsJnxZK96Os",
        "outputId": "739c73f5-40ff-457f-abbb-ec8dc0e9d444"
      },
      "outputs": [
        {
          "data": {
            "text/plain": [
              "([1000, 2, 3], 20, 30)"
            ]
          },
          "execution_count": 113,
          "metadata": {},
          "output_type": "execute_result"
        }
      ],
      "source": [
        "l = [1, 2, 3]\n",
        "t = (l, 20, 30) # tuple에서 불변인 것은 t가 l을 참조하고 있다는 것\n",
        "l[0] = 1000     # tuple 안의 list 의 원소는 변경이 가능하다\n",
        "t"
      ]
    },
    {
      "cell_type": "code",
      "execution_count": null,
      "metadata": {
        "colab": {
          "base_uri": "https://localhost:8080/"
        },
        "id": "KcR00gfk-fvX",
        "outputId": "db70965e-a66e-4c89-ac33-bd22e2321961"
      },
      "outputs": [
        {
          "name": "stdout",
          "output_type": "stream",
          "text": [
            "(10, 20)\n"
          ]
        }
      ],
      "source": [
        "# tuple 도 slicing 가능하다.\n",
        "# slicing은 새로운 tuple을 만들어줌!\n",
        "t = (10,20,30,40,50)\n",
        "print(t[:2])"
      ]
    },
    {
      "cell_type": "code",
      "execution_count": null,
      "metadata": {
        "colab": {
          "base_uri": "https://localhost:8080/"
        },
        "id": "6Q0akEhV-aJO",
        "outputId": "8e5169d6-0aff-454e-a4a9-4e1fe9ba059f"
      },
      "outputs": [
        {
          "name": "stdout",
          "output_type": "stream",
          "text": [
            "<class 'tuple'>\n"
          ]
        },
        {
          "data": {
            "text/plain": [
              "['__add__',\n",
              " '__class__',\n",
              " '__class_getitem__',\n",
              " '__contains__',\n",
              " '__delattr__',\n",
              " '__dir__',\n",
              " '__doc__',\n",
              " '__eq__',\n",
              " '__format__',\n",
              " '__ge__',\n",
              " '__getattribute__',\n",
              " '__getitem__',\n",
              " '__getnewargs__',\n",
              " '__gt__',\n",
              " '__hash__',\n",
              " '__init__',\n",
              " '__init_subclass__',\n",
              " '__iter__',\n",
              " '__le__',\n",
              " '__len__',\n",
              " '__lt__',\n",
              " '__mul__',\n",
              " '__ne__',\n",
              " '__new__',\n",
              " '__reduce__',\n",
              " '__reduce_ex__',\n",
              " '__repr__',\n",
              " '__rmul__',\n",
              " '__setattr__',\n",
              " '__sizeof__',\n",
              " '__str__',\n",
              " '__subclasshook__',\n",
              " 'count',\n",
              " 'index']"
            ]
          },
          "execution_count": 114,
          "metadata": {},
          "output_type": "execute_result"
        }
      ],
      "source": [
        "print(type(t))\n",
        "dir(t)"
      ]
    },
    {
      "cell_type": "code",
      "execution_count": null,
      "metadata": {
        "colab": {
          "base_uri": "https://localhost:8080/"
        },
        "id": "jtC4Ldd2-tAs",
        "outputId": "d172a52d-0750-4e70-90d0-f1c12129893d"
      },
      "outputs": [
        {
          "data": {
            "text/plain": [
              "(1, 2)"
            ]
          },
          "execution_count": 116,
          "metadata": {},
          "output_type": "execute_result"
        }
      ],
      "source": [
        "# 메서드 count, index\n",
        "t = (10,20,30,40,50,20)\n",
        "t.index(20), t.count(20)"
      ]
    },
    {
      "cell_type": "code",
      "execution_count": null,
      "metadata": {
        "colab": {
          "base_uri": "https://localhost:8080/",
          "height": 127
        },
        "id": "CG2MG6uY_BLM",
        "outputId": "26c7c5d7-6659-4caf-9b4e-a50524061b7a"
      },
      "outputs": [
        {
          "name": "stdout",
          "output_type": "stream",
          "text": [
            "('l', 'e', 'e', 'h', 'o', 'j', 'u', 'n')\n",
            "()\n",
            "(0, 1, 2, 3, 4, 5, 6, 7, 8, 9)\n",
            "1\n",
            "(1,)\n"
          ]
        },
        {
          "data": {
            "application/vnd.google.colaboratory.intrinsic+json": {
              "type": "string"
            },
            "text/plain": [
              "'a'"
            ]
          },
          "execution_count": 121,
          "metadata": {},
          "output_type": "execute_result"
        }
      ],
      "source": [
        "t = tuple('leehojun')\n",
        "print(t)\n",
        "t = tuple()\n",
        "print(t)\n",
        "t = tuple(range(10))\n",
        "print(t)\n",
        "t = (1)     #이렇게 넣으면 상수 취급함\n",
        "print(t)\n",
        "t = (1,)    #원소 하나인 tuple은 마지막에 ,\n",
        "print(t)"
      ]
    },
    {
      "attachments": {},
      "cell_type": "markdown",
      "metadata": {
        "id": "7HTg842F_fBL"
      },
      "source": [
        "## dictionary(딕셔너리)"
      ]
    },
    {
      "attachments": {},
      "cell_type": "markdown",
      "metadata": {
        "id": "3ZMSfruw_inO"
      },
      "source": [
        "- 딕셔너리는 순서가 없는 자료형입니다.\n",
        "- 사전형은 Key와 Value 가 하나의 묶음으로 이루어진 자료 체계입니다.\n",
        "- 값의 변경이 가능합니다.\n",
        "- 다른 자료형을 입력할 수 있습니다.\n",
        "- 키의 중복은 허락하지 않고, 값의 중복을 허락합니다.\n",
        "\n",
        "> dict는 Python 3.6 버전부터 순서를 저장하는 구조로 변경되었습니다. 따라서 순서를 보장하지 않는 다는 말은 3.5 이하 버전에서는 맞고, 3.6이상 버전에서는 틀린 말입니다. <br>\n",
        "좋은 아티클 : https://blog.hwahae.co.kr/all/tech/6662"
      ]
    },
    {
      "cell_type": "code",
      "execution_count": null,
      "metadata": {
        "colab": {
          "base_uri": "https://localhost:8080/"
        },
        "id": "oxW3kkFt9_hj",
        "outputId": "6059b3d3-a0dc-4921-ed12-4b6ab4036aa6"
      },
      "outputs": [
        {
          "data": {
            "text/plain": [
              "[{'게시물 번호': 1, '게시자': '이호준', '게시물 내용': '...'},\n",
              " {'게시물 번호': 1, '게시자': '이호준', '게시물 내용': '강의내용 대박'},\n",
              " {'게시물 번호': 1, '게시자': '이호준', '게시물 내용': '...'}]"
            ]
          },
          "execution_count": 124,
          "metadata": {},
          "output_type": "execute_result"
        }
      ],
      "source": [
        "data = [{\n",
        "    '게시물 번호': 1,\n",
        "    '게시자': '이호준',\n",
        "    '게시물 내용': '...'\n",
        "},{\n",
        "    '게시물 번호': 1,\n",
        "    '게시자': '이호준',\n",
        "    '게시물 내용': '...'\n",
        "},{\n",
        "    '게시물 번호': 1,\n",
        "    '게시자': '이호준',\n",
        "    '게시물 내용': '...'\n",
        "}]\n",
        "\n",
        "data[0]['게시자']\n",
        "data[1]['게시물 내용'] = '강의내용 대박'\n",
        "data"
      ]
    },
    {
      "cell_type": "code",
      "execution_count": null,
      "metadata": {
        "colab": {
          "base_uri": "https://localhost:8080/",
          "height": 35
        },
        "id": "Og9t8Qf0AvNx",
        "outputId": "6ac46b88-71a7-44d9-be64-09f00d834301"
      },
      "outputs": [
        {
          "data": {
            "application/vnd.google.colaboratory.intrinsic+json": {
              "type": "string"
            },
            "text/plain": [
              "'하나'"
            ]
          },
          "execution_count": 125,
          "metadata": {},
          "output_type": "execute_result"
        }
      ],
      "source": [
        "d = {'one' : '하나', 'two' : '둘', 'three' : '셋'}\n",
        "d['one']"
      ]
    },
    {
      "cell_type": "code",
      "execution_count": null,
      "metadata": {
        "colab": {
          "base_uri": "https://localhost:8080/"
        },
        "id": "88dECRAqA0KS",
        "outputId": "a1a61c8f-bcbd-490e-a2f6-a73b730a50b1"
      },
      "outputs": [
        {
          "data": {
            "text/plain": [
              "{'one': '하나', 'two': '투', 'three': '셋'}"
            ]
          },
          "execution_count": 126,
          "metadata": {},
          "output_type": "execute_result"
        }
      ],
      "source": [
        "d['two'] = '투'\n",
        "d"
      ]
    },
    {
      "attachments": {},
      "cell_type": "markdown",
      "metadata": {
        "id": "pDSBru8BCHzr"
      },
      "source": [
        "* dictionary 생성하는 다양한 방법"
      ]
    },
    {
      "cell_type": "code",
      "execution_count": null,
      "metadata": {
        "colab": {
          "base_uri": "https://localhost:8080/"
        },
        "id": "ZmnlLvWlBKea",
        "outputId": "d5218976-e5d1-4a03-9de1-be99330c24d4"
      },
      "outputs": [
        {
          "name": "stdout",
          "output_type": "stream",
          "text": [
            "<class 'dict'>\n",
            "<class 'set'>\n",
            "<class 'dict'>\n",
            "<class 'dict'>\n"
          ]
        }
      ],
      "source": [
        "d = {}  # 비어있는 dict\n",
        "print(type(d))  #dict\n",
        "\n",
        "d = {10} #set\n",
        "print(type(d))\n",
        "\n",
        "d = dict()\n",
        "print(type(d))  #dict\n",
        "\n",
        "d = {'one':1}\n",
        "print(type(d)) #dict"
      ]
    },
    {
      "cell_type": "code",
      "execution_count": null,
      "metadata": {
        "colab": {
          "base_uri": "https://localhost:8080/"
        },
        "id": "vGF5vbEFBiM8",
        "outputId": "e614ff84-7bcc-405b-8fe0-98928435bf0a"
      },
      "outputs": [
        {
          "data": {
            "text/plain": [
              "dict_items([('one', '하나'), ('two', '둘'), ('three', '셋')])"
            ]
          },
          "execution_count": 133,
          "metadata": {},
          "output_type": "execute_result"
        }
      ],
      "source": [
        "d = {'one' : '하나', 'two' : '둘', 'three' : '셋'}\n",
        "d.items()"
      ]
    },
    {
      "cell_type": "code",
      "execution_count": null,
      "metadata": {
        "colab": {
          "base_uri": "https://localhost:8080/"
        },
        "id": "tJGBurFnBwzT",
        "outputId": "ac69d39e-7dc9-4d3b-a708-bb267a16f702"
      },
      "outputs": [
        {
          "data": {
            "text/plain": [
              "{'one': '하나', 'two': '둘', 'three': '셋'}"
            ]
          },
          "execution_count": 134,
          "metadata": {},
          "output_type": "execute_result"
        }
      ],
      "source": [
        "dict([('one', '하나'), ('two', '둘'), ('three', '셋')])"
      ]
    },
    {
      "cell_type": "code",
      "execution_count": null,
      "metadata": {
        "colab": {
          "base_uri": "https://localhost:8080/"
        },
        "id": "3GYp0G5iB1qD",
        "outputId": "91019a63-04a6-4cbc-9a2d-c09eb6aabeea"
      },
      "outputs": [
        {
          "data": {
            "text/plain": [
              "{'one': '하나', 'two': '둘', 'three': '셋'}"
            ]
          },
          "execution_count": 136,
          "metadata": {},
          "output_type": "execute_result"
        }
      ],
      "source": [
        "dict([['one', '하나'], ['two', '둘'], ['three', '셋']])"
      ]
    },
    {
      "cell_type": "code",
      "execution_count": null,
      "metadata": {
        "colab": {
          "base_uri": "https://localhost:8080/"
        },
        "id": "ueF1EIDqB6my",
        "outputId": "a79a1c2f-0983-43bc-b037-b9acd444d528"
      },
      "outputs": [
        {
          "data": {
            "text/plain": [
              "{'name': 'leehojun', 'age': 10}"
            ]
          },
          "execution_count": 137,
          "metadata": {},
          "output_type": "execute_result"
        }
      ],
      "source": [
        "dict(name='leehojun', age=10)"
      ]
    },
    {
      "cell_type": "code",
      "execution_count": null,
      "metadata": {
        "colab": {
          "base_uri": "https://localhost:8080/"
        },
        "id": "fouHIepACN5H",
        "outputId": "d3e3f858-2468-43d8-f6df-96c15c1811de"
      },
      "outputs": [
        {
          "name": "stdout",
          "output_type": "stream",
          "text": [
            "[('A', '1', 'a'), ('B', '2', 'b'), ('C', '3', 'c')]\n"
          ]
        },
        {
          "data": {
            "text/plain": [
              "{'A': '1', 'B': '2', 'C': '3'}"
            ]
          },
          "execution_count": 139,
          "metadata": {},
          "output_type": "execute_result"
        }
      ],
      "source": [
        "print(list(zip('ABC', '123', 'abc')))\n",
        "\n",
        "# zip으로 dictionary 생성할 수 있음\n",
        "dict(zip('ABC', '123')) #형변환."
      ]
    },
    {
      "cell_type": "code",
      "execution_count": null,
      "metadata": {
        "colab": {
          "base_uri": "https://localhost:8080/"
        },
        "id": "sSCc89GrCcT8",
        "outputId": "9ea4d0a8-8747-4fb3-b66f-e37ce4e56cbd"
      },
      "outputs": [
        {
          "name": "stdout",
          "output_type": "stream",
          "text": [
            "{'A': [10, 20], 'B': [20, 30], 'C': [30, 40]}\n",
            "{'A': [10, 20], 'B': [20, 30], 'C': [30, 40]}\n",
            "{'A': [10, 20], 'B': [20, 30], 'C': [30, 40]}\n"
          ]
        },
        {
          "data": {
            "text/plain": [
              "{'A': (10, 20), 'B': (20, 30), 'C': (30, 40)}"
            ]
          },
          "execution_count": 147,
          "metadata": {},
          "output_type": "execute_result"
        }
      ],
      "source": [
        "# 연습문제\n",
        "# dict와 list를 사용해서 아래와 같은 형태로 데이터를 만들어주세요\n",
        "# 원하는 형태{'ㅁ': [10,20], 'B': [20,30], 'C': [30,40]}\n",
        "print(dict(zip(['A','B','C'], [[10,20],[20,30],[30,40]])))\n",
        "print(dict(zip('ABC', [[10,20],[20,30],[30,40]])))\n",
        "print(dict(zip('ABC', [list(element) for element in zip([10,20,30],[20,30,40])])))\n",
        "\n",
        "l = [10,20,30,40]\n",
        "dict(zip('ABC', zip(l,l[1:])))"
      ]
    },
    {
      "cell_type": "code",
      "execution_count": null,
      "metadata": {
        "colab": {
          "base_uri": "https://localhost:8080/"
        },
        "id": "4clfgHf8EjH2",
        "outputId": "f9a64a77-8d98-413b-fd23-4057c9747ad7"
      },
      "outputs": [
        {
          "data": {
            "text/plain": [
              "True"
            ]
          },
          "execution_count": 148,
          "metadata": {},
          "output_type": "execute_result"
        }
      ],
      "source": [
        "# dict 의 in 연산자\n",
        "# key의 포함 여부를 확인할 수 있음\n",
        "'B' in {'A': (10, 20), 'B': (20, 30), 'C': (30, 40)}"
      ]
    },
    {
      "cell_type": "code",
      "execution_count": null,
      "metadata": {
        "colab": {
          "base_uri": "https://localhost:8080/"
        },
        "id": "oYZtmkrQI7DX",
        "outputId": "f73127ec-853f-4c6d-820e-d0e074c6f046"
      },
      "outputs": [
        {
          "data": {
            "text/plain": [
              "3"
            ]
          },
          "execution_count": 164,
          "metadata": {},
          "output_type": "execute_result"
        }
      ],
      "source": [
        "# built in function len 사용가능\n",
        "len({'A': (10, 20), 'B': (20, 30), 'C': (30, 40)})"
      ]
    },
    {
      "attachments": {},
      "cell_type": "markdown",
      "metadata": {
        "id": "9WAZiU5kLA3X"
      },
      "source": [
        "* get()\n",
        "* ['key'] 와 같은 결과이지만 [ ]는 없는 key를 검색할 경우 에러를 뱉지만, get()은 None을 리턴함\n",
        "* get() 함수의 두번째 인사로 없는 key 검색 시 리턴할 default 값을 설정할 수 있다"
      ]
    },
    {
      "cell_type": "code",
      "execution_count": null,
      "metadata": {
        "colab": {
          "base_uri": "https://localhost:8080/",
          "height": 35
        },
        "id": "Af_TecygJdBQ",
        "outputId": "5eb00918-d7b3-4032-fe36-43eb83052f0b"
      },
      "outputs": [
        {
          "data": {
            "application/vnd.google.colaboratory.intrinsic+json": {
              "type": "string"
            },
            "text/plain": [
              "'요일을 찾지 못했습니다.'"
            ]
          },
          "execution_count": 169,
          "metadata": {},
          "output_type": "execute_result"
        }
      ],
      "source": [
        "# dictionary 메서드 get()\n",
        "# key 값으로 value 값을 찾음\n",
        "# python 은 switch 구문이 없어서 dictionary로 구현했었는데~\n",
        "# 아래 match case 구현되어서 구 문법이 되었군요...\n",
        "def switch(day):\n",
        "    return {\n",
        "        1 : '월요일',\n",
        "        2 : '화요일',\n",
        "        3 : '수요일',\n",
        "        4 : '목요일',\n",
        "        5 : '금요일',\n",
        "        6 : '토요일',\n",
        "        7 : '일요일',\n",
        "    }.get(day, '요일을 찾지 못했습니다.')\n",
        "\n",
        "switch(7)\n",
        "## 이 구문의 문제점은 없는 key를 입력했을 때 erorr가 발생함\n",
        "# switch(8) # error\n",
        "switch(8) #get을 사용하면 None을 주는데, get에 인자로 못찾는 값일 때 리턴할 값을 설정할 수 있습니다."
      ]
    },
    {
      "cell_type": "code",
      "execution_count": null,
      "metadata": {
        "colab": {
          "base_uri": "https://localhost:8080/"
        },
        "id": "C15z0hMzJ0Ko",
        "outputId": "f7b2c6fb-f534-4777-802a-1a110ebd0aea"
      },
      "outputs": [
        {
          "name": "stdout",
          "output_type": "stream",
          "text": [
            "zero\n",
            "one\n",
            "two\n",
            "nothing\n",
            "nothing\n"
          ]
        }
      ],
      "source": [
        "# 3.10 버전에 switch 도입됨\n",
        "# match case (https://codechacha.com/ko/python-switch-case/)\n",
        "def number_to_string(agrument):\n",
        "    match agrument:\n",
        "        case 0:\n",
        "            return \"zero\"\n",
        "        case 1:\n",
        "            return \"one\"\n",
        "        case 2:\n",
        "            return \"two\"\n",
        "        case default:\n",
        "            return \"nothing\"\n",
        "\n",
        "\n",
        "print(number_to_string(0))\n",
        "print(number_to_string(1))\n",
        "print(number_to_string(2))\n",
        "print(number_to_string(3))\n",
        "print(number_to_string(4))"
      ]
    },
    {
      "cell_type": "code",
      "execution_count": null,
      "metadata": {
        "colab": {
          "base_uri": "https://localhost:8080/"
        },
        "id": "OHreu6NOErXi",
        "outputId": "c96d2ae9-5b91-4356-83fa-eed685c6b3f2"
      },
      "outputs": [
        {
          "name": "stdout",
          "output_type": "stream",
          "text": [
            "Python 3.10.11\n"
          ]
        }
      ],
      "source": [
        "!python --version"
      ]
    },
    {
      "cell_type": "code",
      "execution_count": null,
      "metadata": {
        "colab": {
          "base_uri": "https://localhost:8080/"
        },
        "id": "7ko513k3Au9q",
        "outputId": "081565e1-6d7c-410b-a96b-0752af89edce"
      },
      "outputs": [
        {
          "name": "stdout",
          "output_type": "stream",
          "text": [
            "108 µs ± 40.7 µs per loop (mean ± std. dev. of 7 runs, 10000 loops each)\n"
          ]
        }
      ],
      "source": [
        "%%timeit\n",
        "# 시간재는것\n",
        "s = 0\n",
        "for i in range(1000):\n",
        "    s +=1\n",
        "# 라인 바이 라인으로 풀어져서 pvm(python virtual machine)에서 돌아가서 느림"
      ]
    },
    {
      "cell_type": "code",
      "execution_count": null,
      "metadata": {
        "colab": {
          "base_uri": "https://localhost:8080/"
        },
        "id": "JDmeY9IJFZj4",
        "outputId": "eb7d1f7d-e6e5-4c89-fb4c-fd411fa0eb60"
      },
      "outputs": [
        {
          "name": "stdout",
          "output_type": "stream",
          "text": [
            "77.7 µs ± 3.34 µs per loop (mean ± std. dev. of 7 runs, 10000 loops each)\n"
          ]
        }
      ],
      "source": [
        "%%timeit\n",
        "sum([i for i in range(1000)])\n",
        "# list comprehension이 for문보다 빠르지만 list로 형변환이 있음"
      ]
    },
    {
      "cell_type": "code",
      "execution_count": null,
      "metadata": {
        "colab": {
          "base_uri": "https://localhost:8080/"
        },
        "id": "fLakvvPKFhRV",
        "outputId": "a5a637f6-f671-4a71-cd78-aaf4106c2b93"
      },
      "outputs": [
        {
          "name": "stdout",
          "output_type": "stream",
          "text": [
            "36.9 µs ± 1.39 µs per loop (mean ± std. dev. of 7 runs, 10000 loops each)\n"
          ]
        }
      ],
      "source": [
        "%%timeit\n",
        "sum(range(1000))\n",
        "# 형변환도 안해서 빠름"
      ]
    },
    {
      "attachments": {},
      "cell_type": "markdown",
      "metadata": {
        "id": "Bf0LuBTuLlFG"
      },
      "source": [
        "* keys(), values(), items()"
      ]
    },
    {
      "cell_type": "code",
      "execution_count": null,
      "metadata": {
        "colab": {
          "base_uri": "https://localhost:8080/"
        },
        "id": "f1m3h-TaLYPm",
        "outputId": "5b28809f-84a8-4749-8927-c7725ff5a367"
      },
      "outputs": [
        {
          "data": {
            "text/plain": [
              "dict_keys(['A', 'B', 'C'])"
            ]
          },
          "execution_count": 170,
          "metadata": {},
          "output_type": "execute_result"
        }
      ],
      "source": [
        "# key 값만\n",
        "{'A': (10, 20), 'B': (20, 30), 'C': (30, 40)}.keys()"
      ]
    },
    {
      "cell_type": "code",
      "execution_count": null,
      "metadata": {
        "colab": {
          "base_uri": "https://localhost:8080/"
        },
        "id": "e2VmjRCULgOV",
        "outputId": "1d610e94-3f80-404f-fa14-ffe3fedaef32"
      },
      "outputs": [
        {
          "data": {
            "text/plain": [
              "dict_values([(10, 20), (20, 30), (30, 40)])"
            ]
          },
          "execution_count": 171,
          "metadata": {},
          "output_type": "execute_result"
        }
      ],
      "source": [
        "# vlaue 값만\n",
        "{'A': (10, 20), 'B': (20, 30), 'C': (30, 40)}.values()"
      ]
    },
    {
      "cell_type": "code",
      "execution_count": null,
      "metadata": {
        "colab": {
          "base_uri": "https://localhost:8080/"
        },
        "id": "NNQ93RYiLhw2",
        "outputId": "1f360f5f-5574-4c98-e046-c515b29114a3"
      },
      "outputs": [
        {
          "data": {
            "text/plain": [
              "dict_items([('A', (10, 20)), ('B', (20, 30)), ('C', (30, 40))])"
            ]
          },
          "execution_count": 172,
          "metadata": {},
          "output_type": "execute_result"
        }
      ],
      "source": [
        "# 쌍으로\n",
        "{'A': (10, 20), 'B': (20, 30), 'C': (30, 40)}.items()"
      ]
    },
    {
      "cell_type": "code",
      "execution_count": null,
      "metadata": {
        "colab": {
          "base_uri": "https://localhost:8080/"
        },
        "id": "KzoA72rQLuoi",
        "outputId": "5161dc45-aa1d-4df6-eb33-75012a61ed20"
      },
      "outputs": [
        {
          "data": {
            "text/plain": [
              "{'l': None, 'e': None, 'h': None, 'o': None, 'j': None, 'u': None, 'n': None}"
            ]
          },
          "execution_count": 173,
          "metadata": {},
          "output_type": "execute_result"
        }
      ],
      "source": [
        "# fromkeys 는 가끔사용\n",
        "dict.fromkeys('leehojun')"
      ]
    },
    {
      "cell_type": "code",
      "execution_count": null,
      "metadata": {
        "colab": {
          "base_uri": "https://localhost:8080/"
        },
        "id": "jbLCJZL2Lxf1",
        "outputId": "8bd070a9-8b2e-4160-8f8e-ce74c1d9f851"
      },
      "outputs": [
        {
          "data": {
            "text/plain": [
              "{'l': 100, 'e': 100, 'h': 100, 'o': 100, 'j': 100, 'u': 100, 'n': 100}"
            ]
          },
          "execution_count": 174,
          "metadata": {},
          "output_type": "execute_result"
        }
      ],
      "source": [
        "# 모든 value에 두 번째 인자의 값이 들어감\n",
        "dict.fromkeys('leehojun', 100)"
      ]
    },
    {
      "cell_type": "code",
      "execution_count": null,
      "metadata": {
        "colab": {
          "base_uri": "https://localhost:8080/"
        },
        "id": "fR7KTzYoMA7V",
        "outputId": "3c004c23-1dcb-4fc1-b8e8-281b3d0e5c74"
      },
      "outputs": [
        {
          "data": {
            "text/plain": [
              "{'name': ('leehojun', '10', '수'),\n",
              " 'age': ('leehojun', '10', '수'),\n",
              " 'grade': ('leehojun', '10', '수')}"
            ]
          },
          "execution_count": 175,
          "metadata": {},
          "output_type": "execute_result"
        }
      ],
      "source": [
        "keys = ('name','age','grade')\n",
        "values = ('leehojun','10','수')\n",
        "dict.fromkeys(keys, values)"
      ]
    },
    {
      "cell_type": "code",
      "execution_count": null,
      "metadata": {
        "colab": {
          "base_uri": "https://localhost:8080/"
        },
        "id": "z_qHpACvLkC8",
        "outputId": "69c10b9a-ddc0-46e3-cd57-7b7cb32f8a7f"
      },
      "outputs": [
        {
          "data": {
            "text/plain": [
              "{'one': 1, 'two': 2, 'three': '셋'}"
            ]
          },
          "execution_count": 176,
          "metadata": {},
          "output_type": "execute_result"
        }
      ],
      "source": [
        "# update\n",
        "d = {'one' : '하나', 'two' : '둘', 'three' : '셋'}\n",
        "d.update({'one' : 1, 'two' : 2})\n",
        "d"
      ]
    },
    {
      "attachments": {},
      "cell_type": "markdown",
      "metadata": {
        "id": "PpPOqQOjMzVm"
      },
      "source": [
        "## 딕셔너리 순회"
      ]
    },
    {
      "cell_type": "code",
      "execution_count": null,
      "metadata": {
        "colab": {
          "base_uri": "https://localhost:8080/"
        },
        "id": "G4y9OvPkM60U",
        "outputId": "a913da2f-9a11-4105-f743-51d6adfe5fed"
      },
      "outputs": [
        {
          "name": "stdout",
          "output_type": "stream",
          "text": [
            "two\n",
            "three\n"
          ]
        }
      ],
      "source": [
        "# key만 순회합니다.\n",
        "d = {'two' : 2, 'three' : '셋'}\n",
        "for i in d:\n",
        "    print(i)\n"
      ]
    },
    {
      "cell_type": "code",
      "execution_count": null,
      "metadata": {
        "colab": {
          "base_uri": "https://localhost:8080/"
        },
        "id": "joWW2DKJNPtb",
        "outputId": "58b44e9c-9add-43bd-ccfc-f0d194368c63"
      },
      "outputs": [
        {
          "name": "stdout",
          "output_type": "stream",
          "text": [
            "2\n",
            "셋\n"
          ]
        }
      ],
      "source": [
        "# value 는 이렇게~\n",
        "d = {'two' : 2, 'three' : '셋'}\n",
        "for i in d:\n",
        "    print(d[i])"
      ]
    },
    {
      "attachments": {},
      "cell_type": "markdown",
      "metadata": {
        "id": "kcJNw0gqNVNT"
      },
      "source": [
        "## 언패킹"
      ]
    },
    {
      "cell_type": "code",
      "execution_count": null,
      "metadata": {
        "id": "qJ9Vba_ENKnU"
      },
      "outputs": [],
      "source": [
        "# 패킹   : 1, 2, 3 => [1,2,3]\n",
        "# 언패킹 : [1,2,3] => 1, 2, 3"
      ]
    },
    {
      "cell_type": "code",
      "execution_count": null,
      "metadata": {
        "colab": {
          "base_uri": "https://localhost:8080/"
        },
        "id": "oLZ0OkStNdgX",
        "outputId": "e66bf9d2-03cc-43b1-9fcf-083bfe0f78cb"
      },
      "outputs": [
        {
          "data": {
            "text/plain": [
              "(10, 20, 30)"
            ]
          },
          "execution_count": 181,
          "metadata": {},
          "output_type": "execute_result"
        }
      ],
      "source": [
        "a, b, c = (10, 20, 30)  #소괄호든 대괄호든 각각 값이 들어감\n",
        "a"
      ]
    },
    {
      "cell_type": "code",
      "execution_count": null,
      "metadata": {
        "id": "dspZN4hzODMg"
      },
      "outputs": [],
      "source": [
        "i, j = [10,20]"
      ]
    },
    {
      "cell_type": "code",
      "execution_count": null,
      "metadata": {
        "colab": {
          "base_uri": "https://localhost:8080/"
        },
        "id": "G_YFMFFBNggV",
        "outputId": "e7bb9379-6e1b-4554-c28d-35a066e13aa7"
      },
      "outputs": [
        {
          "name": "stdout",
          "output_type": "stream",
          "text": [
            "10 20\n",
            "30 40\n",
            "50 60\n"
          ]
        }
      ],
      "source": [
        "# 위에랑 같은 원리\n",
        "for i, j in [[10,20], [30,40],[50,60]]:\n",
        "    print(i, j)"
      ]
    },
    {
      "cell_type": "code",
      "execution_count": null,
      "metadata": {
        "colab": {
          "base_uri": "https://localhost:8080/"
        },
        "id": "Jh2pEM-eOKRn",
        "outputId": "f25f5fe0-eee0-4883-a790-157375599ef1"
      },
      "outputs": [
        {
          "name": "stdout",
          "output_type": "stream",
          "text": [
            "10 20 [1, 2]\n",
            "30 40 [3, 4]\n",
            "50 60 [5, 6]\n"
          ]
        }
      ],
      "source": [
        "for i, j, k in [[10, 20, [1, 2]], [30, 40, [3, 4]], [50, 60, [5, 6]]]:\n",
        "    print(i, j, k)"
      ]
    },
    {
      "cell_type": "code",
      "execution_count": null,
      "metadata": {
        "colab": {
          "base_uri": "https://localhost:8080/"
        },
        "id": "OalM9Y7lOBHu",
        "outputId": "eb49d17e-8e70-4df0-c0fa-888358b07a06"
      },
      "outputs": [
        {
          "data": {
            "text/plain": [
              "(15, 10)"
            ]
          },
          "execution_count": 188,
          "metadata": {},
          "output_type": "execute_result"
        }
      ],
      "source": [
        "# value swap\n",
        "a = 10\n",
        "b = 15\n",
        "a, b = b ,a\n",
        "a, b"
      ]
    },
    {
      "cell_type": "code",
      "execution_count": null,
      "metadata": {
        "id": "4eqyvq3FN8gl"
      },
      "outputs": [],
      "source": [
        "d = {'A': (10, 20), 'B': (20, 30), 'C': (30, 40)}\n",
        "for i, j in d.items(): # items는 쌍으로 주기 때문에 i, j로 받음\n",
        "    print(i, j)"
      ]
    },
    {
      "attachments": {},
      "cell_type": "markdown",
      "metadata": {
        "id": "zd9ldcKANwV9"
      },
      "source": [
        "## max를 이용한 dict 최대 value의 key 값 가져오기\n"
      ]
    },
    {
      "cell_type": "code",
      "execution_count": null,
      "metadata": {
        "colab": {
          "base_uri": "https://localhost:8080/"
        },
        "id": "fL1Xt3iwPdUk",
        "outputId": "5f287308-7dde-4bb3-bbf4-c2c0642c3eca"
      },
      "outputs": [
        {
          "name": "stdout",
          "output_type": "stream",
          "text": [
            "test3\n",
            "test3\n"
          ]
        }
      ],
      "source": [
        "d = {\n",
        "    'test1' : 10,\n",
        "    'test2' : 20,\n",
        "    'test3' : 31,\n",
        "    'test4' : 11,\n",
        "}\n",
        "\n",
        "max(d.values()) # 최대인 value만 찾을 뿐..\n",
        "print(max(d, key=lambda x : d[x]))\n",
        "print(max(d, key=d.get))            ## 많이 사용하는 코드"
      ]
    },
    {
      "cell_type": "code",
      "execution_count": null,
      "metadata": {
        "colab": {
          "base_uri": "https://localhost:8080/"
        },
        "id": "hNcJ1L6vQg9w",
        "outputId": "9b6e59c1-3d74-45da-c5d5-fd7de667bffc"
      },
      "outputs": [
        {
          "name": "stdout",
          "output_type": "stream",
          "text": [
            "{'2': 2, '4': 4, '1': 1, '3': 3}\n",
            "{'2': 2, '4': 4, '1': 1, '3': 3, 'a': 64, 'b': 77}\n"
          ]
        }
      ],
      "source": [
        "## 두개 이상의 dictionary를 새 dict()로 병합하기\n",
        "a = {'2' : 2, '4' :4}\n",
        "b = {'1' : 1 , '3' : 3}\n",
        "c = {'a' : 64 , 'b' : 77}\n",
        "\n",
        "## 이 방식으로는 key가 겹치면 뒤에 있는 값으로 덮어씌워진다.\n",
        "d = dict(a, **b)\n",
        "print(d)\n",
        "d = dict(a, **b, **c)\n",
        "print(d)"
      ]
    },
    {
      "cell_type": "code",
      "execution_count": null,
      "metadata": {
        "colab": {
          "base_uri": "https://localhost:8080/"
        },
        "id": "BcEkqkMdWTOE",
        "outputId": "0d97269e-d8fb-4e2c-f69c-920afc9d129c"
      },
      "outputs": [
        {
          "name": "stdout",
          "output_type": "stream",
          "text": [
            "{64: 'a', 77: 'b'}\n",
            "{64: 'a', 77: 'b'}\n",
            "{64: 'a', 77: 'b'}\n"
          ]
        }
      ],
      "source": [
        "## key value 바꾸기\n",
        "d = {'a' : 64 , 'b' : 77}\n",
        "\n",
        "newd = {}\n",
        "for key, value in d.items():\n",
        "    newd[value] = key\n",
        "\n",
        "print(newd)\n",
        "\n",
        "# dictionary comprehension\n",
        "print({v:k for k,v in d.items()})\n",
        "\n",
        "# zip으로 dict\n",
        "print(dict(zip(d.values(), d.keys())))"
      ]
    },
    {
      "attachments": {},
      "cell_type": "markdown",
      "metadata": {
        "id": "8XE_P9KIQZLw"
      },
      "source": [
        "## set(셋, 집합)\n"
      ]
    },
    {
      "attachments": {},
      "cell_type": "markdown",
      "metadata": {
        "id": "KydavgRtRFII"
      },
      "source": [
        "* 집합 자료형은 중복을 허용하지 않으며\n",
        "* 순서가 없는 자료형\n",
        "* "
      ]
    },
    {
      "cell_type": "code",
      "execution_count": null,
      "metadata": {
        "colab": {
          "base_uri": "https://localhost:8080/"
        },
        "id": "psm3U2_EQbIl",
        "outputId": "7ae3091c-b871-4060-c1be-708f7e79b9d3"
      },
      "outputs": [
        {
          "name": "stdout",
          "output_type": "stream",
          "text": [
            "{1, 2, 3, 4}\n"
          ]
        }
      ],
      "source": [
        "n = set([1,1,2,2,3,3,4])\n",
        "print(n)"
      ]
    },
    {
      "cell_type": "code",
      "execution_count": null,
      "metadata": {
        "colab": {
          "base_uri": "https://localhost:8080/"
        },
        "id": "xyhHY54aQ-g2",
        "outputId": "77924e98-65fc-47f5-c6d6-7a2af2ddf162"
      },
      "outputs": [
        {
          "name": "stdout",
          "output_type": "stream",
          "text": [
            "{'h', 'o', 'w', ' ', 'e', 'l', 'd', 'r'}\n"
          ]
        }
      ],
      "source": [
        "s = set('hello world')\n",
        "print(s)"
      ]
    },
    {
      "cell_type": "code",
      "execution_count": null,
      "metadata": {
        "colab": {
          "base_uri": "https://localhost:8080/"
        },
        "id": "UfQjIbNdTypd",
        "outputId": "6403b89c-6aa8-40d0-cabf-3ce1f3907f56"
      },
      "outputs": [
        {
          "name": "stdout",
          "output_type": "stream",
          "text": [
            "{1, 2, 3, 4, 1000}\n"
          ]
        }
      ],
      "source": [
        "# add 값 1개 추가할 때\n",
        "n = set([1,1,2,2,3,3,4])\n",
        "n.add(1000)\n",
        "print(n)"
      ]
    },
    {
      "cell_type": "code",
      "execution_count": null,
      "metadata": {
        "colab": {
          "base_uri": "https://localhost:8080/"
        },
        "id": "v_yIwlvrT1fW",
        "outputId": "95da595d-49ca-40c5-cd17-d386cc0339b6"
      },
      "outputs": [
        {
          "name": "stdout",
          "output_type": "stream",
          "text": [
            "{1, 2, 3, 4, 1000, 2000, 3000}\n"
          ]
        }
      ],
      "source": [
        "# update 값 여러개 추가할 때\n",
        "n = set([1,1,2,2,3,3,4])\n",
        "n.update([1000, 2000, 3000])\n",
        "print(n)"
      ]
    },
    {
      "cell_type": "code",
      "execution_count": null,
      "metadata": {
        "colab": {
          "base_uri": "https://localhost:8080/"
        },
        "id": "B30-YUCET_Vm",
        "outputId": "ec9da232-7e00-4fe2-ac8d-e487185e3063"
      },
      "outputs": [
        {
          "name": "stdout",
          "output_type": "stream",
          "text": [
            "{2, 3, 4}\n"
          ]
        }
      ],
      "source": [
        "# remove 값이 없으면 오류를 출력함.\n",
        "# discard는 지유려는 값이 없어도 오류를 출력하지 않음\n",
        "n = set([1,1,2,2,3,3,4])\n",
        "n.remove(1)\n",
        "print(n)\n",
        "n.discard(1)\n"
      ]
    },
    {
      "attachments": {},
      "cell_type": "markdown",
      "metadata": {
        "id": "sYdOyfytWfAZ"
      },
      "source": [
        "* pop 은 실무에서 잘 사용하지 않습니다. 값을 랜덤하게 뽑아내기 때문입니다. 높은 확률로 앞에서부터 뽑아내긴 하지만 확률에 기대는 코딩을 하지 않기를 바랍니다. 공식문서에서는 랜덤하게 뽑아낸다고 되어 있습니다.\n",
        "\n",
        "    > https://docs.python.org/3.11/library/stdtypes.html#frozenset.pop\n",
        "\n"
      ]
    },
    {
      "cell_type": "code",
      "execution_count": null,
      "metadata": {
        "colab": {
          "base_uri": "https://localhost:8080/"
        },
        "id": "UmxSjLmXXPUm",
        "outputId": "901dac74-1d14-44e5-fc36-85faf35c947a"
      },
      "outputs": [
        {
          "name": "stdout",
          "output_type": "stream",
          "text": [
            "{3}\n",
            "{3}\n"
          ]
        }
      ],
      "source": [
        "# 교집합. 별 3개\n",
        "a = {1, 2, 3}\n",
        "b = {3, 4, 5}\n",
        "print(a&b) #교집합\n",
        "print(a.intersection(b))"
      ]
    },
    {
      "cell_type": "code",
      "execution_count": null,
      "metadata": {
        "colab": {
          "base_uri": "https://localhost:8080/"
        },
        "id": "TOeRgJvuXvDX",
        "outputId": "1c355349-13c2-4871-ff1f-088f9a458129"
      },
      "outputs": [
        {
          "name": "stdout",
          "output_type": "stream",
          "text": [
            "{1, 2, 3, 4, 5}\n",
            "{1, 2, 3, 4, 5}\n"
          ]
        }
      ],
      "source": [
        "# 합집합. \n",
        "a = {1, 2, 3}\n",
        "b = {3, 4, 5}\n",
        "print(a|b)\n",
        "print(a.union(b))\n",
        "# a + b # error"
      ]
    },
    {
      "cell_type": "code",
      "execution_count": null,
      "metadata": {
        "colab": {
          "base_uri": "https://localhost:8080/"
        },
        "id": "UCQgrEJrYBpn",
        "outputId": "8d10ad7b-7632-48a5-a57b-74fc7e457839"
      },
      "outputs": [
        {
          "name": "stdout",
          "output_type": "stream",
          "text": [
            "{'cafe latte', 'yogurt strawberry blended'}\n",
            "{'cafe latte', 'yogurt strawberry blended'}\n"
          ]
        }
      ],
      "source": [
        "# 차집합\n",
        "# 이녀석은 다행히 사칙연산 - 가 됨\n",
        "my_cafe = set(['americano', 'water', 'yogurt strawberry blended', 'cafe latte'])\n",
        "other_cafe = set(['americano', 'water', 'green tea'])\n",
        "\n",
        "print(my_cafe - other_cafe)\n",
        "print(my_cafe.difference(other_cafe))"
      ]
    },
    {
      "cell_type": "code",
      "execution_count": null,
      "metadata": {
        "colab": {
          "base_uri": "https://localhost:8080/"
        },
        "id": "CCO1uSzWYMiM",
        "outputId": "bee2e2de-49a7-4aec-efe1-0e71752545de"
      },
      "outputs": [
        {
          "data": {
            "text/plain": [
              "{1, 2, 5, 6}"
            ]
          },
          "execution_count": 219,
          "metadata": {},
          "output_type": "execute_result"
        }
      ],
      "source": [
        "# 대칭차집합 안중요함\n",
        "# A와 B 집합의 합집합에서 교집합을 뺀 것\n",
        "s = {1, 2, 3, 4}\n",
        "ss = {3, 4, 5, 6}\n",
        "\n",
        "s^ss\n",
        "set.symmetric_difference(s, ss)"
      ]
    },
    {
      "cell_type": "code",
      "execution_count": null,
      "metadata": {
        "colab": {
          "base_uri": "https://localhost:8080/"
        },
        "id": "mwXpeNqXYYVc",
        "outputId": "7a20752e-8c7e-48e6-8fb8-25aaa82ae1cf"
      },
      "outputs": [
        {
          "name": "stdout",
          "output_type": "stream",
          "text": [
            "False\n",
            "True\n"
          ]
        },
        {
          "data": {
            "text/plain": [
              "True"
            ]
          },
          "execution_count": 220,
          "metadata": {},
          "output_type": "execute_result"
        }
      ],
      "source": [
        "# .issubset()\n",
        "# 호출한 set이 인자의 subset인지...\n",
        "s = {1, 2, 3, 4}\n",
        "ss = {3, 4, 5, 6}\n",
        "print(s.issubset({1, 2}))       # s가 {1,2} 의 서브셋이냐\n",
        "print(s.issubset({1, 2, 3, 4, 5, 6}))  # s가 {1, 2, 3, 4, 5, 6}의 서브셋이냐\n",
        "\n",
        "s < {1, 2, 3, 4, 5, 6} #진부분집합(<->진상위집합)\n",
        "s <= {1, 2, 3, 4, 5, 6} #부분집합(<->상위집합)"
      ]
    },
    {
      "cell_type": "code",
      "execution_count": null,
      "metadata": {
        "colab": {
          "base_uri": "https://localhost:8080/"
        },
        "id": "ufbP9Q22RBJW",
        "outputId": "853eee3f-629c-41ae-e4e5-59cb42eecc4f"
      },
      "outputs": [
        {
          "data": {
            "text/plain": [
              "{'e', 'l', 'o', 'p'}"
            ]
          },
          "execution_count": 200,
          "metadata": {},
          "output_type": "execute_result"
        }
      ],
      "source": [
        "# 코딩 테스트 문제\n",
        "# https://school.programmers.co.kr/learn/courses/30/lessons/120888\n",
        "# my_string     result\n",
        "# \"poeple\"      \"peol\"\n",
        "def solution(my_string):\n",
        "    answer = ''\n",
        "    return set(my_string)\n",
        "\n",
        "solution('people')"
      ]
    },
    {
      "cell_type": "code",
      "execution_count": null,
      "metadata": {
        "colab": {
          "base_uri": "https://localhost:8080/",
          "height": 35
        },
        "id": "yCwcE5-hY2fl",
        "outputId": "576ba90a-d579-49b3-dd6a-88a828689276"
      },
      "outputs": [
        {
          "data": {
            "application/vnd.google.colaboratory.intrinsic+json": {
              "type": "string"
            },
            "text/plain": [
              "'peol'"
            ]
          },
          "execution_count": 221,
          "metadata": {},
          "output_type": "execute_result"
        }
      ],
      "source": [
        "# set으로 안풀기\n",
        "result = ''\n",
        "for i in \"people\":\n",
        "    if i not in result:\n",
        "        result += i\n",
        "\n",
        "result"
      ]
    },
    {
      "cell_type": "code",
      "execution_count": null,
      "metadata": {
        "colab": {
          "base_uri": "https://localhost:8080/",
          "height": 35
        },
        "id": "EMDz3CAvSkW7",
        "outputId": "2df6aa8f-14e4-4818-9ed8-0f1c96657188"
      },
      "outputs": [
        {
          "data": {
            "application/vnd.google.colaboratory.intrinsic+json": {
              "type": "string"
            },
            "text/plain": [
              "'leop'"
            ]
          },
          "execution_count": 202,
          "metadata": {},
          "output_type": "execute_result"
        }
      ],
      "source": [
        "# 그냥 set으로 바꾸면 순서가 엉망진창!\n",
        "def solution(my_string):\n",
        "    answer = ''\n",
        "    return ''.join(set(my_string))\n",
        "\n",
        "solution('people')"
      ]
    },
    {
      "cell_type": "code",
      "execution_count": null,
      "metadata": {
        "colab": {
          "base_uri": "https://localhost:8080/",
          "height": 35
        },
        "id": "wwgU6fD1Zjlb",
        "outputId": "4f973b8e-5e01-473a-99c2-e5e47282f47d"
      },
      "outputs": [
        {
          "data": {
            "application/vnd.google.colaboratory.intrinsic+json": {
              "type": "string"
            },
            "text/plain": [
              "'peol'"
            ]
          },
          "execution_count": 223,
          "metadata": {},
          "output_type": "execute_result"
        }
      ],
      "source": [
        "# set으로 풀기\n",
        "def solution(my_string):\n",
        "    s = set(my_string)\n",
        "    result = ''\n",
        "    for i in my_string:\n",
        "        if i in s:\n",
        "            result += i\n",
        "            s.remove(i)\n",
        "\n",
        "    return result\n",
        "\n",
        "solution('people')"
      ]
    },
    {
      "attachments": {},
      "cell_type": "markdown",
      "metadata": {
        "id": "uIk2IV5Xaaxl"
      },
      "source": [
        "## !! 연습문제\n"
      ]
    },
    {
      "cell_type": "code",
      "execution_count": null,
      "metadata": {
        "colab": {
          "base_uri": "https://localhost:8080/"
        },
        "id": "LovJYGLkacTY",
        "outputId": "651ed816-0088-487c-8e48-c4283d0e29cc"
      },
      "outputs": [
        {
          "name": "stdout",
          "output_type": "stream",
          "text": [
            "402\n",
            "80.4\n",
            "홍의 97\n",
            "홍의 97\n",
            "원희 60\n"
          ]
        }
      ],
      "source": [
        "# 연습문제1\n",
        "student_score = {\n",
        "\t\t'홍의': 97,\n",
        "\t\t'원희': 60,\n",
        "\t\t'동해': 77,\n",
        "\t\t'변수': 79,\n",
        "\t\t'창현': 89,\n",
        "}\n",
        "\n",
        "# 학생들의 **총점**을 구하는 코드를 작성하세요.\n",
        "a = sum(student_score.values())\n",
        "print(a)\n",
        "\n",
        "# 학생들의 **평균 점수**를 구하는 코드를 작성하세요.\n",
        "b = sum(student_score.values()) / len(student_score)\n",
        "print(b)\n",
        "\n",
        "# 점수가 가장 **높은** 학생의 이름과 그 점수를 구하는 코드를 작성하세요.\n",
        "c = max(student_score, key=student_score.get)\n",
        "print(c, max(student_score.values()))\n",
        "print(c, student_score.get(c)) # == student_score[c]\n",
        "\n",
        "# 점수가 가장 **낮은** 학생의 이름과 그 점수를 구하는 코드를 작성하세요.\n",
        "d = min(student_score, key=student_score.get)\n",
        "print(d, min(student_score.values()))"
      ]
    },
    {
      "cell_type": "code",
      "execution_count": null,
      "metadata": {
        "colab": {
          "base_uri": "https://localhost:8080/"
        },
        "id": "VVCwDY5TaeHX",
        "outputId": "d1ac5efd-920b-4f40-d027-f4a44bb45f5c"
      },
      "outputs": [
        {
          "name": "stdout",
          "output_type": "stream",
          "text": [
            "['라면', '치킨', '짜장면', '볶음밥']\n",
            "['라면', '치킨', '짜장면', '볶음밥']\n"
          ]
        }
      ],
      "source": [
        "# 연습문제2\n",
        "like = ['볶음밥', '라면', '국수', '파스타', '치킨', '짜장면', '국밥']\n",
        "dislike = ['국밥', '짬뽕', '찜닭', '파스타', '국수', '카레', '덮밥']\n",
        "menu = list(set(like) - set(dislike))\n",
        "print(list(set(like).difference(set(dislike))))\n",
        "print(menu)"
      ]
    },
    {
      "attachments": {},
      "cell_type": "markdown",
      "metadata": {
        "id": "kE9Ijj6iq6tM"
      },
      "source": [
        "## !! 오늘 배운 것 정리 230504\n",
        "\n",
        "1. sort\n",
        "\n",
        "   - sorted는 원본을 만지지 않는 'built-in function', 정렬입니다.\n",
        "   - sort는 원본을 만지는 '리스트 메서드', 정렬입니다.\n",
        "   - sort의 다양한 예\n",
        "\n",
        "     ```python\n",
        "     l = [[1, 10, 'leehojun'],\n",
        "         [20, 30, 'hojun'],\n",
        "         [10, 20, 'weniv!'],\n",
        "         [1, 2, 'hello world'],\n",
        "         [55, 11, 'sun']]\n",
        "\n",
        "     # 1. 글자 수 대로 정렬해주세요.\n",
        "     def f(x):\n",
        "         return len(x[2])\n",
        "\n",
        "     print(sorted(l, key=f, reverse=False))\n",
        "     print(sorted(l, key=lambda x:len(x[2]), reverse=False))\n",
        "\n",
        "     # 2. 맨 앞에 위치한 숫자대로 정렬해주세요.\n",
        "     def f2(x):\n",
        "         return x[0]\n",
        "\n",
        "     print(sorted(l))\n",
        "     print(sorted(l, key=f2))\n",
        "     print(sorted(l, key=lambda x:x[0]))\n",
        "\n",
        "     # 3. 중앙에 위치한 값대로 정렬해주세요.\n",
        "\n",
        "     def f3(x):\n",
        "         return x[1]\n",
        "\n",
        "     print(sorted(l))\n",
        "     print(sorted(l, key=f3))\n",
        "     print(sorted(l, key=lambda x:x[1]))\n",
        "\n",
        "     l = [[1, 10, 32],\n",
        "         [20, 30, 11],\n",
        "         [10, 20, 22],\n",
        "         [1, 2, 13],\n",
        "         [55, 11, 44]]\n",
        "\n",
        "     # 4. 3개의 전체 합이 작은 순서대로 출력해주세요.\n",
        "\n",
        "     def f4(x):\n",
        "         return x[0] + x[1] + x[2]\n",
        "\n",
        "     def f5(x):\n",
        "         return sum(x)\n",
        "\n",
        "     print(sorted(l, key=f4))\n",
        "     print(sorted(l, key=f5))\n",
        "     print(sorted(l, key=lambda x: sum(x)))\n",
        "     print(sorted(l, key=sum))\n",
        "     ```\n",
        "\n",
        "2. 깊은 복사와 얕은 복사\n",
        "\n",
        "   1. 깊은 복사 : 완전히 다른 객체를 만듭니다.(깊은 복사는 n 계층까지 모두 복사)\n",
        "\n",
        "      ```python\n",
        "      # 깊은 복사\n",
        "      import copy\n",
        "\n",
        "      l = [[1, 2, 3], [4, 5, 6]]\n",
        "      ll = copy.deepcopy(l)\n",
        "      ll[0][0] = 10\n",
        "      l, ll\n",
        "      ```\n",
        "\n",
        "   2. 얕은 복사 : 내용물은 같은 다른 객체를 만듭니다.(얕은 복사는 1 계층만 복사)\n",
        "      ```python\n",
        "      # 얕은 복사\n",
        "      l = [[1, 2, 3], [4, 5, 6]]\n",
        "      ll = l[:] # l.copy, sorted를 써도 마찬가지입니다.\n",
        "      l[0][0] = 100\n",
        "      l, ll\n",
        "      ```\n",
        "\n",
        "3. range\n",
        "\n",
        "   ```python\n",
        "   # range(start, stop, step)\n",
        "   # 슬라이싱은 ':'(콜론)으로 연결되어 있고\n",
        "   # range는 ','(콤마)로 연결되어 있습니다.\n",
        "\n",
        "   print(list(range(100)))\n",
        "   # python 2.x에서 python 3.x에 range를 사용하고 싶다면 xrange(10)\n",
        "   print(list(range(5, 10)))\n",
        "\n",
        "   print(list(range(0, 101, 2))) #짝수\n",
        "   print(list(range(1, 101, 2))) #홀수\n",
        "   print(list(range(100, 1, -2)))\n",
        "   print(sum(list(range(0, 101))))\n",
        "   print(sum(range(0, 101))) # 이렇게 형 변환을 하지 않고 sum하시는 것을 권합니다.\n",
        "   ```\n",
        "\n",
        "4. list comprehension\n",
        "\n",
        "   ```python\n",
        "   # l = []\n",
        "   # for i in range(1, 11):\n",
        "   #     l.append(i**i)\n",
        "   # l\n",
        "\n",
        "   l = [i**i for i in range(1, 11)]\n",
        "   l\n",
        "   ```\n",
        "\n",
        "5. tuple\n",
        "\n",
        "   - 튜플은 순서가 있는 시퀀스형 자료형입니다.\n",
        "   - 참조값은 변경이 불가능(immutable) 합니다.\n",
        "     ```python\n",
        "     t = (10, 20, 30)\n",
        "     t[1] = 1000 # error\n",
        "     ```\n",
        "   - 다른 자료형을 입력할 수 있으며, 튜플 안에 튜플로 다차원의 튜플을 만드는 것도 가능합니다.\n",
        "   - 값의 중복을 허락합니다.\n",
        "   - 메서드는 index와 count밖에 없습니다.\n",
        "\n",
        "6. dict (딕셔너리, 사전형)\n",
        "\n",
        "   - 딕셔너리는 순서가 없는 자료형입니다.\n",
        "   - 사전형은 Key와 Value 가 하나의 묶음으로 이루어진 자료 체계입니다.\n",
        "   - 값의 변경이 가능합니다.\n",
        "     ```python\n",
        "     d = {'one' : '하나', 'two' : '둘', 'three' : '셋'}\n",
        "     print(d['one']) # 호출\n",
        "     d['two'] = '투' # 변경\n",
        "     d\n",
        "     ```\n",
        "   - 다른 자료형을 입력할 수 있습니다.\n",
        "   - 키의 중복은 허락하지 않고, 값의 중복을 허락합니다.\n",
        "   - dict를 활용한 switch 만들기\n",
        "\n",
        "     ```python\n",
        "     def switch(day):\n",
        "         return {\n",
        "             1 : '월요일',\n",
        "             2 : '화요일',\n",
        "             3 : '수요일',\n",
        "             4 : '목요일',\n",
        "             5 : '금요일',\n",
        "             6 : '토요일',\n",
        "             7 : '일요일',\n",
        "         }.get(day, '요일을 찾지 못했습니다.')\n",
        "\n",
        "     switch(8)\n",
        "     ```\n",
        "\n",
        "   - max를 이용한 dict 최대 value의 key값 가져오기\n",
        "\n",
        "     ```python\n",
        "     d = {\n",
        "         'test1': 10,\n",
        "         'test2': 20,\n",
        "         'test3': 31,\n",
        "         'test4': 11,\n",
        "     }\n",
        "\n",
        "     # max(d.values()) # 이걸로는 뭔가 찾아내기 힘듭니다.\n",
        "     max(d, key=lambda x: d[x])\n",
        "     max(d, key=d.get) #많이 사용하는 코드입니다.\n",
        "     ```\n",
        "\n",
        "7. 언패킹\n",
        "\n",
        "   - 언패킹 예\n",
        "     ```python\n",
        "     for i, j, k in [[10, 20, [1, 2]], [30, 40, [3, 4]], [50, 60, [5, 6]]]:\n",
        "         print(i, j, k)\n",
        "     ```\n",
        "   - swap 예\n",
        "     ```python\n",
        "     # swap\n",
        "     a = 10\n",
        "     b = 15\n",
        "     a, b = b, a\n",
        "     a, b\n",
        "     ```\n",
        "\n",
        "8. set (셋, 집합)\n",
        "   - 집합 자료형은 중복을 허용하지 않으며\n",
        "   - 순서가 없는 자료형\n",
        "     ```python\n",
        "     n = set([1, 1, 2, 2, 3, 3, 4])\n",
        "     print(n)\n",
        "     ```\n",
        "   - 메서드\n",
        "     - add : 값 추가\n",
        "     - update : 값 여러개 추가\n",
        "     - remove : 제거\n",
        "     - copy : 값 복사\n",
        "     - union : 합집합\n",
        "     - intersection : 교집합\n",
        "     - difference : 차집합\n",
        "     - issubset : 부분집합\n"
      ]
    },
    {
      "cell_type": "code",
      "execution_count": null,
      "metadata": {
        "colab": {
          "base_uri": "https://localhost:8080/"
        },
        "id": "vwEUIuJEwEpE",
        "outputId": "030c8297-bbfe-480b-8ea0-ab1064501a2c"
      },
      "outputs": [
        {
          "data": {
            "text/plain": [
              "['.config', 'sample_data']"
            ]
          },
          "execution_count": 4,
          "metadata": {},
          "output_type": "execute_result"
        }
      ],
      "source": [
        "import pandas as pd\n",
        "\n",
        "import matplotlib.pyplot as plt\n",
        "import seaborn as sns\n",
        "\n",
        "import re  # re module <- regex\n",
        "\n",
        "import csv\n",
        "import os\n",
        "\n",
        "path = os.getcwd()\n",
        "file_ls = os.listdir(path)\n",
        "file_ls\n"
      ]
    },
    {
      "attachments": {},
      "cell_type": "markdown",
      "metadata": {
        "id": "BLTbuiZSikXu"
      },
      "source": [
        "## (질의응답) max(student_score, key=student_score.get) 은 어떻게 동작하는가?\n"
      ]
    },
    {
      "cell_type": "code",
      "execution_count": null,
      "metadata": {
        "colab": {
          "base_uri": "https://localhost:8080/"
        },
        "id": "MYUFoxlEjRhN",
        "outputId": "b0e235de-0a2a-477b-f798-5a7bd681c63a"
      },
      "outputs": [
        {
          "name": "stdout",
          "output_type": "stream",
          "text": [
            "2 30\n",
            "4 50\n",
            "5 60\n",
            "3 40\n",
            "6 70\n",
            "0 10\n",
            "7 80\n",
            "1 20\n"
          ]
        },
        {
          "data": {
            "text/plain": [
              "7"
            ]
          },
          "execution_count": 9,
          "metadata": {},
          "output_type": "execute_result"
        }
      ],
      "source": [
        "def f(x):\n",
        "    print(x, ll[x])\n",
        "    return ll[x]\n",
        "\n",
        "l = [2, 4, 5, 3, 6, 0, 7, 1]\n",
        "ll = [10, 20, 30, 40, 50, 60, 70, 80]\n",
        "\n",
        "max(l, key=f)"
      ]
    },
    {
      "cell_type": "code",
      "execution_count": null,
      "metadata": {
        "id": "3aEdXY7Gjc4m"
      },
      "outputs": [],
      "source": [
        "max(student_score, key=student_score.get)"
      ]
    },
    {
      "cell_type": "code",
      "execution_count": null,
      "metadata": {
        "colab": {
          "base_uri": "https://localhost:8080/"
        },
        "id": "oJAOCAEyk2PK",
        "outputId": "4e4dbc88-9f6b-43a2-fb53-fcb6320d6d2c"
      },
      "outputs": [
        {
          "name": "stdout",
          "output_type": "stream",
          "text": [
            "2 2\n",
            "4 1\n",
            "5 4\n",
            "3 3\n",
            "6 11\n",
            "0 5\n",
            "7 2\n",
            "1 1\n"
          ]
        },
        {
          "data": {
            "text/plain": [
              "6"
            ]
          },
          "execution_count": 10,
          "metadata": {},
          "output_type": "execute_result"
        }
      ],
      "source": [
        "def f(x):\n",
        "    print(x, len(ll[x]))\n",
        "    return len(ll[x])\n",
        "\n",
        "l = [2, 4, 5, 3, 6, 0, 7, 1]\n",
        "ll = ['hello', 'a', 'bb', 'ccc', 'a', 'bbbb', 'hello world', 'cc']\n",
        "\n",
        "max(l, key=f)"
      ]
    },
    {
      "cell_type": "code",
      "execution_count": null,
      "metadata": {
        "colab": {
          "base_uri": "https://localhost:8080/",
          "height": 35
        },
        "id": "F0ZyIYsYlZhy",
        "outputId": "4455a46a-23aa-42d7-eefa-d905f9cd8a15"
      },
      "outputs": [
        {
          "data": {
            "application/vnd.google.colaboratory.intrinsic+json": {
              "type": "string"
            },
            "text/plain": [
              "'test3'"
            ]
          },
          "execution_count": 11,
          "metadata": {},
          "output_type": "execute_result"
        }
      ],
      "source": [
        "def 함수(x):\n",
        "    return d.get(x)\n",
        "\n",
        "d = {\n",
        "      'test1': 10,\n",
        "      'test2': 20,\n",
        "      'test3': 31,\n",
        "      'test4': 11,\n",
        "}\n",
        "\n",
        "# max(d, key=함수)\n",
        "# max(d, key=lambda x: d[x])\n",
        "# max(d, key=d.get)"
      ]
    },
    {
      "cell_type": "code",
      "execution_count": null,
      "metadata": {
        "colab": {
          "base_uri": "https://localhost:8080/",
          "height": 35
        },
        "id": "tpQrnwujmntH",
        "outputId": "275e7a83-091b-4591-fbde-bd3a8c6cb265"
      },
      "outputs": [
        {
          "data": {
            "application/vnd.google.colaboratory.intrinsic+json": {
              "type": "string"
            },
            "text/plain": [
              "'ccc'"
            ]
          },
          "execution_count": 13,
          "metadata": {},
          "output_type": "execute_result"
        }
      ],
      "source": [
        "def f(x):\n",
        "    return len(x)\n",
        "l = ['a', 'bb', 'ccc', 'dd']\n",
        "\n",
        "# max(l, key=len)\n",
        "max(l,key=f)"
      ]
    },
    {
      "cell_type": "code",
      "execution_count": null,
      "metadata": {
        "colab": {
          "base_uri": "https://localhost:8080/"
        },
        "id": "AyhFvu7snSUV",
        "outputId": "23a9657b-f298-4db5-8c1e-9305b029d989"
      },
      "outputs": [
        {
          "name": "stdout",
          "output_type": "stream",
          "text": [
            "학생2\n"
          ]
        },
        {
          "data": {
            "text/plain": [
              "['학생1', '학생4', '학생3', '학생2']"
            ]
          },
          "execution_count": 21,
          "metadata": {},
          "output_type": "execute_result"
        }
      ],
      "source": [
        "def 함수(x):\n",
        "    return d.get(x)\n",
        "\n",
        "수학 = {\n",
        "      '학생1': 10,\n",
        "      '학생2': 20,\n",
        "      '학생3': 31,\n",
        "      '학생4': 11,\n",
        "}\n",
        "\n",
        "과학 = {\n",
        "      '학생1': 11,\n",
        "      '학생2': 17,\n",
        "      '학생3': 13,\n",
        "      '학생4': 11,\n",
        "      '학생5': 25,\n",
        "      '학생6': 100\n",
        "}\n",
        "\n",
        "수학점수가가장큰사람 = max(수학, key=수학.get)\n",
        "과학점수가가장큰사람 = max(과학, key=과학.get)\n",
        "print(max(수학, key=과학.get))\n",
        "sorted(수학, key=과학.get)"
      ]
    },
    {
      "attachments": {},
      "cell_type": "markdown",
      "metadata": {
        "id": "V1E8bxZwi6e5"
      },
      "source": [
        "## (질의응답) 함수 아규먼트 순서"
      ]
    },
    {
      "cell_type": "code",
      "execution_count": null,
      "metadata": {
        "colab": {
          "base_uri": "https://localhost:8080/"
        },
        "id": "ycQWQbkvppWe",
        "outputId": "03b2f1b3-0546-47e5-f9d9-3800dfd5fcfe"
      },
      "outputs": [
        {
          "name": "stdout",
          "output_type": "stream",
          "text": [
            "100 200 300\n",
            "100 200 300\n"
          ]
        }
      ],
      "source": [
        "def f(a, b, c):\n",
        "    print(a, b, c)\n",
        "\n",
        "# f() # error\n",
        "# f(100, 10) # error\n",
        "f(a=100, b=200, c=300)\n",
        "f(c=300, a=100, b=200)  # 실무에서 이렇게 순서를 바꿔서 넣지 않고 지켜준다.\n",
        "\n",
        "# 실무에서 언제 사용할까?\n",
        "# 파라메터, 아규먼츠가 매우 많을 때! # 참고. roro패턴?\n",
        "# 이런 함수가 나오면 이 함수가 무엇을 뜻하는 것일까요?\n",
        "# addNewControl(\"Title\", 20, 50, 100, 50, 200, 300, 150)\n",
        "# addNewControl(title=\"Title\", height=20, width=50, textlen = 100, ...)\n",
        "# 어? 컨트롤 박스를 만드는 구나..."
      ]
    },
    {
      "cell_type": "code",
      "execution_count": null,
      "metadata": {
        "colab": {
          "base_uri": "https://localhost:8080/"
        },
        "id": "cYFRUPbfrUE3",
        "outputId": "36b62959-dfcf-4f55-9102-1f0a99f96ee8"
      },
      "outputs": [
        {
          "name": "stdout",
          "output_type": "stream",
          "text": [
            "10 20 30\n",
            "100 10 30\n",
            "100 200 300\n",
            "100 200 300\n"
          ]
        }
      ],
      "source": [
        "# 파라메터에 default 값을 설정할 수 있다.\n",
        "# 이때는 파라메터에 값을 전달하지 않아도 dafault값으로 적용됨\n",
        "def f(a=10, b=20, c=30):\n",
        "    print(a, b, c)\n",
        "\n",
        "f()\n",
        "f(100, 10)\n",
        "f(a=100, b=200, c=300)\n",
        "f(c=300, a=100, b=200)"
      ]
    },
    {
      "cell_type": "code",
      "execution_count": null,
      "metadata": {
        "id": "0bd3cyXArz4b"
      },
      "outputs": [],
      "source": [
        "# c만 default value를 안주게 되면 error, 순서대로 안주어야 합니다.\n",
        "# default를 안주려면 순서대로 안주어야 함\n",
        "def f(a=10, b=20, c): \n",
        "    print(a, b, c)\n",
        "\n",
        "# f() # error\n",
        "# f(100, 10) # error\n",
        "# f(a=100, b=200, c=300) # error\n",
        "# f(c=300, a=100, b=200) # error\n",
        "# f(c=300) # error"
      ]
    },
    {
      "cell_type": "code",
      "execution_count": null,
      "metadata": {
        "colab": {
          "base_uri": "https://localhost:8080/"
        },
        "id": "JwWO3Gizr7ki",
        "outputId": "304e3efd-5620-411b-e0a0-6c52815e7c75"
      },
      "outputs": [
        {
          "name": "stdout",
          "output_type": "stream",
          "text": [
            "7 20 10\n",
            "100 10 10\n",
            "100 200 300\n",
            "100 200 300\n"
          ]
        }
      ],
      "source": [
        "# 순서대로 default값을 안 주어야 하기 때문에 a에 값을 주지 않은 경우\n",
        "def f(a, b=20, c=10): \n",
        "    print(a, b, c)\n",
        "\n",
        "# f() # error\n",
        "f(7)\n",
        "f(100, 10)\n",
        "f(a=100, b=200, c=300)\n",
        "f(c=300, a=100, b=200)"
      ]
    },
    {
      "attachments": {},
      "cell_type": "markdown",
      "metadata": {
        "id": "w9SMe3PTitMB"
      },
      "source": [
        "## (질의응답) zip, map등 한 번 순회가 되면 순회가 안 되는 이유"
      ]
    },
    {
      "attachments": {},
      "cell_type": "markdown",
      "metadata": {
        "id": "jACfUrzowm5g"
      },
      "source": [
        "* zip, map, filter, reversed etc.."
      ]
    },
    {
      "cell_type": "code",
      "execution_count": null,
      "metadata": {
        "colab": {
          "base_uri": "https://localhost:8080/"
        },
        "id": "TX2zf0imvPAe",
        "outputId": "35c07b38-432f-4b15-fece-4310790932b5"
      },
      "outputs": [
        {
          "name": "stdout",
          "output_type": "stream",
          "text": [
            "[(1, 'a'), (2, 'b'), (3, 'c')]\n",
            "[]\n"
          ]
        }
      ],
      "source": [
        "a = [1, 2, 3]\n",
        "b = ['a', 'b', 'c']\n",
        "\n",
        "z = zip(a, b)\n",
        "print(list(z)) # [(1, 'a'), (2, 'b'), (3, 'c')]\n",
        "\n",
        "# zip 객체는 한 번 사용되었으므로 빈 리스트가 반환됩니다.\n",
        "print(list(z)) # []"
      ]
    },
    {
      "cell_type": "code",
      "execution_count": null,
      "metadata": {
        "colab": {
          "base_uri": "https://localhost:8080/"
        },
        "id": "2XpYnv7Rvigf",
        "outputId": "03d1d580-e144-4aa9-c037-bd4588ff6cb1"
      },
      "outputs": [
        {
          "name": "stdout",
          "output_type": "stream",
          "text": [
            "(1, 'a')\n",
            "(2, 'b')\n",
            "(3, 'c')\n"
          ]
        }
      ],
      "source": [
        "li = [1, 2, 3]\n",
        "st = ['a', 'b', 'c']\n",
        "z = zip(li, st)\n",
        "\n",
        "for i in z:\n",
        "    print(i)\n",
        "\n",
        "for i in z:\n",
        "    print(i)"
      ]
    },
    {
      "cell_type": "code",
      "execution_count": null,
      "metadata": {
        "colab": {
          "base_uri": "https://localhost:8080/"
        },
        "id": "yUPIfERXv37l",
        "outputId": "dc338bd4-9253-4b91-d581-1f4741257104"
      },
      "outputs": [
        {
          "data": {
            "text/plain": [
              "(1, 'a')"
            ]
          },
          "execution_count": 30,
          "metadata": {},
          "output_type": "execute_result"
        }
      ],
      "source": [
        "li = [1, 2, 3]\n",
        "st = ['a', 'b', 'c']\n",
        "i = iter(zip(li, st))\n",
        "next(i)\n",
        "# next(i)\n",
        "# next(i)\n",
        "# next(i) # StopIteration\n",
        "# for 문도 StopIteration이 발생하기 전까지만 돌리고\n",
        "# 예외가 발생하면 루프를 나가도록 예외처리가 되어있습니다."
      ]
    },
    {
      "cell_type": "code",
      "execution_count": null,
      "metadata": {
        "colab": {
          "base_uri": "https://localhost:8080/"
        },
        "id": "bEs0_PdRwh4v",
        "outputId": "cc0e3178-aa35-45a0-e091-386cad305a8c"
      },
      "outputs": [
        {
          "name": "stdout",
          "output_type": "stream",
          "text": [
            "1\n",
            "4\n",
            "9\n"
          ]
        }
      ],
      "source": [
        "li = [1, 2, 3]\n",
        "z = map(lambda x:x**2, li)\n",
        "\n",
        "for i in z:\n",
        "    print(i)\n",
        "\n",
        "for i in z:\n",
        "    print(i)"
      ]
    },
    {
      "cell_type": "code",
      "execution_count": null,
      "metadata": {
        "colab": {
          "base_uri": "https://localhost:8080/"
        },
        "id": "Leujw0Ozws-5",
        "outputId": "764de5b5-ccf0-405c-8cd1-6cb373ab05e3"
      },
      "outputs": [
        {
          "name": "stdout",
          "output_type": "stream",
          "text": [
            "3\n",
            "2\n",
            "1\n"
          ]
        }
      ],
      "source": [
        "li = [1, 2, 3]\n",
        "z = reversed(li)\n",
        "\n",
        "for i in z:\n",
        "    print(i)\n",
        "\n",
        "for i in z:\n",
        "    print(i)"
      ]
    },
    {
      "cell_type": "code",
      "execution_count": null,
      "metadata": {
        "colab": {
          "base_uri": "https://localhost:8080/"
        },
        "id": "0CaIfRlWwvrd",
        "outputId": "69b99600-5059-4930-8d6b-3b7bd47f6a13"
      },
      "outputs": [
        {
          "name": "stdout",
          "output_type": "stream",
          "text": [
            "2\n",
            "3\n"
          ]
        }
      ],
      "source": [
        "li = [1, 2, 3]\n",
        "z = filter(lambda x:x>1, li)\n",
        "\n",
        "for i in z:\n",
        "    print(i)\n",
        "\n",
        "for i in z:\n",
        "    print(i)"
      ]
    },
    {
      "cell_type": "code",
      "execution_count": null,
      "metadata": {
        "colab": {
          "base_uri": "https://localhost:8080/"
        },
        "id": "RaaeZgkpw0qg",
        "outputId": "fb57d08b-fa95-45c7-cf77-01bf14b6e259"
      },
      "outputs": [
        {
          "name": "stdout",
          "output_type": "stream",
          "text": [
            "1\n",
            "2\n",
            "3\n",
            "1\n",
            "2\n",
            "3\n"
          ]
        }
      ],
      "source": [
        "# sorted는 많이 사용되는 함수라\n",
        "# 계속 순회가 가능하게 설계가 되어있습니다.\n",
        "# 이런 설계를 뒤에서 우리가 직접 해보게 될 것입니다.\n",
        "li = [1, 2, 3]\n",
        "z = sorted(li)\n",
        "\n",
        "for i in z:\n",
        "    print(i)\n",
        "\n",
        "for i in z:\n",
        "    print(i)"
      ]
    },
    {
      "attachments": {},
      "cell_type": "markdown",
      "metadata": {
        "id": "JJ_w8dKKxgjl"
      },
      "source": [
        "## 조건문"
      ]
    },
    {
      "attachments": {},
      "cell_type": "markdown",
      "metadata": {
        "id": "92EHLWtNxixR"
      },
      "source": [
        "* if, elif, else, continue, break"
      ]
    },
    {
      "cell_type": "code",
      "execution_count": null,
      "metadata": {
        "colab": {
          "base_uri": "https://localhost:8080/"
        },
        "id": "446mo6u0zENY",
        "outputId": "74e4ab3a-bf3f-4fda-e22d-a638a65484bb"
      },
      "outputs": [
        {
          "name": "stdout",
          "output_type": "stream",
          "text": [
            "Hello\n"
          ]
        }
      ],
      "source": [
        "x = 2\n",
        "if x > 1 and x < 10:\n",
        "\tprint('Hello')"
      ]
    },
    {
      "cell_type": "code",
      "execution_count": null,
      "metadata": {
        "colab": {
          "base_uri": "https://localhost:8080/"
        },
        "id": "mSR38MOLza84",
        "outputId": "51a70dc9-8967-4477-a896-0f3c8c1d1a33"
      },
      "outputs": [
        {
          "name": "stdout",
          "output_type": "stream",
          "text": [
            "hello\n"
          ]
        }
      ],
      "source": [
        "if True:\n",
        "    print('hello')"
      ]
    },
    {
      "cell_type": "code",
      "execution_count": null,
      "metadata": {
        "colab": {
          "base_uri": "https://localhost:8080/"
        },
        "id": "Nu8V7ZC3zeFo",
        "outputId": "7c6f7aed-924b-4118-b1ce-a673b05947fd"
      },
      "outputs": [
        {
          "name": "stdout",
          "output_type": "stream",
          "text": [
            "hello\n"
          ]
        }
      ],
      "source": [
        "if 1231415000:\n",
        "    print('hello')"
      ]
    },
    {
      "cell_type": "code",
      "execution_count": null,
      "metadata": {
        "colab": {
          "base_uri": "https://localhost:8080/"
        },
        "id": "0ZFPVyJbzf_o",
        "outputId": "ebe4470a-7aae-4344-e6d6-5d04ae4a9477"
      },
      "outputs": [
        {
          "name": "stdout",
          "output_type": "stream",
          "text": [
            "two\n"
          ]
        }
      ],
      "source": [
        "def f():\n",
        "    return False    # True\n",
        "if f():\n",
        "    print('hello')\n",
        "    print('one')\n",
        "print('two')"
      ]
    },
    {
      "cell_type": "code",
      "execution_count": null,
      "metadata": {
        "colab": {
          "base_uri": "https://localhost:8080/"
        },
        "id": "uFLxbz9g0A5o",
        "outputId": "4a418c3b-3d76-43d0-dc14-46e2ceba2b21"
      },
      "outputs": [
        {
          "name": "stdout",
          "output_type": "stream",
          "text": [
            "two\n"
          ]
        }
      ],
      "source": [
        "if '':  # [], {}, '' 는 모두 False 취급\n",
        "    print('hello')\n",
        "    print('one')\n",
        "print('two')"
      ]
    },
    {
      "cell_type": "code",
      "execution_count": null,
      "metadata": {
        "colab": {
          "base_uri": "https://localhost:8080/"
        },
        "id": "QWzldOpc0MdC",
        "outputId": "276f30ee-802a-429e-aaf3-057f2644dad8"
      },
      "outputs": [
        {
          "name": "stdout",
          "output_type": "stream",
          "text": [
            "hello\n",
            "one\n",
            "two\n"
          ]
        }
      ],
      "source": [
        "if ' ':  # 공백은 공백문자가 있음\n",
        "    print('hello')\n",
        "    print('one')\n",
        "print('two')"
      ]
    },
    {
      "cell_type": "code",
      "execution_count": null,
      "metadata": {
        "colab": {
          "base_uri": "https://localhost:8080/"
        },
        "id": "s3_1m0H70QqZ",
        "outputId": "2eeda563-41fa-4151-a14d-68c4d06e22c1"
      },
      "outputs": [
        {
          "name": "stdout",
          "output_type": "stream",
          "text": [
            "two\n"
          ]
        }
      ],
      "source": [
        "if [               ]: # 이건 빈 list\n",
        "    print('hello')\n",
        "    print('one')\n",
        "print('two')"
      ]
    },
    {
      "cell_type": "code",
      "execution_count": null,
      "metadata": {
        "colab": {
          "base_uri": "https://localhost:8080/",
          "height": 137
        },
        "id": "s8DKzpW10XBo",
        "outputId": "7e88783d-60a5-4f5d-aff3-c2db97775d8b"
      },
      "outputs": [
        {
          "ename": "SyntaxError",
          "evalue": "ignored",
          "output_type": "error",
          "traceback": [
            "\u001b[0;36m  File \u001b[0;32m\"<ipython-input-53-93a84ea78cc5>\"\u001b[0;36m, line \u001b[0;32m1\u001b[0m\n\u001b[0;31m    if [,]:\u001b[0m\n\u001b[0m        ^\u001b[0m\n\u001b[0;31mSyntaxError\u001b[0m\u001b[0;31m:\u001b[0m invalid syntax\n"
          ]
        }
      ],
      "source": [
        "if [,]: # syntax error\n",
        "    print('hello')\n",
        "    print('one')\n",
        "print('two')"
      ]
    },
    {
      "cell_type": "code",
      "execution_count": null,
      "metadata": {
        "colab": {
          "base_uri": "https://localhost:8080/"
        },
        "id": "vOYuzO6j0qsj",
        "outputId": "c00ba1ac-6139-43e5-9adc-29472556c3b6"
      },
      "outputs": [
        {
          "name": "stdout",
          "output_type": "stream",
          "text": [
            "hello\n",
            "one\n",
            "two\n"
          ]
        }
      ],
      "source": [
        "if [10,\n",
        "    20,\n",
        "    30, # 마지막 콤마는 허락. 소괄호, 중괄호, 대괄호에 공백은 병합합니다.\n",
        "    ]:\n",
        "    print('hello')\n",
        "    print('one')\n",
        "print('two')"
      ]
    },
    {
      "cell_type": "code",
      "execution_count": null,
      "metadata": {
        "id": "yHUnkGQ62YwV"
      },
      "outputs": [],
      "source": [
        "if None:\n",
        "    print('flase')"
      ]
    },
    {
      "cell_type": "code",
      "execution_count": null,
      "metadata": {
        "colab": {
          "base_uri": "https://localhost:8080/"
        },
        "id": "Z34ixh9K1ZND",
        "outputId": "a56ebf7a-c0c2-457d-e38f-7b214d367daf"
      },
      "outputs": [
        {
          "name": "stdout",
          "output_type": "stream",
          "text": [
            "hello\n"
          ]
        }
      ],
      "source": [
        "class int(int):\n",
        "    def __eq__(self, next):\n",
        "        return True\n",
        "\n",
        "if int('11') == int('10'):  # == 는 __eq__ \n",
        "    print('hello')"
      ]
    },
    {
      "cell_type": "code",
      "execution_count": null,
      "metadata": {
        "colab": {
          "base_uri": "https://localhost:8080/",
          "height": 137
        },
        "id": "UO0pHlIH2xNb",
        "outputId": "4ea04aa1-52aa-42bc-8a2a-0bb25cfa1671"
      },
      "outputs": [
        {
          "ename": "SyntaxError",
          "evalue": "ignored",
          "output_type": "error",
          "traceback": [
            "\u001b[0;36m  File \u001b[0;32m\"<ipython-input-62-18edc0e13c27>\"\u001b[0;36m, line \u001b[0;32m5\u001b[0m\n\u001b[0;31m    else:\u001b[0m\n\u001b[0m    ^\u001b[0m\n\u001b[0;31mSyntaxError\u001b[0m\u001b[0;31m:\u001b[0m invalid syntax\n"
          ]
        }
      ],
      "source": [
        "if 10 > 11:\n",
        "    print('one')\n",
        "    print('two')\n",
        "print('three')\n",
        "else:   # error\n",
        "    print('four')\n"
      ]
    },
    {
      "cell_type": "code",
      "execution_count": null,
      "metadata": {
        "colab": {
          "base_uri": "https://localhost:8080/"
        },
        "id": "p5T8T9GU3H8g",
        "outputId": "b27651d3-ef6a-41f7-9196-08352929322a"
      },
      "outputs": [
        {
          "name": "stdout",
          "output_type": "stream",
          "text": [
            "three\n"
          ]
        }
      ],
      "source": [
        "if 10 > 11:\n",
        "    print('one')\n",
        "    print('two')\n",
        "else:\n",
        "    print('three')\n"
      ]
    },
    {
      "cell_type": "code",
      "execution_count": null,
      "metadata": {
        "colab": {
          "base_uri": "https://localhost:8080/"
        },
        "id": "XxS-Ur6I3NjE",
        "outputId": "76eae9ac-ed43-4afb-df69-60815605b0bd"
      },
      "outputs": [
        {
          "name": "stdout",
          "output_type": "stream",
          "text": [
            "two\n"
          ]
        }
      ],
      "source": [
        "# else가 없어도 되는 경우\n",
        "def f():\n",
        "    if 10 >11:\n",
        "        return 'one'\n",
        "    return 'two'\n",
        "\n",
        "print(f())"
      ]
    },
    {
      "cell_type": "code",
      "execution_count": null,
      "metadata": {
        "id": "9Nl46OU53oRI"
      },
      "outputs": [],
      "source": [
        "# 여러 개의 if 문을 단축할 수 있는 방법 =>\n",
        "# 가독성이 좋아지는 것을 선택하세요! 정답은 없습니다.\n",
        "# and 구문으로 if 구문을 합칠 수 있습니다.\n",
        "\n",
        "x=10\n",
        "\n",
        "if x > 5:\n",
        "    if type(x) == int:\n",
        "        print('one')\n",
        "\n",
        "if x > 5 and type(x) == int: # 요런식을 선택하는 것을 권합니다\n",
        "    print('one')"
      ]
    },
    {
      "cell_type": "code",
      "execution_count": null,
      "metadata": {
        "colab": {
          "base_uri": "https://localhost:8080/"
        },
        "id": "mfd5L3Pa4N-I",
        "outputId": "cb48ee57-c367-43fc-e1af-8aedfa13b2ed"
      },
      "outputs": [
        {
          "name": "stdout",
          "output_type": "stream",
          "text": [
            "one\n",
            "one\n",
            "oo\n"
          ]
        }
      ],
      "source": [
        "x = 10\n",
        "\n",
        "if x > 5:\n",
        "    if type(x) == int:\n",
        "        if x%2 == 0:\n",
        "            print('one')\n",
        "\n",
        "if x > 5 and type(x) == int and x%2==0:\n",
        "    print('one')\n",
        "\n",
        "print('oo')"
      ]
    },
    {
      "cell_type": "code",
      "execution_count": null,
      "metadata": {
        "id": "nNFKTAEx5SqA"
      },
      "outputs": [],
      "source": [
        "if True:\n",
        "    print('hello')\n",
        "else:\n",
        "    print('hello')\n",
        "else: # error\n",
        "    print('hello')\n",
        "else:\n",
        "    print('hello')"
      ]
    },
    {
      "cell_type": "code",
      "execution_count": null,
      "metadata": {
        "id": "Z3X4P3ct5aX1"
      },
      "outputs": [],
      "source": []
    },
    {
      "cell_type": "code",
      "execution_count": null,
      "metadata": {
        "id": "0pdKxIUM5m5O"
      },
      "outputs": [],
      "source": [
        "if True:\n",
        "    print('hello')\n",
        "if True:\n",
        "    print('hello')\n",
        "if True:\n",
        "    print('hello')\n",
        "else:\n",
        "    print('hello')"
      ]
    },
    {
      "cell_type": "code",
      "execution_count": null,
      "metadata": {
        "id": "PjypYoU45rmB"
      },
      "outputs": [],
      "source": [
        "if True:\n",
        "    print('hello')\n",
        "elif True:\n",
        "    print('hello')\n",
        "elif True:\n",
        "    print('hello')\n",
        "else:\n",
        "    print('hello')"
      ]
    },
    {
      "cell_type": "code",
      "execution_count": null,
      "metadata": {
        "id": "k_HGwHXh5sG8"
      },
      "outputs": [],
      "source": [
        "elif True: # error 위에 구문이 있어야 합니다.\n",
        "    print('hello')\n",
        "elif True:\n",
        "    print('hello')\n",
        "else:\n",
        "    print('hello')"
      ]
    },
    {
      "cell_type": "code",
      "execution_count": null,
      "metadata": {
        "colab": {
          "base_uri": "https://localhost:8080/"
        },
        "id": "KmNe4wiAxnF1",
        "outputId": "b8851bd8-9c6e-4d3f-9f7e-4fc367afceda"
      },
      "outputs": [
        {
          "name": "stdout",
          "output_type": "stream",
          "text": [
            "mom : i'm happy!\n",
            "100000\n"
          ]
        }
      ],
      "source": [
        "score = 81\n",
        "money = 0\n",
        "\n",
        "if score >= 90:     # 만약에 조건이 참이라면\n",
        "    print('mom : i\\'m so happy!')\n",
        "    money += 1000000\n",
        "elif score >= 80:   # 그렇지 않고 만약에 조건이 참이라면\n",
        "    print('mom : i\\'m happy!')\n",
        "    money += 100000\n",
        "elif score >= 70:    # '그렇지 않고 만약에' 에서 '그렇지 않고'가 만족이 안되기 때문에 실행되지 않음\n",
        "    print('mom : i\\'m so...!')\n",
        "    money += 10000\n",
        "elif score >= 60:\n",
        "    print('mom : i\\'m so...!')\n",
        "    money += 1000\n",
        "else:\n",
        "    print('mom : i\\'m...!')\n",
        "print(money)\n",
        "# if, elsif, else 구문을 함께 썼다면 한 덩어리가 되어\n",
        "# 하나만 실행이 되고 나머지는 실행이 되지 않습니다."
      ]
    },
    {
      "cell_type": "code",
      "execution_count": null,
      "metadata": {
        "id": "uvNoZbQQ58my"
      },
      "outputs": [],
      "source": [
        "# Ctrl + M    M 누르시면 마크다운\n",
        "# Ctrl + M    Y 누르시면 코드블록"
      ]
    },
    {
      "attachments": {},
      "cell_type": "markdown",
      "metadata": {
        "id": "84iDoyWS5v9B"
      },
      "source": [
        "## if 심화"
      ]
    },
    {
      "cell_type": "code",
      "execution_count": null,
      "metadata": {
        "colab": {
          "base_uri": "https://localhost:8080/"
        },
        "id": "o8uAFHsW6JMW",
        "outputId": "40a83692-6a07-437c-a1e4-eb8ed7341041"
      },
      "outputs": [
        {
          "name": "stdout",
          "output_type": "stream",
          "text": [
            "hello\n"
          ]
        }
      ],
      "source": [
        "# 강사님은 권장하지 않음\n",
        "# 가독성을 떨어뜨린다고 생각하기 때문\n",
        "if 10 > 5: print('hello') # 1줄에 사용하는 것이 가능합니다."
      ]
    },
    {
      "cell_type": "code",
      "execution_count": null,
      "metadata": {
        "colab": {
          "base_uri": "https://localhost:8080/"
        },
        "id": "YQpZl1BB8xyw",
        "outputId": "cb7f4af8-0c6e-455d-bf2e-805e3fba1773"
      },
      "outputs": [
        {
          "name": "stdout",
          "output_type": "stream",
          "text": [
            "world\n"
          ]
        }
      ],
      "source": [
        "if 1 > 5: print('hello')\n",
        "elif 5 > 1: print('world')"
      ]
    },
    {
      "cell_type": "code",
      "execution_count": null,
      "metadata": {
        "colab": {
          "base_uri": "https://localhost:8080/"
        },
        "id": "VmHm-YJg6PKB",
        "outputId": "1a7a01ed-6063-4c4a-8409-4b362c425081"
      },
      "outputs": [
        {
          "name": "stdout",
          "output_type": "stream",
          "text": [
            "hello world\n"
          ]
        }
      ],
      "source": [
        "if 1 > 5: print('hello')\n",
        "elif 1 > 5: print('world')\n",
        "else: print('hello world')"
      ]
    },
    {
      "cell_type": "code",
      "execution_count": null,
      "metadata": {
        "colab": {
          "base_uri": "https://localhost:8080/"
        },
        "id": "a6BukKOj9MZN",
        "outputId": "0f228715-81ee-43c2-ad08-f060d991aa63"
      },
      "outputs": [
        {
          "name": "stdout",
          "output_type": "stream",
          "text": [
            "one\n"
          ]
        }
      ],
      "source": [
        "# 3항 연산자는 가독성을 해치지 않는 선에서 많이 사용함\n",
        "print('one') if 5 > 1 else print('two')"
      ]
    },
    {
      "cell_type": "code",
      "execution_count": null,
      "metadata": {
        "id": "ZQH8tqT69gqZ"
      },
      "outputs": [],
      "source": [
        "# 괄호로 묶는 게...\n",
        "(print('one') if 5 > 1 else print('two'))"
      ]
    },
    {
      "cell_type": "code",
      "execution_count": null,
      "metadata": {
        "id": "Yl-OTH-69-GI"
      },
      "outputs": [],
      "source": [
        "# error 이렇게 사용하지 않습니다!\n",
        "# if 5 > 1 print('one') else print('two')\n",
        "\n",
        "# 위 3항연산자와 같음\n",
        "if 5 > 1:\n",
        "    print('one')\n",
        "else:\n",
        "    print('two')\n"
      ]
    },
    {
      "cell_type": "code",
      "execution_count": null,
      "metadata": {
        "colab": {
          "base_uri": "https://localhost:8080/"
        },
        "id": "xkYUhPeZ-IOG",
        "outputId": "07658a5b-c89b-40e0-adf6-7c4756a6f837"
      },
      "outputs": [
        {
          "name": "stdout",
          "output_type": "stream",
          "text": [
            "one\n"
          ]
        }
      ],
      "source": [
        "# 할당이나 return에서 많이 사용합니다.\n",
        "# 할당이나 return을 할 때 어떤 조건을 달고 싶을 경우\n",
        "# 그런데 일반 if 문과 else문이 거창하다고 생각이 되었을 때\n",
        "y = 100\n",
        "x = 'one' if y > 80 else None\n",
        "\n",
        "print(x)"
      ]
    },
    {
      "cell_type": "code",
      "execution_count": null,
      "metadata": {
        "colab": {
          "base_uri": "https://localhost:8080/"
        },
        "id": "ce88Jpqo-wpY",
        "outputId": "558a8e40-ecfd-4c65-bd7a-b532fb362a12"
      },
      "outputs": [
        {
          "name": "stdout",
          "output_type": "stream",
          "text": [
            "one\n",
            "None\n"
          ]
        }
      ],
      "source": [
        "def f(y):\n",
        "    if y > 80:\n",
        "        x = 'one'\n",
        "    else:\n",
        "        x = None\n",
        "    return x\n",
        "\n",
        "print(f(100))\n",
        "print(f(30))"
      ]
    },
    {
      "cell_type": "code",
      "execution_count": null,
      "metadata": {
        "colab": {
          "base_uri": "https://localhost:8080/"
        },
        "id": "j1S3jbJM_lL3",
        "outputId": "895db650-d243-425f-e031-565df9460f69"
      },
      "outputs": [
        {
          "name": "stdout",
          "output_type": "stream",
          "text": [
            "one\n",
            "None\n"
          ]
        }
      ],
      "source": [
        "def f(y):\n",
        "    if y > 80:\n",
        "        return 'one'\n",
        "    return None\n",
        "\n",
        "print(f(100))\n",
        "print(f(30))"
      ]
    },
    {
      "cell_type": "code",
      "execution_count": null,
      "metadata": {
        "colab": {
          "base_uri": "https://localhost:8080/"
        },
        "id": "pNYVRN2j_JNX",
        "outputId": "f38a9306-a5f4-4ede-e92a-25feac49172b"
      },
      "outputs": [
        {
          "name": "stdout",
          "output_type": "stream",
          "text": [
            "one\n",
            "None\n"
          ]
        }
      ],
      "source": [
        "# 위 if 문을 3항연산자로 바꾼다면\n",
        "def f(y):\n",
        "    return 'one' if y > 80 else None\n",
        "\n",
        "print(f(100))\n",
        "print(f(30))"
      ]
    },
    {
      "cell_type": "code",
      "execution_count": null,
      "metadata": {
        "id": "HoW1OhBD_rL5"
      },
      "outputs": [],
      "source": [
        "def custom_sum(x):\n",
        "    return sum(x)\n",
        "\n",
        "custom_sum([1,2,3,4,5,6])   # 다 더한 값 21\n",
        "custom_sum([1,2,3,4,'5',6]) # float('inf')"
      ]
    },
    {
      "cell_type": "code",
      "execution_count": null,
      "metadata": {
        "colab": {
          "base_uri": "https://localhost:8080/"
        },
        "id": "QvsJmC4JAVAP",
        "outputId": "ba848126-ff98-46df-fae0-944d9cd9ccee"
      },
      "outputs": [
        {
          "name": "stdout",
          "output_type": "stream",
          "text": [
            "21\n"
          ]
        },
        {
          "data": {
            "text/plain": [
              "inf"
            ]
          },
          "execution_count": 22,
          "metadata": {},
          "output_type": "execute_result"
        }
      ],
      "source": [
        "# 이해를 돕기 위해 만든 예제. 효율적이진 않습니다.\n",
        "def custom_sum(x):\n",
        "    return sum(x) if len(list(filter(lambda x: type(x)==int, x))) == len(x) else float('inf')\n",
        "\n",
        "print(custom_sum([1,2,3,4,5,6]))   # 다 더한 값 21\n",
        "custom_sum([1,2,3,4,'5',6]) # float('inf')"
      ]
    },
    {
      "cell_type": "code",
      "execution_count": null,
      "metadata": {
        "colab": {
          "base_uri": "https://localhost:8080/"
        },
        "id": "niLBxouuA3GP",
        "outputId": "63527a09-866c-4efc-8c90-acb44154fd04"
      },
      "outputs": [
        {
          "name": "stdout",
          "output_type": "stream",
          "text": [
            "[1, 2, 3]\n",
            "3\n",
            "5\n"
          ]
        }
      ],
      "source": [
        "l = [1,2,3, '4','6']\n",
        "print(list(filter(lambda x: type(x)==int, l)))\n",
        "print(len(list(filter(lambda x: type(x)==int, l))))\n",
        "print(len(l))"
      ]
    },
    {
      "cell_type": "code",
      "execution_count": null,
      "metadata": {
        "colab": {
          "base_uri": "https://localhost:8080/",
          "height": 35
        },
        "id": "_009-5vkCdZP",
        "outputId": "fff715a0-0da6-49f7-999f-5d24208296ac"
      },
      "outputs": [
        {
          "data": {
            "application/vnd.google.colaboratory.intrinsic+json": {
              "type": "string"
            },
            "text/plain": [
              "'홀수'"
            ]
          },
          "execution_count": 25,
          "metadata": {},
          "output_type": "execute_result"
        }
      ],
      "source": [
        "# 문제 다음 if문을 3항 연산자로 표현해주세요\n",
        "# if x %2 == 0:\n",
        "#     홀짝여부 = '짝수'\n",
        "# else:\n",
        "#     홀짝여부 = '홀수'\n",
        "\n",
        "x = 9\n",
        "홀짝여부 = '짝수' if x%2==0 else '홀수' # 홀짝여부 = '홀수' if x%2 else '짝수' # 같은 것.\n",
        "홀짝여부"
      ]
    },
    {
      "cell_type": "code",
      "execution_count": null,
      "metadata": {
        "id": "bqiDfhIFCUh1"
      },
      "outputs": [],
      "source": [
        "# 3항 연산자의 중첩\n",
        "# '조건1 True' if '조건1' else '조건2 True' if '조건2' else '조건1, 조건2가 False'"
      ]
    },
    {
      "cell_type": "code",
      "execution_count": null,
      "metadata": {
        "id": "RIXqAfovETrO"
      },
      "outputs": [],
      "source": [
        "# '조건1 True' \n",
        "# if '조건1' \n",
        "# else '조건1 False 조건2 True' \n",
        "#     if '조건2' \n",
        "#     else '조건1, 조건2가 False'"
      ]
    },
    {
      "cell_type": "code",
      "execution_count": null,
      "metadata": {
        "colab": {
          "base_uri": "https://localhost:8080/",
          "height": 35
        },
        "id": "80k_76cXEpEl",
        "outputId": "5c940ada-f5cf-483c-cd24-db294f6cf348"
      },
      "outputs": [
        {
          "data": {
            "application/vnd.google.colaboratory.intrinsic+json": {
              "type": "string"
            },
            "text/plain": [
              "'3X'"
            ]
          },
          "execution_count": 28,
          "metadata": {},
          "output_type": "execute_result"
        }
      ],
      "source": [
        "x = 15\n",
        "if x %2 ==0:\n",
        "    배수 = '2X' # 2의 배수\n",
        "elif x%3 == 0:\n",
        "    배수 = '3X' # 3의 배수\n",
        "else:\n",
        "    배수 = '?' #2의 배수도, 3의 배수도 아니다\n",
        "\n",
        "배수"
      ]
    },
    {
      "cell_type": "code",
      "execution_count": null,
      "metadata": {
        "colab": {
          "base_uri": "https://localhost:8080/",
          "height": 35
        },
        "id": "GMvugSUjFXK0",
        "outputId": "ba4da7c2-8c0b-4b30-fe1b-986489256df6"
      },
      "outputs": [
        {
          "data": {
            "application/vnd.google.colaboratory.intrinsic+json": {
              "type": "string"
            },
            "text/plain": [
              "'?'"
            ]
          },
          "execution_count": 29,
          "metadata": {},
          "output_type": "execute_result"
        }
      ],
      "source": [
        "x = 17\n",
        "\n",
        "배수 = '2X' if x%2==0 else '3X' if x%3 ==0 else '?'\n",
        "배수"
      ]
    },
    {
      "attachments": {},
      "cell_type": "markdown",
      "metadata": {
        "id": "ExvcgHFrF2YJ"
      },
      "source": [
        "## 반복문"
      ]
    },
    {
      "cell_type": "code",
      "execution_count": null,
      "metadata": {
        "id": "UN0OgkBZF6oL"
      },
      "outputs": [],
      "source": [
        "# for 변수 in 순회가능한객체:\n",
        "#     code"
      ]
    },
    {
      "cell_type": "code",
      "execution_count": null,
      "metadata": {
        "id": "zyyNCbpiGbGg"
      },
      "outputs": [],
      "source": [
        "# 순회가능한객체 != 시퀀스형자료\n",
        "# 시퀀스 자료형은 순서가 있는 것일 뿐, 순회가능한것과 다르다\n",
        "# 순회 가능한 객체 > 시퀀스 자료형"
      ]
    },
    {
      "cell_type": "code",
      "execution_count": null,
      "metadata": {
        "id": "bx-uuv4uGlJj"
      },
      "outputs": [],
      "source": [
        "for i in 'hello world':\n",
        "    print(i)"
      ]
    },
    {
      "cell_type": "code",
      "execution_count": null,
      "metadata": {
        "id": "Jl-qeTb9GtYg"
      },
      "outputs": [],
      "source": [
        "for i in 10:    #error\n",
        "    print(i)\n",
        "\n",
        "for i in 10.1:    #error\n",
        "    print(i)"
      ]
    },
    {
      "cell_type": "code",
      "execution_count": null,
      "metadata": {
        "colab": {
          "base_uri": "https://localhost:8080/"
        },
        "id": "xsz6Tv9WGzPw",
        "outputId": "d2199d20-cfd2-4327-cee2-3cfa99ced12a"
      },
      "outputs": [
        {
          "name": "stdout",
          "output_type": "stream",
          "text": [
            "1\n",
            "2\n",
            "3\n"
          ]
        }
      ],
      "source": [
        "# list\n",
        "for i in [1,2,3]:\n",
        "    print(i)"
      ]
    },
    {
      "cell_type": "code",
      "execution_count": null,
      "metadata": {
        "colab": {
          "base_uri": "https://localhost:8080/"
        },
        "id": "V80stL5bG5Be",
        "outputId": "9549cb21-659e-445b-e701-3efeb26972b1"
      },
      "outputs": [
        {
          "name": "stdout",
          "output_type": "stream",
          "text": [
            "1\n",
            "2\n",
            "3\n"
          ]
        }
      ],
      "source": [
        "# tuple\n",
        "for i in (1,2,3):\n",
        "    print(i)"
      ]
    },
    {
      "cell_type": "code",
      "execution_count": null,
      "metadata": {
        "colab": {
          "base_uri": "https://localhost:8080/"
        },
        "id": "mChjfhXkG6vh",
        "outputId": "1751f76d-283b-4f29-e6a8-68ff794062f2"
      },
      "outputs": [
        {
          "name": "stdout",
          "output_type": "stream",
          "text": [
            "1\n",
            "2\n",
            "3\n"
          ]
        }
      ],
      "source": [
        "# set - 순서를 보장하진 않음\n",
        "for i in {1, 2, 3}:\n",
        "    print(i)"
      ]
    },
    {
      "cell_type": "code",
      "execution_count": null,
      "metadata": {
        "colab": {
          "base_uri": "https://localhost:8080/"
        },
        "id": "pGy3cxuWHB-x",
        "outputId": "62a0506c-472d-4b2e-f866-ea91bff622a4"
      },
      "outputs": [
        {
          "name": "stdout",
          "output_type": "stream",
          "text": [
            "one\n",
            "two\n",
            "three\n"
          ]
        }
      ],
      "source": [
        "# dict - key 만 순회함\n",
        "for i in {'one':1, 'two':2, 'three':3}:\n",
        "    print(i)\n"
      ]
    },
    {
      "cell_type": "code",
      "execution_count": null,
      "metadata": {
        "colab": {
          "base_uri": "https://localhost:8080/"
        },
        "id": "ewzvJzeYHJdR",
        "outputId": "27edac85-d3e4-4658-f9b4-8fe1531e65ee"
      },
      "outputs": [
        {
          "name": "stdout",
          "output_type": "stream",
          "text": [
            "0\n",
            "1\n",
            "2\n",
            "3\n",
            "4\n",
            "5\n",
            "6\n",
            "7\n",
            "8\n",
            "9\n"
          ]
        }
      ],
      "source": [
        "# 순환가능한 객체에는 range, enumerate, zip, map, sorted, reversed, filter ...\n",
        "for i in range(10):\n",
        "    print(i)"
      ]
    },
    {
      "cell_type": "code",
      "execution_count": null,
      "metadata": {
        "colab": {
          "base_uri": "https://localhost:8080/"
        },
        "id": "DT_-bu1PHfnQ",
        "outputId": "625afc76-8e85-417e-8356-5ed206d0e3bc"
      },
      "outputs": [
        {
          "name": "stdout",
          "output_type": "stream",
          "text": [
            "Python\n",
            "JavaScript\n",
            "JAVA\n",
            "Ruby\n",
            "(0, 'Python')\n",
            "(1, 'JavaScript')\n",
            "(2, 'JAVA')\n",
            "(3, 'Ruby')\n",
            "(1, 'Python')\n",
            "(2, 'JavaScript')\n",
            "(3, 'JAVA')\n",
            "(4, 'Ruby')\n",
            "(101, 'Python')\n",
            "(102, 'JavaScript')\n",
            "(103, 'JAVA')\n",
            "(104, 'Ruby')\n"
          ]
        }
      ],
      "source": [
        "언어순위 = ['Python', 'JavaScript', 'JAVA', 'Ruby']\n",
        "for i in 언어순위:\n",
        "    print(i)\n",
        "\n",
        "for i in enumerate(언어순위):\n",
        "    print(i)    # tuple\n",
        "\n",
        "for i in enumerate(언어순위, 1):  # 1부터..\n",
        "    print(i)    # tuple\n",
        "\n",
        "for i in enumerate(언어순위, 101):  # 101부터..\n",
        "    print(i)    # tuple"
      ]
    },
    {
      "cell_type": "code",
      "execution_count": null,
      "metadata": {
        "colab": {
          "base_uri": "https://localhost:8080/"
        },
        "id": "f2vClFHTICvB",
        "outputId": "7921dce8-5d94-4dc0-f17e-12569282cda2"
      },
      "outputs": [
        {
          "name": "stdout",
          "output_type": "stream",
          "text": [
            "0 Python\n",
            "1 JavaScript\n",
            "2 JAVA\n",
            "3 Ruby\n"
          ]
        }
      ],
      "source": [
        "for i, j in enumerate(언어순위):\n",
        "    print(i, j)    # tuple을 unpacking 해서..."
      ]
    },
    {
      "cell_type": "code",
      "execution_count": null,
      "metadata": {
        "colab": {
          "base_uri": "https://localhost:8080/"
        },
        "id": "PawoOvzHzJTZ",
        "outputId": "3c63c77f-6692-4679-8926-f3c44889828e"
      },
      "outputs": [
        {
          "data": {
            "text/plain": [
              "True"
            ]
          },
          "execution_count": 27,
          "metadata": {},
          "output_type": "execute_result"
        }
      ],
      "source": [
        "'1'.isdigit()\n",
        "'0'.isdigit()"
      ]
    },
    {
      "attachments": {},
      "cell_type": "markdown",
      "metadata": {
        "id": "ITovnT8fVMma"
      },
      "source": [
        "## !! 오늘 배운 것 정리\n",
        "* 조건문\n",
        "    * 조건에 따라 코드를 분기할 수 있는 구문\n",
        "    * if, elif, else\n",
        "    * elif와 else는 단독으로 사용이 되지 않습니다.\n",
        "    * 예시(score에 값을 변경해보면서 money 값을 확인해주세요.)\n",
        "    ```python\n",
        "    score = 81\n",
        "    money = 0\n",
        "\n",
        "    if score >= 90: # 만약에 조건이 참이라면\n",
        "        print('mom : i\\'m so happy!')\n",
        "        money += 1000000\n",
        "    elif score >= 80: # 그렇지 않고 만약에 조건이 참이라면\n",
        "        print('mom : i\\'m happy!')\n",
        "        money += 100000\n",
        "    elif score >= 70: # '그렇지 않고 만약에'에서 '그렇지 않고'가 만족이 안되기 때문에 실행하지 못합니다.\n",
        "        print('mom : i\\'m so...!')\n",
        "        money += 10000\n",
        "    elif score >= 60:\n",
        "        print('mom : i\\'m so...!')\n",
        "        money += 1000\n",
        "    else:\n",
        "        print('mom : i\\'m...!')\n",
        "    print(money)\n",
        "    ```\n",
        "    * 3항 연산자\n",
        "    ```python\n",
        "    def f(y):\n",
        "    return 'one' if y > 80 else None\n",
        "    ```\n",
        "* 정해진 순서를(next) 반복하는 것\n",
        "    * 형태\n",
        "    ```python\n",
        "    # for 변수 in 순회가능한객체:\n",
        "    #     code\n",
        "    ```\n",
        "    * 순회 가능한 객체(이터러블 객체) : 문자열, 리스트, 튜플, 딕셔너리, 셋, range, enumerate, map, set, sorted, reverse 등\n",
        "    * 순회 불가능한 객체 : int, float 등 \n",
        "    * code 안에서 변수를 사용하지 않을 경우 언더바를 관습적으로 사용합니다.\n",
        "    ```python\n",
        "    # for _ in 순회가능한객체:\n",
        "    #     code\n",
        "    ```"
      ]
    },
    {
      "cell_type": "code",
      "execution_count": null,
      "metadata": {
        "colab": {
          "base_uri": "https://localhost:8080/"
        },
        "id": "j5czAi42khKX",
        "outputId": "8c5894e8-0bfd-49fc-8f2e-ba0aecc2d5af"
      },
      "outputs": [
        {
          "data": {
            "text/plain": [
              "['1', '2', '3', '4']"
            ]
          },
          "execution_count": 26,
          "metadata": {},
          "output_type": "execute_result"
        }
      ],
      "source": [
        "n = 1234\n",
        "str(n)\n",
        "list(str(n))"
      ]
    },
    {
      "attachments": {},
      "cell_type": "markdown",
      "metadata": {
        "id": "4aDhFBJ41RJ2"
      },
      "source": [
        "## 반복문 이어서"
      ]
    },
    {
      "cell_type": "code",
      "execution_count": null,
      "metadata": {
        "colab": {
          "base_uri": "https://localhost:8080/"
        },
        "id": "JgJfO49i1I8H",
        "outputId": "3fc05243-3264-471d-93d9-30788ecd51fa"
      },
      "outputs": [
        {
          "name": "stdout",
          "output_type": "stream",
          "text": [
            "hello world\n",
            "hello world\n",
            "hello world\n"
          ]
        }
      ],
      "source": [
        "for _ in range(3):\n",
        "    print('hello world')"
      ]
    },
    {
      "cell_type": "code",
      "execution_count": null,
      "metadata": {
        "colab": {
          "base_uri": "https://localhost:8080/"
        },
        "id": "EU0T9OdE1UJ4",
        "outputId": "f79cfc37-57a2-4735-b4ae-33b97604b8e4"
      },
      "outputs": [
        {
          "name": "stdout",
          "output_type": "stream",
          "text": [
            "hello world\n",
            "1\n",
            "hello world\n",
            "3\n",
            "hello world\n",
            "5\n"
          ]
        }
      ],
      "source": [
        "for _, i in [[1,2 ], [3,4], [5,6]]:\n",
        "    print('hello world')\n",
        "    print(_)"
      ]
    },
    {
      "cell_type": "code",
      "execution_count": null,
      "metadata": {
        "colab": {
          "base_uri": "https://localhost:8080/"
        },
        "id": "tpTizEqa1rlq",
        "outputId": "ec690e9c-eacf-4109-835e-62ba9d085594"
      },
      "outputs": [
        {
          "data": {
            "text/plain": [
              "2550"
            ]
          },
          "execution_count": 4,
          "metadata": {},
          "output_type": "execute_result"
        }
      ],
      "source": [
        "s = 0\n",
        "for i in range(0, 101, 2):\n",
        "    s += i\n",
        "\n",
        "s\n"
      ]
    },
    {
      "cell_type": "code",
      "execution_count": null,
      "metadata": {
        "colab": {
          "base_uri": "https://localhost:8080/"
        },
        "id": "QO99h2Fq2NZu",
        "outputId": "22aaf36b-ed49-4306-a289-31c66f62769c"
      },
      "outputs": [
        {
          "name": "stdout",
          "output_type": "stream",
          "text": [
            "100 200 300 400\n",
            "a b c d\n",
            "one tow\n"
          ]
        }
      ],
      "source": [
        "listx= [100,200,300,400]\n",
        "strx= 'abcd'\n",
        "dictx = {'one':1, 'tow':2}\n",
        "listxlter = iter(listx)\n",
        "strxlter= iter(strx)\n",
        "dictIter = iter(dictx)\n",
        "\n",
        "# 시퀀스형 자료형에만 next가 되는 것이 아니고 다음 순회값을 지정할 뿐\n",
        "print(next(listxlter),next(listxlter),next(listxlter),next(listxlter))\n",
        "print(next(strxlter),next(strxlter),next(strxlter),next(strxlter))\n",
        "print(next(dictIter),next(dictIter))"
      ]
    },
    {
      "cell_type": "code",
      "execution_count": null,
      "metadata": {
        "colab": {
          "base_uri": "https://localhost:8080/"
        },
        "id": "JDsGYaBe211F",
        "outputId": "386feece-f6ea-4899-f376-b4f00dd88b9f"
      },
      "outputs": [
        {
          "name": "stdout",
          "output_type": "stream",
          "text": [
            "1\n",
            "2\n",
            "3\n"
          ]
        }
      ],
      "source": [
        "# for True:         # 이렇게 사용하는거 아님.\n",
        "#     print('hello')\n",
        "\n",
        "for i in [1,2,3]:   # for는 []에있는 원소를i에 넣어주고 i가 []에 있는가? True > 포문...\n",
        "    print(i)"
      ]
    },
    {
      "attachments": {},
      "cell_type": "markdown",
      "metadata": {
        "id": "qmWtqZ3B3UTF"
      },
      "source": [
        "## break와 continue"
      ]
    },
    {
      "cell_type": "code",
      "execution_count": null,
      "metadata": {
        "colab": {
          "base_uri": "https://localhost:8080/"
        },
        "id": "CUTWJwUN3Wfs",
        "outputId": "cc666a39-3c0d-4c51-9e2a-38295319a12a"
      },
      "outputs": [
        {
          "name": "stdout",
          "output_type": "stream",
          "text": [
            "0\n",
            "1\n",
            "2\n",
            "3\n",
            "4\n",
            "5\n"
          ]
        }
      ],
      "source": [
        "for i in range(10):\n",
        "    print(i)\n",
        "    if i == 5:\n",
        "        break;"
      ]
    },
    {
      "cell_type": "code",
      "execution_count": null,
      "metadata": {
        "id": "roNi_6G731Te"
      },
      "outputs": [],
      "source": [
        "# break는 모든 for를 중단시키는 것은 아님\n",
        "# 자신을 감싸고 있는 단일 반복문만 탈출합니다.\n",
        "for i in range(10):\n",
        "    print('---------------')\n",
        "    print(i)\n",
        "    for j in range(10):\n",
        "        print(i, j)\n",
        "        if j == 5:\n",
        "            break;  #바로 인접한? 한 단계 접한 반복문 탈출"
      ]
    },
    {
      "cell_type": "code",
      "execution_count": null,
      "metadata": {
        "colab": {
          "base_uri": "https://localhost:8080/"
        },
        "id": "fu6x6len45KW",
        "outputId": "83c45af4-59fa-4ac0-bdfd-ea63960b5d88"
      },
      "outputs": [
        {
          "name": "stdout",
          "output_type": "stream",
          "text": [
            "0\n",
            "1\n",
            "2\n",
            "3\n",
            "4\n",
            "5\n",
            "6\n",
            "7\n",
            "8\n",
            "9\n"
          ]
        }
      ],
      "source": [
        "# continue 는 다음 루프로 갑니다\n",
        "# 아래 코드에서 continue는 의미가 없습니다.\n",
        "for i in range(10):\n",
        "    print(i)\n",
        "    if i == 5:\n",
        "        continue;"
      ]
    },
    {
      "cell_type": "code",
      "execution_count": null,
      "metadata": {
        "colab": {
          "base_uri": "https://localhost:8080/"
        },
        "id": "Ak_CZDrc5Pr3",
        "outputId": "1702b0b9-840f-4d5e-89ee-b1ff5e0b4709"
      },
      "outputs": [
        {
          "name": "stdout",
          "output_type": "stream",
          "text": [
            "0\n",
            "1\n",
            "2\n",
            "3\n",
            "4\n",
            "6\n",
            "7\n",
            "8\n",
            "9\n"
          ]
        }
      ],
      "source": [
        "# continue 는 다음 루프로 갑니다\n",
        "# continue 아래에 있는 코드를 실행하지 않고 다음 loop로 들어가기 때문에\n",
        "# print(i)를 실행하지 않아 '5'가 출력되지 않음\n",
        "for i in range(10):\n",
        "    if i == 5:\n",
        "        continue;\n",
        "    print(i)"
      ]
    },
    {
      "cell_type": "code",
      "execution_count": null,
      "metadata": {
        "id": "zR72tMpD750V"
      },
      "outputs": [],
      "source": [
        "# 무한루프\n",
        "# 실행과 동시에 정지를 눌러주세요\n",
        "# l의 메모리가 계속 커지니까.. 효율이 매우 좋지 않음!!\n",
        "l = [1]\n",
        "for i in l:\n",
        "    l.appen(i+1)\n",
        "    print(i)"
      ]
    },
    {
      "cell_type": "code",
      "execution_count": null,
      "metadata": {
        "id": "iA5Ar8nQ8_-2"
      },
      "outputs": [],
      "source": [
        "# 무한루프 - generator\n",
        "# 실행과 동시에 정지를 눌러주세요\n",
        "# ??????????????????"
      ]
    },
    {
      "attachments": {},
      "cell_type": "markdown",
      "metadata": {
        "id": "oZ58lDyp6QzZ"
      },
      "source": [
        "## for 문과 else 구문"
      ]
    },
    {
      "cell_type": "code",
      "execution_count": null,
      "metadata": {
        "id": "setD6GrH6S_5"
      },
      "outputs": [],
      "source": [
        "# 다른 언어에서는 이 구문이 작동되지 않습니다.\n",
        "for i in range(10):\n",
        "    if i == 5:\n",
        "        break\n",
        "else:\n",
        "    print('정상종료')"
      ]
    },
    {
      "cell_type": "code",
      "execution_count": null,
      "metadata": {
        "colab": {
          "base_uri": "https://localhost:8080/"
        },
        "id": "Yc5apu-s6vJM",
        "outputId": "1ac4115d-8926-45f9-aac3-8f0b93e0c887"
      },
      "outputs": [
        {
          "name": "stdout",
          "output_type": "stream",
          "text": [
            "정상종료\n"
          ]
        }
      ],
      "source": [
        "# 반복문 + else 구문은 반복문에 break를 쓰지 않고 정상 종료되었을 때 else 구문이 실행됩니다.\n",
        "\n",
        "for i in range(10):\n",
        "    if i == 5:\n",
        "        pass\n",
        "else:\n",
        "    print('정상종료')"
      ]
    },
    {
      "attachments": {},
      "cell_type": "markdown",
      "metadata": {
        "id": "AxzjSmap5eVX"
      },
      "source": [
        "## 리스트 표현식 (list comprehension)"
      ]
    },
    {
      "cell_type": "code",
      "execution_count": null,
      "metadata": {
        "colab": {
          "base_uri": "https://localhost:8080/"
        },
        "id": "QUa7Y9wS5oax",
        "outputId": "345919b0-45e3-455d-df6b-fc86485a199c"
      },
      "outputs": [
        {
          "data": {
            "text/plain": [
              "[0, 1, 2, 3, 4, 5, 6, 7, 8, 9]"
            ]
          },
          "execution_count": 2,
          "metadata": {},
          "output_type": "execute_result"
        }
      ],
      "source": [
        "# 별 3.5개\n",
        "# list 안에 반복문이나 조건문을 넣어 한 번에 리스트를 생성하는 기법\n",
        "# for 문보다 list comprehension이 더 빠릅니다. (가독성 + 속도우위)\n",
        "\n",
        "l = []\n",
        "for i in range(10):\n",
        "    l.append(i)\n",
        "l"
      ]
    },
    {
      "cell_type": "code",
      "execution_count": null,
      "metadata": {
        "colab": {
          "base_uri": "https://localhost:8080/"
        },
        "id": "r27FSrnn9n4L",
        "outputId": "7ccdfaa7-253b-4716-997e-d5a95c577696"
      },
      "outputs": [
        {
          "data": {
            "text/plain": [
              "[0, 1, 2, 3, 4, 5, 6, 7, 8, 9]"
            ]
          },
          "execution_count": 4,
          "metadata": {},
          "output_type": "execute_result"
        }
      ],
      "source": [
        "# list comprehension\n",
        "l = [i for i in range(10)]\n",
        "l"
      ]
    },
    {
      "cell_type": "code",
      "execution_count": null,
      "metadata": {
        "colab": {
          "base_uri": "https://localhost:8080/"
        },
        "id": "VVi6zrEN9wqK",
        "outputId": "9052d257-fea9-4542-df91-817aa9ec4914"
      },
      "outputs": [
        {
          "data": {
            "text/plain": [
              "[0, 2, 4, 6, 8]"
            ]
          },
          "execution_count": 8,
          "metadata": {},
          "output_type": "execute_result"
        }
      ],
      "source": [
        "# for\n",
        "l = []\n",
        "for i in range(10):\n",
        "    if i % 2 == 0:\n",
        "        l.append(i)\n",
        "l\n",
        "\n",
        "# list comprehension\n",
        "l = [i for i in range(10) if i%2==0]\n",
        "l\n",
        "\n",
        "# list(range(0,10,2)) #이것도 가능하고 직관적"
      ]
    },
    {
      "cell_type": "code",
      "execution_count": null,
      "metadata": {
        "colab": {
          "base_uri": "https://localhost:8080/"
        },
        "id": "8uEvum8Z-dlL",
        "outputId": "58351f25-148f-42e3-f616-d43d21a276cc"
      },
      "outputs": [
        {
          "data": {
            "text/plain": [
              "['aa', 'abc', 'aba']"
            ]
          },
          "execution_count": 9,
          "metadata": {},
          "output_type": "execute_result"
        }
      ],
      "source": [
        "l = ['aa', 'abc', 'bbb', 'ccc', 'aba']\n",
        "k = [i for i in l if 'a' in i]\n",
        "k"
      ]
    },
    {
      "cell_type": "code",
      "execution_count": null,
      "metadata": {
        "colab": {
          "base_uri": "https://localhost:8080/"
        },
        "id": "M4RGmZX2_Gge",
        "outputId": "560e0b36-fc84-48bf-ffe4-98bc6a8f495e"
      },
      "outputs": [
        {
          "data": {
            "text/plain": [
              "[0, 2, 3, 4, 6, 8, 9]"
            ]
          },
          "execution_count": 12,
          "metadata": {},
          "output_type": "execute_result"
        }
      ],
      "source": [
        "l = []\n",
        "for i in range(10):\n",
        "    if i%2 == 0:\n",
        "        l.append(i)\n",
        "    elif i%3 == 0:\n",
        "        l.append(i)\n",
        "\n",
        "# [i for i in range(10) if i%2==0 elif i%3==0] # syntax error\n",
        "[i for i in range(10) if i%2==0 or i%3==0]\n",
        "\n"
      ]
    },
    {
      "cell_type": "code",
      "execution_count": null,
      "metadata": {
        "id": "C5c0ZRujCTCR"
      },
      "outputs": [],
      "source": [
        "# 구구단\n",
        "\n",
        "# for i in range(2, 10):\n",
        "#     for j in range(1, 10):\n",
        "#         print(i, j, i*j)\n",
        "\n",
        "'''\n",
        "# stop 0\n",
        "# 손이나 문자열로 늘여뜨려놓고 내가 뭘 줄일 수 있을까 고민하세요\n",
        "2 1 2\n",
        "2 2 4\n",
        "2 3 6\n",
        "2 4 8\n",
        "2 5 10\n",
        "2 6 12\n",
        "2 7 14\n",
        "2 8 16\n",
        "2 9 18\n",
        "3 1 3\n",
        "3 2 6\n",
        "3 3 9\n",
        "3 4 12\n",
        "3 5 15\n",
        "3 6 18\n",
        "3 7 21\n",
        "3 8 24\n",
        "3 9 27\n",
        "'''\n",
        "\n",
        "# step 1~100 이렇게 한 단계식 줄여가봅시다.\n",
        "# for i in range(1, 10):\n",
        "#     print(2, i, 2*i)\n",
        "\n",
        "# for 단 in range(2, 10):\n",
        "#     for i in range(1, 10):\n",
        "#         print(단, i, 단*i)\n",
        "\n"
      ]
    },
    {
      "cell_type": "code",
      "execution_count": null,
      "metadata": {
        "id": "54gWcIhqETZa"
      },
      "outputs": [],
      "source": [
        "# 별찍기\n",
        "# 별 트리 만들기, 원 만들기...\n",
        "'''\n",
        "*\n",
        "**\n",
        "***\n",
        "****\n",
        "'''"
      ]
    },
    {
      "cell_type": "code",
      "execution_count": null,
      "metadata": {
        "colab": {
          "base_uri": "https://localhost:8080/"
        },
        "id": "__14N5gVEeMQ",
        "outputId": "ae74777b-c1b8-4ddd-ab64-6b2d9b4297a6"
      },
      "outputs": [
        {
          "name": "stdout",
          "output_type": "stream",
          "text": [
            "찍을 별의 층수5\n",
            "*\n",
            "**\n",
            "***\n",
            "****\n",
            "*****\n"
          ]
        }
      ],
      "source": [
        "user_input = int(input('찍을 별의 층수'))\n",
        "for i in range(user_input):\n",
        "    print('*'*(i+1))"
      ]
    },
    {
      "cell_type": "code",
      "execution_count": null,
      "metadata": {
        "id": "Q_otfni1FIth"
      },
      "outputs": [],
      "source": [
        "# 이중 포문을 list comprehension으로\n",
        "l = []\n",
        "for i in range(2,10):\n",
        "    for j in range(1,10):\n",
        "        l.append([i, j, i*j])\n",
        "\n",
        "[[i,j,i*j] for i in range(2,10) for j in range(1,10)]"
      ]
    },
    {
      "attachments": {},
      "cell_type": "markdown",
      "metadata": {
        "id": "O9xk3fyJFdXU"
      },
      "source": [
        "## 다중 리스트 순회"
      ]
    },
    {
      "cell_type": "code",
      "execution_count": null,
      "metadata": {
        "colab": {
          "base_uri": "https://localhost:8080/"
        },
        "id": "abbOB2-jFfMQ",
        "outputId": "97d5ee8b-c9fb-4dcb-b66e-f97629d7bcca"
      },
      "outputs": [
        {
          "name": "stdout",
          "output_type": "stream",
          "text": [
            "고기잡이 100\n",
            "고기팔기 120\n",
            "낚시 5\n",
            "통발 5\n",
            "큰그물 5\n"
          ]
        }
      ],
      "source": [
        "#다중 리스트 for문\n",
        "skill = [\n",
        "        ('고기잡이', 100),\n",
        "        ('고기팔기', 120),\n",
        "        ('낚시', 5),\n",
        "        ('통발', 5),\n",
        "        ('큰그물', 5)\n",
        "]\n",
        "\n",
        "for i,j in skill:\n",
        "    print(i,j)"
      ]
    },
    {
      "cell_type": "code",
      "execution_count": null,
      "metadata": {
        "colab": {
          "base_uri": "https://localhost:8080/"
        },
        "id": "hBB1A2yhGqgT",
        "outputId": "19d0ce7f-1340-4b66-9069-345aee720d6d"
      },
      "outputs": [
        {
          "name": "stdout",
          "output_type": "stream",
          "text": [
            "고기잡이 1 100\n",
            "고기팔기 1 120\n",
            "낚시 2 100\n",
            "통발 2 100\n",
            "큰그물 2 100\n"
          ]
        }
      ],
      "source": [
        "# 다중 리스트 unpacking!\n",
        "\n",
        "skill = [\n",
        "        ('고기잡이', [1, 100]),\n",
        "        ('고기팔기', [1, 120]),\n",
        "        ('낚시', [2, 100]),\n",
        "        ('통발', [2, 100]),\n",
        "        ('큰그물', [2, 100])\n",
        "]\n",
        "\n",
        "for i, [x, y] in skill:\n",
        "    print(i, x, y)"
      ]
    },
    {
      "cell_type": "code",
      "execution_count": null,
      "metadata": {
        "colab": {
          "base_uri": "https://localhost:8080/"
        },
        "id": "ojHWpl8EHbNt",
        "outputId": "8b12eaf9-a2b8-46ec-bef3-e49b905a4a7f"
      },
      "outputs": [
        {
          "name": "stdout",
          "output_type": "stream",
          "text": [
            "고기잡이 1 100\n",
            "고기팔기 1 120\n",
            "낚시 2 100\n",
            "통발 2 100\n",
            "큰그물 2 100\n"
          ]
        }
      ],
      "source": [
        "# 다중 리스트 unpacking!\n",
        "# tuple이어로 list로 unpacking 된다!\n",
        "skill = [\n",
        "        ('고기잡이', (1, 100)),\n",
        "        ('고기팔기', (1, 120)),\n",
        "        ('낚시', (2, 100)),\n",
        "        ('통발', (2, 100)),\n",
        "        ('큰그물', (2, 100))\n",
        "]\n",
        "\n",
        "for i, [x, y] in skill:\n",
        "    print(i, x, y)"
      ]
    },
    {
      "cell_type": "code",
      "execution_count": null,
      "metadata": {
        "colab": {
          "base_uri": "https://localhost:8080/"
        },
        "id": "hQq3ut1HHpx6",
        "outputId": "fb0e61cf-b60c-4a10-8845-682a3e67673e"
      },
      "outputs": [
        {
          "name": "stdout",
          "output_type": "stream",
          "text": [
            "고기잡이 a a\n",
            "고기팔기 b b\n",
            "낚시 c c\n",
            "통발 a b\n",
            "큰그물 e f\n"
          ]
        }
      ],
      "source": [
        "# 다중 리스트 unpacking!\n",
        "# str이어도 list로 unpacking 된다! 단 길이는 맞춰주어야 한다!\n",
        "skill = [\n",
        "        ('고기잡이', 'aa'),\n",
        "        ('고기팔기', 'bb'),\n",
        "        ('낚시', 'cc'),\n",
        "        ('통발', 'ab'),\n",
        "        ('큰그물', 'ef')\n",
        "]\n",
        "\n",
        "for i, [x, y] in skill:\n",
        "    print(i, x, y)"
      ]
    },
    {
      "cell_type": "code",
      "execution_count": null,
      "metadata": {
        "colab": {
          "base_uri": "https://localhost:8080/"
        },
        "id": "qyRaKUepGcN4",
        "outputId": "def3454f-483f-43b7-9891-4c9e5cf86151"
      },
      "outputs": [
        {
          "name": "stdout",
          "output_type": "stream",
          "text": [
            "고기잡이 100\n",
            "고기팡기 120\n",
            "낚시 5\n"
          ]
        }
      ],
      "source": [
        "skill_name = ['고기잡이', '고기팡기', '낚시']\n",
        "skill_point =  [100,120,5]\n",
        "\n",
        "for i, j in zip(skill_name, skill_point):\n",
        "    print(i, j)"
      ]
    },
    {
      "cell_type": "code",
      "execution_count": null,
      "metadata": {
        "colab": {
          "base_uri": "https://localhost:8080/"
        },
        "id": "1Ajs_il4GW9r",
        "outputId": "b3f748cb-7903-4a5f-903d-69ff1089e884"
      },
      "outputs": [
        {
          "name": "stdout",
          "output_type": "stream",
          "text": [
            "고기잡이 100 SS\n",
            "고기팔기 120 SSS\n",
            "낚시 5 C\n",
            "통발 5 C\n",
            "큰그물 5 C\n"
          ]
        }
      ],
      "source": [
        "skill = [\n",
        "        ('고기잡이', 100, 'SS'),\n",
        "        ('고기팔기', 120, 'SSS'),\n",
        "        ('낚시', 5, 'C'),\n",
        "        ('통발', 5, 'C'),\n",
        "        ('큰그물', 5, 'C')\n",
        "]\n",
        "\n",
        "for skillName, skillLevel, skillGrade in skill:\n",
        "    print(skillName, skillLevel, skillGrade)"
      ]
    },
    {
      "cell_type": "code",
      "execution_count": null,
      "metadata": {
        "colab": {
          "base_uri": "https://localhost:8080/"
        },
        "id": "dt2ZPbMxH8BC",
        "outputId": "cafd2037-6dac-4ced-80b2-e1a12173f062"
      },
      "outputs": [
        {
          "name": "stdout",
          "output_type": "stream",
          "text": [
            "축하합니다. S등급의 skill 고기잡이를 습득하셨습니다!\n",
            "해당 스킬은 레벨 제한 1에 스킬 포인트 100 입니다.\n",
            "축하합니다. A등급의 skill 고기팔기를 습득하셨습니다!\n",
            "해당 스킬은 레벨 제한 1에 스킬 포인트 120 입니다.\n",
            "축하합니다. A등급의 skill 낚시를 습득하셨습니다!\n",
            "해당 스킬은 레벨 제한 2에 스킬 포인트 100 입니다.\n",
            "축하합니다. B등급의 skill 통발를 습득하셨습니다!\n",
            "해당 스킬은 레벨 제한 2에 스킬 포인트 100 입니다.\n",
            "축하합니다. S등급의 skill 큰그물를 습득하셨습니다!\n",
            "해당 스킬은 레벨 제한 2에 스킬 포인트 100 입니다.\n"
          ]
        }
      ],
      "source": [
        "# 문제\n",
        "# data에는 다음과 같은 데이터가 있습니다.\n",
        "# 각각 skill 이름, skill 제한레벨, skill 포인트, skill 등급입니다.\n",
        "# 아래와 같이 출력해주세요\n",
        "data = [\n",
        "        ('고기잡이', (1, 100, 'S')),\n",
        "        ('고기팔기', (1, 120, 'A')),\n",
        "        ('낚시', (2, 100, 'A')),\n",
        "        ('통발', (2, 100, 'B')),\n",
        "        ('큰그물', (2, 100, 'S'))\n",
        "]\n",
        "# 출력값\n",
        "# '축하합니다. S등급의 skill 고기잡이를 습득하셨습니다!\n",
        "# 해당 스킬은 레벨 제한 1에 스킬 포인트 100 입니다.\n",
        "\n",
        "for name, [level, point, rank] in data:\n",
        "    print(f'축하합니다. {rank}등급의 skill {name}를 습득하셨습니다!\\n해당 스킬은 레벨 제한 {level}에 스킬 포인트 {point} 입니다.')\n",
        "\n",
        "# print 함수는 부하가 큰 함수이기 때문에 여러번 찍는 것은 지양해주세요"
      ]
    },
    {
      "attachments": {},
      "cell_type": "markdown",
      "metadata": {
        "id": "QHJ_EGyfMGNt"
      },
      "source": [
        "## while"
      ]
    },
    {
      "cell_type": "code",
      "execution_count": null,
      "metadata": {
        "colab": {
          "base_uri": "https://localhost:8080/"
        },
        "id": "2b8dOtsoMRY0",
        "outputId": "50ce9863-268f-4816-9346-fc49416da0ed"
      },
      "outputs": [
        {
          "name": "stdout",
          "output_type": "stream",
          "text": [
            "1\n",
            "2\n",
            "3\n",
            "4\n",
            "5\n",
            "6\n",
            "7\n",
            "8\n",
            "9\n"
          ]
        }
      ],
      "source": [
        "# 반복문 : for, while\n",
        "a = 1\n",
        "while a < 10 : # True인 동안에 계속 실행\n",
        "    print(a)\n",
        "    a += 1 "
      ]
    },
    {
      "cell_type": "code",
      "execution_count": null,
      "metadata": {
        "colab": {
          "base_uri": "https://localhost:8080/"
        },
        "id": "9oDw4gqOMrlT",
        "outputId": "f5a61365-9567-44f4-ccd9-add50f47a203"
      },
      "outputs": [
        {
          "name": "stdout",
          "output_type": "stream",
          "text": [
            "3\n",
            "2\n",
            "1\n",
            "while문이 종료되었습니다\n"
          ]
        }
      ],
      "source": [
        "## 실무에서 while을 사용하는 부분\n",
        "# while 특정요소:\n",
        "#     특정요소 값 꺼내는 문법\n",
        "#     특정요소가 모두 없어질 때까지 돌아감\n",
        "\n",
        "l = [1,2,3]\n",
        "while l:    # l이 다 비면([]가 되면 ) False\n",
        "    print(l.pop())\n",
        "\n",
        "print('while문이 종료되었습니다')"
      ]
    },
    {
      "cell_type": "code",
      "execution_count": null,
      "metadata": {
        "colab": {
          "base_uri": "https://localhost:8080/"
        },
        "id": "NQkVzSi8Pgf_",
        "outputId": "aa90616f-8527-471c-e0ba-b5e9c8698c58"
      },
      "outputs": [
        {
          "name": "stdout",
          "output_type": "stream",
          "text": [
            "1\n",
            "2\n",
            "3\n"
          ]
        }
      ],
      "source": [
        "s = {1,2,3}\n",
        "while s:    \n",
        "    print(s.pop())"
      ]
    },
    {
      "cell_type": "code",
      "execution_count": null,
      "metadata": {
        "colab": {
          "base_uri": "https://localhost:8080/"
        },
        "id": "LsV6sJdlPkh0",
        "outputId": "68e13988-d3ea-4518-ad98-106d1cd4933c"
      },
      "outputs": [
        {
          "name": "stdout",
          "output_type": "stream",
          "text": [
            "e 13\n",
            "c 10\n",
            "b 1\n",
            "a 0\n",
            "g 24\n",
            "k 2\n",
            "n 6\n",
            "f 21\n",
            "d 12\n"
          ]
        }
      ],
      "source": [
        "# 중복되는 문자 중 가장 처음 등장한 문자의 index\n",
        "s = 'abkkkbnbbbccdennnnneefefg'\n",
        "ss = set(s)\n",
        "while ss:\n",
        "    c = ss.pop()\n",
        "    print(c, s.index(c))"
      ]
    },
    {
      "cell_type": "code",
      "execution_count": null,
      "metadata": {
        "colab": {
          "base_uri": "https://localhost:8080/"
        },
        "id": "UO2n-etZMd_N",
        "outputId": "dcf4a04d-d061-4470-ef1d-3139c463eab3"
      },
      "outputs": [
        {
          "name": "stdout",
          "output_type": "stream",
          "text": [
            "$exit\n",
            "프로그램을 종료합니다.\n"
          ]
        }
      ],
      "source": [
        "# 이러한 무한반복은 메모리를 모두 소진합니다.\n",
        "# 서버가 뻗을 수도 있습니다.\n",
        "while True:\n",
        "    user_input = input('$')\n",
        "    split_data = user_input.split(' ')\n",
        "    if split_data[0] == 'mkdir':\n",
        "        print(f'{split_data[1]} 폴더가 생성되었습니다.')\n",
        "    elif split_data[0] == 'rmdir':\n",
        "        print(f'{split_data[1]} 폴더가 제거되었습니다.')\n",
        "    elif split_data[0] == 'exit':\n",
        "        print('프로그램을 종료합니다.')\n",
        "        break"
      ]
    },
    {
      "cell_type": "code",
      "execution_count": null,
      "metadata": {
        "id": "xIlwHpqJSCK5"
      },
      "outputs": [],
      "source": [
        "# up down game\n",
        "import random\n",
        "\n",
        "result = random.randint(1, 100) # 1부터 100 사이 랜덤한 정수\n",
        "\n",
        "while True:\n",
        "    user_input = int(input('정수를 입력해주세요'))\n",
        "\n",
        "    if user_input > result:\n",
        "        print('down')\n",
        "    elif user_input < result:\n",
        "        print('up')\n",
        "    else:\n",
        "        print('맞췄습니다.')\n",
        "        print('프로그램을 종료합니다.')\n",
        "        break"
      ]
    },
    {
      "cell_type": "code",
      "execution_count": null,
      "metadata": {
        "colab": {
          "base_uri": "https://localhost:8080/"
        },
        "id": "Ak2VccrfTusV",
        "outputId": "930b7b95-87dd-4cf8-ed65-69e1c0e2befb"
      },
      "outputs": [
        {
          "name": "stdout",
          "output_type": "stream",
          "text": [
            "2 1 2\n",
            "2 2 4\n",
            "2 3 6\n",
            "2 4 8\n",
            "2 5 10\n",
            "2 6 12\n",
            "2 7 14\n",
            "2 8 16\n",
            "2 9 18\n"
          ]
        }
      ],
      "source": [
        "# 구구단\n",
        "x = 2\n",
        "y = 1\n",
        "while x < 10:\n",
        "    while y < 10:\n",
        "        print( x, y, x*y)\n",
        "        y += 1\n",
        "    x += 1\n",
        "    # y = 1     # 2단이 출력되지 않는 이유.. 초기화를 해줘야 다음 while문에 들어갈 수 있다"
      ]
    },
    {
      "cell_type": "code",
      "execution_count": null,
      "metadata": {
        "colab": {
          "base_uri": "https://localhost:8080/"
        },
        "id": "hw_iA05YUk53",
        "outputId": "512ecb37-76a6-4cf7-d0cc-857dacfe08b2"
      },
      "outputs": [
        {
          "name": "stdout",
          "output_type": "stream",
          "text": [
            "0.0\n",
            "0.1\n",
            "0.2\n",
            "0.30000000000000004\n",
            "end\n"
          ]
        }
      ],
      "source": [
        "# 소수 계산으로 될 때에는 부동소수점 문제가 발생하므로\n",
        "# == 연산자보다는 대소비교로 해주는게 안전하다\n",
        "count = 0.0\n",
        "while True:\n",
        "    print(count)\n",
        "    if count >= 0.3: ## count == 0.3 이면 무한루프 돌아버림\n",
        "        break;\n",
        "    count += 0.1\n",
        "print('end')"
      ]
    },
    {
      "cell_type": "code",
      "execution_count": null,
      "metadata": {
        "id": "mPS3tgyTVgWC"
      },
      "outputs": [],
      "source": [
        "# 반복문 + else 구문은 반복문에 break를 쓰지 않고 정상 종료되었을 때 else 구문이 실행됩니다.\n",
        "# 아무 출력값 없음\n",
        "i = 0\n",
        "while i< 10:\n",
        "    if i == 5:\n",
        "        break;\n",
        "    i += 1\n",
        "else:\n",
        "    print('정상종료')\n"
      ]
    },
    {
      "cell_type": "code",
      "execution_count": null,
      "metadata": {
        "colab": {
          "base_uri": "https://localhost:8080/"
        },
        "id": "AfYVwaowVnL3",
        "outputId": "438bac26-5637-4524-bf58-e3910f08df6a"
      },
      "outputs": [
        {
          "name": "stdout",
          "output_type": "stream",
          "text": [
            "정상종료\n"
          ]
        }
      ],
      "source": [
        "# 반복문 + else 구문은 반복문에 break를 쓰지 않고 정상 종료되었을 때 else 구문이 실행됩니다.\n",
        "# while의 판별문으로 종료되었기 때문에 '정상종료' 출력\n",
        "i = 0\n",
        "while i< 10:\n",
        "    if i == 5:\n",
        "        pass;\n",
        "    i += 1\n",
        "else:\n",
        "    print('정상종료')\n"
      ]
    },
    {
      "attachments": {},
      "cell_type": "markdown",
      "metadata": {
        "id": "UPMVQgwWX7vc"
      },
      "source": [
        "* https://school.programmers.co.kr/learn/courses/30/lessons/120871"
      ]
    },
    {
      "cell_type": "code",
      "execution_count": null,
      "metadata": {
        "colab": {
          "base_uri": "https://localhost:8080/"
        },
        "id": "A3EcSlaKX0w6",
        "outputId": "341b96ce-bcbb-4ae8-bdbf-22f38bffe67f"
      },
      "outputs": [
        {
          "name": "stdout",
          "output_type": "stream",
          "text": [
            "0\n",
            "1\n",
            "2\n",
            "3\n",
            "4\n",
            "5\n",
            "6\n",
            "7\n",
            "8\n",
            "9\n",
            "10\n",
            "11\n",
            "12\n",
            "13\n",
            "14\n",
            "15\n"
          ]
        }
      ],
      "source": [
        "# step 1\n",
        "count10 = 0\n",
        "n = 15\n",
        "while count10 < n+1 :\n",
        "    print(count10)\n",
        "    count10 += 1"
      ]
    },
    {
      "cell_type": "code",
      "execution_count": null,
      "metadata": {
        "colab": {
          "base_uri": "https://localhost:8080/"
        },
        "id": "Wo_yAWGbZnoe",
        "outputId": "a4ee52fc-cb0f-446a-ad0d-32092aeabf42"
      },
      "outputs": [
        {
          "name": "stdout",
          "output_type": "stream",
          "text": [
            "1 1\n",
            "2 2\n",
            "3 4\n",
            "4 5\n",
            "5 7\n",
            "6 8\n"
          ]
        },
        {
          "data": {
            "text/plain": [
              "8"
            ]
          },
          "execution_count": 56,
          "metadata": {},
          "output_type": "execute_result"
        }
      ],
      "source": [
        "#step 2 조건만 구현\n",
        "count10 = 0 # 10진수 숫자\n",
        "count3 = 0  # 3x마을에서 쓰는 숫자\n",
        "n = 5\n",
        "while count10 < n + 1 :\n",
        "    count10 += 1\n",
        "    count3 += 1\n",
        "    # 3x마을에서 쓰는 숫자에는 3의 배수나 '3'이 있으면 안됨\n",
        "    # 저주의 숫자를 지나가도 저주의 숫자일 수 있음. 12 -> 13 , 30 ->31...\n",
        "    if count3 %3 == 0 or '3' in str(count10):\n",
        "        count3 += 1\n",
        "    print(count10, count3)\n",
        "count3"
      ]
    },
    {
      "cell_type": "code",
      "execution_count": null,
      "metadata": {
        "colab": {
          "base_uri": "https://localhost:8080/"
        },
        "id": "ORpCn4S3tVhE",
        "outputId": "f7b2eb12-f4a2-4fcf-fa4c-6b383e671282"
      },
      "outputs": [
        {
          "name": "stdout",
          "output_type": "stream",
          "text": [
            "1 1\n",
            "2 2\n",
            "3 4\n",
            "4 5\n",
            "5 7\n",
            "6 8\n",
            "7 10\n",
            "8 11\n",
            "9 14\n",
            "10 16\n"
          ]
        },
        {
          "data": {
            "text/plain": [
              "16"
            ]
          },
          "execution_count": 62,
          "metadata": {},
          "output_type": "execute_result"
        }
      ],
      "source": [
        "#step 3 조건이 반복되도록 구현\n",
        "def solution(n):\n",
        "    count10 = 0 \n",
        "    count3 = 0\n",
        "    while count10 < n :\n",
        "        count10 += 1\n",
        "        count3 += 1\n",
        "        while count3 %3 == 0 or '3' in str(count3):\n",
        "            count3 += 1\n",
        "        print(count10, count3)\n",
        "    return count3 \n"
      ]
    },
    {
      "cell_type": "code",
      "execution_count": null,
      "metadata": {
        "id": "HGBgmyzbuEB8"
      },
      "outputs": [],
      "source": [
        "# 간단하게 푸는 법\n",
        "def solution(n):\n",
        "    return [i for i in range(1, 1001) if i%3 != 0 and not('3' in str(i))][n-1]\n"
      ]
    },
    {
      "cell_type": "code",
      "execution_count": null,
      "metadata": {
        "colab": {
          "base_uri": "https://localhost:8080/"
        },
        "id": "LZ1lemDiY023",
        "outputId": "59d69bbe-6441-40b7-c95f-33d9a4a4901e"
      },
      "outputs": [
        {
          "name": "stdout",
          "output_type": "stream",
          "text": [
            "1\n",
            "2\n",
            "4\n",
            "5\n",
            "7\n",
            "8\n",
            "10\n",
            "11\n",
            "13\n",
            "14\n",
            "16\n"
          ]
        }
      ],
      "source": [
        "#step 2\n",
        "count10 = 0\n",
        "count3 = 0 # 3x마을에서 쓰는 숫자\n",
        "n = 15\n",
        "while count10 < n + 1 :\n",
        "    if count10 %3 == 0: count10 +=1\n",
        "    print(count10)\n",
        "    count10 += 1"
      ]
    },
    {
      "attachments": {},
      "cell_type": "markdown",
      "metadata": {
        "id": "O3W9pS6bV31-"
      },
      "source": [
        "## try ~ except ~ else"
      ]
    },
    {
      "cell_type": "code",
      "execution_count": null,
      "metadata": {
        "id": "O9sIuigPWNmJ"
      },
      "outputs": [],
      "source": [
        "# try:\n",
        "#     실행문\n",
        "# except:\n",
        "#     예외 발생 시 처리문\n",
        "# else:\n",
        "#     예외 발생하지 않을 경우 실행문"
      ]
    },
    {
      "cell_type": "code",
      "execution_count": null,
      "metadata": {
        "colab": {
          "base_uri": "https://localhost:8080/"
        },
        "id": "HsUtGoTbV9sd",
        "outputId": "0b33ef83-2cb6-459a-d515-720f45085cc4"
      },
      "outputs": [
        {
          "name": "stdout",
          "output_type": "stream",
          "text": [
            "1.0\n"
          ]
        }
      ],
      "source": [
        "try:\n",
        "    i = 1\n",
        "    j = 1\n",
        "    x = i/j\n",
        "except:\n",
        "    print(\"error\")\n",
        "else:\n",
        "    print(x)"
      ]
    },
    {
      "attachments": {},
      "cell_type": "markdown",
      "metadata": {
        "id": "_nNrBec6vDoy"
      },
      "source": [
        "## 실제 데이터를 가지고 연습 (JSON generator)\n"
      ]
    },
    {
      "cell_type": "code",
      "execution_count": null,
      "metadata": {
        "colab": {
          "base_uri": "https://localhost:8080/"
        },
        "id": "YEfSZXGVvV-K",
        "outputId": "31a9b695-71f8-4fa9-c704-6d64a537358b"
      },
      "outputs": [
        {
          "name": "stdout",
          "output_type": "stream",
          "text": [
            "32.4\n",
            "32.4\n",
            "0.8 0.2\n",
            "0.8 0.2\n",
            "80.0 20.0\n",
            "0.8 0.2\n"
          ]
        }
      ],
      "source": [
        "data = [\n",
        "  {\n",
        "    \"_id\": \"6459c9fe3d0040c8a253004e\",\n",
        "    \"age\": 35,\n",
        "    \"eyeColor\": \"brown\",\n",
        "    \"name\": \"Maritza Powers\",\n",
        "    \"gender\": \"female\"\n",
        "  },\n",
        "  {\n",
        "    \"_id\": \"6459c9fe1ab73b21c300ba5b\",\n",
        "    \"age\": 26,\n",
        "    \"eyeColor\": \"green\",\n",
        "    \"name\": \"Poole Gregory\",\n",
        "    \"gender\": \"male\"\n",
        "  },\n",
        "  {\n",
        "    \"_id\": \"6459c9fe3ca1e2052816fbdb\",\n",
        "    \"age\": 29,\n",
        "    \"eyeColor\": \"brown\",\n",
        "    \"name\": \"Dionne Gates\",\n",
        "    \"gender\": \"female\"\n",
        "  },\n",
        "  {\n",
        "    \"_id\": \"6459c9fe5dcc9442e5c6bc6c\",\n",
        "    \"age\": 40,\n",
        "    \"eyeColor\": \"blue\",\n",
        "    \"name\": \"Deann Patterson\",\n",
        "    \"gender\": \"female\"\n",
        "  },\n",
        "  {\n",
        "    \"_id\": \"6459c9fe7ff066d546ec3a73\",\n",
        "    \"age\": 32,\n",
        "    \"eyeColor\": \"blue\",\n",
        "    \"name\": \"Kerry Hernandez\",\n",
        "    \"gender\": \"female\"\n",
        "  }\n",
        "]\n",
        "\n",
        "# 반복문을 사용해도 좋지만,\n",
        "# 반복문을 사용할 수 없다면 index로만 계산해도 좋습니다.\n",
        "\n",
        "# 1. 회원들의 age 평균\n",
        "total = 0\n",
        "for i in data:\n",
        "    total += i.get('age')\n",
        "\n",
        "average = total/len(data)\n",
        "print(average)\n",
        "\n",
        "## map\n",
        "average2 = sum(map(lambda x : x.get('age'), data))/len(data)\n",
        "print(average2)\n",
        "\n",
        "\n",
        "# 2. 회원들의 남녀 성비\n",
        "female = 0\n",
        "male = 0\n",
        "\n",
        "for i in data:\n",
        "    if i.get('gender') == 'male':\n",
        "        male += 1\n",
        "    else:\n",
        "        female +=1\n",
        "\n",
        "female_ratio = female/len(data)\n",
        "male_ratio = male/len(data)\n",
        "\n",
        "print(female_ratio, male_ratio)\n",
        "\n",
        "##map\n",
        "li = list(map(lambda x: x.get('gender') == 'male', data))\n",
        "female = li.count(False)/len(data)\n",
        "male = li.count(True)/len(data)\n",
        "print(female, male)\n",
        "\n",
        "## filter\n",
        "male = len(list(filter(lambda x:x.get('gender') == 'male', data))) / len(data) * 100\n",
        "female = len(list(filter(lambda x:x.get('gender') == 'female', data))) / len(data) * 100\n",
        "print(female, male)\n",
        "\n",
        "## comprehesion\n",
        "list_gender = [i['gender'] for i in data]\n",
        "male = list_gender.count('male')/len(data)\n",
        "female = list_gender.count('female')/len(data)\n",
        "print(female, male)"
      ]
    },
    {
      "cell_type": "code",
      "execution_count": null,
      "metadata": {
        "colab": {
          "base_uri": "https://localhost:8080/"
        },
        "id": "cfBMKliZtNkm",
        "outputId": "4c9fa103-2507-4ce4-aa0c-58911f86c515"
      },
      "outputs": [
        {
          "data": {
            "text/plain": [
              "120"
            ]
          },
          "execution_count": 27,
          "metadata": {},
          "output_type": "execute_result"
        }
      ],
      "source": [
        "## 오늘의 질문 1\n",
        "# 람다함수를 재귀로 사용할 수 있나요?\n",
        "\n",
        "factorial = lambda x : 1 if x == 0 else x * factorial(x-1)\n",
        "factorial(5)\n",
        "\n",
        "## 프로그래머스\n",
        "# solution = lambda .... 이렇게 가능하다"
      ]
    },
    {
      "cell_type": "code",
      "execution_count": null,
      "metadata": {
        "colab": {
          "base_uri": "https://localhost:8080/"
        },
        "id": "nWC34nJktbU5",
        "outputId": "f81412ef-aa21-4078-b500-f095553066d7"
      },
      "outputs": [
        {
          "name": "stdout",
          "output_type": "stream",
          "text": [
            "0 ('고기잡이', 1, 100)\n",
            "1 ('고기팔기', 1, 120)\n",
            "2 ('낚시', 2, 80)\n",
            "3 ('덫깔기', 2, 70)\n"
          ]
        }
      ],
      "source": [
        "## 오늘의 질문 2\n",
        "skill = [('고기잡이', 1, 100),\n",
        "         ('고기팔기', 1, 120),\n",
        "         ('낚시', 2, 80),\n",
        "         ('덫깔기', 2, 70)]\n",
        "\n",
        "## enumerate 할때는 인덱스랑 안 헷갈리도록 이름을 바꿔주는게 좋음\n",
        "for idx, obj in enumerate(skill):\n",
        "    print(idx, obj)"
      ]
    },
    {
      "attachments": {},
      "cell_type": "markdown",
      "metadata": {
        "id": "8WoB1Cijg-L6"
      },
      "source": [
        "## 알아야 하는 buit in function\n",
        "\n",
        "> A <br>\n",
        "abs()  all()  any()\n",
        "\n",
        "> B<br>\n",
        "bin()  bool()\n",
        "\n",
        "> C<br>\n",
        "chr()\n",
        "\n",
        "> D<br>\n",
        "dict()  dir()\n",
        "\n",
        "> E<br>\n",
        "enumerate()  eval()\n",
        "\n",
        "> F<br>\n",
        "filter()  float()\n",
        "\n",
        "> G<br>\n",
        "globals()\n",
        "\n",
        "> H<br>\n",
        "help()\n",
        "hex()\n",
        "\n",
        "> I<br>\n",
        "id()  input()  int() isinstance()  issubclass()  iter()\n",
        "\n",
        "> L<br>\n",
        "len()  list()  locals()  \n",
        "\n",
        "> M<br>\n",
        "map()  max()  min()  \n",
        "\n",
        "> N<br>\n",
        "next()\n",
        "\n",
        "> O<br>\n",
        "object()  oct()  open()  ord()\n",
        "\n",
        "> P<br>\n",
        "pow()  print()  property()\n",
        "\n",
        "> R<br>\n",
        "range()  repr()  reversed()  round()\n",
        "\n",
        "> S<br>\n",
        "set()  setattr()  slice()  sorted()  staticmethod()\n",
        "str()  sum()  super()  \n",
        "\n",
        "> T<br>\n",
        "tuple()  type()\n",
        "\n",
        "> V<br>\n",
        "vars()\n",
        "\n",
        "> Z<br>\n",
        "zip()"
      ]
    },
    {
      "attachments": {},
      "cell_type": "markdown",
      "metadata": {
        "id": "nxd1_A2s7vuJ"
      },
      "source": [
        "### 수학적 함수\n",
        "- abs( ) : 괄호 안에 있는 값을 절대값으로 출력해줍니다.\n",
        "- all( ) : 괄호 안에 있는 값들이 모두 True(False)일 때 True(False)를 출력합니다.\n",
        "- any( ) : 괄호안에 있는 값이 하나라고 True이면 True로 출력합니다.\n",
        "- pow( ) : 제곱을 출력합니다.\n",
        "- max( ) : 값의 최댓값을 출력합니다.\n",
        "- min( ) : 값의 최솟값을 출력합니다.\n",
        "- sum( ) : 값의 합계를 출력합니다.\n",
        "- len( ) : 문자열의 길이를 출력합니다.\n",
        "- sorted( ) : 데이터를 정렬해줍니다.\n",
        "- reversed( ) : 정렬되지 않은 상태에서 값을 역순으로 출력합니다."
      ]
    },
    {
      "cell_type": "code",
      "execution_count": null,
      "metadata": {
        "colab": {
          "base_uri": "https://localhost:8080/"
        },
        "id": "8nW-07IB71pr",
        "outputId": "049ad58d-63af-47d1-912a-8ea488952251"
      },
      "outputs": [
        {
          "name": "stdout",
          "output_type": "stream",
          "text": [
            "True\n",
            "False\n",
            "False\n",
            "True\n",
            "True\n",
            "hello\n",
            "hello\n"
          ]
        },
        {
          "data": {
            "text/plain": [
              "8"
            ]
          },
          "execution_count": 25,
          "metadata": {},
          "output_type": "execute_result"
        }
      ],
      "source": [
        "# 절대값 사용..\n",
        "abs(-1)\n",
        "\n",
        "# all은 모든 요소가 True이어야 True를 리턴. 아니면 False\n",
        "print(all([True, True, True]))\n",
        "print(all([True, True, False]))\n",
        "print(all(['a', '', 1]))\n",
        "print(all(['a', ' ', 1]))\n",
        "print(all([3 < 5, 12%2==0 , 15%5==0]))\n",
        "\n",
        "# 아래처럼 조건문 대신 쓴 기억은 없음..\n",
        "# 판별식 말고 함수의 리턴을 저런시긍로 받아서 쓴 적은 있음\n",
        "if all([3 < 5, 12%2==0 , 15%5==0]):\n",
        "    print('hello')\n",
        "if all([3 < 5, \n",
        "        12%2==0,\n",
        "        15%5==0]):\n",
        "    print('hello')\n",
        "\n",
        "# all(True, True, True) \n",
        "# TypeError: all() takes exactly one argument (3 given)\n",
        "\n",
        "pow(2,3) # 2 ** 3"
      ]
    },
    {
      "cell_type": "code",
      "execution_count": null,
      "metadata": {
        "colab": {
          "base_uri": "https://localhost:8080/"
        },
        "id": "fhFJ35ay8I6q",
        "outputId": "145f7853-7fb6-4e31-8be6-597f876fb247"
      },
      "outputs": [
        {
          "name": "stdout",
          "output_type": "stream",
          "text": [
            "[1, 2, 3, 4, 5, 6]\n",
            "121\n"
          ]
        }
      ],
      "source": [
        "print(sum([[1,2],[3,4],[5,6]], []))\n",
        "print(sum([1,2, 3,4, 5,6], 100))\n",
        "# sum([1,2,3,4,5,6],{1,2,3}) #error"
      ]
    },
    {
      "cell_type": "code",
      "execution_count": null,
      "metadata": {
        "colab": {
          "base_uri": "https://localhost:8080/"
        },
        "id": "-I_7EqR_9osW",
        "outputId": "b13ecac6-ac5c-4ae3-c8e0-454da4133740"
      },
      "outputs": [
        {
          "data": {
            "text/plain": [
              "1000"
            ]
          },
          "execution_count": 33,
          "metadata": {},
          "output_type": "execute_result"
        }
      ],
      "source": [
        "# len()은 __len__() attribute!\n",
        "# __len__이 없는 것들 : map, zip, filter... \n",
        "\n",
        "class str(str):\n",
        "    def __len__(self):\n",
        "        return 1000\n",
        "\n",
        "len(str('hello world'))"
      ]
    },
    {
      "cell_type": "code",
      "execution_count": null,
      "metadata": {
        "colab": {
          "base_uri": "https://localhost:8080/"
        },
        "id": "ijJC8TF6-BSA",
        "outputId": "0a656cf7-c03c-4539-c0fb-fe860612a711"
      },
      "outputs": [
        {
          "data": {
            "text/plain": [
              "3"
            ]
          },
          "execution_count": 3,
          "metadata": {},
          "output_type": "execute_result"
        }
      ],
      "source": [
        "# len(zip([1,2,3], 'abc')) # error\n",
        "len(list(zip([1,2,3], 'abc')))"
      ]
    },
    {
      "attachments": {},
      "cell_type": "markdown",
      "metadata": {
        "id": "RhQqLCNJ-UEM"
      },
      "source": [
        "### 형변환 함수\n"
      ]
    },
    {
      "attachments": {},
      "cell_type": "markdown",
      "metadata": {
        "id": "f0oNkFzk-nbk"
      },
      "source": [
        "- set( )\n",
        "- dict( )\n",
        "- hex( ) : 16진법\n",
        "- bin( ) : 2진법\n",
        "- oct( ) : 8진법\n",
        "- bool( )\n",
        "- str( )\n",
        "- ord( ) : 각각의 문자에 대한 숫자값을 출력해줍니다.(유니코드표를 참고하세요.)\n",
        "- float( )\n",
        "- tuple( )\n",
        "- chr( ) : 숫자값을 통해서 문자를 출력합니다.\n",
        "- list( )\n",
        "- range( )\n",
        "- complex( )"
      ]
    },
    {
      "cell_type": "code",
      "execution_count": null,
      "metadata": {
        "colab": {
          "base_uri": "https://localhost:8080/"
        },
        "id": "LM_LcCmS-OhS",
        "outputId": "acd05fff-cf3f-4552-9437-fb6cb11c2f35"
      },
      "outputs": [
        {
          "data": {
            "text/plain": [
              "list"
            ]
          },
          "execution_count": 4,
          "metadata": {},
          "output_type": "execute_result"
        }
      ],
      "source": [
        "l = [1,2,3]\n",
        "type(l)"
      ]
    },
    {
      "cell_type": "code",
      "execution_count": null,
      "metadata": {
        "colab": {
          "base_uri": "https://localhost:8080/"
        },
        "id": "LU2yg3Rf-2il",
        "outputId": "a0bd7d85-b3d7-4130-f3c5-8f16e8e9d42d"
      },
      "outputs": [
        {
          "data": {
            "text/plain": [
              "7"
            ]
          },
          "execution_count": 11,
          "metadata": {},
          "output_type": "execute_result"
        }
      ],
      "source": [
        "# 아래 3개는 int형\n",
        "# bin()\n",
        "# oct()\n",
        "# hex()\n",
        "bin(7) #return 은 str'0b111'\n",
        "0b111           # 7\n",
        "type(0b111)     # int\n",
        "int('111',2)    # 7\n",
        "int('0b111',2)  # 7\n",
        "# int(0b111, 2) # error 첫 번째 인자는 strsolution"
      ]
    },
    {
      "cell_type": "code",
      "execution_count": null,
      "metadata": {
        "colab": {
          "base_uri": "https://localhost:8080/"
        },
        "id": "Iwlf8jkr_vlG",
        "outputId": "c774f22a-3064-4f10-c3e9-468ebda4fe43"
      },
      "outputs": [
        {
          "data": {
            "text/plain": [
              "(65, 'A')"
            ]
          },
          "execution_count": 16,
          "metadata": {},
          "output_type": "execute_result"
        }
      ],
      "source": [
        "ord('A'), chr(65)    # 65, 'A'"
      ]
    },
    {
      "cell_type": "code",
      "execution_count": null,
      "metadata": {
        "colab": {
          "base_uri": "https://localhost:8080/"
        },
        "id": "JNmZtrNaAX7-",
        "outputId": "01c602d7-1248-4b6d-d0e7-a733f0b9335e"
      },
      "outputs": [
        {
          "name": "stdout",
          "output_type": "stream",
          "text": [
            "[0, 2, 4, 6, 8]\n",
            "[0, 1, 2, 3, 4, 5, 6, 7, 8, 9]\n",
            "[0, 1, 2, 3, 4, 5, 6, 7, 8, 9]\n",
            "[-10, -8, -6, -4, -2, 0, 2, 4, 6, 8]\n",
            "[0, -2, -4, -6, -8]\n"
          ]
        }
      ],
      "source": [
        "# list(range(start, stop, step))\n",
        "print(list(range(0,10,2)))\n",
        "print(list(range(0,10)))\n",
        "print(list(range(10)))\n",
        "print(list(range(-10,10,2)))\n",
        "print(list(range(0,-10,-2)))"
      ]
    },
    {
      "attachments": {},
      "cell_type": "markdown",
      "metadata": {
        "id": "hqJwHVlnAnyk"
      },
      "source": [
        "### 도움말"
      ]
    },
    {
      "cell_type": "code",
      "execution_count": null,
      "metadata": {
        "colab": {
          "base_uri": "https://localhost:8080/"
        },
        "id": "Y96kdWx0ApP3",
        "outputId": "2861529a-0cd8-455b-c4f1-20375be8b800"
      },
      "outputs": [
        {
          "name": "stdout",
          "output_type": "stream",
          "text": [
            "Help on function jinsoo in module __main__:\n",
            "\n",
            "jinsoo()\n",
            "    유진수가 작성한 함수\n",
            "\n"
          ]
        }
      ],
      "source": [
        "def jinsoo():\n",
        "    '''\n",
        "    유진수가 작성한 함수\n",
        "    '''\n",
        "    return\n",
        "\n",
        "help(jinsoo)"
      ]
    },
    {
      "attachments": {},
      "cell_type": "markdown",
      "metadata": {
        "id": "mhx35WIwAwxn"
      },
      "source": [
        "### object 관련 함수"
      ]
    },
    {
      "attachments": {},
      "cell_type": "markdown",
      "metadata": {
        "id": "VxUA6e0WAylC"
      },
      "source": [
        "- dir( )\n",
        "- id( )\n",
        "- type( )"
      ]
    },
    {
      "cell_type": "code",
      "execution_count": null,
      "metadata": {
        "id": "2Hl_KhazA1Zt"
      },
      "outputs": [],
      "source": [
        "# dir() #directory 의 약자로 대상이 가진 attribute를 모두 출력합니다\n",
        "# attribute란 무엇인가? class에서 배울 멤버 + 메서드 입니다."
      ]
    },
    {
      "cell_type": "code",
      "execution_count": null,
      "metadata": {
        "colab": {
          "base_uri": "https://localhost:8080/"
        },
        "id": "XnjhtUbPBFHC",
        "outputId": "2cf111ed-75ca-4b84-e500-eb4ff1d80ca7"
      },
      "outputs": [
        {
          "name": "stdout",
          "output_type": "stream",
          "text": [
            "leehojun\n",
            "f\n",
            "hahah\n"
          ]
        }
      ],
      "source": [
        "def f():\n",
        "    return 100\n",
        "\n",
        "f.name = 'leehojun'\n",
        "print(f.name)\n",
        "print(f.__name__)\n",
        "# dir(f)\n",
        "\n",
        "f.my = 'hahah'  # setattr() 없이 바로 만들 수 있음???\n",
        "print(f.my)"
      ]
    },
    {
      "cell_type": "code",
      "execution_count": null,
      "metadata": {
        "id": "LAkyYCCXBwnG"
      },
      "outputs": [],
      "source": [
        "# 배우는 재미\n",
        "# 단시간에 될 수 없습니다 => 경쟁력\n"
      ]
    },
    {
      "cell_type": "code",
      "execution_count": null,
      "metadata": {
        "colab": {
          "base_uri": "https://localhost:8080/"
        },
        "id": "yMx9AOpxCNg0",
        "outputId": "0dd1385b-de98-47a8-ed86-db35123c88bc"
      },
      "outputs": [
        {
          "data": {
            "text/plain": [
              "140025093292560"
            ]
          },
          "execution_count": 30,
          "metadata": {},
          "output_type": "execute_result"
        }
      ],
      "source": [
        "l =10\n",
        "# 복사가 제대로 이루어졌나?\n",
        "id(l) # 얕은복사, 깊은복사"
      ]
    },
    {
      "cell_type": "code",
      "execution_count": null,
      "metadata": {
        "colab": {
          "base_uri": "https://localhost:8080/"
        },
        "id": "mEOBVSWHCWwA",
        "outputId": "83891730-00c0-4670-a1c4-673cfaf866ee"
      },
      "outputs": [
        {
          "name": "stdout",
          "output_type": "stream",
          "text": [
            "<class 'str'>\n",
            "<class 'function'>\n"
          ]
        }
      ],
      "source": [
        "type('abc') # str\n",
        "print(type('abc')) # <class 'str'>\n",
        "# print(type(f)) # <class 'function'>\n",
        "\n",
        "# class가 전체 Python을 관통하고 있습니다.\n"
      ]
    },
    {
      "attachments": {},
      "cell_type": "markdown",
      "metadata": {
        "id": "-F_kzJCbC1WM"
      },
      "source": [
        "### 유용한 순회 가능 객체"
      ]
    },
    {
      "attachments": {},
      "cell_type": "markdown",
      "metadata": {
        "id": "WoW92kTyDB0s"
      },
      "source": [
        "- enumerate( ) : 값에 순위를 매기고 싶을 때 사용합니다.\n",
        "- range( )\n",
        "- filter( )\n",
        "- zip( )\n",
        "- map( )"
      ]
    },
    {
      "cell_type": "code",
      "execution_count": null,
      "metadata": {
        "colab": {
          "base_uri": "https://localhost:8080/"
        },
        "id": "sDhvpOtdDHqq",
        "outputId": "49213b84-9ac9-4752-a95a-056c7f9a7aeb"
      },
      "outputs": [
        {
          "name": "stdout",
          "output_type": "stream",
          "text": [
            "[(0, 10), (1, 20), (2, 30)]\n",
            "[(100, 10), (101, 20), (102, 30)]\n",
            "[(1000, 10), (1001, 20), (1002, 30)]\n"
          ]
        }
      ],
      "source": [
        "# enumerate()\n",
        "print(list(enumerate([10,20,30])))\n",
        "print(list(enumerate([10,20,30], start=100)))\n",
        "print(list(enumerate([10,20,30], 1000)))\n",
        "# print(list(enumerate([10,20,30], 'abc'))) # error start인자에는 int가 와야 함\n"
      ]
    },
    {
      "cell_type": "code",
      "execution_count": null,
      "metadata": {
        "colab": {
          "base_uri": "https://localhost:8080/"
        },
        "id": "rtgGJYJ8GcOL",
        "outputId": "e2e7b248-9afc-443c-face-a4aa8a8d8332"
      },
      "outputs": [
        {
          "name": "stdout",
          "output_type": "stream",
          "text": [
            "[20, 30, 40]\n",
            "[True, True]\n",
            "['abc']\n"
          ]
        }
      ],
      "source": [
        "def 함수(x):\n",
        "    return x >15\n",
        "print(list(filter(함수, [10, 20, 30, 40])))\n",
        "\n",
        "# filter 의 function 인자에 None 가능\n",
        "# 여러 가지 자료형이 섞여 있을 때 값이 들어있는(유효한) 것만 찾을 경우\n",
        "print(list(filter(None, [True, True, False, False])))\n",
        "print(list(filter(None, [[], 'abc', '', ''])))"
      ]
    },
    {
      "cell_type": "code",
      "execution_count": null,
      "metadata": {
        "colab": {
          "base_uri": "https://localhost:8080/"
        },
        "id": "5R5FxJO-HVZY",
        "outputId": "470f7129-7f4a-4e29-c27e-33ee925fa8bf"
      },
      "outputs": [
        {
          "data": {
            "text/plain": [
              "[('a', 'd', 0, 1, 4), ('b', 'e', 1, 2, 5), ('c', 'f', 2, 3, 6)]"
            ]
          },
          "execution_count": 53,
          "metadata": {},
          "output_type": "execute_result"
        }
      ],
      "source": [
        "# zip 여러개의 iterable 한 객체를 순서대로 묶어서 tuple 원소로 가지고있음\n",
        "list(zip('abc', 'def', range(3), [1,2,3],[4,5,6,7]))"
      ]
    },
    {
      "cell_type": "code",
      "execution_count": null,
      "metadata": {
        "colab": {
          "base_uri": "https://localhost:8080/"
        },
        "id": "bC5MFWIPHue_",
        "outputId": "e74fd4af-c55d-4bb5-bc00-8da4175da452"
      },
      "outputs": [
        {
          "data": {
            "text/plain": [
              "[('a', 2), ('b', 4), ('c', 5), ('e', 6), ('d', 8)]"
            ]
          },
          "execution_count": 54,
          "metadata": {},
          "output_type": "execute_result"
        }
      ],
      "source": [
        "x = [5,4,6,8,2]\n",
        "list(zip('abcedfg', sorted(x))) # sorted()의 리턴도 iterable한 객체라서 가능\n"
      ]
    },
    {
      "cell_type": "code",
      "execution_count": null,
      "metadata": {
        "colab": {
          "base_uri": "https://localhost:8080/"
        },
        "id": "7i1BJhfTICWq",
        "outputId": "1635a683-6a27-4a08-b838-07d8545b01b8"
      },
      "outputs": [
        {
          "data": {
            "text/plain": [
              "[('a', (5, 7)), ('b', (4, 6)), ('c', (6, 45)), ('d', (8, 4)), ('e', (2, 2))]"
            ]
          },
          "execution_count": 55,
          "metadata": {},
          "output_type": "execute_result"
        }
      ],
      "source": [
        "x = [5,4,6,8,2]\n",
        "y = [7,6,45,4,2,3,3]\n",
        "list(zip('abcdefg', zip(x,y)))"
      ]
    },
    {
      "attachments": {},
      "cell_type": "markdown",
      "metadata": {
        "id": "lsAojBhriidz"
      },
      "source": [
        "## arg, kargs"
      ]
    },
    {
      "attachments": {},
      "cell_type": "markdown",
      "metadata": {
        "id": "Z9YpMzAXIrgg"
      },
      "source": [
        "* 가변 아규먼트, 가변 키워드 아규먼트"
      ]
    },
    {
      "cell_type": "code",
      "execution_count": null,
      "metadata": {
        "colab": {
          "base_uri": "https://localhost:8080/"
        },
        "id": "qsWTqsFZIqAn",
        "outputId": "61bef34a-2989-456d-ddc9-f7af41e59f67"
      },
      "outputs": [
        {
          "name": "stdout",
          "output_type": "stream",
          "text": [
            "(100, True, 'leehojun')\n"
          ]
        }
      ],
      "source": [
        "def print_args(*args):  # 꼭 args가 아니어도 됩니다.\n",
        "    print(args)\n",
        "    # for x in args:\n",
        "    #     print(x)\n",
        "\n",
        "print_args(100, True, 'leehojun')"
      ]
    },
    {
      "cell_type": "code",
      "execution_count": null,
      "metadata": {
        "colab": {
          "base_uri": "https://localhost:8080/"
        },
        "id": "60yZAAK-I-vL",
        "outputId": "8a16ff68-4c97-40fa-a94b-efee8e26c40c"
      },
      "outputs": [
        {
          "name": "stdout",
          "output_type": "stream",
          "text": [
            "100\n",
            "{'name': 'leehojun', 'age': '10'}\n"
          ]
        }
      ],
      "source": [
        "def print_kwargs(a, **kwargs):  # 꼭 kwargs가 아니어도 됩니다.\n",
        "    print(a)\n",
        "    print(kwargs)\n",
        "    # for i in kwargs:\n",
        "    #     print(i)\n",
        "\n",
        "print_kwargs(100, name='leehojun', age='10')"
      ]
    },
    {
      "cell_type": "code",
      "execution_count": null,
      "metadata": {
        "colab": {
          "base_uri": "https://localhost:8080/"
        },
        "id": "t8xzNEDIJPBK",
        "outputId": "52084d1a-7dcc-4a5e-9bef-bba6c7c1d95a"
      },
      "outputs": [
        {
          "name": "stdout",
          "output_type": "stream",
          "text": [
            "('one', 'two')\n",
            "one\n",
            "two\n"
          ]
        }
      ],
      "source": [
        "def print_kwargs(*kwargs):\n",
        "    print(kwargs)\n",
        "    for i in kwargs:\n",
        "        print(i)\n",
        "\n",
        "value = {'one':10, 'two':20}\n",
        "print_kwargs(*value)\n",
        "## asterisk가 1개이면 key만... 받아짐\n",
        "## key와 value 모두를 넘기기 위해 2개를 사용\n",
        "\n"
      ]
    },
    {
      "cell_type": "code",
      "execution_count": null,
      "metadata": {
        "colab": {
          "base_uri": "https://localhost:8080/",
          "height": 211
        },
        "id": "jm8Ed9qyJhgf",
        "outputId": "fa72011b-bc36-4238-a2fd-4bad0239cb53"
      },
      "outputs": [
        {
          "ename": "TypeError",
          "evalue": "ignored",
          "output_type": "error",
          "traceback": [
            "\u001b[0;31m---------------------------------------------------------------------------\u001b[0m",
            "\u001b[0;31mTypeError\u001b[0m                                 Traceback (most recent call last)",
            "\u001b[0;32m<ipython-input-63-c563cefd0862>\u001b[0m in \u001b[0;36m<cell line: 6>\u001b[0;34m()\u001b[0m\n\u001b[1;32m      4\u001b[0m     \u001b[0;31m#     print(x)\u001b[0m\u001b[0;34m\u001b[0m\u001b[0;34m\u001b[0m\u001b[0m\n\u001b[1;32m      5\u001b[0m \u001b[0;34m\u001b[0m\u001b[0m\n\u001b[0;32m----> 6\u001b[0;31m \u001b[0mprint_args\u001b[0m\u001b[0;34m(\u001b[0m\u001b[0;36m100\u001b[0m\u001b[0;34m,\u001b[0m \u001b[0;32mTrue\u001b[0m\u001b[0;34m,\u001b[0m \u001b[0;34m'leehojun'\u001b[0m\u001b[0;34m)\u001b[0m\u001b[0;34m\u001b[0m\u001b[0;34m\u001b[0m\u001b[0m\n\u001b[0m",
            "\u001b[0;31mTypeError\u001b[0m: print_args() missing 1 required keyword-only argument: 'b'"
          ]
        }
      ],
      "source": [
        "def print_args(*args, b): # error 입니다.\n",
        "    print(args)\n",
        "    # for x in args:\n",
        "    #     print(x)\n",
        "\n",
        "print_args(100, True, 'leehojun')"
      ]
    },
    {
      "cell_type": "code",
      "execution_count": null,
      "metadata": {
        "id": "BrMbiszqJ03A"
      },
      "outputs": [],
      "source": [
        "def print_args(b, *args): \n",
        "    print(args)\n",
        "    # for x in args:\n",
        "    #     print(x)\n",
        "\n",
        "print_args(100, True, b= 'leehojun')# error 입니다."
      ]
    },
    {
      "cell_type": "code",
      "execution_count": null,
      "metadata": {
        "colab": {
          "base_uri": "https://localhost:8080/"
        },
        "id": "_dhHecgxJ-TB",
        "outputId": "50c9a407-4e7d-4b22-a256-fc19533c6a24"
      },
      "outputs": [
        {
          "name": "stdout",
          "output_type": "stream",
          "text": [
            "(True, 'leehojun')\n"
          ]
        }
      ],
      "source": [
        "# 정상. 그냥 인자는 가변 인자보다 앞에 와야 한다.\n",
        "\n",
        "def print_args(b, *args): \n",
        "    print(args)\n",
        "    # for x in args:\n",
        "    #     print(x)\n",
        "\n",
        "print_args(100, True, 'leehojun')"
      ]
    },
    {
      "cell_type": "code",
      "execution_count": null,
      "metadata": {
        "colab": {
          "base_uri": "https://localhost:8080/"
        },
        "id": "p_JS3EtzKBcV",
        "outputId": "4b8e3f1e-bef4-4b67-dcc0-0ccf3e1a5c17"
      },
      "outputs": [
        {
          "name": "stdout",
          "output_type": "stream",
          "text": [
            "1\n",
            "2\n",
            "[3, 4, 5]\n"
          ]
        }
      ],
      "source": [
        "# * 의 기능은 남은 데이터들의 packing. list로 packing 함 음청 신기하네~~\n",
        "# ** 면 dict로 packing 하는 것.\n",
        "one, two, *three = 1, 2, 3, 4, 5 \n",
        "print(one)\n",
        "print(two)\n",
        "print(three)"
      ]
    },
    {
      "attachments": {},
      "cell_type": "markdown",
      "metadata": {
        "id": "fHYPVYBTh2zE"
      },
      "source": [
        "## lambda"
      ]
    },
    {
      "attachments": {},
      "cell_type": "markdown",
      "metadata": {
        "id": "ZQZ7vTx1Kj2A"
      },
      "source": [
        "* lambda는 익명함수라고 하며, 이름이 없는 함수"
      ]
    },
    {
      "cell_type": "code",
      "execution_count": null,
      "metadata": {
        "colab": {
          "base_uri": "https://localhost:8080/"
        },
        "id": "Siog4uVLKnDi",
        "outputId": "af6897fe-7de9-481d-e05b-cf76054c15b6"
      },
      "outputs": [
        {
          "name": "stdout",
          "output_type": "stream",
          "text": [
            "<class 'function'>\n",
            "<class 'function'>\n"
          ]
        }
      ],
      "source": [
        "leehojun = lambda x: x**2\n",
        "print(type(leehojun))\n",
        "print(type(lambda x: x**2))\n",
        "\n"
      ]
    },
    {
      "cell_type": "code",
      "execution_count": null,
      "metadata": {
        "colab": {
          "base_uri": "https://localhost:8080/"
        },
        "id": "4EhzowewK70H",
        "outputId": "704256c7-47dd-490f-faf1-5d77eed457c5"
      },
      "outputs": [
        {
          "name": "stdout",
          "output_type": "stream",
          "text": [
            "['__annotations__', '__builtins__', '__call__', '__class__', '__closure__', '__code__', '__defaults__', '__delattr__', '__dict__', '__dir__', '__doc__', '__eq__', '__format__', '__ge__', '__get__', '__getattribute__', '__globals__', '__gt__', '__hash__', '__init__', '__init_subclass__', '__kwdefaults__', '__le__', '__lt__', '__module__', '__name__', '__ne__', '__new__', '__qualname__', '__reduce__', '__reduce_ex__', '__repr__', '__setattr__', '__sizeof__', '__str__', '__subclasshook__']\n",
            "['__annotations__', '__builtins__', '__call__', '__class__', '__closure__', '__code__', '__defaults__', '__delattr__', '__dict__', '__dir__', '__doc__', '__eq__', '__format__', '__ge__', '__get__', '__getattribute__', '__globals__', '__gt__', '__hash__', '__init__', '__init_subclass__', '__kwdefaults__', '__le__', '__lt__', '__module__', '__name__', '__ne__', '__new__', '__qualname__', '__reduce__', '__reduce_ex__', '__repr__', '__setattr__', '__sizeof__', '__str__', '__subclasshook__']\n",
            "함수\n",
            "<lambda>\n"
          ]
        }
      ],
      "source": [
        "def 함수(x):\n",
        "    return x ** 2\n",
        "print(dir(함수))\n",
        "print(dir(lambda x: x**2))\n",
        "\n",
        "## lambda는 __name__ 이름 값이 lambda\n",
        "print(함수.__name__)\n",
        "print((lambda x: x**2).__name__)\n",
        "\n",
        "# 두 개의 차이는 참조 카운팅이 있고 없고의 차이"
      ]
    },
    {
      "cell_type": "code",
      "execution_count": null,
      "metadata": {
        "colab": {
          "base_uri": "https://localhost:8080/"
        },
        "id": "urXVY2e0LiZQ",
        "outputId": "3dc81ab8-5235-4622-ef82-a7d331badea1"
      },
      "outputs": [
        {
          "name": "stdout",
          "output_type": "stream",
          "text": [
            "30\n",
            "30\n",
            "-10\n"
          ]
        }
      ],
      "source": [
        "def add(x, y):\n",
        "    return x + y\n",
        "def sub():\n",
        "    pass\n",
        "def div():\n",
        "    pass\n",
        "def mul():\n",
        "    pass\n",
        "caculator = [add, sub, div, mul]\n",
        "print(caculator[0](10, 20)) # 0번째 값은 add 입니다.\n",
        "\n",
        "\n",
        "# 이런식으로 하면 참조 카운트가 늘어남\n",
        "calculator2 = [lambda x ,y : x + y,\n",
        "               lambda x ,y : x - y,\n",
        "               lambda x ,y : x / y,\n",
        "               lambda x ,y : x * y]\n",
        "\n",
        "print(calculator2[0](10,20)) #0번째 값은 add 입니다.\n",
        "print(calculator2[1](10,20)) #0번째 값은 sub 입니다."
      ]
    },
    {
      "cell_type": "code",
      "execution_count": null,
      "metadata": {
        "colab": {
          "base_uri": "https://localhost:8080/"
        },
        "id": "kGNuai1EMNS_",
        "outputId": "9ac55ff8-9f0d-4d97-b7a8-8c5cfc4e36b8"
      },
      "outputs": [
        {
          "data": {
            "text/plain": [
              "30"
            ]
          },
          "execution_count": 77,
          "metadata": {},
          "output_type": "execute_result"
        }
      ],
      "source": [
        "def f():\n",
        "    return lambda x, y:x + y\n",
        "\n",
        "f()(10, 20)"
      ]
    },
    {
      "cell_type": "code",
      "execution_count": null,
      "metadata": {
        "colab": {
          "base_uri": "https://localhost:8080/"
        },
        "id": "CA1jJLyfMdQA",
        "outputId": "de15b739-d95b-4e14-e544-3c7666c19ef0"
      },
      "outputs": [
        {
          "data": {
            "text/plain": [
              "100"
            ]
          },
          "execution_count": 79,
          "metadata": {},
          "output_type": "execute_result"
        }
      ],
      "source": [
        "def f():\n",
        "    return lambda x: lambda i : i**2\n",
        "\n",
        "f()(1)(10) # f()(i)(x)"
      ]
    },
    {
      "cell_type": "code",
      "execution_count": null,
      "metadata": {
        "colab": {
          "base_uri": "https://localhost:8080/"
        },
        "id": "RqLbljEXMqyz",
        "outputId": "935b0c47-c055-4037-bd98-421ca662df97"
      },
      "outputs": [
        {
          "data": {
            "text/plain": [
              "400"
            ]
          },
          "execution_count": 81,
          "metadata": {},
          "output_type": "execute_result"
        }
      ],
      "source": [
        "def f():\n",
        "    return lambda x: lambda i : x*i**2\n",
        "\n",
        "f()(2)(10) # f()(i)(x)"
      ]
    },
    {
      "attachments": {},
      "cell_type": "markdown",
      "metadata": {
        "id": "cYZ5ODwzNdB2"
      },
      "source": [
        "### lambda 실무 응용"
      ]
    },
    {
      "attachments": {},
      "cell_type": "markdown",
      "metadata": {
        "id": "6ddTPCziN7mx"
      },
      "source": [
        "* `lambda`가 응용되는 곳 : map, filter, max, min, sorted"
      ]
    },
    {
      "cell_type": "code",
      "execution_count": null,
      "metadata": {
        "id": "sCj7rUupNabF"
      },
      "outputs": [],
      "source": [
        "# 실무에서도 많이 사용합니다.\n",
        "def 제곱(x):\n",
        "    return x ** 2\n",
        "\n",
        "# 재사용하는 경우 함수로 전달하는 경우도 있습니다.\n",
        "list(map(제곱, [1,2,3,4]))\n",
        "list(map(제곱, [1,2,3,4]))\n",
        "\n",
        "list(map(lambda x: x**2, [1,2,3,4]))"
      ]
    },
    {
      "cell_type": "code",
      "execution_count": null,
      "metadata": {
        "colab": {
          "base_uri": "https://localhost:8080/"
        },
        "id": "hLom3x8FOT_5",
        "outputId": "7d201642-4a85-4571-f0d0-9d92360b5e85"
      },
      "outputs": [
        {
          "name": "stdout",
          "output_type": "stream",
          "text": [
            "[(1, 2), (2, 2), (3, 2), (4, 3), (5, 3)]\n",
            "[1, 4, 9, 64, 125]\n",
            "[1, 4, 9, 64, 125]\n",
            "[1, 4, 9, 64, 125]\n",
            "[125]\n",
            "[125]\n",
            "203\n",
            "203\n"
          ]
        }
      ],
      "source": [
        "# 실전문제\n",
        "숫자 = [1, 2, 3, 4, 5]\n",
        "승수 = [2, 2, 2, 3, 3]\n",
        "\n",
        "##1. 숫자의 승수를 zip으로 맵핑해서 진행하세요.\n",
        "result1 = list(zip(숫자, 승수))\n",
        "print(result1)\n",
        "\n",
        "kk = [(숫자[i], 승수[i]) for i in range(len(숫자))]\n",
        "\n",
        "##2. 숫자를 승수만큼 승수하여 결과값을 표현해주세요.\n",
        "result2 = list(map(lambda x: x[0]**x[1], zip(숫자, 승수)))\n",
        "print(result2)\n",
        "\n",
        "# zip을 안쓴다면... 이렇게 가능함\n",
        "kk = list(map(lambda x, y: x ** y, 숫자, 승수))\n",
        "print(kk)\n",
        "\n",
        "# list comprehension\n",
        "print([i**j for i, j in zip(숫자, 승수)])\n",
        "\n",
        "##3. 승수한 값이 100이상인 값을 출력하세요.\n",
        "result3 = list(filter(lambda x: x > 100, map(lambda x: x[0]**x[1], zip(숫자, 승수))))\n",
        "print(result3)\n",
        "\n",
        "# list comprehension\n",
        "print([i**j for i, j in zip(숫자, 승수) if i**j > 100])\n",
        "\n",
        "##4. 승수한 값을 모두 더하세요.\n",
        "result4 = sum(map(lambda x: x[0]**x[1], zip(숫자, 승수)))\n",
        "print(result4)\n",
        "\n",
        "# list comprehension\n",
        "print(sum([i**j for i, j in zip(숫자, 승수)]))\n"
      ]
    },
    {
      "cell_type": "code",
      "execution_count": null,
      "metadata": {
        "colab": {
          "base_uri": "https://localhost:8080/"
        },
        "id": "dWAbZYTIYrwA",
        "outputId": "370ee9cf-0215-4365-e330-eaf20b8b6e81"
      },
      "outputs": [
        {
          "data": {
            "text/plain": [
              "1"
            ]
          },
          "execution_count": 8,
          "metadata": {},
          "output_type": "execute_result"
        }
      ],
      "source": [
        "array = [1,5,2,3,6,8,7 ]\n",
        "next(enumerate(array))"
      ]
    },
    {
      "attachments": {},
      "cell_type": "markdown",
      "metadata": {
        "id": "d2lL-fnIiwTC"
      },
      "source": [
        "## !! 오늘 배운 것 정리 230509\n",
        "\n",
        "- 반복문\n",
        "\n",
        "  - 정해진 순서를(next) 반복하는 것\n",
        "  - 형태\n",
        "\n",
        "  ```python\n",
        "  # for 변수 in 순회가능한객체: # stopItoration까지 반복\n",
        "  #     code\n",
        "\n",
        "  # while 조건: # true까지 반복\n",
        "  #     code\n",
        "  ```\n",
        "\n",
        "  - 순회 가능한 객체(이터러블 객체) : 문자열, 리스트, 튜플, 딕셔너리, 셋, range, enumerate, map, set, sorted, reverse 등\n",
        "  - 순회 불가능한 객체 : int, float 등\n",
        "  - code 안에서 변수를 사용하지 않을 경우 언더바를 관습적으로 사용합니다.\n",
        "\n",
        "  ```python\n",
        "  # for _ in 순회가능한객체:\n",
        "  #     code\n",
        "  ```\n",
        "\n",
        "  - 반복문 다음 else 구문 : break 없이 정상 종료 되면 실행\n",
        "  - 반복문 안에 break 구문 : 자신을 감싸고 있는 반복문 1개 탈출\n",
        "  - 반복문 안에 continue 구문 : 다음 루프로 넘어감\n",
        "  - 반복문 안에 pass : 공백만 채워줄 뿐 아무 기능 없음\n",
        "\n",
        "- bulit-in function\n",
        "\n",
        "  - 수학적 통계에 활용되는 함수\n",
        "\n",
        "    - abs( ) : 괄호 안에 있는 값을 절대값으로 출력해줍니다.\n",
        "    - all( ) : 괄호 안에 있는 값들이 모두 True(False)일 때 True(False)를 출력합니다.\n",
        "    - any( ) : 괄호안에 있는 값이 하나라고 True이면 True로 출력합니다.\n",
        "    - pow( ) : 제곱을 출력합니다.\n",
        "    - max( ) : 값의 최댓값을 출력합니다.\n",
        "    - min( ) : 값의 최솟값을 출력합니다.\n",
        "    - sum( ) : 값의 합계를 출력합니다.\n",
        "    - len( ) : 문자열의 길이를 출력합니다.\n",
        "    - sorted( ) : 데이터를 정렬해줍니다.\n",
        "    - reversed( ) : 정렬되지 않은 상태에서 값을 역순으로 출력합니다.\n",
        "\n",
        "  - 형변환 함수\n",
        "\n",
        "    - set( )\n",
        "    - dict( )\n",
        "    - hex( ) : 16진법\n",
        "    - bin( ) : 2진법\n",
        "    - oct( ) : 8진법\n",
        "    - bool( )\n",
        "    - str( )\n",
        "    - ord( ) : 각각의 문자에 대한 숫자값을 출력해줍니다.(유니코드표를 참고하세요.)\n",
        "    - float( )\n",
        "    - tuple( )\n",
        "    - chr( ) : 숫자값을 통해서 문자를 출력합니다.\n",
        "    - list( )\n",
        "    - range( )\n",
        "    - complex( )\n",
        "\n",
        "  - 도움말\n",
        "\n",
        "    - help( )\n",
        "\n",
        "  - object 관련 함수\n",
        "\n",
        "    - dir( )\n",
        "    - id( )\n",
        "    - type( )\n",
        "\n",
        "  - 순회 가능한 객체\n",
        "    - enumerate( ) : 값에 순위를 매기고 싶을 때 사용합니다.\n",
        "    - range( )\n",
        "    - sorted( )\n",
        "    - reversed( )\n",
        "    - filter( )\n",
        "    - zip( )\n",
        "    - map( )\n",
        "\n",
        "- args, kargs\n",
        "\n",
        "  - 가변 아규먼트, 가변 키워드 아규먼트\n",
        "\n",
        "  ```python\n",
        "  def print_args(*args): # 꼭 args가 될 필요는 없습니다.\n",
        "      print(args)\n",
        "\n",
        "  print_args(100, True, 'leehojun')\n",
        "\n",
        "  ####\n",
        "\n",
        "  def print_kwargs(**kwargs): # 꼭 kargs가 될 필요는 없습니다.\n",
        "  print(kwargs)\n",
        "\n",
        "  print_kwargs(name='leehojun', age='10')\n",
        "  ```\n",
        "\n",
        "- lambda\n",
        "\n",
        "  - lambda 는 익명함수라고 하며, 이름이 없는 함수\n",
        "  - 보통은 다시 사용되지 않을 함수를 선언할 때 사용\n",
        "\n",
        "  ```python\n",
        "  leehojun = lambda x : x**2\n",
        "\n",
        "  # def leehojun(x):\n",
        "  #     return x ** 2\n",
        "\n",
        "  list(map(lambda x : x ** 2, [1, 2, 3, 4]))\n",
        "  ```\n"
      ]
    },
    {
      "attachments": {},
      "cell_type": "markdown",
      "metadata": {
        "id": "OC0pcPegBRtT"
      },
      "source": [
        "## 클래스"
      ]
    },
    {
      "attachments": {},
      "cell_type": "markdown",
      "metadata": {
        "id": "VL74pRf7BTBA"
      },
      "source": [
        "* 클래스는 데이터(멤버)와 기능(메서드)을 가지고 있는 인스턴트 객체를 생성하기 위한 역할을 합니다.\n",
        "* 우리가 배우고 있는 Python은 객체지향 프로그래밍 언어"
      ]
    },
    {
      "cell_type": "code",
      "execution_count": null,
      "metadata": {
        "id": "hJ1f9UBHCJrW"
      },
      "outputs": [],
      "source": [
        "class CarFactory(object): # 첫 문자는 대문자입니다.(관습)\n",
        "    max_speed = 300\n",
        "    max_people = 5\n",
        "\n",
        "    # self는 자기자신을 가리키기 때문에 함수를 호출한 인스턴스를 가리킵니다.\n",
        "    def move(self,x):\n",
        "        print(x, '의 스피드로 움직이고 있습니다.') \n",
        "    \n",
        "    def stop(self):\n",
        "        print('멈췄습니다.')\n",
        "\n",
        "# 클래스로 바로 접근해서 무엇을 하는 것을 권고하지 않습니다.\n",
        "# 인스턴스 변수와 클래스 변수에 대한 개념을 제대로 알지 못하는 상태에서...\n",
        "print(CarFactory.max_speed) \n",
        "\n",
        "k5 = CarFactory() # 붕어빵(인스턴스) = 붕어빵틀(클래스)\n",
        "k3 = CarFactory() # 차(인스턴스) = 자동차공장(클래스)\n"
      ]
    },
    {
      "cell_type": "code",
      "execution_count": null,
      "metadata": {
        "colab": {
          "base_uri": "https://localhost:8080/"
        },
        "id": "TSRUUu9IEiee",
        "outputId": "2eb917c6-6a53-4c16-96e9-e41844201e0f"
      },
      "outputs": [
        {
          "name": "stdout",
          "output_type": "stream",
          "text": [
            "300\n",
            "의 스피드로 움직이고 있습니다.\n",
            "의 스피드로 움직이고 있습니다.\n",
            "멈췄습니다.\n",
            "멈췄습니다.\n",
            "300\n"
          ]
        }
      ],
      "source": [
        "class CarFactory(object): \n",
        "    max_speed = 300\n",
        "    max_people = 5\n",
        "\n",
        "    def move(self):\n",
        "        print('움직이고 있습니다.') \n",
        "    \n",
        "    def stop(self):\n",
        "        print('멈췄습니다.')\n",
        "\n",
        "print(CarFactory.max_speed) \n",
        "\n",
        "k5 = CarFactory() \n",
        "k3 = CarFactory() \n",
        "k5.move()\n",
        "k3.move()\n",
        "k5.stop()\n",
        "k3.stop()\n",
        "print(k5.max_speed)"
      ]
    },
    {
      "cell_type": "code",
      "execution_count": null,
      "metadata": {
        "colab": {
          "base_uri": "https://localhost:8080/"
        },
        "id": "4MakgcLJE5sf",
        "outputId": "e51e423d-77b5-4c1c-cdc9-35b889da7b0e"
      },
      "outputs": [
        {
          "name": "stdout",
          "output_type": "stream",
          "text": [
            "300\n",
            "케이파이브      케이파이브차가 움직이고 있습니다.\n",
            "케이쓰리       케이쓰리차가 움직이고 있습니다.\n",
            "케이파이브 차가 멈췄습니다.\n",
            "케이쓰리 차가 멈췄습니다.\n",
            "300\n"
          ]
        }
      ],
      "source": [
        "# 메서드 : 클래스 내의 함수\n",
        "# 멤버 : 클래스 내의 변수\n",
        "\n",
        "# 클래스는 멤버와 메서드로 이루어져있는데 멤버와 메서드를 어트리뷰트라고 함\n",
        "# 메서드는 일반 메서드와 매직 메서드로 나줘짐\n",
        "# 클래스는 틀 인스턴스는 찍어나온 것\n",
        "\n",
        "class CarFactory(object): \n",
        "    max_speed = 300\n",
        "    max_people = 5\n",
        "\n",
        "    def __init__(self, user_input_name):   # 인스턴스가 만들어질 때 실행되는 메서드\n",
        "        self.name = user_input_name\n",
        "\n",
        "    def move(self):\n",
        "        print(self.name, f'{f\"{self.name}\":>10}차가 움직이고 있습니다.') # 문자열이 아닐 수 있는  변수는 이렇게 포매팅! \n",
        "    \n",
        "    def stop(self):\n",
        "        print(self.name, '차가 멈췄습니다.')\n",
        "\n",
        "print(CarFactory.max_speed) \n",
        "\n",
        "k5 = CarFactory('케이파이브') \n",
        "k3 = CarFactory('케이쓰리') \n",
        "k5.move()\n",
        "k3.move()\n",
        "k5.stop()\n",
        "k3.stop()\n",
        "print(k5.max_speed)"
      ]
    },
    {
      "cell_type": "code",
      "execution_count": null,
      "metadata": {
        "colab": {
          "base_uri": "https://localhost:8080/"
        },
        "id": "xNMkgyBdHNW8",
        "outputId": "0eb6bd02-07d2-457e-bcd7-f606fe7ca6cc"
      },
      "outputs": [
        {
          "name": "stdout",
          "output_type": "stream",
          "text": [
            "<class '__main__.CarFactory'>\n",
            "['__class__', '__delattr__', '__dict__', '__dir__', '__doc__', '__eq__', '__format__', '__ge__', '__getattribute__', '__gt__', '__hash__', '__init__', '__init_subclass__', '__le__', '__lt__', '__module__', '__ne__', '__new__', '__reduce__', '__reduce_ex__', '__repr__', '__setattr__', '__sizeof__', '__str__', '__subclasshook__', '__weakref__', 'max_people', 'max_speed', 'move', 'name', 'stop']\n"
          ]
        }
      ],
      "source": [
        "print(type(k3))\n",
        "print(dir(k3))\n",
        "# 'max_people', 멤버\n",
        "# 'max_speed', 멤버\n",
        "# 'move', 메서드\n",
        "# 'name', 멤버\n",
        "# 'stop' 메서드"
      ]
    },
    {
      "cell_type": "code",
      "execution_count": null,
      "metadata": {
        "colab": {
          "base_uri": "https://localhost:8080/"
        },
        "id": "AOVmWFzPGFMr",
        "outputId": "70f58ab9-4817-4e2d-e05b-e32acc0615ea"
      },
      "outputs": [
        {
          "name": "stdout",
          "output_type": "stream",
          "text": [
            "<class 'list'>\n",
            "['__add__', '__class__', '__class_getitem__', '__contains__', '__delattr__', '__delitem__', '__dir__', '__doc__', '__eq__', '__format__', '__ge__', '__getattribute__', '__getitem__', '__gt__', '__hash__', '__iadd__', '__imul__', '__init__', '__init_subclass__', '__iter__', '__le__', '__len__', '__lt__', '__mul__', '__ne__', '__new__', '__reduce__', '__reduce_ex__', '__repr__', '__reversed__', '__rmul__', '__setattr__', '__setitem__', '__sizeof__', '__str__', '__subclasshook__', 'append', 'clear', 'copy', 'count', 'extend', 'index', 'insert', 'pop', 'remove', 'reverse', 'sort']\n"
          ]
        }
      ],
      "source": [
        "l = [10,20,30]\n",
        "print(type(l))\n",
        "print(dir(l))\n",
        "# 메소드\n",
        "# 'append', 'clear', 'copy', 'count', 'extend', \n",
        "# 'index', 'insert', 'pop', 'remove', 'reverse', 'sort'"
      ]
    },
    {
      "cell_type": "code",
      "execution_count": null,
      "metadata": {
        "id": "dmh-Az2BIIbm"
      },
      "outputs": [],
      "source": [
        "# 이런 식으로 정의되어있음! cpython에서 찾아볼 수 있다!\n",
        "\n",
        "# class list(object):\n",
        "#     def __add__(self):\n",
        "#         pass\n",
        "#     def __class__(self):\n",
        "#         pass\n",
        "#     def __class_getitem__(self):\n",
        "#         pass\n",
        "#     def __contains__(self):\n",
        "#         pass\n",
        "#     def __delattr__(self):\n",
        "#         pass\n",
        "#     def __delitem__(self):\n",
        "#         pass\n",
        "#     def __dir__(self):\n",
        "#         pass\n",
        "#     def __doc__(self):\n",
        "#         pass\n",
        "#     def __eq__(self):\n",
        "#         pass\n",
        "#     def __format__(self):\n",
        "#         pass\n",
        "#     def __ge__(self):\n",
        "#         pass\n",
        "#     def  생략.(self):\n",
        "#         pass\n",
        "#     def append(self):\n",
        "#         pass\n",
        "#     def clear(self):\n",
        "#         pass\n",
        "#     def copy(self):\n",
        "#         pass\n",
        "#     def count(self):\n",
        "#         pass\n",
        "#     def extend(self):\n",
        "#         pass\n",
        "#     def index(self):\n",
        "#         pass\n",
        "#     def insert(self):\n",
        "#         pass\n",
        "#     def pop(self):\n",
        "#         pass\n",
        "#     def remove(self):\n",
        "#         pass\n",
        "#     def reverse(self):\n",
        "#         pass\n",
        "#     def sor(self):\n",
        "#         pass"
      ]
    },
    {
      "cell_type": "code",
      "execution_count": null,
      "metadata": {
        "colab": {
          "base_uri": "https://localhost:8080/"
        },
        "id": "b71ELRuYFt3i",
        "outputId": "8db2c425-3ecf-411e-fed7-2d0612f6253e"
      },
      "outputs": [
        {
          "name": "stdout",
          "output_type": "stream",
          "text": [
            "30\n"
          ]
        }
      ],
      "source": [
        "d = {'one':1, 'two':2}\n",
        "# d.three = 30 # AttributeError\n",
        "d['three'] = 30 # 'three' 키에 30 값인 원소 생성\n",
        "print(d['three'])"
      ]
    },
    {
      "cell_type": "code",
      "execution_count": null,
      "metadata": {
        "colab": {
          "base_uri": "https://localhost:8080/"
        },
        "id": "VDWaEm4oVBwh",
        "outputId": "3a73a421-16b7-4507-af39-4be7aa084b43"
      },
      "outputs": [
        {
          "name": "stdout",
          "output_type": "stream",
          "text": [
            "k5.kinds: ['k5', 'k3']\n",
            "k3.kinds: ['k5', 'k3']\n",
            "k5.speed: 500\n",
            "k3.speed: 250\n"
          ]
        }
      ],
      "source": [
        "# 클래스 변수\n",
        "# 클래스 바로 하위에 자리하고 있는 변수\n",
        "# 모든 인스턴스 객체들이 공유\n",
        "# 클래스 이름을 통해서 접근할 수 있음\n",
        "\n",
        "class Car(object):\n",
        "\tkinds = []\n",
        "\tspeed = 300\n",
        "    # IndentationError: unindent does not match any outer indentation level\n",
        "    # self.kk = 10  # error\n",
        "\n",
        "    # kind가 인스턴스 레벨에 없어서\n",
        "    # class 변수로 접근하는 거고\n",
        "    # speed는 값을 = 로 할당했기 때문에 인스턴스 변수가 생기는 것.\n",
        "\tdef add_kinds(self, name):\n",
        "\t\tself.kinds.append(name)\n",
        "\tdef change_speed(self, speed):\n",
        "\t\tself.speed = speed\n",
        "\n",
        "k5 = Car()\n",
        "k3 = Car()\n",
        "k5.add_kinds('k5')\n",
        "k3.add_kinds('k3')\n",
        "k5.change_speed(500)\n",
        "k3.change_speed(250)\n",
        "\n",
        "print('k5.kinds:', k5.kinds)\n",
        "print('k3.kinds:', k3.kinds)\n",
        "print('k5.speed:',k5.speed) # speed는 공유하지 않음\n",
        "print('k3.speed:',k3.speed)\n",
        "# Car.mama\n",
        "# k5.mama"
      ]
    },
    {
      "cell_type": "code",
      "execution_count": null,
      "metadata": {
        "colab": {
          "base_uri": "https://localhost:8080/"
        },
        "id": "iqhEAHjcZkG1",
        "outputId": "df147421-a6f3-4dba-8987-b4d51f8188e9"
      },
      "outputs": [
        {
          "name": "stdout",
          "output_type": "stream",
          "text": [
            "500\n",
            "300\n",
            "300\n",
            "140191215498768 인스턴스 멤버\n",
            "140191215498864 클래스 멤버\n",
            "140191215498864 클래스 멤버\n",
            "['k5', 'k5', 'k3', 'k3']\n",
            "['k5', 'k5', 'k3', 'k3']\n",
            "['k5', 'k5', 'k3', 'k3']\n",
            "140191215148224 클래스 멤버\n",
            "140191215148224 클래스 멤버\n",
            "140191215148224 클래스 멤버\n"
          ]
        }
      ],
      "source": [
        "# 클래스 변수\n",
        "# 클래스 바로 하위에 자리하고 있는 변수\n",
        "# 모든 인스턴스 객체들이 공유\n",
        "# 클래스 이름을 통해서 접근할 수 있음\n",
        "\n",
        "class Car(object):\n",
        "    kinds = []\n",
        "    speed = 300\n",
        "    # IndentationError: unindent does not match any outer indentation level\n",
        "    # self.kk = 10  # error\n",
        "\n",
        "    # kind가 인스턴스 레벨에 없어서\n",
        "    # class 변수로 접근하는 거고\n",
        "    # speed는 값을 = 로 할당했기 때문에 인스턴스 변수가 생기는 것.\n",
        "    def add_kinds(self, name):\n",
        "        Car.kinds.append(name)\n",
        "        self.kinds.append(name)\n",
        "\n",
        "    def change_speed(self, speed):\n",
        "        self.speed = speed\n",
        "\n",
        "k5 = Car()\n",
        "k3 = Car()\n",
        "k5.speed = 500  # k5 인스턴스 안에 speed라는 변수를 만들어서 500을 넣음\n",
        "k3.speed        # k3 에서 speed 부르면 클래스 멤버인 speed를 호출\n",
        "\n",
        "print(k5.speed)\n",
        "print(k3.speed)\n",
        "print(Car.speed)\n",
        "\n",
        "print(id(k5.speed), '인스턴스 멤버')\n",
        "print(id(k3.speed), '클래스 멤버')\n",
        "print(id(Car.speed), '클래스 멤버')\n",
        "\n",
        "k5.add_kinds('k5')\n",
        "k3.add_kinds('k3')\n",
        "\n",
        "print(k5.kinds)\n",
        "print(k3.kinds)\n",
        "print(Car.kinds)\n",
        "\n",
        "print(id(k5.kinds), '클래스 멤버')\n",
        "print(id(k3.kinds), '클래스 멤버')\n",
        "print(id(Car.kinds), '클래스 멤버')\n",
        "\n",
        "## 할당연산자를 사용하면... 인스턴스 멤버로 변경됨!?"
      ]
    },
    {
      "cell_type": "code",
      "execution_count": null,
      "metadata": {
        "colab": {
          "base_uri": "https://localhost:8080/"
        },
        "id": "jsdWIc8pAYJx",
        "outputId": "091bd1eb-41b1-463f-8de2-0d6781779582"
      },
      "outputs": [
        {
          "name": "stdout",
          "output_type": "stream",
          "text": [
            "500\n",
            "300\n",
            "300\n",
            "140191215499920 인스턴스 멤버\n",
            "140191215498608 클래스 멤버\n",
            "140191215498608 클래스 멤버\n",
            "['k5', 'k3']\n",
            "['k5', 'k3']\n",
            "['k5', 'k3']\n",
            "140191213398848 클래스 멤버\n",
            "140191213398848 클래스 멤버\n",
            "140191213398848 클래스 멤버\n",
            "['test5test5']\n",
            "['test3test3']\n",
            "['test5', 'test3']\n",
            "140191213351104 인스턴스 멤버\n",
            "140191213439424 인스턴스 멤버\n",
            "140191213183232 클래스 멤버\n"
          ]
        }
      ],
      "source": [
        "# 클래스 멤버인지 인스턴스 멤버인지!!!!!!!!!!!!!!!!!!!!!!!!!!!!!\n",
        "\n",
        "class Car(object):\n",
        "    kinds = []\n",
        "    speed = 300\n",
        "    test = []\n",
        "    # self.maybenot = 10 # NameError: name 'self' is not defined\n",
        "\n",
        "    def add_kinds(self, name):\n",
        "        self.kinds.append(name)\n",
        "\n",
        "    def change_speed(self, speed):\n",
        "        self.speed = speed\n",
        "    \n",
        "    def change_test(self, nn):\n",
        "        self.test += [nn]   ## 이거는 클래스 멤버 test에 추가\n",
        "        self.test = [nn*2]  ## 이거는 인스턴스 멤버 변수 생성\n",
        "\n",
        "k5 = Car()\n",
        "k3 = Car()\n",
        "k5.speed = 500  # k5 인스턴스 안에 speed라는 변수를 만들어서 500을 넣음\n",
        "k3.speed        # k3 에서 speed 부르면 클래스 멤버인 speed를 호출\n",
        "\n",
        "print(k5.speed)\n",
        "print(k3.speed)\n",
        "print(Car.speed)\n",
        "\n",
        "print(id(k5.speed), '인스턴스 멤버')\n",
        "print(id(k3.speed), '클래스 멤버')\n",
        "print(id(Car.speed), '클래스 멤버')\n",
        "\n",
        "k5.add_kinds('k5')\n",
        "k3.add_kinds('k3')\n",
        "\n",
        "print(k5.kinds)\n",
        "print(k3.kinds)\n",
        "print(Car.kinds)\n",
        "\n",
        "print(id(k5.kinds), '클래스 멤버')\n",
        "print(id(k3.kinds), '클래스 멤버')\n",
        "print(id(Car.kinds), '클래스 멤버')\n",
        "\n",
        "## 할당연산자를 사용하면... 인스턴스 멤버로 변경됨!?\n",
        "k5.change_test('test5')\n",
        "k3.change_test('test3')\n",
        "\n",
        "print(k5.test)\n",
        "print(k3.test)\n",
        "print(Car.test)\n",
        "\n",
        "print(id(k5.test), '인스턴스 멤버')\n",
        "print(id(k3.test), '인스턴스 멤버')\n",
        "print(id(Car.test), '클래스 멤버')"
      ]
    },
    {
      "cell_type": "code",
      "execution_count": null,
      "metadata": {
        "colab": {
          "base_uri": "https://localhost:8080/",
          "height": 90
        },
        "id": "6BoHUiepWJH5",
        "outputId": "1d606ef4-57f1-49ed-9823-51f32dacea1a"
      },
      "outputs": [
        {
          "name": "stdout",
          "output_type": "stream",
          "text": [
            "슬라임이 1데미지로 공격했습니다.\n",
            "주인공의 체력이 9999이 되었습니다.\n",
            "2\n"
          ]
        },
        {
          "data": {
            "application/vnd.google.colaboratory.intrinsic+json": {
              "type": "string"
            },
            "text/plain": [
              "'왕슬라임슬라임'"
            ]
          },
          "execution_count": 71,
          "metadata": {},
          "output_type": "execute_result"
        }
      ],
      "source": [
        "주인공 = ['licat', 10000]\n",
        "class MobFactory(object):\n",
        "    def __init__(self, 이름, 공격력, 체력, 마력, 크기_너비, 크기_높이, 아이템확률, x, y):\n",
        "        self.name = 이름\n",
        "        self.power = 공격력\n",
        "        self.hp = 체력\n",
        "        self.mp = 마력\n",
        "        self.width = 크기_너비\n",
        "        self.height = 크기_높이\n",
        "        self.drop_rate = 아이템확률\n",
        "\n",
        "    def attack(self):\n",
        "        주인공[1] -= self.power\n",
        "        print(f'{self.name}이 {self.power}데미지로 공격했습니다.')\n",
        "        print(f'주인공의 체력이 {주인공[1]}이 되었습니다.')\n",
        "    \n",
        "    def __add__(self, next): # 슬라임 + 슬라임...\n",
        "        if self.name == '슬라임':\n",
        "            return MobFactory(f'왕{self.name + next.name}',\n",
        "                              self.power + next.power, \n",
        "                              10, 10, 2, 2, 100, 1, 1 )\n",
        "        return None\n",
        "\n",
        "슬라임 = MobFactory('슬라임', 1, 10, 10, 2, 2, 100, 1, 1)\n",
        "오크 = MobFactory('오크', 100, 100, 10, 5, 5, 80, 1, 1)\n",
        "고블린 = MobFactory('고블린', 10, 10, 10, 2, 2, 60, 1, 1)\n",
        "드래곤 = MobFactory('드래곤', 1000, 500, 10, 100, 100, 10, 20, 0)\n",
        "해골 = MobFactory('해골', 10, 5, 10, 2, 2, 100, 1, 1)\n",
        "\n",
        "슬라임.attack()\n",
        "왕슬라임 = 슬라임 + 슬라임\n",
        "print(왕슬라임.power)\n",
        "왕슬라임.name\n"
      ]
    },
    {
      "cell_type": "code",
      "execution_count": null,
      "metadata": {
        "colab": {
          "base_uri": "https://localhost:8080/"
        },
        "id": "vPffJkXLeP7N",
        "outputId": "3e1e946d-b051-4d5c-dbf1-f2c7dd6b25ad"
      },
      "outputs": [
        {
          "name": "stdout",
          "output_type": "stream",
          "text": [
            "x 방향으로 이동중입니다.\n",
            "현재 캐릭터의 위치는 10, 0\n",
            "licat이 드래곤을 10로 공격하였습니다.\n",
            "드래곤의 체력이 490가 되었습니다.\n",
            "공격할 수 없는 대상입니다.\n"
          ]
        }
      ],
      "source": [
        "# 캐릭터 클래스 만들어보기.\n",
        "# 상상력!!!!! 체력회복, 이동, 스킬 등등~\n",
        "class Character(object):\n",
        "    def __init__(self, 이름, 체력, 마력, 공격력, 사정거리, 크기_너비, 크기_높이, x, y):\n",
        "        self.name = 이름\n",
        "        self.hp = 체력\n",
        "        self.mp = 마력\n",
        "        self.power = 공격력\n",
        "        self.range = 사정거리\n",
        "        self.width = 크기_너비\n",
        "        self.height = 크기_높이\n",
        "        self.pos_x = x\n",
        "        self.pos_y = y\n",
        "    \n",
        "    def move_x(self, n):\n",
        "        self.pos_x += n\n",
        "        print('x 방향으로 이동중입니다.')\n",
        "        print(f'현재 캐릭터의 위치는 {self.pos_x}, {self.pos_y}')\n",
        "\n",
        "    def move_y(self, n):\n",
        "        self.pos_x += n\n",
        "        print('y 방향으로 이동중입니다.')\n",
        "        print(f'현재 캐릭터의 위치는 {self.pos_x}, {self.pos_y}')\n",
        "    \n",
        "    def attack(self, mob):\n",
        "        if isinstance(mob, MobFactory):\n",
        "            mob.hp -= self.power\n",
        "            print(f'{self.name}이 {mob.name}을 {self.power}로 공격하였습니다.')\n",
        "            print(f'{mob.name}의 체력이 {mob.hp}가 되었습니다.')\n",
        "        else:\n",
        "            print('공격할 수 없는 대상입니다.')\n",
        "\n",
        "라이캣 = Character('licat', 10000, 2000, 10, 5, 5, 5, 0, 0)\n",
        "무라 = Character('mura', 7000, 5000, 30, 15, 3, 3, 1, 2)\n",
        "\n",
        "라이캣.move_x(10)\n",
        "라이캣.attack(드래곤)\n",
        "무라.attack(라이캣)\n",
        "    \n",
        "        "
      ]
    },
    {
      "cell_type": "code",
      "execution_count": null,
      "metadata": {
        "colab": {
          "base_uri": "https://localhost:8080/"
        },
        "id": "aDzTmKVMjwZs",
        "outputId": "1f2517d8-0b50-4c4a-974b-a9277f23e2df"
      },
      "outputs": [
        {
          "name": "stdout",
          "output_type": "stream",
          "text": [
            "오늘 제주의 날씨\n",
            "오늘 부산의 날씨\n",
            "오늘 강원도의 날씨\n",
            "\n",
            "오늘 제주의 날씨\n",
            "오늘 제주의 날씨는 참 좋네요! 미세먼지 농도도 낮아요!\n",
            "0\n",
            "이호준\n",
            "2023/05/10\n",
            "\n",
            "<h2>오늘 제주의 날씨</h2>\n",
            "<p>오늘 제주의 날씨는 참 좋네요! 미세먼지 농도도 낮아요!</p>\n",
            "<p>0</p>\n",
            "<p>이호준</p>\n",
            "<p>2023/05/10</p>\n"
          ]
        }
      ],
      "source": [
        "# 조금 쉬운 예제\n",
        "# 이 코드는 가능하면 두 세번 써보시길 권해드립니다.\n",
        "\n",
        "class BlogFactory(object):\n",
        "    def __init__(self, 제목, 내용, 조회수, 글쓴이, 생성날짜):\n",
        "        self.title = 제목\n",
        "        self.content = 내용\n",
        "        self.count = 조회수\n",
        "        self.writer = 글쓴이\n",
        "        self.create_date = 생성날짜\n",
        "\n",
        "게시글1 = BlogFactory(\n",
        "    '오늘 제주의 날씨',\n",
        "    '오늘 제주의 날씨는 참 좋네요! 미세먼지 농도도 낮아요!',\n",
        "    '0',\n",
        "    '이호준',\n",
        "    '2023/05/10')\n",
        "\n",
        "게시글2 = BlogFactory(\n",
        "    '오늘 부산의 날씨',\n",
        "    '오늘 부산의 날씨는 참 좋네요! 파도도 낮아요!',\n",
        "    '10000',\n",
        "    '김재현',\n",
        "    '2023/05/10')\n",
        "\n",
        "게시글3 = BlogFactory(\n",
        "    '오늘 강원도의 날씨',\n",
        "    '오늘 강원도의 날씨는 참 좋네요! 공기가 상쾌해요!',\n",
        "    '9999',\n",
        "    '남궁 범',\n",
        "    '2023/05/10')\n",
        "\n",
        "# 모든 요소 불러내는 법\n",
        "# objects.all()\n",
        "\n",
        "data = [게시글1, 게시글2, 게시글3]\n",
        "\n",
        "for i in data:\n",
        "    print(i.title)\n",
        "\n",
        "print()\n",
        "\n",
        "for i in data:\n",
        "    if i.writer == '이호준':\n",
        "        # django 에서는 이런 식으로 태그로 감싸서..\n",
        "        print(i.title)\n",
        "        print(i.content)\n",
        "        print(i.count)\n",
        "        print(i.writer)\n",
        "        print(i.create_date)\n",
        "\n",
        "print()\n",
        "\n",
        "for i in data:\n",
        "    if i.writer == '이호준':\n",
        "        # django 에서는 이런 식으로 태그로 감싸서..\n",
        "        print(f'<h2>{i.title}</h2>')\n",
        "        print(f'<p>{i.content}</p>')\n",
        "        print(f'<p>{i.count}</p>')\n",
        "        print(f'<p>{i.writer}</p>')\n",
        "        print(f'<p>{i.create_date}</p>')\n"
      ]
    },
    {
      "attachments": {},
      "cell_type": "markdown",
      "metadata": {
        "id": "fyRU4d1K621_"
      },
      "source": [
        "* Data model : https://docs.python.org/3/reference/datamodel.html\n",
        "* 매직메서드 정의된것 설명나와있음\n",
        "* 저 페이지에서 `__lt__` 로 검색하면 기호랑 관련된거 볼수있음\n"
      ]
    },
    {
      "cell_type": "code",
      "execution_count": null,
      "metadata": {
        "colab": {
          "base_uri": "https://localhost:8080/"
        },
        "id": "OKNU0MeF5xJm",
        "outputId": "9a5951a4-7f0e-4e82-fe9e-d4bb8f94f85a"
      },
      "outputs": [
        {
          "name": "stdout",
          "output_type": "stream",
          "text": [
            "오늘 제주의 날씨\n",
            "오늘 부산의 날씨\n",
            "오늘 강원도의 날씨\n",
            "hello hello\n"
          ]
        }
      ],
      "source": [
        "# 조금 쉬운 예제 + 알파\n",
        "\n",
        "class BlogFactory(object):\n",
        "    dataset = []\n",
        "    def __init__(self, 제목, 내용, 조회수, 글쓴이, 생성날짜):\n",
        "        self.title = 제목\n",
        "        self.content = 내용\n",
        "        self.count = 조회수\n",
        "        self.writer = 글쓴이\n",
        "        self.create_date = 생성날짜\n",
        "        self.dataset.append(self)\n",
        "\n",
        "    def __str__(self):  # print 함수에 인자로 들어갔을 때 반환될 스트링..\n",
        "        return 'hello'\n",
        "\n",
        "게시글1 = BlogFactory(\n",
        "    '오늘 제주의 날씨',\n",
        "    '오늘 제주의 날씨는 참 좋네요! 미세먼지 농도도 낮아요!',\n",
        "    '0',\n",
        "    '이호준',\n",
        "    '2023/05/10')\n",
        "\n",
        "게시글2 = BlogFactory(\n",
        "    '오늘 부산의 날씨',\n",
        "    '오늘 부산의 날씨는 참 좋네요! 파도도 낮아요!',\n",
        "    '10000',\n",
        "    '김재현',\n",
        "    '2023/05/10')\n",
        "\n",
        "게시글3 = BlogFactory(\n",
        "    '오늘 강원도의 날씨',\n",
        "    '오늘 강원도의 날씨는 참 좋네요! 공기가 상쾌해요!',\n",
        "    '9999',\n",
        "    '남궁 범',\n",
        "    '2023/05/10')\n",
        "\n",
        "# 모든 요소 불러내는 법\n",
        "# objects.all()\n",
        "\n",
        "게시글1.dataset\n",
        "\n",
        "for i in 게시글1.dataset:\n",
        "    print(i.title)\n",
        "\n",
        "print(게시글1, 게시글2)\n",
        "\n"
      ]
    },
    {
      "cell_type": "code",
      "execution_count": null,
      "metadata": {
        "colab": {
          "base_uri": "https://localhost:8080/"
        },
        "id": "VT9zfoFT-RgZ",
        "outputId": "5e2f8a3c-eac2-4f6a-92b8-76d02521beb7"
      },
      "outputs": [
        {
          "name": "stdout",
          "output_type": "stream",
          "text": [
            "제목 : 오늘 제주의 날씨, 내용 : 오늘 제주의 날씨는, 글쓴이: 이호준\n",
            "제목 : 오늘 부산의 날씨, 내용 : 오늘 부산의 날씨는, 글쓴이: 김재현\n"
          ]
        }
      ],
      "source": [
        "# 중요한 예제입니다.\n",
        "\n",
        "class BlogFactory(object):\n",
        "    dataset = []\n",
        "    def __init__(self, 제목, 내용, 조회수, 글쓴이, 생성날짜):\n",
        "        self.title = 제목\n",
        "        self.content = 내용\n",
        "        self.count = 조회수\n",
        "        self.writer = 글쓴이\n",
        "        self.create_date = 생성날짜\n",
        "        self.dataset.append(self)\n",
        "\n",
        "    def __str__(self):  # print 함수에 인자로 들어갔을 때 반환될 스트링..\n",
        "        return f'제목 : {self.title}, 내용 : {self.content[:10]}, 글쓴이: {self.writer}'\n",
        "\n",
        "게시글1 = BlogFactory(\n",
        "    '오늘 제주의 날씨',\n",
        "    '오늘 제주의 날씨는 참 좋네요! 미세먼지 농도도 낮아요!',\n",
        "    '0',\n",
        "    '이호준',\n",
        "    '2023/05/10')\n",
        "\n",
        "게시글2 = BlogFactory(\n",
        "    '오늘 부산의 날씨',\n",
        "    '오늘 부산의 날씨는 참 좋네요! 파도도 낮아요!',\n",
        "    '10000',\n",
        "    '김재현',\n",
        "    '2023/05/10')\n",
        "\n",
        "게시글3 = BlogFactory(\n",
        "    '오늘 강원도의 날씨',\n",
        "    '오늘 강원도의 날씨는 참 좋네요! 공기가 상쾌해요!',\n",
        "    '9999',\n",
        "    '남궁 범',\n",
        "    '2023/05/10')\n",
        "\n",
        "print(게시글1)\n",
        "print(게시글2)\n",
        "\n"
      ]
    },
    {
      "cell_type": "code",
      "execution_count": null,
      "metadata": {
        "id": "ot1DU7Rs3Bki"
      },
      "outputs": [],
      "source": [
        "## 오늘의 질문!!!!!!!!!!!!!!!!!!!!!\n",
        "# 질문 : id를 객체가 아니라 count라는 정수값을 지정해줘서 증가시키고 싶습니다.\n",
        "# 답 : 아래코드처럼 사용하시면 됩니다.\n",
        "class BlogFactory(object):\n",
        "\n",
        "    count = 0\n",
        "\n",
        "    def __init__(self, 제목, 내용, 조회수, 글쓴이, 생성날짜):\n",
        "        ## 이런스킬... 자동으로 id를 매기고 총 생성된 개수도 알 수 있겠다.\n",
        "        BlogFactory.count += 1\n",
        "        self.id = BlogFactory.count\n",
        "        self.title = 제목\n",
        "        self.content = 내용\n",
        "        self.count = 조회수\n",
        "        self.writer = 글쓴이\n",
        "        self.create_date = 생성날짜\n",
        "\n",
        "    def __str__(self):\n",
        "        return f'{self.id}. 제목 : {self.title}, 내용 : {self.content[:5]}'\n",
        "\n",
        "게시글1 = BlogFactory(\n",
        "        '오늘 제주의 날씨',\n",
        "        '오늘 제주의 날씨는 참 좋네요! 블라블라',\n",
        "        '0',\n",
        "        '이호준',\n",
        "        '2023/05/10',\n",
        "    )\n",
        "\n",
        "게시글2 = BlogFactory(\n",
        "        '오늘 부산의 날씨',\n",
        "        '오늘 부산의 날씨는 참 좋네요! 블라블라',\n",
        "        '1000000',\n",
        "        '김재현',\n",
        "        '2023/05/10',\n",
        "    )\n",
        "\n",
        "print(게시글1)\n",
        "print(게시글2)"
      ]
    },
    {
      "cell_type": "code",
      "execution_count": null,
      "metadata": {
        "colab": {
          "base_uri": "https://localhost:8080/"
        },
        "id": "UKZOuOMh134b",
        "outputId": "b611ea17-1579-48f8-af74-c76193f4710a"
      },
      "outputs": [
        {
          "name": "stdout",
          "output_type": "stream",
          "text": [
            "0\n",
            "10\n",
            "5\n"
          ]
        }
      ],
      "source": [
        "class Counter:\n",
        "    def __init__(self, value = 0):\n",
        "        self.value = value\n",
        "\n",
        "    def increment(self, delta = 1):\n",
        "        self.value += delta\n",
        "\n",
        "    def decrement(self, delta = 1):\n",
        "        self.value -= delta\n",
        "\n",
        "counter = Counter()\n",
        "print(counter.value)\n",
        "counter.increment(10)\n",
        "print(counter.value)\n",
        "counter.decrement(5)\n",
        "print(counter.value)"
      ]
    },
    {
      "cell_type": "code",
      "execution_count": null,
      "metadata": {
        "colab": {
          "base_uri": "https://localhost:8080/"
        },
        "id": "W1Hw6hYVylZW",
        "outputId": "a51e3e08-3a63-4329-f346-b8bb2751c595"
      },
      "outputs": [
        {
          "name": "stdout",
          "output_type": "stream",
          "text": [
            "3\n",
            "3\n",
            "licat님이 커밋을 수행했습니다.\n",
            "licat님이 커밋을 수행했습니다.\n",
            "licat님이 커밋을 수행했습니다.\n",
            "mura님이 커밋을 수행했습니다.\n",
            "mura님이 커밋을 수행했습니다.\n",
            "총 커밋한 횟수 : 1입니다.\n",
            "총 커밋한 횟수 : 0입니다.\n",
            "되돌릴 게시물이 없습니다.\n",
            "jinsoo님이 커밋을 수행했습니다.\n",
            "jinsoo님이 커밋을 수행했습니다.\n",
            "이름:licat, 닉네임:li, 커밋수:3, 언어:['python', 'JAVA']\n",
            "이름:mura, 닉네임:mu, 커밋수:0, 언어:['python', 'JavaScript']\n",
            "이름:jinsoo, 닉네임:jin, 커밋수:2, 언어:['python', 'C++']\n",
            "3\n",
            "jinsoo님이 삭제되었습니다\n",
            "2\n",
            "2\n",
            "2\n"
          ]
        }
      ],
      "source": [
        "class UserInfo(object):\n",
        "    \n",
        "    user_total_list = []\n",
        "    \n",
        "    def __init__(self, name, nickname, phone, email, gender, language):\n",
        "        self.name = name\n",
        "        self.nickname = nickname\n",
        "        self.phone = phone\n",
        "        self.email = email\n",
        "        self.gender = gender\n",
        "        self.commit_count = 0\n",
        "        self.language = language\n",
        "        self.user_total_list.append(self)\n",
        "    \n",
        "    def __str__(self):\n",
        "        return f'이름:{self.name}, 닉네임:{self.nickname}, 커밋수:{self.commit_count}, 언어:{self.language}'\n",
        "\n",
        "    def commit(self):\n",
        "        self.commit_count += 1\n",
        "        print(f'{self.name}님이 커밋을 수행했습니다.')\n",
        "\n",
        "    def revert(self):\n",
        "        if self.commit_count == 0:\n",
        "            print('되돌릴 게시물이 없습니다.')\n",
        "        else:\n",
        "            self.commit_count -= 1\n",
        "            print(f'총 커밋한 횟수 : {self.commit_count}입니다.')\n",
        "\n",
        "    def delete_member(self):\n",
        "        idx = self.user_total_list.index(self)\n",
        "        self.user_total_list.pop(idx)\n",
        "        print(f'{self.name}님이 삭제되었습니다')\n",
        "    \n",
        "    def user_number(self):\n",
        "        return len(self.user_total_list)\n",
        "    \n",
        "    def user_num():\n",
        "        return len(UserInfo.user_total_list)\n",
        "    \n",
        "    @classmethod\n",
        "    def class_user_num(cls):\n",
        "        return len(cls.user_total_list)\n",
        "\n",
        "\n",
        "라이캣 = UserInfo('licat',\n",
        "               'li',\n",
        "               '010-1234-1234',\n",
        "               'lili@weniv.com',\n",
        "               'male',\n",
        "               ['python', 'JAVA'])\n",
        "무라 = UserInfo('mura',\n",
        "              'mu',\n",
        "              '010-1234-1234',\n",
        "              'mu@weniv.com',\n",
        "              'female',\n",
        "              ['python', 'JavaScript'])\n",
        "진수 = UserInfo('jinsoo',\n",
        "              'jin',\n",
        "              '010-1234-1234',\n",
        "              'jin@weniv.com',\n",
        "              'male',\n",
        "              ['python', 'C++'])\n",
        "\n",
        "print(UserInfo.user_num())\n",
        "print(UserInfo.class_user_num())\n",
        "\n",
        "라이캣.commit()\n",
        "라이캣.commit()\n",
        "라이캣.commit()\n",
        "\n",
        "무라.commit()\n",
        "무라.commit()\n",
        "무라.revert()\n",
        "무라.revert()\n",
        "무라.revert()\n",
        "\n",
        "진수.commit()\n",
        "진수.commit()\n",
        "\n",
        "print(라이캣)\n",
        "print(무라)\n",
        "print(진수)\n",
        "\n",
        "print(라이캣.user_number())\n",
        "\n",
        "진수.delete_member()\n",
        "\n",
        "print(라이캣.user_number())          # 인스턴스 함수\n",
        "print(UserInfo.user_num())          # 그냥함수\n",
        "print(UserInfo.class_user_num())    # 클래스함수"
      ]
    },
    {
      "cell_type": "code",
      "execution_count": null,
      "metadata": {
        "colab": {
          "base_uri": "https://localhost:8080/"
        },
        "id": "VwllJauw_WxT",
        "outputId": "15effb4b-a715-49ab-cd24-c86321951496"
      },
      "outputs": [
        {
          "name": "stdout",
          "output_type": "stream",
          "text": [
            "licat님이 커밋을 수행했습니다.\n",
            "licat님이 커밋을 수행했습니다.\n",
            "licat님이 커밋을 수행했습니다.\n",
            "mura님이 커밋을 수행했습니다.\n",
            "mura님이 커밋을 수행했습니다.\n",
            "총 커밋한 횟수 : 1입니다.\n",
            "총 커밋한 횟수 : 0입니다.\n",
            "되돌릴 게시물이 없습니다.\n",
            "jinsoo님이 커밋을 수행했습니다.\n",
            "jinsoo님이 커밋을 수행했습니다.\n",
            "이름:licat, 닉네임:li, 커밋수:3\n",
            "이름:mura, 닉네임:mu, 커밋수:0\n",
            "이름:jinsoo, 닉네임:jin, 커밋수:2\n",
            "3\n",
            "jinsoo님이 삭제되었습니다\n",
            "2\n",
            "\n",
            "\n",
            "\n",
            "제목:파이썬 길잡이1, 저자:이호준, 가격:23000\n",
            "제목:파이썬 길잡이1, 저자:이호준, 가격:23000\n",
            "책 파이썬 길잡이1의 후기가 작성되었습니다.\n",
            "책 파이썬 길잡이1의 후기가 작성되었습니다.\n",
            "책 파이썬 길잡이1의 후기가 작성되었습니다.\n",
            "파이썬 길잡이1의 책 리뷰 :\n",
            "['매우매우좋아요!', '정말좋아요!', '좋아요!']\n"
          ]
        }
      ],
      "source": [
        "# 각 class 만들고 인스턴스 2개 이상 넣어서 활용(출력, 수정) 해보세요\n",
        "# 총 30분\n",
        "\n",
        "class UserInfo(object):\n",
        "    \n",
        "    user_total_list = []\n",
        "    \n",
        "    def __init__(self, name, nickname, phone, email, gender, language):\n",
        "        self.name = name\n",
        "        self.nickname = nickname\n",
        "        self.phone = phone\n",
        "        self.email = email\n",
        "        self.gender = gender\n",
        "        self.commit_count = 0\n",
        "        self.language = language\n",
        "        self.user_total_list.append(self)\n",
        "    \n",
        "    def __str__(self):\n",
        "        return f'이름:{self.name}, 닉네임:{self.nickname}, 커밋수:{self.commit_count}'\n",
        "\n",
        "    def commit(self):\n",
        "        self.commit_count += 1\n",
        "        print(f'{self.name}님이 커밋을 수행했습니다.')\n",
        "\n",
        "    def revert(self):\n",
        "        if self.commit_count == 0:\n",
        "            print('되돌릴 게시물이 없습니다.')\n",
        "        else:\n",
        "            self.commit_count -= 1\n",
        "            print(f'총 커밋한 횟수 : {self.commit_count}입니다.')\n",
        "\n",
        "    def delete_member(self):\n",
        "        idx = self.user_total_list.index(self)\n",
        "        self.user_total_list.pop(idx)\n",
        "        print(f'{self.name}님이 삭제되었습니다')\n",
        "    \n",
        "    def user_num(self):\n",
        "        return len(self.user_total_list)\n",
        "\n",
        "라이캣 = UserInfo('licat', 'li', '010-1234-1234', 'lili@weniv.com', 'male', ['python', 'JAVA'])\n",
        "무라 = UserInfo('mura', 'mu', '010-1234-1234', 'mu@weniv.com', 'female', ['python', 'JavaScript'])\n",
        "진수 = UserInfo('jinsoo', 'jin', '010-1234-1234', 'jin@weniv.com', 'male', ['python', 'C++'])\n",
        "\n",
        "라이캣.commit()\n",
        "라이캣.commit()\n",
        "라이캣.commit()\n",
        "\n",
        "무라.commit()\n",
        "무라.commit()\n",
        "무라.revert()\n",
        "무라.revert()\n",
        "무라.revert()\n",
        "\n",
        "진수.commit()\n",
        "진수.commit()\n",
        "\n",
        "print(라이캣)\n",
        "print(무라)\n",
        "print(진수)\n",
        "\n",
        "print(라이캣.user_num())\n",
        "\n",
        "진수.delete_member()\n",
        "\n",
        "print(라이캣.user_num())\n",
        "\n",
        "print('\\n\\n')\n",
        "\n",
        "class BookInfo(object):\n",
        "\n",
        "    total_book_list = []\n",
        "\n",
        "    def __init__(self, title, writer, number, price, publisher):\n",
        "        self.title = title\n",
        "        self.writer = writer\n",
        "        self.number = number\n",
        "        self.price = price\n",
        "        self.publisher = publisher\n",
        "        self.review = []\n",
        "        self.total_book_list.append(self)\n",
        "    \n",
        "    def __str__(self):\n",
        "        return f'제목:{self.title}, 저자:{self.writer}, 가격:{self.price}'\n",
        "\n",
        "    def write_review(self, content):\n",
        "        self.review.append(content)\n",
        "        print(f'책 {self.title}의 후기가 작성되었습니다.')\n",
        "    \n",
        "    def view_review(self):\n",
        "        print(f'{self.title}의 책 리뷰 :')\n",
        "        print(self.review)\n",
        "\n",
        "\n",
        "\n",
        "파이썬길잡이 = BookInfo('파이썬 길잡이1', '이호준', '800', '23000','빠빠')\n",
        "파이썬길잡이2 = BookInfo('파이썬 길잡이2', '이호준', '850', '25000','빠빠')\n",
        "\n",
        "print(파이썬길잡이)\n",
        "print(파이썬길잡이2)\n",
        "\n",
        "파이썬길잡이.write_review('매우매우좋아요!')\n",
        "파이썬길잡이.write_review('정말좋아요!')\n",
        "파이썬길잡이.write_review('좋아요!')\n",
        "\n",
        "파이썬길잡이.view_review()\n"
      ]
    },
    {
      "cell_type": "code",
      "execution_count": null,
      "metadata": {
        "colab": {
          "base_uri": "https://localhost:8080/"
        },
        "id": "BJBpMgVvK5sf",
        "outputId": "c02bb820-bf84-4f08-8759-6cd5fb776d00"
      },
      "outputs": [
        {
          "data": {
            "text/plain": [
              "990000"
            ]
          },
          "execution_count": 35,
          "metadata": {},
          "output_type": "execute_result"
        }
      ],
      "source": [
        "# 1번째 스텝\n",
        "# 공개되는 정보, 공개되지 않는 정보\n",
        "# 멤버(정적 수치, 문자열)와 메서드(기능)\n",
        "\n",
        "class Product(object):\n",
        "    \n",
        "    def __init__(self, 품명, 가격):\n",
        "        self.product_name = 품명\n",
        "        self.price= 가격\n",
        "\n",
        "\n",
        "class UserInfo(object):\n",
        "\n",
        "    def __init__(self, \n",
        "                 이름,\n",
        "                 이메일,\n",
        "                 비밀번호,\n",
        "                 주요접속기기,\n",
        "                 주요접속국가,\n",
        "                 주요접속지역,\n",
        "                 마지막접속일자,\n",
        "                 회원가입날짜,\n",
        "                 별명,\n",
        "                 적립금,\n",
        "                 생일,\n",
        "                 휴대폰번호,\n",
        "                 휴대폰인증여부,\n",
        "                 고객등급,\n",
        "                 휴면계정여부):\n",
        "        \n",
        "        self.이름 = 이름\n",
        "        self.이메일 = 이메일\n",
        "        self.비밀번호 = 비밀번호\n",
        "        # self.주요접속기기 = \n",
        "        # self.주요접속국가 = \n",
        "        # self.주요접속지역 = \n",
        "        # self.마지막접속일자 = \n",
        "        # self.회원가입날짜 = \n",
        "        # self.별명 = \n",
        "        self.적립금 = 적립금\n",
        "        # self.생일 = \n",
        "        # self.휴대폰번호 = \n",
        "        # self.휴대폰인증여부 = \n",
        "        self.고객등급 = 고객등급\n",
        "        # self.휴면계정여부 = \n",
        "    \n",
        "    def 물품구매(self, product):\n",
        "        self.적립금 -= product.price\n",
        "\n",
        "    def 회원탈퇴(self):\n",
        "        pass\n",
        "\n",
        "    def 장바구니등록(self):\n",
        "        pass\n",
        "\n",
        "자전거 = Product('bycle', 10000)\n",
        "\n",
        "이호준 = UserInfo(\n",
        "    이름 = '이호준',\n",
        "    이메일 = 'hojun@gmail.com',\n",
        "    비밀번호 = 'helloworld!',\n",
        "    주요접속기기 = 'Android',\n",
        "    주요접속국가 = 'Korea',\n",
        "    주요접속지역 = 'Jeju',\n",
        "    마지막접속일자 = '23/05/10',\n",
        "    회원가입날짜 = '23/05/10',\n",
        "    별명 = 'jun',\n",
        "    적립금 = 1000000,\n",
        "    생일 = '13/13',\n",
        "    휴대폰번호 = '010-1234-1234',\n",
        "    휴대폰인증여부 = True,\n",
        "    고객등급 = 'VIP',\n",
        "    휴면계정여부 = False)\n",
        "\n",
        "\n",
        "이호준.물품구매(자전거)\n",
        "이호준.적립금"
      ]
    },
    {
      "cell_type": "code",
      "execution_count": null,
      "metadata": {
        "id": "JWSUlwZ48dx2"
      },
      "outputs": [],
      "source": [
        "# python read only method 만드는법??"
      ]
    },
    {
      "cell_type": "code",
      "execution_count": null,
      "metadata": {
        "colab": {
          "base_uri": "https://localhost:8080/"
        },
        "id": "Ghgx6N0rQ_Pi",
        "outputId": "b6896d78-6ecf-4560-b2b1-3760e806cc7d"
      },
      "outputs": [
        {
          "name": "stdout",
          "output_type": "stream",
          "text": [
            "98d234db7e91f5ba026a25d0d6f17bc5ee0a347ea2216b0c9de06d43536d49f4\n"
          ]
        }
      ],
      "source": [
        "import hashlib\n",
        "\n",
        "pw = hashlib.sha256()\n",
        "pw.update('helloworld!'.encode('utf-8'))\n",
        "print(pw.hexdigest()) # 영화, 음악, 소설, 암호 뭐든지 64자로 만듭니다.\n",
        "\n",
        "# 단방향으로 바꿔줌. 결과물을 보고 input을 알 수 없음!\n",
        "\n"
      ]
    },
    {
      "cell_type": "code",
      "execution_count": null,
      "metadata": {
        "colab": {
          "base_uri": "https://localhost:8080/"
        },
        "id": "ouCkpf-YXABa",
        "outputId": "5e35f3ec-e2ab-4216-ad6a-19eb919a5fc0"
      },
      "outputs": [
        {
          "name": "stdout",
          "output_type": "stream",
          "text": [
            "현재 200의 스피드로 달리고 있습니다.\n"
          ]
        }
      ],
      "source": [
        "class Car(object):\n",
        "\n",
        "    MaxSpeed = 300\n",
        "    MaxPeoeple = 5\n",
        "\n",
        "    def __init__(self):\n",
        "        pass\n",
        "\n",
        "    def move(self, x):\n",
        "        pass\n",
        "\n",
        "    def stop(self):\n",
        "        print('멈췄습니다.')\n",
        "\n",
        "    @staticmethod #decorator\n",
        "    def 스피드배속(현재스피드, 배속할스피드):\n",
        "        print(f'현재 {현재스피드 * 배속할스피드}의 스피드로 달리고 있습니다.')\n",
        "\n",
        "Car.스피드배속(100, 2)  # 붕어빵 찍는 틀이 얼마나 붕어빵을 만들어내는가?"
      ]
    },
    {
      "cell_type": "code",
      "execution_count": null,
      "metadata": {
        "id": "U_6m_xp4X1Q1"
      },
      "outputs": [],
      "source": [
        "# 예를들어\n",
        "# 클래스에서 함수를 호출해서 사용하고 싶을 때 static 메서드가 필요하다!\n",
        "\n",
        "# class Hotel():\n",
        "#     pass\n",
        "\n",
        "# Hotel.빈방있는호텔() #전체 호텔의 빈방이 있는\n",
        "# 호텔1.빈방() #호텔 1의 빈방"
      ]
    },
    {
      "attachments": {},
      "cell_type": "markdown",
      "metadata": {
        "id": "UKhGuHFdYaQf"
      },
      "source": [
        "## 상속 (inheritance)"
      ]
    },
    {
      "cell_type": "code",
      "execution_count": null,
      "metadata": {
        "colab": {
          "base_uri": "https://localhost:8080/"
        },
        "id": "VBo5aNclYboj",
        "outputId": "55443a9c-8b77-4cb3-952e-1ecc22239cde"
      },
      "outputs": [
        {
          "name": "stdout",
          "output_type": "stream",
          "text": [
            "300\n",
            "2000\n",
            "['__class__', '__delattr__', '__dict__', '__dir__', '__doc__', '__eq__', '__format__', '__ge__', '__getattribute__', '__gt__', '__hash__', '__init__', '__init_subclass__', '__le__', '__lt__', '__module__', '__ne__', '__new__', '__reduce__', '__reduce_ex__', '__repr__', '__setattr__', '__sizeof__', '__str__', '__subclasshook__', '__weakref__', 'maxPeople', 'maxSpeed', 'move', 'stop']\n",
            "['__class__', '__delattr__', '__dict__', '__dir__', '__doc__', '__eq__', '__format__', '__ge__', '__getattribute__', '__gt__', '__hash__', '__init__', '__init_subclass__', '__le__', '__lt__', '__module__', '__ne__', '__new__', '__reduce__', '__reduce_ex__', '__repr__', '__setattr__', '__sizeof__', '__str__', '__subclasshook__', '__weakref__', 'add_kinds', 'change_speed', 'change_test', 'kinds', 'speed', 'test']\n"
          ]
        }
      ],
      "source": [
        "# 이 예제는 기억하고 있으셔야 합니다.\n",
        "\n",
        "class Car(object):\n",
        "    maxSpeed = 300\n",
        "    maxPeople = 5\n",
        "    def move(self, x):\n",
        "        print(x, '의 스피드로 달리고 있습니다.')\n",
        "    def stop(self):\n",
        "        print('멈췄습니다.')\n",
        "\n",
        "class HybridCar(Car):\n",
        "    battery = 1000\n",
        "    batteryKM = 300\n",
        "\n",
        "class ElectricCar(HybridCar):\n",
        "    battery = 2000\n",
        "    batteryKM = 600\n",
        "\n",
        "\n",
        "k5 = HybridCar()\n",
        "electricCarK5 = ElectricCar()\n",
        "k5.maxSpeed\n",
        "print(electricCarK5.maxSpeed)\n",
        "print(electricCarK5.battery)\n",
        "\n",
        "# dir(Car)\n",
        "# dir(k3)\n",
        "print(dir(Car))\n",
        "print(dir(k3))"
      ]
    },
    {
      "cell_type": "code",
      "execution_count": null,
      "metadata": {
        "colab": {
          "base_uri": "https://localhost:8080/"
        },
        "id": "XD9eCmoJZQPo",
        "outputId": "b842fa87-3a91-4f93-eb8f-05a594457fac"
      },
      "outputs": [
        {
          "name": "stdout",
          "output_type": "stream",
          "text": [
            "140191215500816 140191215500816\n",
            "140191213345152 140191213345152\n",
            "10 의 스피드로 달리고 있습니다.\n"
          ]
        }
      ],
      "source": [
        "Hyk3 = HybridCar()\n",
        "k3 = Car()\n",
        "elk3 = ElectricCar()\n",
        "\n",
        "# 상속받은 멤버, 함수는 같은 id 를 가리킨다!\n",
        "print(id(Hyk3.maxSpeed), id(k3.maxSpeed))   # 같음\n",
        "print(id(Hyk3.move), id(k3.move))           # 같음\n",
        "\n",
        "elk3.move(10)\n"
      ]
    },
    {
      "attachments": {},
      "cell_type": "markdown",
      "metadata": {
        "id": "SB2vIyAgSDBk"
      },
      "source": [
        "## !! 오늘 배운 것 정리 230510\n",
        "\n",
        "- 클래스\n",
        "\n",
        "  - 클래스는 데이터(멤버)와 기능(메서드)을 가지고 있는 인스턴트 객체를 생성하기 위한 역할\n",
        "  - 우리가 배우고 있는 Python을 객체 지향 프로그래밍 언어\n",
        "\n",
        "    ```\n",
        "    현실                                코드\n",
        "    차 ---------------------------> class Car()\n",
        "    정수 -------------------------> class int()\n",
        "    실수 -------------------------> class float()\n",
        "\n",
        "    인간이 만들어\n",
        "    놓은 현실 세계에서의\n",
        "    정의 또는 약속 --------------> class\n",
        "\n",
        "    1 + 1 = 2가 컴퓨터 입장에서는 10일 수도 있고\n",
        "    'A' + 'A' = 'AA'가 아니라 컴퓨터 입장에서는 130일 수 있습니다.\n",
        "    현실세계에서 '인간끼리' 약속을 코드에 세계로 옮긴거에요.\n",
        "    ```\n",
        "\n",
        "  - 예제 1\n",
        "\n",
        "    ```python\n",
        "    # 메서드 : 클래스 내에 함수\n",
        "    # 멤버 : 클래스 내에 변수\n",
        "    # 애트리뷰트 : 멤버 + 메서드\n",
        "    class CarFactory(object):\n",
        "        max_speed = 300\n",
        "        max_people = 5\n",
        "        def move(self):\n",
        "            print('차가 움직이고 있습니다.')\n",
        "        def stop(self):\n",
        "            print('차가 멈췄습니다.')\n",
        "\n",
        "    k5 = CarFactory()\n",
        "    k3 = CarFactory()\n",
        "    k5.move()\n",
        "    k3.move()\n",
        "    k5.stop()\n",
        "    k3.stop()\n",
        "    print(k5.max_speed)\n",
        "    ```\n",
        "\n",
        "  - 예제2\n",
        "\n",
        "    ```python\n",
        "    # 클래스 변수\n",
        "    # 클래스 바로 하위에 자리하고 있으며\n",
        "    # 모든 인스턴스가 공유합니다.\n",
        "    # 인스턴스 변수\n",
        "    # 인스턴스 영역 안에서만 사용하는 변수\n",
        "    class Car(object):\n",
        "        # kinds가 인스턴스에 없기에 class변수로 접근\n",
        "        # speed는 값을 = 로 할당했기에 인스턴스변수 생성\n",
        "        kinds = []\n",
        "        speed = 300\n",
        "        def add_kinds(self, name):\n",
        "            self.kinds.append(name) # self.kinds = [name]로 사용하면 인스턴스 변수가 됩니다.\n",
        "        def change_speed(self, speed):\n",
        "            self.speed = speed\n",
        "\n",
        "    k5 = Car()\n",
        "    k3 = Car()\n",
        "    k5.speed = 500\n",
        "    k3.speed # 클래스 변수는 값을 공유한다고 했는데?\n",
        "    ```\n",
        "\n",
        "  - 예제3\n",
        "\n",
        "    ```python\n",
        "    # 쉽고 중요한 예제!\n",
        "    # 이 코드는 가능하면 손으로 2 ~ 3번 써보시길 권해드립니다.\n",
        "\n",
        "    class BlogFactory(object):\n",
        "        def __init__(self, 제목, 내용, 조회수, 글쓴이, 생성날짜):\n",
        "            self.title = 제목\n",
        "            self.content = 내용\n",
        "            self.count = 조회수\n",
        "            self.writer = 글쓴이\n",
        "            self.create_date = 생성날짜\n",
        "\n",
        "    게시글1 = BlogFactory(\n",
        "            '오늘 제주의 날씨',\n",
        "            '오늘 제주의 날씨는 참 좋네요! 블라블라',\n",
        "            '0',\n",
        "            '이호준',\n",
        "            '2023/05/10',\n",
        "        )\n",
        "\n",
        "    게시글2 = BlogFactory(\n",
        "            '오늘 부산의 날씨',\n",
        "            '오늘 부산의 날씨는 참 좋네요! 블라블라',\n",
        "            '1000000',\n",
        "            '김재현',\n",
        "            '2023/05/10',\n",
        "        )\n",
        "\n",
        "    게시글3 = BlogFactory(\n",
        "            '오늘 강원의 날씨',\n",
        "            '오늘 강원의 날씨는 참 좋네요! 블라블라',\n",
        "            '10000',\n",
        "            '범남궁',\n",
        "            '2023/05/10',\n",
        "        )\n",
        "\n",
        "    data = [게시글1, 게시글2, 게시글3]\n",
        "    for i in data:\n",
        "        if i.writer == '이호준':\n",
        "            print(i.title)\n",
        "            print(i.content)\n",
        "            print(i.count)\n",
        "            print(i.create_date)\n",
        "    ```\n",
        "\n",
        "- 클래스 상속\n",
        "\n",
        "  - 클래스에서 상속은 상속해주는 클래스(Parent Class, Super class)의 내용(속성과 메소드)을 상속받는 클래스(Child class, sub class)가 가지게 되는 것\n",
        "  - 코드 예\n",
        "\n",
        "    ```python\n",
        "    # 이 예제는 기억하고 있으셔야 합니다.\n",
        "    class Car:\n",
        "        maxSpeed = 300\n",
        "        maxPeople = 5\n",
        "        def move(self, x):\n",
        "            print(x, '의 스피드로 달리고 있습니다.')\n",
        "        def stop(self):\n",
        "            print('멈췄습니다.')\n",
        "\n",
        "    class HybridCar(Car):\n",
        "        battery = 1000\n",
        "        batteryKM = 300\n",
        "\n",
        "    class ElectricCar(HybridCar):\n",
        "        battery = 2000\n",
        "        batteryKM = 600\n",
        "\n",
        "    K3 = Car()\n",
        "    HyK3 = HybridCar()\n",
        "    ElHyK3 = ElectricCar()\n",
        "    # id(K3.maxSpeed), id(HyK3.maxSpeed)\n",
        "    # id(K3.move), id(HyK3.move)\n",
        "\n",
        "    ElHyK3.move(10)\n",
        "    ```\n"
      ]
    },
    {
      "cell_type": "code",
      "execution_count": null,
      "metadata": {
        "id": "yTPMk6JVLkys"
      },
      "outputs": [],
      "source": [
        "# 우리가 앞으로 알고리즘에서 할 코드입니다.\n",
        "# 예방주사 차원에서 진행\n",
        "\n",
        "# 프로그래머스 lv4, lv5는 효율성 체크가 있는데 이럴 경우 반복문으로 해결이 잘 안됨.\n",
        "# 클래스로 구현해야 되는 경우가 대부분임\n"
      ]
    },
    {
      "cell_type": "code",
      "execution_count": null,
      "metadata": {
        "colab": {
          "base_uri": "https://localhost:8080/"
        },
        "id": "P7gTaNfLM8hW",
        "outputId": "a7ba8b20-d414-4fef-a90b-6d448b002993"
      },
      "outputs": [
        {
          "data": {
            "text/plain": [
              "30"
            ]
          },
          "execution_count": 3,
          "metadata": {},
          "output_type": "execute_result"
        }
      ],
      "source": [
        "# linked list 예제 1\n",
        "class Node:\n",
        "    def __init__(self, data):\n",
        "        self.data = data\n",
        "        self.next = None\n",
        "\n",
        "노드1 = Node(10)\n",
        "노드2 = Node(20)\n",
        "노드3 = Node(30)\n",
        "\n",
        "# 노드1.data\n",
        "노드1.next = 노드2\n",
        "노드2.next = 노드3\n",
        "\n",
        "노드1.next.data         # 노드2.data\n",
        "노드1.next.next.data    # 노드2.data.next # 노드3.data\n"
      ]
    },
    {
      "cell_type": "code",
      "execution_count": null,
      "metadata": {
        "colab": {
          "base_uri": "https://localhost:8080/"
        },
        "id": "Outl--IxO3KZ",
        "outputId": "1dc5e474-2729-4f03-a3ad-c3c4a923daf0"
      },
      "outputs": [
        {
          "name": "stdout",
          "output_type": "stream",
          "text": [
            "3\n",
            "4\n",
            "5\n",
            "6\n"
          ]
        }
      ],
      "source": [
        "# linked list 예제 2 - 데이터 두개 가진 노드\n",
        "class Node:\n",
        "    def __init__(self, data1, data2):\n",
        "        self.data1 = data1\n",
        "        self.data2 = data2\n",
        "        self.next = None\n",
        "\n",
        "노드1 = Node(1, 2)\n",
        "노드2 = Node(3, 4)\n",
        "노드3 = Node(5, 6)\n",
        "\n",
        "노드1.next = 노드2\n",
        "노드2.next = 노드3\n",
        "\n",
        "print(노드1.next.data1)\n",
        "print(노드1.next.data2)\n",
        "print(노드1.next.next.data1)\n",
        "print(노드1.next.next.data2)\n"
      ]
    },
    {
      "attachments": {},
      "cell_type": "markdown",
      "metadata": {
        "id": "e6eFF7vlQ9lZ"
      },
      "source": [
        "## 메서드 오버라이딩\n"
      ]
    },
    {
      "attachments": {},
      "cell_type": "markdown",
      "metadata": {
        "id": "wtCNmFlyQ_l6"
      },
      "source": [
        "- 부모 클래스에서 상속받은 메서드를 자식 클래스에서 같은 이름으로 선언하여 사용하는 것 (덮어쓴다 - 오버라이딩)"
      ]
    },
    {
      "cell_type": "code",
      "execution_count": null,
      "metadata": {
        "colab": {
          "base_uri": "https://localhost:8080/"
        },
        "id": "_rNtTAilQ7EP",
        "outputId": "65af680a-5028-4191-8965-d720eec40a01"
      },
      "outputs": [
        {
          "name": "stdout",
          "output_type": "stream",
          "text": [
            "300\n",
            "300\n",
            "2000\n",
            "600 만큼 달릴 수 있습니다.\n",
            "10 스피드로 달리고 있습니다.\n",
            "None\n"
          ]
        }
      ],
      "source": [
        "# 파이썬에서느 오버로딩(이름이 같고 인자수, 타입이 다른 함수 정의)이 공식적으로 지원하지 않음\n",
        "# --> 오버로딩 하는 방법은 @dispatch 데코레이터 쓰면 됨....\n",
        "# 오버로딩 : 같은 이름의 메소드를 여러 개 선언하여 다양한 아규먼트에 대응할 수 있게 하는 기법을 의미합니다.\n",
        "\n",
        "class Car(object):\n",
        "    maxSpeed = 300\n",
        "    maxPeople = 5\n",
        "    def move(self, x):\n",
        "        print(x, '의 스피드로 달리고 있습니다.')\n",
        "    def stop(self):\n",
        "        print('멈췄습니다.')\n",
        "\n",
        "class HybridCar(Car):\n",
        "    battery = 1000\n",
        "    batteryKM = 300\n",
        "\n",
        "class ElectricCar(HybridCar):\n",
        "    battery = 2000\n",
        "    batteryKM = 600\n",
        "\n",
        "    def move(self, x):\n",
        "        print(self.batteryKM, '만큼 달릴 수 있습니다.')\n",
        "        print(x, '스피드로 달리고 있습니다.')\n",
        "\n",
        "# 자신의 고유 영역에서 선언된 멤버와 메서드를 우선적으로 찾습니다.\n",
        "\n",
        "k5 = HybridCar()\n",
        "electricCarK5 = ElectricCar()\n",
        "print(k5.maxSpeed)\n",
        "print(electricCarK5.maxSpeed)\n",
        "print(electricCarK5.battery)\n",
        "print(electricCarK5.move(10))"
      ]
    },
    {
      "cell_type": "code",
      "execution_count": null,
      "metadata": {
        "colab": {
          "base_uri": "https://localhost:8080/"
        },
        "id": "Yv2izjjWVP0O",
        "outputId": "3ad22114-d566-490e-a459-39589b0fc321"
      },
      "outputs": [
        {
          "name": "stdout",
          "output_type": "stream",
          "text": [
            "10 스피드로 모터힘으로! 달리고 있습니다.\n"
          ]
        }
      ],
      "source": [
        "# 어디에 있는 멤버, 함수를 가져올까??\n",
        "# 나와 가장 가까운 곳에 있는 곳에서 가져온다. (상속순서, 상속 바로 위)\n",
        "\n",
        "class Car(object):\n",
        "    maxSpeed = 300\n",
        "    def move(self, x):\n",
        "        print(x, '의 스피드로 달리고 있습니다.')\n",
        "\n",
        "\n",
        "class HybridCar(Car):\n",
        "    battery = 1000\n",
        "\n",
        "\n",
        "class ElectricCar(HybridCar):\n",
        "    battery = 2000\n",
        "\n",
        "    def move(self, x):\n",
        "        print(x, '스피드로 모터힘으로! 달리고 있습니다.')\n",
        "\n",
        "\n",
        "class Test(ElectricCar):\n",
        "    pass\n",
        "\n",
        "\n",
        "car1 = ElectricCar()\n",
        "car1.move(10)"
      ]
    },
    {
      "attachments": {},
      "cell_type": "markdown",
      "metadata": {
        "id": "xrOPrAMvXB8w"
      },
      "source": [
        "### 다중상속"
      ]
    },
    {
      "cell_type": "code",
      "execution_count": null,
      "metadata": {
        "colab": {
          "base_uri": "https://localhost:8080/"
        },
        "id": "re4-XwCMV-Mo",
        "outputId": "c86b51ca-4b57-4b02-b1f1-55a70c0fa28f"
      },
      "outputs": [
        {
          "data": {
            "text/plain": [
              "1000"
            ]
          },
          "execution_count": 15,
          "metadata": {},
          "output_type": "execute_result"
        }
      ],
      "source": [
        "# 다중상속. 다이아몬드 상속인 경우...\n",
        "\n",
        "class A(object):\n",
        "    maxSpeed = 300\n",
        "\n",
        "\n",
        "class B(A):\n",
        "    battery = 1000\n",
        "\n",
        "\n",
        "class C(A):\n",
        "    battery = 2000\n",
        "\n",
        "\n",
        "class D(B, C):\n",
        "    pass\n",
        "\n",
        "D.mro() # [__main__.D, __main__.B, __main__.C, __main__.A, object]\n",
        "\n",
        "D.battery # 1000\n",
        "# 나와 가장 가까운 곳에서 가져온다! \n",
        "# D class는 B를 먼저 상속받으니 B의 battery를 가져옴\n"
      ]
    },
    {
      "attachments": {},
      "cell_type": "markdown",
      "metadata": {
        "id": "SGoLSGY2YTt1"
      },
      "source": [
        "- 비공개 속성 (attribute)"
      ]
    },
    {
      "cell_type": "code",
      "execution_count": null,
      "metadata": {
        "colab": {
          "base_uri": "https://localhost:8080/"
        },
        "id": "k1-8RCJvXWIp",
        "outputId": "63a8bf11-a340-4d20-b19b-04b1123d65a8"
      },
      "outputs": [
        {
          "name": "stdout",
          "output_type": "stream",
          "text": [
            "10 의 스피드로 달리고 있습니다.\n",
            "300 의 스피드로 달리고 있습니다.\n"
          ]
        }
      ],
      "source": [
        "## __는 문법적으로 접근이 안됩니다. (공식)\n",
        "# 변수를 보호할 수 있습니다.\n",
        "# 변수를 변경하는 것을 보다 엄격하게 관리할 수 있습니다.\n",
        "\n",
        "# _ 는 공식 X\n",
        "# _ 는 문법적으로 접근이 가능합니다.(회사 컨벤션마다 다릅니다.)\n",
        "\n",
        "\n",
        "class Car(object):\n",
        "    __maxSpeed = 300\n",
        "    _maxPeople = 5\n",
        "    wheel = 4\n",
        "    def move(self, x):\n",
        "        print(x, '의 스피드로 달리고 있습니다.')\n",
        "        print(self.__maxSpeed, '의 스피드로 달리고 있습니다.')\n",
        "    def stop(self):\n",
        "        print('멈췄습니다.')\n",
        "\n",
        "k5 = Car()\n",
        "# k5.__maxSpeed   # error # AttributeError\n",
        "## __로 시작하는 변수는 아얘 호출이 안됨\n",
        "\n",
        "k5._maxPeople   # 접근가능\n",
        "k5.wheel        # 당연히 접근 가능\n",
        "k5.move(10) ## 함수로 값에 접근하는 것은 가능. 변경은 되나??"
      ]
    },
    {
      "attachments": {},
      "cell_type": "markdown",
      "metadata": {
        "id": "oKc279x4XJyQ"
      },
      "source": [
        "## 이터레이터"
      ]
    },
    {
      "cell_type": "code",
      "execution_count": null,
      "metadata": {
        "colab": {
          "base_uri": "https://localhost:8080/"
        },
        "id": "VGaYqwDlYfrb",
        "outputId": "01a5149f-09d9-4d2c-f35e-53d1f805ffdc"
      },
      "outputs": [
        {
          "name": "stdout",
          "output_type": "stream",
          "text": [
            "1 2 3 4 5 "
          ]
        }
      ],
      "source": [
        "# 단순한 이터레이터를 만들어보자!\n",
        "\n",
        "class MyIter:\n",
        "    def __init__(self, stop):\n",
        "        self.currentValue = 0\n",
        "        self.stop = stop\n",
        "    \n",
        "    def __iter__(self):\n",
        "        return self\n",
        "\n",
        "    def __next__(self):\n",
        "        if self.currentValue >= self.stop:\n",
        "            raise StopIteration     # 에러 발생시키는 구문 raise\n",
        "        self.currentValue += 1\n",
        "        return self.currentValue\n",
        "\n",
        "mi = MyIter(5)\n",
        "\n",
        "for i in mi:\n",
        "    print(i, end=' ')\n",
        "\n",
        "# 똑같이 한 번만 출력됨. 아래는 출력 안됨\n",
        "for i in mi:\n",
        "    print(i, end=' ')\n",
        "\n"
      ]
    },
    {
      "cell_type": "code",
      "execution_count": null,
      "metadata": {
        "colab": {
          "base_uri": "https://localhost:8080/"
        },
        "id": "M1MGZS5DaA8s",
        "outputId": "946e63e5-5cc0-49c0-a4b3-ec734f1a4750"
      },
      "outputs": [
        {
          "name": "stdout",
          "output_type": "stream",
          "text": [
            "0 1 2 3 4 "
          ]
        }
      ],
      "source": [
        "# 단순한 이터레이터를 만들어보자!\n",
        "\n",
        "class MyIter:\n",
        "    def __init__(self, stop):\n",
        "        self.currentValue = 0\n",
        "        self.stop = stop\n",
        "    \n",
        "    def __iter__(self):\n",
        "        return self\n",
        "\n",
        "    def __next__(self):\n",
        "        if self.currentValue >= self.stop:\n",
        "            raise StopIteration     # 에러 발생시키는 구문 raise\n",
        "        result = self.currentValue\n",
        "        self.currentValue += 1\n",
        "        return result\n",
        "\n",
        "mi = MyIter(5)\n",
        "\n",
        "for i in mi:\n",
        "    print(i, end=' ')\n",
        "\n",
        "# 한 번만 출력됨. 아래는 출력 안됨\n",
        "# 왜냐하면 Stopiteration이 계속 발생하기 때문에 for가 바로 종료됨\n",
        "for i in mi:\n",
        "    print(i, end=' ')\n",
        "\n"
      ]
    },
    {
      "cell_type": "code",
      "execution_count": null,
      "metadata": {
        "colab": {
          "base_uri": "https://localhost:8080/"
        },
        "id": "KnivU2FBbPyW",
        "outputId": "cf30130d-87f2-49d8-8b2e-01ce38939779"
      },
      "outputs": [
        {
          "name": "stdout",
          "output_type": "stream",
          "text": [
            "0 1 2 3 4 0 1 2 3 4 "
          ]
        }
      ],
      "source": [
        "# 단순한 이터레이터를 만들어보자!\n",
        "\n",
        "class MyIter:\n",
        "    def __init__(self, stop):\n",
        "        self.stop = stop\n",
        "    \n",
        "    def __iter__(self):\n",
        "        self.currentValue = 0\n",
        "        return self\n",
        "\n",
        "    def __next__(self):\n",
        "        if self.currentValue >= self.stop:\n",
        "            raise StopIteration     # 에러 발생시키는 구문 raise\n",
        "        result = self.currentValue\n",
        "        self.currentValue += 1\n",
        "        return result\n",
        "\n",
        "mi = MyIter(5)\n",
        "# for는 __iter__를 먼저 실행하고, next로 StopIteraion 까지\n",
        "for i in mi:\n",
        "    print(i, end=' ')\n",
        "\n",
        "# __iter__ 에 초기 값을 0으로 세팅하기 때문에\n",
        "# for 문 진입시 0으로 초기화해서 __next__호출되어도 StopIteraion이 발생 안 됨\n",
        "for i in mi:\n",
        "    print(i, end=' ')\n"
      ]
    },
    {
      "cell_type": "code",
      "execution_count": null,
      "metadata": {
        "colab": {
          "base_uri": "https://localhost:8080/"
        },
        "id": "CXzd5jzxbvNb",
        "outputId": "0a5a9280-0c2d-4c58-d41f-1345fddc6f5a"
      },
      "outputs": [
        {
          "data": {
            "text/plain": [
              "4"
            ]
          },
          "execution_count": 28,
          "metadata": {},
          "output_type": "execute_result"
        }
      ],
      "source": [
        "# 단순한 이터레이터를 만들어보자!\n",
        "\n",
        "class MyIter:\n",
        "    def __init__(self, stop):\n",
        "        self.currentValue = 0\n",
        "        self.stop = stop\n",
        "    \n",
        "    def __iter__(self):\n",
        "        return self\n",
        "\n",
        "    def __next__(self):\n",
        "        if self.currentValue >= self.stop:\n",
        "            raise StopIteration     # 에러 발생시키는 구문 raise\n",
        "        result = self.currentValue\n",
        "        self.currentValue += 1\n",
        "        return result\n",
        "\n",
        "mi = MyIter(5)\n",
        "\n",
        "i = iter(mi)\n",
        "next(i)\n",
        "next(i)\n",
        "next(i)\n",
        "next(i)\n",
        "next(i)\n",
        "# next(i) # StopItertaion\n"
      ]
    },
    {
      "attachments": {},
      "cell_type": "markdown",
      "metadata": {
        "id": "U_7rCYKMcRR4"
      },
      "source": [
        "- 언패킹"
      ]
    },
    {
      "cell_type": "code",
      "execution_count": null,
      "metadata": {
        "colab": {
          "base_uri": "https://localhost:8080/"
        },
        "id": "7m-7_cpucBHd",
        "outputId": "f934e7ce-5790-45a8-c4fb-ee5823db4049"
      },
      "outputs": [
        {
          "name": "stdout",
          "output_type": "stream",
          "text": [
            "0 1 2 3\n"
          ]
        }
      ],
      "source": [
        "a, b, c, d = MyIter(4)\n",
        "print(a, b, c, d)"
      ]
    },
    {
      "cell_type": "code",
      "execution_count": null,
      "metadata": {
        "colab": {
          "base_uri": "https://localhost:8080/"
        },
        "id": "Hu41joKrcEnd",
        "outputId": "cd7c0f60-c0aa-49ac-cb2a-47a113bbe66d"
      },
      "outputs": [
        {
          "name": "stdout",
          "output_type": "stream",
          "text": [
            "0 1 2 3\n"
          ]
        }
      ],
      "source": [
        "a, b, c, d = range(4)\n",
        "print(a, b, c, d)\n",
        "\n",
        "## 값이 들어가는 것을 보면 결국 unpacking은 순회를 통해서 값을 넣어주는 것!\n",
        "## 왜냐하면 __iter__와 __next__가 없다면 return 값이 없기 때문!!!"
      ]
    },
    {
      "attachments": {},
      "cell_type": "markdown",
      "metadata": {
        "id": "hd_A9oFSYb-a"
      },
      "source": [
        "## 제너레이터 generator"
      ]
    },
    {
      "attachments": {},
      "cell_type": "markdown",
      "metadata": {
        "id": "ndkpnVSNcore"
      },
      "source": [
        "- 제너레이터란, 이터레이터를 생성해주는 함수를 의미합니다. "
      ]
    },
    {
      "cell_type": "code",
      "execution_count": null,
      "metadata": {
        "colab": {
          "base_uri": "https://localhost:8080/"
        },
        "id": "y2_uwpuYcihT",
        "outputId": "e7064746-99b8-47a5-f27c-a1312a0d5925"
      },
      "outputs": [
        {
          "name": "stdout",
          "output_type": "stream",
          "text": [
            "0\n",
            "1\n",
            "2\n",
            "3\n",
            "4\n",
            "5\n",
            "6\n",
            "7\n",
            "8\n",
            "9\n",
            "10\n"
          ]
        }
      ],
      "source": [
        "def gen():\n",
        "    count = 0\n",
        "    while True:\n",
        "        yield count\n",
        "        count += 1\n",
        "\n",
        "gen() # 무한반복이 아니라 generator object가 나옴\n",
        "# gen() 은 계속 실행중이고 yield 에서 기다렸다가 다음 순회? 때 값을 생성해주고\n",
        "# 다시 다음 yield에서 기다림\n",
        "\n",
        "for i in gen():\n",
        "    print(i)\n",
        "    if i == 10:\n",
        "        break"
      ]
    },
    {
      "cell_type": "code",
      "execution_count": null,
      "metadata": {
        "colab": {
          "base_uri": "https://localhost:8080/"
        },
        "id": "PErUzGjoeFkb",
        "outputId": "2df2d91d-4d5b-4eb2-8ebc-a145cf02250f"
      },
      "outputs": [
        {
          "data": {
            "text/plain": [
              "[(10, 0), (20, 2), (30, 4), (40, 6), (50, 8)]"
            ]
          },
          "execution_count": 36,
          "metadata": {},
          "output_type": "execute_result"
        }
      ],
      "source": [
        "def gen():\n",
        "    count = 0\n",
        "    while True:\n",
        "        yield count\n",
        "        count += 2\n",
        "\n",
        "l = [10,20,30,40,50]\n",
        "list(zip(l,gen())) ## zip은 짧은 iterable기준으로 순회를 돌기 때문에 유용!\n"
      ]
    },
    {
      "cell_type": "code",
      "execution_count": null,
      "metadata": {
        "colab": {
          "base_uri": "https://localhost:8080/"
        },
        "id": "PmdKC1pDehte",
        "outputId": "20b8a91e-dcd9-4f78-debf-36f3a4d23b42"
      },
      "outputs": [
        {
          "data": {
            "text/plain": [
              "[('A', 1),\n",
              " ('B', 2),\n",
              " ('C', 3),\n",
              " ('D', 4),\n",
              " ('E', 5),\n",
              " ('F', 1),\n",
              " ('G', 2),\n",
              " ('H', 3),\n",
              " ('I', 4),\n",
              " ('J', 5),\n",
              " ('K', 1)]"
            ]
          },
          "execution_count": 40,
          "metadata": {},
          "output_type": "execute_result"
        }
      ],
      "source": [
        "## 제너레이터는 GC(garbege collector)가 수거해가지 않음..??\n",
        "\n",
        "def gen():\n",
        "    count = 1\n",
        "    while True:\n",
        "        yield count\n",
        "        count += 1\n",
        "        if count == 6:\n",
        "            count = 1\n",
        "\n",
        "과목 = ['A', 'B', 'C', 'D', 'E', 'F', 'G', 'H', 'I', 'J', 'K']\n",
        "list(zip(과목, gen()))"
      ]
    },
    {
      "attachments": {},
      "cell_type": "markdown",
      "metadata": {
        "id": "tvdjUp1d35bU"
      },
      "source": [
        "## 데코레이터 decorator\n"
      ]
    },
    {
      "cell_type": "code",
      "execution_count": null,
      "metadata": {
        "id": "-f2ADcZojEtz"
      },
      "outputs": [],
      "source": [
        "# 아래 예와 같이 실무에서 활용합니다.\n",
        "#\n",
        "\n",
        "@login\n",
        "def 비밀게시판():\n",
        "    return render()\n",
        "\n",
        "@check_vip\n",
        "def vip_coupon():\n",
        "    return render()\n",
        "\n",
        "# 데이터 전처리:\n",
        "# 데이터에 이상치(이상한 값), 결측치(비어있는 값)등을 처리\n",
        "# ['10', 1, 2, 3, '20'] -> [10, 1, 2, 3, 20]\n",
        "\n",
        "@데이터 전처리\n",
        "sum(data)\n",
        "\n",
        "@데이터전처리후페센테이지\n",
        "sum(data)\n",
        "\n",
        "# [10, 20, 30] -> 60%"
      ]
    },
    {
      "cell_type": "code",
      "execution_count": null,
      "metadata": {
        "colab": {
          "base_uri": "https://localhost:8080/"
        },
        "id": "KA71BbVckVNm",
        "outputId": "c257d776-d168-4ab7-f325-594e49601da7"
      },
      "outputs": [
        {
          "data": {
            "text/plain": [
              "20"
            ]
          },
          "execution_count": 41,
          "metadata": {},
          "output_type": "execute_result"
        }
      ],
      "source": [
        "def one():\n",
        "    return lambda x, y: x + y\n",
        "\n",
        "더하기 = one()\n",
        "더하기(10, 10)"
      ]
    },
    {
      "cell_type": "code",
      "execution_count": null,
      "metadata": {
        "colab": {
          "base_uri": "https://localhost:8080/"
        },
        "id": "8zLiQqgtkmLZ",
        "outputId": "b1627a77-1ffa-4c12-a74a-659c32409458"
      },
      "outputs": [
        {
          "data": {
            "text/plain": [
              "20"
            ]
          },
          "execution_count": 42,
          "metadata": {},
          "output_type": "execute_result"
        }
      ],
      "source": [
        "def one():\n",
        "    def two(x,y):\n",
        "        return x+y\n",
        "    return two\n",
        "\n",
        "더하기 = one()\n",
        "더하기(10, 10)"
      ]
    },
    {
      "cell_type": "code",
      "execution_count": null,
      "metadata": {
        "colab": {
          "base_uri": "https://localhost:8080/"
        },
        "id": "Mhg8U9eak7VL",
        "outputId": "3c7b94db-b65e-40bf-8b41-ca4777d18f91"
      },
      "outputs": [
        {
          "name": "stdout",
          "output_type": "stream",
          "text": [
            "hello\n",
            "function1 입니다.\n"
          ]
        }
      ],
      "source": [
        "# 중요한 코드입니다.\n",
        "# 손으로 2~3번 써보시기를 권합니다.\n",
        "\n",
        "def print_hello(func): # def decorator_name(below function)\n",
        "    def wrap_func():\n",
        "        print('hello')\n",
        "        func()\n",
        "    return wrap_func\n",
        "\n",
        "@print_hello\n",
        "def func1():\n",
        "    print('function1 입니다.')\n",
        "\n",
        "func1()\n",
        "\n",
        "# 함수를 호출하면 함수 위에 decorator가 있는지 확인한다.\n",
        "# decorator가 있다면 데코레이터의 func인자에 호출한 함수를 넣어준다.\n"
      ]
    },
    {
      "cell_type": "code",
      "execution_count": null,
      "metadata": {
        "colab": {
          "base_uri": "https://localhost:8080/"
        },
        "id": "AiZBgDn6le0M",
        "outputId": "2312040a-4b90-40c2-fead-c493d278927f"
      },
      "outputs": [
        {
          "name": "stdout",
          "output_type": "stream",
          "text": [
            "hello\n",
            "world\n",
            "function1 입니다.\n"
          ]
        }
      ],
      "source": [
        "# 데코레이터 여러개 테스트해보기\n",
        "\n",
        "def print_hello(func): # def decorator_name(below function)\n",
        "    def wrap_func():\n",
        "        print('hello')\n",
        "        func()\n",
        "    return wrap_func\n",
        "\n",
        "def print_world(func):\n",
        "    def wrap_func():\n",
        "        print('world')\n",
        "        func()\n",
        "    return wrap_func\n",
        "\n",
        "# 함수 선언부에서 한 줄씩 올라가면서 확인하는듯 하오...\n",
        "@print_world\n",
        "@print_hello\n",
        "def func1():\n",
        "    print('function1 입니다.')\n",
        "\n",
        "func1()\n"
      ]
    },
    {
      "cell_type": "code",
      "execution_count": null,
      "metadata": {
        "colab": {
          "base_uri": "https://localhost:8080/"
        },
        "id": "3Zrre2lkmG27",
        "outputId": "c9210378-c514-4950-c764-d080fb9917a0"
      },
      "outputs": [
        {
          "name": "stdout",
          "output_type": "stream",
          "text": [
            "안녕하세요.\n",
            "이호준입니다\n",
            "안녕하세요.\n",
            "홍길동입니다.\n",
            "안녕히계세요.\n"
          ]
        }
      ],
      "source": [
        "def 인사말(func):\n",
        "    def wrap_func():\n",
        "        print('안녕하세요.')\n",
        "        func()\n",
        "    return wrap_func\n",
        "\n",
        "@인사말\n",
        "def 자기소개1():\n",
        "    print('이호준입니다')\n",
        "\n",
        "\n",
        "@인사말\n",
        "def 자기소개2():\n",
        "    print('홍길동입니다.')\n",
        "\n",
        "def 작별인사():\n",
        "    print('안녕히계세요.')\n",
        "\n",
        "자기소개1()\n",
        "자기소개2()\n",
        "작별인사()\n"
      ]
    },
    {
      "cell_type": "code",
      "execution_count": null,
      "metadata": {
        "colab": {
          "base_uri": "https://localhost:8080/"
        },
        "id": "GPo57cq_nbGd",
        "outputId": "2c8ade13-c68e-480c-aaf1-c6c9db36fdae"
      },
      "outputs": [
        {
          "name": "stdout",
          "output_type": "stream",
          "text": [
            "안녕하세요.\n",
            "이호준입니다\n",
            "안녕하세요.\n",
            "홍길동입니다.\n",
            "안녕히계세요.\n"
          ]
        }
      ],
      "source": [
        "# 인자가 있는 함수의 데코레이터 사용하기\n",
        "\n",
        "def 인사말(func):\n",
        "    def wrap_func(arg): # 이렇게 랩 함수에 인자 자리를 만들어줘야함.\n",
        "        print('안녕하세요.')\n",
        "        func(arg)\n",
        "    return wrap_func\n",
        "\n",
        "@인사말\n",
        "def 자기소개1(name):\n",
        "    print(f'{name}입니다')\n",
        "\n",
        "@인사말\n",
        "def 자기소개2(name):\n",
        "    print(f'{name}입니다.')\n",
        "\n",
        "def 작별인사():\n",
        "    print('안녕히계세요.')\n",
        "\n",
        "자기소개1('이호준')\n",
        "자기소개2('홍길동')\n",
        "작별인사()\n"
      ]
    },
    {
      "cell_type": "code",
      "execution_count": null,
      "metadata": {
        "colab": {
          "base_uri": "https://localhost:8080/"
        },
        "id": "XgNjJOQTooNw",
        "outputId": "7d2254db-2855-4260-9a99-3d00f0a1ec7c"
      },
      "outputs": [
        {
          "data": {
            "text/plain": [
              "2.5"
            ]
          },
          "execution_count": 59,
          "metadata": {},
          "output_type": "execute_result"
        }
      ],
      "source": [
        "# 실무에서 데코레이터\n",
        "\n",
        "def 전처리(func):\n",
        "    def wrap_func(iterable):\n",
        "        iterable = list(map(int, iterable))\n",
        "        return func(iterable)\n",
        "    return wrap_func\n",
        "\n",
        "@전처리\n",
        "def 평균(li):\n",
        "    return sum(li) / len(li)\n",
        "\n",
        "평균(['1', 2, 3, '4'])\n"
      ]
    },
    {
      "cell_type": "code",
      "execution_count": null,
      "metadata": {
        "colab": {
          "base_uri": "https://localhost:8080/"
        },
        "id": "bkOSBjabpyHo",
        "outputId": "784c694d-f141-4bc7-b910-7e1bb04a4f90"
      },
      "outputs": [
        {
          "data": {
            "text/plain": [
              "2.5"
            ]
          },
          "execution_count": 60,
          "metadata": {},
          "output_type": "execute_result"
        }
      ],
      "source": [
        "def 전처리(func):\n",
        "    def wrap_func(iterable):\n",
        "        return func(list(map(int, iterable)))\n",
        "    return wrap_func\n",
        "\n",
        "@전처리\n",
        "def 평균(li):\n",
        "    return sum(li) / len(li)\n",
        "\n",
        "평균(['1', 2, 3, '4'])"
      ]
    },
    {
      "cell_type": "code",
      "execution_count": null,
      "metadata": {
        "colab": {
          "base_uri": "https://localhost:8080/",
          "height": 35
        },
        "id": "mS4yuh6Up3Qe",
        "outputId": "18786362-1701-41bf-d690-4b42e09601b0"
      },
      "outputs": [
        {
          "data": {
            "application/vnd.google.colaboratory.intrinsic+json": {
              "type": "string"
            },
            "text/plain": [
              "'2.5%'"
            ]
          },
          "execution_count": 63,
          "metadata": {},
          "output_type": "execute_result"
        }
      ],
      "source": [
        "# 이상하긴하지만...\n",
        "def 전후처리(func):\n",
        "    def wrap_func(iterable):\n",
        "        i = list(map(int, iterable))\n",
        "        calculate = func(i)\n",
        "        result = str(calculate) + '%'\n",
        "        return result\n",
        "    return wrap_func\n",
        "\n",
        "@전후처리\n",
        "def 평균(li):\n",
        "    return sum(li) / len(li)\n",
        "\n",
        "평균(['1', 2, 3, '4'])"
      ]
    },
    {
      "cell_type": "code",
      "execution_count": null,
      "metadata": {
        "colab": {
          "base_uri": "https://localhost:8080/"
        },
        "id": "uDH9Ii31qXZm",
        "outputId": "18273bca-834a-4b06-a404-27c2be8a00e7"
      },
      "outputs": [
        {
          "name": "stdout",
          "output_type": "stream",
          "text": [
            "[0, 10, 20]\n"
          ]
        },
        {
          "data": {
            "text/plain": [
              "30"
            ]
          },
          "execution_count": 7,
          "metadata": {},
          "output_type": "execute_result"
        }
      ],
      "source": [
        "# 데코레이터 실습 문제\n",
        "# 다음 값이들어갔을 때, 숫자만 모두 더하는 코드를 완성하세요\n",
        "li = ['10', True, False, '21', 0 ,10, 20]\n",
        "\n",
        "def 전처리(func):\n",
        "    def wrap_func(array):\n",
        "        ## True, False는 int 타입으로 됨....\n",
        "        a = list(filter(lambda x : isinstance(x, int) and not isinstance(x, bool), array))\n",
        "        result = func(a)\n",
        "        return result\n",
        "    return wrap_func\n",
        "\n",
        "@전처리\n",
        "def customsum(li):\n",
        "    return sum(li)\n",
        "\n",
        "\n",
        "customsum(li)\n",
        "\n"
      ]
    },
    {
      "cell_type": "code",
      "execution_count": null,
      "metadata": {
        "colab": {
          "base_uri": "https://localhost:8080/"
        },
        "id": "ht2GFLlZAo9S",
        "outputId": "3e94f800-d897-4052-ec12-bcb9360ed8ea"
      },
      "outputs": [
        {
          "name": "stdout",
          "output_type": "stream",
          "text": [
            "decorator2 wapper id:  140662148697248\n",
            "decorator1 wapper id:  140662148695664\n",
            "decorator1 - wrapper func id: 140662148697248\n",
            "decorator2 - wrapper func id: 140662148697104\n",
            "hello\n"
          ]
        },
        {
          "data": {
            "text/plain": [
              "140662148695664"
            ]
          },
          "execution_count": 2,
          "metadata": {},
          "output_type": "execute_result"
        }
      ],
      "source": [
        "def decorator1(func):\n",
        "    def wrapper():\n",
        "        print('decorator1 - wrapper func id:', id(func))\n",
        "        func()\n",
        "    print('decorator1 wapper id: ', id(wrapper))\n",
        "    return wrapper\n",
        "\n",
        "def decorator2(func):\n",
        "    def wrapper():\n",
        "        print('decorator2 - wrapper func id:', id(func))\n",
        "        func()\n",
        "    print('decorator2 wapper id: ', id(wrapper))\n",
        "    return wrapper\n",
        "\n",
        "# 데코레이터를 여러 개 지정 wrapper 함수가 위의 decorator의 func로 들어감\n",
        "@decorator1\n",
        "@decorator2\n",
        "def hello():\n",
        "    print('hello')\n",
        "\n",
        "hello()\n",
        "id(hello)   \n",
        "# 가장 바깥쪽 wrapper 함수와 id가 같다!\n",
        "# hello() << decorator1의 return wrapper"
      ]
    },
    {
      "cell_type": "code",
      "execution_count": null,
      "metadata": {
        "colab": {
          "base_uri": "https://localhost:8080/"
        },
        "id": "4G6fbPxiW5SA",
        "outputId": "75a58f47-518c-4f80-d06d-01dcdcf687bd"
      },
      "outputs": [
        {
          "name": "stdout",
          "output_type": "stream",
          "text": [
            "decorator2 - func id: 140661872843008\n",
            "decorator2 wapper id: 140661872846320\n",
            "decorator1 - func id: 140661872846320\n",
            "decorator1 wapper id: 140661872846464\n",
            "hello\n",
            "140661872846464\n"
          ]
        }
      ],
      "source": [
        "def decorator1(func):\n",
        "    def wrapper():\n",
        "        func()\n",
        "    print('decorator1 - func id:', id(func))\n",
        "    print('decorator1 wapper id:', id(wrapper))\n",
        "    return wrapper\n",
        "\n",
        "def decorator2(func):\n",
        "    def wrapper():\n",
        "        func()\n",
        "    print('decorator2 - func id:', id(func))\n",
        "    print('decorator2 wapper id:', id(wrapper))\n",
        "    return wrapper\n",
        "\n",
        "# 데코레이터를 여러 개 지정 wrapper 함수가 위의 decorator의 func로 들어감\n",
        "@decorator1\n",
        "@decorator2\n",
        "def hello():\n",
        "    print('hello')\n",
        "\n",
        "hello()\n",
        "print(id(hello))\n",
        "# 가장 바깥쪽 wrapper 함수와 id가 같다!"
      ]
    },
    {
      "attachments": {},
      "cell_type": "markdown",
      "metadata": {
        "id": "bQdI7nrRAhOy"
      },
      "source": [
        "- 데코레이터에 아규먼트 넣기!"
      ]
    },
    {
      "cell_type": "code",
      "execution_count": null,
      "metadata": {
        "colab": {
          "base_uri": "https://localhost:8080/"
        },
        "id": "YpMo-OdcAgZF",
        "outputId": "7292cfa4-c189-4215-e70d-d37e38269b7d"
      },
      "outputs": [
        {
          "name": "stdout",
          "output_type": "stream",
          "text": [
            "hojun\n",
            "decorator1\n",
            "hello\n"
          ]
        }
      ],
      "source": [
        "# 데코레이터에 argument를 넣는 방법\n",
        "# 한번 더 감싸줘야 함\n",
        "def deco1(name):\n",
        "    print(name)\n",
        "    def deco2(func):\n",
        "        def wrapper():\n",
        "            print('decorator1')\n",
        "            func()\n",
        "        return wrapper\n",
        "    return deco2\n",
        " \n",
        "# 데코레이터를 여러 개 지정\n",
        "@deco1('hojun')\n",
        "def hello():\n",
        "    print('hello')\n",
        " \n",
        "hello()"
      ]
    },
    {
      "attachments": {},
      "cell_type": "markdown",
      "metadata": {
        "id": "ItgEEF0xCgLz"
      },
      "source": [
        "## 모듈과 패키지"
      ]
    },
    {
      "cell_type": "code",
      "execution_count": null,
      "metadata": {
        "id": "evoUjc8YDhZI"
      },
      "outputs": [],
      "source": [
        "# 현재 폴더에 test1.py 파일을 생성했고\n",
        "# name = 'leehojun'\n",
        "# age = 10\n",
        "\n",
        "# class Human():\n",
        "#     pass\n",
        "\n",
        "# def hello():\n",
        "#     pass"
      ]
    },
    {
      "cell_type": "code",
      "execution_count": null,
      "metadata": {
        "colab": {
          "base_uri": "https://localhost:8080/"
        },
        "id": "S925EZ9wDvfy",
        "outputId": "8481bc59-4a16-41e9-e560-6dfeb6539764"
      },
      "outputs": [
        {
          "name": "stdout",
          "output_type": "stream",
          "text": [
            "leehojun\n",
            "None\n"
          ]
        }
      ],
      "source": [
        "# 연습 1 : 파일\n",
        "\n",
        "import test1\n",
        "\n",
        "print(test1.name)\n",
        "print(test1.hello())"
      ]
    },
    {
      "cell_type": "code",
      "execution_count": null,
      "metadata": {
        "id": "NC_rOcagEmTM"
      },
      "outputs": [],
      "source": [
        "# 같은 이름이 있었을 경우\n",
        "# 마지막에 추가된 변수명으로 할당한다.\n",
        "# !! 주의 !!\n",
        "# import * 는 포함시키는 변수, 메서드, 클래스 명을 알 수 없으므로\n",
        "# 주의해서 사용해야 한다.\n",
        "\n",
        "# 연습 2 : 파일 > 변수\n",
        "# from 파일 import 변수명 으로 도 가능\n",
        "\n",
        "from test2 import name\n",
        "from test1 import name\n",
        "\n",
        "print(name)"
      ]
    },
    {
      "cell_type": "code",
      "execution_count": null,
      "metadata": {
        "colab": {
          "base_uri": "https://localhost:8080/"
        },
        "id": "ueuzia_0FXCG",
        "outputId": "addd02c8-5519-44c1-f46d-b7e1e2f17387"
      },
      "outputs": [
        {
          "name": "stdout",
          "output_type": "stream",
          "text": [
            "hello world\n"
          ]
        }
      ],
      "source": [
        "# 연습 3 : 폴더 > 파일\n",
        "# one이라는 것은 여기서는 폴더이름 입니다.\n",
        "# two는 file이름\n",
        "from one import two\n",
        "\n",
        "print(two.name)"
      ]
    },
    {
      "cell_type": "code",
      "execution_count": null,
      "metadata": {
        "colab": {
          "base_uri": "https://localhost:8080/"
        },
        "id": "U-cu77MgFw4c",
        "outputId": "674f0895-bfe9-427e-f3ba-92be51676461"
      },
      "outputs": [
        {
          "name": "stdout",
          "output_type": "stream",
          "text": [
            "walalalala\n"
          ]
        }
      ],
      "source": [
        "# 연습 4 : 폴더 > 폴더 > 파일\n",
        "# 폴더 안에 폴더는 . 으로 진입한다\n",
        "\n",
        "from one.two import three\n",
        "\n",
        "print(three.name)"
      ]
    },
    {
      "cell_type": "code",
      "execution_count": null,
      "metadata": {
        "colab": {
          "base_uri": "https://localhost:8080/"
        },
        "id": "mTneH1qhHWYl",
        "outputId": "10931924-f30d-49a0-cff5-e0864b4a503f"
      },
      "outputs": [
        {
          "name": "stdout",
          "output_type": "stream",
          "text": [
            "hello world\n"
          ]
        }
      ],
      "source": [
        "# 연습 5 : as 키워드로 별칭 정하기\n",
        "import test1 as t\n",
        "\n",
        "t.hello()"
      ]
    },
    {
      "cell_type": "code",
      "execution_count": null,
      "metadata": {
        "id": "QZNOfJ6VHoSX"
      },
      "outputs": [],
      "source": [
        "# Python 모듈\n",
        "import pandas as pd\n",
        "import numpy as np"
      ]
    },
    {
      "cell_type": "code",
      "execution_count": null,
      "metadata": {
        "id": "5BgWOEEMH7V6"
      },
      "outputs": [],
      "source": [
        "\n",
        "# 패키지 설치 !pip install 패키지이름\n",
        "\n",
        "# 설치된 패키지 확인\n",
        "!pip list"
      ]
    },
    {
      "cell_type": "code",
      "execution_count": null,
      "metadata": {
        "colab": {
          "base_uri": "https://localhost:8080/"
        },
        "id": "ElCwrSJzMKFz",
        "outputId": "2a95fd47-287d-4b23-ab2a-69010de79a46"
      },
      "outputs": [
        {
          "data": {
            "text/plain": [
              "6"
            ]
          },
          "execution_count": 5,
          "metadata": {},
          "output_type": "execute_result"
        }
      ],
      "source": [
        "import random as rd\n",
        "rd.randint(0,10)\n",
        "# random.randint(0,10) # 별칭 정하면 원래일므은 안됨\n"
      ]
    },
    {
      "attachments": {},
      "cell_type": "markdown",
      "metadata": {
        "id": "vcrwWjnrMmHi"
      },
      "source": [
        "## 파일 입출력"
      ]
    },
    {
      "cell_type": "code",
      "execution_count": null,
      "metadata": {
        "id": "U-m2UteiMluI"
      },
      "outputs": [],
      "source": [
        "# open(파일이름, 파일모드)\n",
        "# 파일이 생성됨!\n",
        "f = open('python.txt', 'w') # 파일모드 : r(read), w(write, 덮어씁니다.), a(append 추가합니다)\n",
        "f.close()"
      ]
    },
    {
      "cell_type": "code",
      "execution_count": null,
      "metadata": {
        "id": "ZrppbII8Nofb"
      },
      "outputs": [],
      "source": [
        "f = open('python.txt', 'w')\n",
        "s = 'hello\\nworld'\n",
        "f.write(s)\n",
        "f.close()"
      ]
    },
    {
      "cell_type": "code",
      "execution_count": null,
      "metadata": {
        "colab": {
          "base_uri": "https://localhost:8080/"
        },
        "id": "GuFUPirhON1N",
        "outputId": "efcb8b8b-f6ce-4bdd-9b42-48c66b8a42bb"
      },
      "outputs": [
        {
          "name": "stdout",
          "output_type": "stream",
          "text": [
            "{\n",
            "    \"one\" : 10,\n",
            "    \"two\" : 20,\n",
            "    \"three\" : 30\n",
            "}\n"
          ]
        }
      ],
      "source": [
        "#문제 모듈안쓰고\n",
        "data1 = ['one', 'two', 'three']\n",
        "data2 = [10,20,30]\n",
        "'''\n",
        "{\n",
        "    \"one\" : 10,\n",
        "    \"two\" : 20,\n",
        "    \"three\" : 30\n",
        "}\n",
        "'''\n",
        "\n",
        "d = dict(zip(data1, data2))\n",
        "\n",
        "f = open ('data2.json', 'w')\n",
        "s = '{'\n",
        "for i, j in zip(data1, data2):\n",
        "    s += f'\\n    \\\"{i}\\\" : {j},'\n",
        "\n",
        "s = s[0:-1]\n",
        "s += '\\n}'\n",
        "print(s)\n",
        "f.write(s)\n",
        "f.close()"
      ]
    },
    {
      "cell_type": "code",
      "execution_count": null,
      "metadata": {
        "colab": {
          "base_uri": "https://localhost:8080/"
        },
        "id": "P-ajRE9dP8F9",
        "outputId": "1c7636b9-3248-40cd-92ae-ef10572bb199"
      },
      "outputs": [
        {
          "name": "stdout",
          "output_type": "stream",
          "text": [
            "{\n",
            "    \"one\": 10,\n",
            "    \"two\": 20,\n",
            "    \"three\": 30\n",
            "}\n"
          ]
        }
      ],
      "source": [
        "import json\n",
        "\n",
        "data1 = ['one', 'two', 'three']\n",
        "data2 = [10,20,30]\n",
        "'''\n",
        "{\n",
        "    \"one\" : 10,\n",
        "    \"two\" : 20,\n",
        "    \"three\" : 30\n",
        "}\n",
        "'''\n",
        "\n",
        "d = dict(zip(data1, data2))\n",
        "s = json.dumps(d, indent=4) ## 단순히 json 형식의 string으로 바꿔주는 함수\n",
        "print(s)\n",
        "with open('data.json', 'w', encoding='utf-8') as f:\n",
        "    json.dump(d, f, indent='\\t') ## file object가 있기 때문에 파일에 쓰는것까지~\n",
        "f.close()"
      ]
    },
    {
      "attachments": {},
      "cell_type": "markdown",
      "metadata": {
        "id": "yn2FAm_tWBZ6"
      },
      "source": [
        "## 파일 읽기"
      ]
    },
    {
      "attachments": {},
      "cell_type": "markdown",
      "metadata": {
        "id": "qPixNll-WRpV"
      },
      "source": [
        "* readline() : 라인 별로 읽습니다."
      ]
    },
    {
      "cell_type": "code",
      "execution_count": null,
      "metadata": {
        "colab": {
          "base_uri": "https://localhost:8080/"
        },
        "id": "38Y12ZJ5VeHT",
        "outputId": "f9ff6669-45bf-4d70-e552-477cc20f7781"
      },
      "outputs": [
        {
          "name": "stdout",
          "output_type": "stream",
          "text": [
            "hello\n",
            "world"
          ]
        }
      ],
      "source": [
        "f = open('python.txt', 'r')\n",
        "while True:\n",
        "\tline = f.readline()\n",
        "\tif not line:\n",
        "\t\tbreak\n",
        "\tprint(line, end='')\n",
        "f.close()"
      ]
    },
    {
      "attachments": {},
      "cell_type": "markdown",
      "metadata": {
        "id": "xgqEzhz9WbB4"
      },
      "source": [
        "* readlines() : 전체 텍스트를 한꺼번에 읽어 줄 순서대로 list로 저장해 반환합니다"
      ]
    },
    {
      "cell_type": "code",
      "execution_count": null,
      "metadata": {
        "colab": {
          "base_uri": "https://localhost:8080/"
        },
        "id": "SSqrN2A5WX0J",
        "outputId": "6a59f88a-59f7-47b7-b2a5-97b834dce9d7"
      },
      "outputs": [
        {
          "name": "stdout",
          "output_type": "stream",
          "text": [
            "['hello\\n', 'world']\n",
            "<class 'list'>\n",
            "hello\n",
            "\n",
            "world\n"
          ]
        }
      ],
      "source": [
        "f = open('python.txt', 'r')\n",
        "lines = f.readlines()\n",
        "# print(lines)        # ['hello\\n', 'world']\n",
        "# print(type(lines))  # list\n",
        "for line in lines:\n",
        "\tprint(line)\n",
        "f.close()"
      ]
    },
    {
      "attachments": {},
      "cell_type": "markdown",
      "metadata": {
        "id": "gbtelbqoWsxB"
      },
      "source": [
        "- read() : 파일 전체 내용을 읽어올 수 있습니다"
      ]
    },
    {
      "cell_type": "code",
      "execution_count": null,
      "metadata": {
        "colab": {
          "base_uri": "https://localhost:8080/"
        },
        "id": "WW-_A7D0Wwvt",
        "outputId": "dbf5c3f8-93d2-481b-d3fa-b1c9225bcef1"
      },
      "outputs": [
        {
          "name": "stdout",
          "output_type": "stream",
          "text": [
            "hello\n",
            "world\n"
          ]
        }
      ],
      "source": [
        "f = open('python.txt', 'r')\n",
        "data = f.read()\n",
        "print(data)\n",
        "f.close()"
      ]
    },
    {
      "cell_type": "code",
      "execution_count": null,
      "metadata": {
        "colab": {
          "base_uri": "https://localhost:8080/"
        },
        "id": "Bf1s5HMRXGrc",
        "outputId": "76d56ab5-3f9c-4a0c-b7dc-1b567619fd26"
      },
      "outputs": [
        {
          "name": "stdout",
          "output_type": "stream",
          "text": [
            "hello\n",
            "world"
          ]
        }
      ],
      "source": [
        "## 위에 한 줄씩 풀력하던 예제들이 2줄 개행되었던 이유는\n",
        "# print 함수가 이미 개행 옵션을 가지고 있기 때문입니다.\n",
        "\n",
        "f = open('python.txt', 'r')\n",
        "lines = f.readlines()\n",
        "for line in lines:\n",
        "\tprint(line, end='')\n",
        "f.close()"
      ]
    },
    {
      "attachments": {},
      "cell_type": "markdown",
      "metadata": {
        "id": "GKtKa4BnUqQV"
      },
      "source": [
        "## 파일 내용 추가"
      ]
    },
    {
      "cell_type": "code",
      "execution_count": null,
      "metadata": {
        "id": "_1Df8AYoUtvX"
      },
      "outputs": [],
      "source": [
        "f = open('python.txt', 'w')\n",
        "s = ''\n",
        "\n",
        "for i in range(5):\n",
        "    s += f'{i}명 참여 중입니다.\\n'\n",
        "\n",
        "f.write(s)\n",
        "f.close()"
      ]
    },
    {
      "cell_type": "code",
      "execution_count": null,
      "metadata": {
        "id": "ufOoN_GPVGm3"
      },
      "outputs": [],
      "source": [
        "f = open('python.txt', 'a') # 다시 'w'로 열면 처음부터 덮어 씀\n",
        "s = ''\n",
        "\n",
        "for i in range(5, 11):\n",
        "    s += f'{i}명 참여 중입니다.\\n'\n",
        "\n",
        "f.write(s)\n",
        "f.close()"
      ]
    },
    {
      "attachments": {},
      "cell_type": "markdown",
      "metadata": {
        "id": "SgVH50R_VW-G"
      },
      "source": [
        "- 파일이 계속 열려있는 상태가 유지\n",
        "- 메모리 효율"
      ]
    },
    {
      "attachments": {},
      "cell_type": "markdown",
      "metadata": {
        "id": "nA2c2bnQWPJg"
      },
      "source": [
        "## 파일 열기와 닫기를 동시"
      ]
    },
    {
      "attachments": {},
      "cell_type": "markdown",
      "metadata": {
        "id": "g7cVGq4TWRYQ"
      },
      "source": [
        "- 파이썬 객체를 파일에 저장 : 피클링\n",
        "- 파일에어 객체를 읽어오기 : 언피클링\n"
      ]
    },
    {
      "cell_type": "code",
      "execution_count": null,
      "metadata": {
        "id": "5iWQywkeWgfi"
      },
      "outputs": [],
      "source": [
        "with open('test.txt', 'w') as f:\n",
        "\tf.write('Life is too short, you need python')"
      ]
    },
    {
      "attachments": {},
      "cell_type": "markdown",
      "metadata": {
        "id": "jeOW1phzZ11O"
      },
      "source": [
        "## 파일 입출력 심화과정"
      ]
    },
    {
      "attachments": {},
      "cell_type": "markdown",
      "metadata": {
        "id": "xr_7LAoUaE-h"
      },
      "source": [
        "- github(https://github.com/paullabkorea/xlsxwriter) 에서 모든 소스코드를 다운로드 받으실 수 있습니다.\n",
        "- 엑셀 차트, 이미지 삽입, 한글파일 -> DataFrame 변환을 통한 데이터 분석 등은 요약강좌에서 다루지 않습니다.\n",
        "- 무료책인 인공지능을 활용한 업무자동화 책(2021 Version Notion)을 활용하면 좀 더 활용성이 극대화된 코딩이 가능합니다.(크롤링, 워드파일 크롤링, PDF크롤링, 문자 보내기 등)\n",
        "- 업무자동화 Notion 링크 : https://paullabworkspace.notion.site/2021-6192ed4219fc4e7a96e10b22cfa27c80"
      ]
    },
    {
      "cell_type": "code",
      "execution_count": null,
      "metadata": {
        "colab": {
          "base_uri": "https://localhost:8080/"
        },
        "id": "bexuxvLzaJD2",
        "outputId": "1356cc40-fb37-4eee-d642-d2fb82bc0fce"
      },
      "outputs": [
        {
          "name": "stdout",
          "output_type": "stream",
          "text": [
            "Looking in indexes: https://pypi.org/simple, https://us-python.pkg.dev/colab-wheels/public/simple/\n",
            "Collecting xlsxwriter\n",
            "  Downloading XlsxWriter-3.1.0-py3-none-any.whl (152 kB)\n",
            "\u001b[2K     \u001b[90m━━━━━━━━━━━━━━━━━━━━━━━━━━━━━━━━━━━━━━\u001b[0m \u001b[32m152.7/152.7 kB\u001b[0m \u001b[31m10.5 MB/s\u001b[0m eta \u001b[36m0:00:00\u001b[0m\n",
            "\u001b[?25hInstalling collected packages: xlsxwriter\n",
            "Successfully installed xlsxwriter-3.1.0\n"
          ]
        }
      ],
      "source": [
        "!pip3 install xlsxwriter"
      ]
    },
    {
      "cell_type": "code",
      "execution_count": null,
      "metadata": {
        "id": "6_ulDESsaaEi"
      },
      "outputs": [],
      "source": [
        "# 엑셀 다루는 패키지 openpyxl, xlrd, xlwt ...\n",
        "# 그중에서 강사님은 xlsxwriter 괜찮다고 생ㄱ각해서 이걸로..\n",
        "# 다른 사용자가 만든 모듈들\n",
        "\n"
      ]
    },
    {
      "cell_type": "code",
      "execution_count": null,
      "metadata": {
        "id": "InvsxXpTaXG8"
      },
      "outputs": [],
      "source": [
        "import xlsxwriter as xw"
      ]
    },
    {
      "cell_type": "code",
      "execution_count": null,
      "metadata": {
        "id": "Gil9qaO4a0xi"
      },
      "outputs": [],
      "source": [
        "# 엑셀 파일 생성하기\n",
        "workbook = xw.Workbook('test.xlsx')\n",
        "\n",
        "# 파일 안에 워크시트 생성하기\n",
        "worksheet = workbook.add_worksheet('test')\n",
        "\n",
        "data = ['AA', 'BB', 'CC', 'DD']\n",
        "worksheet.write('A1', data[0])\n",
        "worksheet.write('B1', data[1])\n",
        "worksheet.write('C1', data[2])\n",
        "worksheet.write('D1', data[3])\n",
        "\n",
        "worksheet.write('A2', 1)\n",
        "worksheet.write('B2', 2)\n",
        "worksheet.write('C2', 3)\n",
        "worksheet.write('D2', 4)\n",
        "\n",
        "worksheet.write(2,0, 10)    # 행, 열, 값\n",
        "worksheet.write(2,1, 20)\n",
        "worksheet.write(2,2, 30)\n",
        "worksheet.write(2,3, 40)\n",
        "\n",
        "workbook.close()"
      ]
    },
    {
      "cell_type": "code",
      "execution_count": null,
      "metadata": {
        "id": "LYVf5AtndcCn"
      },
      "outputs": [],
      "source": [
        "# 엑셀 파일 생성하기\n",
        "workbook = xw.Workbook('testtest.xlsx')\n",
        "\n",
        "# 파일 안에 워크시트 생성하기\n",
        "worksheet2 = workbook.add_worksheet('test2')\n",
        "\n",
        "홍길동 = [33, 88, 24]\n",
        "이호준 = [34, 66, 77]\n",
        "김철수 = [78, 82, 36]\n",
        "\n",
        "홍길동.append(sum(홍길동)/len(홍길동))\n",
        "이호준.append(sum(이호준)/len(이호준))\n",
        "김철수.append(sum(김철수)/len(김철수))\n",
        "\n",
        "항목 = ['이름', '국어', '영어', '수학', '평균']\n",
        "for i in range(len(항목)):\n",
        "    worksheet2.write(0, i, 항목[i])\n",
        "\n",
        "worksheet2.write(1, 0, '홍길동')\n",
        "for i in range(len(홍길동)):\n",
        "    worksheet2.write(1, i+1, 홍길동[i])\n",
        "\n",
        "worksheet2.write(2, 0, '이호준')\n",
        "for i in range(len(이호준)):\n",
        "    worksheet2.write(2, i+1, 이호준[i])\n",
        "\n",
        "worksheet2.write(3, 0, '김철수')\n",
        "for i in range(len(김철수)):\n",
        "    worksheet2.write(3, i+1, 김철수[i])\n",
        "\n",
        "workbook.close()"
      ]
    },
    {
      "cell_type": "code",
      "execution_count": null,
      "metadata": {
        "id": "-u_dmVQef0Wt"
      },
      "outputs": [],
      "source": [
        "# 자동화 하기 전에.... 배보다 배꼽이 더 큰지 확인하기\n",
        "# 개발 시간 + 유지 보수"
      ]
    },
    {
      "attachments": {},
      "cell_type": "markdown",
      "metadata": {
        "id": "P4zQv7A2hLIC"
      },
      "source": [
        "## OS 모듈"
      ]
    },
    {
      "cell_type": "code",
      "execution_count": null,
      "metadata": {
        "colab": {
          "base_uri": "https://localhost:8080/",
          "height": 35
        },
        "id": "_ReFO-ubhQUM",
        "outputId": "784c4923-c879-47c9-c6b4-fe0425aed7ee"
      },
      "outputs": [
        {
          "data": {
            "application/vnd.google.colaboratory.intrinsic+json": {
              "type": "string"
            },
            "text/plain": [
              "'/content'"
            ]
          },
          "execution_count": 58,
          "metadata": {},
          "output_type": "execute_result"
        }
      ],
      "source": [
        "import os\n",
        "os.getcwd()  # 현재폴더위치를 string으로"
      ]
    },
    {
      "cell_type": "code",
      "execution_count": null,
      "metadata": {
        "colab": {
          "base_uri": "https://localhost:8080/"
        },
        "id": "vqS62lCihk8z",
        "outputId": "f6906ba5-cb80-43ff-84bc-82f84da1c7d9"
      },
      "outputs": [
        {
          "data": {
            "text/plain": [
              "['.config',\n",
              " 'testtest.xlsx',\n",
              " 'test.xlsx',\n",
              " 'python.txt',\n",
              " 'test1.py',\n",
              " '__pycache__',\n",
              " 'data.json',\n",
              " 'data2.json',\n",
              " '.ipynb_checkpoints',\n",
              " 'one',\n",
              " 'sample_data']"
            ]
          },
          "execution_count": 59,
          "metadata": {},
          "output_type": "execute_result"
        }
      ],
      "source": [
        "os.listdir()    # 현재위치에 있는 폴더, 파일 목록을 list로"
      ]
    },
    {
      "cell_type": "code",
      "execution_count": null,
      "metadata": {
        "colab": {
          "base_uri": "https://localhost:8080/"
        },
        "id": "NHrfNe6JilwY",
        "outputId": "05014be4-1acf-4d1a-bd0f-21ede8027ad7"
      },
      "outputs": [
        {
          "name": "stdout",
          "output_type": "stream",
          "text": [
            "python.txt\n",
            "test1.py\n"
          ]
        }
      ],
      "source": [
        "for i in os.listdir():\n",
        "    if len(i.split('.')) >= 2:\n",
        "        if i.split('.')[1] == 'py' or i.split('.')[1] == 'txt':\n",
        "            print(i)"
      ]
    },
    {
      "cell_type": "code",
      "execution_count": null,
      "metadata": {
        "colab": {
          "base_uri": "https://localhost:8080/"
        },
        "id": "r03dGe-mhrFD",
        "outputId": "8f5dc89e-58b6-41b0-8426-3c7213a998ca"
      },
      "outputs": [
        {
          "name": "stdout",
          "output_type": "stream",
          "text": [
            "python.txt\n",
            "test1.py\n"
          ]
        }
      ],
      "source": [
        "for i in os.listdir():\n",
        "    if i[0] != '.' and '.' in i:\n",
        "        if i.split('.')[1] == 'py' or i.split('.')[1] == 'txt':\n",
        "            print(i)\n"
      ]
    },
    {
      "cell_type": "code",
      "execution_count": null,
      "metadata": {
        "id": "PzZFRmIGjFns"
      },
      "outputs": [],
      "source": [
        "os.mkdir('hello') #폴더를 생성할 일이 업습니다."
      ]
    },
    {
      "cell_type": "code",
      "execution_count": null,
      "metadata": {
        "colab": {
          "base_uri": "https://localhost:8080/"
        },
        "id": "qiotr9lEi7rq",
        "outputId": "1677f7e3-91e6-42b3-f47c-395252c82e3d"
      },
      "outputs": [
        {
          "data": {
            "text/plain": [
              "['test1.py']"
            ]
          },
          "execution_count": 68,
          "metadata": {},
          "output_type": "execute_result"
        }
      ],
      "source": [
        "# glob.. 처음본다\n",
        "# glob 모듈의 glob 함수는 사용자가 제시한 조건에 맞는 파일명을 리스트 형식으로 반환한다.\n",
        "# 조건에 정규식을 사용할 수 없으며 엑셀 등에서도 사용할 수 있는 \n",
        "# '*'와 '?'같은 와일드카드만을 지원한다.\n",
        "\n",
        "import glob\n",
        "\n",
        "glob.glob(\"*.py\")"
      ]
    },
    {
      "cell_type": "code",
      "execution_count": null,
      "metadata": {
        "id": "UI512eNLkgFb"
      },
      "outputs": [],
      "source": []
    },
    {
      "attachments": {},
      "cell_type": "markdown",
      "metadata": {
        "id": "TdVI_xexkcJQ"
      },
      "source": [
        "## advanced 문제"
      ]
    },
    {
      "attachments": {},
      "cell_type": "markdown",
      "metadata": {
        "id": "Binu3WsNkfBH"
      },
      "source": [
        "```python\n",
        "@writefile\n",
        "def add(a, b):\n",
        "    return a + b\n",
        "\n",
        "writefile의 데코레이터 기능은 아래와 같은 형식으로 result.txt에 항상 저장되게 하는 것입니다.\n",
        "{\n",
        "    \"a\": 10,\n",
        "    \"b\": 20,\n",
        "    \"a+b\": 30\n",
        "}\n",
        "```"
      ]
    },
    {
      "cell_type": "code",
      "execution_count": null,
      "metadata": {
        "colab": {
          "base_uri": "https://localhost:8080/"
        },
        "id": "tOI-dP6inG3u",
        "outputId": "0928a5f0-f2b4-4e9a-9ca6-f0dc780b74b3"
      },
      "outputs": [
        {
          "data": {
            "text/plain": [
              "30"
            ]
          },
          "execution_count": 1,
          "metadata": {},
          "output_type": "execute_result"
        }
      ],
      "source": [
        "import json\n",
        "\n",
        "def writefile(func):\n",
        "    def wrapper(arg1, arg2):\n",
        "        f = open('result.txt', 'w')\n",
        "        d = {'a': arg1, 'b': arg2, 'a+b': func(arg1, arg2)}\n",
        "        f.write(json.dumps(d, indent='\\t'))\n",
        "        f.close()\n",
        "        ## 원래 add의 정수 리턴은 있어야 함\n",
        "        return func(arg1, arg2) \n",
        "    return wrapper\n",
        "\n",
        "@writefile\n",
        "def add(a, b):\n",
        "    return a + b\n",
        "\n",
        "add(10, 20)"
      ]
    },
    {
      "attachments": {},
      "cell_type": "markdown",
      "metadata": {
        "id": "2Wr7ldWQykRe"
      },
      "source": [
        "## !! 오늘 배운 것 정리 230511\n",
        "\n",
        "- 제너레이터\n",
        "  - 제너레이터란, 이터레이터(순회 가능한 객체)를 생성해주는 함수\n",
        "  - 예제 1\n",
        "    ```python\n",
        "    def gen():\n",
        "        count = 0\n",
        "        while True:\n",
        "            yield count\n",
        "            count += 1\n",
        "    for i in gen():\n",
        "        print(i)\n",
        "        if i == 10:\n",
        "            break\n",
        "    ```\n",
        "- 데코레이터\n",
        "\n",
        "  - 함수 앞 뒤로 다른 역활을 해주는 기능을 붙이고 싶을 때 사용\n",
        "  - 코드 예\n",
        "\n",
        "    ```python\n",
        "    def print_hello(func):\n",
        "        def wrap_func():\n",
        "            print('hello start')\n",
        "            func()\n",
        "            print('hello end')\n",
        "        return wrap_func\n",
        "\n",
        "    @print_hello\n",
        "    def func1():\n",
        "        print('func1 입니다.')\n",
        "\n",
        "    func1()\n",
        "    ```\n",
        "\n",
        "- 파이썬 모듈\n",
        "\n",
        "  - 모듈 : 함수나 변수 또는 클래스를 모아 놓은 파이썬 파일\n",
        "  - 패키지 : 파이썬 모듈들을 계층적으로 관리\n",
        "  - 모듈 사용 예1\n",
        "\n",
        "  ```python\n",
        "  # 같은 폴더 내 test1.py\n",
        "  name = 'leehojun'\n",
        "  age = 10\n",
        "\n",
        "  def hello():\n",
        "      pass\n",
        "\n",
        "  class Human():\n",
        "      pass\n",
        "\n",
        "  # 같은 폴더 내 실행 파일\n",
        "  import test1\n",
        "\n",
        "  print(test1.name)\n",
        "  print(test1.hello())\n",
        "  ```\n",
        "\n",
        "  - 예2\n",
        "\n",
        "  ```python\n",
        "  # 연습 3 (폴더 > 파일 생성)\n",
        "  # one이라는 것이 여기서는 폴더입니다!\n",
        "  # two가 file 이름이에요.\n",
        "  from one import two\n",
        "\n",
        "  print(two.name)\n",
        "  ```\n",
        "\n",
        "  - 예3\n",
        "\n",
        "  ```python\n",
        "  # 연습 4 (폴더 > 폴더 > 파일 생성)\n",
        "  # 런타임 재시작 하세요!\n",
        "  from one.two import three\n",
        "\n",
        "  print(three.name)\n",
        "  ```\n",
        "\n",
        "- 파일 입출력\n",
        "  - 파일을 읽고 쓰는 것\n",
        "    - 파일 쓰기\n",
        "    ```python\n",
        "    f = open('python.txt', 'w')\n",
        "    # 파일모드 : r(read), w(write, 처음부터 덮어씁니다.), a(append)\n",
        "    s = 'hello\\nworld'\n",
        "    f.write(s)\n",
        "    f.close()\n",
        "    ```\n",
        "    - 파일 읽기\n",
        "    ```python\n",
        "    f = open('python.txt', 'r')\n",
        "    while True:\n",
        "        line = f.readline()\n",
        "        if not line:\n",
        "            break\n",
        "        print(line)\n",
        "    f.close()\n",
        "    ```\n",
        "    ```python\n",
        "    f = open('python.txt', 'r')\n",
        "    data = f.read()\n",
        "    print(data)\n",
        "    f.close()\n",
        "    ```\n"
      ]
    },
    {
      "attachments": {},
      "cell_type": "markdown",
      "metadata": {
        "id": "QQldTvu8W_cu"
      },
      "source": [
        "## Python Error"
      ]
    },
    {
      "attachments": {},
      "cell_type": "markdown",
      "metadata": {
        "id": "hzHID6l0XChI"
      },
      "source": [
        "- Python 에서는 에러를 만나게 되면 코드(서비스)가 멈춥니다.\n",
        "- 여러분일이 짠 코드가 서비스에 영향이 끼쳐지지 않도록 시니어 분들이 견고한 코드를 작성해놨을 겁니다.\n",
        "- TDD, 테스트 주도 개발 등 Test를 할 수 있는 환경 등이 갖춰져 있습니다.\n",
        "- 작성한 코드는 실서비스로 배포되지 않습니다. 작성한 코드는 테스트 서버로 일단 배포되서 잘 작동하는지 테스트 해봅니다.\n",
        "- 에러가 발생해도 멈추지 않도록 처리해놔야 함\n",
        "- https://docs.python.org/ko/3/library/exceptions.html"
      ]
    },
    {
      "cell_type": "code",
      "execution_count": null,
      "metadata": {
        "colab": {
          "base_uri": "https://localhost:8080/",
          "height": 174
        },
        "id": "RFGgRkINW4oK",
        "outputId": "ed6cb1f6-bb4d-4ff6-f6d1-605e81a2de88"
      },
      "outputs": [
        {
          "ename": "ZeroDivisionError",
          "evalue": "ignored",
          "output_type": "error",
          "traceback": [
            "\u001b[0;31m---------------------------------------------------------------------------\u001b[0m",
            "\u001b[0;31mZeroDivisionError\u001b[0m                         Traceback (most recent call last)",
            "\u001b[0;32m<ipython-input-9-9e1622b385b6>\u001b[0m in \u001b[0;36m<cell line: 1>\u001b[0;34m()\u001b[0m\n\u001b[0;32m----> 1\u001b[0;31m \u001b[0;36m1\u001b[0m\u001b[0;34m/\u001b[0m\u001b[0;36m0\u001b[0m\u001b[0;34m\u001b[0m\u001b[0;34m\u001b[0m\u001b[0m\n\u001b[0m",
            "\u001b[0;31mZeroDivisionError\u001b[0m: division by zero"
          ]
        }
      ],
      "source": [
        "1/0"
      ]
    },
    {
      "cell_type": "code",
      "execution_count": null,
      "metadata": {
        "colab": {
          "base_uri": "https://localhost:8080/",
          "height": 137
        },
        "id": "6mHZXbMJYWLK",
        "outputId": "1a7789f3-1816-4548-882d-114a5a2a4c9d"
      },
      "outputs": [
        {
          "ename": "SyntaxError",
          "evalue": "ignored",
          "output_type": "error",
          "traceback": [
            "\u001b[0;36m  File \u001b[0;32m\"<ipython-input-10-f5f7d28ce00f>\"\u001b[0;36m, line \u001b[0;32m1\u001b[0m\n\u001b[0;31m    for i in range()\u001b[0m\n\u001b[0m                    ^\u001b[0m\n\u001b[0;31mSyntaxError\u001b[0m\u001b[0;31m:\u001b[0m expected ':'\n"
          ]
        }
      ],
      "source": [
        "for i in range()\n",
        "    print(i)"
      ]
    },
    {
      "cell_type": "code",
      "execution_count": null,
      "metadata": {
        "colab": {
          "base_uri": "https://localhost:8080/",
          "height": 193
        },
        "id": "XBtWb4N6YZTl",
        "outputId": "4a1b2aba-7bbf-4049-b772-ab09b5ae0339"
      },
      "outputs": [
        {
          "ename": "NameError",
          "evalue": "ignored",
          "output_type": "error",
          "traceback": [
            "\u001b[0;31m---------------------------------------------------------------------------\u001b[0m",
            "\u001b[0;31mNameError\u001b[0m                                 Traceback (most recent call last)",
            "\u001b[0;32m<ipython-input-11-29a9822e258e>\u001b[0m in \u001b[0;36m<cell line: 2>\u001b[0;34m()\u001b[0m\n\u001b[1;32m      1\u001b[0m \u001b[0;31m#Name Error\u001b[0m\u001b[0;34m\u001b[0m\u001b[0;34m\u001b[0m\u001b[0m\n\u001b[0;32m----> 2\u001b[0;31m \u001b[0mprint\u001b[0m\u001b[0;34m(\u001b[0m\u001b[0mx\u001b[0m\u001b[0;34m)\u001b[0m\u001b[0;34m\u001b[0m\u001b[0;34m\u001b[0m\u001b[0m\n\u001b[0m",
            "\u001b[0;31mNameError\u001b[0m: name 'x' is not defined"
          ]
        }
      ],
      "source": [
        "#Name Error\n",
        "print(x)"
      ]
    },
    {
      "cell_type": "code",
      "execution_count": null,
      "metadata": {
        "colab": {
          "base_uri": "https://localhost:8080/",
          "height": 211
        },
        "id": "solyfXuOYa9i",
        "outputId": "b2c813c7-b555-430d-cba7-228fada55092"
      },
      "outputs": [
        {
          "ename": "TypeError",
          "evalue": "ignored",
          "output_type": "error",
          "traceback": [
            "\u001b[0;31m---------------------------------------------------------------------------\u001b[0m",
            "\u001b[0;31mTypeError\u001b[0m                                 Traceback (most recent call last)",
            "\u001b[0;32m<ipython-input-12-daabb66859a4>\u001b[0m in \u001b[0;36m<cell line: 4>\u001b[0;34m()\u001b[0m\n\u001b[1;32m      2\u001b[0m \u001b[0mx\u001b[0m \u001b[0;34m=\u001b[0m \u001b[0;36m10\u001b[0m\u001b[0;34m\u001b[0m\u001b[0;34m\u001b[0m\u001b[0m\n\u001b[1;32m      3\u001b[0m \u001b[0my\u001b[0m \u001b[0;34m=\u001b[0m \u001b[0;34m'20'\u001b[0m\u001b[0;34m\u001b[0m\u001b[0;34m\u001b[0m\u001b[0m\n\u001b[0;32m----> 4\u001b[0;31m \u001b[0mprint\u001b[0m\u001b[0;34m(\u001b[0m\u001b[0mx\u001b[0m\u001b[0;34m+\u001b[0m\u001b[0my\u001b[0m\u001b[0;34m)\u001b[0m\u001b[0;34m\u001b[0m\u001b[0;34m\u001b[0m\u001b[0m\n\u001b[0m",
            "\u001b[0;31mTypeError\u001b[0m: unsupported operand type(s) for +: 'int' and 'str'"
          ]
        }
      ],
      "source": [
        "# type error\n",
        "x = 10\n",
        "y = '20'\n",
        "print(x+y)"
      ]
    },
    {
      "cell_type": "code",
      "execution_count": null,
      "metadata": {
        "colab": {
          "base_uri": "https://localhost:8080/",
          "height": 193
        },
        "id": "9mnVeJSXYk11",
        "outputId": "90064894-4fc0-4c08-a8e1-565ab45aeabd"
      },
      "outputs": [
        {
          "ename": "IndexError",
          "evalue": "ignored",
          "output_type": "error",
          "traceback": [
            "\u001b[0;31m---------------------------------------------------------------------------\u001b[0m",
            "\u001b[0;31mIndexError\u001b[0m                                Traceback (most recent call last)",
            "\u001b[0;32m<ipython-input-13-9460933b46ac>\u001b[0m in \u001b[0;36m<cell line: 2>\u001b[0;34m()\u001b[0m\n\u001b[1;32m      1\u001b[0m \u001b[0mli\u001b[0m \u001b[0;34m=\u001b[0m \u001b[0;34m[\u001b[0m\u001b[0;36m1\u001b[0m\u001b[0;34m,\u001b[0m\u001b[0;36m2\u001b[0m\u001b[0;34m,\u001b[0m\u001b[0;36m3\u001b[0m\u001b[0;34m]\u001b[0m\u001b[0;34m\u001b[0m\u001b[0;34m\u001b[0m\u001b[0m\n\u001b[0;32m----> 2\u001b[0;31m \u001b[0mprint\u001b[0m\u001b[0;34m(\u001b[0m\u001b[0mli\u001b[0m\u001b[0;34m[\u001b[0m\u001b[0;36m3\u001b[0m\u001b[0;34m]\u001b[0m\u001b[0;34m)\u001b[0m\u001b[0;34m\u001b[0m\u001b[0;34m\u001b[0m\u001b[0m\n\u001b[0m",
            "\u001b[0;31mIndexError\u001b[0m: list index out of range"
          ]
        }
      ],
      "source": [
        "# IndexError: list index out of range\n",
        "li = [1,2,3]\n",
        "print(li[3])"
      ]
    },
    {
      "cell_type": "code",
      "execution_count": null,
      "metadata": {
        "colab": {
          "base_uri": "https://localhost:8080/",
          "height": 211
        },
        "id": "Fr6vXdOBY7pD",
        "outputId": "af2919c7-f987-4432-eb54-1d3e7df91cc8"
      },
      "outputs": [
        {
          "ename": "KeyError",
          "evalue": "ignored",
          "output_type": "error",
          "traceback": [
            "\u001b[0;31m---------------------------------------------------------------------------\u001b[0m",
            "\u001b[0;31mKeyError\u001b[0m                                  Traceback (most recent call last)",
            "\u001b[0;32m<ipython-input-14-8f9ea626777a>\u001b[0m in \u001b[0;36m<cell line: 3>\u001b[0;34m()\u001b[0m\n\u001b[1;32m      1\u001b[0m \u001b[0;31m# Key Error\u001b[0m\u001b[0;34m\u001b[0m\u001b[0;34m\u001b[0m\u001b[0m\n\u001b[1;32m      2\u001b[0m \u001b[0mmy_dict\u001b[0m \u001b[0;34m=\u001b[0m \u001b[0;34m{\u001b[0m\u001b[0;34m'a'\u001b[0m\u001b[0;34m:\u001b[0m \u001b[0;36m1\u001b[0m\u001b[0;34m,\u001b[0m \u001b[0;34m'b'\u001b[0m\u001b[0;34m:\u001b[0m \u001b[0;36m2\u001b[0m\u001b[0;34m}\u001b[0m\u001b[0;34m\u001b[0m\u001b[0;34m\u001b[0m\u001b[0m\n\u001b[0;32m----> 3\u001b[0;31m \u001b[0mprint\u001b[0m\u001b[0;34m(\u001b[0m\u001b[0mmy_dict\u001b[0m\u001b[0;34m[\u001b[0m\u001b[0;34m'c'\u001b[0m\u001b[0;34m]\u001b[0m\u001b[0;34m)\u001b[0m\u001b[0;34m\u001b[0m\u001b[0;34m\u001b[0m\u001b[0m\n\u001b[0m",
            "\u001b[0;31mKeyError\u001b[0m: 'c'"
          ]
        }
      ],
      "source": [
        "# Key Error\n",
        "my_dict = {'a': 1, 'b': 2}\n",
        "print(my_dict['c'])"
      ]
    },
    {
      "cell_type": "code",
      "execution_count": null,
      "metadata": {
        "colab": {
          "base_uri": "https://localhost:8080/",
          "height": 193
        },
        "id": "FaBAQMaoZB6z",
        "outputId": "ea281f3a-a3dc-4a3a-ba14-222606d4f9d1"
      },
      "outputs": [
        {
          "ename": "ValueError",
          "evalue": "ignored",
          "output_type": "error",
          "traceback": [
            "\u001b[0;31m---------------------------------------------------------------------------\u001b[0m",
            "\u001b[0;31mValueError\u001b[0m                                Traceback (most recent call last)",
            "\u001b[0;32m<ipython-input-15-b8f9f0574b88>\u001b[0m in \u001b[0;36m<cell line: 2>\u001b[0;34m()\u001b[0m\n\u001b[1;32m      1\u001b[0m \u001b[0;31m# Value Error\u001b[0m\u001b[0;34m\u001b[0m\u001b[0;34m\u001b[0m\u001b[0m\n\u001b[0;32m----> 2\u001b[0;31m \u001b[0mint\u001b[0m\u001b[0;34m(\u001b[0m\u001b[0;34m'a'\u001b[0m\u001b[0;34m)\u001b[0m\u001b[0;34m\u001b[0m\u001b[0;34m\u001b[0m\u001b[0m\n\u001b[0m",
            "\u001b[0;31mValueError\u001b[0m: invalid literal for int() with base 10: 'a'"
          ]
        }
      ],
      "source": [
        "# Value Error\n",
        "int('a')"
      ]
    },
    {
      "cell_type": "code",
      "execution_count": null,
      "metadata": {
        "colab": {
          "base_uri": "https://localhost:8080/",
          "height": 211
        },
        "id": "ZFtMCHPCZM7C",
        "outputId": "88fc345f-f320-4a2f-917b-06f84098e0f8"
      },
      "outputs": [
        {
          "ename": "AttributeError",
          "evalue": "ignored",
          "output_type": "error",
          "traceback": [
            "\u001b[0;31m---------------------------------------------------------------------------\u001b[0m",
            "\u001b[0;31mAttributeError\u001b[0m                            Traceback (most recent call last)",
            "\u001b[0;32m<ipython-input-16-eb0bc41007a3>\u001b[0m in \u001b[0;36m<cell line: 3>\u001b[0;34m()\u001b[0m\n\u001b[1;32m      1\u001b[0m \u001b[0;31m# Attribute Error\u001b[0m\u001b[0;34m\u001b[0m\u001b[0;34m\u001b[0m\u001b[0m\n\u001b[1;32m      2\u001b[0m \u001b[0mmy_list\u001b[0m \u001b[0;34m=\u001b[0m \u001b[0;34m[\u001b[0m\u001b[0;36m1\u001b[0m\u001b[0;34m,\u001b[0m \u001b[0;36m2\u001b[0m\u001b[0;34m,\u001b[0m \u001b[0;36m3\u001b[0m\u001b[0;34m]\u001b[0m\u001b[0;34m\u001b[0m\u001b[0;34m\u001b[0m\u001b[0m\n\u001b[0;32m----> 3\u001b[0;31m \u001b[0mprint\u001b[0m\u001b[0;34m(\u001b[0m\u001b[0mmy_list\u001b[0m\u001b[0;34m.\u001b[0m\u001b[0mappeeend\u001b[0m\u001b[0;34m(\u001b[0m\u001b[0;36m4\u001b[0m\u001b[0;34m)\u001b[0m\u001b[0;34m)\u001b[0m\u001b[0;34m\u001b[0m\u001b[0;34m\u001b[0m\u001b[0m\n\u001b[0m",
            "\u001b[0;31mAttributeError\u001b[0m: 'list' object has no attribute 'appeeend'"
          ]
        }
      ],
      "source": [
        "# Attribute Error\n",
        "my_list = [1, 2, 3]\n",
        "print(my_list.appeeend(4))"
      ]
    },
    {
      "cell_type": "code",
      "execution_count": null,
      "metadata": {
        "colab": {
          "base_uri": "https://localhost:8080/",
          "height": 211
        },
        "id": "UD0bJ2KCZdJj",
        "outputId": "09d21c75-79ee-4f48-91ee-a4015d7b04b4"
      },
      "outputs": [
        {
          "ename": "TypeError",
          "evalue": "ignored",
          "output_type": "error",
          "traceback": [
            "\u001b[0;31m---------------------------------------------------------------------------\u001b[0m",
            "\u001b[0;31mTypeError\u001b[0m                                 Traceback (most recent call last)",
            "\u001b[0;32m<ipython-input-17-cbb8c8b9d43a>\u001b[0m in \u001b[0;36m<cell line: 5>\u001b[0;34m()\u001b[0m\n\u001b[1;32m      3\u001b[0m     \u001b[0;32mreturn\u001b[0m \u001b[0mx\u001b[0m \u001b[0;34m+\u001b[0m \u001b[0my\u001b[0m\u001b[0;34m\u001b[0m\u001b[0;34m\u001b[0m\u001b[0m\n\u001b[1;32m      4\u001b[0m \u001b[0;34m\u001b[0m\u001b[0m\n\u001b[0;32m----> 5\u001b[0;31m \u001b[0madd\u001b[0m\u001b[0;34m(\u001b[0m\u001b[0;36m1\u001b[0m\u001b[0;34m,\u001b[0m \u001b[0;36m2\u001b[0m\u001b[0;34m,\u001b[0m \u001b[0;36m3\u001b[0m\u001b[0;34m)\u001b[0m\u001b[0;34m\u001b[0m\u001b[0;34m\u001b[0m\u001b[0m\n\u001b[0m",
            "\u001b[0;31mTypeError\u001b[0m: add() takes 2 positional arguments but 3 were given"
          ]
        }
      ],
      "source": [
        "# Type Error\n",
        "def add(x, y):\n",
        "    return x + y\n",
        "\n",
        "add(1, 2, 3)"
      ]
    },
    {
      "attachments": {},
      "cell_type": "markdown",
      "metadata": {
        "id": "TbRPcRT3Zngy"
      },
      "source": [
        "## 예외 처리"
      ]
    },
    {
      "cell_type": "code",
      "execution_count": null,
      "metadata": {
        "id": "r8vYdacUZ3s3"
      },
      "outputs": [],
      "source": [
        "try:\n",
        "    # 예외가 발생할 가능성이 있는 코드\n",
        "except:\n",
        "    # 예외 처리 코드"
      ]
    },
    {
      "cell_type": "code",
      "execution_count": null,
      "metadata": {
        "colab": {
          "base_uri": "https://localhost:8080/"
        },
        "id": "_Wrg1ekvZ7fG",
        "outputId": "2be554ef-fd3e-43cd-f8f0-3f6d1a716ac9"
      },
      "outputs": [
        {
          "name": "stdout",
          "output_type": "stream",
          "text": [
            "예외발생\n"
          ]
        }
      ],
      "source": [
        "def div(a, b):\n",
        "    return a/b\n",
        "\n",
        "try:\n",
        "    div(1,0) # Zerodivision 에러 발생하는 코드\n",
        "except:\n",
        "    print('예외발생')\n",
        "\n",
        "# 예외가 발생하지만 프로그램이 정상종료됨"
      ]
    },
    {
      "cell_type": "code",
      "execution_count": null,
      "metadata": {
        "colab": {
          "base_uri": "https://localhost:8080/",
          "height": 284
        },
        "id": "MzNpURDIaGj-",
        "outputId": "c0168696-50ba-40fd-837d-908991239ede"
      },
      "outputs": [
        {
          "name": "stdout",
          "output_type": "stream",
          "text": [
            "예외발생\n",
            "예외발생\n"
          ]
        },
        {
          "ename": "TypeError",
          "evalue": "ignored",
          "output_type": "error",
          "traceback": [
            "\u001b[0;31m---------------------------------------------------------------------------\u001b[0m",
            "\u001b[0;31mTypeError\u001b[0m                                 Traceback (most recent call last)",
            "\u001b[0;32m<ipython-input-19-eb3f81f9d654>\u001b[0m in \u001b[0;36m<cell line: 10>\u001b[0;34m()\u001b[0m\n\u001b[1;32m      8\u001b[0m         \u001b[0mprint\u001b[0m\u001b[0;34m(\u001b[0m\u001b[0;34m'예외발생'\u001b[0m\u001b[0;34m)\u001b[0m\u001b[0;34m\u001b[0m\u001b[0;34m\u001b[0m\u001b[0m\n\u001b[1;32m      9\u001b[0m \u001b[0;34m\u001b[0m\u001b[0m\n\u001b[0;32m---> 10\u001b[0;31m \u001b[0mresult\u001b[0m \u001b[0;34m=\u001b[0m \u001b[0mf\u001b[0m\u001b[0;34m(\u001b[0m\u001b[0;34m)\u001b[0m \u001b[0;34m+\u001b[0m \u001b[0mf\u001b[0m\u001b[0;34m(\u001b[0m\u001b[0;34m)\u001b[0m\u001b[0;34m\u001b[0m\u001b[0;34m\u001b[0m\u001b[0m\n\u001b[0m\u001b[1;32m     11\u001b[0m \u001b[0mprint\u001b[0m\u001b[0;34m(\u001b[0m\u001b[0mresult\u001b[0m\u001b[0;34m)\u001b[0m\u001b[0;34m\u001b[0m\u001b[0;34m\u001b[0m\u001b[0m\n\u001b[1;32m     12\u001b[0m \u001b[0;31m# 예외가 발생하지만 프로그램이 정상종료됨\u001b[0m\u001b[0;34m\u001b[0m\u001b[0;34m\u001b[0m\u001b[0m\n",
            "\u001b[0;31mTypeError\u001b[0m: unsupported operand type(s) for +: 'NoneType' and 'NoneType'"
          ]
        }
      ],
      "source": [
        "def div(a, b):\n",
        "    return a/b\n",
        "\n",
        "def f():\n",
        "    try:\n",
        "        return div(1,0) # Zerodivision 에러 발생하는 코드\n",
        "    except:\n",
        "        print('예외발생')\n",
        "\n",
        "result = f() + f()\n",
        "print(result)\n",
        "# 예외처리를 해도 에러가 발생함. except일때 None이 리턴되서..."
      ]
    },
    {
      "cell_type": "code",
      "execution_count": null,
      "metadata": {
        "colab": {
          "base_uri": "https://localhost:8080/"
        },
        "id": "4gKAaHdiacVb",
        "outputId": "2a8310f7-30f5-467e-8489-08c04bf0efbd"
      },
      "outputs": [
        {
          "name": "stdout",
          "output_type": "stream",
          "text": [
            "inf\n"
          ]
        }
      ],
      "source": [
        "def div(a, b):\n",
        "    return a/b\n",
        "\n",
        "def f():\n",
        "    try:\n",
        "        return div(1,0) # Zerodivision 에러 발생하는 코드\n",
        "    except:\n",
        "        return float('inf')\n",
        "\n",
        "result = f() + f()\n",
        "print(result)"
      ]
    },
    {
      "cell_type": "code",
      "execution_count": null,
      "metadata": {
        "id": "dmMUOCFbbgws"
      },
      "outputs": [],
      "source": [
        "try:\n",
        "    # 예외가 발생할 가능성이 있는 코드\n",
        "except:\n",
        "    # 예외 처리 코드\n",
        "else:\n",
        "    # 예외가 발생하지 않을 때 실행되는 코드"
      ]
    },
    {
      "cell_type": "code",
      "execution_count": null,
      "metadata": {
        "colab": {
          "base_uri": "https://localhost:8080/",
          "height": 137
        },
        "id": "zX6-oAjBb3oD",
        "outputId": "c5438119-a706-46b2-9518-78492244a50a"
      },
      "outputs": [
        {
          "ename": "SyntaxError",
          "evalue": "ignored",
          "output_type": "error",
          "traceback": [
            "\u001b[0;36m  File \u001b[0;32m\"<ipython-input-23-46fba07648ac>\"\u001b[0;36m, line \u001b[0;32m4\u001b[0m\n\u001b[0;31m    return 0\u001b[0m\n\u001b[0m    ^\u001b[0m\n\u001b[0;31mSyntaxError\u001b[0m\u001b[0;31m:\u001b[0m 'return' outside function\n"
          ]
        }
      ],
      "source": [
        "try:\n",
        "    # 예외가 발생할 가능성이 있는 코드\n",
        "    1/0\n",
        "except:\n",
        "    # 예외 처리 코드\n",
        "    print('예외발생')\n",
        "else:\n",
        "    # 예외가 발생하지 않을 때 실행되는 코드\n",
        "    print('정상종료!')"
      ]
    },
    {
      "cell_type": "code",
      "execution_count": null,
      "metadata": {
        "colab": {
          "base_uri": "https://localhost:8080/"
        },
        "id": "9SuomvuMen2U",
        "outputId": "58f1cfbd-e201-426a-9fae-a943bb1c79a7"
      },
      "outputs": [
        {
          "name": "stdout",
          "output_type": "stream",
          "text": [
            "정상종료!\n"
          ]
        }
      ],
      "source": [
        "try:\n",
        "    # 예외가 발생할 가능성이 있는 코드\n",
        "    1/2\n",
        "except:\n",
        "    # 예외 처리 코드\n",
        "    print('예외발생')\n",
        "else:\n",
        "    # 예외가 발생하지 않을 때 실행되는 코드\n",
        "    print('정상종료!')"
      ]
    },
    {
      "cell_type": "code",
      "execution_count": null,
      "metadata": {
        "id": "gl0roMZ1b7TS"
      },
      "outputs": [],
      "source": [
        "# while, for, try-except 구문에서 else는\n",
        "# 정상 종료되었을 때 실행됨"
      ]
    },
    {
      "cell_type": "code",
      "execution_count": null,
      "metadata": {
        "id": "jVp5mfx0erWW"
      },
      "outputs": [],
      "source": [
        "# try + finally\n",
        "# 에러가 나면 코드가 멈추기 때문에 except와 함께 사용합니다.\n",
        "# finally는 예외발생 여부와 관계없이 반드시 실행되는 코드 구문\n",
        "\n",
        "try:\n",
        "    # 예외가 발생할 가능성이 있는 코드\n",
        "finally:\n",
        "    # 예외 발생 여부와 상관없이 항상 실행되는 코드"
      ]
    },
    {
      "cell_type": "code",
      "execution_count": null,
      "metadata": {
        "colab": {
          "base_uri": "https://localhost:8080/",
          "height": 266
        },
        "id": "8YNvWZj9e2LG",
        "outputId": "1fd7de14-daec-49ee-b59a-bb8b59156a26"
      },
      "outputs": [
        {
          "name": "stdout",
          "output_type": "stream",
          "text": [
            "finally\n"
          ]
        },
        {
          "ename": "ZeroDivisionError",
          "evalue": "ignored",
          "output_type": "error",
          "traceback": [
            "\u001b[0;31m---------------------------------------------------------------------------\u001b[0m",
            "\u001b[0;31mZeroDivisionError\u001b[0m                         Traceback (most recent call last)",
            "\u001b[0;32m<ipython-input-25-7db3cd53a009>\u001b[0m in \u001b[0;36m<cell line: 1>\u001b[0;34m()\u001b[0m\n\u001b[1;32m      1\u001b[0m \u001b[0;32mtry\u001b[0m\u001b[0;34m:\u001b[0m\u001b[0;34m\u001b[0m\u001b[0;34m\u001b[0m\u001b[0m\n\u001b[0;32m----> 2\u001b[0;31m     \u001b[0;36m1\u001b[0m\u001b[0;34m/\u001b[0m\u001b[0;36m0\u001b[0m\u001b[0;34m\u001b[0m\u001b[0;34m\u001b[0m\u001b[0m\n\u001b[0m\u001b[1;32m      3\u001b[0m \u001b[0;32mfinally\u001b[0m\u001b[0;34m:\u001b[0m\u001b[0;34m\u001b[0m\u001b[0;34m\u001b[0m\u001b[0m\n\u001b[1;32m      4\u001b[0m     \u001b[0mprint\u001b[0m\u001b[0;34m(\u001b[0m\u001b[0;34m'finally'\u001b[0m\u001b[0;34m)\u001b[0m\u001b[0;34m\u001b[0m\u001b[0;34m\u001b[0m\u001b[0m\n\u001b[1;32m      5\u001b[0m \u001b[0;34m\u001b[0m\u001b[0m\n",
            "\u001b[0;31mZeroDivisionError\u001b[0m: division by zero"
          ]
        }
      ],
      "source": [
        "try:\n",
        "    1/0\n",
        "finally:\n",
        "    print('finally')\n",
        "\n",
        "print('hello world')\n",
        "#코드는 멈추지만 finally는 진행되고 넘춤..\n"
      ]
    },
    {
      "cell_type": "code",
      "execution_count": null,
      "metadata": {
        "id": "bew_We7OfF0g"
      },
      "outputs": [],
      "source": [
        "# try + except + finally\n",
        "\n",
        "try:\n",
        "    # 예외가 발생할 가능성이 있는 코드\n",
        "except:\n",
        "    # 예외 처리 코드\n",
        "finally:\n",
        "    # 예외 발생 여부와 상관없이 항상 실행되는 코드"
      ]
    },
    {
      "cell_type": "code",
      "execution_count": null,
      "metadata": {
        "colab": {
          "base_uri": "https://localhost:8080/"
        },
        "id": "yf2jnfe5euoU",
        "outputId": "1e3565f4-3f7e-4d3d-e3e5-79a870a71675"
      },
      "outputs": [
        {
          "name": "stdout",
          "output_type": "stream",
          "text": [
            "hello\n",
            "world\n"
          ]
        }
      ],
      "source": [
        "try:\n",
        "    1/0\n",
        "except:\n",
        "    print('hello')\n",
        "finally:\n",
        "    print('world')"
      ]
    },
    {
      "cell_type": "code",
      "execution_count": null,
      "metadata": {
        "id": "sDmiYoI0ff3A"
      },
      "outputs": [],
      "source": [
        "# try + except + else + finally\n",
        "try:\n",
        "    # 예외가 발생할 가능성이 있는 코드\n",
        "except:\n",
        "    # 예외 처리 코드\n",
        "else:\n",
        "    # 예외가 발생하지 않을 때 실행되는 코드\n",
        "finally:\n",
        "    # 예외 발생 여부와 상관없이 항상 실행되는 코드"
      ]
    },
    {
      "cell_type": "code",
      "execution_count": null,
      "metadata": {
        "colab": {
          "base_uri": "https://localhost:8080/"
        },
        "id": "65ibg7MnfjAK",
        "outputId": "6ef2425c-6b62-4dc4-ea82-00b08cc0a053"
      },
      "outputs": [
        {
          "name": "stdout",
          "output_type": "stream",
          "text": [
            "정상종료\n",
            "finally\n"
          ]
        }
      ],
      "source": [
        "try:\n",
        "    1/1\n",
        "except:\n",
        "    print('예외발생')\n",
        "else:\n",
        "    print('정상종료')\n",
        "finally:\n",
        "    print('finally')"
      ]
    },
    {
      "cell_type": "code",
      "execution_count": null,
      "metadata": {
        "colab": {
          "base_uri": "https://localhost:8080/",
          "height": 193
        },
        "id": "zHiaWL-ff7j2",
        "outputId": "00c15b9a-e1a0-4c25-c686-0cbf6ab42160"
      },
      "outputs": [
        {
          "ename": "RuntimeError",
          "evalue": "ignored",
          "output_type": "error",
          "traceback": [
            "\u001b[0;31m---------------------------------------------------------------------------\u001b[0m",
            "\u001b[0;31mRuntimeError\u001b[0m                              Traceback (most recent call last)",
            "\u001b[0;32m<ipython-input-29-b8bfe78cb41b>\u001b[0m in \u001b[0;36m<cell line: 2>\u001b[0;34m()\u001b[0m\n\u001b[1;32m      1\u001b[0m \u001b[0;31m## 에러를 발생시키는 코드 raise\u001b[0m\u001b[0;34m\u001b[0m\u001b[0;34m\u001b[0m\u001b[0m\n\u001b[0;32m----> 2\u001b[0;31m \u001b[0;32mraise\u001b[0m\u001b[0;34m\u001b[0m\u001b[0;34m\u001b[0m\u001b[0m\n\u001b[0m",
            "\u001b[0;31mRuntimeError\u001b[0m: No active exception to reraise"
          ]
        }
      ],
      "source": [
        "## 에러를 발생시키는 코드 raise 에러이름\n",
        "raise"
      ]
    },
    {
      "cell_type": "code",
      "execution_count": null,
      "metadata": {
        "colab": {
          "base_uri": "https://localhost:8080/",
          "height": 193
        },
        "id": "mJF7nwGhf_Cw",
        "outputId": "eb089876-ee25-40f3-b26a-264968293d7c"
      },
      "outputs": [
        {
          "ename": "ValueError",
          "evalue": "ignored",
          "output_type": "error",
          "traceback": [
            "\u001b[0;31m---------------------------------------------------------------------------\u001b[0m",
            "\u001b[0;31mValueError\u001b[0m                                Traceback (most recent call last)",
            "\u001b[0;32m<ipython-input-31-96bae104f54a>\u001b[0m in \u001b[0;36m<cell line: 2>\u001b[0;34m()\u001b[0m\n\u001b[1;32m      1\u001b[0m \u001b[0;31m# raise 에러이름\u001b[0m\u001b[0;34m\u001b[0m\u001b[0;34m\u001b[0m\u001b[0m\n\u001b[0;32m----> 2\u001b[0;31m \u001b[0;32mraise\u001b[0m \u001b[0mValueError\u001b[0m\u001b[0;34m\u001b[0m\u001b[0;34m\u001b[0m\u001b[0m\n\u001b[0m",
            "\u001b[0;31mValueError\u001b[0m: "
          ]
        }
      ],
      "source": [
        "# raise 에러이름\n",
        "raise ValueError"
      ]
    },
    {
      "cell_type": "code",
      "execution_count": null,
      "metadata": {
        "colab": {
          "base_uri": "https://localhost:8080/",
          "height": 174
        },
        "id": "_pLYNW7pgKZw",
        "outputId": "9a4c68d6-8a5a-4d1d-db77-7918d34218f4"
      },
      "outputs": [
        {
          "ename": "NameError",
          "evalue": "ignored",
          "output_type": "error",
          "traceback": [
            "\u001b[0;31m---------------------------------------------------------------------------\u001b[0m",
            "\u001b[0;31mNameError\u001b[0m                                 Traceback (most recent call last)",
            "\u001b[0;32m<ipython-input-33-61eba9777a7b>\u001b[0m in \u001b[0;36m<cell line: 1>\u001b[0;34m()\u001b[0m\n\u001b[0;32m----> 1\u001b[0;31m \u001b[0;32mraise\u001b[0m \u001b[0mLeehojun\u001b[0m  \u001b[0;31m# NameError: name 'Leehojun' is not defined\u001b[0m\u001b[0;34m\u001b[0m\u001b[0;34m\u001b[0m\u001b[0m\n\u001b[0m",
            "\u001b[0;31mNameError\u001b[0m: name 'Leehojun' is not defined"
          ]
        }
      ],
      "source": [
        "raise Leehojun  # NameError: name 'Leehojun' is not defined"
      ]
    },
    {
      "cell_type": "code",
      "execution_count": null,
      "metadata": {
        "colab": {
          "base_uri": "https://localhost:8080/",
          "height": 174
        },
        "id": "Yxj7sKB1gSWA",
        "outputId": "98c82f80-2778-450e-949b-c685bd1eb5b3"
      },
      "outputs": [
        {
          "ename": "ValueError",
          "evalue": "ignored",
          "output_type": "error",
          "traceback": [
            "\u001b[0;31m---------------------------------------------------------------------------\u001b[0m",
            "\u001b[0;31mValueError\u001b[0m                                Traceback (most recent call last)",
            "\u001b[0;32m<ipython-input-34-1b33900d34c0>\u001b[0m in \u001b[0;36m<cell line: 1>\u001b[0;34m()\u001b[0m\n\u001b[0;32m----> 1\u001b[0;31m \u001b[0;32mraise\u001b[0m \u001b[0mValueError\u001b[0m\u001b[0;34m(\u001b[0m\u001b[0;34m'코드를 잘~~ 좀 만들어주세요.'\u001b[0m\u001b[0;34m)\u001b[0m\u001b[0;34m\u001b[0m\u001b[0;34m\u001b[0m\u001b[0m\n\u001b[0m",
            "\u001b[0;31mValueError\u001b[0m: 코드를 잘~~ 좀 만들어주세요."
          ]
        }
      ],
      "source": [
        "raise ValueError('코드를 잘~~ 좀 만들어주세요.')\n",
        "# ValueError: 코드를 잘~~ 좀 만들어주세요."
      ]
    },
    {
      "cell_type": "code",
      "execution_count": null,
      "metadata": {
        "colab": {
          "base_uri": "https://localhost:8080/"
        },
        "id": "oAYVkyygghpi",
        "outputId": "4027ac90-38ae-4ca0-aa22-7bf32cba7d1f"
      },
      "outputs": [
        {
          "name": "stdout",
          "output_type": "stream",
          "text": [
            "ZeroDivisionError\n",
            "<class 'ZeroDivisionError'>\n",
            "<class 'type'>\n",
            "['__cause__', '__class__', '__context__', '__delattr__', '__dict__', '__dir__', '__doc__', '__eq__', '__format__', '__ge__', '__getattribute__', '__gt__', '__hash__', '__init__', '__init_subclass__', '__le__', '__lt__', '__ne__', '__new__', '__reduce__', '__reduce_ex__', '__repr__', '__setattr__', '__setstate__', '__sizeof__', '__str__', '__subclasshook__', '__suppress_context__', '__traceback__', 'args', 'with_traceback']\n"
          ]
        }
      ],
      "source": [
        "# except 에러이름 해주면\n",
        "# 해당 에러 발생할 때 그 구문으로 이동되서 실행된다.\n",
        "\n",
        "try:\n",
        "    # raise ValueError\n",
        "    1/0\n",
        "except ValueError:\n",
        "    print('ValueError')\n",
        "except ZeroDivisionError:\n",
        "    print('ZeroDivisionError')\n",
        "\n",
        "\n",
        "print(ZeroDivisionError)\n",
        "print(type(ZeroDivisionError))\n",
        "print(dir(ZeroDivisionError))\n",
        "## error도 클래스다!!\n"
      ]
    },
    {
      "attachments": {},
      "cell_type": "markdown",
      "metadata": {
        "id": "dtZ2RQ7Jg8fw"
      },
      "source": [
        "- 에러 만들기"
      ]
    },
    {
      "cell_type": "code",
      "execution_count": null,
      "metadata": {
        "colab": {
          "base_uri": "https://localhost:8080/",
          "height": 266
        },
        "id": "wJ9-10BdpiOr",
        "outputId": "36b5139d-a2f1-47f7-b580-0db78c270357"
      },
      "outputs": [
        {
          "name": "stdout",
          "output_type": "stream",
          "text": [
            "ㅁㄴㅇ\n"
          ]
        },
        {
          "ename": "Leehojun",
          "evalue": "ignored",
          "output_type": "error",
          "traceback": [
            "\u001b[0;31m---------------------------------------------------------------------------\u001b[0m",
            "\u001b[0;31mLeehojun\u001b[0m                                  Traceback (most recent call last)",
            "\u001b[0;32m<ipython-input-39-4297290162e2>\u001b[0m in \u001b[0;36m<cell line: 5>\u001b[0;34m()\u001b[0m\n\u001b[1;32m      4\u001b[0m \u001b[0;34m\u001b[0m\u001b[0m\n\u001b[1;32m      5\u001b[0m \u001b[0;32mif\u001b[0m \u001b[0;34m'leehojun'\u001b[0m \u001b[0;34m!=\u001b[0m \u001b[0minput\u001b[0m\u001b[0;34m(\u001b[0m\u001b[0;34m)\u001b[0m\u001b[0;34m:\u001b[0m\u001b[0;34m\u001b[0m\u001b[0;34m\u001b[0m\u001b[0m\n\u001b[0;32m----> 6\u001b[0;31m     \u001b[0;32mraise\u001b[0m \u001b[0mLeehojun\u001b[0m\u001b[0;34m\u001b[0m\u001b[0;34m\u001b[0m\u001b[0m\n\u001b[0m\u001b[1;32m      7\u001b[0m \u001b[0;32melse\u001b[0m\u001b[0;34m:\u001b[0m\u001b[0;34m\u001b[0m\u001b[0;34m\u001b[0m\u001b[0m\n\u001b[1;32m      8\u001b[0m     \u001b[0mprint\u001b[0m\u001b[0;34m(\u001b[0m\u001b[0;34m'leehojun이 맞습니다!'\u001b[0m\u001b[0;34m)\u001b[0m\u001b[0;34m\u001b[0m\u001b[0;34m\u001b[0m\u001b[0m\n",
            "\u001b[0;31mLeehojun\u001b[0m: 입력된 값이 leehojun이 아닙니다."
          ]
        }
      ],
      "source": [
        "class Leehojun(Exception): #Exception을 상속받으면 됩니다.\n",
        "    def __init__(self):\n",
        "        super().__init__('입력된 값이 leehojun이 아닙니다.')\n",
        "\n",
        "if 'leehojun' != input():\n",
        "    raise Leehojun\n",
        "else:\n",
        "    print('leehojun이 맞습니다!')"
      ]
    },
    {
      "attachments": {},
      "cell_type": "markdown",
      "metadata": {
        "id": "tP552Kvo36eN"
      },
      "source": [
        "## 클로저, 팩토리 함수"
      ]
    },
    {
      "cell_type": "code",
      "execution_count": null,
      "metadata": {
        "id": "7PBpDiDa1Yr5"
      },
      "outputs": [],
      "source": [
        "def one():\n",
        "    def two():\n",
        "        return 10\n",
        "    return two\n",
        "\n",
        "hello = one() # hello = two"
      ]
    },
    {
      "cell_type": "code",
      "execution_count": null,
      "metadata": {
        "colab": {
          "base_uri": "https://localhost:8080/"
        },
        "id": "aaJ1QbQ73D-4",
        "outputId": "a8a658b2-8731-4ad5-f86d-3e7a414084d1"
      },
      "outputs": [
        {
          "data": {
            "text/plain": [
              "20"
            ]
          },
          "execution_count": 46,
          "metadata": {},
          "output_type": "execute_result"
        }
      ],
      "source": [
        "def one(x):\n",
        "    def two():\n",
        "        # 여기서 x를 사용할 수 있음. 자유변수?\n",
        "        return x + x\n",
        "    return two\n",
        "\n",
        "hello = one(10)\n",
        "hello()"
      ]
    },
    {
      "cell_type": "code",
      "execution_count": null,
      "metadata": {
        "colab": {
          "base_uri": "https://localhost:8080/"
        },
        "id": "bTT3P5Ei2q2_",
        "outputId": "0a46ab86-72d9-47a1-9ae0-8971e69cb9ea"
      },
      "outputs": [
        {
          "data": {
            "text/plain": [
              "15"
            ]
          },
          "execution_count": 48,
          "metadata": {},
          "output_type": "execute_result"
        }
      ],
      "source": [
        "# 팩토리 함수 = 클로저\n",
        "# 내부에 숨겨진 값을 가진 오브젝트를 찍어낸다고 해서 팩토리 함수라고도 부름\n",
        "# 일반적으로 클로저 라고 부름\n",
        "\n",
        "def one(x):\n",
        "    def two(a, b):\n",
        "        # 여기서 x를 사용할 수 있음. 자유변수?\n",
        "        return a + b + x\n",
        "    return two\n",
        "\n",
        "hello = one(10) # hello == two\n",
        "hello(2,3) # hello() == two()"
      ]
    },
    {
      "cell_type": "code",
      "execution_count": null,
      "metadata": {
        "colab": {
          "base_uri": "https://localhost:8080/",
          "height": 35
        },
        "id": "B1mpBrk3I5w9",
        "outputId": "ac951b87-ca63-484a-bed3-af4d77753d02"
      },
      "outputs": [
        {
          "data": {
            "application/vnd.google.colaboratory.intrinsic+json": {
              "type": "string"
            },
            "text/plain": [
              "'자전거을 leehojun님이 구매하셔서 계좌에 20000 남아있습니다.'"
            ]
          },
          "execution_count": 54,
          "metadata": {},
          "output_type": "execute_result"
        }
      ],
      "source": [
        "def user(username, usermoney):\n",
        "    def buy(productname, productprice):\n",
        "        leftmoney = usermoney - productprice\n",
        "        return f'{productname}을 {username}님이 구매하셔서 계좌에 {leftmoney} 남아있습니다.'\n",
        "    return buy\n",
        "\n",
        "buy = user('leehojun', 100000)\n",
        "buy('자전거', 80000)"
      ]
    },
    {
      "cell_type": "code",
      "execution_count": null,
      "metadata": {
        "colab": {
          "base_uri": "https://localhost:8080/",
          "height": 35
        },
        "id": "08znP4P7J-st",
        "outputId": "99add023-9ba6-46c8-fb16-87376d56b8c2"
      },
      "outputs": [
        {
          "data": {
            "application/vnd.google.colaboratory.intrinsic+json": {
              "type": "string"
            },
            "text/plain": [
              "'자전거를 leehojun님이 구매하셔서 계좌에 900000가 남아있습니다.'"
            ]
          },
          "execution_count": 50,
          "metadata": {},
          "output_type": "execute_result"
        }
      ],
      "source": [
        "def user(username, usermoney):\n",
        "    def buy(productname, productprice):\n",
        "        leftmoney = usermoney - productprice\n",
        "        return f'{productname}를 {username}님이 구매하셔서 계좌에 {leftmoney}가 남아있습니다.'\n",
        "    return buy\n",
        "\n",
        "buy = user('leehojun', 1000000)\n",
        "buy('자전거', 100000)"
      ]
    },
    {
      "cell_type": "code",
      "execution_count": null,
      "metadata": {
        "colab": {
          "base_uri": "https://localhost:8080/",
          "height": 35
        },
        "id": "3qkqZhN2KAwa",
        "outputId": "a8782a5e-a3c6-43a6-de03-4c84d43fdd18"
      },
      "outputs": [
        {
          "data": {
            "application/vnd.google.colaboratory.intrinsic+json": {
              "type": "string"
            },
            "text/plain": [
              "'킥보드를 leehojun님이 구매하셔서 계좌에 500000가 남아있습니다.'"
            ]
          },
          "execution_count": 52,
          "metadata": {},
          "output_type": "execute_result"
        }
      ],
      "source": [
        "def user(username, usermoney):\n",
        "    def userbuy(productname, productprice):\n",
        "        leftmoney = usermoney - productprice\n",
        "        return f'{productname}를 {username}님이 구매하셔서 계좌에 {leftmoney}가 남아있습니다.'\n",
        "    return buy\n",
        "\n",
        "이호준구매 = user('leehojun', 1000000)\n",
        "이호준구매('자전거', 100000)\n",
        "\n",
        "홍길동구매 = user('hongildong', 1000000)\n",
        "홍길동구매('킥보드', 500000)\n",
        "\n",
        "# 이호준 구매와 홍길동 구매로는 계좌를 조작할수 있나요?\n",
        "# 계좌 변수인 username, usermoney를 조작할 수 없습니다."
      ]
    },
    {
      "cell_type": "code",
      "execution_count": null,
      "metadata": {
        "id": "Uu2L6VMkKcvH"
      },
      "outputs": [],
      "source": [
        "# S은행에 입사를 했습니다. 여러분들의 권한은 이호준구매 등의 구매 함수만 조작할 수 있습니다.\n",
        "# 이렇게 되면 계좌 정보를 접근할 수가 없습니다.\n",
        "# 접근 통제, 제한, 변수 보호 등으로 사용합니다.\n"
      ]
    },
    {
      "attachments": {},
      "cell_type": "markdown",
      "metadata": {
        "id": "bpPC_mZqGrSh"
      },
      "source": [
        "## !! 오늘 배운 것 정리 230512 - 마지막\n",
        "\n",
        "- 애러처리\n",
        "  - Python에서는 애러를 만나면 코드가(서비스가) 멈춥니다.\n",
        "  - 예제\n",
        "    ```python\n",
        "    try:\n",
        "        # 예외가 발생할 가능성이 있는 코드\n",
        "    except:\n",
        "        # 예외 처리 코드\n",
        "    else:\n",
        "        # 예외가 발생하지 않을 때 실행되는 코드\n",
        "    finally:\n",
        "        # 예외 발생 여부와 상관없이 항상 실행되는 코드\n",
        "    ```\n",
        "- 파일입출력\n",
        "  - 열기와 닫기를 동시에\n",
        "  ```python\n",
        "  with open('test.txt', 'w') as f:\n",
        "    f.write('Life is too short, you need python')\n",
        "  ```\n",
        "  - 파일에 추가\n",
        "  ```python\n",
        "  f = open('python.txt', 'a') # 다시 write 모드로 하면 처음부터 덮어 씁니다.\n",
        "  s = ''\n",
        "  for i in range(5, 11):\n",
        "      s += f'{i}명 참여 중입니다. \\n'\n",
        "  f.write(s)\n",
        "  f.close()\n",
        "  ```\n"
      ]
    },
    {
      "cell_type": "code",
      "execution_count": 1,
      "metadata": {
        "colab": {
          "base_uri": "https://localhost:8080/"
        },
        "id": "PozNQvhBHMbZ",
        "outputId": "c5472946-1746-4b77-c2a8-9d9fb66b5b9c"
      },
      "outputs": [
        {
          "name": "stdout",
          "output_type": "stream",
          "text": [
            "[NbConvertApp] Converting notebook a.ipynb to markdown\n",
            "[NbConvertApp] Writing 206501 bytes to a.md\n"
          ]
        }
      ],
      "source": [
        "# !jupyter nbconvert --to markdown a.ipynb"
      ]
    }
  ],
  "metadata": {
    "colab": {
      "provenance": [],
      "toc_visible": true
    },
    "kernelspec": {
      "display_name": "Python 3",
      "name": "python3"
    },
    "language_info": {
      "name": "python"
    }
  },
  "nbformat": 4,
  "nbformat_minor": 0
}
