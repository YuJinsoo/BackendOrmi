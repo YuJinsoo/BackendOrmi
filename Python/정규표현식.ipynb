{
  "nbformat": 4,
  "nbformat_minor": 0,
  "metadata": {
    "colab": {
      "provenance": [],
      "collapsed_sections": [
        "EjOAoh_4E2Tn"
      ]
    },
    "kernelspec": {
      "name": "python3",
      "display_name": "Python 3"
    },
    "language_info": {
      "name": "python"
    }
  },
  "cells": [
    {
      "cell_type": "markdown",
      "source": [
        "## 정규표현식\n",
        "- Anchors\n",
        "    ```\n",
        "    /^hello/gm : 처음에 hello\n",
        "    /hello$/gm : 끝에 hello\n",
        "    ```\n",
        "\n",
        "- dot(모든 문자)\n",
        "    ```\n",
        "    /.ello/흠 : hello, Hello, vello\n",
        "    /./gm :모든 문자열(*과 같은 역할)\n",
        "    /....../gm : 모든 6개 문자열\n",
        "    ```\n",
        "\n",
        "- 대괄호 (택1)\n",
        "    ```\n",
        "    /h[eay]llo/gm : 대괄호 안에 문자는 문자 1개에 해당!\n",
        "    /h[ea]l../gm : 총 5개의 문자\n",
        "    ```\n",
        "\n",
        "- 대쉬 - (범위)\n",
        "    ```\n",
        "    /h[a-f]llo/gm\n",
        "    /[a-zA-Z0-9]/gm : 모든 알파뱃과 숫자를 찾음\n",
        "    /[^a-zA-Z0-9]/gm : 나머지 문자열을 찾음\n",
        "    ```\n",
        "\n",
        "- 캐럿 ^ (부정). 대괄호 안에 들어가면 부정\n",
        "    - 아래의 경우 'a'와 'e'가 모두 부정\n",
        "    ```\n",
        "    /h[^ae]llo/gm : 대괄호 안에 있다면 not에 의미\n",
        "    ```\n",
        "\n",
        "- 소괄호 (서브패턴, 그룹) ()\n",
        "    - 패턴으로 외우시는 것보다 다양한 예제로 습득하시기를 권해드립니다.\n",
        "    ```\n",
        "    /(on|ues|rida)/gm : 그룹 1로 3개 중 매칭되는 패턴 찾음\n",
        "    ```\n",
        "\n",
        "- 수량자\n",
        "    ```\n",
        "    _* : 앞에 있는 문자가 0개 ~ N개\n",
        "    _+ : 앞에 있는 문자가 1개 ~ N개\n",
        "    _? : 앞에 있는 문자가 0개 ~ 1개\n",
        "\n",
        "    {3} : 3개\n",
        "    {3,} : 3개 이상\n",
        "    {1,3} : 1개 ~ 3개\n",
        "\n",
        "    _* : 앞에 있는 문자가 0개 ~ N개 ({0,})\n",
        "    _+ : 앞에 있는 문자가 1개 ~ N개({1,})\n",
        "    _? : 앞에 있는 문자가 0개 ~ 1개 ({0,1})\n",
        "\n",
        "    /[0-9]{3}[-.* ][0-9]{4}[-.* ][0-9]{4}/gm\n",
        "    /[0-9a-zA-Z]{2,3}[-.* ][0-9]{3,4}[-.* ][0-9]{4}/gm\n",
        "    /[0-9a-zA-Z]+@[0-9a-zA-Z]+.[a-zA-Z]+/gm\n",
        "    ```\n",
        "\n",
        "- 캐릭터 클래스\n",
        "    ```\n",
        "    /\\w/gm : 워드\n",
        "    /\\w{5} /gm : 5개의 글자와 스페이스 하나\n",
        "    /\\W/gm : not 워드\n",
        "    /\\d/gm : 숫자\n",
        "    /\\D/gm : not 숫자\n",
        "    /\\s/gm : 스페이스\n",
        "    /\\S/gm : not 스페이스\n",
        "    ```\n",
        "\n",
        "\n",
        "- 전화번호\n",
        "    ```\n",
        "    /010[-,. ]?[0-9]{4}[-,. ]?[0-9]{4}/gm : {n}번 반복, []? 개괄호안 문자가 있거나 혹은 없거나\n",
        "    /010([-,. ]?[0-9]{4}){2}/gm : ()그룹으로 묶기\n",
        "    ```\n"
      ],
      "metadata": {
        "id": "RKdliIF6zkMy"
      }
    },
    {
      "cell_type": "markdown",
      "source": [
        "- 공식문서 : https://docs.python.org/ko/3/library/re.html"
      ],
      "metadata": {
        "id": "fKEJW8qNAns7"
      }
    },
    {
      "cell_type": "markdown",
      "source": [
        "* 정규표현식에서 자주 사용되는 패턴\n",
        "    * 아래와 같이 2가지 방법으로 사용할 수 있습니다.\n",
        "    ```python\n",
        "    # 1\n",
        "    p = re.compile(r'([0-9]|10)([SDT])([*#]?)')\n",
        "    p.findall('1S2D3T')\n",
        "\n",
        "    # 2\n",
        "    re.findall(r'([0-9]|10)([SDT])([*#]?)', '1S2D3T')\n",
        "    ```\n",
        "    * compile() : 패턴 컴파일\n",
        "    * match() : 문자열의 앞 부분이 매치되는가를 체크, 추출\n",
        "    * sub() : 매치된 부분을 치환 (str의 replace()와 같은 역할)\n",
        "    * search() : 선두에 한해서 매치하는지를 체크, 추출\n",
        "    * findall() : 매치된 부분 모두 리스트 반환\n",
        "    * finditer() : 정규식과 매치되는 모든 문자열(substring)을 반복 가능한 객체로 리턴한다.\n",
        "    * spilt() : 정규표현 패턴으로 문자열을 분할(str의 split()과 같은 역할)\n",
        "\n",
        "* 반환 객체의 값\n",
        "    * group() : 매치된 문자열\n",
        "    * groups() : 매치된 문자열 전체\n",
        "    * start() : 매치된 문자열의 시작 위치\n",
        "    * end() : 매치된 문자열의 끝 위치\n",
        "    * span() : 매치된 문자열의 시작과 끝\n",
        "\n",
        "* 컴파일 옵션(플래그)\n",
        "    * 사용 예\n",
        "    ```python\n",
        "     re.compile('[a-z]+', re.I)\n",
        "    ```\n",
        "\n",
        "    * re.DOTALL, re.S : 줄바꿈 문자까지 모두 매칭\n",
        "    * re.IGNORECASE, re.I : 대소문자 구분하지 않음\n",
        "    * re.MULTILINE, re.M : ^, & 등의 매칭 패턴을 라인마다 적용\n",
        "    * re.VERBOSE, re.X : 아래와 같이 #으로 주석문을 사용할 수 있음\n",
        "    \n",
        "    ```python\n",
        "    a = re.compile(r\"\"\"\\d +  # the integral part\n",
        "                .    # the decimal point\n",
        "                \\d *  # some fractional digits\"\"\", re.X)\n",
        "    b = re.compile(r\"\\d+.\\d*\")\n",
        "    ```\n",
        "\n",
        "* tip\n",
        "    * 같은 패턴입니다.\n",
        "    ```python\n",
        "    re.compile('\\\\section')\n",
        "    re.compile(r'\\section')\n",
        "    ```\n",
        "\n",
        "    * {}를 표현하고 싶을 때에는 중괄호 2개, 또는 때에 따라 3개가 필요합니다.\n",
        "\n",
        "    ```python\n",
        "    re.compile(f'{{section}}')\n",
        "    ```\n"
      ],
      "metadata": {
        "id": "Cv0LcaD4AuKg"
      }
    },
    {
      "cell_type": "code",
      "source": [
        "import re\n",
        "\n",
        "p = re.compile(r'([0-9]|10)([SDT])([*#]?)')\n",
        "result = p.findall('1S2D3T')\n",
        "print(result)\n",
        "for i, j, k in result:\n",
        "    ## 처리\n"
      ],
      "metadata": {
        "colab": {
          "base_uri": "https://localhost:8080/"
        },
        "id": "NVjAI1u1C0Qw",
        "outputId": "495d169f-088b-4076-c880-e5e44c842e75"
      },
      "execution_count": null,
      "outputs": [
        {
          "output_type": "execute_result",
          "data": {
            "text/plain": [
              "[('1', 'S', ''), ('2', 'D', ''), ('3', 'T', '')]"
            ]
          },
          "metadata": {},
          "execution_count": 1
        }
      ]
    },
    {
      "cell_type": "markdown",
      "source": [
        "## compile"
      ],
      "metadata": {
        "id": "EjOAoh_4E2Tn"
      }
    },
    {
      "cell_type": "code",
      "source": [
        "import re\n",
        "\n",
        "p = re.compile('h[aeo]llo')"
      ],
      "metadata": {
        "id": "x9XjumCqE4Nd"
      },
      "execution_count": null,
      "outputs": []
    },
    {
      "cell_type": "code",
      "source": [
        "text = '''hello\n",
        "hallo\n",
        "hollo\n",
        "'''\n",
        "text"
      ],
      "metadata": {
        "colab": {
          "base_uri": "https://localhost:8080/",
          "height": 35
        },
        "id": "Kwql2ER8Fg6R",
        "outputId": "151c1452-d6b7-4b37-ae78-16579208847a"
      },
      "execution_count": null,
      "outputs": [
        {
          "output_type": "execute_result",
          "data": {
            "text/plain": [
              "'hello\\nhallo\\nhollo\\n'"
            ],
            "application/vnd.google.colaboratory.intrinsic+json": {
              "type": "string"
            }
          },
          "metadata": {},
          "execution_count": 4
        }
      ]
    },
    {
      "cell_type": "markdown",
      "source": [
        "## match"
      ],
      "metadata": {
        "id": "bcuzeU7RFgJJ"
      }
    },
    {
      "cell_type": "code",
      "source": [
        "# 실무에서는 특정한 패턴이 존재하는지만 사용하는 것으로 많이 사용합니다.\n",
        "# 찾아서 무언가를 하는 것은 findall이나 sub 같은 메서드를 많이 사용합니다."
      ],
      "metadata": {
        "id": "V_aZmZ74HPOV"
      },
      "execution_count": null,
      "outputs": []
    },
    {
      "cell_type": "code",
      "source": [
        "import re\n",
        "\n",
        "p = re.compile('h[aeo]llo')\n",
        "p.match('hello hallo hollo hillo hallo')"
      ],
      "metadata": {
        "colab": {
          "base_uri": "https://localhost:8080/"
        },
        "id": "XIgRe7BUFnzt",
        "outputId": "dd68c4e7-0bca-4bf8-9af0-bb63d06c090f"
      },
      "execution_count": null,
      "outputs": [
        {
          "output_type": "execute_result",
          "data": {
            "text/plain": [
              "<re.Match object; span=(0, 5), match='hello'>"
            ]
          },
          "metadata": {},
          "execution_count": 6
        }
      ]
    },
    {
      "cell_type": "code",
      "source": [
        "result = p.match('hello hallo hollo hillo hallo')\n",
        "result\n",
        "# result.group(0)\n",
        "# result.group(1)"
      ],
      "metadata": {
        "colab": {
          "base_uri": "https://localhost:8080/"
        },
        "id": "5Ywz5Fc2GH5i",
        "outputId": "6c701379-1c65-4ede-e3c5-feade340766b"
      },
      "execution_count": null,
      "outputs": [
        {
          "output_type": "execute_result",
          "data": {
            "text/plain": [
              "<re.Match object; span=(0, 17), match='hello hallo hollo'>"
            ]
          },
          "metadata": {},
          "execution_count": 15
        }
      ]
    },
    {
      "cell_type": "code",
      "source": [
        "import re\n",
        "\n",
        "p = re.compile('(\\w+) (\\w+) (\\w+)')\n",
        "result = p.match('hello hallo hollo hillo hallo')\n",
        "result.group(0) # 전체 그룹\n",
        "result.group(1) # 그룹1 : hello\n",
        "result.group(2) # 그룹2 : hallo\n",
        "result.group(3) # 그룹3 : hollo\n"
      ],
      "metadata": {
        "colab": {
          "base_uri": "https://localhost:8080/",
          "height": 35
        },
        "id": "gpctt_cIGkKe",
        "outputId": "1b38adc6-3b50-4f09-bb3f-7afec35d7393"
      },
      "execution_count": null,
      "outputs": [
        {
          "output_type": "execute_result",
          "data": {
            "text/plain": [
              "'hollo'"
            ],
            "application/vnd.google.colaboratory.intrinsic+json": {
              "type": "string"
            }
          },
          "metadata": {},
          "execution_count": 13
        }
      ]
    },
    {
      "cell_type": "code",
      "source": [
        "import re\n",
        "\n",
        "p = re.compile('(\\w+) (\\w+) (\\w+)')\n",
        "result = p.match('hello hallo hollo hillo hallo')\n",
        "result.group(1, 2)  # 그룹 1, 그룹 2\n"
      ],
      "metadata": {
        "colab": {
          "base_uri": "https://localhost:8080/"
        },
        "id": "smWWdyuWHBeA",
        "outputId": "c5570394-4a33-4fce-9a83-cd6f835ad923"
      },
      "execution_count": null,
      "outputs": [
        {
          "output_type": "execute_result",
          "data": {
            "text/plain": [
              "('hello', 'hallo')"
            ]
          },
          "metadata": {},
          "execution_count": 14
        }
      ]
    },
    {
      "cell_type": "code",
      "source": [
        "import re\n",
        "\n",
        "p = re.compile('h[aeo]llo')\n",
        "res = p.match('hillo hallo hollo hillo hallo') \n",
        "print(res)\n",
        "# None값이 출력된 것입니다.\n",
        "# 문자열 앞쪽이 매칭이 안 된 것입니다."
      ],
      "metadata": {
        "colab": {
          "base_uri": "https://localhost:8080/"
        },
        "id": "m3Cxv-vfHsw2",
        "outputId": "3106bcc6-bd7d-40bc-ea6a-28ae87333304"
      },
      "execution_count": null,
      "outputs": [
        {
          "output_type": "stream",
          "name": "stdout",
          "text": [
            "None\n"
          ]
        }
      ]
    },
    {
      "cell_type": "code",
      "source": [
        "# 아래 문법은 match 말고도 다른 문법에서도 사용이 가능합니다.\n",
        "m = re.match(r\"(?P<first_name>\\w+) (?P<last_name>\\w+)\", \"Malcolm Reynolds\")\n",
        "print(m.group('first_name'), m.group('last_name'))"
      ],
      "metadata": {
        "colab": {
          "base_uri": "https://localhost:8080/"
        },
        "id": "056TQv2zICzL",
        "outputId": "689aeef8-4fed-4b97-df9f-f284a85ef5c9"
      },
      "execution_count": null,
      "outputs": [
        {
          "output_type": "stream",
          "name": "stdout",
          "text": [
            "Malcolm Reynolds\n"
          ]
        }
      ]
    },
    {
      "cell_type": "code",
      "source": [
        "m[0]"
      ],
      "metadata": {
        "colab": {
          "base_uri": "https://localhost:8080/",
          "height": 35
        },
        "id": "9CM87nADIlxs",
        "outputId": "79f88fe6-2924-4fb4-bb4c-abedd2121677"
      },
      "execution_count": null,
      "outputs": [
        {
          "output_type": "execute_result",
          "data": {
            "text/plain": [
              "'Malcolm Reynolds'"
            ],
            "application/vnd.google.colaboratory.intrinsic+json": {
              "type": "string"
            }
          },
          "metadata": {},
          "execution_count": 21
        }
      ]
    },
    {
      "cell_type": "code",
      "source": [
        "m[1], m[2]"
      ],
      "metadata": {
        "colab": {
          "base_uri": "https://localhost:8080/"
        },
        "id": "kDLnv2cnIpHc",
        "outputId": "ee3cc6c5-6768-4a14-fba4-e54d4133b9da"
      },
      "execution_count": null,
      "outputs": [
        {
          "output_type": "execute_result",
          "data": {
            "text/plain": [
              "('Malcolm', 'Reynolds')"
            ]
          },
          "metadata": {},
          "execution_count": 22
        }
      ]
    },
    {
      "cell_type": "code",
      "source": [
        "m = re.match(r\"010-(?P<앞자리>[0-9]{4})-(?P<뒷자리>[0-9]{4})\", \"010-1000-2000\")\n",
        "m.group('앞자리'), m.group('뒷자리')"
      ],
      "metadata": {
        "colab": {
          "base_uri": "https://localhost:8080/"
        },
        "id": "St-B8ZlNIx-j",
        "outputId": "d39b89ed-c098-48bc-944a-612ce96a44f1"
      },
      "execution_count": null,
      "outputs": [
        {
          "output_type": "execute_result",
          "data": {
            "text/plain": [
              "('1000', '2000')"
            ]
          },
          "metadata": {},
          "execution_count": 23
        }
      ]
    },
    {
      "cell_type": "code",
      "source": [
        "# 실제로 실무에서 match가 사용되는 패턴(공식문서)\n",
        "valid = re.compile(r\"^[a2-9tjqk]{5}$\")\n",
        "\n",
        "def displaymatch(match):\n",
        "    if match is None:\n",
        "        return None\n",
        "    return '<Match: %r, groups=%r>' % (match.group(), match.groups())\n",
        "\n",
        "displaymatch(valid.match(\"akt5q\"))"
      ],
      "metadata": {
        "colab": {
          "base_uri": "https://localhost:8080/",
          "height": 35
        },
        "id": "G0ar_ltJJKqm",
        "outputId": "396d9511-dd4d-429c-8254-ab5f2cf2a77d"
      },
      "execution_count": null,
      "outputs": [
        {
          "output_type": "execute_result",
          "data": {
            "text/plain": [
              "\"<Match: 'akt5q', groups=()>\""
            ],
            "application/vnd.google.colaboratory.intrinsic+json": {
              "type": "string"
            }
          },
          "metadata": {},
          "execution_count": 25
        }
      ]
    },
    {
      "cell_type": "code",
      "source": [
        "# 실제로 실무에서 match가 사용되는 패턴(공식문서)\n",
        "valid = re.compile(r\"^[a2-9tjqk]{5}$\")\n",
        "\n",
        "def displaymatch(match):\n",
        "    if match is None:\n",
        "        return None\n",
        "    return '해당 패턴에 매칭됩니다!'\n",
        "\n",
        "print(displaymatch(valid.match(\"akt5q\")))\n",
        "print(displaymatch(valid.match(\"aks5q\")))"
      ],
      "metadata": {
        "colab": {
          "base_uri": "https://localhost:8080/"
        },
        "id": "qVIjs85xJXvq",
        "outputId": "a77c1911-cdf3-4a01-f4e8-7c5fe7ab0966"
      },
      "execution_count": null,
      "outputs": [
        {
          "output_type": "stream",
          "name": "stdout",
          "text": [
            "해당 패턴에 매칭됩니다!\n",
            "None\n"
          ]
        }
      ]
    },
    {
      "cell_type": "markdown",
      "source": [
        "## !! 연습문제"
      ],
      "metadata": {
        "id": "hsak7qDh49fm"
      }
    },
    {
      "cell_type": "code",
      "source": [
        "### 연습문제\n",
        "import re\n",
        "\n",
        "text = '''010-9091-5491\n",
        "010-5043-2901\n",
        "010-5050-40409\n",
        "010$2913 3132\n",
        "01019133829\n",
        "064-721-3213\n",
        "010.1913.3829\n",
        "'''\n",
        "\n",
        "p = re.compile('[0-9]{3}.?[0-9]{3,4}.?[0-9]{4}.?') #.이 숫자로 인식될수가 있음...\n",
        "p = re.compile('[0-9]{3}[^0-9][0-9]{3,4}[^0-9][0-9]{4}[^0-9]') # 이게 더 정확할듯\n",
        "res = p.findall(text)\n",
        "print(res)"
      ],
      "metadata": {
        "colab": {
          "base_uri": "https://localhost:8080/"
        },
        "id": "bA5akp75Nfvj",
        "outputId": "4d1c8e68-997b-401f-a2b4-de2c5c05d201"
      },
      "execution_count": null,
      "outputs": [
        {
          "output_type": "stream",
          "name": "stdout",
          "text": [
            "['010-9091-5491', '010-5043-2901', '010-5050-40409', '010$2913 3132', '01019133829', '064-721-3213', '010.1913.3829']\n"
          ]
        }
      ]
    },
    {
      "cell_type": "code",
      "source": [
        "import re\n",
        "\n",
        "li = [\"apple\", \"broken\", \"drowna\", \"drown\"]\n",
        "\n",
        "p = re.compile(\".{5}\")\n",
        "\n",
        "for i in li:\n",
        "    res = p.match(i)\n",
        "    if res == None:\n",
        "        break;\n",
        "    print(res)\n",
        "    print(res.group(), res.groups())"
      ],
      "metadata": {
        "colab": {
          "base_uri": "https://localhost:8080/"
        },
        "id": "KVFUanxlRFrP",
        "outputId": "a31b7a00-7bfa-4840-d894-b972ea7e7ad3"
      },
      "execution_count": null,
      "outputs": [
        {
          "output_type": "stream",
          "name": "stdout",
          "text": [
            "<re.Match object; span=(0, 5), match='apple'>\n",
            "apple ()\n",
            "<re.Match object; span=(0, 5), match='broke'>\n",
            "broke ()\n",
            "<re.Match object; span=(0, 5), match='drown'>\n",
            "drown ()\n",
            "<re.Match object; span=(0, 5), match='drown'>\n",
            "drown ()\n"
          ]
        }
      ]
    },
    {
      "cell_type": "code",
      "source": [
        "## 괄호처리 문제 확인해보기\n",
        "## [] 은 그냥 문자처리되는데 ()는 이스케이프\n",
        "import re\n",
        "p = re.compile(r'\\[.*\\]') ## 이거는 \n",
        "p.findall(r'[hello] [hello] [hello] [hello] [hello]')"
      ],
      "metadata": {
        "colab": {
          "base_uri": "https://localhost:8080/"
        },
        "id": "_VNvIgv6oDOa",
        "outputId": "dfda3cfc-eaf2-4da8-dfe4-c0129d4926cc"
      },
      "execution_count": null,
      "outputs": [
        {
          "output_type": "execute_result",
          "data": {
            "text/plain": [
              "['[hello] [hello] [hello] [hello] [hello]']"
            ]
          },
          "metadata": {},
          "execution_count": 66
        }
      ]
    },
    {
      "cell_type": "code",
      "source": [
        "import re\n",
        "p = re.compile(r'\\[hello*\\]')\n",
        "p.findall(r'[hello] [hello] [hello] [hello] [hello]')"
      ],
      "metadata": {
        "colab": {
          "base_uri": "https://localhost:8080/"
        },
        "id": "yrjt7ETSoaJf",
        "outputId": "9a10a432-c09a-4cce-d4ae-b6c14a239ba5"
      },
      "execution_count": null,
      "outputs": [
        {
          "output_type": "execute_result",
          "data": {
            "text/plain": [
              "['[hello]', '[hello]', '[hello]', '[hello]', '[hello]']"
            ]
          },
          "metadata": {},
          "execution_count": 67
        }
      ]
    },
    {
      "cell_type": "code",
      "source": [
        "import re\n",
        "p = re.compile(r'\\[\\w*\\]')\n",
        "p.findall(r'[hello] [hello] [hsflo] [hello] [hello]')"
      ],
      "metadata": {
        "colab": {
          "base_uri": "https://localhost:8080/"
        },
        "id": "tOQInd8molQn",
        "outputId": "7875432c-c7c7-4250-f0a8-cd0556a8d8a0"
      },
      "execution_count": null,
      "outputs": [
        {
          "output_type": "execute_result",
          "data": {
            "text/plain": [
              "['[hello]', '[hello]', '[hsflo]', '[hello]', '[hello]']"
            ]
          },
          "metadata": {},
          "execution_count": 71
        }
      ]
    },
    {
      "cell_type": "code",
      "source": [
        "## 괄호처리 문제 확인해보기\n",
        "## [] 은 그냥 문자처리되는데 ()는 이스케이프\n",
        "import re\n",
        "a = re.compile(r'()')\n",
        "print(a.findall('()'))\n",
        "\n",
        "b = re.compile(r'\\(\\)') ## 문자로 하려면 이스케이프..\n",
        "print(b.findall('()'))\n",
        "\n",
        "c = re.compile(r'[.]')\n",
        "print(c.findall('[.]'))\n",
        "\n",
        "d = re.compile(r'\\[.\\]')\n",
        "print(d.findall('[.]'))"
      ],
      "metadata": {
        "colab": {
          "base_uri": "https://localhost:8080/"
        },
        "id": "8RTRIrEOorJn",
        "outputId": "d862e6cb-8ed7-47c9-debe-2b76755955b2"
      },
      "execution_count": null,
      "outputs": [
        {
          "output_type": "stream",
          "name": "stdout",
          "text": [
            "['', '', '']\n",
            "['()']\n",
            "['.']\n",
            "['[.]']\n"
          ]
        }
      ]
    },
    {
      "cell_type": "markdown",
      "source": [
        "## sub"
      ],
      "metadata": {
        "id": "-Xm-FZW-Jiz8"
      }
    },
    {
      "cell_type": "code",
      "source": [
        "# 문제링크: https://school.programmers.co.kr/learn/courses/30/lessons/120849\n",
        "\n",
        "def solution(my_string):\n",
        "    return my_string.replace('a', '').replace('e', '').replace('i', '').replace('o', '').replace('u', '')"
      ],
      "metadata": {
        "id": "AAWoQdujJyVn"
      },
      "execution_count": null,
      "outputs": []
    },
    {
      "cell_type": "code",
      "source": [
        "def solution(my_string):\n",
        "    string = 'aeiou'\n",
        "    for i in string:\n",
        "        my_string.replace(i,'')\n",
        "    return my_string"
      ],
      "metadata": {
        "id": "F56cyPKpKNda"
      },
      "execution_count": null,
      "outputs": []
    },
    {
      "cell_type": "code",
      "source": [
        "import re\n",
        "\n",
        "def solution(my_string):\n",
        "    return re.sub(r\"[aeiou]\", \"\", my_string)\n",
        "\n",
        "solution = lambda my_string: re.sub(r\"[aeiou]\", \"\", my_string)"
      ],
      "metadata": {
        "id": "S82rPlJsKY63"
      },
      "execution_count": null,
      "outputs": []
    },
    {
      "cell_type": "code",
      "source": [
        "### 연습문제\n",
        "import re\n",
        "\n",
        "text = '''010-9091-5491\n",
        "010-5043-2901\n",
        "010-5050-40409\n",
        "010 2913 3132\n",
        "01019133829\n",
        "064-721-3213\n",
        "010.1913.3829\n",
        "'''\n",
        "\n",
        "p = re.compile('[0-9]{3}[-. ]?[0-9]{3,4}[-. ]?[0-9]{4}[-. ]?')\n",
        "res = p.findall(text)\n",
        "print(res)"
      ],
      "metadata": {
        "colab": {
          "base_uri": "https://localhost:8080/"
        },
        "id": "veTyasJJNf0_",
        "outputId": "82b15b19-dc81-44aa-a5bc-f66887b0a44d"
      },
      "execution_count": null,
      "outputs": [
        {
          "output_type": "stream",
          "name": "stdout",
          "text": [
            "['010-9091-5491', '010-5043-2901', '010-5050-4040', '010 2913 3132', '01019133829', '064-721-3213', '010.1913.3829']\n"
          ]
        }
      ]
    },
    {
      "cell_type": "code",
      "source": [
        "## 문제링크 : https://school.programmers.co.kr/learn/courses/30/lessons/120826"
      ],
      "metadata": {
        "id": "JdDdml9b5OTS"
      },
      "execution_count": null,
      "outputs": []
    },
    {
      "cell_type": "code",
      "source": [
        "def solution(my_string, letter):\n",
        "    for i in letter:\n",
        "        my_string = my_string.replace(i, '')\n",
        "    return my_string"
      ],
      "metadata": {
        "id": "Rv0MC1fz5b0G"
      },
      "execution_count": null,
      "outputs": []
    },
    {
      "cell_type": "code",
      "source": [
        "import re\n",
        "\n",
        "def solution(my_string, letter):\n",
        "    s = re.sub(letter, \"\", my_string)\n",
        "    return s\n",
        "\n",
        "solution = lambda my_string: re.sub(letter, \"\", my_string)"
      ],
      "metadata": {
        "id": "SFypv1Gf4__M"
      },
      "execution_count": null,
      "outputs": []
    },
    {
      "cell_type": "code",
      "source": [
        "# 문제링크 : https://school.programmers.co.kr/learn/courses/30/lessons/120851"
      ],
      "metadata": {
        "id": "p0Bt6toX5vTg"
      },
      "execution_count": null,
      "outputs": []
    },
    {
      "cell_type": "code",
      "source": [
        "def solution(my_string):\n",
        "    answer = 0\n",
        "    for i in my_string:\n",
        "        if i.isdigit():\n",
        "            answer += int(i)\n",
        "    return answer"
      ],
      "metadata": {
        "id": "6YTEanNl56DS"
      },
      "execution_count": null,
      "outputs": []
    },
    {
      "cell_type": "code",
      "source": [
        "def solution(my_string):\n",
        "    return sum([int[i] for i in my_string if i.digit()])\n",
        "\n",
        "def solution(my_string):\n",
        "    return sum(map(int, filter(lambda x: x,isdigit() , my_string)))"
      ],
      "metadata": {
        "id": "H8swEzmU7CWh"
      },
      "execution_count": null,
      "outputs": []
    },
    {
      "cell_type": "code",
      "source": [
        "import re\n",
        "\n",
        "my_string = \"aAb1B2cC34oOp\"\n",
        "\n",
        "s = re.sub(r\"[a-zA-Z]\", \"\", my_string)\n",
        "\n",
        "s2 = re.sub(\"[^1-9]\", \"\", my_string)\n",
        "\n",
        "def solution(my_string):\n",
        "    return sum( int(i) for i in s)"
      ],
      "metadata": {
        "colab": {
          "base_uri": "https://localhost:8080/",
          "height": 36
        },
        "id": "28c2Vh6i6RHi",
        "outputId": "38ff14ee-2d5a-4dd7-d4d8-2c403eb271fa"
      },
      "execution_count": null,
      "outputs": [
        {
          "output_type": "execute_result",
          "data": {
            "text/plain": [
              "'1234'"
            ],
            "application/vnd.google.colaboratory.intrinsic+json": {
              "type": "string"
            }
          },
          "metadata": {},
          "execution_count": 2
        }
      ]
    },
    {
      "cell_type": "markdown",
      "source": [
        "### sub의 실무 응용(중고급 과정)"
      ],
      "metadata": {
        "id": "6UixXrsm-JnY"
      }
    },
    {
      "cell_type": "code",
      "source": [
        "# .md 파일을 html파일로\n",
        "# .html파일 안에 있는 태그안에 있는 텍스트 > notebook\n",
        "# .html 파일을 PDF 보고서 형태로\n"
      ],
      "metadata": {
        "id": "oWwo4NVt-NbA"
      },
      "execution_count": null,
      "outputs": []
    },
    {
      "cell_type": "code",
      "source": [
        "import re\n",
        "\n",
        "# 패턴에서 설정된 그룹을 \\n으로 지정할 수있음\n",
        "# n 값은 왼쪽에서부터 순서대로\n",
        "re.sub(r'([0-9]{3})-([0-9]{4})-([0-9]{4})',\n",
        "       r'\\1__\\2__\\3','010-5000-3000')"
      ],
      "metadata": {
        "colab": {
          "base_uri": "https://localhost:8080/",
          "height": 36
        },
        "id": "YWXAhpLx_NB3",
        "outputId": "c2b7e955-d427-4421-af4c-bc2db234eb16"
      },
      "execution_count": null,
      "outputs": [
        {
          "output_type": "execute_result",
          "data": {
            "text/plain": [
              "'010__5000__3000'"
            ],
            "application/vnd.google.colaboratory.intrinsic+json": {
              "type": "string"
            }
          },
          "metadata": {},
          "execution_count": 3
        }
      ]
    },
    {
      "cell_type": "code",
      "source": [
        "import re\n",
        "\n",
        "re.sub(r'([0-9]{3})-([0-9]{4})-([0-9]{4})',\n",
        "       r'\\1!!\\2!!\\3','010-5000-3000')"
      ],
      "metadata": {
        "colab": {
          "base_uri": "https://localhost:8080/",
          "height": 36
        },
        "id": "d_eYlS4t_zr7",
        "outputId": "d75e5b51-6d2e-4b29-ff3d-99cc697f3ede"
      },
      "execution_count": null,
      "outputs": [
        {
          "output_type": "execute_result",
          "data": {
            "text/plain": [
              "'010!!5000!!3000'"
            ],
            "application/vnd.google.colaboratory.intrinsic+json": {
              "type": "string"
            }
          },
          "metadata": {},
          "execution_count": 4
        }
      ]
    },
    {
      "cell_type": "code",
      "source": [
        "import re\n",
        "s = re.sub(r'([0-9]{4})/([0-9]{2})/([0-9]{2})',\n",
        "       r'\\1\\1\\1\\1\\1',\n",
        "       '2023/05/16')\n",
        "print(s)"
      ],
      "metadata": {
        "colab": {
          "base_uri": "https://localhost:8080/"
        },
        "id": "1GOU8pBABEpk",
        "outputId": "77b8bb15-454b-48f1-daeb-66c20a5251d8"
      },
      "execution_count": null,
      "outputs": [
        {
          "output_type": "stream",
          "name": "stdout",
          "text": [
            "20232023202320232023\n"
          ]
        }
      ]
    },
    {
      "cell_type": "code",
      "source": [
        "# 문제\n",
        "# 입력 : '2023/05/16'\n",
        "# 출력 : '05/16/2023'\n",
        "# 미국식 날짜 표기 방법(월/일/년)\n",
        "# 영국식 날짜 표기 방법(일/월/년)\n",
        "\n",
        "import re\n",
        "\n",
        "s_us = re.sub(r'([0-9]{4})/([0-9]{2})/([0-9]{2})',\n",
        "       r'\\2/\\3/\\1',\n",
        "       '2023/05/16')\n",
        "\n",
        "s_en = re.sub(r'([0-9]{4})/([0-9]{2})/([0-9]{2})',\n",
        "       r'\\3/\\2/\\1',\n",
        "       '2023/05/16')\n",
        "\n",
        "print(s_us)\n",
        "print(s_en)"
      ],
      "metadata": {
        "colab": {
          "base_uri": "https://localhost:8080/"
        },
        "id": "1ohT_b7IAD7h",
        "outputId": "d592a525-88ec-4bee-809c-e7aeb5b92c56"
      },
      "execution_count": null,
      "outputs": [
        {
          "output_type": "stream",
          "name": "stdout",
          "text": [
            "05/16/2023\n",
            "16/05/2023\n"
          ]
        }
      ]
    },
    {
      "cell_type": "code",
      "source": [
        "# 그룹`()`안에 ?P<변수명> 으로 싲가하면\n",
        "# 변수명으로 지정할 수 있게 됩니다.\n",
        "\n",
        "import re\n",
        "\n",
        "s_us = re.sub(r'(?P<year>[0-9]{4})/(?P<month>[0-9]{2})/(?P<day>[0-9]{2})',\n",
        "       r'\\2/\\3/\\1',\n",
        "       '2023/05/16')\n",
        "\n",
        "print(s_us)"
      ],
      "metadata": {
        "colab": {
          "base_uri": "https://localhost:8080/"
        },
        "id": "doj_1PiPBX2T",
        "outputId": "0108c892-1f44-49f2-b4c6-e515a0057517"
      },
      "execution_count": null,
      "outputs": [
        {
          "output_type": "stream",
          "name": "stdout",
          "text": [
            "05/16/2023\n"
          ]
        }
      ]
    },
    {
      "cell_type": "code",
      "source": [
        "# 변수명으로 지정할 때에는 \\g<변수명> 으로 지정할 수 있게 됩니다.\n",
        "\n",
        "import re\n",
        "\n",
        "s_us = re.sub(r'(?P<year>[0-9]{4})/(?P<month>[0-9]{2})/(?P<day>[0-9]{2})',\n",
        "       r'\\g<month>/\\g<year>/\\g<day>',\n",
        "       '2023/05/16')\n",
        "\n",
        "print(s_us)"
      ],
      "metadata": {
        "colab": {
          "base_uri": "https://localhost:8080/"
        },
        "id": "rbq7IK9RB3t8",
        "outputId": "a8bbd27d-d0d4-4818-9dc8-ccd983f0b2e6"
      },
      "execution_count": null,
      "outputs": [
        {
          "output_type": "stream",
          "name": "stdout",
          "text": [
            "05/2023/16\n"
          ]
        }
      ]
    },
    {
      "cell_type": "markdown",
      "source": [
        "## !! 연습문제"
      ],
      "metadata": {
        "id": "gEDeYjZaK7OF"
      }
    },
    {
      "cell_type": "code",
      "source": [
        "# md > html 파일로 한는 방법\n",
        "# '#hello world' => <h1>hello world</h1>\n",
        "import re\n",
        "\n",
        "re.sub(r'# (.*)',\n",
        "       r'<h1>\\1</h1>',\n",
        "       '# hello world')"
      ],
      "metadata": {
        "colab": {
          "base_uri": "https://localhost:8080/",
          "height": 36
        },
        "id": "aqXf6tI-FE2i",
        "outputId": "98418e26-0fea-4ea5-8968-669718468f35"
      },
      "execution_count": null,
      "outputs": [
        {
          "output_type": "execute_result",
          "data": {
            "text/plain": [
              "'<h1>hello world</h1>'"
            ],
            "application/vnd.google.colaboratory.intrinsic+json": {
              "type": "string"
            }
          },
          "metadata": {},
          "execution_count": 19
        }
      ]
    },
    {
      "cell_type": "code",
      "source": [
        "# md > html 파일로 한는 방법\n",
        "# '#hello world' => <h1>hello world</h1>\n",
        "import re\n",
        "\n",
        "text='''# hello1\n",
        "hello world\n",
        "# hello2\n",
        "hello world\n",
        "# hello3\n",
        "hello world\n",
        "'''\n",
        "\n",
        "re.sub(r'# (.*)',\n",
        "       r'<h1>\\1</h1>',\n",
        "       text)"
      ],
      "metadata": {
        "colab": {
          "base_uri": "https://localhost:8080/",
          "height": 55
        },
        "id": "gIJTX2h-Fi-0",
        "outputId": "dd0b8a6a-b1e1-4638-8ad4-cf8fc4ef151f"
      },
      "execution_count": null,
      "outputs": [
        {
          "output_type": "execute_result",
          "data": {
            "text/plain": [
              "'<h1>hello1</h1>\\nhello world\\n<h1>hello2</h1>\\nhello world\\n<h1>hello3</h1>\\nhello world\\n'"
            ],
            "application/vnd.google.colaboratory.intrinsic+json": {
              "type": "string"
            }
          },
          "metadata": {},
          "execution_count": 20
        }
      ]
    },
    {
      "cell_type": "code",
      "source": [
        "# md > html 파일로 한는 방법\n",
        "# '#hello world' => <h1>hello world</h1>\n",
        "import re\n",
        "\n",
        "text='''# hello1\n",
        "## hello1.1\n",
        "hello world\n",
        "# hello2\n",
        "## hello2.1\n",
        "hello world\n",
        "# hello3\n",
        "## hello3.1\n",
        "hello world\n",
        "'''\n",
        "\n",
        "# 샵2개인 제목은 처리되지 않음... #<h1>으로 바뀜 \n",
        "text = re.sub(r'# (.*)', r'<h1>\\1</h1>', text)\n",
        "print(text)"
      ],
      "metadata": {
        "colab": {
          "base_uri": "https://localhost:8080/"
        },
        "id": "eajD5S7zGQ5t",
        "outputId": "6c4414fe-7764-416d-f7f9-78ee6ce75b93"
      },
      "execution_count": null,
      "outputs": [
        {
          "output_type": "stream",
          "name": "stdout",
          "text": [
            "<h1>hello1</h1>\n",
            "#<h1>hello1.1</h1>\n",
            "hello world\n",
            "<h1>hello2</h1>\n",
            "#<h1>hello2.1</h1>\n",
            "hello world\n",
            "<h1>hello3</h1>\n",
            "#<h1>hello3.1</h1>\n",
            "hello world\n",
            "\n"
          ]
        }
      ]
    },
    {
      "cell_type": "code",
      "source": [
        "# md > html 파일로 한는 방법\n",
        "# '#hello world' => <h1>hello world</h1>\n",
        "import re\n",
        "\n",
        "text='''# hello1\n",
        "## hello1.1\n",
        "hello world\n",
        "# hello2\n",
        "## hello2.1\n",
        "hello world\n",
        "# hello3\n",
        "## hello3.1\n",
        "hello world\n",
        "'''\n",
        "\n",
        "# 샵2개인 거부터 처리하면 중복차리가 안되고 잘 찍힘\n",
        "text = re.sub(r'## (.*)', r'<h2>\\1</h2>', text)\n",
        "text = re.sub(r'# (.*)', r'<h1>\\1</h1>', text)\n",
        "print(text)"
      ],
      "metadata": {
        "colab": {
          "base_uri": "https://localhost:8080/"
        },
        "id": "lMY_abVVG-Xy",
        "outputId": "4914f8f3-e4f5-4ae2-a994-9866aa3b4c60"
      },
      "execution_count": null,
      "outputs": [
        {
          "output_type": "stream",
          "name": "stdout",
          "text": [
            "<h1>hello1</h1>\n",
            "<h2>hello1.1</h2>\n",
            "hello world\n",
            "<h1>hello2</h1>\n",
            "<h2>hello2.1</h2>\n",
            "hello world\n",
            "<h1>hello3</h1>\n",
            "<h2>hello3.1</h2>\n",
            "hello world\n",
            "\n"
          ]
        }
      ]
    },
    {
      "cell_type": "code",
      "source": [
        "# md > html 파일로 한는 방법\n",
        "# '#hello world' => <h1>hello world</h1>\n",
        "import re\n",
        "\n",
        "text='''# hello1\n",
        "## hello1.1\n",
        "hello world\n",
        "# hello2\n",
        "## hello2.1\n",
        "hello world\n",
        "# hello3\n",
        "## hello3.1\n",
        "hello world\n",
        "'''\n",
        "\n",
        "# 샵1개인 거부터 처리하려면 문자열의 처음부터 찾는 ^를 써주고 \n",
        "# ^제대로 쓰기 위해서는 멀티라인 옵션을 킨다. re.MULTILINE\n",
        "text = re.sub(r'^# (.*)', r'<h1>\\1</h1>', text, flags=re.MULTILINE)\n",
        "text = re.sub(r'^## (.*)', r'<h2>\\1</h2>', text, flags=re.M)\n",
        "print(text)"
      ],
      "metadata": {
        "colab": {
          "base_uri": "https://localhost:8080/"
        },
        "id": "mgLoAZqBHVzb",
        "outputId": "bf806f7f-8d3b-4cff-f435-5c6e3de13dad"
      },
      "execution_count": null,
      "outputs": [
        {
          "output_type": "stream",
          "name": "stdout",
          "text": [
            "<h1>hello1</h1>\n",
            "<h2>hello1.1</h2>\n",
            "hello world\n",
            "<h1>hello2</h1>\n",
            "<h2>hello2.1</h2>\n",
            "hello world\n",
            "<h1>hello3</h1>\n",
            "<h2>hello3.1</h2>\n",
            "hello world\n",
            "\n"
          ]
        }
      ]
    },
    {
      "cell_type": "code",
      "source": [
        "import re\n",
        "\n",
        "def mardkwon_to_html(markdown):\n",
        "    html = re.sub(r'### (.*)', r'<h3>\\1</h3>', markdown)\n",
        "    html = re.sub(r'## (.*)', r'<h2>\\1</h2>', markdown)\n",
        "    html = re.sub(r'# (.*)', r'<h1>\\1</h1>', markdown)\n",
        "    return html"
      ],
      "metadata": {
        "id": "sSTdxFyAIXH-"
      },
      "execution_count": null,
      "outputs": []
    },
    {
      "cell_type": "code",
      "source": [
        "## google bard로 짠 markdown -> html 함수\n",
        "import re\n",
        "\n",
        "def markdown_to_html(markdown):\n",
        "    html = re.sub(r'### (.*)', r'<h3>\\1</h3>', markdown)\n",
        "    html = re.sub(r'## (.*)', r'<h2>\\1</h2>', html)\n",
        "    html = re.sub(r'# (.*)', r'<h1>\\1</h1>', html)\n",
        "    html = re.sub(r'\\* (.*)', r'<em>\\1</em>', html)\n",
        "    html = re.sub(r'[_*]{2}(.*)[_*]{2}', r'<strong>\\1</strong>', html)\n",
        "    html = re.sub(r'`(.*)`', r'<code>\\1</code>', html)\n",
        "    html = re.sub(r'^(.*)\\n', r'<p>\\1</p>', html)\n",
        "    html = re.sub(r'\\n(.*)', r'<br>\\1', html)\n",
        "    \n",
        "    # 인용 부호\n",
        "    html = re.sub(r'> (.*)', r'<blockquote>\\1</blockquote>', html)\n",
        "    \n",
        "    # 수평선\n",
        "    html = re.sub(r'---', r'<hr>', html)\n",
        "    \n",
        "    # 링크\n",
        "    html = re.sub(r'\\[(.*)\\]\\((.*)\\)', r'<a href=\"\\2\">\\1</a>', html)\n",
        "    \n",
        "    # 이미지\n",
        "    html = re.sub(r'!\\[(.*)\\]\\((.*)\\)', r'<img src=\"\\2\" alt=\"\\1\">', html)\n",
        "    \n",
        "    return html\n",
        "\n",
        "text = '''# 제목 1\n",
        "## 제목 2\n",
        "### 제목 3\n",
        "* 목록 항목 1\n",
        "* 목록 항목 2\n",
        "**강조 텍스트**\n",
        "__강조 텍스트__\n",
        "`코드`\n",
        "\n",
        "> 이건 인용 부호입니다.\n",
        "\n",
        "---\n",
        "\n",
        "이건 수평선입니다.\n",
        "\n",
        "[링크](https://www.google.com)\n",
        "\n",
        "![이미지](https://upload.wikimedia.org/wikipedia/commons/thumb/a/a3/WikiProject_Zoo_Logo.svg/1200px-WikiProject_Zoo_Logo.svg.png)'''\n",
        "\n",
        "html = markdown_to_html(text)\n",
        "print(html)"
      ],
      "metadata": {
        "colab": {
          "base_uri": "https://localhost:8080/"
        },
        "id": "qsOVbi7RJgOe",
        "outputId": "e4aa5653-6fa0-431b-ea1c-52fece147573"
      },
      "execution_count": null,
      "outputs": [
        {
          "output_type": "stream",
          "name": "stdout",
          "text": [
            "<p><h1>제목 1</h1></p><h2>제목 2</h2><br><h3>제목 3</h3><br><em>목록 항목 1</em><br><em>목록 항목 2</em><br><strong>강조 텍스트</strong><br><strong>강조 텍스트</strong><br><code>코드</code><br><br><blockquote>이건 인용 부호입니다.<br><br><hr><br><br>이건 수평선입니다.<br><br><a href=\"https://upload.wikimedia.org/wikipedia/commons/thumb/a/a3/WikiProject_Zoo_Logo.svg/1200px-WikiProject_Zoo_Logo.svg.png\">링크](https://www.google.com)<br><br>![이미지</a></blockquote>\n"
          ]
        }
      ]
    },
    {
      "cell_type": "markdown",
      "source": [
        "## search\n"
      ],
      "metadata": {
        "id": "Bw9irzjvKqaY"
      }
    },
    {
      "cell_type": "code",
      "source": [
        "import re\n",
        "\n",
        "p = re.compile('[a-o]')\n",
        "m = p.search('python')\n",
        "print(m)"
      ],
      "metadata": {
        "colab": {
          "base_uri": "https://localhost:8080/"
        },
        "id": "QPXSqUZsKurJ",
        "outputId": "8b558366-641e-4fed-b043-2ab8e357cbf4"
      },
      "execution_count": null,
      "outputs": [
        {
          "output_type": "stream",
          "name": "stdout",
          "text": [
            "<re.Match object; span=(3, 4), match='h'>\n"
          ]
        }
      ]
    },
    {
      "cell_type": "markdown",
      "source": [
        "## findall\n"
      ],
      "metadata": {
        "id": "YeQj-E1BLI1n"
      }
    },
    {
      "cell_type": "code",
      "source": [
        "## 매핑되는 문자열들을 list 요소로 추가하여 list를 반환함\n",
        "\n",
        "import re\n",
        "\n",
        "p = re.compile('[a-z]+') # 소문자 모두\n",
        "result = p.findall('Python')\n",
        "print(result)"
      ],
      "metadata": {
        "colab": {
          "base_uri": "https://localhost:8080/"
        },
        "id": "RmJ8B7MrLLK5",
        "outputId": "4b0fa303-ebe4-4ad4-e3f6-b538162c9fdc"
      },
      "execution_count": null,
      "outputs": [
        {
          "output_type": "stream",
          "name": "stdout",
          "text": [
            "['ython']\n"
          ]
        }
      ]
    },
    {
      "cell_type": "code",
      "source": [
        "import re\n",
        "p = re.compile('[a-z]+')\n",
        "result = p.findall('Life is Short, You Need Python!')\n",
        "print(result)"
      ],
      "metadata": {
        "colab": {
          "base_uri": "https://localhost:8080/"
        },
        "id": "SrdYu3JzLgmE",
        "outputId": "374fe072-3e56-4ffd-eab5-3b6d830ae6b0"
      },
      "execution_count": null,
      "outputs": [
        {
          "output_type": "stream",
          "name": "stdout",
          "text": [
            "['ife', 'is', 'hort', 'ou', 'eed', 'ython']\n"
          ]
        }
      ]
    },
    {
      "cell_type": "code",
      "source": [
        "import re\n",
        "p = re.compile('[a-z]+')\n",
        "result = p.findall('LifeisShort,YouNeed P y t h o n !')\n",
        "print(result)"
      ],
      "metadata": {
        "colab": {
          "base_uri": "https://localhost:8080/"
        },
        "id": "N65Fy__mLzTY",
        "outputId": "d5412058-2776-4c54-def4-e380b44c3458"
      },
      "execution_count": null,
      "outputs": [
        {
          "output_type": "stream",
          "name": "stdout",
          "text": [
            "['ifeis', 'hort', 'ou', 'eed', 'y', 't', 'h', 'o', 'n']\n"
          ]
        }
      ]
    },
    {
      "cell_type": "code",
      "source": [
        "# 전화번호 끊기. 숫자만 매칭해서 끊을수도있당\n",
        "import re\n",
        "p = re.compile('[0-9]+')\n",
        "result = p.findall('010-5000-1000')\n",
        "print(result)"
      ],
      "metadata": {
        "colab": {
          "base_uri": "https://localhost:8080/"
        },
        "id": "NNXBnIttLqAR",
        "outputId": "bc5c6692-0d34-4131-93fa-e0baa5f4cc42"
      },
      "execution_count": null,
      "outputs": [
        {
          "output_type": "stream",
          "name": "stdout",
          "text": [
            "['010', '5000', '1000']\n"
          ]
        }
      ]
    },
    {
      "cell_type": "code",
      "source": [
        "# 문제링크 :  https://school.programmers.co.kr/learn/courses/30/lessons/17682\n",
        "# 1\n",
        "p = re.compile(r'([0-9]|10)([SDT])([\\*\\#]?)')\n",
        "p.findall('1S2D*3T')\n",
        "# [('1', 'S', ''), ('2', 'D', '*'), ('3', 'T', '')]\n",
        "# 바깥(tuple) 간 따옴표는 내패턴 아닐때. str간 따옴표는 그룹'()' 별\n",
        "\n",
        "# 2\n",
        "# re.findall(r'([0-9]|10)([SDT])([\\*\\#]?)', '1S2D*3T')"
      ],
      "metadata": {
        "colab": {
          "base_uri": "https://localhost:8080/"
        },
        "id": "AqAgFo2OMalk",
        "outputId": "f3365c66-1d01-4965-8502-75f5317089a7"
      },
      "execution_count": null,
      "outputs": [
        {
          "output_type": "execute_result",
          "data": {
            "text/plain": [
              "[('1', 'S', ''), ('2', 'D', '*'), ('3', 'T', '')]"
            ]
          },
          "metadata": {},
          "execution_count": 44
        }
      ]
    },
    {
      "cell_type": "code",
      "source": [
        "# 문제링크: https://school.programmers.co.kr/learn/courses/30/lessons/120891\n",
        "# 369 게임\n",
        "\n",
        "import re\n",
        "\n",
        "p = re.compile('[369]')\n",
        "result = p.findall('29423')\n",
        "print(result)"
      ],
      "metadata": {
        "colab": {
          "base_uri": "https://localhost:8080/"
        },
        "id": "rnHkMMbRNUNc",
        "outputId": "bc93e651-365a-481c-dcd5-e12808c11819"
      },
      "execution_count": null,
      "outputs": [
        {
          "output_type": "stream",
          "name": "stdout",
          "text": [
            "['9', '3']\n"
          ]
        }
      ]
    },
    {
      "cell_type": "code",
      "source": [
        "s = \"abc1Addfggg4556b\"\n",
        "# len(s) # 16\n",
        "s[15:18] # 'b' # out of range가 나오지 ㅇ낳는다!\n",
        "# string의 slicing의 경우 범위가 벗어나도 out of range가 발생하지 않는다.\n",
        "s[19:25] # ''\n"
      ],
      "metadata": {
        "colab": {
          "base_uri": "https://localhost:8080/",
          "height": 36
        },
        "id": "A7n8ZJLIS8dj",
        "outputId": "7e8d9ef4-2d6e-46c0-982b-f0d97d3c5ff6"
      },
      "execution_count": null,
      "outputs": [
        {
          "output_type": "execute_result",
          "data": {
            "text/plain": [
              "''"
            ],
            "application/vnd.google.colaboratory.intrinsic+json": {
              "type": "string"
            }
          },
          "metadata": {},
          "execution_count": 53
        }
      ]
    },
    {
      "cell_type": "code",
      "source": [
        "l = [10,20,30]\n",
        "l[10:15]\n",
        "# slicing의 경우 out of range가 발생하지 않음!"
      ],
      "metadata": {
        "colab": {
          "base_uri": "https://localhost:8080/"
        },
        "id": "_Hz7CdZsTgxI",
        "outputId": "05e91f1b-f35d-4de8-ee39-c6f018555534"
      },
      "execution_count": null,
      "outputs": [
        {
          "output_type": "execute_result",
          "data": {
            "text/plain": [
              "[]"
            ]
          },
          "metadata": {},
          "execution_count": 54
        }
      ]
    },
    {
      "cell_type": "code",
      "source": [
        "# 문제링크: https://school.programmers.co.kr/learn/courses/30/lessons/120913"
      ],
      "metadata": {
        "id": "KUIWowUAURtw"
      },
      "execution_count": null,
      "outputs": []
    },
    {
      "cell_type": "code",
      "source": [
        "# 잘라서 배열로 저장\n",
        "# findall 안쓰고풀기?\n",
        "\n",
        "n = 3\n",
        "s = \"abc1Addfggg4556b\"\n",
        "\n",
        "for i in range(0, len(s), n):\n",
        "    print(s[i:i+n])\n",
        "\n",
        "#1\n",
        "def solution(my_str, n):\n",
        "    answer = []\n",
        "    for i in range(0, len(my_str), n):\n",
        "        answer.append(my_str[i:i+n])\n",
        "    \n",
        "    return answer\n",
        "\n",
        "#2\n",
        "def solution(my_str, n):\n",
        "    return [my_str[i:i+n] for i in range(0, len(my_str), n)]\n"
      ],
      "metadata": {
        "colab": {
          "base_uri": "https://localhost:8080/"
        },
        "id": "EE7Yaw-FMkdJ",
        "outputId": "1bf7b7c0-71bb-46ff-94ed-06be1318ed4e"
      },
      "execution_count": null,
      "outputs": [
        {
          "output_type": "stream",
          "name": "stdout",
          "text": [
            "abc\n",
            "1Ad\n",
            "dfg\n",
            "gg4\n",
            "556\n",
            "b\n"
          ]
        }
      ]
    },
    {
      "cell_type": "code",
      "source": [
        "#3 정규표현식으로 풀기\n",
        "import re\n",
        "\n",
        "# li = re.findall(f\".{1,n}\", \"abc1Addfggg4556b\") # error\n",
        "# li = re.findall(f\".{1,{n}}\", \"abc1Addfggg4556b\") # 패턴이 .1,n 이됨?\n",
        "\n",
        "## f-string 용법에서중괄호를 문자열 그대로 표현하기 위해 이스케이프 문자를 사용하지 않습니다.\n",
        "# li = re.findall(f\".\\{1,{n}\\}\", \"abc1Addfggg4556b\") # error  f-string expression part cannot include a backslash\n",
        "\n",
        "## f-string용법에서 중괄호를 그대로 표현하려면 두개씩 중첩해서 사용합니다.\n",
        "li = re.findall(f\".{{1,{n}}}\", \"abc1Addfggg4556b\")\n",
        "li"
      ],
      "metadata": {
        "colab": {
          "base_uri": "https://localhost:8080/"
        },
        "id": "G0JQUnuwUOy1",
        "outputId": "33a76adf-7e58-48a5-ff56-c09d400ac0c1"
      },
      "execution_count": null,
      "outputs": [
        {
          "output_type": "execute_result",
          "data": {
            "text/plain": [
              "['abc', '1Ad', 'dfg', 'gg4', '556', 'b']"
            ]
          },
          "metadata": {},
          "execution_count": 68
        }
      ]
    },
    {
      "cell_type": "code",
      "source": [
        "# 문제링크 : https://school.programmers.co.kr/learn/courses/30/lessons/120894\n",
        "# 영어가 싫어요"
      ],
      "metadata": {
        "id": "vvGWEG5hV2bd"
      },
      "execution_count": null,
      "outputs": []
    },
    {
      "cell_type": "code",
      "source": [
        "# 해시, dict 등 여러가지가 있을 듯?\n",
        "\n",
        "# 정규표현식으로..\n",
        "import re\n",
        "\n",
        "s = \"onetwothreefourfivesixseveneightnine\"\n",
        "\n",
        "\n",
        "res = re.findall('(one|two|three|fourfive|six|seven|eight|nine|zero)',\n",
        "           s)\n",
        "print(res)\n",
        "\n"
      ],
      "metadata": {
        "colab": {
          "base_uri": "https://localhost:8080/"
        },
        "id": "fwjgnCvRWFvJ",
        "outputId": "33563b52-c98c-4c11-e646-1b8e2796e674"
      },
      "execution_count": null,
      "outputs": [
        {
          "output_type": "execute_result",
          "data": {
            "text/plain": [
              "['one', 'two', 'three', 'fourfive', 'six', 'seven', 'eight', 'nine']"
            ]
          },
          "metadata": {},
          "execution_count": 69
        }
      ]
    },
    {
      "cell_type": "code",
      "source": [
        "d = {\n",
        "    \"zero\":0,\n",
        "     \"one\":1,\n",
        "     \"two\":2,\n",
        "     \"three\":3,\n",
        "     \"four\":4,\n",
        "     \"five\":5,\n",
        "     \"six\":6,\n",
        "     \"seven\":7,\n",
        "     \"eight\":8,\n",
        "     \"nine\":9 \n",
        "}\n",
        "l = ['one', 'two', 'three', 'four', 'five', 'six', 'seven', 'eight', 'nine']\n",
        "\n",
        "''.join([str(d[i]) for i in l])\n",
        "\n",
        "s = ''\n",
        "for i in l:\n",
        "    s += str(d[i])\n",
        "s"
      ],
      "metadata": {
        "colab": {
          "base_uri": "https://localhost:8080/",
          "height": 36
        },
        "id": "-Z8EdAkXXmVw",
        "outputId": "9ecd669a-921d-4ecd-bc69-182bb157208d"
      },
      "execution_count": null,
      "outputs": [
        {
          "output_type": "execute_result",
          "data": {
            "text/plain": [
              "'123456789'"
            ],
            "application/vnd.google.colaboratory.intrinsic+json": {
              "type": "string"
            }
          },
          "metadata": {},
          "execution_count": 70
        }
      ]
    },
    {
      "cell_type": "code",
      "source": [
        "d = {\n",
        "    \"zero\":0,\n",
        "     \"one\":1,\n",
        "     \"two\":2,\n",
        "     \"three\":3,\n",
        "     \"four\":4,\n",
        "     \"five\":5,\n",
        "     \"six\":6,\n",
        "     \"seven\":7,\n",
        "     \"eight\":8,\n",
        "     \"nine\":9 \n",
        "}\n",
        "l = ['one', 'two', 'three', 'four', 'five', 'six', 'seven', 'eight', 'nine']\n",
        "\n",
        "# list(map(lambda x:str(d[x]),l))\n",
        "''.join(map(lambda x:str(d[x]),l)) # list로 형변환하지 않아도 만들 수 있음"
      ],
      "metadata": {
        "colab": {
          "base_uri": "https://localhost:8080/"
        },
        "id": "gC_kb5bGX-vF",
        "outputId": "e244e523-5060-47b7-eb3f-5b5e0f5f9270"
      },
      "execution_count": null,
      "outputs": [
        {
          "output_type": "execute_result",
          "data": {
            "text/plain": [
              "['1', '2', '3', '4', '5', '6', '7', '8', '9']"
            ]
          },
          "metadata": {},
          "execution_count": 71
        }
      ]
    },
    {
      "cell_type": "markdown",
      "source": [
        "## finditer\n"
      ],
      "metadata": {
        "id": "V9TJiTc4YeSU"
      }
    },
    {
      "cell_type": "markdown",
      "source": [
        "- 정규식과 매치되는 모든 문자열(substring)을 반복 가능한 객체로 리턴한다.\n"
      ],
      "metadata": {
        "id": "-XwQXC-TY1yw"
      }
    },
    {
      "cell_type": "code",
      "source": [
        "import re\n",
        "p = re.compile('.{4}')\n",
        "result = p.finditer('helloworldhelloworldhelloworld')\n",
        "for i in result:\n",
        "    print(i)\n",
        "    print(i.group())\n",
        "    print(i.span())"
      ],
      "metadata": {
        "colab": {
          "base_uri": "https://localhost:8080/"
        },
        "id": "8ZmmOCFeZLY2",
        "outputId": "5262a092-3dc4-48f0-bd56-66cb82f75b33"
      },
      "execution_count": null,
      "outputs": [
        {
          "output_type": "stream",
          "name": "stdout",
          "text": [
            "<re.Match object; span=(0, 4), match='hell'>\n",
            "hell\n",
            "(0, 4)\n",
            "<re.Match object; span=(4, 8), match='owor'>\n",
            "owor\n",
            "(4, 8)\n",
            "<re.Match object; span=(8, 12), match='ldhe'>\n",
            "ldhe\n",
            "(8, 12)\n",
            "<re.Match object; span=(12, 16), match='llow'>\n",
            "llow\n",
            "(12, 16)\n",
            "<re.Match object; span=(16, 20), match='orld'>\n",
            "orld\n",
            "(16, 20)\n",
            "<re.Match object; span=(20, 24), match='hell'>\n",
            "hell\n",
            "(20, 24)\n",
            "<re.Match object; span=(24, 28), match='owor'>\n",
            "owor\n",
            "(24, 28)\n"
          ]
        }
      ]
    },
    {
      "cell_type": "markdown",
      "source": [
        "## split\n"
      ],
      "metadata": {
        "id": "I59f2eLUY2GW"
      }
    },
    {
      "cell_type": "markdown",
      "source": [
        "- 정규표현 패턴으로 문자열을 분할(str에 split과 같은역할)"
      ],
      "metadata": {
        "id": "Z0THELAAY7Yn"
      }
    },
    {
      "cell_type": "code",
      "source": [
        "# split은 문자열을 나눌 기준이 되는 문자가 나오도록 패던을 만들어야 함\n",
        "# 반환은 쪼개진 문자열이 요소로 들어간 리스트\n",
        "import re\n",
        "\n",
        "s='010 5000!4000'\n",
        "re.split(r'[ !]', s)"
      ],
      "metadata": {
        "colab": {
          "base_uri": "https://localhost:8080/"
        },
        "id": "F016BqMyZ38N",
        "outputId": "e19e6022-93d3-44e8-f1b7-3e79cd790474"
      },
      "execution_count": null,
      "outputs": [
        {
          "output_type": "execute_result",
          "data": {
            "text/plain": [
              "['010', '5000', '4000']"
            ]
          },
          "metadata": {},
          "execution_count": 82
        }
      ]
    },
    {
      "cell_type": "code",
      "source": [
        "import re\n",
        "\n",
        "text = '''<!DOCTYPE html>\n",
        "<html lang=\"ko-KR\">\n",
        "<head>\n",
        "    <title>hello title</title>\n",
        "</head>\n",
        "<body>\n",
        "    <h1>hello h1</h1>\n",
        "    <p>hello p</p>\n",
        "</body>\n",
        "</html>\n",
        "'''\n",
        "# >.+< ?\n",
        "\n",
        "li = re.split('<[^<>]*>', text) # beautifulsoup 원리 : 정규표현식으로 문자열 parsing\n",
        "res1 = list(filter(lambda x:x !=\"\\n\", map(lambda x : x.strip(), li)))\n",
        "res2 = list(filter(lambda x:x !=\"\\n\" and x != \"\", map(lambda x : x.strip(), li)))\n",
        "print(res1)\n",
        "print(res2)"
      ],
      "metadata": {
        "colab": {
          "base_uri": "https://localhost:8080/"
        },
        "id": "xwR_iXYbaKe4",
        "outputId": "767a5ea4-4292-4584-dfc2-13b4c82fee07"
      },
      "execution_count": null,
      "outputs": [
        {
          "output_type": "stream",
          "name": "stdout",
          "text": [
            "['', '', '', '', 'hello title', '', '', '', 'hello h1', '', 'hello p', '', '', '']\n",
            "['hello title', 'hello h1', 'hello p']\n"
          ]
        }
      ]
    },
    {
      "cell_type": "markdown",
      "source": [
        "## !! 연습문제\n"
      ],
      "metadata": {
        "id": "ijqp1ffTQVDV"
      }
    },
    {
      "cell_type": "code",
      "source": [
        "# 문제 링크 : https://pyalgo.co.kr/?page=2#\n",
        "# 암호문"
      ],
      "metadata": {
        "id": "1bbpVnj9QWMA"
      },
      "execution_count": null,
      "outputs": []
    },
    {
      "cell_type": "code",
      "source": [
        "import re\n",
        "\n",
        "s = \"a10b9r1ce33uab8wc918v2cv11v9\"\n",
        "s2 = \"a10b9r1ce33uar10b8wc918v2cv11v9r10\"\n",
        "p = re.compile(r\"([rev]10|[rev][0-9])\")\n",
        "# p = re.compile(r\"([rev][0-9]|10)\")\n",
        "li = p.findall(s2)\n",
        "print(li)\n",
        "res = list(map(lambda x: x[1:],li))\n",
        "res_str = str(sum(map(int,res)))\n",
        "print(res_str[0], \"월\", res_str[1],\"일\")"
      ],
      "metadata": {
        "colab": {
          "base_uri": "https://localhost:8080/"
        },
        "id": "shV_T9eMQb6x",
        "outputId": "537a6307-6458-44d7-de21-11f88b411358"
      },
      "execution_count": null,
      "outputs": [
        {
          "output_type": "stream",
          "name": "stdout",
          "text": [
            "['r1', 'e3', 'r10', 'v2', 'v1', 'v9', 'r10']\n",
            "3 월 6 일\n"
          ]
        }
      ]
    },
    {
      "cell_type": "code",
      "source": [
        "# 베스트 답안\n",
        "import re\n",
        "\n",
        "s = \"a10b9r1ce33uab8wc918v2cv11v9\"\n",
        "s2 = \"a10b9r1ce33uar10b8wc918v2cv11v9r10\"\n",
        "p = re.compile(r\"([rev])(10|[1-9])\")\n",
        "li = p.findall(s2)\n",
        "print(li)"
      ],
      "metadata": {
        "colab": {
          "base_uri": "https://localhost:8080/"
        },
        "id": "4dNIFV1MUBtQ",
        "outputId": "c1eb93cf-30ca-4150-9871-88c8da6ec95e"
      },
      "execution_count": null,
      "outputs": [
        {
          "output_type": "stream",
          "name": "stdout",
          "text": [
            "[('r', '1'), ('e', '3'), ('r', '10'), ('v', '2'), ('v', '1'), ('v', '9'), ('r', '10')]\n"
          ]
        }
      ]
    },
    {
      "cell_type": "markdown",
      "source": [
        "## !! advanced 문제"
      ],
      "metadata": {
        "id": "8j5DnW0lUm4y"
      }
    },
    {
      "cell_type": "markdown",
      "source": [
        "- markdown 파일을 업로드해서 html파일로 바꿔서 다운로드하는 기능을 하는 함수를 개발하여라"
      ],
      "metadata": {
        "id": "D64BVk1MUoyf"
      }
    },
    {
      "cell_type": "code",
      "source": [
        "#\n",
        "import re\n",
        "\n",
        "def md_to_html(markdown_filename):\n",
        "    md_text = ''\n",
        "    with open(markdown_filename, 'r', encoding='utf-8') as f:\n",
        "        md_text = f.read()\n",
        "    \n",
        "    # print(md_text)\n",
        "    html = re.sub(r'```python', r'<pre><code>', md_text)\n",
        "    html = re.sub(r'```', r'</code></pre>', html)\n",
        "    html = re.sub(r'<code>(.|[\\n]*)#(.|[\\n]*)</code>', r'<code>\\1\\'\\'\\'\\2\\'\\'\\'</code>', html, flags = re.DOTALL)\n",
        "    # html = re.sub(r'<code>(.*)# (.*)', r'<code>\\1#\\2', html)\n",
        "    # html = re.sub(r'<code>(.*)## (.*)', r'<code>\\1##\\2', html)\n",
        "    \n",
        "    return html\n",
        "    html = re.sub('#{6} (.*)', r'<h6>\\1</h6>',html)\n",
        "    html = re.sub('#{5} (.*)', r'<h5>\\1</h5>',html)\n",
        "    html = re.sub('#{4} (.*)', r'<h4>\\1</h4>',html)\n",
        "    html = re.sub('#{3} (.*)', r'<h3>\\1</h3>',html)\n",
        "    html = re.sub('#{2} (.*)', r'<h2>\\1</h2>',html)\n",
        "    html = re.sub('^# (.*)', r'<h1>\\1</h1>',html)\n",
        "    \n",
        "    html = re.sub(r'> (.*)', r'<blockquote>\\1</blockquote>', html)\n",
        "\n",
        "    \n",
        "    html = re.sub(r'[-*] (.*)', r'<li>\\1</li>',html)\n",
        "    html = re.sub(r'[_*]{2}(.*)[_*]{2}', r'<strong>\\1</strong>',html)\n",
        "    html = re.sub(r'\\n', r'<br>', html)\n",
        "    # html = re.sub(r'^(.*)\\n', r'<p>\\1</p>', html)\n",
        "    html = re.sub(r'---', r'<hr>', html)\n",
        "    html = re.sub(r'\\[(.*)\\]\\((.*)\\)', r'<a href=\"\\2\">\\1</a>', html)\n",
        "\n",
        "\n",
        "    return html\n",
        "\n",
        "md_to_html(\"test.md\")"
      ],
      "metadata": {
        "colab": {
          "base_uri": "https://localhost:8080/",
          "height": 285
        },
        "id": "xvCxFsDbUx9d",
        "outputId": "d695c916-0da7-4719-b0d5-af1daa6c8f2c"
      },
      "execution_count": null,
      "outputs": [
        {
          "output_type": "execute_result",
          "data": {
            "text/plain": [
              "'# Collections 모듈\\n\\n## collections.defaultdict\\n\\n- dict 클래스의 subclass\\n- collections 라이브러리에 탑재되어 있는 defaultdict는 딕셔너리(dict)와 거의 똑같은 용법으로 사용할 수 있습니다.\\n- 다른 점은 없는 키로 접근을 해도 KeyError를 일으키지 않고 초기 값(default value)를 내뱉는다는 데 있습니다.\\n- 초기값은 따로 설정할 수 있습니다.\\n\\n- 예제\\n\\n<pre><code>\\nfrom collections import defaultdict\\ndefault_dict = defaultdict(int) # 초기값을 설정해줌\\nprint(type(default_dict))\\nprint(default_dict)         # defaultdict(<class \\'int\\'>, {})\\n\\n# 없는 키를 조회하면 원소가 추가됨\\ndefault_dict[\\'key1\\']\\n\\n# int 클래스의 기본 값인 0이 자동으로 들어감\\nprint(default_dict)        # defaultdict(<class \\'int\\'>, {\\'key1\\': 0})\\n\\n# get함수는 조회만 하고 없는 키를 호출해도 생성되지는 않음\\ndefault_dict.get(\\'hi\\')\\nprint(default_dict)         # defaultdict(<class \\'int\\'>, {\\'key1\\': 0})\\n\\ndefault_dict[\\'key2\\']\\nprint(default_dict)         # defaultdict(<class \\'int\\'>, {\\'key1\\': 0, \\'key2\\': 0})\\n\\n</code></pre>\\n\\n- 활용방법\\n\\n<pre><code>\\n# 기본값으로 컨벤션 타입으로 지정할 수 있음\\nfrom collections import defaultdict\\nddict = defaultdict(list) # 초기값을 설정해줌\\nprint(ddict)    # defaultdict(<class \\'list\\'>, {})\\n\\n# 원소가 리스트이면 같은 key 값에 여러 value를 넣을 수 있게 된다.\\nl = [(\\'A\\',123),(\\'B\\', 45),(\\'C\\', 6),(\\'A\\',78),(\\'B\\',9)]\\nfor k, v in l:\\n    ddict[k].append(v)\\n\\n# 없는 key더라도 에러발생하지 않고 생성해서 값을 넣어준다.\\n\\nprint(ddict)    # defaultdict(<class \\'list\\'>, {\\'A\\': [123, 78], \\'B\\': [45, 9], \\'C\\': [6]})\\n</code></pre>\\n\\n- to be continue...\\n\\n---\\n\\n# itertools 모듈\\n\\n- itertools 모듈에는 반복 가능한 데이터 스트림을 처리하는 데 유용한 많은 함수와 제너레이터가 포함되어 있습니다.\\n\\n## itertools.chain()\\n\\n> 함수 형태 : itertools.chain(\\\\*iterables)\\n\\n- 첫 번째 이터러러블 객체가 끝날 원소를 반환하고 다음 이터러블로 넘어감\\n- iterables의 모든 이터러블이 소진될 때까지 진행하는 이터레이터를 만듭니다\\n- 여러 시퀀스를 단일 시퀀스처럼 처리하는 데 사용됩니다.\\n\\n- 예제: 한 차원의 iterable만 함(2차원 배열의 경우 list채로 출력)\\n\\n<pre><code>\\nimport itertools\\n\\na = itertools.chain([1,2,3], [\\'AB\\'], \\'hello@world!\\')\\n\\nfor i in a:\\n    print(i, end=\\' \\')\\n# 1 2 3 AB h e l l o @ w o r l d !\\n\\nprint()\\naa = itertools.chain([1,2,[10,20,30]],\"ABC\",(10.2, 22.2))\\n# 1단계 iterable 까지만 그대로 출력함\\nfor i in aa:\\n    print(i, end=\\' \\')\\n\\n# 1 2 [10, 20, 30] A B C 10.2 22.2\\n\\n</code></pre>\\n\\n# functools 모듈\\n\\n# json 모듈\\n\\n- JSON(JavaScript object Notation)은 텍스트를 사용하여 데이터를 저장하고 전송할 데이터 공유를 위한 개방형 표준 파일 형식입니다.\\n- JSON 데이터는 **키/값 쌍**으로 작성됩니다. 키와 값은 중간에 콜론(:)으로 구분되며 왼쪽에는 키, 오른쪽에는 값이 있습니다.\\n- XMl에 비해 **명확하고 읽기 쉽고**, 데이터 셋을 정의하는 문자 수가 적어 인터넷을 통한 전송 **오버헤드**가 적습니다.\\n\\n- `{ }` 를 하나의 오브젝트로 인식해서 다룹니다.\\n- json 모듈은 JSON 파일을 읽고 쓰기 편리하게 지원하는 모듈입니다.\\n\\n- 인코더(json.JSONEncoder)와 디코더(json.JSONDecoder)\\n\\n  - NaN, Infinity 및 -Infinity를 해당 float 값으로 이해합니다.\\n    |JSON|파이썬|\\n    |------|----|\\n    |오브젝트(object)|dict|\\n    |배열(array)|list|\\n    |문자열(string)|str|\\n    |숫자(정수)|int|\\n    |숫자(실수)|float|\\n    |true|True|\\n    |flase|False|\\n    |null|None|\\n\\n- https://docs.python.org/ko/3/library/json.html\\n\\n## json.dump()\\n\\n- 인자로 file object가 있어서 `str`로 변환해 파일에 쓰는 기능까지 포함\\n- json 파일에 입력할 데이터는 `dictionary` 타입으로 되어있어야 한다.\\n\\n<pre><code>\\n# list형식, dict형식 모두 입력이 된다.\\n# 왜냐하면 JSON 데이터와 Python 자료형이 1:1 매칭되고 그걸 josn 모듈에서 처리해주기 떄문\\n\\nimport json\\n\\nli = [\\n    {\\n        \"_id\": \"645f63cdbfa868f6ba47ccd7\",\\n        \"age\": 40,\\n        \"eyeColor\": \"brown\",\\n        \"name\": \"Frederick Pate\",\\n        \"gender\": \"male\"\\n    },\\n    {\\n        \"_id\": \"645f63cd9e3df96110aeec47\",\\n        \"age\": 31,\\n        \"eyeColor\": \"green\",\\n        \"name\": \"Janis Guthrie\",\\n        \"gender\": \"female\"\\n    },\\n    {\\n        \"_id\": \"645f63cd033fb24f4534d349\",\\n        \"age\": 32,\\n        \"eyeColor\": \"brown\",\\n        \"name\": \"Marla West\",\\n        \"gender\": \"female\"\\n    }\\n]\\n\\nd = {\\n        \"_id\": \"645f63cd033fb24f4534d349\",\\n        \"age\": 32,\\n        \"eyeColor\": \"brown\",\\n        \"name\": \"Marla West\",\\n        \"gender\": \"female\"\\n    }\\n\\n\\nwith open(\\'dump_li.json\\', \\'w\\', encoding=\\'utf-8\\') as f:\\n    # indent key argument에 int 혹은 문자로 들여쓰기 문자를 어떤 것으로 넣을지 설정할 수 있음\\n    json.dump(li, f, indent=\\'\\\\t\\') # JSON 문자열로 변환과 동시에 파일에 입력이 됨\\n\\n\\nwith open(\\'dump_d.json\\', \\'w\\', encoding=\\'utf-8\\') as f:\\n    json.dump(d, f, indent=2)\\n\\n</code></pre>\\n\\n### JSON에서 한글 출력하기\\n\\n- key argument : `ensure_ascii` 활용\\n- 키 아규먼트 값을 `False`로 주면 아스키코드 값으로 문자를 표현하는 것을 보장하지 않으므로 문자 그대로 표현됨\\n- 키 아규먼트 값을 `True`로 주면 모든 문자를 아스키코드 값표현하기 때문에 아스키 코드가 아닌 문자는 이스케이프 문자로 표현된다(디폴트)\\n\\n<pre><code>\\nimport json\\nd = {\\'one\\': \\'하나\\', \\'two\\': \\'둘\\', \\'three\\': \\'셋\\'}\\n\\nwith open(\\'ensure_false.json\\', \\'w\\', encoding=\\'utf-8\\') as f:\\n    json.dump(d,f,indent=\\'\\\\t\\', ensure_ascii=False)\\n\\n## ensure_false.json\\n# {\\n# \\t\"one\": \"하나\",\\n# \\t\"two\": \"둘\",\\n# \\t\"three\": \"셋\"\\n# }\\n\\nwith open(\\'ensure_true.json\\', \\'w\\', encoding=\\'utf-8\\') as f:\\n    json.dump(d, f, indent=\\'\\\\t\\', ensure_ascii=True)\\n\\n## ensure_true.json\\n# {\\n# \\t\"one\": \"\\\\ud558\\\\ub098\",\\n# \\t\"two\": \"\\\\ub458\",\\n# \\t\"three\": \"\\\\uc14b\"\\n# }\\n\\n</code></pre>\\n\\n## json.load()\\n\\n- JSON 파일을 열어 Python의 객체로 변환하는 함수\\n\\n<pre><code>\\n# 위에 있는 dump_d.json 파일을 오픈하는 예제\\nimport json\\n\\nwith open(\\'dump_d.json\\') as f:\\n    json_obj = json.load(f)\\n\\nprint(json_obj)\\n#  {\\'_id\\': \\'645f63cd033fb24f4534d349\\', \\'age\\': 32, \\'eyeColor\\': \\'brown\\', \\'name\\': \\'Marla West\\', \\'gender\\': \\'female\\'}\\n</code></pre>\\n\\n## json.dumps()\\n\\n> json.dumps(py_object, name)\\n\\n- Python 객체를 JSON 문자열로 변환하는 함수\\n- 반환 값은 `str` 타입 문자열을 반환해줌\\n- 파일에 쓰는 기능은 없음\\n\\n- json.dumps()는 JSON 문자열로 변환만 해주기 때문에 f.write로 직접 파일에 써 줘야 한다.\\n\\n<pre><code>\\nimport json\\nd = {\\n        \"_id\": \"645f63cd033fb24f4534d349\",\\n        \"age\": 32,\\n        \"eyeColor\": \"brown\",\\n        \"name\": \"Marla West\",\\n        \"gender\": \"female\"\\n    }\\n\\nwith open(\\'dumps.json\\', \\'w\\', encoding=\\'utf-8\\') as f:\\n    json_str = json.dumps(li, indent=\\'\\\\t\\')\\n    print(json_str)\\n    f.write(json_str) # dumps는 JSON문자열로 변환만 하기 때문에 파일에 직접 써줘야 한다.\\n\\n</code></pre>\\n\\n## json.loads()\\n\\n- JSON 문자열을 Python 객체로 변환하는 함수\\n\\n<pre><code>\\nimport json\\nd = {\\n        \"age\": 32,\\n        \"Region\": {\\n          \"Contry\" : \"Korea,\\n          \"City\" : \"Seoul,\\n          \"Code\" : 18490\\n        },\\n        \"name\": \"Marla West\",\\n    }\\n\\n\\njson_str = json.dumps(d, intdent = 4)\\nprint(json_str)\\nprint(type(json_str)) # <class \\'str\\'>\\n\\npy_obj = json.loads(json_str)\\nprint(type(py_obj)) # <class \\'dict\\'> # python 객체 dict로 변환됨\\n\\n## 출력\\n# {\\n#     \"age\": 32,\\n#     \"Region\": {\\n#         \"Country\": \"Korea\",\\n#         \"City\": \"Seoul\",\\n#         \"Code\": 18490\\n#     },\\n#     \"name\": \"Marla West\"\\n# }\\n\\n</code></pre>\\n\\n# random 모듈\\n\\n- 임의로 난수를 생성하는 모듈입니다.\\n- 실제로 완벽한 난수는 아니지만 난수에 매우 가깝게 숫자를 생성해줍니다.\\n- 난수를 생성하는 알고리즘은 여러 가지 방식이 있습니다\\n\\n# pprint 모듈\\n\\n# os 모듈\\n\\n- 파이썬 내장 모듈로 별도의 설치 없이 `import os`로 임포트 할 수 있습니다.\\n- 파이썬을 이용해 파일을 복사하거나 디렉터리를 생성하고 특정 디렉터리 내의 파일 목록을 구하고자 할 때 `os 모듈`을 사용하면 됩니다.\\n\\n## os.getcwd()\\n\\n- 현재 경로를 str 문자열로 반환\\n\\n<pre><code>\\nimport os\\n\\ns = os.getcwd()\\n\\nprint(type(s))  # <class \\'str\\'>\\nprint(s)        # C:\\\\Users\\\\ABO\\\\Desktop\\\\Study_Python\\n</code></pre>\\n\\n## os.listdir()\\n\\n- 현재 경로에 있는 모든 파일 및 폴더를 str 문자열 요소를 가진 list로 반환\\n- 파일은 확장자가 있고 폴더는 확장자가 없는 것으로 구분할 수 있음\\n\\n<pre><code>\\nimport os\\n\\nl = os.listdir()\\n\\nprint(type(l)) # <class \\'list\\'>\\nprint(l)  # [\\'.git\\', \\'CodingTest\\', \\'python_grammer\\', \\'README.md\\']\\n\\n</code></pre>\\n\\n## os.system()\\n\\n> os.system(커맨드명령어)\\n\\n- 커맨드명령어 (string) 를 수행하는 함수\\n\\n<pre><code>\\nimport os\\n\\nos.system(\\'dir\\')\\n\\n#  C 드라이브의 볼륨에는 이름이 없습니다.\\n#  볼륨 일련 번호: F28A-138E\\n\\n#  C:\\\\Users\\\\ABO\\\\Desktop\\\\Study_Python 디렉터리\\n\\n# 2023-05-11  오후 04:40    <DIR>          .\\n# 2023-05-11  오후 04:40    <DIR>          ..\\n# 2023-05-09  오후 05:06    <DIR>          CodingTest\\n# 2023-05-11  오후 04:40    <DIR>          python_grammer\\n# 2023-05-09  오후 04:42                58 README.md\\n#                1개 파일                  58 바이트\\n#                4개 디렉터리  104,515,416,064 바이트 남음\\n# 0\\n</code></pre>\\n\\n## os.mkdir(), os.makedirs()\\n\\n- `os.mkdir()`, `os.makedirs()`함수는 입력한 경로의 폴더를 생성해주는 함수입니다.\\n\\n> os.mkdir(경로)\\n\\n- 입력한 경로의 폴더만 생성하는 함수.\\n- 중간에 없는 경로가 입력되면 지정된 경로를 찾을 수 없다는 에러가 나오면서 실패한다.\\n\\n<pre><code>\\nimport os\\n\\nos.mkdir(\\'test\\') # test 폴더를 생성\\nos.mkdir(\\'test2/test3\\') # 현재 경로에 test2 폴더가 없다면 에러 발생\\n\\n</code></pre>\\n\\n> os.makedirs(경로, exist_ok=True/False)\\n\\n- 최하위 경로까지 가는 경로에 폴더가 없다면 모든 폴더를 생성해줌\\n\\n<pre><code>\\nimport os\\n\\nos.makedirs(\\'test2/test3/testtest\\') # test2, test3 폴더가 없어도 모두 생성\\nos.makedirs(\\'test2/test3/testtest\\') # 파일이 이미 있으므로 만들 수 없습니다: \\'test2/test3/testtest\\' 라는 에러 발생\\nos.makedirs(\\'test2/test3/testtest\\', exist_ok=True) # 경로상에 파일이 이미 존재하고 있어도 에러를 뱉지 않는 옵션\\n\\n</code></pre>\\n\\n## os.path 모듈\\n\\n- `os` 모듈에 포함된 모듈로 파일 경로를 생성 및 수정하고 파일 정보를 쉽게 다룰 수 있게 하는 모듈입니다.\\n- `import os.path`로 임포트 할 수 있습니다.\\n\\n- os.path.abspath() 함수\\n\\n  > os.path.abspath(파일및폴더이름)\\n\\n  - 문자열로 입력한 `파일및폴더이름`를 절대경로 문자열로 반환합니다.\\n\\n  <pre><code>\\n  import os.path\\n\\n  s = os.path.abspath(\\'Test.md\\')\\n\\n  print(type(s))  # <class \\'str\\'>\\n  print(s)        # C:\\\\Users\\\\ABO\\\\Desktop\\\\Study_Python\\\\Test.md\\n  </code></pre>\\n\\n- os.path.basename() 함수\\n\\n  > os.path.basename(절대경로)\\n\\n  - 입력한 절대 경로에서 가장 마지막 폴더 혹은 파일명만 문자열로 반환합니다.\\n  - 절대경로를 입력할 때 백슬래시 개수에 유의해한다. (백슬래스 2개 혹은 raw-string 문자)\\n\\n<pre><code>\\nimport os.path\\n\\ns = os.path.basename(r\\'C:\\\\Users\\\\ABO\\\\Desktop\\\\Study_Python\\\\Test.md\\')\\n\\nprint(type(s))  # <class \\'str\\'>\\nprint(s)        # Test.md\\n\\n</code></pre>\\n\\n- os.path.dirname() 함수\\n\\n  > os.path.dirname(경로)\\n\\n  - path의 파일/디렉토리 경로를 반환한다.\\n\\n  <pre><code>\\n  import os.path\\n\\n  s = os.path.dirname(r\\'C:\\\\Users\\\\ABO\\\\Desktop\\\\Study_Python\\\\Test.md\\')\\n\\n  print(type(s))  # <class \\'str\\'>\\n  print(s)        # C:\\\\Users\\\\ABO\\\\Desktop\\\\Study_Python\\n\\n  </code></pre>\\n\\n  - 폴더로 했을 때\\n\\n  <pre><code>\\n  import os.path\\n\\n  s = os.path.dirname(r\\'C:\\\\Users\\\\ABO\\\\Desktop\\\\Study_Python\\')\\n\\n  print(type(s))  # <class \\'str\\'>\\n  print(s)        # C:\\\\Users\\\\ABO\\\\Desktop\\n\\n  </code></pre>\\n\\n- os.path.exists() 함수\\n\\n  > os.path.dirname(경로)\\n\\n  - 입력한 경로가 존새하면 `True`, 존재하지 않으면 `False`를 리턴한다\\n\\n<pre><code>\\nimport os.path\\n\\nprint(os.path.exists(r\\'C:\\\\Users\\\\ABO\\\\Desktop\\\\Study_Python\\\\Test.md\\')) ## 파일명은 입력해도 False\\nprint(os.path.exists(r\\'C:\\\\Users\\\\ABO\\\\Desktop\\\\Study_Python\\'))         ## 실제 있는 경로이면 True\\n</code></pre>\\n\\n# glob 모듈\\n\\n- 파일 검색이 아주 용이한 모듈로 `*` 이나 `?` 문자로 파일명을 쉽게 필터링할 수 있다.\\n- 정규표현식과 같이 사용이 안됩니다.\\n\\n# sys 모듈\\n\\n- 인터프리터? 디버깅하는거 있던데...\\n\\n# pytz 모듈\\n\\n- 세계 시간 기준으로 관리해주는 패키지\\n\\n# 엑셀모듈 : xlsxwriter\\n\\n- openpyxl 등등이 있었음\\n\\n# 크롤링 모듈 : beautifulsoup\\n\\n> 임포트 형식 : `from bs4 import BeautifulSoup`\\n\\n- `BeautifulSoup`은 HTML과 XML 문서를 파싱하는 라이브러리입니다.\\n- 웹 크롤링을 할 때, HTML 문서에서 원하는 데이터를 추출하는 데 자주 사용됩니다.\\n- str 타입의 html 데이터를 html 구조를 가진 데이터로 가공하는 것도 가능합니다.\\n\\n- `reausts` 모듈로 가져온 응답을 파싱해서 원하는 정보를 보여줄 수 있음\\n- 일반적으로 아래와 같이 원하는 url의 html파일을 요청받은 후 BeautifulSoup객체를 생성해 사용함\\n\\n<pre><code>\\nimport requests\\nfrom bs4 import BeautifulSoup\\n\\nresponse = requests.get(\\'http://www.paullab.co.kr/stock.html\\')\\n\\nresponse.encoding = \\'utf-8\\'\\nhtml = response.text\\n\\nsoup = BeautifulSoup(html, \\'html.parser\\')\\n</code></pre>\\n\\n- 교육 크롤링 페이지의 거래량 총합을 구하는 코드\\n\\n<pre><code>\\n\\n# advanced 과제 :\\n# 제주코딩베이스캠프 연구원에 2019.09.24일 부터 2019.10.23일까지 거래된 거래총량을 구해주세요.\\n\\n# https://paullab.co.kr/stock.html\\n\\n### 제출답안### >> 주석제거후 제출했음\\nimport requests\\nfrom bs4 import BeautifulSoup\\n\\nresponse = requests.get(\\'http://www.paullab.co.kr/stock.html\\')\\n\\nresponse.encoding = \\'utf-8\\'\\nhtml = response.text\\n\\nsoup = BeautifulSoup(html, \\'html.parser\\')\\n# print(type(soup)) # <class \\'bs4.BeautifulSoup\\'>\\n\\n# 테이블 이름을 미리 저장\\ntable_title = soup.select_one(\\'.main>#제주코딩베이스캠프연구원\\').text\\n\\n# 연구원 이 들어간 객체만 골라서 가져오기\\ndata = soup.select(\\'.main\\')\\n\\nlab_table = list(filter(lambda x: \\'연구원\\' in x.text, data))\\n# print(lab_table)\\n# print(len(lab_table))\\n\\ndata_list = lab_table[0].select(\\'table>tbody>tr>td\\')\\n# print(type(data_list[0]))   #<class \\'bs4.element.Tag\\'>\\n# print(dir(data_list[0]))\\n\\n# len(data_list) # 140\\ntotal_trading_volume = 0\\n\\n# 7번째 데이터마다 거래량\\nfor i in range(6,len(data_list),7):\\n    # print(data_list[i].text)\\n    total_trading_volume += int(data_list[i].text.replace(\\',\\', \\'\\'))\\n\\nprint(f\\'{table_title}의 기간동안 거래총량은 {total_trading_volume:,} 회 입니다.\\')\\n\\n</code></pre>\\n\\n- 더 간단하게 풀이한 방법. 상태클래스를 사용하면 더 쉽게 활용할 수 있다.\\n\\n<pre><code>\\n# advanced 과제 : 더 쉽게 풀기. td에 :nth-child(7) 으로 검색하면 7번째 데이터를 바로 읽어온다.\\n# 제주코딩베이스캠프 연구원에 2019.09.24일 부터 2019.10.23일까지 거래된 거래총량을 구해주세요.\\n\\n# https://paullab.co.kr/stock.html\\n\\n### 제출답안### >> 주석제거후 제출했음\\nimport requests\\nfrom bs4 import BeautifulSoup\\n\\nresponse = requests.get(\\'http://www.paullab.co.kr/stock.html\\')\\n\\nresponse.encoding = \\'utf-8\\'\\nhtml = response.text\\n\\nsoup = BeautifulSoup(html, \\'html.parser\\')\\n\\n# 테이블 이름을 미리 저장\\ntable_title = soup.select_one(\\'.main>#제주코딩베이스캠프연구원\\').text\\n\\n# 연구원 이 들어간 객체만 골라서 가져오기\\ndata = soup.select(\\'.main\\')\\nlab_table = list(filter(lambda x: \\'연구원\\' in x.text, data))\\n\\ndata_list = lab_table[0].select(\\'table > tbody > tr > td:nth-child(7)\\') # > span은 있어도 되고 없어도 되네..\\ndata_list2 = [i.text.replace(\\',\\',\\'\\') for i in data_list]\\n\\ntotal_trading_volume = sum(map(int, data_list2))\\n\\nprint(f\\'{table_title}의 기간동안 거래총량은 {total_trading_volume:,} 회 입니다.\\')\\n</code></pre>\\n\\n# gc 모듈 : Garbage Collector 사용하기\\n\\n- https://wikidocs.net/13969\\n'"
            ],
            "application/vnd.google.colaboratory.intrinsic+json": {
              "type": "string"
            }
          },
          "metadata": {},
          "execution_count": 92
        }
      ]
    },
    {
      "cell_type": "code",
      "source": [
        "## google bard로 짠 markdown -> html 함수\n",
        "import re\n",
        "\n",
        "def markdown_to_html(markdown):\n",
        "    html = re.sub(r'### (.*)', r'<h3>\\1</h3>', markdown)\n",
        "    html = re.sub(r'## (.*)', r'<h2>\\1</h2>', html)\n",
        "    html = re.sub(r'# (.*)', r'<h1>\\1</h1>', html)\n",
        "    html = re.sub(r'\\* (.*)', r'<em>\\1</em>', html)\n",
        "    html = re.sub(r'[_*]{2}(.*)[_*]{2}', r'<strong>\\1</strong>', html)\n",
        "    html = re.sub(r'`(.*)`', r'<code>\\1</code>', html)\n",
        "    html = re.sub(r'^(.*)\\n', r'<p>\\1</p>', html)\n",
        "    html = re.sub(r'\\n(.*)', r'<br>\\1', html)\n",
        "    \n",
        "    # 인용 부호\n",
        "    html = re.sub(r'> (.*)', r'<blockquote>\\1</blockquote>', html)\n",
        "    \n",
        "    # 수평선\n",
        "    html = re.sub(r'---', r'<hr>', html)\n",
        "    \n",
        "    # 링크\n",
        "    html = re.sub(r'\\[(.*)\\]\\((.*)\\)', r'<a href=\"\\2\">\\1</a>', html)\n",
        "    \n",
        "    # 이미지\n",
        "    html = re.sub(r'!\\[(.*)\\]\\((.*)\\)', r'<img src=\"\\2\" alt=\"\\1\">', html)\n",
        "    \n",
        "    return html\n",
        "\n",
        "text = '''# 제목 1\n",
        "## 제목 2\n",
        "### 제목 3\n",
        "* 목록 항목 1\n",
        "* 목록 항목 2\n",
        "**강조 텍스트**\n",
        "__강조 텍스트__\n",
        "`코드`\n",
        "\n",
        "> 이건 인용 부호입니다.\n",
        "\n",
        "---\n",
        "\n",
        "이건 수평선입니다.\n",
        "\n",
        "[링크](https://www.google.com)\n",
        "\n",
        "![이미지](https://upload.wikimedia.org/wikipedia/commons/thumb/a/a3/WikiProject_Zoo_Logo.svg/1200px-WikiProject_Zoo_Logo.svg.png)'''\n",
        "\n",
        "html = markdown_to_html(text)\n",
        "print(html)"
      ],
      "metadata": {
        "colab": {
          "base_uri": "https://localhost:8080/"
        },
        "id": "WWf-K3CdZ7iT",
        "outputId": "16408621-9850-4b9e-932e-92765186d1b7"
      },
      "execution_count": null,
      "outputs": [
        {
          "output_type": "stream",
          "name": "stdout",
          "text": [
            "<p><h1>제목 1</h1></p><h2>제목 2</h2><br><h3>제목 3</h3><br><em>목록 항목 1</em><br><em>목록 항목 2</em><br><strong>강조 텍스트</strong><br><strong>강조 텍스트</strong><br>`코드`<br><br><blockquote>이건 인용 부호입니다.<br><br><hr><br><br>이건 수평선입니다.<br><br><a href=\"https://upload.wikimedia.org/wikipedia/commons/thumb/a/a3/WikiProject_Zoo_Logo.svg/1200px-WikiProject_Zoo_Logo.svg.png\">링크](https://www.google.com)<br><br>![이미지</a></blockquote>\n"
          ]
        }
      ]
    },
    {
      "cell_type": "code",
      "source": [
        "import re\n",
        "\n",
        "def md_to_html(markdown_filename):\n",
        "    md_text = ''\n",
        "    with open(markdown_filename, 'r', encoding='utf-8') as f:\n",
        "        md_text = f.read()\n",
        "    \n",
        "    # head\n",
        "    html = re.sub('#{6} (.*)', r'<h6>\\1</h6>',md_text)\n",
        "    html = re.sub('#{5} (.*)', r'<h5>\\1</h5>',html)\n",
        "    html = re.sub('#{4} (.*)', r'<h4>\\1</h4>',html)\n",
        "    html = re.sub('#{3} (.*)', r'<h3>\\1</h3>',html)\n",
        "    html = re.sub('#{2} (.*)', r'<h2>\\1</h2>',html)\n",
        "    html = re.sub('# (.*)', r'<h1>\\1</h1>',html)\n",
        "    \n",
        "    # etc\n",
        "    html = re.sub(r'> (.*)', r'<blockquote>\\1</blockquote>', html)\n",
        "    html = re.sub(r'[-]{3,}\\n', r'<hr>\\n', html)\n",
        "    html = re.sub(r'[_*]{2}(.*)[_*]{2}', r'<strong>\\1</strong>',html)\n",
        "    html = re.sub(r'[_*](.*)[_*]', r'<i>\\1</i>', html)\n",
        "    \n",
        "    # unordered list\n",
        "    html = re.sub(r'\\n[-*] (.*)', r'\\n<ul>\\n<li>\\1</li>\\n</ul>',html)\n",
        "    html = re.sub(r'/li>\\n</ul>\\n<ul>\\n<li', r'/li>\\n<li', html)\n",
        "\n",
        "    # ordered list\n",
        "    html = re.sub(r'\\n[0-9]+\\. (.*)', r'\\n<ol>\\n<li>\\1</li>\\n</ol>',html)\n",
        "    html = re.sub(r'/li>\\n</ol>\\n<ol>\\n<li', r'/li>\\n<li', html)\n",
        "    \n",
        "    #code\n",
        "    html = re.sub(r'```(.*)```', r'<pre><code>\\1</code></pre>', html, flags=re.DOTALL)\n",
        "    ## 코드 안 주석처리 하려고했는데.. 안됨\n",
        "    # html = re.sub(r'<code>(.*)<h1>(.*)</code>', r'<code>\\1 \\2</code>', html, flags=re.DOTALL)\n",
        "    html = re.sub(r'`(.*)`', r'<code>\\1</code>', html, flags=re.DOTALL)\n",
        "    #image\n",
        "    html = re.sub(r'!\\[(.*)\\]\\((.*)\\)', r'<img src=\\2 alt=\\1>\\n', html)\n",
        "    #link\n",
        "    html = re.sub(r'\\[(.*)\\]\\((.*)\\)', r'<a href=\\2>\\1</a>', html)\n",
        "\n",
        "    #table - 시간낭비인거같아서 pass\n",
        "    # html = re.sub(r'^[\\|] (.*)', r'<table><tr>\\1</table>', html, flags=re.DOTALL)\n",
        "\n",
        "    return html\n",
        "    \n",
        "    snipet = f'''<!DOCTYPE html>\n",
        "    <html lang=\"ko-KR\">\n",
        "    <head>\n",
        "        <meta charset=\"UTF-8\">\n",
        "        <meta http-equiv=\"X-UA-Compatible\" content=\"IE=edge\">\n",
        "        <meta name=\"viewport\" content=\"width=device-width, initial-scale=1.0\">\n",
        "        <title></title>\n",
        "    </head>\n",
        "    <body>\n",
        "    {html} \n",
        "    </body>\n",
        "    </html>\n",
        "    '''\n",
        "\n",
        "    return html\n",
        "\n",
        "t = \"\"\"# 이것은 제목입니다\n",
        "## 이것은 소제목입니다\n",
        "### 이것은 소소제목입니다\n",
        "\n",
        "이것은 **굵은글씨** 입니다.\n",
        "이것은 *기울어진 글씨* 입니다.\n",
        "\n",
        "이것은 `코드블록` 입니다.\n",
        "\n",
        "- 이것은 리스트입니다.\n",
        "- 이것은 또 다른 리스트입니다.\n",
        "\n",
        "1. 이것은 숫자 리스트입니다.\n",
        "2. 이것은 또 다른 숫자 리스트입니다.\n",
        "\n",
        "> 이것은 인용입니다.\n",
        "> 이것은 또 다른 인용입니다.\n",
        "\n",
        "---\n",
        "구분선입니다. 아래부터는 어려운 내용입니다. 이번 수업에서는 진행하지 않으셔도 좋습니다.\n",
        "---\n",
        "\n",
        "[이것은 링크입니다](http://www.paullab.co.kr)\n",
        "![이미지](https://paullab.co.kr/images/message_licat.png)\n",
        "\n",
        "| 이것은 | 표입니다 |\n",
        "| --- | --- |\n",
        "| 이것은 | 셀입니다 |\n",
        "| 이것은 | 또 다른 셀입니다 |\n",
        "\n",
        "```python\n",
        "print('hello world')\n",
        "```\"\"\"\n",
        "\n",
        "with open('sample.md','w',encoding='utf-8') as f:\n",
        "    f.write(t)\n",
        "\n",
        "md_to_html(\"sample.md\")\n",
        "# md_to_html(\"python_modules.md\")"
      ],
      "metadata": {
        "colab": {
          "base_uri": "https://localhost:8080/",
          "height": 190
        },
        "id": "a7qRazcdrIOs",
        "outputId": "6e4a3377-fbc4-441d-d7c1-70fff5f528dc"
      },
      "execution_count": 38,
      "outputs": [
        {
          "output_type": "execute_result",
          "data": {
            "text/plain": [
              "\"<h1>이것은 제목입니다</h1>\\n<h2>이것은 소제목입니다</h2>\\n<h3>이것은 소소제목입니다</h3>\\n\\n이것은 <strong>굵은글씨</strong> 입니다.\\n이것은 <i>기울어진 글씨</i> 입니다.\\n\\n이것은 <code>코드블록</code> 입니다.\\n\\n<ul>\\n<li>이것은 리스트입니다.</li>\\n<li>이것은 또 다른 리스트입니다.</li>\\n</ul>\\n\\n<ol>\\n<li>이것은 숫자 리스트입니다.</li>\\n<li>이것은 또 다른 숫자 리스트입니다.</li>\\n</ol>\\n\\n<blockquote>이것은 인용입니다.</blockquote>\\n<blockquote>이것은 또 다른 인용입니다.</blockquote>\\n\\n<hr>\\n구분선입니다. 아래부터는 어려운 내용입니다. 이번 수업에서는 진행하지 않으셔도 좋습니다.\\n<hr>\\n\\n<a href=http://www.paullab.co.kr>이것은 링크입니다</a>\\n<img src=https://paullab.co.kr/images/message_licat.png alt=이미지>\\n\\n\\n| 이것은 | 표입니다 |\\n| --- | --- |\\n| 이것은 | 셀입니다 |\\n| 이것은 | 또 다른 셀입니다 |\\n\\n<pre><code>python\\nprint('hello world')\\n</code></pre>\""
            ],
            "application/vnd.google.colaboratory.intrinsic+json": {
              "type": "string"
            }
          },
          "metadata": {},
          "execution_count": 38
        }
      ]
    }
  ]
}